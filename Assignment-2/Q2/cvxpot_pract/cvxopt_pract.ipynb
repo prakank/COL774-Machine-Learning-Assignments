{
 "cells": [
  {
   "cell_type": "code",
   "execution_count": null,
   "source": [
    "sys.path.append(\"/home/prakank/anaconda3/lib/python3.8/site-packages/\")\n",
    "from cvxopt"
   ],
   "outputs": [],
   "metadata": {}
  }
 ],
 "metadata": {
  "orig_nbformat": 4,
  "language_info": {
   "name": "python"
  }
 },
 "nbformat": 4,
 "nbformat_minor": 2
}