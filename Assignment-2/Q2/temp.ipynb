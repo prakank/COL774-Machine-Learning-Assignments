{
 "cells": [
  {
   "cell_type": "code",
   "execution_count": 3,
   "source": [
    "import os\n",
    "import time\n",
    "import sys\n",
    "import warnings\n",
    "\n",
    "sys.path.append(\"/home/prakank/anaconda3/lib/python3.8/site-packages/\")\n",
    "\n",
    "import scipy\n",
    "import numpy as np\n",
    "from cvxopt import matrix, solvers\n",
    "\n",
    "from sklearn.metrics import accuracy_score\n",
    "from sklearn.model_selection import train_test_split\n",
    "\n",
    "from python.svmutil import *"
   ],
   "outputs": [],
   "metadata": {}
  },
  {
   "cell_type": "code",
   "execution_count": 4,
   "source": [
    "BINARY_CLASSIFICATION = True\n",
    "LAST_DIGIT = 1\n",
    "BASE_DIR = \"../\"\n",
    "train_path = os.path.join(BASE_DIR, \"data\", \"mnist\",\"train.csv\")\n",
    "test_path  = os.path.join(BASE_DIR, \"data\", \"mnist\",\"test.csv\")"
   ],
   "outputs": [],
   "metadata": {}
  },
  {
   "cell_type": "code",
   "execution_count": 5,
   "source": [
    "def load_data(filename, Binary):\n",
    "    data = np.genfromtxt(filename,delimiter=',')\n",
    "    data_x = data[:,:784]/255\n",
    "    data_y = data[:,784]\n",
    "    data_y = data_y.reshape((data_y.shape[0],1))\n",
    "    \n",
    "    if Binary:\n",
    "        data_x = data_x[(data_y==LAST_DIGIT).reshape(-1) | ( data_y==((LAST_DIGIT+1)%10) ).reshape(-1)]\n",
    "        data_y = data_y[(data_y==LAST_DIGIT).reshape(-1) | ( data_y==((LAST_DIGIT+1)%10) ).reshape(-1)]\n",
    "        data_y = -1.0*(data_y==LAST_DIGIT) + 1.0*(data_y==((LAST_DIGIT+1)%10))\n",
    "        \n",
    "    return data_x,data_y"
   ],
   "outputs": [],
   "metadata": {}
  },
  {
   "cell_type": "code",
   "execution_count": 6,
   "source": [
    "# Part B\n",
    "BINARY_CLASSIFICATION = False\n",
    "\n",
    "if not BINARY_CLASSIFICATION:\n",
    "    X_train, Y_train = load_data(train_path, BINARY_CLASSIFICATION)\n",
    "    X_test, Y_test  = load_data(test_path, BINARY_CLASSIFICATION)"
   ],
   "outputs": [],
   "metadata": {}
  },
  {
   "cell_type": "code",
   "execution_count": 6,
   "source": [
    "model = svm_train(Y_train.reshape(-1), X_train, '-s 0 -c 1 -t 2 -g 0.05 -q')\n",
    "label_predict1, accuracy, decision_values=svm_predict(Y_train.reshape(-1),X_train,model,'-q')\n",
    "print(\"Train Accuracy :\", accuracy_score(label_predict1, Y_train))\n",
    "\n",
    "confusion_matrix1 = np.zeros((10,10))\n",
    "for i in range(Y_train.shape[0]):\n",
    "    confusion_matrix1[Y_train[i]][label_predict1[i]] += 1\n",
    "print(\"Training set\")\n",
    "print(confusion_matrix1.astype(int))\n",
    "\n",
    "\n",
    "label_predict2, accuracy, decision_values=svm_predict(Y_test.reshape(-1),X_test,model, '-q')\n",
    "print(\"Test Accuracy :\", accuracy_score(label_predict2, Y_test))\n",
    "\n",
    "confusion_matrix2 = np.zeros((10,10))\n",
    "for i in range(Y_test.shape[0]):\n",
    "    confusion_matrix2[Y_test[i]][label_predict2[i]] += 1\n",
    "print(\"Test set\")\n",
    "print(confusion_matrix2.astype(int))"
   ],
   "outputs": [
    {
     "output_type": "stream",
     "name": "stdout",
     "text": [
      "Train Accuracy : 0.9992\n"
     ]
    },
    {
     "output_type": "error",
     "ename": "IndexError",
     "evalue": "arrays used as indices must be of integer (or boolean) type",
     "traceback": [
      "\u001b[0;31m---------------------------------------------------------------------------\u001b[0m",
      "\u001b[0;31mIndexError\u001b[0m                                Traceback (most recent call last)",
      "\u001b[0;32m/tmp/ipykernel_9368/3568690667.py\u001b[0m in \u001b[0;36m<module>\u001b[0;34m\u001b[0m\n\u001b[1;32m      5\u001b[0m \u001b[0mconfusion_matrix1\u001b[0m \u001b[0;34m=\u001b[0m \u001b[0mnp\u001b[0m\u001b[0;34m.\u001b[0m\u001b[0mzeros\u001b[0m\u001b[0;34m(\u001b[0m\u001b[0;34m(\u001b[0m\u001b[0;36m10\u001b[0m\u001b[0;34m,\u001b[0m\u001b[0;36m10\u001b[0m\u001b[0;34m)\u001b[0m\u001b[0;34m)\u001b[0m\u001b[0;34m\u001b[0m\u001b[0;34m\u001b[0m\u001b[0m\n\u001b[1;32m      6\u001b[0m \u001b[0;32mfor\u001b[0m \u001b[0mi\u001b[0m \u001b[0;32min\u001b[0m \u001b[0mrange\u001b[0m\u001b[0;34m(\u001b[0m\u001b[0mY_train\u001b[0m\u001b[0;34m.\u001b[0m\u001b[0mshape\u001b[0m\u001b[0;34m[\u001b[0m\u001b[0;36m0\u001b[0m\u001b[0;34m]\u001b[0m\u001b[0;34m)\u001b[0m\u001b[0;34m:\u001b[0m\u001b[0;34m\u001b[0m\u001b[0;34m\u001b[0m\u001b[0m\n\u001b[0;32m----> 7\u001b[0;31m     \u001b[0mconfusion_matrix1\u001b[0m\u001b[0;34m[\u001b[0m\u001b[0mY_train\u001b[0m\u001b[0;34m[\u001b[0m\u001b[0mi\u001b[0m\u001b[0;34m]\u001b[0m\u001b[0;34m]\u001b[0m\u001b[0;34m[\u001b[0m\u001b[0mlabel_predict1\u001b[0m\u001b[0;34m[\u001b[0m\u001b[0mi\u001b[0m\u001b[0;34m]\u001b[0m\u001b[0;34m]\u001b[0m \u001b[0;34m+=\u001b[0m \u001b[0;36m1\u001b[0m\u001b[0;34m\u001b[0m\u001b[0;34m\u001b[0m\u001b[0m\n\u001b[0m\u001b[1;32m      8\u001b[0m \u001b[0mprint\u001b[0m\u001b[0;34m(\u001b[0m\u001b[0;34m\"Training set\"\u001b[0m\u001b[0;34m)\u001b[0m\u001b[0;34m\u001b[0m\u001b[0;34m\u001b[0m\u001b[0m\n\u001b[1;32m      9\u001b[0m \u001b[0mprint\u001b[0m\u001b[0;34m(\u001b[0m\u001b[0mconfusion_matrix1\u001b[0m\u001b[0;34m.\u001b[0m\u001b[0mastype\u001b[0m\u001b[0;34m(\u001b[0m\u001b[0mint\u001b[0m\u001b[0;34m)\u001b[0m\u001b[0;34m)\u001b[0m\u001b[0;34m\u001b[0m\u001b[0;34m\u001b[0m\u001b[0m\n",
      "\u001b[0;31mIndexError\u001b[0m: arrays used as indices must be of integer (or boolean) type"
     ]
    }
   ],
   "metadata": {}
  },
  {
   "cell_type": "code",
   "execution_count": 7,
   "source": [
    "Y_train = Y_train.reshape(-1)\n",
    "Y_test = Y_test.reshape(-1)"
   ],
   "outputs": [],
   "metadata": {}
  },
  {
   "cell_type": "code",
   "execution_count": 17,
   "source": [
    "confusion_matrix1 = np.zeros((10,10))\n",
    "for i in range(Y_train.shape[0]):\n",
    "    confusion_matrix1[int(Y_train[i])][int(label_predict1[i])] += 1\n",
    "print(\"Training set\")\n",
    "print(confusion_matrix1.astype(int))\n"
   ],
   "outputs": [
    {
     "output_type": "stream",
     "name": "stdout",
     "text": [
      "Training set\n",
      "[[2000    0    0    0    0    0    0    0    0    0]\n",
      " [   0 1997    1    0    1    0    0    1    0    0]\n",
      " [   0    0 2000    0    0    0    0    0    0    0]\n",
      " [   0    0    0 1999    0    0    0    1    0    0]\n",
      " [   0    0    0    0 1999    0    0    0    0    1]\n",
      " [   0    0    0    0    0 2000    0    0    0    0]\n",
      " [   0    0    0    0    1    0 1999    0    0    0]\n",
      " [   0    2    1    0    1    0    0 1995    0    1]\n",
      " [   0    1    0    0    0    0    0    0 1999    0]\n",
      " [   0    0    0    0    2    0    0    2    0 1996]]\n"
     ]
    }
   ],
   "metadata": {}
  },
  {
   "cell_type": "code",
   "execution_count": 18,
   "source": [
    "label_predict2, accuracy, decision_values=svm_predict(Y_test.reshape(-1),X_test,model, '-q')\n",
    "print(\"Test Accuracy :\", accuracy_score(label_predict2, Y_test))\n",
    "\n",
    "confusion_matrix2 = np.zeros((10,10))\n",
    "for i in range(Y_test.shape[0]):\n",
    "    confusion_matrix2[int(Y_test[i])][int(label_predict2[i])] += 1\n",
    "print(\"Test set\")\n",
    "print(confusion_matrix2.astype(int))"
   ],
   "outputs": [
    {
     "output_type": "stream",
     "name": "stdout",
     "text": [
      "Test Accuracy : 0.9723\n",
      "Test set\n",
      "[[ 969    0    1    0    0    3    4    1    2    0]\n",
      " [   0 1121    3    2    1    2    2    0    3    1]\n",
      " [   4    0 1000    4    2    0    1    6   15    0]\n",
      " [   0    0    8  985    0    4    0    6    5    2]\n",
      " [   0    0    4    0  962    0    6    0    2    8]\n",
      " [   2    0    3    6    1  866    7    1    5    1]\n",
      " [   6    3    0    0    4    4  939    0    2    0]\n",
      " [   1    4   19    2    4    0    0  987    2    9]\n",
      " [   4    0    3   10    1    5    3    3  942    3]\n",
      " [   4    4    3    8   13    4    0    9   12  952]]\n"
     ]
    }
   ],
   "metadata": {}
  },
  {
   "cell_type": "code",
   "execution_count": 26,
   "source": [
    "print(np.sum(confusion_matrix2,axis=1))\n",
    "for i in range(10):\n",
    "    print( 1 - (confusion_matrix2[i][i]/np.sum(confusion_matrix2,axis=1)[i]),(confusion_matrix2[i][i]/np.sum(confusion_matrix2,axis=1)[i]))"
   ],
   "outputs": [
    {
     "output_type": "stream",
     "name": "stdout",
     "text": [
      "[ 980. 1135. 1032. 1010.  982.  892.  958. 1028.  974. 1009.]\n",
      "0.011224489795918391 0.9887755102040816\n",
      "0.012334801762114544 0.9876651982378855\n",
      "0.03100775193798455 0.9689922480620154\n",
      "0.024752475247524774 0.9752475247524752\n",
      "0.020366598778004064 0.9796334012219959\n",
      "0.029147982062780242 0.9708520179372198\n",
      "0.019832985386221247 0.9801670146137788\n",
      "0.03988326848249024 0.9601167315175098\n",
      "0.03285420944558526 0.9671457905544147\n",
      "0.05649157581764119 0.9435084241823588\n"
     ]
    }
   ],
   "metadata": {}
  },
  {
   "cell_type": "code",
   "execution_count": 29,
   "source": [
    "count = 10\n",
    "ind   = []\n",
    "for i in range(Y_test.shape[0]):\n",
    "    if count == 0:\n",
    "        break\n",
    "    if Y_test[i] != label_predict2[i]:\n",
    "        ind.append(i)\n",
    "        count-=1"
   ],
   "outputs": [],
   "metadata": {}
  },
  {
   "cell_type": "code",
   "execution_count": 30,
   "source": [
    "print(ind)"
   ],
   "outputs": [
    {
     "output_type": "stream",
     "name": "stdout",
     "text": [
      "[33, 124, 151, 241, 247, 259, 320, 321, 324, 340]\n"
     ]
    }
   ],
   "metadata": {}
  },
  {
   "cell_type": "code",
   "execution_count": 34,
   "source": [
    "from PIL import Image as im"
   ],
   "outputs": [],
   "metadata": {}
  },
  {
   "cell_type": "code",
   "execution_count": 49,
   "source": [
    "for i in ind:\n",
    "    digit_image = X_test[i]\n",
    "    digit_image = np.array((digit_image.reshape((28,28)))*255).astype(np.uint8)\n",
    "    data = im.fromarray(digit_image)\n",
    "    data.save(\"Ind:\" + str(i) + \"_orig:\" + str(int(Y_test[i][0]))  + \"_pred:\" + str(int(label_predict2[i]))+\"_.png\")"
   ],
   "outputs": [],
   "metadata": {}
  },
  {
   "cell_type": "code",
   "execution_count": 8,
   "source": [
    "import time\n",
    "from sklearn.model_selection import train_test_split\n",
    "\n",
    "# x_train, x_val, y_train, y_val = train_test_split(X_train, Y_train, test_size = 0.2)\n",
    "C_list = [1e-5, 1e-3, 1, 5, 10]\n",
    "\n",
    "acc_train = []\n",
    "acc_pred  = []\n",
    "time_list = []\n",
    "\n",
    "for C in C_list:\n",
    "    print(\"\\nValue of C: \" + str(C))\n",
    "    start = time.time()\n",
    "    \n",
    "    x_train, x_val, y_train, y_val = train_test_split(X_train, Y_train, test_size = 0.2)\n",
    "    command = '-s 0 -t 2 -g 0.05 -c ' + str(C) + ' -q'\n",
    "    model = svm_train(y_train.reshape(-1), x_train, command)\n",
    "    \n",
    "    y_pred, accuracy, dec_values = svm_predict(y_val.reshape(-1), x_val, model, '-q')\n",
    "    temp_acc = accuracy_score(y_pred, y_val)\n",
    "    print(\"Validation Set (Dev set): {}\".format(temp_acc))\n",
    "    acc_train.append(temp_acc)\n",
    "\n",
    "    \n",
    "    y_pred, accuracy, dec_values = svm_predict(Y_test.reshape(-1), X_test, model, '-q')\n",
    "    temp_acc = accuracy_score(y_pred, Y_test)\n",
    "    print(\"Test Set (Dev set): {}\".format(temp_acc))\n",
    "    acc_pred.append(temp_acc)\n",
    "    \n",
    "    end = time.time()\n",
    "    \n",
    "    time_list.append(round(end-start,5))\n",
    "\n"
   ],
   "outputs": [
    {
     "output_type": "stream",
     "name": "stdout",
     "text": [
      "\n",
      "Value of C: 1e-05\n",
      "Validation Set (Dev set): 0.09275\n",
      "Test Set (Dev set): 0.1009\n",
      "\n",
      "Value of C: 0.001\n",
      "Validation Set (Dev set): 0.0935\n",
      "Test Set (Dev set): 0.1009\n",
      "\n",
      "Value of C: 1\n",
      "Validation Set (Dev set): 0.97175\n",
      "Test Set (Dev set): 0.9705\n",
      "\n",
      "Value of C: 5\n",
      "Validation Set (Dev set): 0.97325\n",
      "Test Set (Dev set): 0.9715\n",
      "\n",
      "Value of C: 10\n",
      "Validation Set (Dev set): 0.97125\n",
      "Test Set (Dev set): 0.9706\n"
     ]
    }
   ],
   "metadata": {}
  },
  {
   "cell_type": "code",
   "execution_count": null,
   "source": [
    "# Value of C: 1e-05\n",
    "# Validation Set (Dev set): 0.09275\n",
    "# Test Set (Dev set): 0.1009\n",
    "\n",
    "# Value of C: 0.001\n",
    "# Validation Set (Dev set): 0.0935\n",
    "# Test Set (Dev set): 0.1009\n",
    "\n",
    "# Value of C: 1\n",
    "# Validation Set (Dev set): 0.97175\n",
    "# Test Set (Dev set): 0.9705\n",
    "\n",
    "# Value of C: 5\n",
    "# Validation Set (Dev set): 0.97325\n",
    "# Test Set (Dev set): 0.9715\n",
    "\n",
    "# Value of C: 10\n",
    "# Validation Set (Dev set): 0.97125\n",
    "# Test Set (Dev set): 0.9706"
   ],
   "outputs": [],
   "metadata": {}
  },
  {
   "cell_type": "code",
   "execution_count": 10,
   "source": [
    "y1 = [0.09275, 0.0935, 0.97175, 0.97325, 0.97125]\n",
    "y2 = [0.1009, 0.1009, 0.9705, 0.9715, 0.9706]\n",
    "x = [1e-5, 1e-3, 1, 5, 10]"
   ],
   "outputs": [],
   "metadata": {}
  },
  {
   "cell_type": "code",
   "execution_count": 11,
   "source": [
    "import numpy as np\n",
    "import matplotlib.pyplot as plt"
   ],
   "outputs": [],
   "metadata": {}
  },
  {
   "cell_type": "code",
   "execution_count": 12,
   "source": [
    "x  = np.array(x)\n",
    "y1 = np.array(y1)\n",
    "y2 = np.array(y2)\n"
   ],
   "outputs": [],
   "metadata": {}
  },
  {
   "cell_type": "code",
   "execution_count": 16,
   "source": [
    "plt.title('5-fold cross-validation accuracy and Test Accuracy')\n",
    "plt.xlabel('log(C)')\n",
    "plt.ylabel('Accuracy')\n",
    "plt.scatter(np.log10(x),y1,color='red',label='Cross-validation')\n",
    "plt.scatter(np.log10(x),y2,color='blue',label='Test accuracy')\n",
    "plt.legend()\n",
    "plt.savefig('Cross-validation accuracy and Test Accuracy.jpg')\n",
    "plt.show()"
   ],
   "outputs": [
    {
     "output_type": "display_data",
     "data": {
      "image/png": "[encoded data removed]",
      "text/plain": [
       "<Figure size 432x288 with 1 Axes>"
      ]
     },
     "metadata": {
      "needs_background": "light"
     }
    }
   ],
   "metadata": {}
  },
  {
   "cell_type": "code",
   "execution_count": null,
   "source": [],
   "outputs": [],
   "metadata": {}
  }
 ],
 "metadata": {
  "orig_nbformat": 4,
  "language_info": {
   "name": "python",
   "version": "3.8.10",
   "mimetype": "text/x-python",
   "codemirror_mode": {
    "name": "ipython",
    "version": 3
   },
   "pygments_lexer": "ipython3",
   "nbconvert_exporter": "python",
   "file_extension": ".py"
  },
  "kernelspec": {
   "name": "python3",
   "display_name": "Python 3.8.10 64-bit"
  },
  "interpreter": {
   "hash": "916dbcbb3f70747c44a77c7bcd40155683ae19c65e1c03b4aa3499c5328201f1"
  }
 },
 "nbformat": 4,
 "nbformat_minor": 2
}