{
 "cells": [
  {
   "cell_type": "code",
   "execution_count": 22,
   "source": [
    "import os\n",
    "import time\n",
    "import sys\n",
    "import warnings\n",
    "\n",
    "sys.path.append(\"/home/prakank/anaconda3/lib/python3.8/site-packages/\")\n",
    "\n",
    "import scipy\n",
    "import numpy as np\n",
    "from cvxopt import matrix, solvers\n",
    "\n",
    "from sklearn.metrics import accuracy_score\n",
    "from sklearn.model_selection import train_test_split\n",
    "\n",
    "from libsvm_util.svmutil import *"
   ],
   "outputs": [],
   "metadata": {}
  },
  {
   "cell_type": "code",
   "execution_count": 30,
   "source": [
    "BINARY_CLASSIFICATION = True\n",
    "LAST_DIGIT = 1\n",
    "BASE_DIR = \"../\"\n",
    "train_path = os.path.join(BASE_DIR, \"data\", \"mnist\",\"train.csv\")\n",
    "test_path  = os.path.join(BASE_DIR, \"data\", \"mnist\",\"test.csv\")"
   ],
   "outputs": [],
   "metadata": {}
  },
  {
   "cell_type": "code",
   "execution_count": 68,
   "source": [
    "def load_data(filename, Binary):\n",
    "    data = np.genfromtxt(filename,delimiter=',')\n",
    "    data_x = data[:,:784]/255\n",
    "    data_y = data[:,784]\n",
    "    data_y = data_y.reshape((data_y.shape[0],1))\n",
    "    \n",
    "    if Binary:\n",
    "        data_x = data_x[(data_y==LAST_DIGIT).reshape(-1) | ( data_y==((LAST_DIGIT+1)%10) ).reshape(-1)]\n",
    "        data_y = data_y[(data_y==LAST_DIGIT).reshape(-1) | ( data_y==((LAST_DIGIT+1)%10) ).reshape(-1)]\n",
    "        data_y = -1.0*(data_y==LAST_DIGIT) + 1.0*(data_y==((LAST_DIGIT+1)%10))\n",
    "        \n",
    "    return data_x,data_y"
   ],
   "outputs": [],
   "metadata": {}
  },
  {
   "cell_type": "code",
   "execution_count": null,
   "source": [
    "def linear_kernel(X,y):\n",
    "    mat = X*y\n",
    "    return np.inner(np.array(X),np.array(z))\n",
    "\n",
    "def gaussian_kernel(X,z):"
   ],
   "outputs": [],
   "metadata": {}
  },
  {
   "cell_type": "code",
   "execution_count": 69,
   "source": [
    "if BINARY_CLASSIFICATION:\n",
    "    X_train, Y_train = load_data(train_path, BINARY_CLASSIFICATION)\n",
    "    X_test, Y_test  = load_data(test_path, BINARY_CLASSIFICATION)\n",
    "    \n",
    "    \n",
    "    "
   ],
   "outputs": [],
   "metadata": {}
  },
  {
   "cell_type": "code",
   "execution_count": null,
   "source": [],
   "outputs": [],
   "metadata": {}
  },
  {
   "cell_type": "code",
   "execution_count": null,
   "source": [],
   "outputs": [],
   "metadata": {}
  }
 ],
 "metadata": {
  "orig_nbformat": 4,
  "language_info": {
   "name": "python",
   "version": "3.8.10",
   "mimetype": "text/x-python",
   "codemirror_mode": {
    "name": "ipython",
    "version": 3
   },
   "pygments_lexer": "ipython3",
   "nbconvert_exporter": "python",
   "file_extension": ".py"
  },
  "kernelspec": {
   "name": "python3",
   "display_name": "Python 3.8.10 64-bit"
  },
  "interpreter": {
   "hash": "916dbcbb3f70747c44a77c7bcd40155683ae19c65e1c03b4aa3499c5328201f1"
  }
 },
 "nbformat": 4,
 "nbformat_minor": 2
}