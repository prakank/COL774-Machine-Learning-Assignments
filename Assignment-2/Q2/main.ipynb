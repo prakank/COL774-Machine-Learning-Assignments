{
 "cells": [
  {
   "cell_type": "code",
   "execution_count": 22,
   "source": [
    "import os\n",
    "import time\n",
    "import sys\n",
    "import warnings\n",
    "\n",
    "sys.path.append(\"/home/prakank/anaconda3/lib/python3.8/site-packages/\")\n",
    "\n",
    "import scipy\n",
    "import numpy as np\n",
    "from cvxopt import matrix, solvers\n",
    "\n",
    "from sklearn.metrics import accuracy_score\n",
    "from sklearn.model_selection import train_test_split\n",
    "\n",
    "from libsvm_util.svmutil import *"
   ],
   "outputs": [],
   "metadata": {}
  },
  {
   "cell_type": "code",
   "execution_count": 30,
   "source": [
    "BINARY_CLASSIFICATION = True\n",
    "LAST_DIGIT = 1\n",
    "BASE_DIR = \"../\"\n",
    "train_path = os.path.join(BASE_DIR, \"data\", \"mnist\",\"train.csv\")\n",
    "test_path  = os.path.join(BASE_DIR, \"data\", \"mnist\",\"test.csv\")"
   ],
   "outputs": [],
   "metadata": {}
  },
  {
   "cell_type": "code",
   "execution_count": 68,
   "source": [
    "def load_data(filename, Binary):\n",
    "    data = np.genfromtxt(filename,delimiter=',')\n",
    "    data_x = data[:,:784]/255\n",
    "    data_y = data[:,784]\n",
    "    data_y = data_y.reshape((data_y.shape[0],1))\n",
    "    \n",
    "    if Binary:\n",
    "        data_x = data_x[(data_y==LAST_DIGIT).reshape(-1) | ( data_y==((LAST_DIGIT+1)%10) ).reshape(-1)]\n",
    "        data_y = data_y[(data_y==LAST_DIGIT).reshape(-1) | ( data_y==((LAST_DIGIT+1)%10) ).reshape(-1)]\n",
    "        data_y = -1.0*(data_y==LAST_DIGIT) + 1.0*(data_y==((LAST_DIGIT+1)%10))\n",
    "        \n",
    "    return data_x,data_y"
   ],
   "outputs": [],
   "metadata": {}
  },
  {
   "cell_type": "code",
   "execution_count": null,
   "source": [
    "def linear_kernel(X,y):\n",
    "    mat = np.array(X*y)\n",
    "    return np.dot(mat, mat.T)\n",
    "\n",
    "def gaussian_kernel(X,z):\n",
    "    pass"
   ],
   "outputs": [],
   "metadata": {}
  },
  {
   "cell_type": "code",
   "execution_count": null,
   "source": [
    "class SVM:\n",
    "    def __init__(self,kernel,C):\n",
    "        if kernel == \"liner\":\n",
    "            self.kernel = linear_kernel\n",
    "        else:\n",
    "            self.kernel = gaussian_kernel\n",
    "            \n",
    "        self.C = float(C)\n",
    "    \n",
    "    def train(self, X_train, Y_train):\n",
    "        # minimizing function\n",
    "        if self.kernel == linear_kernel:\n",
    "            P = matrix(self.kernel(X_train,Y_train))\n",
    "        else:\n",
    "            pass\n",
    "        P = .5 * (P + P.T)  # Just to be on the safe side (ensuring P is symmetric)\n",
    "        q = matrix(-1.0*np.ones((X_train.shape[0],1)))\n",
    "        c = 0.0\n",
    "        \n",
    "        # Inequalities\n",
    "        pos = np.ones(X_train.shape[0])\n",
    "        neg = -np.ones(X_train.shape[0])\n",
    "        G   = matrix(np.diag(np.concatenate((pos,neg)).reshape(-1)))\n",
    "        \n",
    "        zer   = np.zeros((X_train.shape[0]))\n",
    "        c_val = self.C*np.ones(X_train.shape[0])\n",
    "        h     = matrix(np.concatenate((zer,c_val)))\n",
    "        \n",
    "        # Equality\n",
    "        A = matrix(Y_train.reshape(-1))\n",
    "        b = 0.0\n",
    "        \n",
    "        solvers.options['show_progress'] = True\n",
    "        sol = solvers.qp(P, q, G, h, A, b);\n",
    "        print(sol)"
   ],
   "outputs": [],
   "metadata": {}
  },
  {
   "cell_type": "code",
   "execution_count": 69,
   "source": [
    "if BINARY_CLASSIFICATION:\n",
    "    X_train, Y_train = load_data(train_path, BINARY_CLASSIFICATION)\n",
    "    X_test, Y_test  = load_data(test_path, BINARY_CLASSIFICATION)\n",
    "    \n",
    "    \n",
    "    "
   ],
   "outputs": [],
   "metadata": {}
  },
  {
   "cell_type": "code",
   "execution_count": null,
   "source": [],
   "outputs": [],
   "metadata": {}
  }
 ],
 "metadata": {
  "orig_nbformat": 4,
  "language_info": {
   "name": "python",
   "version": "3.8.10",
   "mimetype": "text/x-python",
   "codemirror_mode": {
    "name": "ipython",
    "version": 3
   },
   "pygments_lexer": "ipython3",
   "nbconvert_exporter": "python",
   "file_extension": ".py"
  },
  "kernelspec": {
   "name": "python3",
   "display_name": "Python 3.8.10 64-bit"
  },
  "interpreter": {
   "hash": "916dbcbb3f70747c44a77c7bcd40155683ae19c65e1c03b4aa3499c5328201f1"
  }
 },
 "nbformat": 4,
 "nbformat_minor": 2
}