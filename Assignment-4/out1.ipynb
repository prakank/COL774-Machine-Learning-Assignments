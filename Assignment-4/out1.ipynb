Train Dataset loaded
Optimizer loaded
Train Loader loaded
Epoch 1
Working (10, 200) torch.Size([10, 9])
Normal torch.Size([10, 9]) torch.Size([10, 9, 2512])
Epoch:0, Iteration: 1, Loss: 7.85, TimeElapsed: 0.05Min
Working (10, 200) torch.Size([10, 9])
Normal torch.Size([10, 9]) torch.Size([10, 9, 2512])
Epoch:0, Iteration: 2, Loss: 19.52, TimeElapsed: 0.11Min
Working (10, 200) torch.Size([10, 9])
Normal torch.Size([10, 9]) torch.Size([10, 9, 2512])
Epoch:0, Iteration: 3, Loss: 41.53, TimeElapsed: 0.16Min
Working (10, 200) torch.Size([10, 9])
Normal torch.Size([10, 9]) torch.Size([10, 9, 2512])
Epoch:0, Iteration: 4, Loss: 51.66, TimeElapsed: 0.21Min
Working (10, 200) torch.Size([10, 9])
Normal torch.Size([10, 9]) torch.Size([10, 9, 2512])
Epoch:0, Iteration: 5, Loss: 56.27, TimeElapsed: 0.27Min
Working (10, 200) torch.Size([10, 9])
Normal torch.Size([10, 9]) torch.Size([10, 9, 2512])
Epoch:0, Iteration: 6, Loss: 60.0, TimeElapsed: 0.32Min
Working (10, 200) torch.Size([10, 9])
Normal torch.Size([10, 9]) torch.Size([10, 9, 2512])
Epoch:0, Iteration: 7, Loss: 64.25, TimeElapsed: 0.37Min
Working (10, 200) torch.Size([10, 9])
Normal torch.Size([10, 9]) torch.Size([10, 9, 2512])
Epoch:0, Iteration: 8, Loss: 66.21, TimeElapsed: 0.42Min
Working (10, 200) torch.Size([10, 9])
Normal torch.Size([10, 9]) torch.Size([10, 9, 2512])
Epoch:0, Iteration: 9, Loss: 51.96, TimeElapsed: 0.47Min
Working (10, 200) torch.Size([10, 9])
Normal torch.Size([10, 9]) torch.Size([10, 9, 2512])
Epoch:0, Iteration: 10, Loss: 50.3, TimeElapsed: 0.5Min
Working (10, 200) torch.Size([10, 9])
Normal torch.Size([10, 9]) torch.Size([10, 9, 2512])
Epoch:0, Iteration: 11, Loss: 67.45, TimeElapsed: 0.54Min
Working (10, 200) torch.Size([10, 9])
Normal torch.Size([10, 9]) torch.Size([10, 9, 2512])
Epoch:0, Iteration: 12, Loss: 69.09, TimeElapsed: 0.58Min
Working (10, 200) torch.Size([10, 9])
Normal torch.Size([10, 9]) torch.Size([10, 9, 2512])
Epoch:0, Iteration: 13, Loss: 72.34, TimeElapsed: 0.62Min
Working (10, 200) torch.Size([10, 9])
Normal torch.Size([10, 9]) torch.Size([10, 9, 2512])
Epoch:0, Iteration: 14, Loss: 76.75, TimeElapsed: 0.66Min
Working (10, 200) torch.Size([10, 9])
Normal torch.Size([10, 9]) torch.Size([10, 9, 2512])
Epoch:0, Iteration: 15, Loss: 80.58, TimeElapsed: 0.7Min
Working (10, 200) torch.Size([10, 9])
Normal torch.Size([10, 9]) torch.Size([10, 9, 2512])
Epoch:0, Iteration: 16, Loss: 79.27, TimeElapsed: 0.74Min
Working (10, 200) torch.Size([10, 9])
Normal torch.Size([10, 9]) torch.Size([10, 9, 2512])
Epoch:0, Iteration: 17, Loss: 98.97, TimeElapsed: 0.78Min
Working (10, 200) torch.Size([10, 9])
Normal torch.Size([10, 9]) torch.Size([10, 9, 2512])
Epoch:0, Iteration: 18, Loss: 73.48, TimeElapsed: 0.82Min
Working (10, 200) torch.Size([10, 9])
Normal torch.Size([10, 9]) torch.Size([10, 9, 2512])
Epoch:0, Iteration: 19, Loss: 70.71, TimeElapsed: 0.86Min
Working (10, 200) torch.Size([10, 9])
Normal torch.Size([10, 9]) torch.Size([10, 9, 2512])
Epoch:0, Iteration: 20, Loss: 75.64, TimeElapsed: 0.89Min
Working (10, 200) torch.Size([10, 9])
Normal torch.Size([10, 9]) torch.Size([10, 9, 2512])
Epoch:0, Iteration: 21, Loss: 76.29, TimeElapsed: 0.93Min
Working (10, 200) torch.Size([10, 9])
Normal torch.Size([10, 9]) torch.Size([10, 9, 2512])
Epoch:0, Iteration: 22, Loss: 83.9, TimeElapsed: 0.98Min
Working (10, 200) torch.Size([10, 9])
Normal torch.Size([10, 9]) torch.Size([10, 9, 2512])
Epoch:0, Iteration: 23, Loss: 75.31, TimeElapsed: 1.02Min
Working (10, 200) torch.Size([10, 9])
Normal torch.Size([10, 9]) torch.Size([10, 9, 2512])
Epoch:0, Iteration: 24, Loss: 61.4, TimeElapsed: 1.05Min
Working (10, 200) torch.Size([10, 9])
Normal torch.Size([10, 9]) torch.Size([10, 9, 2512])
Epoch:0, Iteration: 25, Loss: 87.5, TimeElapsed: 1.09Min
Working (10, 200) torch.Size([10, 9])
Normal torch.Size([10, 9]) torch.Size([10, 9, 2512])
Epoch:0, Iteration: 26, Loss: 79.0, TimeElapsed: 1.13Min
Working (10, 200) torch.Size([10, 9])
Normal torch.Size([10, 9]) torch.Size([10, 9, 2512])
Epoch:0, Iteration: 27, Loss: 101.67, TimeElapsed: 1.17Min
Working (10, 200) torch.Size([10, 9])
Normal torch.Size([10, 9]) torch.Size([10, 9, 2512])
Epoch:0, Iteration: 28, Loss: 76.89, TimeElapsed: 1.2Min
Working (10, 200) torch.Size([10, 9])
Normal torch.Size([10, 9]) torch.Size([10, 9, 2512])
Epoch:0, Iteration: 29, Loss: 82.19, TimeElapsed: 1.24Min
Working (10, 200) torch.Size([10, 9])
Normal torch.Size([10, 9]) torch.Size([10, 9, 2512])
Epoch:0, Iteration: 30, Loss: 86.11, TimeElapsed: 1.28Min
Working (10, 200) torch.Size([10, 9])
Normal torch.Size([10, 9]) torch.Size([10, 9, 2512])
Epoch:0, Iteration: 31, Loss: 75.71, TimeElapsed: 1.31Min
Working (10, 200) torch.Size([10, 9])
Normal torch.Size([10, 9]) torch.Size([10, 9, 2512])
Epoch:0, Iteration: 32, Loss: 69.59, TimeElapsed: 1.35Min
Working (10, 200) torch.Size([10, 9])
Normal torch.Size([10, 9]) torch.Size([10, 9, 2512])
Epoch:0, Iteration: 33, Loss: 51.04, TimeElapsed: 1.39Min
Working (10, 200) torch.Size([10, 9])
Normal torch.Size([10, 9]) torch.Size([10, 9, 2512])
Epoch:0, Iteration: 34, Loss: 82.09, TimeElapsed: 1.43Min
Working (10, 200) torch.Size([10, 9])
Normal torch.Size([10, 9]) torch.Size([10, 9, 2512])
Epoch:0, Iteration: 35, Loss: 91.47, TimeElapsed: 1.46Min
Working (10, 200) torch.Size([10, 9])
Normal torch.Size([10, 9]) torch.Size([10, 9, 2512])
Epoch:0, Iteration: 36, Loss: 80.16, TimeElapsed: 1.5Min
Working (10, 200) torch.Size([10, 9])
Normal torch.Size([10, 9]) torch.Size([10, 9, 2512])
Epoch:0, Iteration: 37, Loss: 71.57, TimeElapsed: 1.54Min
Working (10, 200) torch.Size([10, 9])
Normal torch.Size([10, 9]) torch.Size([10, 9, 2512])
Epoch:0, Iteration: 38, Loss: 105.41, TimeElapsed: 1.57Min
Working (10, 200) torch.Size([10, 9])
Normal torch.Size([10, 9]) torch.Size([10, 9, 2512])
Epoch:0, Iteration: 39, Loss: 87.15, TimeElapsed: 1.61Min
Working (10, 200) torch.Size([10, 9])
Normal torch.Size([10, 9]) torch.Size([10, 9, 2512])
Epoch:0, Iteration: 40, Loss: 89.29, TimeElapsed: 1.65Min
Working (10, 200) torch.Size([10, 9])
Normal torch.Size([10, 9]) torch.Size([10, 9, 2512])
Epoch:0, Iteration: 41, Loss: 103.58, TimeElapsed: 1.69Min
Working (10, 200) torch.Size([10, 9])
Normal torch.Size([10, 9]) torch.Size([10, 9, 2512])
Epoch:0, Iteration: 42, Loss: 97.39, TimeElapsed: 1.72Min
Working (10, 200) torch.Size([10, 9])
Normal torch.Size([10, 9]) torch.Size([10, 9, 2512])
Epoch:0, Iteration: 43, Loss: 86.36, TimeElapsed: 1.76Min
Working (10, 200) torch.Size([10, 9])
Normal torch.Size([10, 9]) torch.Size([10, 9, 2512])
Epoch:0, Iteration: 44, Loss: 106.95, TimeElapsed: 1.8Min
Working (10, 200) torch.Size([10, 9])
Normal torch.Size([10, 9]) torch.Size([10, 9, 2512])
Epoch:0, Iteration: 45, Loss: 90.12, TimeElapsed: 1.84Min
Working (10, 200) torch.Size([10, 9])
Normal torch.Size([10, 9]) torch.Size([10, 9, 2512])
Epoch:0, Iteration: 46, Loss: 63.93, TimeElapsed: 1.87Min
Working (10, 200) torch.Size([10, 9])
Normal torch.Size([10, 9]) torch.Size([10, 9, 2512])
Epoch:0, Iteration: 47, Loss: 128.21, TimeElapsed: 1.91Min
Working (10, 200) torch.Size([10, 9])
Normal torch.Size([10, 9]) torch.Size([10, 9, 2512])
Epoch:0, Iteration: 48, Loss: 81.48, TimeElapsed: 1.95Min
Working (10, 200) torch.Size([10, 9])
Normal torch.Size([10, 9]) torch.Size([10, 9, 2512])
Epoch:0, Iteration: 49, Loss: 70.77, TimeElapsed: 1.99Min
Working (10, 200) torch.Size([10, 9])
Normal torch.Size([10, 9]) torch.Size([10, 9, 2512])
Epoch:0, Iteration: 50, Loss: 59.63, TimeElapsed: 2.02Min
Working (10, 200) torch.Size([10, 9])
Normal torch.Size([10, 9]) torch.Size([10, 9, 2512])
Epoch:0, Iteration: 51, Loss: 108.37, TimeElapsed: 2.06Min
Working (10, 200) torch.Size([10, 9])
Normal torch.Size([10, 9]) torch.Size([10, 9, 2512])
Epoch:0, Iteration: 52, Loss: 97.13, TimeElapsed: 2.1Min
Working (10, 200) torch.Size([10, 9])
Normal torch.Size([10, 9]) torch.Size([10, 9, 2512])
Epoch:0, Iteration: 53, Loss: 77.88, TimeElapsed: 2.14Min
Working (10, 200) torch.Size([10, 9])
Normal torch.Size([10, 9]) torch.Size([10, 9, 2512])
Epoch:0, Iteration: 54, Loss: 96.44, TimeElapsed: 2.17Min
Working (10, 200) torch.Size([10, 9])
Normal torch.Size([10, 9]) torch.Size([10, 9, 2512])
Epoch:0, Iteration: 55, Loss: 99.33, TimeElapsed: 2.21Min
Working (10, 200) torch.Size([10, 9])
Normal torch.Size([10, 9]) torch.Size([10, 9, 2512])
Epoch:0, Iteration: 56, Loss: 76.46, TimeElapsed: 2.25Min
Working (10, 200) torch.Size([10, 9])
Normal torch.Size([10, 9]) torch.Size([10, 9, 2512])
Epoch:0, Iteration: 57, Loss: 88.17, TimeElapsed: 2.29Min
Working (10, 200) torch.Size([10, 9])
Normal torch.Size([10, 9]) torch.Size([10, 9, 2512])
Epoch:0, Iteration: 58, Loss: 81.38, TimeElapsed: 2.32Min
Working (10, 200) torch.Size([10, 9])
Normal torch.Size([10, 9]) torch.Size([10, 9, 2512])
Epoch:0, Iteration: 59, Loss: 84.95, TimeElapsed: 2.36Min
Working (10, 200) torch.Size([10, 9])
Normal torch.Size([10, 9]) torch.Size([10, 9, 2512])
Epoch:0, Iteration: 60, Loss: 83.39, TimeElapsed: 2.4Min
Working (10, 200) torch.Size([10, 9])
Normal torch.Size([10, 9]) torch.Size([10, 9, 2512])
Epoch:0, Iteration: 61, Loss: 98.26, TimeElapsed: 2.43Min
Working (10, 200) torch.Size([10, 9])
Normal torch.Size([10, 9]) torch.Size([10, 9, 2512])
Epoch:0, Iteration: 62, Loss: 89.89, TimeElapsed: 2.47Min
Working (10, 200) torch.Size([10, 9])
Normal torch.Size([10, 9]) torch.Size([10, 9, 2512])
Epoch:0, Iteration: 63, Loss: 89.53, TimeElapsed: 2.51Min
Working (10, 200) torch.Size([10, 9])
Normal torch.Size([10, 9]) torch.Size([10, 9, 2512])
Epoch:0, Iteration: 64, Loss: 93.11, TimeElapsed: 2.54Min
Working (10, 200) torch.Size([10, 9])
Normal torch.Size([10, 9]) torch.Size([10, 9, 2512])
Epoch:0, Iteration: 65, Loss: 82.1, TimeElapsed: 2.58Min
Working (10, 200) torch.Size([10, 9])
Normal torch.Size([10, 9]) torch.Size([10, 9, 2512])
Epoch:0, Iteration: 66, Loss: 92.93, TimeElapsed: 2.62Min
Working (10, 200) torch.Size([10, 9])
Normal torch.Size([10, 9]) torch.Size([10, 9, 2512])
Epoch:0, Iteration: 67, Loss: 120.06, TimeElapsed: 2.66Min
Working (10, 200) torch.Size([10, 9])
Normal torch.Size([10, 9]) torch.Size([10, 9, 2512])
Epoch:0, Iteration: 68, Loss: 93.23, TimeElapsed: 2.69Min
Working (10, 200) torch.Size([10, 9])
Normal torch.Size([10, 9]) torch.Size([10, 9, 2512])
Epoch:0, Iteration: 69, Loss: 90.81, TimeElapsed: 2.73Min
Working (10, 200) torch.Size([10, 9])
Normal torch.Size([10, 9]) torch.Size([10, 9, 2512])
Epoch:0, Iteration: 70, Loss: 93.82, TimeElapsed: 2.77Min
Working (10, 200) torch.Size([10, 9])
Normal torch.Size([10, 9]) torch.Size([10, 9, 2512])
Epoch:0, Iteration: 71, Loss: 108.75, TimeElapsed: 2.81Min
Working (10, 200) torch.Size([10, 9])
Normal torch.Size([10, 9]) torch.Size([10, 9, 2512])
Epoch:0, Iteration: 72, Loss: 92.04, TimeElapsed: 2.84Min
Working (10, 200) torch.Size([10, 9])
Normal torch.Size([10, 9]) torch.Size([10, 9, 2512])
Epoch:0, Iteration: 73, Loss: 117.41, TimeElapsed: 2.88Min
Working (10, 200) torch.Size([10, 9])
Normal torch.Size([10, 9]) torch.Size([10, 9, 2512])
Epoch:0, Iteration: 74, Loss: 93.19, TimeElapsed: 2.92Min
Working (10, 200) torch.Size([10, 9])
Normal torch.Size([10, 9]) torch.Size([10, 9, 2512])
Epoch:0, Iteration: 75, Loss: 109.36, TimeElapsed: 2.95Min
Working (10, 200) torch.Size([10, 9])
Normal torch.Size([10, 9]) torch.Size([10, 9, 2512])
Epoch:0, Iteration: 76, Loss: 95.84, TimeElapsed: 2.99Min
Working (10, 200) torch.Size([10, 9])
Normal torch.Size([10, 9]) torch.Size([10, 9, 2512])
Epoch:0, Iteration: 77, Loss: 94.79, TimeElapsed: 3.03Min
Working (10, 200) torch.Size([10, 9])
Normal torch.Size([10, 9]) torch.Size([10, 9, 2512])
Epoch:0, Iteration: 78, Loss: 97.51, TimeElapsed: 3.07Min
Working (10, 200) torch.Size([10, 9])
Normal torch.Size([10, 9]) torch.Size([10, 9, 2512])
Epoch:0, Iteration: 79, Loss: 91.83, TimeElapsed: 3.1Min
Working (10, 200) torch.Size([10, 9])
Normal torch.Size([10, 9]) torch.Size([10, 9, 2512])
Epoch:0, Iteration: 80, Loss: 106.31, TimeElapsed: 3.14Min
Working (10, 200) torch.Size([10, 9])
Normal torch.Size([10, 9]) torch.Size([10, 9, 2512])
Epoch:0, Iteration: 81, Loss: 75.93, TimeElapsed: 3.18Min
Working (10, 200) torch.Size([10, 9])
Normal torch.Size([10, 9]) torch.Size([10, 9, 2512])
Epoch:0, Iteration: 82, Loss: 85.35, TimeElapsed: 3.21Min
Working (10, 200) torch.Size([10, 9])
Normal torch.Size([10, 9]) torch.Size([10, 9, 2512])
Epoch:0, Iteration: 83, Loss: 78.17, TimeElapsed: 3.25Min
Working (10, 200) torch.Size([10, 9])
Normal torch.Size([10, 9]) torch.Size([10, 9, 2512])
Epoch:0, Iteration: 84, Loss: 83.99, TimeElapsed: 3.29Min
Working (10, 200) torch.Size([10, 9])
Normal torch.Size([10, 9]) torch.Size([10, 9, 2512])
Epoch:0, Iteration: 85, Loss: 84.91, TimeElapsed: 3.33Min
Working (10, 200) torch.Size([10, 9])
Normal torch.Size([10, 9]) torch.Size([10, 9, 2512])
Epoch:0, Iteration: 86, Loss: 82.06, TimeElapsed: 3.36Min
Working (10, 200) torch.Size([10, 9])
Normal torch.Size([10, 9]) torch.Size([10, 9, 2512])
Epoch:0, Iteration: 87, Loss: 97.72, TimeElapsed: 3.4Min
Working (10, 200) torch.Size([10, 9])
Normal torch.Size([10, 9]) torch.Size([10, 9, 2512])
Epoch:0, Iteration: 88, Loss: 101.73, TimeElapsed: 3.44Min
Working (10, 200) torch.Size([10, 9])
Normal torch.Size([10, 9]) torch.Size([10, 9, 2512])
Epoch:0, Iteration: 89, Loss: 120.2, TimeElapsed: 3.47Min
Working (10, 200) torch.Size([10, 9])
Normal torch.Size([10, 9]) torch.Size([10, 9, 2512])
Epoch:0, Iteration: 90, Loss: 88.53, TimeElapsed: 3.51Min
Working (10, 200) torch.Size([10, 9])
Normal torch.Size([10, 9]) torch.Size([10, 9, 2512])
Epoch:0, Iteration: 91, Loss: 94.6, TimeElapsed: 3.55Min
Working (10, 200) torch.Size([10, 9])
Normal torch.Size([10, 9]) torch.Size([10, 9, 2512])
Epoch:0, Iteration: 92, Loss: 77.33, TimeElapsed: 3.59Min
Working (10, 200) torch.Size([10, 9])
Normal torch.Size([10, 9]) torch.Size([10, 9, 2512])
Epoch:0, Iteration: 93, Loss: 106.51, TimeElapsed: 3.63Min
Working (10, 200) torch.Size([10, 9])
Normal torch.Size([10, 9]) torch.Size([10, 9, 2512])
Epoch:0, Iteration: 94, Loss: 69.51, TimeElapsed: 3.66Min
Working (10, 200) torch.Size([10, 9])
Normal torch.Size([10, 9]) torch.Size([10, 9, 2512])
Epoch:0, Iteration: 95, Loss: 110.76, TimeElapsed: 3.7Min
Working (10, 200) torch.Size([10, 9])
Normal torch.Size([10, 9]) torch.Size([10, 9, 2512])
Epoch:0, Iteration: 96, Loss: 86.54, TimeElapsed: 3.74Min
Working (10, 200) torch.Size([10, 9])
Normal torch.Size([10, 9]) torch.Size([10, 9, 2512])
Epoch:0, Iteration: 97, Loss: 98.4, TimeElapsed: 3.77Min
Working (10, 200) torch.Size([10, 9])
Normal torch.Size([10, 9]) torch.Size([10, 9, 2512])
Epoch:0, Iteration: 98, Loss: 122.02, TimeElapsed: 3.81Min
Working (10, 200) torch.Size([10, 9])
Normal torch.Size([10, 9]) torch.Size([10, 9, 2512])
Epoch:0, Iteration: 99, Loss: 102.15, TimeElapsed: 3.85Min
Working (10, 200) torch.Size([10, 9])
Normal torch.Size([10, 9]) torch.Size([10, 9, 2512])
Epoch:0, Iteration: 100, Loss: 130.31, TimeElapsed: 3.89Min
Working (10, 200) torch.Size([10, 9])
Normal torch.Size([10, 9]) torch.Size([10, 9, 2512])
Epoch:0, Iteration: 101, Loss: 130.72, TimeElapsed: 3.92Min
Working (10, 200) torch.Size([10, 9])
Normal torch.Size([10, 9]) torch.Size([10, 9, 2512])
Epoch:0, Iteration: 102, Loss: 101.61, TimeElapsed: 3.96Min
Working (10, 200) torch.Size([10, 9])
Normal torch.Size([10, 9]) torch.Size([10, 9, 2512])
Epoch:0, Iteration: 103, Loss: 104.69, TimeElapsed: 3.99Min
Working (10, 200) torch.Size([10, 9])
Normal torch.Size([10, 9]) torch.Size([10, 9, 2512])
Epoch:0, Iteration: 104, Loss: 94.11, TimeElapsed: 4.03Min
Working (10, 200) torch.Size([10, 9])
Normal torch.Size([10, 9]) torch.Size([10, 9, 2512])
Epoch:0, Iteration: 105, Loss: 85.8, TimeElapsed: 4.07Min
Working (10, 200) torch.Size([10, 9])
Normal torch.Size([10, 9]) torch.Size([10, 9, 2512])
Epoch:0, Iteration: 106, Loss: 99.57, TimeElapsed: 4.11Min
Working (10, 200) torch.Size([10, 9])
Normal torch.Size([10, 9]) torch.Size([10, 9, 2512])
Epoch:0, Iteration: 107, Loss: 84.82, TimeElapsed: 4.14Min
Working (10, 200) torch.Size([10, 9])
Normal torch.Size([10, 9]) torch.Size([10, 9, 2512])
Epoch:0, Iteration: 108, Loss: 84.54, TimeElapsed: 4.18Min
Working (10, 200) torch.Size([10, 9])
Normal torch.Size([10, 9]) torch.Size([10, 9, 2512])
Epoch:0, Iteration: 109, Loss: 78.18, TimeElapsed: 4.22Min
Working (10, 200) torch.Size([10, 9])
Normal torch.Size([10, 9]) torch.Size([10, 9, 2512])
Epoch:0, Iteration: 110, Loss: 99.42, TimeElapsed: 4.25Min
Working (10, 200) torch.Size([10, 9])
Normal torch.Size([10, 9]) torch.Size([10, 9, 2512])
Epoch:0, Iteration: 111, Loss: 102.58, TimeElapsed: 4.29Min
Working (10, 200) torch.Size([10, 9])
Normal torch.Size([10, 9]) torch.Size([10, 9, 2512])
Epoch:0, Iteration: 112, Loss: 117.69, TimeElapsed: 4.33Min
Working (10, 200) torch.Size([10, 9])
Normal torch.Size([10, 9]) torch.Size([10, 9, 2512])
Epoch:0, Iteration: 113, Loss: 89.68, TimeElapsed: 4.37Min
Working (10, 200) torch.Size([10, 9])
Normal torch.Size([10, 9]) torch.Size([10, 9, 2512])
Epoch:0, Iteration: 114, Loss: 82.04, TimeElapsed: 4.4Min
Working (10, 200) torch.Size([10, 9])
Normal torch.Size([10, 9]) torch.Size([10, 9, 2512])
Epoch:0, Iteration: 115, Loss: 85.88, TimeElapsed: 4.44Min
Working (10, 200) torch.Size([10, 9])
Normal torch.Size([10, 9]) torch.Size([10, 9, 2512])
Epoch:0, Iteration: 116, Loss: 116.37, TimeElapsed: 4.48Min
Working (10, 200) torch.Size([10, 9])
Normal torch.Size([10, 9]) torch.Size([10, 9, 2512])
Epoch:0, Iteration: 117, Loss: 99.83, TimeElapsed: 4.51Min
Working (10, 200) torch.Size([10, 9])
Normal torch.Size([10, 9]) torch.Size([10, 9, 2512])
Epoch:0, Iteration: 118, Loss: 119.63, TimeElapsed: 4.55Min
Working (10, 200) torch.Size([10, 9])
Normal torch.Size([10, 9]) torch.Size([10, 9, 2512])
Epoch:0, Iteration: 119, Loss: 104.15, TimeElapsed: 4.59Min
Working (10, 200) torch.Size([10, 9])
Normal torch.Size([10, 9]) torch.Size([10, 9, 2512])
Epoch:0, Iteration: 120, Loss: 110.97, TimeElapsed: 4.63Min
Working (10, 200) torch.Size([10, 9])
Normal torch.Size([10, 9]) torch.Size([10, 9, 2512])
Epoch:0, Iteration: 121, Loss: 93.78, TimeElapsed: 4.66Min
Working (10, 200) torch.Size([10, 9])
Normal torch.Size([10, 9]) torch.Size([10, 9, 2512])
Epoch:0, Iteration: 122, Loss: 129.16, TimeElapsed: 4.7Min
Working (10, 200) torch.Size([10, 9])
Normal torch.Size([10, 9]) torch.Size([10, 9, 2512])
Epoch:0, Iteration: 123, Loss: 86.6, TimeElapsed: 4.74Min
Working (10, 200) torch.Size([10, 9])
Normal torch.Size([10, 9]) torch.Size([10, 9, 2512])
Epoch:0, Iteration: 124, Loss: 69.96, TimeElapsed: 4.77Min
Working (10, 200) torch.Size([10, 9])
Normal torch.Size([10, 9]) torch.Size([10, 9, 2512])
Epoch:0, Iteration: 125, Loss: 118.95, TimeElapsed: 4.81Min
Working (10, 200) torch.Size([10, 9])
Normal torch.Size([10, 9]) torch.Size([10, 9, 2512])
Epoch:0, Iteration: 126, Loss: 85.16, TimeElapsed: 4.85Min
Working (10, 200) torch.Size([10, 9])
Normal torch.Size([10, 9]) torch.Size([10, 9, 2512])
Epoch:0, Iteration: 127, Loss: 74.94, TimeElapsed: 4.88Min
Working (10, 200) torch.Size([10, 9])
Normal torch.Size([10, 9]) torch.Size([10, 9, 2512])
Epoch:0, Iteration: 128, Loss: 58.44, TimeElapsed: 4.92Min
Working (10, 200) torch.Size([10, 9])
Normal torch.Size([10, 9]) torch.Size([10, 9, 2512])
Epoch:0, Iteration: 129, Loss: 118.2, TimeElapsed: 4.96Min
Working (10, 200) torch.Size([10, 9])
Normal torch.Size([10, 9]) torch.Size([10, 9, 2512])
Epoch:0, Iteration: 130, Loss: 93.52, TimeElapsed: 4.99Min
Working (10, 200) torch.Size([10, 9])
Normal torch.Size([10, 9]) torch.Size([10, 9, 2512])
Epoch:0, Iteration: 131, Loss: 115.49, TimeElapsed: 5.03Min
Working (10, 200) torch.Size([10, 9])
Normal torch.Size([10, 9]) torch.Size([10, 9, 2512])
Epoch:0, Iteration: 132, Loss: 88.32, TimeElapsed: 5.07Min
Working (10, 200) torch.Size([10, 9])
Normal torch.Size([10, 9]) torch.Size([10, 9, 2512])
Epoch:0, Iteration: 133, Loss: 85.15, TimeElapsed: 5.11Min
Working (10, 200) torch.Size([10, 9])
Normal torch.Size([10, 9]) torch.Size([10, 9, 2512])
Epoch:0, Iteration: 134, Loss: 69.41, TimeElapsed: 5.14Min
Working (10, 200) torch.Size([10, 9])
Normal torch.Size([10, 9]) torch.Size([10, 9, 2512])
Epoch:0, Iteration: 135, Loss: 73.48, TimeElapsed: 5.18Min
Working (10, 200) torch.Size([10, 9])
Normal torch.Size([10, 9]) torch.Size([10, 9, 2512])
Epoch:0, Iteration: 136, Loss: 109.72, TimeElapsed: 5.22Min
Working (10, 200) torch.Size([10, 9])
Normal torch.Size([10, 9]) torch.Size([10, 9, 2512])
Epoch:0, Iteration: 137, Loss: 106.22, TimeElapsed: 5.25Min
Working (10, 200) torch.Size([10, 9])
Normal torch.Size([10, 9]) torch.Size([10, 9, 2512])
Epoch:0, Iteration: 138, Loss: 96.47, TimeElapsed: 5.29Min
Working (10, 200) torch.Size([10, 9])
Normal torch.Size([10, 9]) torch.Size([10, 9, 2512])
Epoch:0, Iteration: 139, Loss: 88.1, TimeElapsed: 5.33Min
Working (10, 200) torch.Size([10, 9])
Normal torch.Size([10, 9]) torch.Size([10, 9, 2512])
Epoch:0, Iteration: 140, Loss: 77.42, TimeElapsed: 5.36Min
Working (10, 200) torch.Size([10, 9])
Normal torch.Size([10, 9]) torch.Size([10, 9, 2512])
Epoch:0, Iteration: 141, Loss: 96.99, TimeElapsed: 5.4Min
Working (10, 200) torch.Size([10, 9])
Normal torch.Size([10, 9]) torch.Size([10, 9, 2512])
Epoch:0, Iteration: 142, Loss: 121.08, TimeElapsed: 5.44Min
Working (10, 200) torch.Size([10, 9])
Normal torch.Size([10, 9]) torch.Size([10, 9, 2512])
Epoch:0, Iteration: 143, Loss: 106.51, TimeElapsed: 5.48Min
Working (10, 200) torch.Size([10, 9])
Normal torch.Size([10, 9]) torch.Size([10, 9, 2512])
Epoch:0, Iteration: 144, Loss: 130.13, TimeElapsed: 5.52Min
Working (10, 200) torch.Size([10, 9])
Normal torch.Size([10, 9]) torch.Size([10, 9, 2512])
Epoch:0, Iteration: 145, Loss: 117.78, TimeElapsed: 5.55Min
Working (10, 200) torch.Size([10, 9])
Normal torch.Size([10, 9]) torch.Size([10, 9, 2512])
Epoch:0, Iteration: 146, Loss: 98.22, TimeElapsed: 5.59Min
Working (10, 200) torch.Size([10, 9])
Normal torch.Size([10, 9]) torch.Size([10, 9, 2512])
Epoch:0, Iteration: 147, Loss: 112.33, TimeElapsed: 5.63Min
Working (10, 200) torch.Size([10, 9])
Normal torch.Size([10, 9]) torch.Size([10, 9, 2512])
Epoch:0, Iteration: 148, Loss: 96.23, TimeElapsed: 5.67Min
Working (10, 200) torch.Size([10, 9])
Normal torch.Size([10, 9]) torch.Size([10, 9, 2512])
Epoch:0, Iteration: 149, Loss: 108.86, TimeElapsed: 5.7Min
Working (10, 200) torch.Size([10, 9])
Normal torch.Size([10, 9]) torch.Size([10, 9, 2512])
Epoch:0, Iteration: 150, Loss: 103.51, TimeElapsed: 5.74Min
Working (10, 200) torch.Size([10, 9])
Normal torch.Size([10, 9]) torch.Size([10, 9, 2512])
Epoch:0, Iteration: 151, Loss: 98.06, TimeElapsed: 5.78Min
Working (10, 200) torch.Size([10, 9])
Normal torch.Size([10, 9]) torch.Size([10, 9, 2512])
Epoch:0, Iteration: 152, Loss: 111.85, TimeElapsed: 5.82Min
Working (10, 200) torch.Size([10, 9])
Normal torch.Size([10, 9]) torch.Size([10, 9, 2512])
Epoch:0, Iteration: 153, Loss: 118.05, TimeElapsed: 5.85Min
Working (10, 200) torch.Size([10, 9])
Normal torch.Size([10, 9]) torch.Size([10, 9, 2512])
Epoch:0, Iteration: 154, Loss: 111.27, TimeElapsed: 5.89Min
Working (10, 200) torch.Size([10, 9])
Normal torch.Size([10, 9]) torch.Size([10, 9, 2512])
Epoch:0, Iteration: 155, Loss: 111.25, TimeElapsed: 5.93Min
Working (10, 200) torch.Size([10, 9])
Normal torch.Size([10, 9]) torch.Size([10, 9, 2512])
Epoch:0, Iteration: 156, Loss: 93.95, TimeElapsed: 5.96Min
Working (10, 200) torch.Size([10, 9])
Normal torch.Size([10, 9]) torch.Size([10, 9, 2512])
Epoch:0, Iteration: 157, Loss: 106.42, TimeElapsed: 6.0Min
Working (10, 200) torch.Size([10, 9])
Normal torch.Size([10, 9]) torch.Size([10, 9, 2512])
Epoch:0, Iteration: 158, Loss: 107.03, TimeElapsed: 6.04Min
Working (10, 200) torch.Size([10, 9])
Normal torch.Size([10, 9]) torch.Size([10, 9, 2512])
Epoch:0, Iteration: 159, Loss: 87.48, TimeElapsed: 6.08Min
Working (10, 200) torch.Size([10, 9])
Normal torch.Size([10, 9]) torch.Size([10, 9, 2512])
Epoch:0, Iteration: 160, Loss: 112.23, TimeElapsed: 6.11Min
Working (10, 200) torch.Size([10, 9])
Normal torch.Size([10, 9]) torch.Size([10, 9, 2512])
Epoch:0, Iteration: 161, Loss: 108.51, TimeElapsed: 6.15Min
Working (10, 200) torch.Size([10, 9])
Normal torch.Size([10, 9]) torch.Size([10, 9, 2512])
Epoch:0, Iteration: 162, Loss: 126.86, TimeElapsed: 6.19Min
Working (10, 200) torch.Size([10, 9])
Normal torch.Size([10, 9]) torch.Size([10, 9, 2512])
Epoch:0, Iteration: 163, Loss: 82.76, TimeElapsed: 6.22Min
Working (10, 200) torch.Size([10, 9])
Normal torch.Size([10, 9]) torch.Size([10, 9, 2512])
Epoch:0, Iteration: 164, Loss: 107.79, TimeElapsed: 6.26Min
Working (10, 200) torch.Size([10, 9])
Normal torch.Size([10, 9]) torch.Size([10, 9, 2512])
Epoch:0, Iteration: 165, Loss: 86.45, TimeElapsed: 6.3Min
Working (10, 200) torch.Size([10, 9])
Normal torch.Size([10, 9]) torch.Size([10, 9, 2512])
Epoch:0, Iteration: 166, Loss: 82.0, TimeElapsed: 6.34Min
Working (10, 200) torch.Size([10, 9])
Normal torch.Size([10, 9]) torch.Size([10, 9, 2512])
Epoch:0, Iteration: 167, Loss: 134.39, TimeElapsed: 6.38Min
Working (10, 200) torch.Size([10, 9])
Normal torch.Size([10, 9]) torch.Size([10, 9, 2512])
Epoch:0, Iteration: 168, Loss: 115.54, TimeElapsed: 6.41Min
Working (10, 200) torch.Size([10, 9])
Normal torch.Size([10, 9]) torch.Size([10, 9, 2512])
Epoch:0, Iteration: 169, Loss: 100.56, TimeElapsed: 6.45Min
Working (10, 200) torch.Size([10, 9])
Normal torch.Size([10, 9]) torch.Size([10, 9, 2512])
Epoch:0, Iteration: 170, Loss: 97.95, TimeElapsed: 6.49Min
Working (10, 200) torch.Size([10, 9])
Normal torch.Size([10, 9]) torch.Size([10, 9, 2512])
Epoch:0, Iteration: 171, Loss: 95.06, TimeElapsed: 6.52Min
Working (10, 200) torch.Size([10, 9])
Normal torch.Size([10, 9]) torch.Size([10, 9, 2512])
Epoch:0, Iteration: 172, Loss: 98.31, TimeElapsed: 6.56Min
Working (10, 200) torch.Size([10, 9])
Normal torch.Size([10, 9]) torch.Size([10, 9, 2512])
Epoch:0, Iteration: 173, Loss: 75.15, TimeElapsed: 6.6Min
Working (10, 200) torch.Size([10, 9])
Normal torch.Size([10, 9]) torch.Size([10, 9, 2512])
Epoch:0, Iteration: 174, Loss: 98.58, TimeElapsed: 6.64Min
Working (10, 200) torch.Size([10, 9])
Normal torch.Size([10, 9]) torch.Size([10, 9, 2512])
Epoch:0, Iteration: 175, Loss: 111.27, TimeElapsed: 6.67Min
Working (10, 200) torch.Size([10, 9])
Normal torch.Size([10, 9]) torch.Size([10, 9, 2512])
Epoch:0, Iteration: 176, Loss: 84.3, TimeElapsed: 6.71Min
Working (10, 200) torch.Size([10, 9])
Normal torch.Size([10, 9]) torch.Size([10, 9, 2512])
Epoch:0, Iteration: 177, Loss: 118.02, TimeElapsed: 6.75Min
Working (10, 200) torch.Size([10, 9])
Normal torch.Size([10, 9]) torch.Size([10, 9, 2512])
Epoch:0, Iteration: 178, Loss: 84.56, TimeElapsed: 6.79Min
Working (10, 200) torch.Size([10, 9])
Normal torch.Size([10, 9]) torch.Size([10, 9, 2512])
Epoch:0, Iteration: 179, Loss: 99.33, TimeElapsed: 6.82Min
Working (10, 200) torch.Size([10, 9])
Normal torch.Size([10, 9]) torch.Size([10, 9, 2512])
Epoch:0, Iteration: 180, Loss: 100.19, TimeElapsed: 6.86Min
Working (10, 200) torch.Size([10, 9])
Normal torch.Size([10, 9]) torch.Size([10, 9, 2512])
Epoch:0, Iteration: 181, Loss: 73.53, TimeElapsed: 6.89Min
Working (10, 200) torch.Size([10, 9])
Normal torch.Size([10, 9]) torch.Size([10, 9, 2512])
Epoch:0, Iteration: 182, Loss: 119.04, TimeElapsed: 6.93Min
Working (10, 200) torch.Size([10, 9])
Normal torch.Size([10, 9]) torch.Size([10, 9, 2512])
Epoch:0, Iteration: 183, Loss: 79.96, TimeElapsed: 6.97Min
Working (10, 200) torch.Size([10, 9])
Normal torch.Size([10, 9]) torch.Size([10, 9, 2512])
Epoch:0, Iteration: 184, Loss: 112.36, TimeElapsed: 7.01Min
Working (10, 200) torch.Size([10, 9])
Normal torch.Size([10, 9]) torch.Size([10, 9, 2512])
Epoch:0, Iteration: 185, Loss: 118.75, TimeElapsed: 7.05Min
Working (10, 200) torch.Size([10, 9])
Normal torch.Size([10, 9]) torch.Size([10, 9, 2512])
Epoch:0, Iteration: 186, Loss: 108.71, TimeElapsed: 7.09Min
Working (10, 200) torch.Size([10, 9])
Normal torch.Size([10, 9]) torch.Size([10, 9, 2512])
Epoch:0, Iteration: 187, Loss: 110.56, TimeElapsed: 7.13Min
Working (10, 200) torch.Size([10, 9])
Normal torch.Size([10, 9]) torch.Size([10, 9, 2512])
Epoch:0, Iteration: 188, Loss: 147.49, TimeElapsed: 7.19Min
Working (10, 200) torch.Size([10, 9])
Normal torch.Size([10, 9]) torch.Size([10, 9, 2512])
Epoch:0, Iteration: 189, Loss: 103.05, TimeElapsed: 7.25Min
Working (10, 200) torch.Size([10, 9])
Normal torch.Size([10, 9]) torch.Size([10, 9, 2512])
Epoch:0, Iteration: 190, Loss: 121.61, TimeElapsed: 7.31Min
Working (10, 200) torch.Size([10, 9])
Normal torch.Size([10, 9]) torch.Size([10, 9, 2512])
Epoch:0, Iteration: 191, Loss: 87.35, TimeElapsed: 7.38Min
Working (10, 200) torch.Size([10, 9])
Normal torch.Size([10, 9]) torch.Size([10, 9, 2512])
Epoch:0, Iteration: 192, Loss: 88.86, TimeElapsed: 7.45Min
Working (10, 200) torch.Size([10, 9])
Normal torch.Size([10, 9]) torch.Size([10, 9, 2512])
Epoch:0, Iteration: 193, Loss: 89.42, TimeElapsed: 7.5Min
Working (10, 200) torch.Size([10, 9])
Normal torch.Size([10, 9]) torch.Size([10, 9, 2512])
Epoch:0, Iteration: 194, Loss: 99.0, TimeElapsed: 7.56Min
Working (10, 200) torch.Size([10, 9])
Normal torch.Size([10, 9]) torch.Size([10, 9, 2512])
Epoch:0, Iteration: 195, Loss: 88.63, TimeElapsed: 7.61Min
Working (10, 200) torch.Size([10, 9])
Normal torch.Size([10, 9]) torch.Size([10, 9, 2512])
Epoch:0, Iteration: 196, Loss: 90.8, TimeElapsed: 7.67Min
Working (10, 200) torch.Size([10, 9])
Normal torch.Size([10, 9]) torch.Size([10, 9, 2512])
Epoch:0, Iteration: 197, Loss: 112.15, TimeElapsed: 7.73Min
Working (10, 200) torch.Size([10, 9])
Normal torch.Size([10, 9]) torch.Size([10, 9, 2512])
Epoch:0, Iteration: 198, Loss: 132.89, TimeElapsed: 7.79Min
Working (10, 200) torch.Size([10, 9])
Normal torch.Size([10, 9]) torch.Size([10, 9, 2512])
Epoch:0, Iteration: 199, Loss: 135.34, TimeElapsed: 7.84Min
Working (10, 200) torch.Size([10, 9])
Normal torch.Size([10, 9]) torch.Size([10, 9, 2512])
Epoch:0, Iteration: 200, Loss: 109.39, TimeElapsed: 7.88Min
Working (10, 200) torch.Size([10, 9])
Normal torch.Size([10, 9]) torch.Size([10, 9, 2512])
Epoch:0, Iteration: 201, Loss: 130.52, TimeElapsed: 7.92Min
Working (10, 200) torch.Size([10, 9])
Normal torch.Size([10, 9]) torch.Size([10, 9, 2512])
Epoch:0, Iteration: 202, Loss: 108.16, TimeElapsed: 7.96Min
Working (10, 200) torch.Size([10, 9])
Normal torch.Size([10, 9]) torch.Size([10, 9, 2512])
Epoch:0, Iteration: 203, Loss: 90.83, TimeElapsed: 8.0Min
Working (10, 200) torch.Size([10, 9])
Normal torch.Size([10, 9]) torch.Size([10, 9, 2512])
Epoch:0, Iteration: 204, Loss: 102.98, TimeElapsed: 8.03Min
Working (10, 200) torch.Size([10, 9])
Normal torch.Size([10, 9]) torch.Size([10, 9, 2512])
Epoch:0, Iteration: 205, Loss: 103.94, TimeElapsed: 8.07Min
Working (10, 200) torch.Size([10, 9])
Normal torch.Size([10, 9]) torch.Size([10, 9, 2512])
Epoch:0, Iteration: 206, Loss: 139.73, TimeElapsed: 8.11Min
Working (10, 200) torch.Size([10, 9])
Normal torch.Size([10, 9]) torch.Size([10, 9, 2512])
Epoch:0, Iteration: 207, Loss: 111.1, TimeElapsed: 8.15Min
Working (10, 200) torch.Size([10, 9])
Normal torch.Size([10, 9]) torch.Size([10, 9, 2512])
Epoch:0, Iteration: 208, Loss: 112.03, TimeElapsed: 8.18Min
Working (10, 200) torch.Size([10, 9])
Normal torch.Size([10, 9]) torch.Size([10, 9, 2512])
Epoch:0, Iteration: 209, Loss: 86.48, TimeElapsed: 8.22Min
Working (10, 200) torch.Size([10, 9])
Normal torch.Size([10, 9]) torch.Size([10, 9, 2512])
Epoch:0, Iteration: 210, Loss: 128.61, TimeElapsed: 8.26Min
Working (10, 200) torch.Size([10, 9])
Normal torch.Size([10, 9]) torch.Size([10, 9, 2512])
Epoch:0, Iteration: 211, Loss: 103.07, TimeElapsed: 8.3Min
Working (10, 200) torch.Size([10, 9])
Normal torch.Size([10, 9]) torch.Size([10, 9, 2512])
Epoch:0, Iteration: 212, Loss: 123.12, TimeElapsed: 8.33Min
Working (10, 200) torch.Size([10, 9])
Normal torch.Size([10, 9]) torch.Size([10, 9, 2512])
Epoch:0, Iteration: 213, Loss: 123.5, TimeElapsed: 8.37Min
Working (10, 200) torch.Size([10, 9])
Normal torch.Size([10, 9]) torch.Size([10, 9, 2512])
Epoch:0, Iteration: 214, Loss: 103.9, TimeElapsed: 8.41Min
Working (10, 200) torch.Size([10, 9])
Normal torch.Size([10, 9]) torch.Size([10, 9, 2512])
Epoch:0, Iteration: 215, Loss: 85.2, TimeElapsed: 8.45Min
Working (10, 200) torch.Size([10, 9])
Normal torch.Size([10, 9]) torch.Size([10, 9, 2512])
Epoch:0, Iteration: 216, Loss: 96.65, TimeElapsed: 8.48Min
Working (10, 200) torch.Size([10, 9])
Normal torch.Size([10, 9]) torch.Size([10, 9, 2512])
Epoch:0, Iteration: 217, Loss: 93.55, TimeElapsed: 8.52Min
Working (10, 200) torch.Size([10, 9])
Normal torch.Size([10, 9]) torch.Size([10, 9, 2512])
Epoch:0, Iteration: 218, Loss: 100.44, TimeElapsed: 8.56Min
Working (10, 200) torch.Size([10, 9])
Normal torch.Size([10, 9]) torch.Size([10, 9, 2512])
Epoch:0, Iteration: 219, Loss: 86.83, TimeElapsed: 8.6Min
Working (10, 200) torch.Size([10, 9])
Normal torch.Size([10, 9]) torch.Size([10, 9, 2512])
Epoch:0, Iteration: 220, Loss: 110.92, TimeElapsed: 8.63Min
Working (10, 200) torch.Size([10, 9])
Normal torch.Size([10, 9]) torch.Size([10, 9, 2512])
Epoch:0, Iteration: 221, Loss: 107.33, TimeElapsed: 8.67Min
Working (10, 200) torch.Size([10, 9])
Normal torch.Size([10, 9]) torch.Size([10, 9, 2512])
Epoch:0, Iteration: 222, Loss: 92.52, TimeElapsed: 8.71Min
Working (10, 200) torch.Size([10, 9])
Normal torch.Size([10, 9]) torch.Size([10, 9, 2512])
Epoch:0, Iteration: 223, Loss: 102.91, TimeElapsed: 8.75Min
Working (10, 200) torch.Size([10, 9])
Normal torch.Size([10, 9]) torch.Size([10, 9, 2512])
Epoch:0, Iteration: 224, Loss: 89.87, TimeElapsed: 8.78Min
Working (10, 200) torch.Size([10, 9])
Normal torch.Size([10, 9]) torch.Size([10, 9, 2512])
Epoch:0, Iteration: 225, Loss: 116.16, TimeElapsed: 8.82Min
Working (10, 200) torch.Size([10, 9])
Normal torch.Size([10, 9]) torch.Size([10, 9, 2512])
Epoch:0, Iteration: 226, Loss: 92.74, TimeElapsed: 8.86Min
Working (10, 200) torch.Size([10, 9])
Normal torch.Size([10, 9]) torch.Size([10, 9, 2512])
Epoch:0, Iteration: 227, Loss: 105.37, TimeElapsed: 8.89Min
Working (10, 200) torch.Size([10, 9])
Normal torch.Size([10, 9]) torch.Size([10, 9, 2512])
Epoch:0, Iteration: 228, Loss: 123.36, TimeElapsed: 8.93Min
Working (10, 200) torch.Size([10, 9])
Normal torch.Size([10, 9]) torch.Size([10, 9, 2512])
Epoch:0, Iteration: 229, Loss: 89.61, TimeElapsed: 8.97Min
Working (10, 200) torch.Size([10, 9])
Normal torch.Size([10, 9]) torch.Size([10, 9, 2512])
Epoch:0, Iteration: 230, Loss: 109.03, TimeElapsed: 9.0Min
Working (10, 200) torch.Size([10, 9])
Normal torch.Size([10, 9]) torch.Size([10, 9, 2512])
Epoch:0, Iteration: 231, Loss: 135.09, TimeElapsed: 9.04Min
Working (10, 200) torch.Size([10, 9])
Normal torch.Size([10, 9]) torch.Size([10, 9, 2512])
Epoch:0, Iteration: 232, Loss: 91.91, TimeElapsed: 9.08Min
Working (10, 200) torch.Size([10, 9])
Normal torch.Size([10, 9]) torch.Size([10, 9, 2512])
Epoch:0, Iteration: 233, Loss: 111.32, TimeElapsed: 9.12Min
Working (10, 200) torch.Size([10, 9])
Normal torch.Size([10, 9]) torch.Size([10, 9, 2512])
Epoch:0, Iteration: 234, Loss: 124.26, TimeElapsed: 9.16Min
Working (10, 200) torch.Size([10, 9])
Normal torch.Size([10, 9]) torch.Size([10, 9, 2512])
Epoch:0, Iteration: 235, Loss: 89.16, TimeElapsed: 9.19Min
Working (10, 200) torch.Size([10, 9])
Normal torch.Size([10, 9]) torch.Size([10, 9, 2512])
Epoch:0, Iteration: 236, Loss: 90.03, TimeElapsed: 9.23Min
Working (10, 200) torch.Size([10, 9])
Normal torch.Size([10, 9]) torch.Size([10, 9, 2512])
Epoch:0, Iteration: 237, Loss: 98.57, TimeElapsed: 9.27Min
Working (10, 200) torch.Size([10, 9])
Normal torch.Size([10, 9]) torch.Size([10, 9, 2512])
Epoch:0, Iteration: 238, Loss: 92.45, TimeElapsed: 9.3Min
Working (10, 200) torch.Size([10, 9])
Normal torch.Size([10, 9]) torch.Size([10, 9, 2512])
Epoch:0, Iteration: 239, Loss: 104.49, TimeElapsed: 9.35Min
Working (10, 200) torch.Size([10, 9])
Normal torch.Size([10, 9]) torch.Size([10, 9, 2512])
Epoch:0, Iteration: 240, Loss: 128.22, TimeElapsed: 9.4Min
Working (10, 200) torch.Size([10, 9])
Normal torch.Size([10, 9]) torch.Size([10, 9, 2512])
Epoch:0, Iteration: 241, Loss: 123.22, TimeElapsed: 9.43Min
Working (10, 200) torch.Size([10, 9])
Normal torch.Size([10, 9]) torch.Size([10, 9, 2512])
Epoch:0, Iteration: 242, Loss: 159.0, TimeElapsed: 9.47Min
Working (10, 200) torch.Size([10, 9])
Normal torch.Size([10, 9]) torch.Size([10, 9, 2512])
Epoch:0, Iteration: 243, Loss: 90.53, TimeElapsed: 9.52Min
Working (10, 200) torch.Size([10, 9])
Normal torch.Size([10, 9]) torch.Size([10, 9, 2512])
Epoch:0, Iteration: 244, Loss: 81.31, TimeElapsed: 9.56Min
Working (10, 200) torch.Size([10, 9])
Normal torch.Size([10, 9]) torch.Size([10, 9, 2512])
Epoch:0, Iteration: 245, Loss: 138.36, TimeElapsed: 9.6Min
Working (10, 200) torch.Size([10, 9])
Normal torch.Size([10, 9]) torch.Size([10, 9, 2512])
Epoch:0, Iteration: 246, Loss: 91.88, TimeElapsed: 9.64Min
Working (10, 200) torch.Size([10, 9])
Normal torch.Size([10, 9]) torch.Size([10, 9, 2512])
Epoch:0, Iteration: 247, Loss: 85.52, TimeElapsed: 9.68Min
Working (10, 200) torch.Size([10, 9])
Normal torch.Size([10, 9]) torch.Size([10, 9, 2512])
Epoch:0, Iteration: 248, Loss: 121.63, TimeElapsed: 9.72Min
Working (10, 200) torch.Size([10, 9])
Normal torch.Size([10, 9]) torch.Size([10, 9, 2512])
Epoch:0, Iteration: 249, Loss: 144.39, TimeElapsed: 9.76Min
Working (10, 200) torch.Size([10, 9])
Normal torch.Size([10, 9]) torch.Size([10, 9, 2512])
Epoch:0, Iteration: 250, Loss: 106.77, TimeElapsed: 9.81Min
Working (10, 200) torch.Size([10, 9])
Normal torch.Size([10, 9]) torch.Size([10, 9, 2512])
Epoch:0, Iteration: 251, Loss: 122.58, TimeElapsed: 9.85Min
Working (10, 200) torch.Size([10, 9])
Normal torch.Size([10, 9]) torch.Size([10, 9, 2512])
Epoch:0, Iteration: 252, Loss: 120.97, TimeElapsed: 9.89Min
Working (10, 200) torch.Size([10, 9])
Normal torch.Size([10, 9]) torch.Size([10, 9, 2512])
Epoch:0, Iteration: 253, Loss: 119.82, TimeElapsed: 9.93Min
Working (10, 200) torch.Size([10, 9])
Normal torch.Size([10, 9]) torch.Size([10, 9, 2512])
Epoch:0, Iteration: 254, Loss: 128.88, TimeElapsed: 9.97Min
Working (10, 200) torch.Size([10, 9])
Normal torch.Size([10, 9]) torch.Size([10, 9, 2512])
Epoch:0, Iteration: 255, Loss: 110.76, TimeElapsed: 10.0Min
Working (10, 200) torch.Size([10, 9])
Normal torch.Size([10, 9]) torch.Size([10, 9, 2512])
Epoch:0, Iteration: 256, Loss: 101.09, TimeElapsed: 10.04Min
Working (10, 200) torch.Size([10, 9])
Normal torch.Size([10, 9]) torch.Size([10, 9, 2512])
Epoch:0, Iteration: 257, Loss: 85.02, TimeElapsed: 10.08Min
Working (10, 200) torch.Size([10, 9])
Normal torch.Size([10, 9]) torch.Size([10, 9, 2512])
Epoch:0, Iteration: 258, Loss: 108.08, TimeElapsed: 10.12Min
Working (10, 200) torch.Size([10, 9])
Normal torch.Size([10, 9]) torch.Size([10, 9, 2512])
Epoch:0, Iteration: 259, Loss: 107.31, TimeElapsed: 10.15Min
Working (10, 200) torch.Size([10, 9])
Normal torch.Size([10, 9]) torch.Size([10, 9, 2512])
Epoch:0, Iteration: 260, Loss: 124.24, TimeElapsed: 10.19Min
Working (10, 200) torch.Size([10, 9])
Normal torch.Size([10, 9]) torch.Size([10, 9, 2512])
Epoch:0, Iteration: 261, Loss: 118.98, TimeElapsed: 10.23Min
Working (10, 200) torch.Size([10, 9])
Normal torch.Size([10, 9]) torch.Size([10, 9, 2512])
Epoch:0, Iteration: 262, Loss: 99.62, TimeElapsed: 10.27Min
Working (10, 200) torch.Size([10, 9])
Normal torch.Size([10, 9]) torch.Size([10, 9, 2512])
Epoch:0, Iteration: 263, Loss: 133.42, TimeElapsed: 10.31Min
Working (10, 200) torch.Size([10, 9])
Normal torch.Size([10, 9]) torch.Size([10, 9, 2512])
Epoch:0, Iteration: 264, Loss: 97.25, TimeElapsed: 10.35Min
Working (10, 200) torch.Size([10, 9])
Normal torch.Size([10, 9]) torch.Size([10, 9, 2512])
Epoch:0, Iteration: 265, Loss: 123.39, TimeElapsed: 10.39Min
Working (10, 200) torch.Size([10, 9])
Normal torch.Size([10, 9]) torch.Size([10, 9, 2512])
Epoch:0, Iteration: 266, Loss: 95.04, TimeElapsed: 10.42Min
Working (10, 200) torch.Size([10, 9])
Normal torch.Size([10, 9]) torch.Size([10, 9, 2512])
Epoch:0, Iteration: 267, Loss: 122.59, TimeElapsed: 10.47Min
Working (10, 200) torch.Size([10, 9])
Normal torch.Size([10, 9]) torch.Size([10, 9, 2512])
Epoch:0, Iteration: 268, Loss: 87.75, TimeElapsed: 10.5Min
Working (10, 200) torch.Size([10, 9])
Normal torch.Size([10, 9]) torch.Size([10, 9, 2512])
Epoch:0, Iteration: 269, Loss: 120.31, TimeElapsed: 10.54Min
Working (10, 200) torch.Size([10, 9])
Normal torch.Size([10, 9]) torch.Size([10, 9, 2512])
Epoch:0, Iteration: 270, Loss: 171.23, TimeElapsed: 10.58Min
Working (10, 200) torch.Size([10, 9])
Normal torch.Size([10, 9]) torch.Size([10, 9, 2512])
Epoch:0, Iteration: 271, Loss: 87.56, TimeElapsed: 10.62Min
Working (10, 200) torch.Size([10, 9])
Normal torch.Size([10, 9]) torch.Size([10, 9, 2512])
Epoch:0, Iteration: 272, Loss: 97.72, TimeElapsed: 10.65Min
Working (10, 200) torch.Size([10, 9])
Normal torch.Size([10, 9]) torch.Size([10, 9, 2512])
Epoch:0, Iteration: 273, Loss: 144.4, TimeElapsed: 10.69Min
Working (10, 200) torch.Size([10, 9])
Normal torch.Size([10, 9]) torch.Size([10, 9, 2512])
Epoch:0, Iteration: 274, Loss: 121.72, TimeElapsed: 10.72Min
Working (10, 200) torch.Size([10, 9])
Normal torch.Size([10, 9]) torch.Size([10, 9, 2512])
Epoch:0, Iteration: 275, Loss: 107.69, TimeElapsed: 10.76Min
Working (10, 200) torch.Size([10, 9])
Normal torch.Size([10, 9]) torch.Size([10, 9, 2512])
Epoch:0, Iteration: 276, Loss: 81.47, TimeElapsed: 10.8Min
Working (10, 200) torch.Size([10, 9])
Normal torch.Size([10, 9]) torch.Size([10, 9, 2512])
Epoch:0, Iteration: 277, Loss: 96.27, TimeElapsed: 10.83Min
Working (10, 200) torch.Size([10, 9])
Normal torch.Size([10, 9]) torch.Size([10, 9, 2512])
Epoch:0, Iteration: 278, Loss: 79.96, TimeElapsed: 10.87Min
Working (10, 200) torch.Size([10, 9])
Normal torch.Size([10, 9]) torch.Size([10, 9, 2512])
Epoch:0, Iteration: 279, Loss: 105.96, TimeElapsed: 10.91Min
Working (10, 200) torch.Size([10, 9])
Normal torch.Size([10, 9]) torch.Size([10, 9, 2512])
Epoch:0, Iteration: 280, Loss: 106.25, TimeElapsed: 10.95Min
Working (10, 200) torch.Size([10, 9])
Normal torch.Size([10, 9]) torch.Size([10, 9, 2512])
Epoch:0, Iteration: 281, Loss: 127.02, TimeElapsed: 10.98Min
Working (10, 200) torch.Size([10, 9])
Normal torch.Size([10, 9]) torch.Size([10, 9, 2512])
Epoch:0, Iteration: 282, Loss: 92.91, TimeElapsed: 11.02Min
Working (10, 200) torch.Size([10, 9])
Normal torch.Size([10, 9]) torch.Size([10, 9, 2512])
Epoch:0, Iteration: 283, Loss: 112.38, TimeElapsed: 11.07Min
Working (10, 200) torch.Size([10, 9])
Normal torch.Size([10, 9]) torch.Size([10, 9, 2512])
Epoch:0, Iteration: 284, Loss: 106.98, TimeElapsed: 11.11Min
Working (10, 200) torch.Size([10, 9])
Normal torch.Size([10, 9]) torch.Size([10, 9, 2512])
Epoch:0, Iteration: 285, Loss: 141.49, TimeElapsed: 11.15Min
Working (10, 200) torch.Size([10, 9])
Normal torch.Size([10, 9]) torch.Size([10, 9, 2512])
Epoch:0, Iteration: 286, Loss: 165.04, TimeElapsed: 11.21Min
Working (10, 200) torch.Size([10, 9])
Normal torch.Size([10, 9]) torch.Size([10, 9, 2512])
Epoch:0, Iteration: 287, Loss: 172.24, TimeElapsed: 11.28Min
Working (10, 200) torch.Size([10, 9])
Normal torch.Size([10, 9]) torch.Size([10, 9, 2512])
Epoch:0, Iteration: 288, Loss: 108.64, TimeElapsed: 11.33Min
Working (10, 200) torch.Size([10, 9])
Normal torch.Size([10, 9]) torch.Size([10, 9, 2512])
Epoch:0, Iteration: 289, Loss: 111.22, TimeElapsed: 11.39Min
Working (10, 200) torch.Size([10, 9])
Normal torch.Size([10, 9]) torch.Size([10, 9, 2512])
Epoch:0, Iteration: 290, Loss: 137.95, TimeElapsed: 11.43Min
Working (10, 200) torch.Size([10, 9])
Normal torch.Size([10, 9]) torch.Size([10, 9, 2512])
Epoch:0, Iteration: 291, Loss: 150.84, TimeElapsed: 11.47Min
Working (10, 200) torch.Size([10, 9])
Normal torch.Size([10, 9]) torch.Size([10, 9, 2512])
Epoch:0, Iteration: 292, Loss: 64.45, TimeElapsed: 11.52Min
Working (10, 200) torch.Size([10, 9])
Normal torch.Size([10, 9]) torch.Size([10, 9, 2512])
Epoch:0, Iteration: 293, Loss: 114.97, TimeElapsed: 11.58Min
Working (10, 200) torch.Size([10, 9])
Normal torch.Size([10, 9]) torch.Size([10, 9, 2512])
Epoch:0, Iteration: 294, Loss: 166.94, TimeElapsed: 11.64Min
Working (10, 200) torch.Size([10, 9])
Normal torch.Size([10, 9]) torch.Size([10, 9, 2512])
Epoch:0, Iteration: 295, Loss: 117.96, TimeElapsed: 11.7Min
Working (10, 200) torch.Size([10, 9])
Normal torch.Size([10, 9]) torch.Size([10, 9, 2512])
Epoch:0, Iteration: 296, Loss: 130.05, TimeElapsed: 11.76Min
Working (10, 200) torch.Size([10, 9])
Normal torch.Size([10, 9]) torch.Size([10, 9, 2512])
Epoch:0, Iteration: 297, Loss: 108.57, TimeElapsed: 11.82Min
Working (10, 200) torch.Size([10, 9])
Normal torch.Size([10, 9]) torch.Size([10, 9, 2512])
Epoch:0, Iteration: 298, Loss: 89.35, TimeElapsed: 11.87Min
Working (10, 200) torch.Size([10, 9])
Normal torch.Size([10, 9]) torch.Size([10, 9, 2512])
Epoch:0, Iteration: 299, Loss: 100.37, TimeElapsed: 11.91Min
Working (10, 200) torch.Size([10, 9])
Normal torch.Size([10, 9]) torch.Size([10, 9, 2512])
Epoch:0, Iteration: 300, Loss: 144.08, TimeElapsed: 11.95Min
Working (10, 200) torch.Size([10, 9])
Normal torch.Size([10, 9]) torch.Size([10, 9, 2512])
Epoch:0, Iteration: 301, Loss: 164.43, TimeElapsed: 12.0Min
Working (10, 200) torch.Size([10, 9])
Normal torch.Size([10, 9]) torch.Size([10, 9, 2512])
Epoch:0, Iteration: 302, Loss: 117.21, TimeElapsed: 12.05Min
Working (10, 200) torch.Size([10, 9])
Normal torch.Size([10, 9]) torch.Size([10, 9, 2512])
Epoch:0, Iteration: 303, Loss: 104.86, TimeElapsed: 12.09Min
Working (10, 200) torch.Size([10, 9])
Normal torch.Size([10, 9]) torch.Size([10, 9, 2512])
Epoch:0, Iteration: 304, Loss: 127.19, TimeElapsed: 12.12Min
Working (10, 200) torch.Size([10, 9])
Normal torch.Size([10, 9]) torch.Size([10, 9, 2512])
Epoch:0, Iteration: 305, Loss: 141.55, TimeElapsed: 12.16Min
Working (10, 200) torch.Size([10, 9])
Normal torch.Size([10, 9]) torch.Size([10, 9, 2512])
Epoch:0, Iteration: 306, Loss: 132.02, TimeElapsed: 12.2Min
Working (10, 200) torch.Size([10, 9])
Normal torch.Size([10, 9]) torch.Size([10, 9, 2512])
Epoch:0, Iteration: 307, Loss: 114.26, TimeElapsed: 12.23Min
Working (10, 200) torch.Size([10, 9])
Normal torch.Size([10, 9]) torch.Size([10, 9, 2512])
Epoch:0, Iteration: 308, Loss: 123.75, TimeElapsed: 12.27Min
Working (10, 200) torch.Size([10, 9])
Normal torch.Size([10, 9]) torch.Size([10, 9, 2512])
Epoch:0, Iteration: 309, Loss: 78.31, TimeElapsed: 12.31Min
Working (10, 200) torch.Size([10, 9])
Normal torch.Size([10, 9]) torch.Size([10, 9, 2512])
Epoch:0, Iteration: 310, Loss: 137.38, TimeElapsed: 12.35Min
Working (10, 200) torch.Size([10, 9])
Normal torch.Size([10, 9]) torch.Size([10, 9, 2512])
Epoch:0, Iteration: 311, Loss: 101.49, TimeElapsed: 12.39Min
Working (10, 200) torch.Size([10, 9])
Normal torch.Size([10, 9]) torch.Size([10, 9, 2512])
Epoch:0, Iteration: 312, Loss: 81.1, TimeElapsed: 12.42Min
Working (10, 200) torch.Size([10, 9])
Normal torch.Size([10, 9]) torch.Size([10, 9, 2512])
Epoch:0, Iteration: 313, Loss: 142.33, TimeElapsed: 12.46Min
Working (10, 200) torch.Size([10, 9])
Normal torch.Size([10, 9]) torch.Size([10, 9, 2512])
Epoch:0, Iteration: 314, Loss: 66.52, TimeElapsed: 12.49Min
Working (10, 200) torch.Size([10, 9])
Normal torch.Size([10, 9]) torch.Size([10, 9, 2512])
Epoch:0, Iteration: 315, Loss: 149.28, TimeElapsed: 12.53Min
Working (10, 200) torch.Size([10, 9])
Normal torch.Size([10, 9]) torch.Size([10, 9, 2512])
Epoch:0, Iteration: 316, Loss: 125.16, TimeElapsed: 12.57Min
Working (10, 200) torch.Size([10, 9])
Normal torch.Size([10, 9]) torch.Size([10, 9, 2512])
Epoch:0, Iteration: 317, Loss: 144.76, TimeElapsed: 12.6Min
Working (10, 200) torch.Size([10, 9])
Normal torch.Size([10, 9]) torch.Size([10, 9, 2512])
Epoch:0, Iteration: 318, Loss: 147.23, TimeElapsed: 12.64Min
Working (10, 200) torch.Size([10, 9])
Normal torch.Size([10, 9]) torch.Size([10, 9, 2512])
Epoch:0, Iteration: 319, Loss: 108.53, TimeElapsed: 12.68Min
Working (10, 200) torch.Size([10, 9])
Normal torch.Size([10, 9]) torch.Size([10, 9, 2512])
Epoch:0, Iteration: 320, Loss: 131.8, TimeElapsed: 12.71Min
Working (10, 200) torch.Size([10, 9])
Normal torch.Size([10, 9]) torch.Size([10, 9, 2512])
Epoch:0, Iteration: 321, Loss: 111.17, TimeElapsed: 12.76Min
Working (10, 200) torch.Size([10, 9])
Normal torch.Size([10, 9]) torch.Size([10, 9, 2512])
Epoch:0, Iteration: 322, Loss: 144.46, TimeElapsed: 12.8Min
Working (10, 200) torch.Size([10, 9])
Normal torch.Size([10, 9]) torch.Size([10, 9, 2512])
Epoch:0, Iteration: 323, Loss: 109.37, TimeElapsed: 12.85Min
Working (10, 200) torch.Size([10, 9])
Normal torch.Size([10, 9]) torch.Size([10, 9, 2512])
Epoch:0, Iteration: 324, Loss: 167.29, TimeElapsed: 12.89Min
Working (10, 200) torch.Size([10, 9])
Normal torch.Size([10, 9]) torch.Size([10, 9, 2512])
Epoch:0, Iteration: 325, Loss: 118.71, TimeElapsed: 12.94Min
Working (10, 200) torch.Size([10, 9])
Normal torch.Size([10, 9]) torch.Size([10, 9, 2512])
Epoch:0, Iteration: 326, Loss: 95.47, TimeElapsed: 12.99Min
Working (10, 200) torch.Size([10, 9])
Normal torch.Size([10, 9]) torch.Size([10, 9, 2512])
Epoch:0, Iteration: 327, Loss: 142.15, TimeElapsed: 13.03Min
Working (10, 200) torch.Size([10, 9])
Normal torch.Size([10, 9]) torch.Size([10, 9, 2512])
Epoch:0, Iteration: 328, Loss: 176.63, TimeElapsed: 13.07Min
Working (10, 200) torch.Size([10, 9])
Normal torch.Size([10, 9]) torch.Size([10, 9, 2512])
Epoch:0, Iteration: 329, Loss: 129.81, TimeElapsed: 13.11Min
Working (10, 200) torch.Size([10, 9])
Normal torch.Size([10, 9]) torch.Size([10, 9, 2512])
Epoch:0, Iteration: 330, Loss: 134.06, TimeElapsed: 13.15Min
Working (10, 200) torch.Size([10, 9])
Normal torch.Size([10, 9]) torch.Size([10, 9, 2512])
Epoch:0, Iteration: 331, Loss: 107.1, TimeElapsed: 13.18Min
Working (10, 200) torch.Size([10, 9])
Normal torch.Size([10, 9]) torch.Size([10, 9, 2512])
Epoch:0, Iteration: 332, Loss: 141.97, TimeElapsed: 13.22Min
Working (10, 200) torch.Size([10, 9])
Normal torch.Size([10, 9]) torch.Size([10, 9, 2512])
Epoch:0, Iteration: 333, Loss: 139.87, TimeElapsed: 13.26Min
Working (10, 200) torch.Size([10, 9])
Normal torch.Size([10, 9]) torch.Size([10, 9, 2512])
Epoch:0, Iteration: 334, Loss: 115.34, TimeElapsed: 13.3Min
Working (10, 200) torch.Size([10, 9])
Normal torch.Size([10, 9]) torch.Size([10, 9, 2512])
Epoch:0, Iteration: 335, Loss: 120.84, TimeElapsed: 13.34Min
Working (10, 200) torch.Size([10, 9])
Normal torch.Size([10, 9]) torch.Size([10, 9, 2512])
Epoch:0, Iteration: 336, Loss: 115.98, TimeElapsed: 13.37Min
Working (10, 200) torch.Size([10, 9])
Normal torch.Size([10, 9]) torch.Size([10, 9, 2512])
Epoch:0, Iteration: 337, Loss: 110.51, TimeElapsed: 13.41Min
Working (10, 200) torch.Size([10, 9])
Normal torch.Size([10, 9]) torch.Size([10, 9, 2512])
Epoch:0, Iteration: 338, Loss: 104.35, TimeElapsed: 13.45Min
Working (10, 200) torch.Size([10, 9])
Normal torch.Size([10, 9]) torch.Size([10, 9, 2512])
Epoch:0, Iteration: 339, Loss: 118.19, TimeElapsed: 13.48Min
Working (10, 200) torch.Size([10, 9])
Normal torch.Size([10, 9]) torch.Size([10, 9, 2512])
Epoch:0, Iteration: 340, Loss: 135.06, TimeElapsed: 13.52Min
Working (10, 200) torch.Size([10, 9])
Normal torch.Size([10, 9]) torch.Size([10, 9, 2512])
Epoch:0, Iteration: 341, Loss: 147.61, TimeElapsed: 13.56Min
Working (10, 200) torch.Size([10, 9])
Normal torch.Size([10, 9]) torch.Size([10, 9, 2512])
Epoch:0, Iteration: 342, Loss: 132.72, TimeElapsed: 13.59Min
Working (10, 200) torch.Size([10, 9])
Normal torch.Size([10, 9]) torch.Size([10, 9, 2512])
Epoch:0, Iteration: 343, Loss: 110.13, TimeElapsed: 13.63Min
Working (10, 200) torch.Size([10, 9])
Normal torch.Size([10, 9]) torch.Size([10, 9, 2512])
Epoch:0, Iteration: 344, Loss: 106.48, TimeElapsed: 13.66Min
Working (10, 200) torch.Size([10, 9])
Normal torch.Size([10, 9]) torch.Size([10, 9, 2512])
Epoch:0, Iteration: 345, Loss: 148.78, TimeElapsed: 13.7Min
Working (10, 200) torch.Size([10, 9])
Normal torch.Size([10, 9]) torch.Size([10, 9, 2512])
Epoch:0, Iteration: 346, Loss: 129.28, TimeElapsed: 13.74Min
Working (10, 200) torch.Size([10, 9])
Normal torch.Size([10, 9]) torch.Size([10, 9, 2512])
Epoch:0, Iteration: 347, Loss: 112.66, TimeElapsed: 13.77Min
Working (10, 200) torch.Size([10, 9])
Normal torch.Size([10, 9]) torch.Size([10, 9, 2512])
Epoch:0, Iteration: 348, Loss: 124.87, TimeElapsed: 13.81Min
Working (10, 200) torch.Size([10, 9])
Normal torch.Size([10, 9]) torch.Size([10, 9, 2512])
Epoch:0, Iteration: 349, Loss: 150.03, TimeElapsed: 13.84Min
Working (10, 200) torch.Size([10, 9])
Normal torch.Size([10, 9]) torch.Size([10, 9, 2512])
Epoch:0, Iteration: 350, Loss: 149.35, TimeElapsed: 13.88Min
Working (10, 200) torch.Size([10, 9])
Normal torch.Size([10, 9]) torch.Size([10, 9, 2512])
Epoch:0, Iteration: 351, Loss: 133.38, TimeElapsed: 13.92Min
Working (10, 200) torch.Size([10, 9])
Normal torch.Size([10, 9]) torch.Size([10, 9, 2512])
Epoch:0, Iteration: 352, Loss: 136.88, TimeElapsed: 13.96Min
Working (10, 200) torch.Size([10, 9])
Normal torch.Size([10, 9]) torch.Size([10, 9, 2512])
Epoch:0, Iteration: 353, Loss: 120.2, TimeElapsed: 13.99Min
Working (10, 200) torch.Size([10, 9])
Normal torch.Size([10, 9]) torch.Size([10, 9, 2512])
Epoch:0, Iteration: 354, Loss: 71.85, TimeElapsed: 14.03Min
Working (10, 200) torch.Size([10, 9])
Normal torch.Size([10, 9]) torch.Size([10, 9, 2512])
Epoch:0, Iteration: 355, Loss: 126.9, TimeElapsed: 14.07Min
Working (10, 200) torch.Size([10, 9])
Normal torch.Size([10, 9]) torch.Size([10, 9, 2512])
Epoch:0, Iteration: 356, Loss: 106.72, TimeElapsed: 14.11Min
Working (10, 200) torch.Size([10, 9])
Normal torch.Size([10, 9]) torch.Size([10, 9, 2512])
Epoch:0, Iteration: 357, Loss: 112.63, TimeElapsed: 14.14Min
Working (10, 200) torch.Size([10, 9])
Normal torch.Size([10, 9]) torch.Size([10, 9, 2512])
Epoch:0, Iteration: 358, Loss: 150.76, TimeElapsed: 14.18Min
Working (10, 200) torch.Size([10, 9])
Normal torch.Size([10, 9]) torch.Size([10, 9, 2512])
Epoch:0, Iteration: 359, Loss: 94.75, TimeElapsed: 14.22Min
Working (10, 200) torch.Size([10, 9])
Normal torch.Size([10, 9]) torch.Size([10, 9, 2512])
Epoch:0, Iteration: 360, Loss: 103.34, TimeElapsed: 14.25Min
Working (10, 200) torch.Size([10, 9])
Normal torch.Size([10, 9]) torch.Size([10, 9, 2512])
Epoch:0, Iteration: 361, Loss: 168.27, TimeElapsed: 14.29Min
Working (10, 200) torch.Size([10, 9])
Normal torch.Size([10, 9]) torch.Size([10, 9, 2512])
Epoch:0, Iteration: 362, Loss: 182.91, TimeElapsed: 14.33Min
Working (10, 200) torch.Size([10, 9])
Normal torch.Size([10, 9]) torch.Size([10, 9, 2512])
Epoch:0, Iteration: 363, Loss: 106.55, TimeElapsed: 14.37Min
Working (10, 200) torch.Size([10, 9])
Normal torch.Size([10, 9]) torch.Size([10, 9, 2512])
Epoch:0, Iteration: 364, Loss: 132.65, TimeElapsed: 14.4Min
Working (10, 200) torch.Size([10, 9])
Normal torch.Size([10, 9]) torch.Size([10, 9, 2512])
Epoch:0, Iteration: 365, Loss: 103.08, TimeElapsed: 14.44Min
Working (10, 200) torch.Size([10, 9])
Normal torch.Size([10, 9]) torch.Size([10, 9, 2512])
Epoch:0, Iteration: 366, Loss: 138.56, TimeElapsed: 14.47Min
Working (10, 200) torch.Size([10, 9])
Normal torch.Size([10, 9]) torch.Size([10, 9, 2512])
Epoch:0, Iteration: 367, Loss: 146.9, TimeElapsed: 14.51Min
Working (10, 200) torch.Size([10, 9])
Normal torch.Size([10, 9]) torch.Size([10, 9, 2512])
Epoch:0, Iteration: 368, Loss: 102.23, TimeElapsed: 14.55Min
Working (10, 200) torch.Size([10, 9])
Normal torch.Size([10, 9]) torch.Size([10, 9, 2512])
Epoch:0, Iteration: 369, Loss: 139.51, TimeElapsed: 14.58Min
Working (10, 200) torch.Size([10, 9])
Normal torch.Size([10, 9]) torch.Size([10, 9, 2512])
Epoch:0, Iteration: 370, Loss: 137.99, TimeElapsed: 14.62Min
Working (10, 200) torch.Size([10, 9])
Normal torch.Size([10, 9]) torch.Size([10, 9, 2512])
Epoch:0, Iteration: 371, Loss: 125.29, TimeElapsed: 14.66Min
Working (10, 200) torch.Size([10, 9])
Normal torch.Size([10, 9]) torch.Size([10, 9, 2512])
Epoch:0, Iteration: 372, Loss: 132.04, TimeElapsed: 14.7Min
Working (10, 200) torch.Size([10, 9])
Normal torch.Size([10, 9]) torch.Size([10, 9, 2512])
Epoch:0, Iteration: 373, Loss: 120.48, TimeElapsed: 14.73Min
Working (10, 200) torch.Size([10, 9])
Normal torch.Size([10, 9]) torch.Size([10, 9, 2512])
Epoch:0, Iteration: 374, Loss: 120.96, TimeElapsed: 14.77Min
Working (10, 200) torch.Size([10, 9])
Normal torch.Size([10, 9]) torch.Size([10, 9, 2512])
Epoch:0, Iteration: 375, Loss: 134.62, TimeElapsed: 14.81Min
Working (10, 200) torch.Size([10, 9])
Normal torch.Size([10, 9]) torch.Size([10, 9, 2512])
Epoch:0, Iteration: 376, Loss: 163.89, TimeElapsed: 14.84Min
Working (10, 200) torch.Size([10, 9])
Normal torch.Size([10, 9]) torch.Size([10, 9, 2512])
Epoch:0, Iteration: 377, Loss: 106.08, TimeElapsed: 14.88Min
Working (10, 200) torch.Size([10, 9])
Normal torch.Size([10, 9]) torch.Size([10, 9, 2512])
Epoch:0, Iteration: 378, Loss: 132.74, TimeElapsed: 14.92Min
Working (10, 200) torch.Size([10, 9])
Normal torch.Size([10, 9]) torch.Size([10, 9, 2512])
Epoch:0, Iteration: 379, Loss: 129.29, TimeElapsed: 14.95Min
Working (10, 200) torch.Size([10, 9])
Normal torch.Size([10, 9]) torch.Size([10, 9, 2512])
Epoch:0, Iteration: 380, Loss: 130.59, TimeElapsed: 14.99Min
Working (10, 200) torch.Size([10, 9])
Normal torch.Size([10, 9]) torch.Size([10, 9, 2512])
Epoch:0, Iteration: 381, Loss: 176.68, TimeElapsed: 15.03Min
Working (10, 200) torch.Size([10, 9])
Normal torch.Size([10, 9]) torch.Size([10, 9, 2512])
Epoch:0, Iteration: 382, Loss: 146.39, TimeElapsed: 15.06Min
Working (10, 200) torch.Size([10, 9])
Normal torch.Size([10, 9]) torch.Size([10, 9, 2512])
Epoch:0, Iteration: 383, Loss: 143.44, TimeElapsed: 15.1Min
Working (10, 200) torch.Size([10, 9])
Normal torch.Size([10, 9]) torch.Size([10, 9, 2512])
Epoch:0, Iteration: 384, Loss: 124.3, TimeElapsed: 15.14Min
Working (10, 200) torch.Size([10, 9])
Normal torch.Size([10, 9]) torch.Size([10, 9, 2512])
Epoch:0, Iteration: 385, Loss: 110.47, TimeElapsed: 15.17Min
Working (10, 200) torch.Size([10, 9])
Normal torch.Size([10, 9]) torch.Size([10, 9, 2512])
Epoch:0, Iteration: 386, Loss: 174.15, TimeElapsed: 15.21Min
Working (10, 200) torch.Size([10, 9])
Normal torch.Size([10, 9]) torch.Size([10, 9, 2512])
Epoch:0, Iteration: 387, Loss: 133.93, TimeElapsed: 15.25Min
Working (10, 200) torch.Size([10, 9])
Normal torch.Size([10, 9]) torch.Size([10, 9, 2512])
Epoch:0, Iteration: 388, Loss: 104.96, TimeElapsed: 15.28Min
Working (10, 200) torch.Size([10, 9])
Normal torch.Size([10, 9]) torch.Size([10, 9, 2512])
Epoch:0, Iteration: 389, Loss: 132.54, TimeElapsed: 15.33Min
Working (10, 200) torch.Size([10, 9])
Normal torch.Size([10, 9]) torch.Size([10, 9, 2512])
Epoch:0, Iteration: 390, Loss: 147.67, TimeElapsed: 15.38Min
Working (10, 200) torch.Size([10, 9])
Normal torch.Size([10, 9]) torch.Size([10, 9, 2512])
Epoch:0, Iteration: 391, Loss: 200.45, TimeElapsed: 15.43Min
Working (10, 200) torch.Size([10, 9])
Normal torch.Size([10, 9]) torch.Size([10, 9, 2512])
Epoch:0, Iteration: 392, Loss: 149.76, TimeElapsed: 15.47Min
Working (10, 200) torch.Size([10, 9])
Normal torch.Size([10, 9]) torch.Size([10, 9, 2512])
Epoch:0, Iteration: 393, Loss: 146.17, TimeElapsed: 15.51Min
Working (10, 200) torch.Size([10, 9])
Normal torch.Size([10, 9]) torch.Size([10, 9, 2512])
Epoch:0, Iteration: 394, Loss: 119.56, TimeElapsed: 15.55Min
Working (10, 200) torch.Size([10, 9])
Normal torch.Size([10, 9]) torch.Size([10, 9, 2512])
Epoch:0, Iteration: 395, Loss: 99.76, TimeElapsed: 15.58Min
Working (10, 200) torch.Size([10, 9])
Normal torch.Size([10, 9]) torch.Size([10, 9, 2512])
Epoch:0, Iteration: 396, Loss: 129.16, TimeElapsed: 15.62Min
Working (10, 200) torch.Size([10, 9])
Normal torch.Size([10, 9]) torch.Size([10, 9, 2512])
Epoch:0, Iteration: 397, Loss: 114.35, TimeElapsed: 15.66Min
Working (10, 200) torch.Size([10, 9])
Normal torch.Size([10, 9]) torch.Size([10, 9, 2512])
Epoch:0, Iteration: 398, Loss: 129.78, TimeElapsed: 15.69Min
Working (10, 200) torch.Size([10, 9])
Normal torch.Size([10, 9]) torch.Size([10, 9, 2512])
Epoch:0, Iteration: 399, Loss: 163.93, TimeElapsed: 15.73Min
Working (10, 200) torch.Size([10, 9])
Normal torch.Size([10, 9]) torch.Size([10, 9, 2512])
Epoch:0, Iteration: 400, Loss: 115.77, TimeElapsed: 15.77Min
Working (10, 200) torch.Size([10, 9])
Normal torch.Size([10, 9]) torch.Size([10, 9, 2512])
Epoch:0, Iteration: 401, Loss: 109.3, TimeElapsed: 15.8Min
Working (10, 200) torch.Size([10, 9])
Normal torch.Size([10, 9]) torch.Size([10, 9, 2512])
[START] vendor busy [END] NIL NIL NIL NIL NIL
[START] NIL NIL NIL NIL NIL NIL NIL NIL 

[START] two young men wrestling [END] NIL NIL NIL
[START] NIL NIL NIL NIL NIL NIL NIL NIL 

[START] surfer riding [END] NIL NIL NIL NIL NIL
[START] NIL NIL NIL NIL NIL NIL NIL NIL 

[START] two women sitting table [END] NIL NIL NIL
[START] NIL NIL NIL NIL NIL NIL NIL NIL 

[START] woman kneels [END] NIL NIL NIL NIL NIL
[START] NIL NIL NIL NIL NIL NIL NIL NIL 

[START] man motorcycle [END] NIL NIL NIL NIL NIL
[START] NIL NIL NIL NIL NIL NIL NIL NIL 

[START] man walks [END] NIL NIL NIL NIL NIL
[START] NIL NIL NIL NIL NIL NIL NIL NIL 

[START] group people walk [END] NIL NIL NIL NIL
[START] NIL NIL NIL NIL NIL NIL NIL NIL 

[START] ladies blondish [END] NIL NIL NIL NIL NIL
[START] NIL NIL NIL NIL NIL NIL NIL NIL 

[START] several women wearing [END] NIL NIL NIL NIL
[START] NIL NIL NIL NIL NIL NIL NIL NIL 

Epoch:0, Iteration: 402, Loss: 89.22, TimeElapsed: 15.84Min
Working (10, 200) torch.Size([10, 9])
Normal torch.Size([10, 9]) torch.Size([10, 9, 2512])
[START] man jeans practicing [END] NIL NIL NIL NIL
[START] vendor vendor vendor vendor vendor vendor vendor vendor 

[START] women bike helmets take break [END] NIL NIL
[START] vendor vendor vendor vendor vendor vendor vendor vendor 

[START] man sitting [END] NIL NIL NIL NIL NIL
[START] vendor vendor vendor vendor vendor vendor vendor vendor 

[START] man swimming little boy [END] NIL NIL NIL
[START] vendor vendor vendor vendor vendor vendor vendor vendor 

[START] two women walking beach [END] NIL NIL NIL
[START] vendor vendor vendor vendor vendor vendor vendor vendor 

[START] young man [END] NIL NIL NIL NIL NIL
[START] vendor vendor vendor vendor vendor vendor vendor vendor 

[START] woman wearing long green skirt [END] NIL NIL
[START] vendor vendor vendor vendor vendor vendor vendor vendor 

[START] two brown dogs runs [END] NIL NIL NIL
[START] vendor vendor vendor vendor vendor vendor vendor vendor 

[START] two women sitting [END] NIL NIL NIL NIL
[START] vendor vendor vendor vendor vendor vendor vendor vendor 

[START] crowd people walking past [END] NIL NIL NIL
[START] vendor vendor vendor vendor vendor vendor vendor vendor 

Epoch:0, Iteration: 403, Loss: 101.86, TimeElapsed: 15.88Min
Working (10, 200) torch.Size([10, 9])
Normal torch.Size([10, 9]) torch.Size([10, 9, 2512])
[START] child red [END] NIL NIL NIL NIL NIL
[START] two NIL NIL NIL NIL NIL NIL NIL 

[START] group cheerleaders perform stunts [END] NIL NIL NIL
[START] two NIL NIL NIL NIL NIL NIL NIL 

[START] man jersey 23 [END] NIL NIL NIL NIL
[START] two NIL NIL NIL NIL NIL NIL NIL 

[START] woman sitting red chair [END] NIL NIL NIL
[START] two NIL NIL NIL NIL NIL NIL NIL 

[START] crowded city street [END] NIL NIL NIL NIL
[START] two NIL NIL NIL NIL NIL NIL NIL 

[START] cyclist performing stunt [END] NIL NIL NIL NIL
[START] two NIL NIL NIL NIL NIL NIL NIL 

[START] boy red [END] NIL NIL NIL NIL NIL
[START] two NIL NIL NIL NIL NIL NIL NIL 

[START] two kids jeans perform [END] NIL NIL NIL
[START] two NIL NIL NIL NIL NIL NIL NIL 

[START] four male musicians one female musician [END] NIL
[START] two NIL NIL NIL NIL NIL NIL NIL 

[START] two men wearing hats [END] NIL NIL NIL
[START] two NIL NIL NIL NIL NIL NIL NIL 

Epoch:0, Iteration: 404, Loss: 136.38, TimeElapsed: 15.92Min
Working (10, 200) torch.Size([10, 9])
Normal torch.Size([10, 9]) torch.Size([10, 9, 2512])
[START] couple waits cross [END] NIL NIL NIL NIL
[START] chair chair chair chair chair chair chair chair 

[START] three young boys enjoying nature [END] NIL NIL
[START] chair chair chair chair chair chair chair chair 

[START] small male child running [END] NIL NIL NIL
[START] chair chair chair chair chair chair chair chair 

[START] frightened little boy pulled [END] NIL NIL NIL
[START] chair chair chair chair chair chair chair chair 

[START] seven joggers run [END] NIL NIL NIL NIL
[START] chair chair chair chair chair chair chair chair 

[START] boy snow [END] NIL NIL NIL NIL NIL
[START] chair chair chair chair chair chair chair chair 

[START] bull riding people watching [END] NIL NIL NIL
[START] chair chair chair chair chair chair chair chair 

[START] two friends smiling wearing large [END] NIL NIL
[START] chair chair chair chair chair chair chair chair 

[START] children playing stopped motion [END] NIL NIL NIL
[START] chair chair chair chair chair chair chair chair 

[START] hockey goalie two [END] NIL NIL NIL NIL
[START] chair chair chair chair chair chair chair chair 

Epoch:0, Iteration: 405, Loss: 181.65, TimeElapsed: 15.96Min
Working (10, 200) torch.Size([10, 9])
Normal torch.Size([10, 9]) torch.Size([10, 9, 2512])
[START] three girls long brown [END] NIL NIL NIL
[START] two [END] [END] [END] [END] [END] [END] [END] 

[START] girl splits air [END] NIL NIL NIL NIL
[START] two [END] [END] [END] [END] [END] [END] [END] 

[START] crane hoisting someone next [END] NIL NIL NIL
[START] two [END] [END] [END] [END] [END] [END] [END] 

[START] two young boys sitting [END] NIL NIL NIL
[START] two [END] [END] [END] [END] [END] [END] [END] 

[START] women ladder painting [END] NIL NIL NIL NIL
[START] two [END] [END] [END] [END] [END] [END] [END] 

[START] pedestrians cars make [END] NIL NIL NIL NIL
[START] two [END] [END] [END] [END] [END] [END] [END] 

[START] woman paints landscape [END] NIL NIL NIL NIL
[START] two [END] [END] [END] [END] [END] [END] [END] 

[START] african woman carries [END] NIL NIL NIL NIL
[START] two [END] [END] [END] [END] [END] [END] [END] 

[START] man sitting next [END] NIL NIL NIL NIL
[START] two [END] [END] [END] [END] [END] [END] [END] 

[START] girl tries move luggage [END] NIL NIL NIL
[START] two [END] [END] [END] [END] [END] [END] [END] 

Epoch:0, Iteration: 406, Loss: 145.91, TimeElapsed: 16.0Min
Working (10, 200) torch.Size([10, 9])
Normal torch.Size([10, 9]) torch.Size([10, 9, 2512])
[START] two women playing volleyball [END] NIL NIL NIL
[START] long long long long long long long long 

[START] child smiles hangs small [END] NIL NIL NIL
[START] long long long long long long long long 

[START] lady blond hair [END] NIL NIL NIL NIL
[START] long long long long long long long long 

[START] person wearing large brimmed hat [END] NIL NIL
[START] long long long long long long long long 

[START] adolescent green pants [END] NIL NIL NIL NIL
[START] long long long long long long long long 

[START] two people walking shadow [END] NIL NIL NIL
[START] long long long long long long long long 

[START] man dressed [END] NIL NIL NIL NIL NIL
[START] long long long long long long long long 

[START] large group women [END] NIL NIL NIL NIL
[START] long long long long long long long long 

[START] man sits table [END] NIL NIL NIL NIL
[START] long long long long long long long long 

[START] asian man looks [END] NIL NIL NIL NIL
[START] long long long long long long long long 

Epoch:0, Iteration: 407, Loss: 127.25, TimeElapsed: 16.03Min
Working (10, 200) torch.Size([10, 9])
Error (10, 200) torch.Size([10, 9])
Normal torch.Size([10, 9]) (10, 200)
Working (10, 200) torch.Size([10, 9])
Normal torch.Size([10, 9]) torch.Size([10, 9, 2512])
[START] three people jackets backs turned [END] NIL NIL
[START] practicing NIL NIL NIL NIL NIL NIL NIL 

[START] little boy [END] NIL NIL NIL NIL NIL
[START] practicing NIL NIL NIL NIL NIL NIL NIL 

[START] group soccer players [END] NIL NIL NIL NIL
[START] practicing NIL NIL NIL NIL NIL NIL NIL 

[START] young man [END] NIL NIL NIL NIL NIL
[START] practicing NIL NIL NIL NIL NIL NIL NIL 

[START] person balances one hand [END] NIL NIL NIL
[START] practicing NIL NIL NIL NIL NIL NIL NIL 

[START] couple several people [END] NIL NIL NIL NIL
[START] practicing NIL NIL NIL NIL NIL NIL NIL 

[START] woman yellow shirt [END] NIL NIL NIL NIL
[START] practicing NIL NIL NIL NIL NIL NIL NIL 

[START] women playing ultimate frisbee [END] NIL NIL NIL
[START] practicing NIL NIL NIL NIL NIL NIL NIL 

[START] two male spectators [END] NIL NIL NIL NIL
[START] practicing NIL NIL NIL NIL NIL NIL NIL 

[START] sexy young men stand [END] NIL NIL NIL
[START] practicing NIL NIL NIL NIL NIL NIL NIL 

Epoch:0, Iteration: 408, Loss: 124.49, TimeElapsed: 16.1Min
Working (10, 200) torch.Size([10, 9])
Normal torch.Size([10, 9]) torch.Size([10, 9, 2512])
[START] baby playing [END] NIL NIL NIL NIL NIL
[START] city city city city city city city city 

[START] male rides skateboard [END] NIL NIL NIL NIL
[START] city city city city city city city city 

[START] hiker shadowed time [END] NIL NIL NIL NIL
[START] city city city city city city city city 

[START] green sunglasses pink swimsuit set [END] NIL NIL
[START] city city city city city city city city 

[START] man yields slow [END] NIL NIL NIL NIL
[START] city city city city city city city city 

[START] hot air balloon [END] NIL NIL NIL NIL
[START] city city city city city city city city 

[START] road vehicle climbs [END] NIL NIL NIL NIL
[START] city city city city city city city city 

[START] young man taking picture [END] NIL NIL NIL
[START] city city city city city city city city 

[START] guy walking bicycle [END] NIL NIL NIL NIL
[START] city city city city city city city city 

[START] lady pushing baby [END] NIL NIL NIL NIL
[START] city city city city city city city city 

Epoch:0, Iteration: 409, Loss: 156.96, TimeElapsed: 16.14Min
Working (10, 200) torch.Size([10, 9])
Normal torch.Size([10, 9]) torch.Size([10, 9, 2512])
[START] group people competing [END] NIL NIL NIL NIL
[START] seven NIL NIL NIL NIL NIL NIL NIL 

[START] bike sitting [END] NIL NIL NIL NIL NIL
[START] seven NIL NIL NIL NIL NIL NIL NIL 

[START] big dog [END] NIL NIL NIL NIL NIL
[START] seven NIL NIL NIL NIL NIL NIL NIL 

[START] woman wearing glasses black shirt [END] NIL NIL
[START] seven NIL NIL NIL NIL NIL NIL NIL 

[START] brown haired woman talking man [END] NIL NIL
[START] seven NIL NIL NIL NIL NIL NIL NIL 

[START] man axe chopping wood [END] NIL NIL NIL
[START] seven NIL NIL NIL NIL NIL NIL NIL 

[START] four people subway [END] NIL NIL NIL NIL
[START] seven NIL NIL NIL NIL NIL NIL NIL 

[START] redheaded woman long haired man [END] NIL NIL
[START] seven NIL NIL NIL NIL NIL NIL NIL 

[START] man reading cookbook making [END] NIL NIL NIL
[START] seven NIL NIL NIL NIL NIL NIL NIL 

[START] two young children walking [END] NIL NIL NIL
[START] seven NIL NIL NIL NIL NIL NIL NIL 

Epoch:0, Iteration: 410, Loss: 128.42, TimeElapsed: 16.18Min
Working (10, 200) torch.Size([10, 9])
Normal torch.Size([10, 9]) torch.Size([10, 9, 2512])
[START] two dancers stage [END] NIL NIL NIL NIL
[START] group NIL NIL NIL NIL NIL NIL NIL 

[START] man black shirt jeans [END] NIL NIL NIL
[START] group NIL NIL NIL NIL NIL NIL NIL 

[START] four kids backstand [END] NIL NIL NIL NIL
[START] group NIL NIL NIL NIL NIL NIL NIL 

[START] two people standing top [END] NIL NIL NIL
[START] group NIL NIL NIL NIL NIL NIL NIL 

[START] two light golden colored dogs playfully [END] NIL
[START] group NIL NIL NIL NIL NIL NIL NIL 

[START] couple holding [END] NIL NIL NIL NIL NIL
[START] group NIL NIL NIL NIL NIL NIL NIL 

[START] main shorts digs [END] NIL NIL NIL NIL
[START] group NIL NIL NIL NIL NIL NIL NIL 

[START] woman dancer [END] NIL NIL NIL NIL NIL
[START] group NIL NIL NIL NIL NIL NIL NIL 

[START] man walking desert [END] NIL NIL NIL NIL
[START] group NIL NIL NIL NIL NIL NIL NIL 

[START] several fans walking around outside [END] NIL NIL
[START] group NIL NIL NIL NIL NIL NIL NIL 

Epoch:0, Iteration: 411, Loss: 161.55, TimeElapsed: 16.22Min
Working (10, 200) torch.Size([10, 9])
Normal torch.Size([10, 9]) torch.Size([10, 9, 2512])
[START] group people watching laptop [END] NIL NIL NIL
[START] people people people NIL NIL NIL NIL NIL 

[START] 3 kids playing bubbles outside [END] NIL NIL
[START] people people people NIL NIL NIL NIL NIL 

[START] man riding bucking [END] NIL NIL NIL NIL
[START] people people people NIL NIL NIL NIL NIL 

[START] dog lying blue cloth [END] NIL NIL NIL
[START] people people people NIL NIL NIL NIL NIL 

[START] five young people playing [END] NIL NIL NIL
[START] people people people NIL NIL NIL NIL NIL 

[START] black white dog running [END] NIL NIL NIL
[START] people people people NIL NIL NIL NIL NIL 

[START] four people lounging [END] NIL NIL NIL NIL
[START] people people people NIL NIL NIL NIL NIL 

[START] crowd people socializing drinking [END] NIL NIL NIL
[START] people people people NIL NIL NIL NIL NIL 

[START] man wearing stained blue [END] NIL NIL NIL
[START] people people people NIL NIL NIL NIL NIL 

[START] man motorcycle [END] NIL NIL NIL NIL NIL
[START] people people people NIL NIL NIL NIL NIL 

Epoch:0, Iteration: 412, Loss: 136.06, TimeElapsed: 16.25Min
Working (10, 200) torch.Size([10, 9])
Normal torch.Size([10, 9]) torch.Size([10, 9, 2512])
[START] two men [END] NIL NIL NIL NIL NIL
[START] woman [END] [END] [END] [END] [END] [END] [END] 

[START] person sitting behind two [END] NIL NIL NIL
[START] woman [END] [END] [END] [END] [END] [END] [END] 

[START] two men young [END] NIL NIL NIL NIL
[START] woman [END] [END] [END] [END] [END] [END] [END] 

[START] people standing line [END] NIL NIL NIL NIL
[START] woman [END] [END] [END] [END] [END] [END] [END] 

[START] two small children playing [END] NIL NIL NIL
[START] woman [END] [END] [END] [END] [END] [END] [END] 

[START] man sitting talking [END] NIL NIL NIL NIL
[START] woman [END] [END] [END] [END] [END] [END] [END] 

[START] pilot leaving [END] NIL NIL NIL NIL NIL
[START] woman [END] [END] [END] [END] [END] [END] [END] 

[START] people stand outside house [END] NIL NIL NIL
[START] woman [END] [END] [END] [END] [END] [END] [END] 

[START] three children watching [END] NIL NIL NIL NIL
[START] woman [END] [END] [END] [END] [END] [END] [END] 

[START] young boy standing classroom [END] NIL NIL NIL
[START] woman [END] [END] [END] [END] [END] [END] [END] 

Epoch:0, Iteration: 413, Loss: 101.67, TimeElapsed: 16.29Min
Working (10, 200) torch.Size([10, 9])
Normal torch.Size([10, 9]) torch.Size([10, 9, 2512])
[START] man swords battling [END] NIL NIL NIL NIL
[START] woman [END] NIL NIL NIL NIL NIL NIL 

[START] man woman [END] NIL NIL NIL NIL NIL
[START] woman [END] NIL NIL NIL NIL NIL NIL 

[START] dog jumps catch [END] NIL NIL NIL NIL
[START] woman [END] NIL NIL NIL NIL NIL NIL 

[START] group people get [END] NIL NIL NIL NIL
[START] woman [END] NIL NIL NIL NIL NIL NIL 

[START] young boy red [END] NIL NIL NIL NIL
[START] woman [END] NIL NIL NIL NIL NIL NIL 

[START] woman riding bike [END] NIL NIL NIL NIL
[START] woman [END] NIL NIL NIL NIL NIL NIL 

[START] awesome skateboarder trick [END] NIL NIL NIL NIL
[START] woman [END] NIL NIL NIL NIL NIL NIL 

[START] person stands high [END] NIL NIL NIL NIL
[START] woman [END] NIL NIL NIL NIL NIL NIL 

[START] people sit near fire [END] NIL NIL NIL
[START] woman [END] NIL NIL NIL NIL NIL NIL 

[START] smiling child wearing [END] NIL NIL NIL NIL
[START] woman [END] NIL NIL NIL NIL NIL NIL 

Epoch:0, Iteration: 414, Loss: 105.33, TimeElapsed: 16.33Min
Working (10, 200) torch.Size([10, 9])
Normal torch.Size([10, 9]) torch.Size([10, 9, 2512])
[START] small red haired girl jumps [END] NIL NIL
[START] man helmets NIL NIL NIL NIL NIL NIL 

[START] woman sits [END] NIL NIL NIL NIL NIL
[START] man helmets NIL NIL NIL NIL NIL NIL 

[START] teenagers matching shirts stand [END] NIL NIL NIL
[START] man helmets NIL NIL NIL NIL NIL NIL 

[START] couple sitting [END] NIL NIL NIL NIL NIL
[START] man helmets NIL NIL NIL NIL NIL NIL 

[START] man large feather [END] NIL NIL NIL NIL
[START] man helmets NIL NIL NIL NIL NIL NIL 

[START] young boy [END] NIL NIL NIL NIL NIL
[START] man helmets NIL NIL NIL NIL NIL NIL 

[START] two people sit [END] NIL NIL NIL NIL
[START] man helmets NIL NIL NIL NIL NIL NIL 

[START] one woman laughing [END] NIL NIL NIL NIL
[START] man helmets NIL NIL NIL NIL NIL NIL 

[START] dog cat [END] NIL NIL NIL NIL NIL
[START] man helmets NIL NIL NIL NIL NIL NIL 

[START] man big hair [END] NIL NIL NIL NIL
[START] man helmets NIL NIL NIL NIL NIL NIL 

Epoch:0, Iteration: 415, Loss: 116.16, TimeElapsed: 16.36Min
Working (10, 200) torch.Size([10, 9])
Normal torch.Size([10, 9]) torch.Size([10, 9, 2512])
[START] young girl ringlets [END] NIL NIL NIL NIL
[START] trick trick trick trick trick trick trick trick 

[START] young girl mixes flour [END] NIL NIL NIL
[START] trick trick trick trick trick trick trick trick 

[START] man blue [END] NIL NIL NIL NIL NIL
[START] trick trick trick trick trick trick trick trick 

[START] image [END] NIL NIL NIL NIL NIL NIL
[START] trick trick trick trick trick trick trick trick 

[START] baby boy overalls [END] NIL NIL NIL NIL
[START] trick trick trick trick trick trick trick trick 

[START] teen [END] NIL NIL NIL NIL NIL NIL
[START] trick trick trick trick trick trick trick trick 

[START] chinese restaurant employee giving [END] NIL NIL NIL
[START] trick trick trick trick trick trick trick trick 

[START] man sitting near [END] NIL NIL NIL NIL
[START] trick trick trick trick trick trick trick trick 

[START] man white shirt play [END] NIL NIL NIL
[START] trick trick trick trick trick trick trick trick 

[START] rodeo star rides [END] NIL NIL NIL NIL
[START] trick trick trick trick trick trick trick trick 

Epoch:0, Iteration: 416, Loss: 135.35, TimeElapsed: 16.4Min
Working (10, 200) torch.Size([10, 9])
Normal torch.Size([10, 9]) torch.Size([10, 9, 2512])
[START] people sitting circle [END] NIL NIL NIL NIL
[START] man NIL NIL NIL NIL NIL NIL NIL 

[START] picture [END] NIL NIL NIL NIL NIL NIL
[START] man NIL NIL NIL NIL NIL NIL NIL 

[START] well dressed man sleeps subway [END] NIL NIL
[START] man NIL NIL NIL NIL NIL NIL NIL 

[START] partially furled flag carried atrium [END] NIL NIL
[START] man NIL NIL NIL NIL NIL NIL NIL 

[START] children running along waters edge [END] NIL NIL
[START] man NIL NIL NIL NIL NIL NIL NIL 

[START] two boys play soccer rain [END] NIL NIL
[START] man NIL NIL NIL NIL NIL NIL NIL 

[START] young white boy [END] NIL NIL NIL NIL
[START] man NIL NIL NIL NIL NIL NIL NIL 

[START] shirtless man [END] NIL NIL NIL NIL NIL
[START] man NIL NIL NIL NIL NIL NIL NIL 

[START] 2 men taking photo [END] NIL NIL NIL
[START] man NIL NIL NIL NIL NIL NIL NIL 

[START] young couple many [END] NIL NIL NIL NIL
[START] man NIL NIL NIL NIL NIL NIL NIL 

Epoch:0, Iteration: 417, Loss: 194.71, TimeElapsed: 16.44Min
Working (10, 200) torch.Size([10, 9])
Normal torch.Size([10, 9]) torch.Size([10, 9, 2512])
[START] man wearing black glasses v neck [END] NIL
[START] fire fire fire fire fire fire fire fire 

[START] 2 men one orange raincoat [END] NIL NIL
[START] fire fire fire fire fire fire fire fire 

[START] man sleeping sidewalk [END] NIL NIL NIL NIL
[START] fire fire fire fire fire fire fire fire 

[START] large group people watching [END] NIL NIL NIL
[START] fire fire fire fire fire fire fire fire 

[START] dark haired little boy upset [END] NIL NIL
[START] fire fire fire fire fire fire fire fire 

[START] asian farmer walking rice [END] NIL NIL NIL
[START] fire fire fire fire fire fire fire fire 

[START] man guiding [END] NIL NIL NIL NIL NIL
[START] fire fire fire fire fire fire fire fire 

[START] group runners running [END] NIL NIL NIL NIL
[START] fire fire fire fire fire fire fire fire 

[START] ring beerier flower girl walking [END] NIL NIL
[START] fire fire fire fire fire fire fire fire 

[START] man blue goggles [END] NIL NIL NIL NIL
[START] fire fire fire fire fire fire fire fire 

Epoch:0, Iteration: 418, Loss: 190.04, TimeElapsed: 16.48Min
Working (10, 200) torch.Size([10, 9])
Normal torch.Size([10, 9]) torch.Size([10, 9, 2512])
[START] worker cage [END] NIL NIL NIL NIL NIL
[START] set NIL NIL NIL NIL NIL NIL NIL 

[START] cook butcher enjoying meal [END] NIL NIL NIL
[START] set NIL NIL NIL NIL NIL NIL NIL 

[START] dark brown dog running [END] NIL NIL NIL
[START] set NIL NIL NIL NIL NIL NIL NIL 

[START] young boy [END] NIL NIL NIL NIL NIL
[START] set NIL NIL NIL NIL NIL NIL NIL 

[START] items sold [END] NIL NIL NIL NIL NIL
[START] set NIL NIL NIL NIL NIL NIL NIL 

[START] man singing playing [END] NIL NIL NIL NIL
[START] set NIL NIL NIL NIL NIL NIL NIL 

[START] young boy points [END] NIL NIL NIL NIL
[START] set NIL NIL NIL NIL NIL NIL NIL 

[START] man bent retail [END] NIL NIL NIL NIL
[START] set NIL NIL NIL NIL NIL NIL NIL 

[START] little girl holding infant [END] NIL NIL NIL
[START] set NIL NIL NIL NIL NIL NIL NIL 

[START] two women hats decorated [END] NIL NIL NIL
[START] set NIL NIL NIL NIL NIL NIL NIL 

Epoch:0, Iteration: 419, Loss: 146.59, TimeElapsed: 16.52Min
Working (10, 200) torch.Size([10, 9])
Normal torch.Size([10, 9]) torch.Size([10, 9, 2512])
[START] woman [END] NIL NIL NIL NIL NIL NIL
[START] near near NIL NIL NIL NIL NIL NIL 

[START] group people knees [END] NIL NIL NIL NIL
[START] near near NIL NIL NIL NIL NIL NIL 

[START] black dog [END] NIL NIL NIL NIL NIL
[START] near near NIL NIL NIL NIL NIL NIL 

[START] woman painting [END] NIL NIL NIL NIL NIL
[START] near near NIL NIL NIL NIL NIL NIL 

[START] hard working technician digs [END] NIL NIL NIL
[START] near near NIL NIL NIL NIL NIL NIL 

[START] man blue shirt standing [END] NIL NIL NIL
[START] near near NIL NIL NIL NIL NIL NIL 

[START] three woman prepare meal [END] NIL NIL NIL
[START] near near NIL NIL NIL NIL NIL NIL 

[START] man pierced ears [END] NIL NIL NIL NIL
[START] near near NIL NIL NIL NIL NIL NIL 

[START] red car ahead two [END] NIL NIL NIL
[START] near near NIL NIL NIL NIL NIL NIL 

[START] large group women sew [END] NIL NIL NIL
[START] near near NIL NIL NIL NIL NIL NIL 

Epoch:0, Iteration: 420, Loss: 135.34, TimeElapsed: 16.56Min
Working (10, 200) torch.Size([10, 9])
Normal torch.Size([10, 9]) torch.Size([10, 9, 2512])
[START] boy holding [END] NIL NIL NIL NIL NIL
[START] two [END] [END] [END] [END] [END] [END] [END] 

[START] woman blue [END] NIL NIL NIL NIL NIL
[START] two [END] [END] [END] [END] [END] [END] [END] 

[START] group boys blue [END] NIL NIL NIL NIL
[START] two [END] [END] [END] [END] [END] [END] [END] 

[START] man sings stage guitar [END] NIL NIL NIL
[START] two [END] [END] [END] [END] [END] [END] [END] 

[START] child dressed blue [END] NIL NIL NIL NIL
[START] two [END] [END] [END] [END] [END] [END] [END] 

[START] man colorful shirt [END] NIL NIL NIL NIL
[START] two [END] [END] [END] [END] [END] [END] [END] 

[START] construction workers building railroad [END] NIL NIL NIL
[START] two [END] [END] [END] [END] [END] [END] [END] 

[START] group soldiers wearing [END] NIL NIL NIL NIL
[START] two [END] [END] [END] [END] [END] [END] [END] 

[START] woman wearing pink white orange [END] NIL NIL
[START] two [END] [END] [END] [END] [END] [END] [END] 

[START] group people wearing name tags gather [END] NIL
[START] two [END] [END] [END] [END] [END] [END] [END] 

Epoch:0, Iteration: 421, Loss: 107.73, TimeElapsed: 16.6Min
Working (10, 200) torch.Size([10, 9])
Normal torch.Size([10, 9]) torch.Size([10, 9, 2512])
[START] old lady sitting [END] NIL NIL NIL NIL
[START] group giving NIL NIL NIL NIL NIL NIL 

[START] several people lean together [END] NIL NIL NIL
[START] group giving NIL NIL NIL NIL NIL NIL 

[START] doberman running [END] NIL NIL NIL NIL NIL
[START] group giving NIL NIL NIL NIL NIL NIL 

[START] brown dog [END] NIL NIL NIL NIL NIL
[START] group giving NIL NIL NIL NIL NIL NIL 

[START] two people side [END] NIL NIL NIL NIL
[START] group giving NIL NIL NIL NIL NIL NIL 

[START] black tan dog [END] NIL NIL NIL NIL
[START] group giving NIL NIL NIL NIL NIL NIL 

[START] man sliding [END] NIL NIL NIL NIL NIL
[START] group giving NIL NIL NIL NIL NIL NIL 

[START] woman black [END] NIL NIL NIL NIL NIL
[START] group giving NIL NIL NIL NIL NIL NIL 

[START] young man wearing glasses looks frustrated [END] NIL
[START] group giving NIL NIL NIL NIL NIL NIL 

[START] woman nice [END] NIL NIL NIL NIL NIL
[START] group giving NIL NIL NIL NIL NIL NIL 

Epoch:0, Iteration: 422, Loss: 95.13, TimeElapsed: 16.63Min
Working (10, 200) torch.Size([10, 9])
Normal torch.Size([10, 9]) torch.Size([10, 9, 2512])
[START] man little girl [END] NIL NIL NIL NIL
[START] sidewalk sidewalk NIL NIL NIL NIL NIL NIL 

[START] three black men aprons [END] NIL NIL NIL
[START] sidewalk sidewalk NIL NIL NIL NIL NIL NIL 

[START] mule carrying man [END] NIL NIL NIL NIL
[START] sidewalk sidewalk NIL NIL NIL NIL NIL NIL 

[START] dog standing next [END] NIL NIL NIL NIL
[START] sidewalk sidewalk NIL NIL NIL NIL NIL NIL 

[START] man trying get ready [END] NIL NIL NIL
[START] sidewalk sidewalk NIL NIL NIL NIL NIL NIL 

[START] artist drawing portrait woman [END] NIL NIL NIL
[START] sidewalk sidewalk NIL NIL NIL NIL NIL NIL 

[START] fisherman fishes [END] NIL NIL NIL NIL NIL
[START] sidewalk sidewalk NIL NIL NIL NIL NIL NIL 

[START] people outside small tents [END] NIL NIL NIL
[START] sidewalk sidewalk NIL NIL NIL NIL NIL NIL 

[START] young man yellow pants engaging [END] NIL NIL
[START] sidewalk sidewalk NIL NIL NIL NIL NIL NIL 

[START] people cram together [END] NIL NIL NIL NIL
[START] sidewalk sidewalk NIL NIL NIL NIL NIL NIL 

Epoch:0, Iteration: 423, Loss: 162.88, TimeElapsed: 16.67Min
Working (10, 200) torch.Size([10, 9])
Normal torch.Size([10, 9]) torch.Size([10, 9, 2512])
[START] little girl boy [END] NIL NIL NIL NIL
[START] two NIL NIL NIL NIL NIL NIL NIL 

[START] little girl spinning [END] NIL NIL NIL NIL
[START] two NIL NIL NIL NIL NIL NIL NIL 

[START] girl bikini [END] NIL NIL NIL NIL NIL
[START] two NIL NIL NIL NIL NIL NIL NIL 

[START] young boy [END] NIL NIL NIL NIL NIL
[START] two NIL NIL NIL NIL NIL NIL NIL 

[START] black bald baby overall [END] NIL NIL NIL
[START] two NIL NIL NIL NIL NIL NIL NIL 

[START] group people white [END] NIL NIL NIL NIL
[START] two NIL NIL NIL NIL NIL NIL NIL 

[START] man wearing blue [END] NIL NIL NIL NIL
[START] two NIL NIL NIL NIL NIL NIL NIL 

[START] woman chinese attire [END] NIL NIL NIL NIL
[START] two NIL NIL NIL NIL NIL NIL NIL 

[START] three women walk [END] NIL NIL NIL NIL
[START] two NIL NIL NIL NIL NIL NIL NIL 

[START] two men hiking snow [END] NIL NIL NIL
[START] two NIL NIL NIL NIL NIL NIL NIL 

Epoch:0, Iteration: 424, Loss: 91.25, TimeElapsed: 16.71Min
Working (10, 200) torch.Size([10, 9])
Normal torch.Size([10, 9]) torch.Size([10, 9, 2512])
[START] man shorts two [END] NIL NIL NIL NIL
[START] man NIL NIL NIL NIL NIL NIL NIL 

[START] people engaged worked [END] NIL NIL NIL NIL
[START] man NIL NIL NIL NIL NIL NIL NIL 

[START] hockey player [END] NIL NIL NIL NIL NIL
[START] man NIL NIL NIL NIL NIL NIL NIL 

[START] man bottom [END] NIL NIL NIL NIL NIL
[START] man NIL NIL NIL NIL NIL NIL NIL 

[START] dog runs field [END] NIL NIL NIL NIL
[START] man NIL NIL NIL NIL NIL NIL NIL 

[START] man yellow hard hat [END] NIL NIL NIL
[START] man NIL NIL NIL NIL NIL NIL NIL 

[START] three dogs running [END] NIL NIL NIL NIL
[START] man NIL NIL NIL NIL NIL NIL NIL 

[START] chef cooking multiple [END] NIL NIL NIL NIL
[START] man NIL NIL NIL NIL NIL NIL NIL 

[START] man works large vehicle [END] NIL NIL NIL
[START] man NIL NIL NIL NIL NIL NIL NIL 

[START] man drilling hole [END] NIL NIL NIL NIL
[START] man NIL NIL NIL NIL NIL NIL NIL 

Epoch:0, Iteration: 425, Loss: 126.36, TimeElapsed: 16.74Min
Working (10, 200) torch.Size([10, 9])
Normal torch.Size([10, 9]) torch.Size([10, 9, 2512])
[START] man black attire [END] NIL NIL NIL NIL
[START] man [END] [END] [END] [END] [END] [END] [END] 

[START] woman holding drink [END] NIL NIL NIL NIL
[START] man [END] [END] [END] [END] [END] [END] [END] 

[START] patrons eating [END] NIL NIL NIL NIL NIL
[START] man [END] [END] [END] [END] [END] [END] [END] 

[START] child looks photographer [END] NIL NIL NIL NIL
[START] man [END] [END] [END] [END] [END] [END] [END] 

[START] elderly man [END] NIL NIL NIL NIL NIL
[START] man [END] [END] [END] [END] [END] [END] [END] 

[START] girl wearing black [END] NIL NIL NIL NIL
[START] man [END] [END] [END] [END] [END] [END] [END] 

[START] brown dog carrying [END] NIL NIL NIL NIL
[START] man [END] [END] [END] [END] [END] [END] [END] 

[START] brown dog running [END] NIL NIL NIL NIL
[START] man [END] [END] [END] [END] [END] [END] [END] 

[START] two men black coats stand [END] NIL NIL
[START] man [END] [END] [END] [END] [END] [END] [END] 

[START] onlookers looking upon play [END] NIL NIL NIL
[START] man [END] [END] [END] [END] [END] [END] [END] 

Epoch:0, Iteration: 426, Loss: 116.22, TimeElapsed: 16.78Min
Working (10, 200) torch.Size([10, 9])
Normal torch.Size([10, 9]) torch.Size([10, 9, 2512])
[START] little girl [END] NIL NIL NIL NIL NIL
[START] meal meal meal meal meal meal meal meal 

[START] several people dividing painting supplies [END] NIL NIL
[START] meal meal meal meal meal meal meal meal 

[START] man wearing headphones [END] NIL NIL NIL NIL
[START] meal meal meal meal meal meal meal meal 

[START] person stands [END] NIL NIL NIL NIL NIL
[START] meal meal meal meal meal meal meal meal 

[START] girl pink [END] NIL NIL NIL NIL NIL
[START] meal meal meal meal meal meal meal meal 

[START] different colored dogs jumping [END] NIL NIL NIL
[START] meal meal meal meal meal meal meal meal 

[START] group rock climbers climb [END] NIL NIL NIL
[START] meal meal meal meal meal meal meal meal 

[START] man woman fishing [END] NIL NIL NIL NIL
[START] meal meal meal meal meal meal meal meal 

[START] brown dog [END] NIL NIL NIL NIL NIL
[START] meal meal meal meal meal meal meal meal 

[START] man playing accordion night [END] NIL NIL NIL
[START] meal meal meal meal meal meal meal meal 

Epoch:0, Iteration: 427, Loss: 132.59, TimeElapsed: 16.82Min
Working (10, 200) torch.Size([10, 9])
Normal torch.Size([10, 9]) torch.Size([10, 9, 2512])
[START] girl sleeping [END] NIL NIL NIL NIL NIL
[START] picture picture picture picture picture picture picture picture 

[START] woman holding head [END] NIL NIL NIL NIL
[START] picture picture picture picture picture picture picture picture 

[START] spotted dog chews [END] NIL NIL NIL NIL
[START] picture picture picture picture picture picture picture picture 

[START] man black shirt jumping [END] NIL NIL NIL
[START] picture picture picture picture picture picture picture picture 

[START] bulldog sheepdog [END] NIL NIL NIL NIL NIL
[START] picture picture picture picture picture picture picture picture 

[START] small dogs ears stick [END] NIL NIL NIL
[START] picture picture picture picture picture picture picture picture 

[START] young female swimmer [END] NIL NIL NIL NIL
[START] picture picture picture picture picture picture picture picture 

[START] man guitar waving [END] NIL NIL NIL NIL
[START] picture picture picture picture picture picture picture picture 

[START] overhead view vendor selling [END] NIL NIL NIL
[START] picture picture picture picture picture picture picture picture 

[START] happy young boy sits [END] NIL NIL NIL
[START] picture picture picture picture picture picture picture picture 

Epoch:0, Iteration: 428, Loss: 146.07, TimeElapsed: 16.86Min
Working (10, 200) torch.Size([10, 9])
Normal torch.Size([10, 9]) torch.Size([10, 9, 2512])
[START] several people umbrellas milling [END] NIL NIL NIL
[START] hockey NIL NIL NIL NIL NIL NIL NIL 

[START] little girl lands [END] NIL NIL NIL NIL
[START] hockey NIL NIL NIL NIL NIL NIL NIL 

[START] three people working computers [END] NIL NIL NIL
[START] hockey NIL NIL NIL NIL NIL NIL NIL 

[START] young child throwing stones shallow [END] NIL NIL
[START] hockey NIL NIL NIL NIL NIL NIL NIL 

[START] man helps daughter [END] NIL NIL NIL NIL
[START] hockey NIL NIL NIL NIL NIL NIL NIL 

[START] person welding large green [END] NIL NIL NIL
[START] hockey NIL NIL NIL NIL NIL NIL NIL 

[START] large brown dog walks [END] NIL NIL NIL
[START] hockey NIL NIL NIL NIL NIL NIL NIL 

[START] two men one woman [END] NIL NIL NIL
[START] hockey NIL NIL NIL NIL NIL NIL NIL 

[START] black cream dog [END] NIL NIL NIL NIL
[START] hockey NIL NIL NIL NIL NIL NIL NIL 

[START] boy cleaning garbage [END] NIL NIL NIL NIL
[START] hockey NIL NIL NIL NIL NIL NIL NIL 

Epoch:0, Iteration: 429, Loss: 155.95, TimeElapsed: 16.92Min
Working (10, 200) torch.Size([10, 9])
Normal torch.Size([10, 9]) torch.Size([10, 9, 2512])
[START] woman carried cake [END] NIL NIL NIL NIL
[START] person NIL NIL NIL NIL NIL NIL NIL 

[START] two men wearing spurs inspecting [END] NIL NIL
[START] person NIL NIL NIL NIL NIL NIL NIL 

[START] long haired musician playing guitar [END] NIL NIL
[START] person NIL NIL NIL NIL NIL NIL NIL 

[START] construction workers standing top [END] NIL NIL NIL
[START] person NIL NIL NIL NIL NIL NIL NIL 

[START] man red fixing [END] NIL NIL NIL NIL
[START] person NIL NIL NIL NIL NIL NIL NIL 

[START] man cape near [END] NIL NIL NIL NIL
[START] person NIL NIL NIL NIL NIL NIL NIL 

[START] line native african [END] NIL NIL NIL NIL
[START] person NIL NIL NIL NIL NIL NIL NIL 

[START] man laughs next [END] NIL NIL NIL NIL
[START] person NIL NIL NIL NIL NIL NIL NIL 

[START] young couple enjoying [END] NIL NIL NIL NIL
[START] person NIL NIL NIL NIL NIL NIL NIL 

[START] two men underground [END] NIL NIL NIL NIL
[START] person NIL NIL NIL NIL NIL NIL NIL 

Epoch:0, Iteration: 430, Loss: 139.43, TimeElapsed: 16.96Min
Working (10, 200) torch.Size([10, 9])
Normal torch.Size([10, 9]) torch.Size([10, 9, 2512])
[START] man walking foreign building [END] NIL NIL NIL
[START] woman NIL NIL NIL NIL NIL NIL NIL 

[START] three dogs run grass [END] NIL NIL NIL
[START] woman NIL NIL NIL NIL NIL NIL NIL 

[START] young boy catching [END] NIL NIL NIL NIL
[START] woman NIL NIL NIL NIL NIL NIL NIL 

[START] worker stands scaffolding [END] NIL NIL NIL NIL
[START] woman NIL NIL NIL NIL NIL NIL NIL 

[START] black dog [END] NIL NIL NIL NIL NIL
[START] woman NIL NIL NIL NIL NIL NIL NIL 

[START] little boy sitting snow [END] NIL NIL NIL
[START] woman NIL NIL NIL NIL NIL NIL NIL 

[START] musicians dressed red white [END] NIL NIL NIL
[START] woman NIL NIL NIL NIL NIL NIL NIL 

[START] woman kid [END] NIL NIL NIL NIL NIL
[START] woman NIL NIL NIL NIL NIL NIL NIL 

[START] kid orange plays [END] NIL NIL NIL NIL
[START] woman NIL NIL NIL NIL NIL NIL NIL 

[START] campers sitting edge [END] NIL NIL NIL NIL
[START] woman NIL NIL NIL NIL NIL NIL NIL 

Epoch:0, Iteration: 431, Loss: 102.6, TimeElapsed: 17.01Min
Working (10, 200) torch.Size([10, 9])
Normal torch.Size([10, 9]) torch.Size([10, 9, 2512])
[START] two men sitting [END] NIL NIL NIL NIL
[START] black black NIL NIL NIL NIL NIL NIL 

[START] man sweater looking [END] NIL NIL NIL NIL
[START] black black NIL NIL NIL NIL NIL NIL 

[START] man standing [END] NIL NIL NIL NIL NIL
[START] black black NIL NIL NIL NIL NIL NIL 

[START] man wearing [END] NIL NIL NIL NIL NIL
[START] black black NIL NIL NIL NIL NIL NIL 

[START] boy wearing pink [END] NIL NIL NIL NIL
[START] black black NIL NIL NIL NIL NIL NIL 

[START] man holding microphone front [END] NIL NIL NIL
[START] black black NIL NIL NIL NIL NIL NIL 

[START] man wearing red shirt [END] NIL NIL NIL
[START] black black NIL NIL NIL NIL NIL NIL 

[START] skateboarder red [END] NIL NIL NIL NIL NIL
[START] black black NIL NIL NIL NIL NIL NIL 

[START] two trolley repair men [END] NIL NIL NIL
[START] black black NIL NIL NIL NIL NIL NIL 

[START] couple men [END] NIL NIL NIL NIL NIL
[START] black black NIL NIL NIL NIL NIL NIL 

Epoch:0, Iteration: 432, Loss: 73.28, TimeElapsed: 17.06Min
Working (10, 200) torch.Size([10, 9])
Normal torch.Size([10, 9]) torch.Size([10, 9, 2512])
[START] group four men [END] NIL NIL NIL NIL
[START] building building building building building building building building 

[START] boy wearing white [END] NIL NIL NIL NIL
[START] building building building building building building building building 

[START] many men racing [END] NIL NIL NIL NIL
[START] building building building building building building building building 

[START] dog running park [END] NIL NIL NIL NIL
[START] building building building building building building building building 

[START] couple gets hands knees [END] NIL NIL NIL
[START] building building building building building building building building 

[START] man starts day [END] NIL NIL NIL NIL
[START] building building building building building building building building 

[START] dog plays man [END] NIL NIL NIL NIL
[START] building building building building building building building building 

[START] man blue [END] NIL NIL NIL NIL NIL
[START] building building building building building building building building 

[START] girl carries lot grass [END] NIL NIL NIL
[START] building building building building building building building building 

[START] little girl floaties swimming [END] NIL NIL NIL
[START] building building building building building building building building 

Epoch:0, Iteration: 433, Loss: 106.25, TimeElapsed: 17.12Min
Working (10, 200) torch.Size([10, 9])
Normal torch.Size([10, 9]) torch.Size([10, 9, 2512])
[START] man router working [END] NIL NIL NIL NIL
[START] sweater sweater sweater sweater sweater sweater sweater sweater 

[START] multiple people walking [END] NIL NIL NIL NIL
[START] sweater sweater sweater sweater sweater sweater sweater sweater 

[START] man large power drill standing [END] NIL NIL
[START] sweater sweater sweater sweater sweater sweater sweater sweater 

[START] man gray hair black [END] NIL NIL NIL
[START] sweater sweater sweater sweater sweater sweater sweater sweater 

[START] person blue shirt [END] NIL NIL NIL NIL
[START] sweater sweater sweater sweater sweater sweater sweater sweater 

[START] man opening novelty gifts including large [END] NIL
[START] sweater sweater sweater sweater sweater sweater sweater sweater 

[START] small tan dog jumping [END] NIL NIL NIL
[START] sweater sweater sweater sweater sweater sweater sweater sweater 

[START] fence separates woman holding red [END] NIL NIL
[START] sweater sweater sweater sweater sweater sweater sweater sweater 

[START] several people walking one [END] NIL NIL NIL
[START] sweater sweater sweater sweater sweater sweater sweater sweater 

[START] three pairs underpants hanging [END] NIL NIL NIL
[START] sweater sweater sweater sweater sweater sweater sweater sweater 

Epoch:0, Iteration: 434, Loss: 195.06, TimeElapsed: 17.17Min
Working (10, 200) torch.Size([10, 9])
Normal torch.Size([10, 9]) torch.Size([10, 9, 2512])
[START] person dressed blue coat [END] NIL NIL NIL
[START] man [END] [END] [END] [END] [END] [END] [END] 

[START] couple boat [END] NIL NIL NIL NIL NIL
[START] man [END] [END] [END] [END] [END] [END] [END] 

[START] musician plays electric guitar surrounded [END] NIL NIL
[START] man [END] [END] [END] [END] [END] [END] [END] 

[START] man mustache [END] NIL NIL NIL NIL NIL
[START] man [END] [END] [END] [END] [END] [END] [END] 

[START] three people sit waiting [END] NIL NIL NIL
[START] man [END] [END] [END] [END] [END] [END] [END] 

[START] two people playing game [END] NIL NIL NIL
[START] man [END] [END] [END] [END] [END] [END] [END] 

[START] person gloves [END] NIL NIL NIL NIL NIL
[START] man [END] [END] [END] [END] [END] [END] [END] 

[START] man boy work fruit cart [END] NIL NIL
[START] man [END] [END] [END] [END] [END] [END] [END] 

[START] young boy grooms [END] NIL NIL NIL NIL
[START] man [END] [END] [END] [END] [END] [END] [END] 

[START] young boy plays outdoors [END] NIL NIL NIL
[START] man [END] [END] [END] [END] [END] [END] [END] 

Epoch:0, Iteration: 435, Loss: 117.54, TimeElapsed: 17.22Min
Working (10, 200) torch.Size([10, 9])
Normal torch.Size([10, 9]) torch.Size([10, 9, 2512])
[START] group cheerleaders red outfits [END] NIL NIL NIL
[START] grass grass grass grass grass grass grass grass 

[START] man playing tennis [END] NIL NIL NIL NIL
[START] grass grass grass grass grass grass grass grass 

[START] man proudly holding [END] NIL NIL NIL NIL
[START] grass grass grass grass grass grass grass grass 

[START] woman purple [END] NIL NIL NIL NIL NIL
[START] grass grass grass grass grass grass grass grass 

[START] woman magazine stand [END] NIL NIL NIL NIL
[START] grass grass grass grass grass grass grass grass 

[START] woman waiting alone [END] NIL NIL NIL NIL
[START] grass grass grass grass grass grass grass grass 

[START] man balancing one hand [END] NIL NIL NIL
[START] grass grass grass grass grass grass grass grass 

[START] three dogs sniffing [END] NIL NIL NIL NIL
[START] grass grass grass grass grass grass grass grass 

[START] female getting ready first [END] NIL NIL NIL
[START] grass grass grass grass grass grass grass grass 

[START] young girls standing [END] NIL NIL NIL NIL
[START] grass grass grass grass grass grass grass grass 

Epoch:0, Iteration: 436, Loss: 150.68, TimeElapsed: 17.27Min
Working (10, 200) torch.Size([10, 9])
Normal torch.Size([10, 9]) torch.Size([10, 9, 2512])
[START] man holds brown [END] NIL NIL NIL NIL
[START] man NIL NIL NIL NIL NIL NIL NIL 

[START] group people riding double bicycles [END] NIL NIL
[START] man NIL NIL NIL NIL NIL NIL NIL 

[START] people crowd around street filled [END] NIL NIL
[START] man NIL NIL NIL NIL NIL NIL NIL 

[START] man hikes alone large [END] NIL NIL NIL
[START] man NIL NIL NIL NIL NIL NIL NIL 

[START] man orange shirt [END] NIL NIL NIL NIL
[START] man NIL NIL NIL NIL NIL NIL NIL 

[START] woman jacket hood [END] NIL NIL NIL NIL
[START] man NIL NIL NIL NIL NIL NIL NIL 

[START] man wearing green [END] NIL NIL NIL NIL
[START] man NIL NIL NIL NIL NIL NIL NIL 

[START] white boy prepares food [END] NIL NIL NIL
[START] man NIL NIL NIL NIL NIL NIL NIL 

[START] female orange [END] NIL NIL NIL NIL NIL
[START] man NIL NIL NIL NIL NIL NIL NIL 

[START] man black hat black [END] NIL NIL NIL
[START] man NIL NIL NIL NIL NIL NIL NIL 

Epoch:0, Iteration: 437, Loss: 124.14, TimeElapsed: 17.32Min
Working (10, 200) torch.Size([10, 9])
Normal torch.Size([10, 9]) torch.Size([10, 9, 2512])
[START] woman floral shirt [END] NIL NIL NIL NIL
[START] fixing NIL NIL NIL NIL NIL NIL NIL 

[START] toddler wears red [END] NIL NIL NIL NIL
[START] fixing NIL NIL NIL NIL NIL NIL NIL 

[START] dinner decisions crew [END] NIL NIL NIL NIL
[START] fixing NIL NIL NIL NIL NIL NIL NIL 

[START] blond girl opening [END] NIL NIL NIL NIL
[START] fixing NIL NIL NIL NIL NIL NIL NIL 

[START] gray dog runs along side pool [END] NIL
[START] fixing NIL NIL NIL NIL NIL NIL NIL 

[START] woman inside building [END] NIL NIL NIL NIL
[START] fixing NIL NIL NIL NIL NIL NIL NIL 

[START] man red [END] NIL NIL NIL NIL NIL
[START] fixing NIL NIL NIL NIL NIL NIL NIL 

[START] two men act scene [END] NIL NIL NIL
[START] fixing NIL NIL NIL NIL NIL NIL NIL 

[START] woman works [END] NIL NIL NIL NIL NIL
[START] fixing NIL NIL NIL NIL NIL NIL NIL 

[START] man sweeping street [END] NIL NIL NIL NIL
[START] fixing NIL NIL NIL NIL NIL NIL NIL 

Epoch:0, Iteration: 438, Loss: 124.89, TimeElapsed: 17.38Min
Working (10, 200) torch.Size([10, 9])
Normal torch.Size([10, 9]) torch.Size([10, 9, 2512])
[START] woman white cuts hair [END] NIL NIL NIL
[START] man NIL NIL NIL NIL NIL NIL NIL 

[START] three people playing football [END] NIL NIL NIL
[START] man NIL NIL NIL NIL NIL NIL NIL 

[START] man lime green shirt waits [END] NIL NIL
[START] man NIL NIL NIL NIL NIL NIL NIL 

[START] man wearing jeans backpack [END] NIL NIL NIL
[START] man NIL NIL NIL NIL NIL NIL NIL 

[START] man brushes teeth [END] NIL NIL NIL NIL
[START] man NIL NIL NIL NIL NIL NIL NIL 

[START] person standing front [END] NIL NIL NIL NIL
[START] man NIL NIL NIL NIL NIL NIL NIL 

[START] man driving fork [END] NIL NIL NIL NIL
[START] man NIL NIL NIL NIL NIL NIL NIL 

[START] two men [END] NIL NIL NIL NIL NIL
[START] man NIL NIL NIL NIL NIL NIL NIL 

[START] man vehicle behind [END] NIL NIL NIL NIL
[START] man NIL NIL NIL NIL NIL NIL NIL 

[START] teacher reads book [END] NIL NIL NIL NIL
[START] man NIL NIL NIL NIL NIL NIL NIL 

Epoch:0, Iteration: 439, Loss: 130.75, TimeElapsed: 17.42Min
Working (10, 200) torch.Size([10, 9])
Normal torch.Size([10, 9]) torch.Size([10, 9, 2512])
[START] young girl light brown [END] NIL NIL NIL
[START] men NIL NIL NIL NIL NIL NIL NIL 

[START] woman squatting face [END] NIL NIL NIL NIL
[START] men NIL NIL NIL NIL NIL NIL NIL 

[START] ambulance parked side [END] NIL NIL NIL NIL
[START] men NIL NIL NIL NIL NIL NIL NIL 

[START] cat licks [END] NIL NIL NIL NIL NIL
[START] men NIL NIL NIL NIL NIL NIL NIL 

[START] woman medical mask white [END] NIL NIL NIL
[START] men NIL NIL NIL NIL NIL NIL NIL 

[START] unicyclist performs streets [END] NIL NIL NIL NIL
[START] men NIL NIL NIL NIL NIL NIL NIL 

[START] woman dark [END] NIL NIL NIL NIL NIL
[START] men NIL NIL NIL NIL NIL NIL NIL 

[START] man drinking [END] NIL NIL NIL NIL NIL
[START] men NIL NIL NIL NIL NIL NIL NIL 

[START] girl playing violin [END] NIL NIL NIL NIL
[START] men NIL NIL NIL NIL NIL NIL NIL 

[START] boy stands near water stone [END] NIL NIL
[START] men NIL NIL NIL NIL NIL NIL NIL 

Epoch:0, Iteration: 440, Loss: 155.01, TimeElapsed: 17.47Min
Working (10, 200) torch.Size([10, 9])
Normal torch.Size([10, 9]) torch.Size([10, 9, 2512])
[START] police officer keeps watch [END] NIL NIL NIL
[START] cart cart cart cart cart cart cart cart 

[START] two hockey players battling [END] NIL NIL NIL
[START] cart cart cart cart cart cart cart cart 

[START] five cold people snowstorm one wearing [END] NIL
[START] cart cart cart cart cart cart cart cart 

[START] six men seat [END] NIL NIL NIL NIL
[START] cart cart cart cart cart cart cart cart 

[START] wrinkled hands work [END] NIL NIL NIL NIL
[START] cart cart cart cart cart cart cart cart 

[START] woman boy [END] NIL NIL NIL NIL NIL
[START] cart cart cart cart cart cart cart cart 

[START] two dogs playing [END] NIL NIL NIL NIL
[START] cart cart cart cart cart cart cart cart 

[START] brown dog running [END] NIL NIL NIL NIL
[START] cart cart cart cart cart cart cart cart 

[START] young man [END] NIL NIL NIL NIL NIL
[START] cart cart cart cart cart cart cart cart 

[START] man sitting sunny street [END] NIL NIL NIL
[START] cart cart cart cart cart cart cart cart 

Epoch:0, Iteration: 441, Loss: 134.88, TimeElapsed: 17.51Min
Working (10, 200) torch.Size([10, 9])
Normal torch.Size([10, 9]) torch.Size([10, 9, 2512])
[START] cat sitting beside someone wearing pink [END] NIL
[START] man [END] [END] [END] [END] [END] [END] [END] 

[START] man scaling fish near body [END] NIL NIL
[START] man [END] [END] [END] [END] [END] [END] [END] 

[START] people walking [END] NIL NIL NIL NIL NIL
[START] man [END] [END] [END] [END] [END] [END] [END] 

[START] man [END] NIL NIL NIL NIL NIL NIL
[START] man [END] [END] [END] [END] [END] [END] [END] 

[START] soldier brandishing shiny instrument [END] NIL NIL NIL
[START] man [END] [END] [END] [END] [END] [END] [END] 

[START] security guard sitting [END] NIL NIL NIL NIL
[START] man [END] [END] [END] [END] [END] [END] [END] 

[START] girl making soap [END] NIL NIL NIL NIL
[START] man [END] [END] [END] [END] [END] [END] [END] 

[START] dog stick follows another dog [END] NIL NIL
[START] man [END] [END] [END] [END] [END] [END] [END] 

[START] elderly caucasian man [END] NIL NIL NIL NIL
[START] man [END] [END] [END] [END] [END] [END] [END] 

[START] man gets haircut [END] NIL NIL NIL NIL
[START] man [END] [END] [END] [END] [END] [END] [END] 

Epoch:0, Iteration: 442, Loss: 143.07, TimeElapsed: 17.55Min
Working (10, 200) torch.Size([10, 9])
Normal torch.Size([10, 9]) torch.Size([10, 9, 2512])
[START] big black dog runs [END] NIL NIL NIL
[START] gets gets gets gets gets gets gets gets 

[START] large dog playing outdoors [END] NIL NIL NIL
[START] gets gets gets gets gets gets gets gets 

[START] brown dog chasing [END] NIL NIL NIL NIL
[START] gets gets gets gets gets gets gets gets 

[START] worker scaffolding passing tool [END] NIL NIL NIL
[START] gets gets gets gets gets gets gets gets 

[START] child plays fountain [END] NIL NIL NIL NIL
[START] gets gets gets gets gets gets gets gets 

[START] girl red jumping joy [END] NIL NIL NIL
[START] gets gets gets gets gets gets gets gets 

[START] woman feeds pigeons park [END] NIL NIL NIL
[START] gets gets gets gets gets gets gets gets 

[START] man sitting chair [END] NIL NIL NIL NIL
[START] gets gets gets gets gets gets gets gets 

[START] passengers boarding train [END] NIL NIL NIL NIL
[START] gets gets gets gets gets gets gets gets 

[START] two men wearing black shirts [END] NIL NIL
[START] gets gets gets gets gets gets gets gets 

Epoch:0, Iteration: 443, Loss: 126.73, TimeElapsed: 17.61Min
Working (10, 200) torch.Size([10, 9])
Normal torch.Size([10, 9]) torch.Size([10, 9, 2512])
[START] one man airborne wearing [END] NIL NIL NIL
officer officer officer officer officer officer officer officer officer 

[START] person red [END] NIL NIL NIL NIL NIL
officer officer officer officer officer officer officer officer officer 

[START] male working [END] NIL NIL NIL NIL NIL
officer officer officer officer officer officer officer officer officer 

[START] dog running [END] NIL NIL NIL NIL NIL
officer officer officer officer officer officer officer officer officer 

[START] man looks barred hole [END] NIL NIL NIL
officer officer officer officer officer officer officer officer officer 

[START] blond toddler walks [END] NIL NIL NIL NIL
officer officer officer officer officer officer officer officer officer 

[START] pit crew working [END] NIL NIL NIL NIL
officer officer officer officer officer officer officer officer officer 

[START] man wearing brown [END] NIL NIL NIL NIL
officer officer officer officer officer officer officer officer officer 

[START] man takes leap water [END] NIL NIL NIL
officer officer officer officer officer officer officer officer officer 

[START] gray dog walks [END] NIL NIL NIL NIL
officer officer officer officer officer officer officer officer officer 

Epoch:0, Iteration: 444, Loss: 130.37, TimeElapsed: 17.66Min
Working (10, 200) torch.Size([10, 9])
Normal torch.Size([10, 9]) torch.Size([10, 9, 2512])
[START] older gentleman pants [END] NIL NIL NIL NIL
[START] vehicle vehicle vehicle vehicle vehicle vehicle vehicle vehicle 

[START] four young ladies talking together [END] NIL NIL
[START] vehicle vehicle vehicle vehicle vehicle vehicle vehicle vehicle 

[START] three women clap sing [END] NIL NIL NIL
[START] vehicle vehicle vehicle vehicle vehicle vehicle vehicle vehicle 

[START] man balloon hat [END] NIL NIL NIL NIL
[START] vehicle vehicle vehicle vehicle vehicle vehicle vehicle vehicle 

[START] two men caps approaching [END] NIL NIL NIL
[START] vehicle vehicle vehicle vehicle vehicle vehicle vehicle vehicle 

[START] teenage boy talking group [END] NIL NIL NIL
[START] vehicle vehicle vehicle vehicle vehicle vehicle vehicle vehicle 

[START] three young people pose [END] NIL NIL NIL
[START] vehicle vehicle vehicle vehicle vehicle vehicle vehicle vehicle 

[START] men women wearing white [END] NIL NIL NIL
[START] vehicle vehicle vehicle vehicle vehicle vehicle vehicle vehicle 

[START] boy looks baby [END] NIL NIL NIL NIL
[START] vehicle vehicle vehicle vehicle vehicle vehicle vehicle vehicle 

[START] white haired man [END] NIL NIL NIL NIL
[START] vehicle vehicle vehicle vehicle vehicle vehicle vehicle vehicle 

Epoch:0, Iteration: 445, Loss: 119.02, TimeElapsed: 17.7Min
Working (10, 200) torch.Size([10, 9])
Normal torch.Size([10, 9]) torch.Size([10, 9, 2512])
[START] man jacket [END] NIL NIL NIL NIL NIL
fountain fountain fountain fountain fountain fountain fountain fountain fountain 

[START] man white shirt [END] NIL NIL NIL NIL
fountain fountain fountain fountain fountain fountain fountain fountain fountain 

[START] 2 kids jumping [END] NIL NIL NIL NIL
fountain fountain fountain fountain fountain fountain fountain fountain fountain 

[START] group people [END] NIL NIL NIL NIL NIL
fountain fountain fountain fountain fountain fountain fountain fountain fountain 

[START] five construction workers dig [END] NIL NIL NIL
fountain fountain fountain fountain fountain fountain fountain fountain fountain 

[START] two women work along balcony [END] NIL NIL
fountain fountain fountain fountain fountain fountain fountain fountain fountain 

[START] laborers working [END] NIL NIL NIL NIL NIL
fountain fountain fountain fountain fountain fountain fountain fountain fountain 

[START] photo snapped [END] NIL NIL NIL NIL NIL
fountain fountain fountain fountain fountain fountain fountain fountain fountain 

[START] two men [END] NIL NIL NIL NIL NIL
fountain fountain fountain fountain fountain fountain fountain fountain fountain 

[START] brown white dog [END] NIL NIL NIL NIL
fountain fountain fountain fountain fountain fountain fountain fountain fountain 

Epoch:0, Iteration: 446, Loss: 100.92, TimeElapsed: 17.74Min
Working (10, 200) torch.Size([10, 9])
Normal torch.Size([10, 9]) torch.Size([10, 9, 2512])
[START] three oriental men riding [END] NIL NIL NIL
[START] passing NIL NIL NIL NIL NIL NIL NIL 

[START] man wearing red playing [END] NIL NIL NIL
[START] passing NIL NIL NIL NIL NIL NIL NIL 

[START] man lounges [END] NIL NIL NIL NIL NIL
[START] passing NIL NIL NIL NIL NIL NIL NIL 

[START] musical band vocalist [END] NIL NIL NIL NIL
[START] passing NIL NIL NIL NIL NIL NIL NIL 

[START] lady white crutches [END] NIL NIL NIL NIL
[START] passing NIL NIL NIL NIL NIL NIL NIL 

[START] truck crashed [END] NIL NIL NIL NIL NIL
[START] passing NIL NIL NIL NIL NIL NIL NIL 

[START] snowboarder wearing green [END] NIL NIL NIL NIL
[START] passing NIL NIL NIL NIL NIL NIL NIL 

[START] young girls sits front [END] NIL NIL NIL
[START] passing NIL NIL NIL NIL NIL NIL NIL 

[START] woman sitting outside house [END] NIL NIL NIL
[START] passing NIL NIL NIL NIL NIL NIL NIL 

[START] group police officers patroling [END] NIL NIL NIL
[START] passing NIL NIL NIL NIL NIL NIL NIL 

Epoch:0, Iteration: 447, Loss: 134.41, TimeElapsed: 17.78Min
Working (10, 200) torch.Size([10, 9])
Normal torch.Size([10, 9]) torch.Size([10, 9, 2512])
[START] man swimming river [END] NIL NIL NIL NIL
[START] NIL NIL NIL NIL NIL NIL NIL NIL 

[START] group parades [END] NIL NIL NIL NIL NIL
[START] NIL NIL NIL NIL NIL NIL NIL NIL 

[START] man wearing [END] NIL NIL NIL NIL NIL
[START] NIL NIL NIL NIL NIL NIL NIL NIL 

[START] young girl [END] NIL NIL NIL NIL NIL
[START] NIL NIL NIL NIL NIL NIL NIL NIL 

[START] white tan dog leaps [END] NIL NIL NIL
[START] NIL NIL NIL NIL NIL NIL NIL NIL 

[START] man brown shirt [END] NIL NIL NIL NIL
[START] NIL NIL NIL NIL NIL NIL NIL NIL 

[START] young man baseball [END] NIL NIL NIL NIL
[START] NIL NIL NIL NIL NIL NIL NIL NIL 

[START] group people walking [END] NIL NIL NIL NIL
[START] NIL NIL NIL NIL NIL NIL NIL NIL 

[START] young woman playing [END] NIL NIL NIL NIL
[START] NIL NIL NIL NIL NIL NIL NIL NIL 

[START] baby girl [END] NIL NIL NIL NIL NIL
[START] NIL NIL NIL NIL NIL NIL NIL NIL 

Epoch:0, Iteration: 448, Loss: 83.08, TimeElapsed: 17.82Min
Working (10, 200) torch.Size([10, 9])
Normal torch.Size([10, 9]) torch.Size([10, 9, 2512])
[START] woman interviews clown [END] NIL NIL NIL NIL
[START] hands NIL NIL NIL NIL NIL NIL NIL 

[START] man woman sitting [END] NIL NIL NIL NIL
[START] hands NIL NIL NIL NIL NIL NIL NIL 

[START] two older men business attire [END] NIL NIL
[START] hands NIL NIL NIL NIL NIL NIL NIL 

[START] man wearing baggy clothes [END] NIL NIL NIL
[START] hands NIL NIL NIL NIL NIL NIL NIL 

[START] mother father watching [END] NIL NIL NIL NIL
[START] hands NIL NIL NIL NIL NIL NIL NIL 

[START] group children [END] NIL NIL NIL NIL NIL
[START] hands NIL NIL NIL NIL NIL NIL NIL 

[START] two men looking [END] NIL NIL NIL NIL
[START] hands NIL NIL NIL NIL NIL NIL NIL 

[START] guy stitching another man coat [END] NIL NIL
[START] hands NIL NIL NIL NIL NIL NIL NIL 

[START] couple covered paint [END] NIL NIL NIL NIL
[START] hands NIL NIL NIL NIL NIL NIL NIL 

[START] large brown dog sitting [END] NIL NIL NIL
[START] hands NIL NIL NIL NIL NIL NIL NIL 

Epoch:0, Iteration: 449, Loss: 134.59, TimeElapsed: 17.86Min
Working (10, 200) torch.Size([10, 9])
Normal torch.Size([10, 9]) torch.Size([10, 9, 2512])
[START] man plaid [END] NIL NIL NIL NIL NIL
[START] NIL NIL NIL NIL NIL NIL NIL NIL 

[START] woman wearing glasses pointing [END] NIL NIL NIL
[START] NIL NIL NIL NIL NIL NIL NIL NIL 

[START] person wearing jeans blue [END] NIL NIL NIL
[START] NIL NIL NIL NIL NIL NIL NIL NIL 

[START] young man blue [END] NIL NIL NIL NIL
[START] NIL NIL NIL NIL NIL NIL NIL NIL 

[START] man wearing white shirt [END] NIL NIL NIL
[START] NIL NIL NIL NIL NIL NIL NIL NIL 

[START] four young girls posing [END] NIL NIL NIL
[START] NIL NIL NIL NIL NIL NIL NIL NIL 

[START] man black [END] NIL NIL NIL NIL NIL
[START] NIL NIL NIL NIL NIL NIL NIL NIL 

[START] batter prepares swing [END] NIL NIL NIL NIL
[START] NIL NIL NIL NIL NIL NIL NIL NIL 

[START] two female friends matching shirts pose [END] NIL
[START] NIL NIL NIL NIL NIL NIL NIL NIL 

[START] boy goggles plays [END] NIL NIL NIL NIL
[START] NIL NIL NIL NIL NIL NIL NIL NIL 

Epoch:0, Iteration: 450, Loss: 125.7, TimeElapsed: 17.91Min
Working (10, 200) torch.Size([10, 9])
Normal torch.Size([10, 9]) torch.Size([10, 9, 2512])
[START] man hat [END] NIL NIL NIL NIL NIL
[START] [END] [END] [END] [END] [END] [END] [END] [END] 

[START] men wearing life vests speed across [END] NIL
[START] [END] [END] [END] [END] [END] [END] [END] [END] 

[START] small black dog stands [END] NIL NIL NIL
[START] [END] [END] [END] [END] [END] [END] [END] [END] 

[START] woman red shirt walking [END] NIL NIL NIL
[START] [END] [END] [END] [END] [END] [END] [END] [END] 

[START] three men stand [END] NIL NIL NIL NIL
[START] [END] [END] [END] [END] [END] [END] [END] [END] 

[START] wet brown dog jumping [END] NIL NIL NIL
[START] [END] [END] [END] [END] [END] [END] [END] [END] 

[START] bare chested young man attempted [END] NIL NIL
[START] [END] [END] [END] [END] [END] [END] [END] [END] 

[START] volleyball player [END] NIL NIL NIL NIL NIL
[START] [END] [END] [END] [END] [END] [END] [END] [END] 

[START] minivans vehicles parked [END] NIL NIL NIL NIL
[START] [END] [END] [END] [END] [END] [END] [END] [END] 

[START] two trumpet players play [END] NIL NIL NIL
[START] [END] [END] [END] [END] [END] [END] [END] [END] 

Epoch:0, Iteration: 451, Loss: 146.89, TimeElapsed: 17.95Min
Working (10, 200) torch.Size([10, 9])
Normal torch.Size([10, 9]) torch.Size([10, 9, 2512])
[START] man blue shirt barbecues meat [END] NIL NIL
[START] man white [END] [END] [END] [END] [END] [END] 

[START] one guy bowling green [END] NIL NIL NIL
[START] man white [END] [END] [END] [END] [END] [END] 

[START] people fun [END] NIL NIL NIL NIL NIL
[START] man white [END] [END] [END] [END] [END] [END] 

[START] man black one [END] NIL NIL NIL NIL
[START] man white [END] [END] [END] [END] [END] [END] 

[START] elderly woman cane [END] NIL NIL NIL NIL
[START] man white [END] [END] [END] [END] [END] [END] 

[START] bucking horse throwing cowboy [END] NIL NIL NIL
[START] man white [END] [END] [END] [END] [END] [END] 

[START] man running [END] NIL NIL NIL NIL NIL
[START] man white [END] [END] [END] [END] [END] [END] 

[START] man pullover sweater [END] NIL NIL NIL NIL
[START] man white [END] [END] [END] [END] [END] [END] 

[START] hiker red [END] NIL NIL NIL NIL NIL
[START] man white [END] [END] [END] [END] [END] [END] 

[START] young man talking [END] NIL NIL NIL NIL
[START] man white [END] [END] [END] [END] [END] [END] 

Epoch:0, Iteration: 452, Loss: 120.37, TimeElapsed: 17.99Min
Working (10, 200) torch.Size([10, 9])
Normal torch.Size([10, 9]) torch.Size([10, 9, 2512])
[START] customers interacting watching television bar [END] NIL NIL
[START] man man NIL NIL NIL NIL NIL NIL 

[START] children playing [END] NIL NIL NIL NIL NIL
[START] man man NIL NIL NIL NIL NIL NIL 

[START] group young men throwing [END] NIL NIL NIL
[START] man man NIL NIL NIL NIL NIL NIL 

[START] group people performing [END] NIL NIL NIL NIL
[START] man man NIL NIL NIL NIL NIL NIL 

[START] group volleyball girls high fiving [END] NIL NIL
[START] man man NIL NIL NIL NIL NIL NIL 

[START] soldier ducking holding [END] NIL NIL NIL NIL
[START] man man NIL NIL NIL NIL NIL NIL 

[START] man shorts [END] NIL NIL NIL NIL NIL
[START] man man NIL NIL NIL NIL NIL NIL 

[START] man gray slacks [END] NIL NIL NIL NIL
[START] man man NIL NIL NIL NIL NIL NIL 

[START] man wearing blue [END] NIL NIL NIL NIL
[START] man man NIL NIL NIL NIL NIL NIL 

[START] workers load sheared wool onto truck [END] NIL
[START] man man NIL NIL NIL NIL NIL NIL 

Epoch:0, Iteration: 453, Loss: 179.11, TimeElapsed: 18.03Min
Working (10, 200) torch.Size([10, 9])
Normal torch.Size([10, 9]) torch.Size([10, 9, 2512])
[START] two kids play soccer field [END] NIL NIL
[START] group pose pose pose pose pose pose pose 

[START] gateway wood paneling [END] NIL NIL NIL NIL
[START] group pose pose pose pose pose pose pose 

[START] construction worker overalls [END] NIL NIL NIL NIL
[START] group pose pose pose pose pose pose pose 

[START] black white bird [END] NIL NIL NIL NIL
[START] group pose pose pose pose pose pose pose 

[START] baby boy playing [END] NIL NIL NIL NIL
[START] group pose pose pose pose pose pose pose 

[START] brown dog flying [END] NIL NIL NIL NIL
[START] group pose pose pose pose pose pose pose 

[START] large dog rubs [END] NIL NIL NIL NIL
[START] group pose pose pose pose pose pose pose 

[START] man photographs woman pink [END] NIL NIL NIL
[START] group pose pose pose pose pose pose pose 

[START] group people walking [END] NIL NIL NIL NIL
[START] group pose pose pose pose pose pose pose 

[START] two small tan puppies walking [END] NIL NIL
[START] group pose pose pose pose pose pose pose 

Epoch:0, Iteration: 454, Loss: 152.74, TimeElapsed: 18.08Min
Working (10, 200) torch.Size([10, 9])
Normal torch.Size([10, 9]) torch.Size([10, 9, 2512])
[START] woman stands behind cash register [END] NIL NIL
[START] oriental oriental NIL NIL NIL NIL NIL NIL 

[START] two asian women young asian [END] NIL NIL
[START] oriental oriental NIL NIL NIL NIL NIL NIL 

[START] toyota truck parked outside [END] NIL NIL NIL
[START] oriental oriental NIL NIL NIL NIL NIL NIL 

[START] man orange [END] NIL NIL NIL NIL NIL
[START] oriental oriental NIL NIL NIL NIL NIL NIL 

[START] woman waiting [END] NIL NIL NIL NIL NIL
[START] oriental oriental NIL NIL NIL NIL NIL NIL 

[START] view [END] NIL NIL NIL NIL NIL NIL
[START] oriental oriental NIL NIL NIL NIL NIL NIL 

[START] three men standing cliff overlooking [END] NIL NIL
[START] oriental oriental NIL NIL NIL NIL NIL NIL 

[START] two women colorful clothing [END] NIL NIL NIL
[START] oriental oriental NIL NIL NIL NIL NIL NIL 

[START] two black dogs trotting [END] NIL NIL NIL
[START] oriental oriental NIL NIL NIL NIL NIL NIL 

[START] woman blue outfit sitting [END] NIL NIL NIL
[START] oriental oriental NIL NIL NIL NIL NIL NIL 

Epoch:0, Iteration: 455, Loss: 152.21, TimeElapsed: 18.12Min
Working (10, 200) torch.Size([10, 9])
Normal torch.Size([10, 9]) torch.Size([10, 9, 2512])
[START] little girl [END] NIL NIL NIL NIL NIL
[START] two NIL NIL NIL NIL NIL NIL NIL 

[START] woman reads [END] NIL NIL NIL NIL NIL
[START] two NIL NIL NIL NIL NIL NIL NIL 

[START] beach scene three boys swim [END] NIL NIL
[START] two NIL NIL NIL NIL NIL NIL NIL 

[START] man gray shirt [END] NIL NIL NIL NIL
[START] two NIL NIL NIL NIL NIL NIL NIL 

[START] class students [END] NIL NIL NIL NIL NIL
[START] two NIL NIL NIL NIL NIL NIL NIL 

[START] young boy plays [END] NIL NIL NIL NIL
[START] two NIL NIL NIL NIL NIL NIL NIL 

[START] boys smiles underwater pool [END] NIL NIL NIL
[START] two NIL NIL NIL NIL NIL NIL NIL 

[START] protester holds [END] NIL NIL NIL NIL NIL
[START] two NIL NIL NIL NIL NIL NIL NIL 

[START] modern building employees [END] NIL NIL NIL NIL
[START] two NIL NIL NIL NIL NIL NIL NIL 

[START] person wearing blue jeans [END] NIL NIL NIL
[START] two NIL NIL NIL NIL NIL NIL NIL 

Epoch:0, Iteration: 456, Loss: 138.38, TimeElapsed: 18.16Min
Working (10, 200) torch.Size([10, 9])
Normal torch.Size([10, 9]) torch.Size([10, 9, 2512])
[START] judge dog [END] NIL NIL NIL NIL NIL
[START] onto onto onto onto onto onto onto onto 

[START] man wearing gray hooded [END] NIL NIL NIL
[START] onto onto onto onto onto onto onto onto 

[START] young men playing basketball [END] NIL NIL NIL
[START] onto onto onto onto onto onto onto onto 

[START] asian parents toddlers [END] NIL NIL NIL NIL
[START] onto onto onto onto onto onto onto onto 

[START] old woman cleaned fish [END] NIL NIL NIL
[START] onto onto onto onto onto onto onto onto 

[START] news crew rain jackets standing [END] NIL NIL
[START] onto onto onto onto onto onto onto onto 

[START] picture two little [END] NIL NIL NIL NIL
[START] onto onto onto onto onto onto onto onto 

[START] man white shirt [END] NIL NIL NIL NIL
[START] onto onto onto onto onto onto onto onto 

[START] young people sitting together [END] NIL NIL NIL
[START] onto onto onto onto onto onto onto onto 

[START] man sweatshirt walking outside [END] NIL NIL NIL
[START] onto onto onto onto onto onto onto onto 

Epoch:0, Iteration: 457, Loss: 154.34, TimeElapsed: 18.2Min
Working (10, 200) torch.Size([10, 9])
Normal torch.Size([10, 9]) torch.Size([10, 9, 2512])
[START] three people sleeping [END] NIL NIL NIL NIL
[START] truck truck truck truck truck truck truck truck 

[START] group men dressed [END] NIL NIL NIL NIL
[START] truck truck truck truck truck truck truck truck 

[START] man plaid shirt [END] NIL NIL NIL NIL
[START] truck truck truck truck truck truck truck truck 

[START] two lonely fans green ponchos [END] NIL NIL
[START] truck truck truck truck truck truck truck truck 

[START] girl rocking guitar bedroom [END] NIL NIL NIL
[START] truck truck truck truck truck truck truck truck 

[START] two gray dogs run field [END] NIL NIL
[START] truck truck truck truck truck truck truck truck 

[START] couple walks past lanterns [END] NIL NIL NIL
[START] truck truck truck truck truck truck truck truck 

[START] man wearing baseball [END] NIL NIL NIL NIL
[START] truck truck truck truck truck truck truck truck 

[START] three children looking water [END] NIL NIL NIL
[START] truck truck truck truck truck truck truck truck 

[START] two latin dancers dancing [END] NIL NIL NIL
[START] truck truck truck truck truck truck truck truck 

Epoch:0, Iteration: 458, Loss: 171.3, TimeElapsed: 18.24Min
Working (10, 200) torch.Size([10, 9])
Normal torch.Size([10, 9]) torch.Size([10, 9, 2512])
[START] man harness [END] NIL NIL NIL NIL NIL
[START] crew crew crew crew crew crew crew crew 

[START] tri level building people standing level [END] NIL
[START] crew crew crew crew crew crew crew crew 

[START] man yellow shirt [END] NIL NIL NIL NIL
[START] crew crew crew crew crew crew crew crew 

[START] one ball player watches helplessly another [END] NIL
[START] crew crew crew crew crew crew crew crew 

[START] black dog pulls [END] NIL NIL NIL NIL
[START] crew crew crew crew crew crew crew crew 

[START] two people one wearing blue [END] NIL NIL
[START] crew crew crew crew crew crew crew crew 

[START] two women wearing business casual clothing walk [END]
[START] crew crew crew crew crew crew crew crew 

[START] woman knitting cloths [END] NIL NIL NIL NIL
[START] crew crew crew crew crew crew crew crew 

[START] child walking [END] NIL NIL NIL NIL NIL
[START] crew crew crew crew crew crew crew crew 

[START] lot [END] NIL NIL NIL NIL NIL NIL
[START] crew crew crew crew crew crew crew crew 

Epoch:0, Iteration: 459, Loss: 169.11, TimeElapsed: 18.28Min
Working (10, 200) torch.Size([10, 9])
Normal torch.Size([10, 9]) torch.Size([10, 9, 2512])
[START] man white coat [END] NIL NIL NIL NIL
[START] woman NIL NIL NIL NIL NIL NIL NIL 

[START] young boy wearing [END] NIL NIL NIL NIL
[START] woman NIL NIL NIL NIL NIL NIL NIL 

[START] two girls wearing life [END] NIL NIL NIL
[START] woman NIL NIL NIL NIL NIL NIL NIL 

[START] man cleaning boat [END] NIL NIL NIL NIL
[START] woman NIL NIL NIL NIL NIL NIL NIL 

[START] bride groom taking [END] NIL NIL NIL NIL
[START] woman NIL NIL NIL NIL NIL NIL NIL 

[START] kid blue jeans [END] NIL NIL NIL NIL
[START] woman NIL NIL NIL NIL NIL NIL NIL 

[START] man black [END] NIL NIL NIL NIL NIL
[START] woman NIL NIL NIL NIL NIL NIL NIL 

[START] gentleman waiting room [END] NIL NIL NIL NIL
[START] woman NIL NIL NIL NIL NIL NIL NIL 

[START] woman walk alley [END] NIL NIL NIL NIL
[START] woman NIL NIL NIL NIL NIL NIL NIL 

[START] man woman sitting [END] NIL NIL NIL NIL
[START] woman NIL NIL NIL NIL NIL NIL NIL 

Epoch:0, Iteration: 460, Loss: 87.08, TimeElapsed: 18.32Min
Working (10, 200) torch.Size([10, 9])
Normal torch.Size([10, 9]) torch.Size([10, 9, 2512])
[START] person white [END] NIL NIL NIL NIL NIL
[START] plaid plaid plaid plaid plaid plaid plaid plaid 

[START] toddler boy examines pair blue [END] NIL NIL
[START] plaid plaid plaid plaid plaid plaid plaid plaid 

[START] male weimaraner clipped [END] NIL NIL NIL NIL
[START] plaid plaid plaid plaid plaid plaid plaid plaid 

[START] group people singing [END] NIL NIL NIL NIL
[START] plaid plaid plaid plaid plaid plaid plaid plaid 

[START] man pinstripe shirt sharpening [END] NIL NIL NIL
[START] plaid plaid plaid plaid plaid plaid plaid plaid 

[START] two male ufc fighters boxing [END] NIL NIL
[START] plaid plaid plaid plaid plaid plaid plaid plaid 

[START] two tennis players talking [END] NIL NIL NIL
[START] plaid plaid plaid plaid plaid plaid plaid plaid 

[START] person soars parachute [END] NIL NIL NIL NIL
[START] plaid plaid plaid plaid plaid plaid plaid plaid 

[START] small white dog [END] NIL NIL NIL NIL
[START] plaid plaid plaid plaid plaid plaid plaid plaid 

[START] brown dog running along side [END] NIL NIL
[START] plaid plaid plaid plaid plaid plaid plaid plaid 

Epoch:0, Iteration: 461, Loss: 205.11, TimeElapsed: 18.37Min
Working (10, 200) torch.Size([10, 9])
Normal torch.Size([10, 9]) torch.Size([10, 9, 2512])
[START] happy couple sitting together [END] NIL NIL NIL
[START] talking talking talking talking talking talking talking talking 

[START] black dog swims [END] NIL NIL NIL NIL
[START] talking talking talking talking talking talking talking talking 

[START] elderly man smiling [END] NIL NIL NIL NIL
[START] talking talking talking talking talking talking talking talking 

[START] cute baby smiling [END] NIL NIL NIL NIL
[START] talking talking talking talking talking talking talking talking 

[START] two women [END] NIL NIL NIL NIL NIL
[START] talking talking talking talking talking talking talking talking 

[START] little boy playing [END] NIL NIL NIL NIL
[START] talking talking talking talking talking talking talking talking 

[START] two children adults [END] NIL NIL NIL NIL
[START] talking talking talking talking talking talking talking talking 

[START] rock climbers [END] NIL NIL NIL NIL NIL
[START] talking talking talking talking talking talking talking talking 

[START] young gymnasts execute team move [END] NIL NIL
[START] talking talking talking talking talking talking talking talking 

[START] woman carrying bag smoking [END] NIL NIL NIL
[START] talking talking talking talking talking talking talking talking 

Epoch:0, Iteration: 462, Loss: 144.36, TimeElapsed: 18.41Min
Working (10, 200) torch.Size([10, 9])
Normal torch.Size([10, 9]) torch.Size([10, 9, 2512])
[START] one dog trying bite [END] NIL NIL NIL
[START] wearing NIL NIL NIL NIL NIL NIL NIL 

[START] small boy wearing [END] NIL NIL NIL NIL
[START] wearing NIL NIL NIL NIL NIL NIL NIL 

[START] people cement workout [END] NIL NIL NIL NIL
[START] wearing NIL NIL NIL NIL NIL NIL NIL 

[START] group four children [END] NIL NIL NIL NIL
[START] wearing NIL NIL NIL NIL NIL NIL NIL 

[START] two people performing outside front [END] NIL NIL
[START] wearing NIL NIL NIL NIL NIL NIL NIL 

[START] three older men wearing white shirts [END] NIL
[START] wearing NIL NIL NIL NIL NIL NIL NIL 

[START] two men walk [END] NIL NIL NIL NIL
[START] wearing NIL NIL NIL NIL NIL NIL NIL 

[START] man using heavy machinery [END] NIL NIL NIL
[START] wearing NIL NIL NIL NIL NIL NIL NIL 

[START] cute little boy walking path [END] NIL NIL
[START] wearing NIL NIL NIL NIL NIL NIL NIL 

[START] five people walking [END] NIL NIL NIL NIL
[START] wearing NIL NIL NIL NIL NIL NIL NIL 

Epoch:0, Iteration: 463, Loss: 156.29, TimeElapsed: 18.45Min
Working (10, 200) torch.Size([10, 9])
Normal torch.Size([10, 9]) torch.Size([10, 9, 2512])
[START] audio control person taking care [END] NIL NIL
[START] NIL NIL NIL NIL NIL NIL NIL NIL 

[START] young asian child sitting [END] NIL NIL NIL
[START] NIL NIL NIL NIL NIL NIL NIL NIL 

[START] two men woman [END] NIL NIL NIL NIL
[START] NIL NIL NIL NIL NIL NIL NIL NIL 

[START] smiling girls bathing suits [END] NIL NIL NIL
[START] NIL NIL NIL NIL NIL NIL NIL NIL 

[START] elderly nun handles knit items [END] NIL NIL
[START] NIL NIL NIL NIL NIL NIL NIL NIL 

[START] young boy flower [END] NIL NIL NIL NIL
[START] NIL NIL NIL NIL NIL NIL NIL NIL 

[START] man pierced ears [END] NIL NIL NIL NIL
[START] NIL NIL NIL NIL NIL NIL NIL NIL 

[START] woman jeans [END] NIL NIL NIL NIL NIL
[START] NIL NIL NIL NIL NIL NIL NIL NIL 

[START] several women walking [END] NIL NIL NIL NIL
[START] NIL NIL NIL NIL NIL NIL NIL NIL 

[START] construction worker moves [END] NIL NIL NIL NIL
[START] NIL NIL NIL NIL NIL NIL NIL NIL 

Epoch:0, Iteration: 464, Loss: 172.19, TimeElapsed: 18.5Min
Working (10, 200) torch.Size([10, 9])
Normal torch.Size([10, 9]) torch.Size([10, 9, 2512])
[START] dog gets ready [END] NIL NIL NIL NIL
[START] dancers NIL NIL NIL NIL NIL NIL NIL 

[START] girl pink shirt [END] NIL NIL NIL NIL
[START] dancers NIL NIL NIL NIL NIL NIL NIL 

[START] people sitting drinking [END] NIL NIL NIL NIL
[START] dancers NIL NIL NIL NIL NIL NIL NIL 

[START] man sitting along [END] NIL NIL NIL NIL
[START] dancers NIL NIL NIL NIL NIL NIL NIL 

[START] woman striped tights [END] NIL NIL NIL NIL
[START] dancers NIL NIL NIL NIL NIL NIL NIL 

[START] two barefoot young african boys [END] NIL NIL
[START] dancers NIL NIL NIL NIL NIL NIL NIL 

[START] woman [END] NIL NIL NIL NIL NIL NIL
[START] dancers NIL NIL NIL NIL NIL NIL NIL 

[START] child jumping pool [END] NIL NIL NIL NIL
[START] dancers NIL NIL NIL NIL NIL NIL NIL 

[START] group teammates [END] NIL NIL NIL NIL NIL
[START] dancers NIL NIL NIL NIL NIL NIL NIL 

[START] two men chainsaw [END] NIL NIL NIL NIL
[START] dancers NIL NIL NIL NIL NIL NIL NIL 

Epoch:0, Iteration: 465, Loss: 99.98, TimeElapsed: 18.54Min
Working (10, 200) torch.Size([10, 9])
Normal torch.Size([10, 9]) torch.Size([10, 9, 2512])
[START] two dogs running playing rough [END] NIL NIL
[START] [END] [END] [END] [END] [END] [END] [END] [END] 

[START] young man wearing life jacket [END] NIL NIL
[START] [END] [END] [END] [END] [END] [END] [END] [END] 

[START] man tuxedo [END] NIL NIL NIL NIL NIL
[START] [END] [END] [END] [END] [END] [END] [END] [END] 

[START] runner carries olympic torch [END] NIL NIL NIL
[START] [END] [END] [END] [END] [END] [END] [END] [END] 

[START] four children looking rocks [END] NIL NIL NIL
[START] [END] [END] [END] [END] [END] [END] [END] [END] 

[START] group men boys look upwards [END] NIL NIL
[START] [END] [END] [END] [END] [END] [END] [END] [END] 

[START] person kayaking white water [END] NIL NIL NIL
[START] [END] [END] [END] [END] [END] [END] [END] [END] 

[START] man woman sitting [END] NIL NIL NIL NIL
[START] [END] [END] [END] [END] [END] [END] [END] [END] 

[START] band performing music [END] NIL NIL NIL NIL
[START] [END] [END] [END] [END] [END] [END] [END] [END] 

[START] woman blue sweater [END] NIL NIL NIL NIL
[START] [END] [END] [END] [END] [END] [END] [END] [END] 

Epoch:0, Iteration: 466, Loss: 156.41, TimeElapsed: 18.58Min
Working (10, 200) torch.Size([10, 9])
Normal torch.Size([10, 9]) torch.Size([10, 9, 2512])
[START] two woman wearing statue [END] NIL NIL NIL
[START] two [END] [END] [END] [END] [END] [END] [END] 

[START] two women wearing lays [END] NIL NIL NIL
[START] two [END] [END] [END] [END] [END] [END] [END] 

[START] woman dressed green [END] NIL NIL NIL NIL
[START] two [END] [END] [END] [END] [END] [END] [END] 

[START] man working wood [END] NIL NIL NIL NIL
[START] two [END] [END] [END] [END] [END] [END] [END] 

[START] man sits [END] NIL NIL NIL NIL NIL
[START] two [END] [END] [END] [END] [END] [END] [END] 

[START] child brushing teeth [END] NIL NIL NIL NIL
[START] two [END] [END] [END] [END] [END] [END] [END] 

[START] election party [END] NIL NIL NIL NIL NIL
[START] two [END] [END] [END] [END] [END] [END] [END] 

[START] girl wearing blue pants [END] NIL NIL NIL
[START] two [END] [END] [END] [END] [END] [END] [END] 

[START] lady sitting tree [END] NIL NIL NIL NIL
[START] two [END] [END] [END] [END] [END] [END] [END] 

[START] young village girl making [END] NIL NIL NIL
[START] two [END] [END] [END] [END] [END] [END] [END] 

Epoch:0, Iteration: 467, Loss: 117.8, TimeElapsed: 18.62Min
Working (10, 200) torch.Size([10, 9])
Normal torch.Size([10, 9]) torch.Size([10, 9, 2512])
[START] man walks store [END] NIL NIL NIL NIL
[START] two NIL NIL NIL NIL NIL NIL NIL 

[START] little girl poses [END] NIL NIL NIL NIL
[START] two NIL NIL NIL NIL NIL NIL NIL 

[START] hikers cross bridge fast [END] NIL NIL NIL
[START] two NIL NIL NIL NIL NIL NIL NIL 

[START] creek winds woods [END] NIL NIL NIL NIL
[START] two NIL NIL NIL NIL NIL NIL NIL 

[START] woman walking [END] NIL NIL NIL NIL NIL
[START] two NIL NIL NIL NIL NIL NIL NIL 

[START] people stand reading papers [END] NIL NIL NIL
[START] two NIL NIL NIL NIL NIL NIL NIL 

[START] woman playing kids [END] NIL NIL NIL NIL
[START] two NIL NIL NIL NIL NIL NIL NIL 

[START] hockey goalie trying [END] NIL NIL NIL NIL
[START] two NIL NIL NIL NIL NIL NIL NIL 

[START] woman walking past artificial [END] NIL NIL NIL
[START] two NIL NIL NIL NIL NIL NIL NIL 

[START] man training dog [END] NIL NIL NIL NIL
[START] two NIL NIL NIL NIL NIL NIL NIL 

Epoch:0, Iteration: 468, Loss: 150.13, TimeElapsed: 18.66Min
Working (10, 200) torch.Size([10, 9])
Normal torch.Size([10, 9]) torch.Size([10, 9, 2512])
[START] man cuts grass [END] NIL NIL NIL NIL
[START] past past past past past past past past 

[START] young boy white karate [END] NIL NIL NIL
[START] past past past past past past past past 

[START] woman transparent [END] NIL NIL NIL NIL NIL
[START] past past past past past past past past 

[START] man jumps catch [END] NIL NIL NIL NIL
[START] past past past past past past past past 

[START] woman riding scooter [END] NIL NIL NIL NIL
[START] past past past past past past past past 

[START] two children playing [END] NIL NIL NIL NIL
[START] past past past past past past past past 

[START] men standing outside front [END] NIL NIL NIL
[START] past past past past past past past past 

[START] two people preparing food [END] NIL NIL NIL
[START] past past past past past past past past 

[START] woman backstroke [END] NIL NIL NIL NIL NIL
[START] past past past past past past past past 

[START] young girl wears [END] NIL NIL NIL NIL
[START] past past past past past past past past 

Epoch:0, Iteration: 469, Loss: 124.72, TimeElapsed: 18.7Min
Working (10, 200) torch.Size([10, 9])
Normal torch.Size([10, 9]) torch.Size([10, 9, 2512])
[START] woman blue [END] NIL NIL NIL NIL NIL
[START] man NIL NIL NIL NIL NIL NIL NIL 

[START] man drinks [END] NIL NIL NIL NIL NIL
[START] man NIL NIL NIL NIL NIL NIL NIL 

[START] two boys football teams [END] NIL NIL NIL
[START] man NIL NIL NIL NIL NIL NIL NIL 

[START] two men wearing eyeglasses eating sandwiches [END] NIL
[START] man NIL NIL NIL NIL NIL NIL NIL 

[START] two friends talk bar [END] NIL NIL NIL
[START] man NIL NIL NIL NIL NIL NIL NIL 

[START] two women walk street [END] NIL NIL NIL
[START] man NIL NIL NIL NIL NIL NIL NIL 

[START] man hiking [END] NIL NIL NIL NIL NIL
[START] man NIL NIL NIL NIL NIL NIL NIL 

[START] couple taking wedding photo [END] NIL NIL NIL
[START] man NIL NIL NIL NIL NIL NIL NIL 

[START] young boy demonstrates karate gymnasium [END] NIL NIL
[START] man NIL NIL NIL NIL NIL NIL NIL 

[START] man stares [END] NIL NIL NIL NIL NIL
[START] man NIL NIL NIL NIL NIL NIL NIL 

Epoch:0, Iteration: 470, Loss: 168.79, TimeElapsed: 18.74Min
Working (10, 200) torch.Size([10, 9])
Normal torch.Size([10, 9]) torch.Size([10, 9, 2512])
[START] many people walk along [END] NIL NIL NIL
[START] man men NIL NIL NIL NIL NIL NIL 

[START] person squeezing [END] NIL NIL NIL NIL NIL
[START] man men NIL NIL NIL NIL NIL NIL 

[START] woman blue [END] NIL NIL NIL NIL NIL
[START] man men NIL NIL NIL NIL NIL NIL 

[START] two male friends swimming [END] NIL NIL NIL
[START] man men NIL NIL NIL NIL NIL NIL 

[START] two females walking street [END] NIL NIL NIL
[START] man men NIL NIL NIL NIL NIL NIL 

[START] woman red jacket [END] NIL NIL NIL NIL
[START] man men NIL NIL NIL NIL NIL NIL 

[START] asian man blond woman [END] NIL NIL NIL
[START] man men NIL NIL NIL NIL NIL NIL 

[START] young woman wearing gray shawl [END] NIL NIL
[START] man men NIL NIL NIL NIL NIL NIL 

[START] man spraying water onto [END] NIL NIL NIL
[START] man men NIL NIL NIL NIL NIL NIL 

[START] two men ride bicycle [END] NIL NIL NIL
[START] man men NIL NIL NIL NIL NIL NIL 

Epoch:0, Iteration: 471, Loss: 133.52, TimeElapsed: 18.79Min
Working (10, 200) torch.Size([10, 9])
Normal torch.Size([10, 9]) torch.Size([10, 9, 2512])
[START] little girl wears white [END] NIL NIL NIL
[START] man wearing NIL NIL NIL NIL NIL NIL 

[START] kids running across grass [END] NIL NIL NIL
[START] man wearing NIL NIL NIL NIL NIL NIL 

[START] wakeboarder jumping [END] NIL NIL NIL NIL NIL
[START] man wearing NIL NIL NIL NIL NIL NIL 

[START] man apron appears [END] NIL NIL NIL NIL
[START] man wearing NIL NIL NIL NIL NIL NIL 

[START] kid looking carnival [END] NIL NIL NIL NIL
[START] man wearing NIL NIL NIL NIL NIL NIL 

[START] female basketball player shooting free throw [END] NIL
[START] man wearing NIL NIL NIL NIL NIL NIL 

[START] couple dogs around [END] NIL NIL NIL NIL
[START] man wearing NIL NIL NIL NIL NIL NIL 

[START] two men heads [END] NIL NIL NIL NIL
[START] man wearing NIL NIL NIL NIL NIL NIL 

[START] man wearing shorts [END] NIL NIL NIL NIL
[START] man wearing NIL NIL NIL NIL NIL NIL 

[START] woman making sand castle [END] NIL NIL NIL
[START] man wearing NIL NIL NIL NIL NIL NIL 

Epoch:0, Iteration: 472, Loss: 174.22, TimeElapsed: 18.83Min
Working (10, 200) torch.Size([10, 9])
Normal torch.Size([10, 9]) torch.Size([10, 9, 2512])
[START] man wearing black [END] NIL NIL NIL NIL
[START] life life life life life life life life 

[START] man women holding onto [END] NIL NIL NIL
[START] life life life life life life life life 

[START] two bicycle riders riding [END] NIL NIL NIL
[START] life life life life life life life life 

[START] two young boys swimming trunks [END] NIL NIL
[START] life life life life life life life life 

[START] older woman business dress [END] NIL NIL NIL
[START] life life life life life life life life 

[START] boy wearing knit [END] NIL NIL NIL NIL
[START] life life life life life life life life 

[START] group men converse [END] NIL NIL NIL NIL
[START] life life life life life life life life 

[START] man woman sitting [END] NIL NIL NIL NIL
[START] life life life life life life life life 

[START] girl walks downhill past parked [END] NIL NIL
[START] life life life life life life life life 

[START] woman stands [END] NIL NIL NIL NIL NIL
[START] life life life life life life life life 

Epoch:0, Iteration: 473, Loss: 113.99, TimeElapsed: 18.87Min
Working (10, 200) torch.Size([10, 9])
Normal torch.Size([10, 9]) torch.Size([10, 9, 2512])
[START] child swings baseball bat [END] NIL NIL NIL
[START] kid kid kid kid kid kid kid kid 

[START] woman black washing windows [END] NIL NIL NIL
[START] kid kid kid kid kid kid kid kid 

[START] man white shirt taking [END] NIL NIL NIL
[START] kid kid kid kid kid kid kid kid 

[START] four men standing around [END] NIL NIL NIL
[START] kid kid kid kid kid kid kid kid 

[START] people internet [END] NIL NIL NIL NIL NIL
[START] kid kid kid kid kid kid kid kid 

[START] woman blue tank top [END] NIL NIL NIL
[START] kid kid kid kid kid kid kid kid 

[START] woman dirty blond hair [END] NIL NIL NIL
[START] kid kid kid kid kid kid kid kid 

[START] artist straw [END] NIL NIL NIL NIL NIL
[START] kid kid kid kid kid kid kid kid 

[START] two women kneeling pathway taking [END] NIL NIL
[START] kid kid kid kid kid kid kid kid 

[START] young man wearing [END] NIL NIL NIL NIL
[START] kid kid kid kid kid kid kid kid 

Epoch:0, Iteration: 474, Loss: 169.04, TimeElapsed: 18.91Min
Working (10, 200) torch.Size([10, 9])
Normal torch.Size([10, 9]) torch.Size([10, 9, 2512])
[START] boy trying climb [END] NIL NIL NIL NIL
[START] woman happy happy happy happy happy happy happy 

[START] woman wearing glasses helps [END] NIL NIL NIL
[START] woman happy happy happy happy happy happy happy 

[START] man wearing red [END] NIL NIL NIL NIL
[START] woman happy happy happy happy happy happy happy 

[START] man using sledgehammer [END] NIL NIL NIL NIL
[START] woman happy happy happy happy happy happy happy 

[START] little girl enjoying [END] NIL NIL NIL NIL
[START] woman happy happy happy happy happy happy happy 

[START] girl standing outside wearing [END] NIL NIL NIL
[START] woman happy happy happy happy happy happy happy 

[START] woman running beach [END] NIL NIL NIL NIL
[START] woman happy happy happy happy happy happy happy 

[START] brown black dog [END] NIL NIL NIL NIL
[START] woman happy happy happy happy happy happy happy 

[START] young boy looking [END] NIL NIL NIL NIL
[START] woman happy happy happy happy happy happy happy 

[START] boy stands beside [END] NIL NIL NIL NIL
[START] woman happy happy happy happy happy happy happy 

Epoch:0, Iteration: 475, Loss: 117.9, TimeElapsed: 18.95Min
Working (10, 200) torch.Size([10, 9])
Normal torch.Size([10, 9]) torch.Size([10, 9, 2512])
[START] two cops cowboys hats riding [END] NIL NIL
[START] business business business business business business business business 

[START] team man [END] NIL NIL NIL NIL NIL
[START] business business business business business business business business 

[START] white dog plays beach near [END] NIL NIL
[START] business business business business business business business business 

[START] snowboarder red black grinds [END] NIL NIL NIL
[START] business business business business business business business business 

[START] man hanging pole [END] NIL NIL NIL NIL
[START] business business business business business business business business 

[START] adult putting goggles [END] NIL NIL NIL NIL
[START] business business business business business business business business 

[START] man black hugging girl [END] NIL NIL NIL
[START] business business business business business business business business 

[START] young child picking [END] NIL NIL NIL NIL
[START] business business business business business business business business 

[START] people affair outside [END] NIL NIL NIL NIL
[START] business business business business business business business business 

[START] young girl cools [END] NIL NIL NIL NIL
[START] business business business business business business business business 

Epoch:0, Iteration: 476, Loss: 179.57, TimeElapsed: 19.0Min
Working (10, 200) torch.Size([10, 9])
Normal torch.Size([10, 9]) torch.Size([10, 9, 2512])
[START] white man wearing white [END] NIL NIL NIL
[START] NIL NIL NIL NIL NIL NIL NIL NIL 

[START] people sitting [END] NIL NIL NIL NIL NIL
[START] NIL NIL NIL NIL NIL NIL NIL NIL 

[START] child swims underwater [END] NIL NIL NIL NIL
[START] NIL NIL NIL NIL NIL NIL NIL NIL 

[START] man fixes food [END] NIL NIL NIL NIL
[START] NIL NIL NIL NIL NIL NIL NIL NIL 

[START] young girl red [END] NIL NIL NIL NIL
[START] NIL NIL NIL NIL NIL NIL NIL NIL 

[START] servers sitting table waiting [END] NIL NIL NIL
[START] NIL NIL NIL NIL NIL NIL NIL NIL 

[START] children performing cheerleading moves [END] NIL NIL NIL
[START] NIL NIL NIL NIL NIL NIL NIL NIL 

[START] two women jogging three men [END] NIL NIL
[START] NIL NIL NIL NIL NIL NIL NIL NIL 

[START] woman black [END] NIL NIL NIL NIL NIL
[START] NIL NIL NIL NIL NIL NIL NIL NIL 

[START] man black hat [END] NIL NIL NIL NIL
[START] NIL NIL NIL NIL NIL NIL NIL NIL 

Epoch:0, Iteration: 477, Loss: 121.62, TimeElapsed: 19.04Min
Working (10, 200) torch.Size([10, 9])
Normal torch.Size([10, 9]) torch.Size([10, 9, 2512])
[START] dog sniffs grass [END] NIL NIL NIL NIL
[START] NIL NIL NIL NIL NIL NIL NIL NIL 

[START] women blue leotards hugging [END] NIL NIL NIL
[START] NIL NIL NIL NIL NIL NIL NIL NIL 

[START] man woman take [END] NIL NIL NIL NIL
[START] NIL NIL NIL NIL NIL NIL NIL NIL 

[START] dog lays back [END] NIL NIL NIL NIL
[START] NIL NIL NIL NIL NIL NIL NIL NIL 

[START] people boat carrying [END] NIL NIL NIL NIL
[START] NIL NIL NIL NIL NIL NIL NIL NIL 

[START] couple sitting among [END] NIL NIL NIL NIL
[START] NIL NIL NIL NIL NIL NIL NIL NIL 

[START] male figure [END] NIL NIL NIL NIL NIL
[START] NIL NIL NIL NIL NIL NIL NIL NIL 

[START] little girl [END] NIL NIL NIL NIL NIL
[START] NIL NIL NIL NIL NIL NIL NIL NIL 

[START] guy looking [END] NIL NIL NIL NIL NIL
[START] NIL NIL NIL NIL NIL NIL NIL NIL 

[START] brown dog jumping obstacle [END] NIL NIL NIL
[START] NIL NIL NIL NIL NIL NIL NIL NIL 

Epoch:0, Iteration: 478, Loss: 110.29, TimeElapsed: 19.08Min
Working (10, 200) torch.Size([10, 9])
Normal torch.Size([10, 9]) torch.Size([10, 9, 2512])
[START] man chops swordfish [END] NIL NIL NIL NIL
[START] NIL NIL NIL NIL NIL NIL NIL NIL 

[START] man heavy [END] NIL NIL NIL NIL NIL
[START] NIL NIL NIL NIL NIL NIL NIL NIL 

[START] black dog running grass [END] NIL NIL NIL
[START] NIL NIL NIL NIL NIL NIL NIL NIL 

[START] boy shovels sand [END] NIL NIL NIL NIL
[START] NIL NIL NIL NIL NIL NIL NIL NIL 

[START] man woman [END] NIL NIL NIL NIL NIL
[START] NIL NIL NIL NIL NIL NIL NIL NIL 

[START] black white dog wades [END] NIL NIL NIL
[START] NIL NIL NIL NIL NIL NIL NIL NIL 

[START] blond embracing young man pink costume [END] NIL
[START] NIL NIL NIL NIL NIL NIL NIL NIL 

[START] people dressed white red green cheering [END] NIL
[START] NIL NIL NIL NIL NIL NIL NIL NIL 

[START] woman looking [END] NIL NIL NIL NIL NIL
[START] NIL NIL NIL NIL NIL NIL NIL NIL 

[START] two men walking [END] NIL NIL NIL NIL
[START] NIL NIL NIL NIL NIL NIL NIL NIL 

Epoch:0, Iteration: 479, Loss: 134.63, TimeElapsed: 19.12Min
Working (10, 200) torch.Size([10, 9])
Normal torch.Size([10, 9]) torch.Size([10, 9, 2512])
[START] brown dog leaping [END] NIL NIL NIL NIL
[START] NIL NIL NIL NIL NIL NIL NIL NIL 

[START] young boy tongue [END] NIL NIL NIL NIL
[START] NIL NIL NIL NIL NIL NIL NIL NIL 

[START] older woman sits [END] NIL NIL NIL NIL
[START] NIL NIL NIL NIL NIL NIL NIL NIL 

[START] middle aged couple smiles [END] NIL NIL NIL
[START] NIL NIL NIL NIL NIL NIL NIL NIL 

[START] young girl tries [END] NIL NIL NIL NIL
[START] NIL NIL NIL NIL NIL NIL NIL NIL 

[START] scuba diver shows something [END] NIL NIL NIL
[START] NIL NIL NIL NIL NIL NIL NIL NIL 

[START] child plays ground [END] NIL NIL NIL NIL
[START] NIL NIL NIL NIL NIL NIL NIL NIL 

[START] two children man [END] NIL NIL NIL NIL
[START] NIL NIL NIL NIL NIL NIL NIL NIL 

[START] boy halloween [END] NIL NIL NIL NIL NIL
[START] NIL NIL NIL NIL NIL NIL NIL NIL 

[START] man snowboards [END] NIL NIL NIL NIL NIL
[START] NIL NIL NIL NIL NIL NIL NIL NIL 

Epoch:0, Iteration: 480, Loss: 135.51, TimeElapsed: 19.17Min
Working (10, 200) torch.Size([10, 9])
Normal torch.Size([10, 9]) torch.Size([10, 9, 2512])
[START] three young girls standing [END] NIL NIL NIL
[START] two [END] [END] [END] [END] [END] [END] [END] 

[START] child red [END] NIL NIL NIL NIL NIL
[START] two [END] [END] [END] [END] [END] [END] [END] 

[START] couple walking hand hand [END] NIL NIL NIL
[START] two [END] [END] [END] [END] [END] [END] [END] 

[START] little kid jumping [END] NIL NIL NIL NIL
[START] two [END] [END] [END] [END] [END] [END] [END] 

[START] mimes trying pull one [END] NIL NIL NIL
[START] two [END] [END] [END] [END] [END] [END] [END] 

[START] older overweight man flips pancake [END] NIL NIL
[START] two [END] [END] [END] [END] [END] [END] [END] 

[START] crowd people walk busy [END] NIL NIL NIL
[START] two [END] [END] [END] [END] [END] [END] [END] 

[START] man riding [END] NIL NIL NIL NIL NIL
[START] two [END] [END] [END] [END] [END] [END] [END] 

[START] runner wearing yellow shoes leaping [END] NIL NIL
[START] two [END] [END] [END] [END] [END] [END] [END] 

[START] many chairs [END] NIL NIL NIL NIL NIL
[START] two [END] [END] [END] [END] [END] [END] [END] 

Epoch:0, Iteration: 481, Loss: 172.01, TimeElapsed: 19.21Min
Working (10, 200) torch.Size([10, 9])
Normal torch.Size([10, 9]) torch.Size([10, 9, 2512])
[START] man blue [END] NIL NIL NIL NIL NIL
[START] bar [END] [END] [END] [END] [END] [END] [END] 

[START] woman wearing blue [END] NIL NIL NIL NIL
[START] bar [END] [END] [END] [END] [END] [END] [END] 

[START] young boy looking [END] NIL NIL NIL NIL
[START] bar [END] [END] [END] [END] [END] [END] [END] 

[START] men gas masks kneel [END] NIL NIL NIL
[START] bar [END] [END] [END] [END] [END] [END] [END] 

[START] small child [END] NIL NIL NIL NIL NIL
[START] bar [END] [END] [END] [END] [END] [END] [END] 

[START] two laughing women sit table [END] NIL NIL
[START] bar [END] [END] [END] [END] [END] [END] [END] 

[START] 5 children japanese bows practicing [END] NIL NIL
[START] bar [END] [END] [END] [END] [END] [END] [END] 

[START] little white dog runs [END] NIL NIL NIL
[START] bar [END] [END] [END] [END] [END] [END] [END] 

[START] human figure nature like costume [END] NIL NIL
[START] bar [END] [END] [END] [END] [END] [END] [END] 

[START] man black [END] NIL NIL NIL NIL NIL
[START] bar [END] [END] [END] [END] [END] [END] [END] 

Epoch:0, Iteration: 482, Loss: 154.2, TimeElapsed: 19.25Min
Working (10, 200) torch.Size([10, 9])
Normal torch.Size([10, 9]) torch.Size([10, 9, 2512])
[START] kids playing near street [END] NIL NIL NIL
[START] man NIL NIL NIL NIL NIL NIL NIL 

[START] woman dress [END] NIL NIL NIL NIL NIL
[START] man NIL NIL NIL NIL NIL NIL NIL 

[START] person kilt walks [END] NIL NIL NIL NIL
[START] man NIL NIL NIL NIL NIL NIL NIL 

[START] man holding [END] NIL NIL NIL NIL NIL
[START] man NIL NIL NIL NIL NIL NIL NIL 

[START] man singing microphone [END] NIL NIL NIL NIL
[START] man NIL NIL NIL NIL NIL NIL NIL 

[START] children beach dog [END] NIL NIL NIL NIL
[START] man NIL NIL NIL NIL NIL NIL NIL 

[START] woman walks path [END] NIL NIL NIL NIL
[START] man NIL NIL NIL NIL NIL NIL NIL 

[START] woman pink [END] NIL NIL NIL NIL NIL
[START] man NIL NIL NIL NIL NIL NIL NIL 

[START] roppolo pizzeria serves open [END] NIL NIL NIL
[START] man NIL NIL NIL NIL NIL NIL NIL 

[START] bicyclist helmet [END] NIL NIL NIL NIL NIL
[START] man NIL NIL NIL NIL NIL NIL NIL 

Epoch:0, Iteration: 483, Loss: 124.95, TimeElapsed: 19.29Min
Working (10, 200) torch.Size([10, 9])
Normal torch.Size([10, 9]) torch.Size([10, 9, 2512])
[START] group people lunch [END] NIL NIL NIL NIL
[START] costume costume costume costume costume costume costume costume 

[START] man looking [END] NIL NIL NIL NIL NIL
[START] costume costume costume costume costume costume costume costume 

[START] two scuba divers underwater wearing [END] NIL NIL
[START] costume costume costume costume costume costume costume costume 

[START] black white dog jomps another [END] NIL NIL
[START] costume costume costume costume costume costume costume costume 

[START] african american woman stands [END] NIL NIL NIL
[START] costume costume costume costume costume costume costume costume 

[START] small child using [END] NIL NIL NIL NIL
[START] costume costume costume costume costume costume costume costume 

[START] two hikers backpacks crossing snow field [END] NIL
[START] costume costume costume costume costume costume costume costume 

[START] man holding empty [END] NIL NIL NIL NIL
[START] costume costume costume costume costume costume costume costume 

[START] man camouflage pants sits next [END] NIL NIL
[START] costume costume costume costume costume costume costume costume 

[START] people fixing palace door [END] NIL NIL NIL
[START] costume costume costume costume costume costume costume costume 

Epoch:0, Iteration: 484, Loss: 170.66, TimeElapsed: 19.33Min
Working (10, 200) torch.Size([10, 9])
Normal torch.Size([10, 9]) torch.Size([10, 9, 2512])
[START] aerial shot [END] NIL NIL NIL NIL NIL
[START] man dog NIL NIL NIL NIL NIL NIL 

[START] two men playing soccer [END] NIL NIL NIL
[START] man dog NIL NIL NIL NIL NIL NIL 

[START] dog jumping black [END] NIL NIL NIL NIL
[START] man dog NIL NIL NIL NIL NIL NIL 

[START] two men military [END] NIL NIL NIL NIL
[START] man dog NIL NIL NIL NIL NIL NIL 

[START] two people riding [END] NIL NIL NIL NIL
[START] man dog NIL NIL NIL NIL NIL NIL 

[START] people face masks sweeping [END] NIL NIL NIL
[START] man dog NIL NIL NIL NIL NIL NIL 

[START] atlanta braves baseball player walking [END] NIL NIL
[START] man dog NIL NIL NIL NIL NIL NIL 

[START] woman stretches calves next [END] NIL NIL NIL
[START] man dog NIL NIL NIL NIL NIL NIL 

[START] four people swimming lake [END] NIL NIL NIL
[START] man dog NIL NIL NIL NIL NIL NIL 

[START] three kids gather around [END] NIL NIL NIL
[START] man dog NIL NIL NIL NIL NIL NIL 

Epoch:0, Iteration: 485, Loss: 164.28, TimeElapsed: 19.38Min
Working (10, 200) torch.Size([10, 9])
Normal torch.Size([10, 9]) torch.Size([10, 9, 2512])
[START] three men wearing canadian military [END] NIL NIL
[START] figure figure figure figure figure figure figure figure 

[START] three men standing top [END] NIL NIL NIL
[START] figure figure figure figure figure figure figure figure 

[START] worker guy cellphone [END] NIL NIL NIL NIL
[START] figure figure figure figure figure figure figure figure 

[START] child yellow balloon walks [END] NIL NIL NIL
[START] figure figure figure figure figure figure figure figure 

[START] smu basketball player drives [END] NIL NIL NIL
[START] figure figure figure figure figure figure figure figure 

[START] gentleman intensely studies [END] NIL NIL NIL NIL
[START] figure figure figure figure figure figure figure figure 

[START] graffiti covers open space picture [END] NIL NIL
[START] figure figure figure figure figure figure figure figure 

[START] baby girl pink cooking [END] NIL NIL NIL
[START] figure figure figure figure figure figure figure figure 

[START] formally dressed family watching couple [END] NIL NIL
[START] figure figure figure figure figure figure figure figure 

[START] man green sweater [END] NIL NIL NIL NIL
[START] figure figure figure figure figure figure figure figure 

Epoch:0, Iteration: 486, Loss: 233.67, TimeElapsed: 19.42Min
Working (10, 200) torch.Size([10, 9])
Normal torch.Size([10, 9]) torch.Size([10, 9, 2512])
[START] one woman participating track field [END] NIL NIL
[START] underwater underwater underwater underwater underwater underwater underwater underwater 

[START] dimly lit stage [END] NIL NIL NIL NIL
[START] underwater underwater underwater underwater underwater underwater underwater underwater 

[START] man red [END] NIL NIL NIL NIL NIL
[START] underwater underwater underwater underwater underwater underwater underwater underwater 

[START] dog running [END] NIL NIL NIL NIL NIL
[START] underwater underwater underwater underwater underwater underwater underwater underwater 

[START] two little girls pink [END] NIL NIL NIL
[START] underwater underwater underwater underwater underwater underwater underwater underwater 

[START] soccer player kicks defends possession [END] NIL NIL
[START] underwater underwater underwater underwater underwater underwater underwater underwater 

[START] two men sitting [END] NIL NIL NIL NIL
[START] underwater underwater underwater underwater underwater underwater underwater underwater 

[START] bird sitting [END] NIL NIL NIL NIL NIL
[START] underwater underwater underwater underwater underwater underwater underwater underwater 

[START] person wearing yellow [END] NIL NIL NIL NIL
[START] underwater underwater underwater underwater underwater underwater underwater underwater 

[START] young boy swings air [END] NIL NIL NIL
[START] underwater underwater underwater underwater underwater underwater underwater underwater 

Epoch:0, Iteration: 487, Loss: 142.94, TimeElapsed: 19.46Min
Working (10, 200) torch.Size([10, 9])
Normal torch.Size([10, 9]) torch.Size([10, 9, 2512])
[START] woman wearing scarf hat [END] NIL NIL NIL
[START] four NIL NIL NIL NIL NIL NIL NIL 

[START] boy green [END] NIL NIL NIL NIL NIL
[START] four NIL NIL NIL NIL NIL NIL NIL 

[START] little boy playfully [END] NIL NIL NIL NIL
[START] four NIL NIL NIL NIL NIL NIL NIL 

[START] black dog jumping biting [END] NIL NIL NIL
[START] four NIL NIL NIL NIL NIL NIL NIL 

[START] black man earring directing [END] NIL NIL NIL
[START] four NIL NIL NIL NIL NIL NIL NIL 

[START] man blond hair [END] NIL NIL NIL NIL
[START] four NIL NIL NIL NIL NIL NIL NIL 

[START] man playing guitar [END] NIL NIL NIL NIL
[START] four NIL NIL NIL NIL NIL NIL NIL 

[START] band playing concert [END] NIL NIL NIL NIL
[START] four NIL NIL NIL NIL NIL NIL NIL 

[START] three boys playing soccer [END] NIL NIL NIL
[START] four NIL NIL NIL NIL NIL NIL NIL 

[START] professional glass maker firing [END] NIL NIL NIL
[START] four NIL NIL NIL NIL NIL NIL NIL 

Epoch:0, Iteration: 488, Loss: 132.6, TimeElapsed: 19.5Min
Working (10, 200) torch.Size([10, 9])
Normal torch.Size([10, 9]) torch.Size([10, 9, 2512])
[START] teenage girl blue shirt wears [END] NIL NIL
[START] two NIL NIL NIL NIL NIL NIL NIL 

[START] shirtless man blue [END] NIL NIL NIL NIL
[START] two NIL NIL NIL NIL NIL NIL NIL 

[START] young boy perched [END] NIL NIL NIL NIL
[START] two NIL NIL NIL NIL NIL NIL NIL 

[START] child climbing tree wearing [END] NIL NIL NIL
[START] two NIL NIL NIL NIL NIL NIL NIL 

[START] videographer female companion stand [END] NIL NIL NIL
[START] two NIL NIL NIL NIL NIL NIL NIL 

[START] man wearing shirt [END] NIL NIL NIL NIL
[START] two NIL NIL NIL NIL NIL NIL NIL 

[START] several young black people traverse market [END] NIL
[START] two NIL NIL NIL NIL NIL NIL NIL 

[START] photo man motorcycle [END] NIL NIL NIL NIL
[START] two NIL NIL NIL NIL NIL NIL NIL 

[START] man sculpts hot [END] NIL NIL NIL NIL
[START] two NIL NIL NIL NIL NIL NIL NIL 

[START] camel carries two peoples stuff [END] NIL NIL
[START] two NIL NIL NIL NIL NIL NIL NIL 

Epoch:0, Iteration: 489, Loss: 182.67, TimeElapsed: 19.55Min
Working (10, 200) torch.Size([10, 9])
Normal torch.Size([10, 9]) torch.Size([10, 9, 2512])
[START] two boys posing blue [END] NIL NIL NIL
[START] two NIL NIL NIL NIL NIL NIL NIL 

[START] men getting ready [END] NIL NIL NIL NIL
[START] two NIL NIL NIL NIL NIL NIL NIL 

[START] several travelers either standing [END] NIL NIL NIL
[START] two NIL NIL NIL NIL NIL NIL NIL 

[START] solitary man blue shirt [END] NIL NIL NIL
[START] two NIL NIL NIL NIL NIL NIL NIL 

[START] man wearing white including shin [END] NIL NIL
[START] two NIL NIL NIL NIL NIL NIL NIL 

[START] young boy [END] NIL NIL NIL NIL NIL
[START] two NIL NIL NIL NIL NIL NIL NIL 

[START] young man gold short shorts [END] NIL NIL
[START] two NIL NIL NIL NIL NIL NIL NIL 

[START] man little girl [END] NIL NIL NIL NIL
[START] two NIL NIL NIL NIL NIL NIL NIL 

[START] asian woman eating something [END] NIL NIL NIL
[START] two NIL NIL NIL NIL NIL NIL NIL 

[START] brown dog large [END] NIL NIL NIL NIL
[START] two NIL NIL NIL NIL NIL NIL NIL 

Epoch:0, Iteration: 490, Loss: 145.13, TimeElapsed: 19.59Min
Working (10, 200) torch.Size([10, 9])
Normal torch.Size([10, 9]) torch.Size([10, 9, 2512])
[START] four cowboys sitting [END] NIL NIL NIL NIL
[START] swings hat hat hat hat hat hat hat 

[START] two football teams one team [END] NIL NIL
[START] swings hat hat hat hat hat hat hat 

[START] two men participate [END] NIL NIL NIL NIL
[START] swings hat hat hat hat hat hat hat 

[START] two affluently dressed people [END] NIL NIL NIL
[START] swings hat hat hat hat hat hat hat 

[START] guy looking [END] NIL NIL NIL NIL NIL
[START] swings hat hat hat hat hat hat hat 

[START] family walks thick [END] NIL NIL NIL NIL
[START] swings hat hat hat hat hat hat hat 

[START] man orange shit [END] NIL NIL NIL NIL
[START] swings hat hat hat hat hat hat hat 

[START] gray haired man plaid shirt working [END] NIL
[START] swings hat hat hat hat hat hat hat 

[START] young child costume [END] NIL NIL NIL NIL
[START] swings hat hat hat hat hat hat hat 

[START] dark haired woman wearing [END] NIL NIL NIL
[START] swings hat hat hat hat hat hat hat 

Epoch:0, Iteration: 491, Loss: 141.72, TimeElapsed: 19.63Min
Working (10, 200) torch.Size([10, 9])
Normal torch.Size([10, 9]) torch.Size([10, 9, 2512])
[START] three bicyclists turn curve [END] NIL NIL NIL
[START] man people [END] [END] [END] [END] [END] [END] 

[START] three big trees [END] NIL NIL NIL NIL
[START] man people [END] [END] [END] [END] [END] [END] 

[START] young boy orange [END] NIL NIL NIL NIL
[START] man people [END] [END] [END] [END] [END] [END] 

[START] woman holding baby [END] NIL NIL NIL NIL
[START] man people [END] [END] [END] [END] [END] [END] 

[START] woman child [END] NIL NIL NIL NIL NIL
[START] man people [END] [END] [END] [END] [END] [END] 

[START] man sits outside sign [END] NIL NIL NIL
[START] man people [END] [END] [END] [END] [END] [END] 

[START] two women sitting [END] NIL NIL NIL NIL
[START] man people [END] [END] [END] [END] [END] [END] 

[START] man woman [END] NIL NIL NIL NIL NIL
[START] man people [END] [END] [END] [END] [END] [END] 

[START] old man black [END] NIL NIL NIL NIL
[START] man people [END] [END] [END] [END] [END] [END] 

[START] yellow dog kicks sand [END] NIL NIL NIL
[START] man people [END] [END] [END] [END] [END] [END] 

Epoch:0, Iteration: 492, Loss: 108.42, TimeElapsed: 19.67Min
Working (10, 200) torch.Size([10, 9])
Normal torch.Size([10, 9]) torch.Size([10, 9, 2512])
[START] man looks like statue [END] NIL NIL NIL
[START] man [END] [END] [END] [END] [END] [END] [END] 

[START] people cross large bridge [END] NIL NIL NIL
[START] man [END] [END] [END] [END] [END] [END] [END] 

[START] child hitting soccer ball [END] NIL NIL NIL
[START] man [END] [END] [END] [END] [END] [END] [END] 

[START] man dressed nice [END] NIL NIL NIL NIL
[START] man [END] [END] [END] [END] [END] [END] [END] 

[START] woman red [END] NIL NIL NIL NIL NIL
[START] man [END] [END] [END] [END] [END] [END] [END] 

[START] boy wearing jeans standing [END] NIL NIL NIL
[START] man [END] [END] [END] [END] [END] [END] [END] 

[START] guy striped [END] NIL NIL NIL NIL NIL
[START] man [END] [END] [END] [END] [END] [END] [END] 

[START] man beach [END] NIL NIL NIL NIL NIL
[START] man [END] [END] [END] [END] [END] [END] [END] 

[START] little girl trying [END] NIL NIL NIL NIL
[START] man [END] [END] [END] [END] [END] [END] [END] 

[START] little girl big brown bright eyes [END] NIL
[START] man [END] [END] [END] [END] [END] [END] [END] 

Epoch:0, Iteration: 493, Loss: 121.04, TimeElapsed: 19.71Min
Working (10, 200) torch.Size([10, 9])
Normal torch.Size([10, 9]) torch.Size([10, 9, 2512])
[START] two people bicycles sit [END] NIL NIL NIL
[START] open open open open open open open open 

[START] little girl long brown [END] NIL NIL NIL
[START] open open open open open open open open 

[START] two people one black [END] NIL NIL NIL
[START] open open open open open open open open 

[START] view overlook [END] NIL NIL NIL NIL NIL
[START] open open open open open open open open 

[START] white dog black spots jumps [END] NIL NIL
[START] open open open open open open open open 

[START] young woman ordering [END] NIL NIL NIL NIL
[START] open open open open open open open open 

[START] group people [END] NIL NIL NIL NIL NIL
[START] open open open open open open open open 

[START] group children wearing white karate [END] NIL NIL
[START] open open open open open open open open 

[START] one man clothed robes white [END] NIL NIL
[START] open open open open open open open open 

[START] woman dress [END] NIL NIL NIL NIL NIL
[START] open open open open open open open open 

Epoch:0, Iteration: 494, Loss: 105.15, TimeElapsed: 19.75Min
Working (10, 200) torch.Size([10, 9])
Normal torch.Size([10, 9]) torch.Size([10, 9, 2512])
[START] street vendor selling cupcakes [END] NIL NIL NIL
[START] person NIL NIL NIL NIL NIL NIL NIL 

[START] lady man shirt [END] NIL NIL NIL NIL
[START] person NIL NIL NIL NIL NIL NIL NIL 

[START] woman sitting head tilted [END] NIL NIL NIL
[START] person NIL NIL NIL NIL NIL NIL NIL 

[START] hiking mountains [END] NIL NIL NIL NIL NIL
[START] person NIL NIL NIL NIL NIL NIL NIL 

[START] firefighter sprays piles [END] NIL NIL NIL NIL
[START] person NIL NIL NIL NIL NIL NIL NIL 

[START] lady white shirt [END] NIL NIL NIL NIL
[START] person NIL NIL NIL NIL NIL NIL NIL 

[START] two dogs wrestle [END] NIL NIL NIL NIL
[START] person NIL NIL NIL NIL NIL NIL NIL 

[START] woman pushes baby [END] NIL NIL NIL NIL
[START] person NIL NIL NIL NIL NIL NIL NIL 

[START] people dressed hi viz jackets [END] NIL NIL
[START] person NIL NIL NIL NIL NIL NIL NIL 

[START] two kids laughing [END] NIL NIL NIL NIL
[START] person NIL NIL NIL NIL NIL NIL NIL 

Epoch:0, Iteration: 495, Loss: 171.0, TimeElapsed: 19.79Min
Working (10, 200) torch.Size([10, 9])
Normal torch.Size([10, 9]) torch.Size([10, 9, 2512])
[START] woman white cuts [END] NIL NIL NIL NIL
[START] balloon NIL NIL NIL NIL NIL NIL NIL 

[START] five people standing [END] NIL NIL NIL NIL
[START] balloon NIL NIL NIL NIL NIL NIL NIL 

[START] dog runs snow [END] NIL NIL NIL NIL
[START] balloon NIL NIL NIL NIL NIL NIL NIL 

[START] man child [END] NIL NIL NIL NIL NIL
[START] balloon NIL NIL NIL NIL NIL NIL NIL 

[START] man jacket [END] NIL NIL NIL NIL NIL
[START] balloon NIL NIL NIL NIL NIL NIL NIL 

[START] two people outdated clothing posing [END] NIL NIL
[START] balloon NIL NIL NIL NIL NIL NIL NIL 

[START] two little girls bathing [END] NIL NIL NIL
[START] balloon NIL NIL NIL NIL NIL NIL NIL 

[START] two women city street [END] NIL NIL NIL
[START] balloon NIL NIL NIL NIL NIL NIL NIL 

[START] two soccer players fighting [END] NIL NIL NIL
[START] balloon NIL NIL NIL NIL NIL NIL NIL 

[START] man woman [END] NIL NIL NIL NIL NIL
[START] balloon NIL NIL NIL NIL NIL NIL NIL 

Epoch:0, Iteration: 496, Loss: 93.64, TimeElapsed: 19.82Min
Working (10, 200) torch.Size([10, 9])
Normal torch.Size([10, 9]) torch.Size([10, 9, 2512])
[START] young person [END] NIL NIL NIL NIL NIL
[START] hiking hiking hiking hiking hiking hiking hiking hiking 

[START] two woman standing next [END] NIL NIL NIL
[START] hiking hiking hiking hiking hiking hiking hiking hiking 

[START] two men two women [END] NIL NIL NIL
[START] hiking hiking hiking hiking hiking hiking hiking hiking 

[START] little kid blue shoes [END] NIL NIL NIL
[START] hiking hiking hiking hiking hiking hiking hiking hiking 

[START] teenager rides forest [END] NIL NIL NIL NIL
[START] hiking hiking hiking hiking hiking hiking hiking hiking 

[START] little girl buy inside [END] NIL NIL NIL
[START] hiking hiking hiking hiking hiking hiking hiking hiking 

[START] two younger boys standing front [END] NIL NIL
[START] hiking hiking hiking hiking hiking hiking hiking hiking 

[START] crowd staring [END] NIL NIL NIL NIL NIL
[START] hiking hiking hiking hiking hiking hiking hiking hiking 

[START] family observing nine [END] NIL NIL NIL NIL
[START] hiking hiking hiking hiking hiking hiking hiking hiking 

[START] festival going [END] NIL NIL NIL NIL NIL
[START] hiking hiking hiking hiking hiking hiking hiking hiking 

Epoch:0, Iteration: 497, Loss: 146.35, TimeElapsed: 19.86Min
Working (10, 200) torch.Size([10, 9])
Normal torch.Size([10, 9]) torch.Size([10, 9, 2512])
[START] five men looking topographical map [END] NIL NIL
[START] bicycles bicycles bicycles bicycles bicycles bicycles bicycles bicycles 

[START] man wearing multicolored shirt [END] NIL NIL NIL
[START] bicycles bicycles bicycles bicycles bicycles bicycles bicycles bicycles 

[START] group people wearing [END] NIL NIL NIL NIL
[START] bicycles bicycles bicycles bicycles bicycles bicycles bicycles bicycles 

[START] several people standing near [END] NIL NIL NIL
[START] bicycles bicycles bicycles bicycles bicycles bicycles bicycles bicycles 

[START] five spectators watching two [END] NIL NIL NIL
[START] bicycles bicycles bicycles bicycles bicycles bicycles bicycles bicycles 

[START] people concrete area taking pictures [END] NIL NIL
[START] bicycles bicycles bicycles bicycles bicycles bicycles bicycles bicycles 

[START] two dogs running grass [END] NIL NIL NIL
[START] bicycles bicycles bicycles bicycles bicycles bicycles bicycles bicycles 

[START] snarling dog approaches hissing [END] NIL NIL NIL
[START] bicycles bicycles bicycles bicycles bicycles bicycles bicycles bicycles 

[START] two teen girls compete one another [END] NIL
[START] bicycles bicycles bicycles bicycles bicycles bicycles bicycles bicycles 

[START] mother child enjoying [END] NIL NIL NIL NIL
[START] bicycles bicycles bicycles bicycles bicycles bicycles bicycles bicycles 

Epoch:0, Iteration: 498, Loss: 189.88, TimeElapsed: 19.9Min
Working (10, 200) torch.Size([10, 9])
Normal torch.Size([10, 9]) torch.Size([10, 9, 2512])
[START] boy red [END] NIL NIL NIL NIL NIL
[START] cuts cuts cuts cuts cuts cuts cuts cuts 

[START] elderly african american man yellow [END] NIL NIL
[START] cuts cuts cuts cuts cuts cuts cuts cuts 

[START] red haired woman black [END] NIL NIL NIL
[START] cuts cuts cuts cuts cuts cuts cuts cuts 

[START] overloaded wagon full [END] NIL NIL NIL NIL
[START] cuts cuts cuts cuts cuts cuts cuts cuts 

[START] two middle aged men one [END] NIL NIL
[START] cuts cuts cuts cuts cuts cuts cuts cuts 

[START] skier carefully walks [END] NIL NIL NIL NIL
[START] cuts cuts cuts cuts cuts cuts cuts cuts 

[START] girl hair [END] NIL NIL NIL NIL NIL
[START] cuts cuts cuts cuts cuts cuts cuts cuts 

[START] man sitting [END] NIL NIL NIL NIL NIL
[START] cuts cuts cuts cuts cuts cuts cuts cuts 

[START] group dark haired men [END] NIL NIL NIL
[START] cuts cuts cuts cuts cuts cuts cuts cuts 

[START] man [END] NIL NIL NIL NIL NIL NIL
[START] cuts cuts cuts cuts cuts cuts cuts cuts 

Epoch:0, Iteration: 499, Loss: 124.07, TimeElapsed: 19.94Min
Epoch 2
Working (10, 200) torch.Size([10, 9])
Normal torch.Size([10, 9]) torch.Size([10, 9, 2512])
[START] extreme bmx rider defying gravity [END] NIL NIL
[START] head head head head head head head head 

[START] boy holding onto running [END] NIL NIL NIL
[START] head head head head head head head head 

[START] girl mostly [END] NIL NIL NIL NIL NIL
[START] head head head head head head head head 

[START] little boy playing tires [END] NIL NIL NIL
[START] head head head head head head head head 

[START] little girl long brown [END] NIL NIL NIL
[START] head head head head head head head head 

[START] person soars parachute [END] NIL NIL NIL NIL
[START] head head head head head head head head 

[START] image [END] NIL NIL NIL NIL NIL NIL
[START] head head head head head head head head 

[START] brown dog chasing [END] NIL NIL NIL NIL
[START] head head head head head head head head 

[START] couple covered paint [END] NIL NIL NIL NIL
[START] head head head head head head head head 

[START] 3 young blond kids [END] NIL NIL NIL
[START] head head head head head head head head 

Epoch:1, Iteration: 1, Loss: 149.85, TimeElapsed: 19.98Min
Working (10, 200) torch.Size([10, 9])
Normal torch.Size([10, 9]) torch.Size([10, 9, 2512])
[START] male rides skateboard [END] NIL NIL NIL NIL
[START] two NIL NIL NIL NIL NIL NIL NIL 

[START] man gray hair black [END] NIL NIL NIL
[START] two NIL NIL NIL NIL NIL NIL NIL 

[START] girl green shirt [END] NIL NIL NIL NIL
[START] two NIL NIL NIL NIL NIL NIL NIL 

[START] boy wearing red [END] NIL NIL NIL NIL
[START] two NIL NIL NIL NIL NIL NIL NIL 

[START] little kids sit outdoors small [END] NIL NIL
[START] two NIL NIL NIL NIL NIL NIL NIL 

[START] boy green baseball jersey [END] NIL NIL NIL
[START] two NIL NIL NIL NIL NIL NIL NIL 

[START] young man white shirt [END] NIL NIL NIL
[START] two NIL NIL NIL NIL NIL NIL NIL 

[START] one man clothed robes white [END] NIL NIL
[START] two NIL NIL NIL NIL NIL NIL NIL 

[START] several bike riders compete competition [END] NIL NIL
[START] two NIL NIL NIL NIL NIL NIL NIL 

[START] white dog black spots jumps [END] NIL NIL
[START] two NIL NIL NIL NIL NIL NIL NIL 

Epoch:1, Iteration: 2, Loss: 131.01, TimeElapsed: 20.01Min
Working (10, 200) torch.Size([10, 9])
Normal torch.Size([10, 9]) torch.Size([10, 9, 2512])
[START] dog biting mop [END] NIL NIL NIL NIL
[START] kids NIL NIL NIL NIL NIL NIL NIL 

[START] asian man suit [END] NIL NIL NIL NIL
[START] kids NIL NIL NIL NIL NIL NIL NIL 

[START] small furry white dog walking [END] NIL NIL
[START] kids NIL NIL NIL NIL NIL NIL NIL 

[START] two cowboys horses roping [END] NIL NIL NIL
[START] kids NIL NIL NIL NIL NIL NIL NIL 

[START] woman carried cake [END] NIL NIL NIL NIL
[START] kids NIL NIL NIL NIL NIL NIL NIL 

[START] man dressed burgundy [END] NIL NIL NIL NIL
[START] kids NIL NIL NIL NIL NIL NIL NIL 

[START] man camouflage [END] NIL NIL NIL NIL NIL
[START] kids NIL NIL NIL NIL NIL NIL NIL 

[START] three men wearing bright yellow [END] NIL NIL
[START] kids NIL NIL NIL NIL NIL NIL NIL 

[START] smiling man arms crossed [END] NIL NIL NIL
[START] kids NIL NIL NIL NIL NIL NIL NIL 

[START] people [END] NIL NIL NIL NIL NIL NIL
[START] kids NIL NIL NIL NIL NIL NIL NIL 

Epoch:1, Iteration: 3, Loss: 112.3, TimeElapsed: 20.06Min
Working (10, 200) torch.Size([10, 9])
Normal torch.Size([10, 9]) torch.Size([10, 9, 2512])
[START] two men showing fighting [END] NIL NIL NIL
[START] boy NIL NIL NIL NIL NIL NIL NIL 

[START] black white dog wades [END] NIL NIL NIL
[START] boy NIL NIL NIL NIL NIL NIL NIL 

[START] man sings stage guitar [END] NIL NIL NIL
[START] boy NIL NIL NIL NIL NIL NIL NIL 

[START] woman waves [END] NIL NIL NIL NIL NIL
[START] boy NIL NIL NIL NIL NIL NIL NIL 

[START] woman kneels [END] NIL NIL NIL NIL NIL
[START] boy NIL NIL NIL NIL NIL NIL NIL 

[START] children read bunch [END] NIL NIL NIL NIL
[START] boy NIL NIL NIL NIL NIL NIL NIL 

[START] two dogs one black one [END] NIL NIL
[START] boy NIL NIL NIL NIL NIL NIL NIL 

[START] people standing around [END] NIL NIL NIL NIL
[START] boy NIL NIL NIL NIL NIL NIL NIL 

[START] shirtless man [END] NIL NIL NIL NIL NIL
[START] boy NIL NIL NIL NIL NIL NIL NIL 

[START] man jogs city [END] NIL NIL NIL NIL
[START] boy NIL NIL NIL NIL NIL NIL NIL 

Epoch:1, Iteration: 4, Loss: 109.89, TimeElapsed: 20.1Min
Working (10, 200) torch.Size([10, 9])
Normal torch.Size([10, 9]) torch.Size([10, 9, 2512])
[START] four people playing basketball [END] NIL NIL NIL
[START] woman NIL NIL NIL NIL NIL NIL NIL 

[START] scuba diver swimming deep [END] NIL NIL NIL
[START] woman NIL NIL NIL NIL NIL NIL NIL 

[START] people waiting line [END] NIL NIL NIL NIL
[START] woman NIL NIL NIL NIL NIL NIL NIL 

[START] bus street shown [END] NIL NIL NIL NIL
[START] woman NIL NIL NIL NIL NIL NIL NIL 

[START] cowboy riding brown bucking bronco [END] NIL NIL
[START] woman NIL NIL NIL NIL NIL NIL NIL 

[START] surgical rn blue scrubs checking [END] NIL NIL
[START] woman NIL NIL NIL NIL NIL NIL NIL 

[START] woman rides horse near frozen [END] NIL NIL
[START] woman NIL NIL NIL NIL NIL NIL NIL 

[START] man sweatshirt reading [END] NIL NIL NIL NIL
[START] woman NIL NIL NIL NIL NIL NIL NIL 

[START] man texas [END] NIL NIL NIL NIL NIL
[START] woman NIL NIL NIL NIL NIL NIL NIL 

[START] brown horse standing [END] NIL NIL NIL NIL
[START] woman NIL NIL NIL NIL NIL NIL NIL 

Epoch:1, Iteration: 5, Loss: 175.68, TimeElapsed: 20.14Min
Working (10, 200) torch.Size([10, 9])
Normal torch.Size([10, 9]) torch.Size([10, 9, 2512])
[START] boy almost [END] NIL NIL NIL NIL NIL
[START] woman [END] [END] [END] [END] [END] [END] [END] 

[START] red haired woman looks camera [END] NIL NIL
[START] woman [END] [END] [END] [END] [END] [END] [END] 

[START] brown dog jumping obstacle [END] NIL NIL NIL
[START] woman [END] [END] [END] [END] [END] [END] [END] 

[START] asian boys play [END] NIL NIL NIL NIL
[START] woman [END] [END] [END] [END] [END] [END] [END] 

[START] young girl blue dress [END] NIL NIL NIL
[START] woman [END] [END] [END] [END] [END] [END] [END] 

[START] man olive shirt chiseling [END] NIL NIL NIL
[START] woman [END] [END] [END] [END] [END] [END] [END] 

[START] man long sleeved gray shirt [END] NIL NIL
[START] woman [END] [END] [END] [END] [END] [END] [END] 

[START] dog leaps chasing [END] NIL NIL NIL NIL
[START] woman [END] [END] [END] [END] [END] [END] [END] 

[START] man pinstripe shirt sharpening [END] NIL NIL NIL
[START] woman [END] [END] [END] [END] [END] [END] [END] 

[START] three people play instruments front [END] NIL NIL
[START] woman [END] [END] [END] [END] [END] [END] [END] 

Epoch:1, Iteration: 6, Loss: 148.37, TimeElapsed: 20.18Min
Working (10, 200) torch.Size([10, 9])
Normal torch.Size([10, 9]) torch.Size([10, 9, 2512])
[START] man sitting next [END] NIL NIL NIL NIL
[START] wearing [END] [END] [END] [END] [END] [END] [END] 

[START] two children boy girl [END] NIL NIL NIL
[START] wearing [END] [END] [END] [END] [END] [END] [END] 

[START] family gathered [END] NIL NIL NIL NIL NIL
[START] wearing [END] [END] [END] [END] [END] [END] [END] 

[START] gateway wood paneling [END] NIL NIL NIL NIL
[START] wearing [END] [END] [END] [END] [END] [END] [END] 

[START] children playing fountain [END] NIL NIL NIL NIL
[START] wearing [END] [END] [END] [END] [END] [END] [END] 

[START] couple sitting [END] NIL NIL NIL NIL NIL
[START] wearing [END] [END] [END] [END] [END] [END] [END] 

[START] three boys carry wooden racks sidewalk [END] NIL
[START] wearing [END] [END] [END] [END] [END] [END] [END] 

[START] woman purple dress [END] NIL NIL NIL NIL
[START] wearing [END] [END] [END] [END] [END] [END] [END] 

[START] woman blue standing front [END] NIL NIL NIL
[START] wearing [END] [END] [END] [END] [END] [END] [END] 

[START] back view man [END] NIL NIL NIL NIL
[START] wearing [END] [END] [END] [END] [END] [END] [END] 

Epoch:1, Iteration: 7, Loss: 126.82, TimeElapsed: 20.24Min
Working (10, 200) torch.Size([10, 9])
Normal torch.Size([10, 9]) torch.Size([10, 9, 2512])
[START] man kicking [END] NIL NIL NIL NIL NIL
chasing chasing chasing chasing chasing chasing chasing chasing chasing 

[START] two girls shorts sit beside bookshelves [END] NIL
chasing chasing chasing chasing chasing chasing chasing chasing chasing 

[START] little girl [END] NIL NIL NIL NIL NIL
chasing chasing chasing chasing chasing chasing chasing chasing chasing 

[START] dark haired woman [END] NIL NIL NIL NIL
chasing chasing chasing chasing chasing chasing chasing chasing chasing 

[START] man reading cookbook making [END] NIL NIL NIL
chasing chasing chasing chasing chasing chasing chasing chasing chasing 

[START] young girl wearing [END] NIL NIL NIL NIL
chasing chasing chasing chasing chasing chasing chasing chasing chasing 

[START] little girl stands front [END] NIL NIL NIL
chasing chasing chasing chasing chasing chasing chasing chasing chasing 

[START] woman blue sweater [END] NIL NIL NIL NIL
chasing chasing chasing chasing chasing chasing chasing chasing chasing 

[START] man preparing fruit [END] NIL NIL NIL NIL
chasing chasing chasing chasing chasing chasing chasing chasing chasing 

[START] hispanic person sitting among colorful fabric making [END]
chasing chasing chasing chasing chasing chasing chasing chasing chasing 

Epoch:1, Iteration: 8, Loss: 164.94, TimeElapsed: 20.28Min
Working (10, 200) torch.Size([10, 9])
Normal torch.Size([10, 9]) torch.Size([10, 9, 2512])
[START] people conversing casual setting [END] NIL NIL NIL
[START] man sings NIL NIL NIL NIL NIL NIL 

[START] young man blue [END] NIL NIL NIL NIL
[START] man sings NIL NIL NIL NIL NIL NIL 

[START] man wearing [END] NIL NIL NIL NIL NIL
[START] man sings NIL NIL NIL NIL NIL NIL 

[START] small child getting [END] NIL NIL NIL NIL
[START] man sings NIL NIL NIL NIL NIL NIL 

[START] four asian women sitting [END] NIL NIL NIL
[START] man sings NIL NIL NIL NIL NIL NIL 

[START] four children looking rocks [END] NIL NIL NIL
[START] man sings NIL NIL NIL NIL NIL NIL 

[START] clay racetrack filled competitors [END] NIL NIL NIL
[START] man sings NIL NIL NIL NIL NIL NIL 

[START] man wearing white [END] NIL NIL NIL NIL
[START] man sings NIL NIL NIL NIL NIL NIL 

[START] street juggler performing wearing [END] NIL NIL NIL
[START] man sings NIL NIL NIL NIL NIL NIL 

[START] guy glasses jean shorts [END] NIL NIL NIL
[START] man sings NIL NIL NIL NIL NIL NIL 

Epoch:1, Iteration: 9, Loss: 137.7, TimeElapsed: 20.33Min
Working (10, 200) torch.Size([10, 9])
Normal torch.Size([10, 9]) torch.Size([10, 9, 2512])
[START] football player catching pass [END] NIL NIL NIL
[START] man NIL NIL NIL NIL NIL NIL NIL 

[START] woman cooks variety [END] NIL NIL NIL NIL
[START] man NIL NIL NIL NIL NIL NIL NIL 

[START] old man traditional [END] NIL NIL NIL NIL
[START] man NIL NIL NIL NIL NIL NIL NIL 

[START] grayish dog running snow [END] NIL NIL NIL
[START] man NIL NIL NIL NIL NIL NIL NIL 

[START] three women dressed colorful [END] NIL NIL NIL
[START] man NIL NIL NIL NIL NIL NIL NIL 

[START] little boy jumping one chair [END] NIL NIL
[START] man NIL NIL NIL NIL NIL NIL NIL 

[START] two men sitting [END] NIL NIL NIL NIL
[START] man NIL NIL NIL NIL NIL NIL NIL 

[START] bird watches waves [END] NIL NIL NIL NIL
[START] man NIL NIL NIL NIL NIL NIL NIL 

[START] many people walking cross street one [END] NIL
[START] man NIL NIL NIL NIL NIL NIL NIL 

[START] baby [END] NIL NIL NIL NIL NIL NIL
[START] man NIL NIL NIL NIL NIL NIL NIL 

Epoch:1, Iteration: 10, Loss: 139.76, TimeElapsed: 20.38Min
Working (10, 200) torch.Size([10, 9])
Normal torch.Size([10, 9]) torch.Size([10, 9, 2512])
[START] snowboarder wearing green [END] NIL NIL NIL NIL
[START] man riders NIL NIL NIL NIL NIL NIL 

[START] area japan [END] NIL NIL NIL NIL NIL
[START] man riders NIL NIL NIL NIL NIL NIL 

[START] man wearing pin stripe shirt eyeglasses [END] NIL
[START] man riders NIL NIL NIL NIL NIL NIL 

[START] young woman print [END] NIL NIL NIL NIL
[START] man riders NIL NIL NIL NIL NIL NIL 

[START] child laying [END] NIL NIL NIL NIL NIL
[START] man riders NIL NIL NIL NIL NIL NIL 

[START] group friends hanging [END] NIL NIL NIL NIL
[START] man riders NIL NIL NIL NIL NIL NIL 

[START] yorkie jumped air [END] NIL NIL NIL NIL
[START] man riders NIL NIL NIL NIL NIL NIL 

[START] man blue [END] NIL NIL NIL NIL NIL
[START] man riders NIL NIL NIL NIL NIL NIL 

[START] girl swing front [END] NIL NIL NIL NIL
[START] man riders NIL NIL NIL NIL NIL NIL 

[START] large dog rubs [END] NIL NIL NIL NIL
[START] man riders NIL NIL NIL NIL NIL NIL 

Epoch:1, Iteration: 11, Loss: 132.03, TimeElapsed: 20.43Min
Working (10, 200) torch.Size([10, 9])
Normal torch.Size([10, 9]) torch.Size([10, 9, 2512])
[START] lean dog runs along [END] NIL NIL NIL
[START] cowboys cowboys cowboys cowboys cowboys cowboys cowboys cowboys 

[START] woman jeans [END] NIL NIL NIL NIL NIL
[START] cowboys cowboys cowboys cowboys cowboys cowboys cowboys cowboys 

[START] people buying groceries massive [END] NIL NIL NIL
[START] cowboys cowboys cowboys cowboys cowboys cowboys cowboys cowboys 

[START] wet dog leash [END] NIL NIL NIL NIL
[START] cowboys cowboys cowboys cowboys cowboys cowboys cowboys cowboys 

[START] man helmet [END] NIL NIL NIL NIL NIL
[START] cowboys cowboys cowboys cowboys cowboys cowboys cowboys cowboys 

[START] people picking vegetables outside [END] NIL NIL NIL
[START] cowboys cowboys cowboys cowboys cowboys cowboys cowboys cowboys 

[START] man canoe [END] NIL NIL NIL NIL NIL
[START] cowboys cowboys cowboys cowboys cowboys cowboys cowboys cowboys 

[START] four people climbing hill [END] NIL NIL NIL
[START] cowboys cowboys cowboys cowboys cowboys cowboys cowboys cowboys 

[START] young girl wearing [END] NIL NIL NIL NIL
[START] cowboys cowboys cowboys cowboys cowboys cowboys cowboys cowboys 

[START] man wearing [END] NIL NIL NIL NIL NIL
[START] cowboys cowboys cowboys cowboys cowboys cowboys cowboys cowboys 

Epoch:1, Iteration: 12, Loss: 108.96, TimeElapsed: 20.47Min
Working (10, 200) torch.Size([10, 9])
Normal torch.Size([10, 9]) torch.Size([10, 9, 2512])
[START] people walking around [END] NIL NIL NIL NIL
[START] child NIL NIL NIL NIL NIL NIL NIL 

[START] boy high fives mannequin [END] NIL NIL NIL
[START] child NIL NIL NIL NIL NIL NIL NIL 

[START] two young children wearing green [END] NIL NIL
[START] child NIL NIL NIL NIL NIL NIL NIL 

[START] woman jeans bowling [END] NIL NIL NIL NIL
[START] child NIL NIL NIL NIL NIL NIL NIL 

[START] man military camouflage [END] NIL NIL NIL NIL
[START] child NIL NIL NIL NIL NIL NIL NIL 

[START] gentleman making play soccer [END] NIL NIL NIL
[START] child NIL NIL NIL NIL NIL NIL NIL 

[START] young man giving [END] NIL NIL NIL NIL
[START] child NIL NIL NIL NIL NIL NIL NIL 

[START] chorus standing [END] NIL NIL NIL NIL NIL
[START] child NIL NIL NIL NIL NIL NIL NIL 

[START] two people preparing food [END] NIL NIL NIL
[START] child NIL NIL NIL NIL NIL NIL NIL 

[START] worker blue [END] NIL NIL NIL NIL NIL
[START] child NIL NIL NIL NIL NIL NIL NIL 

Epoch:1, Iteration: 13, Loss: 128.16, TimeElapsed: 20.51Min
Working (10, 200) torch.Size([10, 9])
Normal torch.Size([10, 9]) torch.Size([10, 9, 2512])
[START] little girl points [END] NIL NIL NIL NIL
[START] young rocks NIL NIL NIL NIL NIL NIL 

[START] pretty girl crinkly [END] NIL NIL NIL NIL
[START] young rocks NIL NIL NIL NIL NIL NIL 

[START] grown lady snuggling [END] NIL NIL NIL NIL
[START] young rocks NIL NIL NIL NIL NIL NIL 

[START] woman wearing green shirt stands [END] NIL NIL
[START] young rocks NIL NIL NIL NIL NIL NIL 

[START] three men army camouflage sitting [END] NIL NIL
[START] young rocks NIL NIL NIL NIL NIL NIL 

[START] old man black [END] NIL NIL NIL NIL
[START] young rocks NIL NIL NIL NIL NIL NIL 

[START] boy blue hat sit [END] NIL NIL NIL
[START] young rocks NIL NIL NIL NIL NIL NIL 

[START] parent child [END] NIL NIL NIL NIL NIL
[START] young rocks NIL NIL NIL NIL NIL NIL 

[START] girl playing trumpet [END] NIL NIL NIL NIL
[START] young rocks NIL NIL NIL NIL NIL NIL 

[START] group people marching [END] NIL NIL NIL NIL
[START] young rocks NIL NIL NIL NIL NIL NIL 

Epoch:1, Iteration: 14, Loss: 112.31, TimeElapsed: 20.56Min
Working (10, 200) torch.Size([10, 9])
Normal torch.Size([10, 9]) torch.Size([10, 9, 2512])
[START] getting body [END] NIL NIL NIL NIL NIL
[START] young NIL NIL NIL NIL NIL NIL NIL 

[START] dog runs [END] NIL NIL NIL NIL NIL
[START] young NIL NIL NIL NIL NIL NIL NIL 

[START] two men one black one white [END] NIL
[START] young NIL NIL NIL NIL NIL NIL NIL 

[START] man baby strapped [END] NIL NIL NIL NIL
[START] young NIL NIL NIL NIL NIL NIL NIL 

[START] group musicians instruments [END] NIL NIL NIL NIL
[START] young NIL NIL NIL NIL NIL NIL NIL 

[START] man wearing white including shin [END] NIL NIL
[START] young NIL NIL NIL NIL NIL NIL NIL 

[START] closeup elderly [END] NIL NIL NIL NIL NIL
[START] young NIL NIL NIL NIL NIL NIL NIL 

[START] black man [END] NIL NIL NIL NIL NIL
[START] young NIL NIL NIL NIL NIL NIL NIL 

[START] three people sitting lawn [END] NIL NIL NIL
[START] young NIL NIL NIL NIL NIL NIL NIL 

[START] group young girls [END] NIL NIL NIL NIL
[START] young NIL NIL NIL NIL NIL NIL NIL 

Epoch:1, Iteration: 15, Loss: 69.99, TimeElapsed: 20.6Min
Working (10, 200) torch.Size([10, 9])
Normal torch.Size([10, 9]) torch.Size([10, 9, 2512])
[START] four young girls posing [END] NIL NIL NIL
[START] including including including including including including including including 

[START] three young males standing [END] NIL NIL NIL
[START] including including including including including including including including 

[START] man big hair [END] NIL NIL NIL NIL
[START] including including including including including including including including 

[START] blond woman dressed [END] NIL NIL NIL NIL
[START] including including including including including including including including 

[START] man rollerblading [END] NIL NIL NIL NIL NIL
[START] including including including including including including including including 

[START] group children wearing [END] NIL NIL NIL NIL
[START] including including including including including including including including 

[START] man megaphone protesting three [END] NIL NIL NIL
[START] including including including including including including including including 

[START] old woman smoking cigarette [END] NIL NIL NIL
[START] including including including including including including including including 

[START] man wearing short sleeve [END] NIL NIL NIL
[START] including including including including including including including including 

[START] person hikes mountain [END] NIL NIL NIL NIL
[START] including including including including including including including including 

Epoch:1, Iteration: 16, Loss: 124.04, TimeElapsed: 20.65Min
Working (10, 200) torch.Size([10, 9])
Normal torch.Size([10, 9]) torch.Size([10, 9, 2512])
[START] man beige pants [END] NIL NIL NIL NIL
[START] bucking bucking bucking bucking bucking bucking bucking bucking 

[START] two people wearing yellow shirt [END] NIL NIL
[START] bucking bucking bucking bucking bucking bucking bucking bucking 

[START] african native gazes [END] NIL NIL NIL NIL
[START] bucking bucking bucking bucking bucking bucking bucking bucking 

[START] two men suit talking [END] NIL NIL NIL
[START] bucking bucking bucking bucking bucking bucking bucking bucking 

[START] two women crossing street [END] NIL NIL NIL
[START] bucking bucking bucking bucking bucking bucking bucking bucking 

[START] two women sitting table [END] NIL NIL NIL
[START] bucking bucking bucking bucking bucking bucking bucking bucking 

[START] crowd people walk next [END] NIL NIL NIL
[START] bucking bucking bucking bucking bucking bucking bucking bucking 

[START] man playing accordion [END] NIL NIL NIL NIL
[START] bucking bucking bucking bucking bucking bucking bucking bucking 

[START] man holding something [END] NIL NIL NIL NIL
[START] bucking bucking bucking bucking bucking bucking bucking bucking 

[START] man camouflage pants sits next [END] NIL NIL
[START] bucking bucking bucking bucking bucking bucking bucking bucking 

Epoch:1, Iteration: 17, Loss: 138.03, TimeElapsed: 20.7Min
Working (10, 200) torch.Size([10, 9])
Normal torch.Size([10, 9]) torch.Size([10, 9, 2512])
[START] blond boy running [END] NIL NIL NIL NIL
[START] two NIL NIL NIL NIL NIL NIL NIL 

[START] man blue tank top showing [END] NIL NIL
[START] two NIL NIL NIL NIL NIL NIL NIL 

[START] man orange shit [END] NIL NIL NIL NIL
[START] two NIL NIL NIL NIL NIL NIL NIL 

[START] number 75 motorcycle racer rides [END] NIL NIL
[START] two NIL NIL NIL NIL NIL NIL NIL 

[START] young boy [END] NIL NIL NIL NIL NIL
[START] two NIL NIL NIL NIL NIL NIL NIL 

[START] four kids two [END] NIL NIL NIL NIL
[START] two NIL NIL NIL NIL NIL NIL NIL 

[START] kid orange plays [END] NIL NIL NIL NIL
[START] two NIL NIL NIL NIL NIL NIL NIL 

[START] large gray bird begins land [END] NIL NIL
[START] two NIL NIL NIL NIL NIL NIL NIL 

[START] men work construction [END] NIL NIL NIL NIL
[START] two NIL NIL NIL NIL NIL NIL NIL 

[START] woman red curly hair [END] NIL NIL NIL
[START] two NIL NIL NIL NIL NIL NIL NIL 

Epoch:1, Iteration: 18, Loss: 155.19, TimeElapsed: 20.75Min
Working (10, 200) torch.Size([10, 9])
Normal torch.Size([10, 9]) torch.Size([10, 9, 2512])
[START] fans players baseball [END] NIL NIL NIL NIL
[START] smoking smoking smoking smoking smoking smoking smoking smoking 

[START] two teen girls compete one another [END] NIL
[START] smoking smoking smoking smoking smoking smoking smoking smoking 

[START] young woman red [END] NIL NIL NIL NIL
[START] smoking smoking smoking smoking smoking smoking smoking smoking 

[START] two men looking [END] NIL NIL NIL NIL
[START] smoking smoking smoking smoking smoking smoking smoking smoking 

[START] man posing november [END] NIL NIL NIL NIL
[START] smoking smoking smoking smoking smoking smoking smoking smoking 

[START] bird sitting [END] NIL NIL NIL NIL NIL
[START] smoking smoking smoking smoking smoking smoking smoking smoking 

[START] brunette woman [END] NIL NIL NIL NIL NIL
[START] smoking smoking smoking smoking smoking smoking smoking smoking 

[START] man smiling [END] NIL NIL NIL NIL NIL
[START] smoking smoking smoking smoking smoking smoking smoking smoking 

[START] child brown [END] NIL NIL NIL NIL NIL
[START] smoking smoking smoking smoking smoking smoking smoking smoking 

[START] two people boy [END] NIL NIL NIL NIL
[START] smoking smoking smoking smoking smoking smoking smoking smoking 

Epoch:1, Iteration: 19, Loss: 77.25, TimeElapsed: 20.79Min
Working (10, 200) torch.Size([10, 9])
Normal torch.Size([10, 9]) torch.Size([10, 9, 2512])
[START] person parka walking [END] NIL NIL NIL NIL
[START] woman [END] [END] [END] [END] [END] [END] [END] 

[START] ladies blondish [END] NIL NIL NIL NIL NIL
[START] woman [END] [END] [END] [END] [END] [END] [END] 

[START] two adults hold sign says [END] NIL NIL
[START] woman [END] [END] [END] [END] [END] [END] [END] 

[START] several children raising [END] NIL NIL NIL NIL
[START] woman [END] [END] [END] [END] [END] [END] [END] 

[START] two affluently dressed people [END] NIL NIL NIL
[START] woman [END] [END] [END] [END] [END] [END] [END] 

[START] man stands [END] NIL NIL NIL NIL NIL
[START] woman [END] [END] [END] [END] [END] [END] [END] 

[START] group people walk street [END] NIL NIL NIL
[START] woman [END] [END] [END] [END] [END] [END] [END] 

[START] doberman running [END] NIL NIL NIL NIL NIL
[START] woman [END] [END] [END] [END] [END] [END] [END] 

[START] two men [END] NIL NIL NIL NIL NIL
[START] woman [END] [END] [END] [END] [END] [END] [END] 

[START] young man surrounded wires twists three [END] NIL
[START] woman [END] [END] [END] [END] [END] [END] [END] 

Epoch:1, Iteration: 20, Loss: 142.3, TimeElapsed: 20.83Min
Working (10, 200) torch.Size([10, 9])
Normal torch.Size([10, 9]) torch.Size([10, 9, 2512])
[START] woman gray dress walking [END] NIL NIL NIL
[START] compete compete compete compete compete compete compete compete 

[START] man woman sitting [END] NIL NIL NIL NIL
[START] compete compete compete compete compete compete compete compete 

[START] man black hugging girl [END] NIL NIL NIL
[START] compete compete compete compete compete compete compete compete 

[START] man sitting chair [END] NIL NIL NIL NIL
[START] compete compete compete compete compete compete compete compete 

[START] young man leads choir practice [END] NIL NIL
[START] compete compete compete compete compete compete compete compete 

[START] large group women sew [END] NIL NIL NIL
[START] compete compete compete compete compete compete compete compete 

[START] invisible man suit [END] NIL NIL NIL NIL
[START] compete compete compete compete compete compete compete compete 

[START] several african women sit front [END] NIL NIL
[START] compete compete compete compete compete compete compete compete 

[START] woman ironing delicate [END] NIL NIL NIL NIL
[START] compete compete compete compete compete compete compete compete 

[START] man wearing white shirt [END] NIL NIL NIL
[START] compete compete compete compete compete compete compete compete 

Epoch:1, Iteration: 21, Loss: 121.35, TimeElapsed: 20.87Min
Working (10, 200) torch.Size([10, 9])
Normal torch.Size([10, 9]) torch.Size([10, 9, 2512])
[START] man squinting two women [END] NIL NIL NIL
[START] man NIL NIL NIL NIL NIL NIL NIL 

[START] boy plays outside near [END] NIL NIL NIL
[START] man NIL NIL NIL NIL NIL NIL NIL 

[START] young boy buckled [END] NIL NIL NIL NIL
[START] man NIL NIL NIL NIL NIL NIL NIL 

[START] two youth football teams playing [END] NIL NIL
[START] man NIL NIL NIL NIL NIL NIL NIL 

[START] man playing tennis [END] NIL NIL NIL NIL
[START] man NIL NIL NIL NIL NIL NIL NIL 

[START] soldier crouches beside tank [END] NIL NIL NIL
[START] man NIL NIL NIL NIL NIL NIL NIL 

[START] restaurant worker looks outside [END] NIL NIL NIL
[START] man NIL NIL NIL NIL NIL NIL NIL 

[START] little boy hiding underneath [END] NIL NIL NIL
[START] man NIL NIL NIL NIL NIL NIL NIL 

[START] aerial shot [END] NIL NIL NIL NIL NIL
[START] man NIL NIL NIL NIL NIL NIL NIL 

[START] two people wearing yellow jackets crosscountry skiing [END]
[START] man NIL NIL NIL NIL NIL NIL NIL 

Epoch:1, Iteration: 22, Loss: 164.94, TimeElapsed: 20.92Min
Working (10, 200) torch.Size([10, 9])
Normal torch.Size([10, 9]) torch.Size([10, 9, 2512])
[START] boy looking though [END] NIL NIL NIL NIL
[START] man NIL NIL NIL NIL NIL NIL NIL 

[START] blond haired toddler burgundy [END] NIL NIL NIL
[START] man NIL NIL NIL NIL NIL NIL NIL 

[START] group kids red white [END] NIL NIL NIL
[START] man NIL NIL NIL NIL NIL NIL NIL 

[START] woman standing front [END] NIL NIL NIL NIL
[START] man NIL NIL NIL NIL NIL NIL NIL 

[START] two young boys swimming trunks [END] NIL NIL
[START] man NIL NIL NIL NIL NIL NIL NIL 

[START] oriental looking girl pink [END] NIL NIL NIL
[START] man NIL NIL NIL NIL NIL NIL NIL 

[START] man working bagel shop [END] NIL NIL NIL
[START] man NIL NIL NIL NIL NIL NIL NIL 

[START] man hat coat [END] NIL NIL NIL NIL
[START] man NIL NIL NIL NIL NIL NIL NIL 

[START] man sweatshirt walking outside [END] NIL NIL NIL
[START] man NIL NIL NIL NIL NIL NIL NIL 

[START] three pairs underpants hanging [END] NIL NIL NIL
[START] man NIL NIL NIL NIL NIL NIL NIL 

Epoch:1, Iteration: 23, Loss: 140.71, TimeElapsed: 20.96Min
Working (10, 200) torch.Size([10, 9])
Normal torch.Size([10, 9]) torch.Size([10, 9, 2512])
[START] young guy probably [END] NIL NIL NIL NIL
[START] group NIL NIL NIL NIL NIL NIL NIL 

[START] girl demonstrating [END] NIL NIL NIL NIL NIL
[START] group NIL NIL NIL NIL NIL NIL NIL 

[START] dark haired woman white [END] NIL NIL NIL
[START] group NIL NIL NIL NIL NIL NIL NIL 

[START] girl rocking guitar bedroom [END] NIL NIL NIL
[START] group NIL NIL NIL NIL NIL NIL NIL 

[START] two women walking toward camera along [END] NIL
[START] group NIL NIL NIL NIL NIL NIL NIL 

[START] man four wheeler jumps [END] NIL NIL NIL
[START] group NIL NIL NIL NIL NIL NIL NIL 

[START] young person black next [END] NIL NIL NIL
[START] group NIL NIL NIL NIL NIL NIL NIL 

[START] young boy girl [END] NIL NIL NIL NIL
[START] group NIL NIL NIL NIL NIL NIL NIL 

[START] girl sleeping [END] NIL NIL NIL NIL NIL
[START] group NIL NIL NIL NIL NIL NIL NIL 

[START] happy couple sitting together [END] NIL NIL NIL
[START] group NIL NIL NIL NIL NIL NIL NIL 

Epoch:1, Iteration: 24, Loss: 116.91, TimeElapsed: 21.02Min
Working (10, 200) torch.Size([10, 9])
Normal torch.Size([10, 9]) torch.Size([10, 9, 2512])
[START] young boy looking [END] NIL NIL NIL NIL
[START] camera camera camera camera camera camera camera camera 

[START] four male musicians one female musician [END] NIL
[START] camera camera camera camera camera camera camera camera 

[START] artist consults plan [END] NIL NIL NIL NIL
[START] camera camera camera camera camera camera camera camera 

[START] two girls heels stand street [END] NIL NIL
[START] camera camera camera camera camera camera camera camera 

[START] doctor checks heartbeat [END] NIL NIL NIL NIL
[START] camera camera camera camera camera camera camera camera 

[START] girl splits air [END] NIL NIL NIL NIL
[START] camera camera camera camera camera camera camera camera 

[START] man playing string [END] NIL NIL NIL NIL
[START] camera camera camera camera camera camera camera camera 

[START] young man rests [END] NIL NIL NIL NIL
[START] camera camera camera camera camera camera camera camera 

[START] man sitting [END] NIL NIL NIL NIL NIL
[START] camera camera camera camera camera camera camera camera 

[START] woman holding water bottle running [END] NIL NIL
[START] camera camera camera camera camera camera camera camera 

Epoch:1, Iteration: 25, Loss: 140.73, TimeElapsed: 21.06Min
Working (10, 200) torch.Size([10, 9])
Normal torch.Size([10, 9]) torch.Size([10, 9, 2512])
[START] woman frowns looks [END] NIL NIL NIL NIL
[START] soldier soldier NIL NIL NIL NIL NIL NIL 

[START] group people sitting table [END] NIL NIL NIL
[START] soldier soldier NIL NIL NIL NIL NIL NIL 

[START] gal yellow hard hat [END] NIL NIL NIL
[START] soldier soldier NIL NIL NIL NIL NIL NIL 

[START] man cowboy boots briefs [END] NIL NIL NIL
[START] soldier soldier NIL NIL NIL NIL NIL NIL 

[START] man hat shorts shirt carries wood [END] NIL
[START] soldier soldier NIL NIL NIL NIL NIL NIL 

[START] red car ahead two [END] NIL NIL NIL
[START] soldier soldier NIL NIL NIL NIL NIL NIL 

[START] brown dog running [END] NIL NIL NIL NIL
[START] soldier soldier NIL NIL NIL NIL NIL NIL 

[START] small child holding cup [END] NIL NIL NIL
[START] soldier soldier NIL NIL NIL NIL NIL NIL 

[START] people crowded train [END] NIL NIL NIL NIL
[START] soldier soldier NIL NIL NIL NIL NIL NIL 

[START] woman [END] NIL NIL NIL NIL NIL NIL
[START] soldier soldier NIL NIL NIL NIL NIL NIL 

Epoch:1, Iteration: 26, Loss: 146.16, TimeElapsed: 21.11Min
Working (10, 200) torch.Size([10, 9])
Normal torch.Size([10, 9]) torch.Size([10, 9, 2512])
[START] group people riding [END] NIL NIL NIL NIL
[START] two looking looking looking looking looking looking looking 

[START] three women walk [END] NIL NIL NIL NIL
[START] two looking looking looking looking looking looking looking 

[START] woman flips [END] NIL NIL NIL NIL NIL
[START] two looking looking looking looking looking looking looking 

[START] group motorcycle riders gather [END] NIL NIL NIL
[START] two looking looking looking looking looking looking looking 

[START] climber trying climb big [END] NIL NIL NIL
[START] two looking looking looking looking looking looking looking 

[START] man boy work fruit cart [END] NIL NIL
[START] two looking looking looking looking looking looking looking 

[START] man blue [END] NIL NIL NIL NIL NIL
[START] two looking looking looking looking looking looking looking 

[START] young boy tries [END] NIL NIL NIL NIL
[START] two looking looking looking looking looking looking looking 

[START] little boy [END] NIL NIL NIL NIL NIL
[START] two looking looking looking looking looking looking looking 

[START] man beach [END] NIL NIL NIL NIL NIL
[START] two looking looking looking looking looking looking looking 

Epoch:1, Iteration: 27, Loss: 95.63, TimeElapsed: 21.15Min
Working (10, 200) torch.Size([10, 9])
Normal torch.Size([10, 9]) torch.Size([10, 9, 2512])
[START] woman relaxes [END] NIL NIL NIL NIL NIL
[START] hugging hugging hugging hugging hugging [END] [END] [END] 

[START] three females hanging [END] NIL NIL NIL NIL
[START] hugging hugging hugging hugging hugging [END] [END] [END] 

[START] woman sitting man [END] NIL NIL NIL NIL
[START] hugging hugging hugging hugging hugging [END] [END] [END] 

[START] room men dressed [END] NIL NIL NIL NIL
[START] hugging hugging hugging hugging hugging [END] [END] [END] 

[START] one male farmers [END] NIL NIL NIL NIL
[START] hugging hugging hugging hugging hugging [END] [END] [END] 

[START] people affair outside [END] NIL NIL NIL NIL
[START] hugging hugging hugging hugging hugging [END] [END] [END] 

[START] people rollerblading riding bikes [END] NIL NIL NIL
[START] hugging hugging hugging hugging hugging [END] [END] [END] 

[START] asian women poses picture outside [END] NIL NIL
[START] hugging hugging hugging hugging hugging [END] [END] [END] 

[START] blond woman wearing [END] NIL NIL NIL NIL
[START] hugging hugging hugging hugging hugging [END] [END] [END] 

[START] man blue shirt barbecues meat [END] NIL NIL
[START] hugging hugging hugging hugging hugging [END] [END] [END] 

Epoch:1, Iteration: 28, Loss: 120.49, TimeElapsed: 21.2Min
Working (10, 200) torch.Size([10, 9])
Normal torch.Size([10, 9]) torch.Size([10, 9, 2512])
[START] big outdoor market along [END] NIL NIL NIL
[START] boy NIL NIL NIL NIL NIL NIL NIL 

[START] gray dog leaping [END] NIL NIL NIL NIL
[START] boy NIL NIL NIL NIL NIL NIL NIL 

[START] sparsely populated arcade many [END] NIL NIL NIL
[START] boy NIL NIL NIL NIL NIL NIL NIL 

[START] two female hikers hang onto rock [END] NIL
[START] boy NIL NIL NIL NIL NIL NIL NIL 

[START] young man takes acrobatic leap [END] NIL NIL
[START] boy NIL NIL NIL NIL NIL NIL NIL 

[START] people sitting circle [END] NIL NIL NIL NIL
[START] boy NIL NIL NIL NIL NIL NIL NIL 

[START] group cheerleaders perform stunts [END] NIL NIL NIL
[START] boy NIL NIL NIL NIL NIL NIL NIL 

[START] woman dress carrying [END] NIL NIL NIL NIL
[START] boy NIL NIL NIL NIL NIL NIL NIL 

[START] small child wearing [END] NIL NIL NIL NIL
[START] boy NIL NIL NIL NIL NIL NIL NIL 

[START] child red jacket [END] NIL NIL NIL NIL
[START] boy NIL NIL NIL NIL NIL NIL NIL 

Epoch:1, Iteration: 29, Loss: 170.33, TimeElapsed: 21.24Min
Working (10, 200) torch.Size([10, 9])
Normal torch.Size([10, 9]) torch.Size([10, 9, 2512])
[START] group men [END] NIL NIL NIL NIL NIL
[START] woman NIL NIL NIL NIL NIL NIL NIL 

[START] young girl [END] NIL NIL NIL NIL NIL
[START] woman NIL NIL NIL NIL NIL NIL NIL 

[START] people sit near fire [END] NIL NIL NIL
[START] woman NIL NIL NIL NIL NIL NIL NIL 

[START] group six people [END] NIL NIL NIL NIL
[START] woman NIL NIL NIL NIL NIL NIL NIL 

[START] woman using cellphone [END] NIL NIL NIL NIL
[START] woman NIL NIL NIL NIL NIL NIL NIL 

[START] boy black helmet [END] NIL NIL NIL NIL
[START] woman NIL NIL NIL NIL NIL NIL NIL 

[START] toddler running [END] NIL NIL NIL NIL NIL
[START] woman NIL NIL NIL NIL NIL NIL NIL 

[START] four people black pants [END] NIL NIL NIL
[START] woman NIL NIL NIL NIL NIL NIL NIL 

[START] man red shirt riding [END] NIL NIL NIL
[START] woman NIL NIL NIL NIL NIL NIL NIL 

[START] three women walking together [END] NIL NIL NIL
[START] woman NIL NIL NIL NIL NIL NIL NIL 

Epoch:1, Iteration: 30, Loss: 66.99, TimeElapsed: 21.29Min
Working (10, 200) torch.Size([10, 9])
Normal torch.Size([10, 9]) torch.Size([10, 9, 2512])
[START] child jeans dark shirt [END] NIL NIL NIL
[START] man NIL NIL NIL NIL NIL NIL NIL 

[START] shaggy dog bites cheek [END] NIL NIL NIL
[START] man NIL NIL NIL NIL NIL NIL NIL 

[START] smiling child wearing [END] NIL NIL NIL NIL
[START] man NIL NIL NIL NIL NIL NIL NIL 

[START] group adults [END] NIL NIL NIL NIL NIL
[START] man NIL NIL NIL NIL NIL NIL NIL 

[START] little girl performing [END] NIL NIL NIL NIL
[START] man NIL NIL NIL NIL NIL NIL NIL 

[START] man reading newspaper [END] NIL NIL NIL NIL
[START] man NIL NIL NIL NIL NIL NIL NIL 

[START] man jeans [END] NIL NIL NIL NIL NIL
[START] man NIL NIL NIL NIL NIL NIL NIL 

[START] man black [END] NIL NIL NIL NIL NIL
[START] man NIL NIL NIL NIL NIL NIL NIL 

[START] two dogs wrestling [END] NIL NIL NIL NIL
[START] man NIL NIL NIL NIL NIL NIL NIL 

[START] tree filled park man stretches [END] NIL NIL
[START] man NIL NIL NIL NIL NIL NIL NIL 

Epoch:1, Iteration: 31, Loss: 117.19, TimeElapsed: 21.33Min
Working (10, 200) torch.Size([10, 9])
Normal torch.Size([10, 9]) torch.Size([10, 9, 2512])
[START] two backpackers make way [END] NIL NIL NIL
[START] man [END] [END] [END] [END] [END] [END] [END] 

[START] three young boys playing [END] NIL NIL NIL
[START] man [END] [END] [END] [END] [END] [END] [END] 

[START] boy plays [END] NIL NIL NIL NIL NIL
[START] man [END] [END] [END] [END] [END] [END] [END] 

[START] two small children climbing steps onto [END] NIL
[START] man [END] [END] [END] [END] [END] [END] [END] 

[START] young man communicating [END] NIL NIL NIL NIL
[START] man [END] [END] [END] [END] [END] [END] [END] 

[START] man little son [END] NIL NIL NIL NIL
[START] man [END] [END] [END] [END] [END] [END] [END] 

[START] band two guitars [END] NIL NIL NIL NIL
[START] man [END] [END] [END] [END] [END] [END] [END] 

[START] blond embracing young man pink costume [END] NIL
[START] man [END] [END] [END] [END] [END] [END] [END] 

[START] surgeon surgical staff [END] NIL NIL NIL NIL
[START] man [END] [END] [END] [END] [END] [END] [END] 

[START] man woman pose [END] NIL NIL NIL NIL
[START] man [END] [END] [END] [END] [END] [END] [END] 

Epoch:1, Iteration: 32, Loss: 139.33, TimeElapsed: 21.38Min
Working (10, 200) torch.Size([10, 9])
Normal torch.Size([10, 9]) torch.Size([10, 9, 2512])
[START] two woman wearing statue [END] NIL NIL NIL
[START] group people people people people people people people 

[START] band composed [END] NIL NIL NIL NIL NIL
[START] group people people people people people people people 

[START] man sitting chair hold [END] NIL NIL NIL
[START] group people people people people people people people 

[START] three people playing football [END] NIL NIL NIL
[START] group people people people people people people people 

[START] man thrown [END] NIL NIL NIL NIL NIL
[START] group people people people people people people people 

[START] man stands side [END] NIL NIL NIL NIL
[START] group people people people people people people people 

[START] three women looking [END] NIL NIL NIL NIL
[START] group people people people people people people people 

[START] beautiful lady [END] NIL NIL NIL NIL NIL
[START] group people people people people people people people 

[START] two colorfully decorated people one shirtless [END] NIL
[START] group people people people people people people people 

[START] group female stage [END] NIL NIL NIL NIL
[START] group people people people people people people people 

Epoch:1, Iteration: 33, Loss: 104.81, TimeElapsed: 21.42Min
Working (10, 200) torch.Size([10, 9])
Normal torch.Size([10, 9]) torch.Size([10, 9, 2512])
[START] picture two little [END] NIL NIL NIL NIL
[START] man NIL NIL NIL NIL NIL NIL NIL 

[START] young girl pigtails painting [END] NIL NIL NIL
[START] man NIL NIL NIL NIL NIL NIL NIL 

[START] grizzly postman carries flower [END] NIL NIL NIL
[START] man NIL NIL NIL NIL NIL NIL NIL 

[START] two babies sitting [END] NIL NIL NIL NIL
[START] man NIL NIL NIL NIL NIL NIL NIL 

[START] redheaded female sits beach [END] NIL NIL NIL
[START] man NIL NIL NIL NIL NIL NIL NIL 

[START] woman stroller talking [END] NIL NIL NIL NIL
[START] man NIL NIL NIL NIL NIL NIL NIL 

[START] man surprised look [END] NIL NIL NIL NIL
[START] man NIL NIL NIL NIL NIL NIL NIL 

[START] group people standing [END] NIL NIL NIL NIL
[START] man NIL NIL NIL NIL NIL NIL NIL 

[START] group workers [END] NIL NIL NIL NIL NIL
[START] man NIL NIL NIL NIL NIL NIL NIL 

[START] group people [END] NIL NIL NIL NIL NIL
[START] man NIL NIL NIL NIL NIL NIL NIL 

Epoch:1, Iteration: 34, Loss: 118.14, TimeElapsed: 21.47Min
Working (10, 200) torch.Size([10, 9])
Normal torch.Size([10, 9]) torch.Size([10, 9, 2512])
[START] man balancing one hand [END] NIL NIL NIL
[START] man NIL NIL NIL NIL NIL NIL NIL 

[START] person sitting wall [END] NIL NIL NIL NIL
[START] man NIL NIL NIL NIL NIL NIL NIL 

[START] two people standing top [END] NIL NIL NIL
[START] man NIL NIL NIL NIL NIL NIL NIL 

[START] boy examining gun [END] NIL NIL NIL NIL
[START] man NIL NIL NIL NIL NIL NIL NIL 

[START] man dark blue [END] NIL NIL NIL NIL
[START] man NIL NIL NIL NIL NIL NIL NIL 

[START] man blue [END] NIL NIL NIL NIL NIL
[START] man NIL NIL NIL NIL NIL NIL NIL 

[START] young man [END] NIL NIL NIL NIL NIL
[START] man NIL NIL NIL NIL NIL NIL NIL 

[START] woman green jacket walking [END] NIL NIL NIL
[START] man NIL NIL NIL NIL NIL NIL NIL 

[START] young boy red [END] NIL NIL NIL NIL
[START] man NIL NIL NIL NIL NIL NIL NIL 

[START] young boy walking [END] NIL NIL NIL NIL
[START] man NIL NIL NIL NIL NIL NIL NIL 

Epoch:1, Iteration: 35, Loss: 56.45, TimeElapsed: 21.53Min
Working (10, 200) torch.Size([10, 9])
Normal torch.Size([10, 9]) torch.Size([10, 9, 2512])
[START] santa claus photographed [END] NIL NIL NIL NIL
[START] two jacket jacket jacket jacket jacket jacket jacket 

[START] black dog pounces get [END] NIL NIL NIL
[START] two jacket jacket jacket jacket jacket jacket jacket 

[START] one dog chasing another one [END] NIL NIL
[START] two jacket jacket jacket jacket jacket jacket jacket 

[START] four motorcycles parked one spot [END] NIL NIL
[START] two jacket jacket jacket jacket jacket jacket jacket 

[START] beautiful bride walking sidewalk [END] NIL NIL NIL
[START] two jacket jacket jacket jacket jacket jacket jacket 

[START] young girl jumping [END] NIL NIL NIL NIL
[START] two jacket jacket jacket jacket jacket jacket jacket 

[START] construction worker working [END] NIL NIL NIL NIL
[START] two jacket jacket jacket jacket jacket jacket jacket 

[START] two small tan puppies walking [END] NIL NIL
[START] two jacket jacket jacket jacket jacket jacket jacket 

[START] five young people sitting [END] NIL NIL NIL
[START] two jacket jacket jacket jacket jacket jacket jacket 

[START] man yellow [END] NIL NIL NIL NIL NIL
[START] two jacket jacket jacket jacket jacket jacket jacket 

Epoch:1, Iteration: 36, Loss: 143.44, TimeElapsed: 21.57Min
Working (10, 200) torch.Size([10, 9])
Normal torch.Size([10, 9]) torch.Size([10, 9, 2512])
[START] oriental man selling produce [END] NIL NIL NIL
[START] young carries [END] [END] [END] [END] [END] [END] 

[START] road vehicle climbs [END] NIL NIL NIL NIL
[START] young carries [END] [END] [END] [END] [END] [END] 

[START] baby ball [END] NIL NIL NIL NIL NIL
[START] young carries [END] [END] [END] [END] [END] [END] 

[START] young girl staring [END] NIL NIL NIL NIL
[START] young carries [END] [END] [END] [END] [END] [END] 

[START] three people [END] NIL NIL NIL NIL NIL
[START] young carries [END] [END] [END] [END] [END] [END] 

[START] girl bright pink skirt dances [END] NIL NIL
[START] young carries [END] [END] [END] [END] [END] [END] 

[START] hockey player knelt ice [END] NIL NIL NIL
[START] young carries [END] [END] [END] [END] [END] [END] 

[START] men walk street skyscrapers [END] NIL NIL NIL
[START] young carries [END] [END] [END] [END] [END] [END] 

[START] group men women [END] NIL NIL NIL NIL
[START] young carries [END] [END] [END] [END] [END] [END] 

[START] man posing [END] NIL NIL NIL NIL NIL
[START] young carries [END] [END] [END] [END] [END] [END] 

Epoch:1, Iteration: 37, Loss: 128.24, TimeElapsed: 21.62Min
Working (10, 200) torch.Size([10, 9])
Normal torch.Size([10, 9]) torch.Size([10, 9, 2512])
[START] people cooking food [END] NIL NIL NIL NIL
[START] young NIL NIL NIL NIL NIL NIL NIL 

[START] two young children ride bicycles [END] NIL NIL
[START] young NIL NIL NIL NIL NIL NIL NIL 

[START] man sitting [END] NIL NIL NIL NIL NIL
[START] young NIL NIL NIL NIL NIL NIL NIL 

[START] woman selling hats [END] NIL NIL NIL NIL
[START] young NIL NIL NIL NIL NIL NIL NIL 

[START] woman sitting [END] NIL NIL NIL NIL NIL
[START] young NIL NIL NIL NIL NIL NIL NIL 

[START] white dog resting [END] NIL NIL NIL NIL
[START] young NIL NIL NIL NIL NIL NIL NIL 

[START] sleeping child sucking [END] NIL NIL NIL NIL
[START] young NIL NIL NIL NIL NIL NIL NIL 

[START] yard laborer cutting grass [END] NIL NIL NIL
[START] young NIL NIL NIL NIL NIL NIL NIL 

[START] view behind [END] NIL NIL NIL NIL NIL
[START] young NIL NIL NIL NIL NIL NIL NIL 

[START] man plaid shirt connecting [END] NIL NIL NIL
[START] young NIL NIL NIL NIL NIL NIL NIL 

Epoch:1, Iteration: 38, Loss: 124.82, TimeElapsed: 21.66Min
Working (10, 200) torch.Size([10, 9])
Normal torch.Size([10, 9]) torch.Size([10, 9, 2512])
[START] several asian people eating together [END] NIL NIL
[START] two flips NIL NIL NIL NIL NIL NIL 

[START] two women hauling baskets [END] NIL NIL NIL
[START] two flips NIL NIL NIL NIL NIL NIL 

[START] man wearing glasses looking [END] NIL NIL NIL
[START] two flips NIL NIL NIL NIL NIL NIL 

[START] lady little girl [END] NIL NIL NIL NIL
[START] two flips NIL NIL NIL NIL NIL NIL 

[START] lady boy [END] NIL NIL NIL NIL NIL
[START] two flips NIL NIL NIL NIL NIL NIL 

[START] man yellow shirt [END] NIL NIL NIL NIL
[START] two flips NIL NIL NIL NIL NIL NIL 

[START] man sitting green bench [END] NIL NIL NIL
[START] two flips NIL NIL NIL NIL NIL NIL 

[START] dog chewing blue rope [END] NIL NIL NIL
[START] two flips NIL NIL NIL NIL NIL NIL 

[START] farm workers gathered field [END] NIL NIL NIL
[START] two flips NIL NIL NIL NIL NIL NIL 

[START] boy skate [END] NIL NIL NIL NIL NIL
[START] two flips NIL NIL NIL NIL NIL NIL 

Epoch:1, Iteration: 39, Loss: 121.84, TimeElapsed: 21.71Min
Working (10, 200) torch.Size([10, 9])
Normal torch.Size([10, 9]) torch.Size([10, 9, 2512])
[START] child pool [END] NIL NIL NIL NIL NIL
[START] decorated decorated decorated decorated decorated decorated decorated decorated 

[START] two young blond girls wearing [END] NIL NIL
[START] decorated decorated decorated decorated decorated decorated decorated decorated 

[START] young man [END] NIL NIL NIL NIL NIL
[START] decorated decorated decorated decorated decorated decorated decorated decorated 

[START] two gondolas passing [END] NIL NIL NIL NIL
[START] decorated decorated decorated decorated decorated decorated decorated decorated 

[START] concert parking lot [END] NIL NIL NIL NIL
[START] decorated decorated decorated decorated decorated decorated decorated decorated 

[START] elder woman chases [END] NIL NIL NIL NIL
[START] decorated decorated decorated decorated decorated decorated decorated decorated 

[START] group adults getting ready [END] NIL NIL NIL
[START] decorated decorated decorated decorated decorated decorated decorated decorated 

[START] group people collect around man [END] NIL NIL
[START] decorated decorated decorated decorated decorated decorated decorated decorated 

[START] three young boys fishing [END] NIL NIL NIL
[START] decorated decorated decorated decorated decorated decorated decorated decorated 

[START] man brown [END] NIL NIL NIL NIL NIL
[START] decorated decorated decorated decorated decorated decorated decorated decorated 

Epoch:1, Iteration: 40, Loss: 105.15, TimeElapsed: 21.75Min
Working (10, 200) torch.Size([10, 9])
Normal torch.Size([10, 9]) torch.Size([10, 9, 2512])
[START] group woman [END] NIL NIL NIL NIL NIL
[START] man NIL NIL NIL NIL NIL NIL NIL 

[START] boy wearing knit [END] NIL NIL NIL NIL
[START] man NIL NIL NIL NIL NIL NIL NIL 

[START] woman black washing windows [END] NIL NIL NIL
[START] man NIL NIL NIL NIL NIL NIL NIL 

[START] crowded concert man [END] NIL NIL NIL NIL
[START] man NIL NIL NIL NIL NIL NIL NIL 

[START] construction worker [END] NIL NIL NIL NIL NIL
[START] man NIL NIL NIL NIL NIL NIL NIL 

[START] two boys posing blue [END] NIL NIL NIL
[START] man NIL NIL NIL NIL NIL NIL NIL 

[START] dog running park [END] NIL NIL NIL NIL
[START] man NIL NIL NIL NIL NIL NIL NIL 

[START] young boy blue [END] NIL NIL NIL NIL
[START] man NIL NIL NIL NIL NIL NIL NIL 

[START] three people wearing dark [END] NIL NIL NIL
[START] man NIL NIL NIL NIL NIL NIL NIL 

[START] two people landing skydiving exercises [END] NIL NIL
[START] man NIL NIL NIL NIL NIL NIL NIL 

Epoch:1, Iteration: 41, Loss: 90.72, TimeElapsed: 21.8Min
Working (10, 200) torch.Size([10, 9])
Normal torch.Size([10, 9]) torch.Size([10, 9, 2512])
[START] two young boys sitting [END] NIL NIL NIL
[START] surgical surgical NIL NIL NIL NIL NIL NIL 

[START] collie running [END] NIL NIL NIL NIL NIL
[START] surgical surgical NIL NIL NIL NIL NIL NIL 

[START] two people cliff side overlooking grand [END] NIL
[START] surgical surgical NIL NIL NIL NIL NIL NIL 

[START] couple walking exercise [END] NIL NIL NIL NIL
[START] surgical surgical NIL NIL NIL NIL NIL NIL 

[START] man thrown [END] NIL NIL NIL NIL NIL
[START] surgical surgical NIL NIL NIL NIL NIL NIL 

[START] family getting [END] NIL NIL NIL NIL NIL
[START] surgical surgical NIL NIL NIL NIL NIL NIL 

[START] black man earring directing [END] NIL NIL NIL
[START] surgical surgical NIL NIL NIL NIL NIL NIL 

[START] person riding boat [END] NIL NIL NIL NIL
[START] surgical surgical NIL NIL NIL NIL NIL NIL 

[START] woman green dress holding [END] NIL NIL NIL
[START] surgical surgical NIL NIL NIL NIL NIL NIL 

[START] one man white robe [END] NIL NIL NIL
[START] surgical surgical NIL NIL NIL NIL NIL NIL 

Epoch:1, Iteration: 42, Loss: 123.82, TimeElapsed: 21.84Min
Working (10, 200) torch.Size([10, 9])
Normal torch.Size([10, 9]) torch.Size([10, 9, 2512])
[START] yellow dog jumps greet [END] NIL NIL NIL
[START] three [END] NIL NIL NIL NIL NIL NIL 

[START] young girl [END] NIL NIL NIL NIL NIL
[START] three [END] NIL NIL NIL NIL NIL NIL 

[START] boy halloween [END] NIL NIL NIL NIL NIL
[START] three [END] NIL NIL NIL NIL NIL NIL 

[START] man stands alone near [END] NIL NIL NIL
[START] three [END] NIL NIL NIL NIL NIL NIL 

[START] man blue [END] NIL NIL NIL NIL NIL
[START] three [END] NIL NIL NIL NIL NIL NIL 

[START] 3 kids playing bubbles outside [END] NIL NIL
[START] three [END] NIL NIL NIL NIL NIL NIL 

[START] little girl [END] NIL NIL NIL NIL NIL
[START] three [END] NIL NIL NIL NIL NIL NIL 

[START] dog n seem [END] NIL NIL NIL NIL
[START] three [END] NIL NIL NIL NIL NIL NIL 

[START] people walking silver [END] NIL NIL NIL NIL
[START] three [END] NIL NIL NIL NIL NIL NIL 

[START] four men sitting front [END] NIL NIL NIL
[START] three [END] NIL NIL NIL NIL NIL NIL 

Epoch:1, Iteration: 43, Loss: 93.42, TimeElapsed: 21.88Min
Working (10, 200) torch.Size([10, 9])
Normal torch.Size([10, 9]) torch.Size([10, 9, 2512])
[START] man wearing [END] NIL NIL NIL NIL NIL
[START] man NIL NIL NIL NIL NIL NIL NIL 

[START] child swings [END] NIL NIL NIL NIL NIL
[START] man NIL NIL NIL NIL NIL NIL NIL 

[START] man wearing santa hat [END] NIL NIL NIL
[START] man NIL NIL NIL NIL NIL NIL NIL 

[START] young girl wearing dress [END] NIL NIL NIL
[START] man NIL NIL NIL NIL NIL NIL NIL 

[START] two men wearing black wife [END] NIL NIL
[START] man NIL NIL NIL NIL NIL NIL NIL 

[START] baseball game runner caught [END] NIL NIL NIL
[START] man NIL NIL NIL NIL NIL NIL NIL 

[START] three people various stages swimming [END] NIL NIL
[START] man NIL NIL NIL NIL NIL NIL NIL 

[START] woman writing pad [END] NIL NIL NIL NIL
[START] man NIL NIL NIL NIL NIL NIL NIL 

[START] man bag leaning [END] NIL NIL NIL NIL
[START] man NIL NIL NIL NIL NIL NIL NIL 

[START] young girl orange glasses working [END] NIL NIL
[START] man NIL NIL NIL NIL NIL NIL NIL 

Epoch:1, Iteration: 44, Loss: 111.49, TimeElapsed: 21.92Min
Working (10, 200) torch.Size([10, 9])
Normal torch.Size([10, 9]) torch.Size([10, 9, 2512])
[START] people socializing boardwalk [END] NIL NIL NIL NIL
[START] man NIL NIL NIL NIL NIL NIL NIL 

[START] woman child [END] NIL NIL NIL NIL NIL
[START] man NIL NIL NIL NIL NIL NIL NIL 

[START] dressed complete uniform two young brothers [END] NIL
[START] man NIL NIL NIL NIL NIL NIL NIL 

[START] man selling hotdogs [END] NIL NIL NIL NIL
[START] man NIL NIL NIL NIL NIL NIL NIL 

[START] two older women [END] NIL NIL NIL NIL
[START] man NIL NIL NIL NIL NIL NIL NIL 

[START] two men carrying briefcase [END] NIL NIL NIL
[START] man NIL NIL NIL NIL NIL NIL NIL 

[START] group women dressed [END] NIL NIL NIL NIL
[START] man NIL NIL NIL NIL NIL NIL NIL 

[START] two people bikes standing [END] NIL NIL NIL
[START] man NIL NIL NIL NIL NIL NIL NIL 

[START] person wearing yellow taking [END] NIL NIL NIL
[START] man NIL NIL NIL NIL NIL NIL NIL 

[START] man wears feathered [END] NIL NIL NIL NIL
[START] man NIL NIL NIL NIL NIL NIL NIL 

Epoch:1, Iteration: 45, Loss: 130.53, TimeElapsed: 21.97Min
Working (10, 200) torch.Size([10, 9])
Normal torch.Size([10, 9]) torch.Size([10, 9, 2512])
[START] person performing [END] NIL NIL NIL NIL NIL
[START] lot lot lot lot lot lot lot lot 

[START] two opposing soccer teams competing [END] NIL NIL
[START] lot lot lot lot lot lot lot lot 

[START] man wearing brown [END] NIL NIL NIL NIL
[START] lot lot lot lot lot lot lot lot 

[START] dark haired woman wearing [END] NIL NIL NIL
[START] lot lot lot lot lot lot lot lot 

[START] person [END] NIL NIL NIL NIL NIL NIL
[START] lot lot lot lot lot lot lot lot 

[START] young girl cools [END] NIL NIL NIL NIL
[START] lot lot lot lot lot lot lot lot 

[START] young woman bikini [END] NIL NIL NIL NIL
[START] lot lot lot lot lot lot lot lot 

[START] man jacket [END] NIL NIL NIL NIL NIL
[START] lot lot lot lot lot lot lot lot 

[START] large brown dog crouching [END] NIL NIL NIL
[START] lot lot lot lot lot lot lot lot 

[START] skier skiing [END] NIL NIL NIL NIL NIL
[START] lot lot lot lot lot lot lot lot 

Epoch:1, Iteration: 46, Loss: 92.99, TimeElapsed: 22.01Min
Working (10, 200) torch.Size([10, 9])
Normal torch.Size([10, 9]) torch.Size([10, 9, 2512])
[START] snowboarder jumps air [END] NIL NIL NIL NIL
[START] runner runner runner runner runner runner runner runner 

[START] woman red jacket [END] NIL NIL NIL NIL
[START] runner runner runner runner runner runner runner runner 

[START] man woman [END] NIL NIL NIL NIL NIL
[START] runner runner runner runner runner runner runner runner 

[START] old man using improvised broken wheel barrel [END]
[START] runner runner runner runner runner runner runner runner 

[START] man [END] NIL NIL NIL NIL NIL NIL
[START] runner runner runner runner runner runner runner runner 

[START] group kids playing [END] NIL NIL NIL NIL
[START] runner runner runner runner runner runner runner runner 

[START] one person diving [END] NIL NIL NIL NIL
[START] runner runner runner runner runner runner runner runner 

[START] three people around table playing [END] NIL NIL
[START] runner runner runner runner runner runner runner runner 

[START] asian man looks [END] NIL NIL NIL NIL
[START] runner runner runner runner runner runner runner runner 

[START] crowd people watch martial [END] NIL NIL NIL
[START] runner runner runner runner runner runner runner runner 

Epoch:1, Iteration: 47, Loss: 131.8, TimeElapsed: 22.05Min
Working (10, 200) torch.Size([10, 9])
Normal torch.Size([10, 9]) torch.Size([10, 9, 2512])
[START] crowd staring [END] NIL NIL NIL NIL NIL
[START] person person person NIL NIL NIL NIL NIL 

[START] 5 men drag holding [END] NIL NIL NIL
[START] person person person NIL NIL NIL NIL NIL 

[START] young man sunglasses holds [END] NIL NIL NIL
[START] person person person NIL NIL NIL NIL NIL 

[START] man water throwing [END] NIL NIL NIL NIL
[START] person person person NIL NIL NIL NIL NIL 

[START] two guys sitting [END] NIL NIL NIL NIL
[START] person person person NIL NIL NIL NIL NIL 

[START] man stands [END] NIL NIL NIL NIL NIL
[START] person person person NIL NIL NIL NIL NIL 

[START] woman fur coat hat [END] NIL NIL NIL
[START] person person person NIL NIL NIL NIL NIL 

[START] biker riding alone [END] NIL NIL NIL NIL
[START] person person person NIL NIL NIL NIL NIL 

[START] woman wearing glasses helps [END] NIL NIL NIL
[START] person person person NIL NIL NIL NIL NIL 

[START] male gymnast leaps [END] NIL NIL NIL NIL
[START] person person person NIL NIL NIL NIL NIL 

Epoch:1, Iteration: 48, Loss: 138.5, TimeElapsed: 22.09Min
Working (10, 200) torch.Size([10, 9])
Normal torch.Size([10, 9]) torch.Size([10, 9, 2512])
[START] little boy standing [END] NIL NIL NIL NIL
[START] group NIL NIL NIL NIL NIL NIL NIL 

[START] two girls [END] NIL NIL NIL NIL NIL
[START] group NIL NIL NIL NIL NIL NIL NIL 

[START] older overweight man flips pancake [END] NIL NIL
[START] group NIL NIL NIL NIL NIL NIL NIL 

[START] adult putting goggles [END] NIL NIL NIL NIL
[START] group NIL NIL NIL NIL NIL NIL NIL 

[START] young girl looks awe [END] NIL NIL NIL
[START] group NIL NIL NIL NIL NIL NIL NIL 

[START] young boy looks ocean [END] NIL NIL NIL
[START] group NIL NIL NIL NIL NIL NIL NIL 

[START] group gathered [END] NIL NIL NIL NIL NIL
[START] group NIL NIL NIL NIL NIL NIL NIL 

[START] girl blue shirt [END] NIL NIL NIL NIL
[START] group NIL NIL NIL NIL NIL NIL NIL 

[START] two hockey players [END] NIL NIL NIL NIL
[START] group NIL NIL NIL NIL NIL NIL NIL 

[START] lady satchel [END] NIL NIL NIL NIL NIL
[START] group NIL NIL NIL NIL NIL NIL NIL 

Epoch:1, Iteration: 49, Loss: 114.35, TimeElapsed: 22.14Min
Working (10, 200) torch.Size([10, 9])
Normal torch.Size([10, 9]) torch.Size([10, 9, 2512])
[START] girl sitting [END] NIL NIL NIL NIL NIL
[START] two NIL NIL NIL NIL NIL NIL NIL 

[START] man hard [END] NIL NIL NIL NIL NIL
[START] two NIL NIL NIL NIL NIL NIL NIL 

[START] man windsurfs group [END] NIL NIL NIL NIL
[START] two NIL NIL NIL NIL NIL NIL NIL 

[START] man white standing [END] NIL NIL NIL NIL
[START] two NIL NIL NIL NIL NIL NIL NIL 

[START] man sits [END] NIL NIL NIL NIL NIL
[START] two NIL NIL NIL NIL NIL NIL NIL 

[START] sports car flames [END] NIL NIL NIL NIL
[START] two NIL NIL NIL NIL NIL NIL NIL 

[START] skateboarder skateboarding [END] NIL NIL NIL NIL NIL
[START] two NIL NIL NIL NIL NIL NIL NIL 

[START] young girl red [END] NIL NIL NIL NIL
[START] two NIL NIL NIL NIL NIL NIL NIL 

[START] people pose helmets goggles [END] NIL NIL NIL
[START] two NIL NIL NIL NIL NIL NIL NIL 

[START] four women dressed [END] NIL NIL NIL NIL
[START] two NIL NIL NIL NIL NIL NIL NIL 

Epoch:1, Iteration: 50, Loss: 98.19, TimeElapsed: 22.18Min
Working (10, 200) torch.Size([10, 9])
Normal torch.Size([10, 9]) torch.Size([10, 9, 2512])
[START] man dog [END] NIL NIL NIL NIL NIL
[START] two [END] [END] [END] [END] [END] [END] [END] 

[START] white dog plays beach near [END] NIL NIL
[START] two [END] [END] [END] [END] [END] [END] [END] 

[START] dog speed measured [END] NIL NIL NIL NIL
[START] two [END] [END] [END] [END] [END] [END] [END] 

[START] several children sitting [END] NIL NIL NIL NIL
[START] two [END] [END] [END] [END] [END] [END] [END] 

[START] man woman [END] NIL NIL NIL NIL NIL
[START] two [END] [END] [END] [END] [END] [END] [END] 

[START] girl wearing pink hoodie looks [END] NIL NIL
[START] two [END] [END] [END] [END] [END] [END] [END] 

[START] man walks [END] NIL NIL NIL NIL NIL
[START] two [END] [END] [END] [END] [END] [END] [END] 

[START] five cold people snowstorm one wearing [END] NIL
[START] two [END] [END] [END] [END] [END] [END] [END] 

[START] man stands [END] NIL NIL NIL NIL NIL
[START] two [END] [END] [END] [END] [END] [END] [END] 

[START] three women man [END] NIL NIL NIL NIL
[START] two [END] [END] [END] [END] [END] [END] [END] 

Epoch:1, Iteration: 51, Loss: 90.53, TimeElapsed: 22.22Min
Working (10, 200) torch.Size([10, 9])
Normal torch.Size([10, 9]) torch.Size([10, 9, 2512])
[START] man [END] NIL NIL NIL NIL NIL NIL
[START] man NIL NIL NIL NIL NIL NIL NIL 

[START] child pink flotation device [END] NIL NIL NIL
[START] man NIL NIL NIL NIL NIL NIL NIL 

[START] man sitting [END] NIL NIL NIL NIL NIL
[START] man NIL NIL NIL NIL NIL NIL NIL 

[START] woman biking downhill [END] NIL NIL NIL NIL
[START] man NIL NIL NIL NIL NIL NIL NIL 

[START] woman [END] NIL NIL NIL NIL NIL NIL
[START] man NIL NIL NIL NIL NIL NIL NIL 

[START] bearded man playing [END] NIL NIL NIL NIL
[START] man NIL NIL NIL NIL NIL NIL NIL 

[START] children sporting florida dolphin [END] NIL NIL NIL
[START] man NIL NIL NIL NIL NIL NIL NIL 

[START] young asian woman wearing [END] NIL NIL NIL
[START] man NIL NIL NIL NIL NIL NIL NIL 

[START] child laughing [END] NIL NIL NIL NIL NIL
[START] man NIL NIL NIL NIL NIL NIL NIL 

[START] young girl ringlets [END] NIL NIL NIL NIL
[START] man NIL NIL NIL NIL NIL NIL NIL 

Epoch:1, Iteration: 52, Loss: 91.92, TimeElapsed: 22.26Min
Working (10, 200) torch.Size([10, 9])
Normal torch.Size([10, 9]) torch.Size([10, 9, 2512])
[START] man pale [END] NIL NIL NIL NIL NIL
[START] man NIL NIL NIL NIL NIL NIL NIL 

[START] brown haired women closes [END] NIL NIL NIL
[START] man NIL NIL NIL NIL NIL NIL NIL 

[START] three older asian women sitting [END] NIL NIL
[START] man NIL NIL NIL NIL NIL NIL NIL 

[START] tan dog wearing [END] NIL NIL NIL NIL
[START] man NIL NIL NIL NIL NIL NIL NIL 

[START] young dog running across [END] NIL NIL NIL
[START] man NIL NIL NIL NIL NIL NIL NIL 

[START] child red [END] NIL NIL NIL NIL NIL
[START] man NIL NIL NIL NIL NIL NIL NIL 

[START] female soccer players [END] NIL NIL NIL NIL
[START] man NIL NIL NIL NIL NIL NIL NIL 

[START] child sleeping [END] NIL NIL NIL NIL NIL
[START] man NIL NIL NIL NIL NIL NIL NIL 

[START] small boy wearing blue balances [END] NIL NIL
[START] man NIL NIL NIL NIL NIL NIL NIL 

[START] person small [END] NIL NIL NIL NIL NIL
[START] man NIL NIL NIL NIL NIL NIL NIL 

Epoch:1, Iteration: 53, Loss: 106.84, TimeElapsed: 22.3Min
Working (10, 200) torch.Size([10, 9])
Normal torch.Size([10, 9]) torch.Size([10, 9, 2512])
[START] small brown black [END] NIL NIL NIL NIL
[START] young sitting NIL NIL NIL NIL NIL NIL 

[START] young man yellow pants engaging [END] NIL NIL
[START] young sitting NIL NIL NIL NIL NIL NIL 

[START] man black shirt [END] NIL NIL NIL NIL
[START] young sitting NIL NIL NIL NIL NIL NIL 

[START] girl extended arms [END] NIL NIL NIL NIL
[START] young sitting NIL NIL NIL NIL NIL NIL 

[START] girl wearing pink pants smiles [END] NIL NIL
[START] young sitting NIL NIL NIL NIL NIL NIL 

[START] white race car full [END] NIL NIL NIL
[START] young sitting NIL NIL NIL NIL NIL NIL 

[START] man sunglasses talking [END] NIL NIL NIL NIL
[START] young sitting NIL NIL NIL NIL NIL NIL 

[START] group cyclists biking [END] NIL NIL NIL NIL
[START] young sitting NIL NIL NIL NIL NIL NIL 

[START] brown furry husky dog sticking [END] NIL NIL
[START] young sitting NIL NIL NIL NIL NIL NIL 

[START] looked dark outside [END] NIL NIL NIL NIL
[START] young sitting NIL NIL NIL NIL NIL NIL 

Epoch:1, Iteration: 54, Loss: 138.12, TimeElapsed: 22.35Min
Working (10, 200) torch.Size([10, 9])
Normal torch.Size([10, 9]) torch.Size([10, 9, 2512])
[START] two men stand [END] NIL NIL NIL NIL
[START] car car car car car car car car 

[START] man wearing padded clothing fending [END] NIL NIL
[START] car car car car car car car car 

[START] woman wearing antiquated clothing including [END] NIL NIL
[START] car car car car car car car car 

[START] young people standing [END] NIL NIL NIL NIL
[START] car car car car car car car car 

[START] toddler green [END] NIL NIL NIL NIL NIL
[START] car car car car car car car car 

[START] person wearing maroon vest [END] NIL NIL NIL
[START] car car car car car car car car 

[START] man white [END] NIL NIL NIL NIL NIL
[START] car car car car car car car car 

[START] black station wagon [END] NIL NIL NIL NIL
[START] car car car car car car car car 

[START] singer musical tattoos [END] NIL NIL NIL NIL
[START] car car car car car car car car 

[START] young girl wearing pink tutu [END] NIL NIL
[START] car car car car car car car car 

Epoch:1, Iteration: 55, Loss: 119.2, TimeElapsed: 22.39Min
Working (10, 200) torch.Size([10, 9])
Normal torch.Size([10, 9]) torch.Size([10, 9, 2512])
[START] dark haired woman wearing brown jacket [END] NIL
[START] arms arms arms arms arms arms arms arms 

[START] person sleeping [END] NIL NIL NIL NIL NIL
[START] arms arms arms arms arms arms arms arms 

[START] woman blond hair wearing [END] NIL NIL NIL
[START] arms arms arms arms arms arms arms arms 

[START] two large black dogs run [END] NIL NIL
[START] arms arms arms arms arms arms arms arms 

[START] four african boys carrying [END] NIL NIL NIL
[START] arms arms arms arms arms arms arms arms 

[START] line people making [END] NIL NIL NIL NIL
[START] arms arms arms arms arms arms arms arms 

[START] man dog looks surprised [END] NIL NIL NIL
[START] arms arms arms arms arms arms arms arms 

[START] little model wearing colors [END] NIL NIL NIL
[START] arms arms arms arms arms arms arms arms 

[START] man sitting sunny street [END] NIL NIL NIL
[START] arms arms arms arms arms arms arms arms 

[START] woman red shirt walking [END] NIL NIL NIL
[START] arms arms arms arms arms arms arms arms 

Epoch:1, Iteration: 56, Loss: 140.81, TimeElapsed: 22.44Min
Working (10, 200) torch.Size([10, 9])
Normal torch.Size([10, 9]) torch.Size([10, 9, 2512])
[START] lady black tank top [END] NIL NIL NIL
[START] dog dog dog dog dog dog dog dog 

[START] woman carrying shoes [END] NIL NIL NIL NIL
[START] dog dog dog dog dog dog dog dog 

[START] child watering plants [END] NIL NIL NIL NIL
[START] dog dog dog dog dog dog dog dog 

[START] lady sitting [END] NIL NIL NIL NIL NIL
[START] dog dog dog dog dog dog dog dog 

[START] people walking sitting [END] NIL NIL NIL NIL
[START] dog dog dog dog dog dog dog dog 

[START] silver plane blue sky [END] NIL NIL NIL
[START] dog dog dog dog dog dog dog dog 

[START] man dressed white [END] NIL NIL NIL NIL
[START] dog dog dog dog dog dog dog dog 

[START] girl yellow dress [END] NIL NIL NIL NIL
[START] dog dog dog dog dog dog dog dog 

[START] older lady sitting [END] NIL NIL NIL NIL
[START] dog dog dog dog dog dog dog dog 

[START] man accordion sitting [END] NIL NIL NIL NIL
[START] dog dog dog dog dog dog dog dog 

Epoch:1, Iteration: 57, Loss: 91.59, TimeElapsed: 22.48Min
Working (10, 200) torch.Size([10, 9])
Normal torch.Size([10, 9]) torch.Size([10, 9, 2512])
[START] street musician standing stilts [END] NIL NIL NIL
[START] woman NIL NIL NIL NIL NIL NIL NIL 

[START] man green pants sitting [END] NIL NIL NIL
[START] woman NIL NIL NIL NIL NIL NIL NIL 

[START] two people kissing seen train [END] NIL NIL
[START] woman NIL NIL NIL NIL NIL NIL NIL 

[START] biker trick air [END] NIL NIL NIL NIL
[START] woman NIL NIL NIL NIL NIL NIL NIL 

[START] woman stands [END] NIL NIL NIL NIL NIL
[START] woman NIL NIL NIL NIL NIL NIL NIL 

[START] people paddling [END] NIL NIL NIL NIL NIL
[START] woman NIL NIL NIL NIL NIL NIL NIL 

[START] brown white dog [END] NIL NIL NIL NIL
[START] woman NIL NIL NIL NIL NIL NIL NIL 

[START] woman looking [END] NIL NIL NIL NIL NIL
[START] woman NIL NIL NIL NIL NIL NIL NIL 

[START] toddler sitting [END] NIL NIL NIL NIL NIL
[START] woman NIL NIL NIL NIL NIL NIL NIL 

[START] group men mostly [END] NIL NIL NIL NIL
[START] woman NIL NIL NIL NIL NIL NIL NIL 

Epoch:1, Iteration: 58, Loss: 84.34, TimeElapsed: 22.53Min
Working (10, 200) torch.Size([10, 9])
Normal torch.Size([10, 9]) torch.Size([10, 9, 2512])
[START] older girl helps [END] NIL NIL NIL NIL
[START] woman NIL NIL NIL NIL NIL NIL NIL 

[START] several men loading metal cannon [END] NIL NIL
[START] woman NIL NIL NIL NIL NIL NIL NIL 

[START] young lady running [END] NIL NIL NIL NIL
[START] woman NIL NIL NIL NIL NIL NIL NIL 

[START] bearded traveler red shirt [END] NIL NIL NIL
[START] woman NIL NIL NIL NIL NIL NIL NIL 

[START] three males umbrella two [END] NIL NIL NIL
[START] woman NIL NIL NIL NIL NIL NIL NIL 

[START] ball boys waiting [END] NIL NIL NIL NIL
[START] woman NIL NIL NIL NIL NIL NIL NIL 

[START] road workers work road near [END] NIL NIL
[START] woman NIL NIL NIL NIL NIL NIL NIL 

[START] two chefs standing front [END] NIL NIL NIL
[START] woman NIL NIL NIL NIL NIL NIL NIL 

[START] group white men [END] NIL NIL NIL NIL
[START] woman NIL NIL NIL NIL NIL NIL NIL 

[START] old man standing outside [END] NIL NIL NIL
[START] woman NIL NIL NIL NIL NIL NIL NIL 

Epoch:1, Iteration: 59, Loss: 160.97, TimeElapsed: 22.57Min
Working (10, 200) torch.Size([10, 9])
Normal torch.Size([10, 9]) torch.Size([10, 9, 2512])
[START] man laughs next [END] NIL NIL NIL NIL
helps helps helps helps helps helps helps helps helps 

[START] toddler walking along path [END] NIL NIL NIL
helps helps helps helps helps helps helps helps helps 

[START] man child stand next [END] NIL NIL NIL
helps helps helps helps helps helps helps helps helps 

[START] young woman blue [END] NIL NIL NIL NIL
helps helps helps helps helps helps helps helps helps 

[START] person blue shorts wearing [END] NIL NIL NIL
helps helps helps helps helps helps helps helps helps 

[START] shirtless man white pants [END] NIL NIL NIL
helps helps helps helps helps helps helps helps helps 

[START] three men one [END] NIL NIL NIL NIL
helps helps helps helps helps helps helps helps helps 

[START] white male everything covered [END] NIL NIL NIL
helps helps helps helps helps helps helps helps helps 

[START] man gun watches [END] NIL NIL NIL NIL
helps helps helps helps helps helps helps helps helps 

[START] view overlook [END] NIL NIL NIL NIL NIL
helps helps helps helps helps helps helps helps helps 

Epoch:1, Iteration: 60, Loss: 96.6, TimeElapsed: 22.62Min
Working (10, 200) torch.Size([10, 9])
Normal torch.Size([10, 9]) torch.Size([10, 9, 2512])
[START] woman long [END] NIL NIL NIL NIL NIL
[START] toddler [END] [END] [END] [END] [END] [END] [END] 

[START] woman child [END] NIL NIL NIL NIL NIL
[START] toddler [END] [END] [END] [END] [END] [END] [END] 

[START] several dogs carry man [END] NIL NIL NIL
[START] toddler [END] [END] [END] [END] [END] [END] [END] 

[START] child looking [END] NIL NIL NIL NIL NIL
[START] toddler [END] [END] [END] [END] [END] [END] [END] 

[START] workers green white [END] NIL NIL NIL NIL
[START] toddler [END] [END] [END] [END] [END] [END] [END] 

[START] three cats young [END] NIL NIL NIL NIL
[START] toddler [END] [END] [END] [END] [END] [END] [END] 

[START] five young asian students reciting [END] NIL NIL
[START] toddler [END] [END] [END] [END] [END] [END] [END] 

[START] two trumpet players play [END] NIL NIL NIL
[START] toddler [END] [END] [END] [END] [END] [END] [END] 

[START] skateboarder jumping [END] NIL NIL NIL NIL NIL
[START] toddler [END] [END] [END] [END] [END] [END] [END] 

[START] girl wearing black shirt [END] NIL NIL NIL
[START] toddler [END] [END] [END] [END] [END] [END] [END] 

Epoch:1, Iteration: 61, Loss: 94.61, TimeElapsed: 22.66Min
Working (10, 200) torch.Size([10, 9])
Normal torch.Size([10, 9]) torch.Size([10, 9, 2512])
[START] dog running [END] NIL NIL NIL NIL NIL
[START] santa NIL NIL NIL NIL NIL NIL NIL 

[START] five people walk middle [END] NIL NIL NIL
[START] santa NIL NIL NIL NIL NIL NIL NIL 

[START] two people searching [END] NIL NIL NIL NIL
[START] santa NIL NIL NIL NIL NIL NIL NIL 

[START] time moment soccer match [END] NIL NIL NIL
[START] santa NIL NIL NIL NIL NIL NIL NIL 

[START] band playing concert [END] NIL NIL NIL NIL
[START] santa NIL NIL NIL NIL NIL NIL NIL 

[START] person wearing blue [END] NIL NIL NIL NIL
[START] santa NIL NIL NIL NIL NIL NIL NIL 

[START] two men [END] NIL NIL NIL NIL NIL
[START] santa NIL NIL NIL NIL NIL NIL NIL 

[START] woman black [END] NIL NIL NIL NIL NIL
[START] santa NIL NIL NIL NIL NIL NIL NIL 

[START] person outlined sun [END] NIL NIL NIL NIL
[START] santa NIL NIL NIL NIL NIL NIL NIL 

[START] young man baseball [END] NIL NIL NIL NIL
[START] santa NIL NIL NIL NIL NIL NIL NIL 

Epoch:1, Iteration: 62, Loss: 106.61, TimeElapsed: 22.7Min
Working (10, 200) torch.Size([10, 9])
Normal torch.Size([10, 9]) torch.Size([10, 9, 2512])
[START] woman red [END] NIL NIL NIL NIL NIL
[START] gun NIL NIL NIL NIL NIL NIL NIL 

[START] one adult three children [END] NIL NIL NIL
[START] gun NIL NIL NIL NIL NIL NIL NIL 

[START] bunch boys standing front [END] NIL NIL NIL
[START] gun NIL NIL NIL NIL NIL NIL NIL 

[START] girl playing violin [END] NIL NIL NIL NIL
[START] gun NIL NIL NIL NIL NIL NIL NIL 

[START] youg boy blue shirt [END] NIL NIL NIL
[START] gun NIL NIL NIL NIL NIL NIL NIL 

[START] woman green shirt [END] NIL NIL NIL NIL
[START] gun NIL NIL NIL NIL NIL NIL NIL 

[START] two young girls sponge [END] NIL NIL NIL
[START] gun NIL NIL NIL NIL NIL NIL NIL 

[START] two people performing outside front [END] NIL NIL
[START] gun NIL NIL NIL NIL NIL NIL NIL 

[START] two men [END] NIL NIL NIL NIL NIL
[START] gun NIL NIL NIL NIL NIL NIL NIL 

[START] small dogs ears stick [END] NIL NIL NIL
[START] gun NIL NIL NIL NIL NIL NIL NIL 

Epoch:1, Iteration: 63, Loss: 111.31, TimeElapsed: 22.74Min
Working (10, 200) torch.Size([10, 9])
Normal torch.Size([10, 9]) torch.Size([10, 9, 2512])
[START] several people gather street [END] NIL NIL NIL
[START] males males males NIL NIL NIL NIL NIL 

[START] man safety jacket stands [END] NIL NIL NIL
[START] males males males NIL NIL NIL NIL NIL 

[START] group kids [END] NIL NIL NIL NIL NIL
[START] males males males NIL NIL NIL NIL NIL 

[START] woman blue shirt skirt [END] NIL NIL NIL
[START] males males males NIL NIL NIL NIL NIL 

[START] woman wearing cutoff shorts walks [END] NIL NIL
[START] males males males NIL NIL NIL NIL NIL 

[START] group men [END] NIL NIL NIL NIL NIL
[START] males males males NIL NIL NIL NIL NIL 

[START] blond child wearing [END] NIL NIL NIL NIL
[START] males males males NIL NIL NIL NIL NIL 

[START] black dog jumps hay [END] NIL NIL NIL
[START] males males males NIL NIL NIL NIL NIL 

[START] woman yellow [END] NIL NIL NIL NIL NIL
[START] males males males NIL NIL NIL NIL NIL 

[START] woman enjoying reading [END] NIL NIL NIL NIL
[START] males males males NIL NIL NIL NIL NIL 

Epoch:1, Iteration: 64, Loss: 101.73, TimeElapsed: 22.78Min
Working (10, 200) torch.Size([10, 9])
Normal torch.Size([10, 9]) torch.Size([10, 9, 2512])
[START] woman black shirt laughs [END] NIL NIL NIL
[START] shoes shoes shoes shoes shoes shoes shoes shoes 

[START] five men looking topographical map [END] NIL NIL
[START] shoes shoes shoes shoes shoes shoes shoes shoes 

[START] man black [END] NIL NIL NIL NIL NIL
[START] shoes shoes shoes shoes shoes shoes shoes shoes 

[START] woman pink [END] NIL NIL NIL NIL NIL
[START] shoes shoes shoes shoes shoes shoes shoes shoes 

[START] two women colorful clothing [END] NIL NIL NIL
[START] shoes shoes shoes shoes shoes shoes shoes shoes 

[START] woman excited looking [END] NIL NIL NIL NIL
[START] shoes shoes shoes shoes shoes shoes shoes shoes 

[START] group soldiers wearing [END] NIL NIL NIL NIL
[START] shoes shoes shoes shoes shoes shoes shoes shoes 

[START] mixed sex group wear [END] NIL NIL NIL
[START] shoes shoes shoes shoes shoes shoes shoes shoes 

[START] person gloves [END] NIL NIL NIL NIL NIL
[START] shoes shoes shoes shoes shoes shoes shoes shoes 

[START] man walks store [END] NIL NIL NIL NIL
[START] shoes shoes shoes shoes shoes shoes shoes shoes 

Epoch:1, Iteration: 65, Loss: 112.18, TimeElapsed: 22.83Min
Working (10, 200) torch.Size([10, 9])
Normal torch.Size([10, 9]) torch.Size([10, 9, 2512])
[START] small child [END] NIL NIL NIL NIL NIL
[START] path path path path path path path path 

[START] small children climb statue [END] NIL NIL NIL
[START] path path path path path path path path 

[START] men wearing red jackets black hats black [END]
[START] path path path path path path path path 

[START] three individuals two men [END] NIL NIL NIL
[START] path path path path path path path path 

[START] man standing inside doorway [END] NIL NIL NIL
[START] path path path path path path path path 

[START] young girl smiling front [END] NIL NIL NIL
[START] path path path path path path path path 

[START] various people sit strips [END] NIL NIL NIL
[START] path path path path path path path path 

[START] boys fun jumping [END] NIL NIL NIL NIL
[START] path path path path path path path path 

[START] brown dog flying [END] NIL NIL NIL NIL
[START] path path path path path path path path 

[START] group people black [END] NIL NIL NIL NIL
[START] path path path path path path path path 

Epoch:1, Iteration: 66, Loss: 116.82, TimeElapsed: 22.87Min
Working (10, 200) torch.Size([10, 9])
Normal torch.Size([10, 9]) torch.Size([10, 9, 2512])
[START] man black [END] NIL NIL NIL NIL NIL
[START] men NIL NIL NIL NIL NIL NIL NIL 

[START] man without shirt [END] NIL NIL NIL NIL
[START] men NIL NIL NIL NIL NIL NIL NIL 

[START] man woman [END] NIL NIL NIL NIL NIL
[START] men NIL NIL NIL NIL NIL NIL NIL 

[START] couple waits cross [END] NIL NIL NIL NIL
[START] men NIL NIL NIL NIL NIL NIL NIL 

[START] group people lunch [END] NIL NIL NIL NIL
[START] men NIL NIL NIL NIL NIL NIL NIL 

[START] two young girls pet [END] NIL NIL NIL
[START] men NIL NIL NIL NIL NIL NIL NIL 

[START] person wearing blue shirt gray pants [END] NIL
[START] men NIL NIL NIL NIL NIL NIL NIL 

[START] woman blue sweater [END] NIL NIL NIL NIL
[START] men NIL NIL NIL NIL NIL NIL NIL 

[START] group people [END] NIL NIL NIL NIL NIL
[START] men NIL NIL NIL NIL NIL NIL NIL 

[START] people dressed white [END] NIL NIL NIL NIL
[START] men NIL NIL NIL NIL NIL NIL NIL 

Epoch:1, Iteration: 67, Loss: 65.28, TimeElapsed: 22.91Min
Working (10, 200) torch.Size([10, 9])
Normal torch.Size([10, 9]) torch.Size([10, 9, 2512])
[START] gray dog walks [END] NIL NIL NIL NIL
[START] man NIL NIL NIL NIL NIL NIL NIL 

[START] girl playfully kicks guy [END] NIL NIL NIL
[START] man NIL NIL NIL NIL NIL NIL NIL 

[START] large stick filled cotton candy [END] NIL NIL
[START] man NIL NIL NIL NIL NIL NIL NIL 

[START] three people posing brick wall [END] NIL NIL
[START] man NIL NIL NIL NIL NIL NIL NIL 

[START] man leaning ledge [END] NIL NIL NIL NIL
[START] man NIL NIL NIL NIL NIL NIL NIL 

[START] three men cooking sausage [END] NIL NIL NIL
[START] man NIL NIL NIL NIL NIL NIL NIL 

[START] man phone [END] NIL NIL NIL NIL NIL
[START] man NIL NIL NIL NIL NIL NIL NIL 

[START] soldier standing tall [END] NIL NIL NIL NIL
[START] man NIL NIL NIL NIL NIL NIL NIL 

[START] boston red sox baseball [END] NIL NIL NIL
[START] man NIL NIL NIL NIL NIL NIL NIL 

[START] man sitting talking [END] NIL NIL NIL NIL
[START] man NIL NIL NIL NIL NIL NIL NIL 

Epoch:1, Iteration: 68, Loss: 172.57, TimeElapsed: 22.96Min
Working (10, 200) torch.Size([10, 9])
Normal torch.Size([10, 9]) torch.Size([10, 9, 2512])
[START] woman paints picture [END] NIL NIL NIL NIL
[START] man [END] [END] [END] [END] [END] [END] [END] 

[START] grownups small children [END] NIL NIL NIL NIL
[START] man [END] [END] [END] [END] [END] [END] [END] 

[START] man operating crane concentrates [END] NIL NIL NIL
[START] man [END] [END] [END] [END] [END] [END] [END] 

[START] man wearing helmet riding bicycle [END] NIL NIL
[START] man [END] [END] [END] [END] [END] [END] [END] 

[START] man holding fish [END] NIL NIL NIL NIL
[START] man [END] [END] [END] [END] [END] [END] [END] 

[START] black man wearing beanie [END] NIL NIL NIL
[START] man [END] [END] [END] [END] [END] [END] [END] 

[START] man wearing black shirt [END] NIL NIL NIL
[START] man [END] [END] [END] [END] [END] [END] [END] 

[START] guy leather [END] NIL NIL NIL NIL NIL
[START] man [END] [END] [END] [END] [END] [END] [END] 

[START] two kids ride amusement [END] NIL NIL NIL
[START] man [END] [END] [END] [END] [END] [END] [END] 

[START] woman short blond hair [END] NIL NIL NIL
[START] man [END] [END] [END] [END] [END] [END] [END] 

Epoch:1, Iteration: 69, Loss: 138.66, TimeElapsed: 23.0Min
Working (10, 200) torch.Size([10, 9])
Normal torch.Size([10, 9]) torch.Size([10, 9, 2512])
[START] group people admiring [END] NIL NIL NIL NIL
[START] black black NIL NIL NIL NIL NIL NIL 

[START] man protected helmet [END] NIL NIL NIL NIL
[START] black black NIL NIL NIL NIL NIL NIL 

[START] young white boy [END] NIL NIL NIL NIL
[START] black black NIL NIL NIL NIL NIL NIL 

[START] woman sitting [END] NIL NIL NIL NIL NIL
[START] black black NIL NIL NIL NIL NIL NIL 

[START] two young girls playing pipe [END] NIL NIL
[START] black black NIL NIL NIL NIL NIL NIL 

[START] old lady crosses street [END] NIL NIL NIL
[START] black black NIL NIL NIL NIL NIL NIL 

[START] man stands scaffold [END] NIL NIL NIL NIL
[START] black black NIL NIL NIL NIL NIL NIL 

[START] man laughs adjusts [END] NIL NIL NIL NIL
[START] black black NIL NIL NIL NIL NIL NIL 

[START] artwork young child [END] NIL NIL NIL NIL
[START] black black NIL NIL NIL NIL NIL NIL 

[START] older gentleman pants [END] NIL NIL NIL NIL
[START] black black NIL NIL NIL NIL NIL NIL 

Epoch:1, Iteration: 70, Loss: 114.04, TimeElapsed: 23.04Min
Working (10, 200) torch.Size([10, 9])
Normal torch.Size([10, 9]) torch.Size([10, 9, 2512])
[START] little girl lands [END] NIL NIL NIL NIL
[START] view NIL NIL NIL NIL NIL NIL NIL 

[START] dog trots across [END] NIL NIL NIL NIL
[START] view NIL NIL NIL NIL NIL NIL NIL 

[START] man using [END] NIL NIL NIL NIL NIL
[START] view NIL NIL NIL NIL NIL NIL NIL 

[START] several travelers either standing [END] NIL NIL NIL
[START] view NIL NIL NIL NIL NIL NIL NIL 

[START] closeup girl [END] NIL NIL NIL NIL NIL
[START] view NIL NIL NIL NIL NIL NIL NIL 

[START] boy picking pumpkin [END] NIL NIL NIL NIL
[START] view NIL NIL NIL NIL NIL NIL NIL 

[START] roomful women [END] NIL NIL NIL NIL NIL
[START] view NIL NIL NIL NIL NIL NIL NIL 

[START] 4 guys army fatigue [END] NIL NIL NIL
[START] view NIL NIL NIL NIL NIL NIL NIL 

[START] family posing [END] NIL NIL NIL NIL NIL
[START] view NIL NIL NIL NIL NIL NIL NIL 

[START] 30 somethings man playing [END] NIL NIL NIL
[START] view NIL NIL NIL NIL NIL NIL NIL 

Epoch:1, Iteration: 71, Loss: 145.94, TimeElapsed: 23.09Min
Working (10, 200) torch.Size([10, 9])
Normal torch.Size([10, 9]) torch.Size([10, 9, 2512])
[START] man blue shirt leaning [END] NIL NIL NIL
[START] fun fun fun fun fun fun fun fun 

[START] people dressed hi viz jackets [END] NIL NIL
[START] fun fun fun fun fun fun fun fun 

[START] two male security officers restraining [END] NIL NIL
[START] fun fun fun fun fun fun fun fun 

[START] asian boy cheers [END] NIL NIL NIL NIL
[START] fun fun fun fun fun fun fun fun 

[START] two little children one boy [END] NIL NIL
[START] fun fun fun fun fun fun fun fun 

[START] group police officers patroling [END] NIL NIL NIL
[START] fun fun fun fun fun fun fun fun 

[START] dog running [END] NIL NIL NIL NIL NIL
[START] fun fun fun fun fun fun fun fun 

[START] group people wedding [END] NIL NIL NIL NIL
[START] fun fun fun fun fun fun fun fun 

[START] small boy wearing [END] NIL NIL NIL NIL
[START] fun fun fun fun fun fun fun fun 

[START] couple gets hands knees [END] NIL NIL NIL
[START] fun fun fun fun fun fun fun fun 

Epoch:1, Iteration: 72, Loss: 135.17, TimeElapsed: 23.13Min
Working (10, 200) torch.Size([10, 9])
Normal torch.Size([10, 9]) torch.Size([10, 9, 2512])
[START] women cheerleading street [END] NIL NIL NIL NIL
[START] kicks kicks kicks kicks kicks kicks kicks kicks 

[START] aged woman walks [END] NIL NIL NIL NIL
[START] kicks kicks kicks kicks kicks kicks kicks kicks 

[START] man green [END] NIL NIL NIL NIL NIL
[START] kicks kicks kicks kicks kicks kicks kicks kicks 

[START] woman sitting [END] NIL NIL NIL NIL NIL
[START] kicks kicks kicks kicks kicks kicks kicks kicks 

[START] little boy [END] NIL NIL NIL NIL NIL
[START] kicks kicks kicks kicks kicks kicks kicks kicks 

[START] man leaning [END] NIL NIL NIL NIL NIL
[START] kicks kicks kicks kicks kicks kicks kicks kicks 

[START] two little boys sitting [END] NIL NIL NIL
[START] kicks kicks kicks kicks kicks kicks kicks kicks 

[START] parasailer rides parallel [END] NIL NIL NIL NIL
[START] kicks kicks kicks kicks kicks kicks kicks kicks 

[START] man swords battling [END] NIL NIL NIL NIL
[START] kicks kicks kicks kicks kicks kicks kicks kicks 

[START] woman jeans [END] NIL NIL NIL NIL NIL
[START] kicks kicks kicks kicks kicks kicks kicks kicks 

Epoch:1, Iteration: 73, Loss: 89.31, TimeElapsed: 23.17Min
Working (10, 200) torch.Size([10, 9])
Normal torch.Size([10, 9]) torch.Size([10, 9, 2512])
[START] people gathered times square [END] NIL NIL NIL
laughs laughs laughs laughs laughs laughs laughs laughs laughs 

[START] man holds [END] NIL NIL NIL NIL NIL
laughs laughs laughs laughs laughs laughs laughs laughs laughs 

[START] large amount people sitting [END] NIL NIL NIL
laughs laughs laughs laughs laughs laughs laughs laughs laughs 

[START] two barefoot young african boys [END] NIL NIL
laughs laughs laughs laughs laughs laughs laughs laughs laughs 

[START] boy blue shirt splashing [END] NIL NIL NIL
laughs laughs laughs laughs laughs laughs laughs laughs laughs 

[START] woman multicolored top purple [END] NIL NIL NIL
laughs laughs laughs laughs laughs laughs laughs laughs laughs 

[START] smiling woman playing [END] NIL NIL NIL NIL
laughs laughs laughs laughs laughs laughs laughs laughs laughs 

[START] group four young [END] NIL NIL NIL NIL
laughs laughs laughs laughs laughs laughs laughs laughs laughs 

[START] people walking long [END] NIL NIL NIL NIL
laughs laughs laughs laughs laughs laughs laughs laughs laughs 

[START] man sitting [END] NIL NIL NIL NIL NIL
laughs laughs laughs laughs laughs laughs laughs laughs laughs 

Epoch:1, Iteration: 74, Loss: 120.93, TimeElapsed: 23.22Min
Working (10, 200) torch.Size([10, 9])
Normal torch.Size([10, 9]) torch.Size([10, 9, 2512])
[START] three men drinking one playing guitar [END] NIL
[START] stick stick stick stick stick stick stick stick 

[START] woman holding cleaning [END] NIL NIL NIL NIL
[START] stick stick stick stick stick stick stick stick 

[START] man supervising workers workshop [END] NIL NIL NIL
[START] stick stick stick stick stick stick stick stick 

[START] family standing [END] NIL NIL NIL NIL NIL
[START] stick stick stick stick stick stick stick stick 

[START] worker scaffolding passing tool [END] NIL NIL NIL
[START] stick stick stick stick stick stick stick stick 

[START] four kids backstand [END] NIL NIL NIL NIL
[START] stick stick stick stick stick stick stick stick 

[START] young child sleeping [END] NIL NIL NIL NIL
[START] stick stick stick stick stick stick stick stick 

[START] female orange [END] NIL NIL NIL NIL NIL
[START] stick stick stick stick stick stick stick stick 

[START] tall thin brunette girl wearing [END] NIL NIL
[START] stick stick stick stick stick stick stick stick 

[START] black dog jumping catch tennis [END] NIL NIL
[START] stick stick stick stick stick stick stick stick 

Epoch:1, Iteration: 75, Loss: 148.95, TimeElapsed: 23.27Min
Working (10, 200) torch.Size([10, 9])
Normal torch.Size([10, 9]) torch.Size([10, 9, 2512])
[START] four firefighters yellow helmets [END] NIL NIL NIL
[START] NIL NIL NIL NIL NIL NIL NIL NIL 

[START] older person small [END] NIL NIL NIL NIL
[START] NIL NIL NIL NIL NIL NIL NIL NIL 

[START] man bent retail [END] NIL NIL NIL NIL
[START] NIL NIL NIL NIL NIL NIL NIL NIL 

[START] injured football player [END] NIL NIL NIL NIL
[START] NIL NIL NIL NIL NIL NIL NIL NIL 

[START] single man black [END] NIL NIL NIL NIL
[START] NIL NIL NIL NIL NIL NIL NIL NIL 

[START] two white horses pulling [END] NIL NIL NIL
[START] NIL NIL NIL NIL NIL NIL NIL NIL 

[START] man grilling vegetables [END] NIL NIL NIL NIL
[START] NIL NIL NIL NIL NIL NIL NIL NIL 

[START] elderly black woman riding motorized [END] NIL NIL
[START] NIL NIL NIL NIL NIL NIL NIL NIL 

[START] two women two children sit [END] NIL NIL
[START] NIL NIL NIL NIL NIL NIL NIL NIL 

[START] man wearing jacket hat [END] NIL NIL NIL
[START] NIL NIL NIL NIL NIL NIL NIL NIL 

Epoch:1, Iteration: 76, Loss: 143.54, TimeElapsed: 23.31Min
Working (10, 200) torch.Size([10, 9])
Normal torch.Size([10, 9]) torch.Size([10, 9, 2512])
[START] hockey players play game [END] NIL NIL NIL
[START] officers NIL NIL NIL NIL NIL NIL NIL 

[START] two men chainsaw [END] NIL NIL NIL NIL
[START] officers NIL NIL NIL NIL NIL NIL NIL 

[START] blond man passionately sings [END] NIL NIL NIL
[START] officers NIL NIL NIL NIL NIL NIL NIL 

[START] front stroke swimming race roped [END] NIL NIL
[START] officers NIL NIL NIL NIL NIL NIL NIL 

[START] large brown dog playing [END] NIL NIL NIL
[START] officers NIL NIL NIL NIL NIL NIL NIL 

[START] man holding sign [END] NIL NIL NIL NIL
[START] officers NIL NIL NIL NIL NIL NIL NIL 

[START] little boy [END] NIL NIL NIL NIL NIL
[START] officers NIL NIL NIL NIL NIL NIL NIL 

[START] older lady black [END] NIL NIL NIL NIL
[START] officers NIL NIL NIL NIL NIL NIL NIL 

[START] three boys running [END] NIL NIL NIL NIL
[START] officers NIL NIL NIL NIL NIL NIL NIL 

[START] two men looking [END] NIL NIL NIL NIL
[START] officers NIL NIL NIL NIL NIL NIL NIL 

Epoch:1, Iteration: 77, Loss: 144.19, TimeElapsed: 23.36Min
Working (10, 200) torch.Size([10, 9])
Normal torch.Size([10, 9]) torch.Size([10, 9, 2512])
[START] little girl poses [END] NIL NIL NIL NIL
[START] group NIL NIL NIL NIL NIL NIL NIL 

[START] dog runs field [END] NIL NIL NIL NIL
[START] group NIL NIL NIL NIL NIL NIL NIL 

[START] man suit smoking [END] NIL NIL NIL NIL
[START] group NIL NIL NIL NIL NIL NIL NIL 

[START] little girl swinging [END] NIL NIL NIL NIL
[START] group NIL NIL NIL NIL NIL NIL NIL 

[START] person wearing something gray fixing [END] NIL NIL
[START] group NIL NIL NIL NIL NIL NIL NIL 

[START] group people eat meal [END] NIL NIL NIL
[START] group NIL NIL NIL NIL NIL NIL NIL 

[START] elderly man holding pitchfork [END] NIL NIL NIL
[START] group NIL NIL NIL NIL NIL NIL NIL 

[START] two men toss ball [END] NIL NIL NIL
[START] group NIL NIL NIL NIL NIL NIL NIL 

[START] wagon people [END] NIL NIL NIL NIL NIL
[START] group NIL NIL NIL NIL NIL NIL NIL 

[START] little girl observes [END] NIL NIL NIL NIL
[START] group NIL NIL NIL NIL NIL NIL NIL 

Epoch:1, Iteration: 78, Loss: 152.94, TimeElapsed: 23.4Min
Working (10, 200) torch.Size([10, 9])
Normal torch.Size([10, 9]) torch.Size([10, 9, 2512])
[START] young child [END] NIL NIL NIL NIL NIL
[START] woman NIL NIL NIL NIL NIL NIL NIL 

[START] three small boys working [END] NIL NIL NIL
[START] woman NIL NIL NIL NIL NIL NIL NIL 

[START] two football players try tackle [END] NIL NIL
[START] woman NIL NIL NIL NIL NIL NIL NIL 

[START] man feeds baby [END] NIL NIL NIL NIL
[START] woman NIL NIL NIL NIL NIL NIL NIL 

[START] brown dog large [END] NIL NIL NIL NIL
[START] woman NIL NIL NIL NIL NIL NIL NIL 

[START] crowd people surrounding [END] NIL NIL NIL NIL
[START] woman NIL NIL NIL NIL NIL NIL NIL 

[START] snowboarder performing [END] NIL NIL NIL NIL NIL
[START] woman NIL NIL NIL NIL NIL NIL NIL 

[START] four young men [END] NIL NIL NIL NIL
[START] woman NIL NIL NIL NIL NIL NIL NIL 

[START] girl goggles [END] NIL NIL NIL NIL NIL
[START] woman NIL NIL NIL NIL NIL NIL NIL 

[START] group children playing soccer [END] NIL NIL NIL
[START] woman NIL NIL NIL NIL NIL NIL NIL 

Epoch:1, Iteration: 79, Loss: 121.08, TimeElapsed: 23.44Min
Working (10, 200) torch.Size([10, 9])
Normal torch.Size([10, 9]) torch.Size([10, 9, 2512])
[START] girl smiling [END] NIL NIL NIL NIL NIL
[START] two [END] [END] [END] [END] [END] [END] [END] 

[START] two baseball players opposing [END] NIL NIL NIL
[START] two [END] [END] [END] [END] [END] [END] [END] 

[START] man motorbike [END] NIL NIL NIL NIL NIL
[START] two [END] [END] [END] [END] [END] [END] [END] 

[START] black dog red [END] NIL NIL NIL NIL
[START] two [END] [END] [END] [END] [END] [END] [END] 

[START] young girl balances [END] NIL NIL NIL NIL
[START] two [END] [END] [END] [END] [END] [END] [END] 

[START] three young children wearing jackets [END] NIL NIL
[START] two [END] [END] [END] [END] [END] [END] [END] 

[START] many buildings stores shown [END] NIL NIL NIL
[START] two [END] [END] [END] [END] [END] [END] [END] 

[START] man hat juggling front [END] NIL NIL NIL
[START] two [END] [END] [END] [END] [END] [END] [END] 

[START] man standing behind dj equipment [END] NIL NIL
[START] two [END] [END] [END] [END] [END] [END] [END] 

[START] little boy stands [END] NIL NIL NIL NIL
[START] two [END] [END] [END] [END] [END] [END] [END] 

Epoch:1, Iteration: 80, Loss: 142.25, TimeElapsed: 23.49Min
Working (10, 200) torch.Size([10, 9])
Normal torch.Size([10, 9]) torch.Size([10, 9, 2512])
[START] teenage boy talking group [END] NIL NIL NIL
[START] man [END] [END] [END] [END] [END] [END] [END] 

[START] boy playing shore [END] NIL NIL NIL NIL
[START] man [END] [END] [END] [END] [END] [END] [END] 

[START] man blue [END] NIL NIL NIL NIL NIL
[START] man [END] [END] [END] [END] [END] [END] [END] 

[START] five young people playing [END] NIL NIL NIL
[START] man [END] [END] [END] [END] [END] [END] [END] 

[START] two men conversation [END] NIL NIL NIL NIL
[START] man [END] [END] [END] [END] [END] [END] [END] 

[START] man dark [END] NIL NIL NIL NIL NIL
[START] man [END] [END] [END] [END] [END] [END] [END] 

[START] lady blond hair [END] NIL NIL NIL NIL
[START] man [END] [END] [END] [END] [END] [END] [END] 

[START] girl costume [END] NIL NIL NIL NIL NIL
[START] man [END] [END] [END] [END] [END] [END] [END] 

[START] man four running dogs [END] NIL NIL NIL
[START] man [END] [END] [END] [END] [END] [END] [END] 

[START] young laughing asian child [END] NIL NIL NIL
[START] man [END] [END] [END] [END] [END] [END] [END] 

Epoch:1, Iteration: 81, Loss: 90.69, TimeElapsed: 23.53Min
Working (10, 200) torch.Size([10, 9])
Normal torch.Size([10, 9]) torch.Size([10, 9, 2512])
[START] people bus riding looking [END] NIL NIL NIL
[START] man man fish fish fish fish fish fish 

[START] young boy swings air [END] NIL NIL NIL
[START] man man fish fish fish fish fish fish 

[START] young boy grooms [END] NIL NIL NIL NIL
[START] man man fish fish fish fish fish fish 

[START] young men playing basketball [END] NIL NIL NIL
[START] man man fish fish fish fish fish fish 

[START] two women sitting talking [END] NIL NIL NIL
[START] man man fish fish fish fish fish fish 

[START] guy bowling [END] NIL NIL NIL NIL NIL
[START] man man fish fish fish fish fish fish 

[START] ambulance going [END] NIL NIL NIL NIL NIL
[START] man man fish fish fish fish fish fish 

[START] woman wraps arms [END] NIL NIL NIL NIL
[START] man man fish fish fish fish fish fish 

[START] young boy girl playing baseball [END] NIL NIL
[START] man man fish fish fish fish fish fish 

[START] man hanging pole [END] NIL NIL NIL NIL
[START] man man fish fish fish fish fish fish 

Epoch:1, Iteration: 82, Loss: 121.19, TimeElapsed: 23.58Min
Working (10, 200) torch.Size([10, 9])
Normal torch.Size([10, 9]) torch.Size([10, 9, 2512])
[START] man blue [END] NIL NIL NIL NIL NIL
[START] young young NIL NIL NIL NIL NIL NIL 

[START] small black white [END] NIL NIL NIL NIL
[START] young young NIL NIL NIL NIL NIL NIL 

[START] several men blue jumpsuits yellow shirts [END] NIL
[START] young young NIL NIL NIL NIL NIL NIL 

[START] man drilling [END] NIL NIL NIL NIL NIL
[START] young young NIL NIL NIL NIL NIL NIL 

[START] woman posing [END] NIL NIL NIL NIL NIL
[START] young young NIL NIL NIL NIL NIL NIL 

[START] woman awaiting ice [END] NIL NIL NIL NIL
[START] young young NIL NIL NIL NIL NIL NIL 

[START] two lonely fans green ponchos [END] NIL NIL
[START] young young NIL NIL NIL NIL NIL NIL 

[START] several people riding roller coaster [END] NIL NIL
[START] young young NIL NIL NIL NIL NIL NIL 

[START] two hockey players battling [END] NIL NIL NIL
[START] young young NIL NIL NIL NIL NIL NIL 

[START] cyclist leaning bicycle [END] NIL NIL NIL NIL
[START] young young NIL NIL NIL NIL NIL NIL 

Epoch:1, Iteration: 83, Loss: 138.32, TimeElapsed: 23.62Min
Working (10, 200) torch.Size([10, 9])
Normal torch.Size([10, 9]) torch.Size([10, 9, 2512])
[START] woman walks path [END] NIL NIL NIL NIL
[START] two NIL NIL NIL NIL NIL NIL NIL 

[START] man staring intently plants [END] NIL NIL NIL
[START] two NIL NIL NIL NIL NIL NIL NIL 

[START] table several [END] NIL NIL NIL NIL NIL
[START] two NIL NIL NIL NIL NIL NIL NIL 

[START] soldier brandishing shiny instrument [END] NIL NIL NIL
[START] two NIL NIL NIL NIL NIL NIL NIL 

[START] young black man walking [END] NIL NIL NIL
[START] two NIL NIL NIL NIL NIL NIL NIL 

[START] young boy [END] NIL NIL NIL NIL NIL
[START] two NIL NIL NIL NIL NIL NIL NIL 

[START] four men one woman sitting near [END] NIL
[START] two NIL NIL NIL NIL NIL NIL NIL 

[START] man striped [END] NIL NIL NIL NIL NIL
[START] two NIL NIL NIL NIL NIL NIL NIL 

[START] construction crew working [END] NIL NIL NIL NIL
[START] two NIL NIL NIL NIL NIL NIL NIL 

[START] line horses [END] NIL NIL NIL NIL NIL
[START] two NIL NIL NIL NIL NIL NIL NIL 

Epoch:1, Iteration: 84, Loss: 101.89, TimeElapsed: 23.66Min
Working (10, 200) torch.Size([10, 9])
Normal torch.Size([10, 9]) torch.Size([10, 9, 2512])
[START] man wearing flashy gold shirt [END] NIL NIL
[START] boy NIL NIL NIL NIL NIL NIL NIL 

[START] woman red speaks [END] NIL NIL NIL NIL
[START] boy NIL NIL NIL NIL NIL NIL NIL 

[START] black dog pulls [END] NIL NIL NIL NIL
[START] boy NIL NIL NIL NIL NIL NIL NIL 

[START] two gray dogs run field [END] NIL NIL
[START] boy NIL NIL NIL NIL NIL NIL NIL 

[START] hockey goalie trying [END] NIL NIL NIL NIL
[START] boy NIL NIL NIL NIL NIL NIL NIL 

[START] one nun patted [END] NIL NIL NIL NIL
[START] boy NIL NIL NIL NIL NIL NIL NIL 

[START] young man happy [END] NIL NIL NIL NIL
[START] boy NIL NIL NIL NIL NIL NIL NIL 

[START] artist drawing portrait woman [END] NIL NIL NIL
[START] boy NIL NIL NIL NIL NIL NIL NIL 

[START] group bicycle riders [END] NIL NIL NIL NIL
[START] boy NIL NIL NIL NIL NIL NIL NIL 

[START] people standing near boats sandy [END] NIL NIL
[START] boy NIL NIL NIL NIL NIL NIL NIL 

Epoch:1, Iteration: 85, Loss: 150.22, TimeElapsed: 23.7Min
Working (10, 200) torch.Size([10, 9])
Normal torch.Size([10, 9]) torch.Size([10, 9, 2512])
[START] asian woman [END] NIL NIL NIL NIL NIL
[START] bus bicycle bicycle bicycle bicycle bicycle bicycle bicycle 

[START] adolescent red life [END] NIL NIL NIL NIL
[START] bus bicycle bicycle bicycle bicycle bicycle bicycle bicycle 

[START] people walking [END] NIL NIL NIL NIL NIL
[START] bus bicycle bicycle bicycle bicycle bicycle bicycle bicycle 

[START] sleeping man [END] NIL NIL NIL NIL NIL
[START] bus bicycle bicycle bicycle bicycle bicycle bicycle bicycle 

[START] man aerodynamic gear [END] NIL NIL NIL NIL
[START] bus bicycle bicycle bicycle bicycle bicycle bicycle bicycle 

[START] female blacksmith shoeing horse [END] NIL NIL NIL
[START] bus bicycle bicycle bicycle bicycle bicycle bicycle bicycle 

[START] large brown white [END] NIL NIL NIL NIL
[START] bus bicycle bicycle bicycle bicycle bicycle bicycle bicycle 

[START] woman sunglasses brown [END] NIL NIL NIL NIL
[START] bus bicycle bicycle bicycle bicycle bicycle bicycle bicycle 

[START] girl talking man [END] NIL NIL NIL NIL
[START] bus bicycle bicycle bicycle bicycle bicycle bicycle bicycle 

[START] four children playing [END] NIL NIL NIL NIL
[START] bus bicycle bicycle bicycle bicycle bicycle bicycle bicycle 

Epoch:1, Iteration: 86, Loss: 120.42, TimeElapsed: 23.75Min
Working (10, 200) torch.Size([10, 9])
Normal torch.Size([10, 9]) torch.Size([10, 9, 2512])
[START] man backpack sitting [END] NIL NIL NIL NIL
[START] woman woman NIL NIL NIL NIL NIL NIL 

[START] man standing [END] NIL NIL NIL NIL NIL
[START] woman woman NIL NIL NIL NIL NIL NIL 

[START] people gather grassy area [END] NIL NIL NIL
[START] woman woman NIL NIL NIL NIL NIL NIL 

[START] man braided [END] NIL NIL NIL NIL NIL
[START] woman woman NIL NIL NIL NIL NIL NIL 

[START] man red hair working [END] NIL NIL NIL
[START] woman woman NIL NIL NIL NIL NIL NIL 

[START] woman laughing bar [END] NIL NIL NIL NIL
[START] woman woman NIL NIL NIL NIL NIL NIL 

[START] young boy weating blue [END] NIL NIL NIL
[START] woman woman NIL NIL NIL NIL NIL NIL 

[START] hockey goalie two [END] NIL NIL NIL NIL
[START] woman woman NIL NIL NIL NIL NIL NIL 

[START] people sitting rows seats [END] NIL NIL NIL
[START] woman woman NIL NIL NIL NIL NIL NIL 

[START] fisherman fishes [END] NIL NIL NIL NIL NIL
[START] woman woman NIL NIL NIL NIL NIL NIL 

Epoch:1, Iteration: 87, Loss: 130.74, TimeElapsed: 23.79Min
Working (10, 200) torch.Size([10, 9])
Normal torch.Size([10, 9]) torch.Size([10, 9, 2512])
[START] baby boy crying standing [END] NIL NIL NIL
[START] three blue NIL NIL NIL NIL NIL NIL 

[START] overloaded wagon full [END] NIL NIL NIL NIL
[START] three blue NIL NIL NIL NIL NIL NIL 

[START] two girls black walk [END] NIL NIL NIL
[START] three blue NIL NIL NIL NIL NIL NIL 

[START] people concrete area taking pictures [END] NIL NIL
[START] three blue NIL NIL NIL NIL NIL NIL 

[START] hikers cross bridge fast [END] NIL NIL NIL
[START] three blue NIL NIL NIL NIL NIL NIL 

[START] person wearing jeans blue [END] NIL NIL NIL
[START] three blue NIL NIL NIL NIL NIL NIL 

[START] three rugby players trying catch ball [END] NIL
[START] three blue NIL NIL NIL NIL NIL NIL 

[START] redhead woman pigtails [END] NIL NIL NIL NIL
[START] three blue NIL NIL NIL NIL NIL NIL 

[START] blond haired woman pouring [END] NIL NIL NIL
[START] three blue NIL NIL NIL NIL NIL NIL 

[START] two persons carry large inflatable [END] NIL NIL
[START] three blue NIL NIL NIL NIL NIL NIL 

Epoch:1, Iteration: 88, Loss: 189.28, TimeElapsed: 23.84Min
Working (10, 200) torch.Size([10, 9])
Normal torch.Size([10, 9]) torch.Size([10, 9, 2512])
[START] indian girl carries [END] NIL NIL NIL NIL
[START] leaning leaning leaning leaning leaning leaning leaning leaning 

[START] man yellow vest [END] NIL NIL NIL NIL
[START] leaning leaning leaning leaning leaning leaning leaning leaning 

[START] black white dog [END] NIL NIL NIL NIL
[START] leaning leaning leaning leaning leaning leaning leaning leaning 

[START] little boy [END] NIL NIL NIL NIL NIL
[START] leaning leaning leaning leaning leaning leaning leaning leaning 

[START] two women standing [END] NIL NIL NIL NIL
[START] leaning leaning leaning leaning leaning leaning leaning leaning 

[START] two women [END] NIL NIL NIL NIL NIL
[START] leaning leaning leaning leaning leaning leaning leaning leaning 

[START] man white shirt taking [END] NIL NIL NIL
[START] leaning leaning leaning leaning leaning leaning leaning leaning 

[START] family friends sit [END] NIL NIL NIL NIL
[START] leaning leaning leaning leaning leaning leaning leaning leaning 

[START] asian children dressed red [END] NIL NIL NIL
[START] leaning leaning leaning leaning leaning leaning leaning leaning 

[START] young girl wears [END] NIL NIL NIL NIL
[START] leaning leaning leaning leaning leaning leaning leaning leaning 

Epoch:1, Iteration: 89, Loss: 91.06, TimeElapsed: 23.88Min
Working (10, 200) torch.Size([10, 9])
Normal torch.Size([10, 9]) torch.Size([10, 9, 2512])
[START] frightened little boy [END] NIL NIL NIL NIL
[START] people [END] [END] [END] [END] [END] [END] [END] 

[START] man jumping [END] NIL NIL NIL NIL NIL
[START] people [END] [END] [END] [END] [END] [END] [END] 

[START] three little girls smiling camera [END] NIL NIL
[START] people [END] [END] [END] [END] [END] [END] [END] 

[START] woman playing beach volleyball diving [END] NIL NIL
[START] people [END] [END] [END] [END] [END] [END] [END] 

[START] man playing [END] NIL NIL NIL NIL NIL
[START] people [END] [END] [END] [END] [END] [END] [END] 

[START] people cement workout [END] NIL NIL NIL NIL
[START] people [END] [END] [END] [END] [END] [END] [END] 

[START] two men talking one [END] NIL NIL NIL
[START] people [END] [END] [END] [END] [END] [END] [END] 

[START] two dogs shaking water playing [END] NIL NIL
[START] people [END] [END] [END] [END] [END] [END] [END] 

[START] hard working technician digs [END] NIL NIL NIL
[START] people [END] [END] [END] [END] [END] [END] [END] 

[START] dog walking mud flats [END] NIL NIL NIL
[START] people [END] [END] [END] [END] [END] [END] [END] 

Epoch:1, Iteration: 90, Loss: 147.17, TimeElapsed: 23.93Min
Working (10, 200) torch.Size([10, 9])
Normal torch.Size([10, 9]) torch.Size([10, 9, 2512])
[START] man large feather [END] NIL NIL NIL NIL
[START] people NIL NIL NIL NIL NIL NIL NIL 

[START] boy snow [END] NIL NIL NIL NIL NIL
[START] people NIL NIL NIL NIL NIL NIL NIL 

[START] man dock [END] NIL NIL NIL NIL NIL
[START] people NIL NIL NIL NIL NIL NIL NIL 

[START] backside view [END] NIL NIL NIL NIL NIL
[START] people NIL NIL NIL NIL NIL NIL NIL 

[START] five people around [END] NIL NIL NIL NIL
[START] people NIL NIL NIL NIL NIL NIL NIL 

[START] farmer tractor [END] NIL NIL NIL NIL NIL
[START] people NIL NIL NIL NIL NIL NIL NIL 

[START] group people [END] NIL NIL NIL NIL NIL
[START] people NIL NIL NIL NIL NIL NIL NIL 

[START] boy camouflage pants [END] NIL NIL NIL NIL
[START] people NIL NIL NIL NIL NIL NIL NIL 

[START] two young boys playing rocks [END] NIL NIL
[START] people NIL NIL NIL NIL NIL NIL NIL 

[START] white middle aged man playing [END] NIL NIL
[START] people NIL NIL NIL NIL NIL NIL NIL 

Epoch:1, Iteration: 91, Loss: 100.1, TimeElapsed: 23.97Min
Working (10, 200) torch.Size([10, 9])
Normal torch.Size([10, 9]) torch.Size([10, 9, 2512])
[START] trick treaters sitting [END] NIL NIL NIL NIL
[START] boy NIL NIL NIL NIL NIL NIL NIL 

[START] two women holding umbrellas [END] NIL NIL NIL
[START] boy NIL NIL NIL NIL NIL NIL NIL 

[START] female within foreground [END] NIL NIL NIL NIL
[START] boy NIL NIL NIL NIL NIL NIL NIL 

[START] man takes [END] NIL NIL NIL NIL NIL
[START] boy NIL NIL NIL NIL NIL NIL NIL 

[START] shirtless construction worker smiles [END] NIL NIL NIL
[START] boy NIL NIL NIL NIL NIL NIL NIL 

[START] many workers asian market [END] NIL NIL NIL
[START] boy NIL NIL NIL NIL NIL NIL NIL 

[START] child dressed [END] NIL NIL NIL NIL NIL
[START] boy NIL NIL NIL NIL NIL NIL NIL 

[START] man blue backpack [END] NIL NIL NIL NIL
[START] boy NIL NIL NIL NIL NIL NIL NIL 

[START] child holding bean [END] NIL NIL NIL NIL
[START] boy NIL NIL NIL NIL NIL NIL NIL 

[START] kids playing softball [END] NIL NIL NIL NIL
[START] boy NIL NIL NIL NIL NIL NIL NIL 

Epoch:1, Iteration: 92, Loss: 136.79, TimeElapsed: 24.01Min
Working (10, 200) torch.Size([10, 9])
Normal torch.Size([10, 9]) torch.Size([10, 9, 2512])
[START] two little boys sit [END] NIL NIL NIL
[START] wagon NIL NIL NIL NIL NIL NIL NIL 

[START] man wearing blue [END] NIL NIL NIL NIL
[START] wagon NIL NIL NIL NIL NIL NIL NIL 

[START] person two ski poles [END] NIL NIL NIL
[START] wagon NIL NIL NIL NIL NIL NIL NIL 

[START] two mountain climbers climbing large grassy [END] NIL
[START] wagon NIL NIL NIL NIL NIL NIL NIL 

[START] man scaling fish near body [END] NIL NIL
[START] wagon NIL NIL NIL NIL NIL NIL NIL 

[START] two latin dancers dancing [END] NIL NIL NIL
[START] wagon NIL NIL NIL NIL NIL NIL NIL 

[START] large group people [END] NIL NIL NIL NIL
[START] wagon NIL NIL NIL NIL NIL NIL NIL 

[START] man yellow shirt [END] NIL NIL NIL NIL
[START] wagon NIL NIL NIL NIL NIL NIL NIL 

[START] mountain biker rides [END] NIL NIL NIL NIL
[START] wagon NIL NIL NIL NIL NIL NIL NIL 

[START] young girl lifted [END] NIL NIL NIL NIL
[START] wagon NIL NIL NIL NIL NIL NIL NIL 

Epoch:1, Iteration: 93, Loss: 117.6, TimeElapsed: 24.05Min
Working (10, 200) torch.Size([10, 9])
Normal torch.Size([10, 9]) torch.Size([10, 9, 2512])
[START] woman wearing blue pants [END] NIL NIL NIL
[START] fans fans NIL NIL NIL NIL NIL NIL 

[START] two people practice gymnastics gym [END] NIL NIL
[START] fans fans NIL NIL NIL NIL NIL NIL 

[START] boy stripy shirt playing [END] NIL NIL NIL
[START] fans fans NIL NIL NIL NIL NIL NIL 

[START] man bottom [END] NIL NIL NIL NIL NIL
[START] fans fans NIL NIL NIL NIL NIL NIL 

[START] individuals balloons participating [END] NIL NIL NIL NIL
[START] fans fans NIL NIL NIL NIL NIL NIL 

[START] one man places hand [END] NIL NIL NIL
[START] fans fans NIL NIL NIL NIL NIL NIL 

[START] bride groom taking [END] NIL NIL NIL NIL
[START] fans fans NIL NIL NIL NIL NIL NIL 

[START] busy street filled [END] NIL NIL NIL NIL
[START] fans fans NIL NIL NIL NIL NIL NIL 

[START] boy red [END] NIL NIL NIL NIL NIL
[START] fans fans NIL NIL NIL NIL NIL NIL 

[START] young girl pink [END] NIL NIL NIL NIL
[START] fans fans NIL NIL NIL NIL NIL NIL 

Epoch:1, Iteration: 94, Loss: 112.2, TimeElapsed: 24.09Min
Working (10, 200) torch.Size([10, 9])
Normal torch.Size([10, 9]) torch.Size([10, 9, 2512])
[START] kid swinging swing [END] NIL NIL NIL NIL
[START] man hikers hikers hikers hikers hikers hikers hikers 

[START] man wearing striped [END] NIL NIL NIL NIL
[START] man hikers hikers hikers hikers hikers hikers hikers 

[START] many people walking along [END] NIL NIL NIL
[START] man hikers hikers hikers hikers hikers hikers hikers 

[START] climber climbing ice wall [END] NIL NIL NIL
[START] man hikers hikers hikers hikers hikers hikers hikers 

[START] nice capture [END] NIL NIL NIL NIL NIL
[START] man hikers hikers hikers hikers hikers hikers hikers 

[START] young man holding [END] NIL NIL NIL NIL
[START] man hikers hikers hikers hikers hikers hikers hikers 

[START] trick treaters sitting [END] NIL NIL NIL NIL
[START] man hikers hikers hikers hikers hikers hikers hikers 

[START] bride adjust husbands flower [END] NIL NIL NIL
[START] man hikers hikers hikers hikers hikers hikers hikers 

[START] two asian woman stare magazine rack [END] NIL
[START] man hikers hikers hikers hikers hikers hikers hikers 

[START] man sitting [END] NIL NIL NIL NIL NIL
[START] man hikers hikers hikers hikers hikers hikers hikers 

Epoch:1, Iteration: 95, Loss: 144.75, TimeElapsed: 24.13Min
Working (10, 200) torch.Size([10, 9])
Normal torch.Size([10, 9]) torch.Size([10, 9, 2512])
[START] newborn baby boy wearing beautiful elephant [END] NIL
[START] wall wall wall wall wall wall wall wall 

[START] dog lies [END] NIL NIL NIL NIL NIL
[START] wall wall wall wall wall wall wall wall 

[START] woman draws dog using [END] NIL NIL NIL
[START] wall wall wall wall wall wall wall wall 

[START] several female lacrosse players [END] NIL NIL NIL
[START] wall wall wall wall wall wall wall wall 

[START] girl harness [END] NIL NIL NIL NIL NIL
[START] wall wall wall wall wall wall wall wall 

[START] man playing musical instrument [END] NIL NIL NIL
[START] wall wall wall wall wall wall wall wall 

[START] man black shirt [END] NIL NIL NIL NIL
[START] wall wall wall wall wall wall wall wall 

[START] men standing railing [END] NIL NIL NIL NIL
[START] wall wall wall wall wall wall wall wall 

[START] little boy plays [END] NIL NIL NIL NIL
[START] wall wall wall wall wall wall wall wall 

[START] view [END] NIL NIL NIL NIL NIL NIL
[START] wall wall wall wall wall wall wall wall 

Epoch:1, Iteration: 96, Loss: 134.18, TimeElapsed: 24.18Min
Working (10, 200) torch.Size([10, 9])
Normal torch.Size([10, 9]) torch.Size([10, 9, 2512])
[START] three kids making eye contact [END] NIL NIL
[START] two battling striped striped striped striped striped striped 

[START] man walking shopping [END] NIL NIL NIL NIL
[START] two battling striped striped striped striped striped striped 

[START] family sitting [END] NIL NIL NIL NIL NIL
[START] two battling striped striped striped striped striped striped 

[START] girl making soap [END] NIL NIL NIL NIL
[START] two battling striped striped striped striped striped striped 

[START] person wearing blue jeans [END] NIL NIL NIL
[START] two battling striped striped striped striped striped striped 

[START] three children playing rocks near [END] NIL NIL
[START] two battling striped striped striped striped striped striped 

[START] three uniformed workers cleaning [END] NIL NIL NIL
[START] two battling striped striped striped striped striped striped 

[START] little girl spinning [END] NIL NIL NIL NIL
[START] two battling striped striped striped striped striped striped 

[START] two dark haired men sailing [END] NIL NIL
[START] two battling striped striped striped striped striped striped 

[START] dog plays man [END] NIL NIL NIL NIL
[START] two battling striped striped striped striped striped striped 

Epoch:1, Iteration: 97, Loss: 143.55, TimeElapsed: 24.22Min
Working (10, 200) torch.Size([10, 9])
Normal torch.Size([10, 9]) torch.Size([10, 9, 2512])
[START] woman sweeping pavement outside [END] NIL NIL NIL
[START] girl goalie goalie goalie goalie goalie goalie goalie 

[START] two people brown jackets walking [END] NIL NIL
[START] girl goalie goalie goalie goalie goalie goalie goalie 

[START] man apron [END] NIL NIL NIL NIL NIL
[START] girl goalie goalie goalie goalie goalie goalie goalie 

[START] team man [END] NIL NIL NIL NIL NIL
[START] girl goalie goalie goalie goalie goalie goalie goalie 

[START] two people stand outside [END] NIL NIL NIL
[START] girl goalie goalie goalie goalie goalie goalie goalie 

[START] two little blond girls helmets [END] NIL NIL
[START] girl goalie goalie goalie goalie goalie goalie goalie 

[START] man green vest working tools [END] NIL NIL
[START] girl goalie goalie goalie goalie goalie goalie goalie 

[START] person wearing skis looking [END] NIL NIL NIL
[START] girl goalie goalie goalie goalie goalie goalie goalie 

[START] bare backed climber attached [END] NIL NIL NIL
[START] girl goalie goalie goalie goalie goalie goalie goalie 

[START] two men carrying animal carcass [END] NIL NIL
[START] girl goalie goalie goalie goalie goalie goalie goalie 

Epoch:1, Iteration: 98, Loss: 169.25, TimeElapsed: 24.27Min
Working (10, 200) torch.Size([10, 9])
Normal torch.Size([10, 9]) torch.Size([10, 9, 2512])
[START] african woman gathers water [END] NIL NIL NIL
[START] girl NIL NIL NIL NIL NIL NIL NIL 

[START] children stand around water pipes awaiting clean [END]
[START] girl NIL NIL NIL NIL NIL NIL NIL 

[START] two people one [END] NIL NIL NIL NIL
[START] girl NIL NIL NIL NIL NIL NIL NIL 

[START] group girls climb [END] NIL NIL NIL NIL
[START] girl NIL NIL NIL NIL NIL NIL NIL 

[START] man playing guitar [END] NIL NIL NIL NIL
[START] girl NIL NIL NIL NIL NIL NIL NIL 

[START] long necked bird standing [END] NIL NIL NIL
[START] girl NIL NIL NIL NIL NIL NIL NIL 

[START] young man [END] NIL NIL NIL NIL NIL
[START] girl NIL NIL NIL NIL NIL NIL NIL 

[START] older women child walking [END] NIL NIL NIL
[START] girl NIL NIL NIL NIL NIL NIL NIL 

[START] adorable young child looking [END] NIL NIL NIL
[START] girl NIL NIL NIL NIL NIL NIL NIL 

[START] two people light colored baseball caps [END] NIL
[START] girl NIL NIL NIL NIL NIL NIL NIL 

Epoch:1, Iteration: 99, Loss: 155.94, TimeElapsed: 24.32Min
Working (10, 200) torch.Size([10, 9])
Normal torch.Size([10, 9]) torch.Size([10, 9, 2512])
[START] korean man blue jacket [END] NIL NIL NIL
[START] man NIL NIL NIL NIL NIL NIL NIL 

[START] four girls three [END] NIL NIL NIL NIL
[START] man NIL NIL NIL NIL NIL NIL NIL 

[START] group people walking across [END] NIL NIL NIL
[START] man NIL NIL NIL NIL NIL NIL NIL 

[START] old lady sitting [END] NIL NIL NIL NIL
[START] man NIL NIL NIL NIL NIL NIL NIL 

[START] man wearing orange [END] NIL NIL NIL NIL
[START] man NIL NIL NIL NIL NIL NIL NIL 

[START] five young girls backpacks [END] NIL NIL NIL
[START] man NIL NIL NIL NIL NIL NIL NIL 

[START] teenagers matching shirts stand [END] NIL NIL NIL
[START] man NIL NIL NIL NIL NIL NIL NIL 

[START] man standing front [END] NIL NIL NIL NIL
[START] man NIL NIL NIL NIL NIL NIL NIL 

[START] two small boys playing [END] NIL NIL NIL
[START] man NIL NIL NIL NIL NIL NIL NIL 

[START] two women seat [END] NIL NIL NIL NIL
[START] man NIL NIL NIL NIL NIL NIL NIL 

Epoch:1, Iteration: 100, Loss: 111.98, TimeElapsed: 24.37Min
Working (10, 200) torch.Size([10, 9])
Normal torch.Size([10, 9]) torch.Size([10, 9, 2512])
[START] girl purple [END] NIL NIL NIL NIL NIL
[START] group NIL NIL NIL NIL NIL NIL NIL 

[START] two men playing guitars [END] NIL NIL NIL
[START] group NIL NIL NIL NIL NIL NIL NIL 

[START] two children wearing martial arts gear [END] NIL
[START] group NIL NIL NIL NIL NIL NIL NIL 

[START] woman sitting chair reading [END] NIL NIL NIL
[START] group NIL NIL NIL NIL NIL NIL NIL 

[START] woman red [END] NIL NIL NIL NIL NIL
[START] group NIL NIL NIL NIL NIL NIL NIL 

[START] person stands high [END] NIL NIL NIL NIL
[START] group NIL NIL NIL NIL NIL NIL NIL 

[START] passengers boarding train [END] NIL NIL NIL NIL
[START] group NIL NIL NIL NIL NIL NIL NIL 

[START] fisherman stands water looking [END] NIL NIL NIL
[START] group NIL NIL NIL NIL NIL NIL NIL 

[START] brown dog carrying [END] NIL NIL NIL NIL
[START] group NIL NIL NIL NIL NIL NIL NIL 

[START] woman riding [END] NIL NIL NIL NIL NIL
[START] group NIL NIL NIL NIL NIL NIL NIL 

Epoch:1, Iteration: 101, Loss: 126.53, TimeElapsed: 24.42Min
Working (10, 200) torch.Size([10, 9])
Normal torch.Size([10, 9]) torch.Size([10, 9, 2512])
[START] little boy blue jeans [END] NIL NIL NIL
[START] two [END] [END] [END] [END] [END] [END] [END] 

[START] two girls wearing life [END] NIL NIL NIL
[START] two [END] [END] [END] [END] [END] [END] [END] 

[START] men sitting cement steps [END] NIL NIL NIL
[START] two [END] [END] [END] [END] [END] [END] [END] 

[START] kid without shirt [END] NIL NIL NIL NIL
[START] two [END] [END] [END] [END] [END] [END] [END] 

[START] man sells food cart [END] NIL NIL NIL
[START] two [END] [END] [END] [END] [END] [END] [END] 

[START] butcher cutting animal [END] NIL NIL NIL NIL
[START] two [END] [END] [END] [END] [END] [END] [END] 

[START] female wearing gray jacket running [END] NIL NIL
[START] two [END] [END] [END] [END] [END] [END] [END] 

[START] group men dressed [END] NIL NIL NIL NIL
[START] two [END] [END] [END] [END] [END] [END] [END] 

[START] three people assist lighting woman [END] NIL NIL
[START] two [END] [END] [END] [END] [END] [END] [END] 

[START] man spraying water onto [END] NIL NIL NIL
[START] two [END] [END] [END] [END] [END] [END] [END] 

Epoch:1, Iteration: 102, Loss: 141.45, TimeElapsed: 24.47Min
Working (10, 200) torch.Size([10, 9])
Normal torch.Size([10, 9]) torch.Size([10, 9, 2512])
[START] young shirtless boy sleeping [END] NIL NIL NIL
[START] climber climber [END] [END] [END] [END] [END] [END] 

[START] woman sits [END] NIL NIL NIL NIL NIL
[START] climber climber [END] [END] [END] [END] [END] [END] 

[START] old man [END] NIL NIL NIL NIL NIL
[START] climber climber [END] [END] [END] [END] [END] [END] 

[START] man yellow pants [END] NIL NIL NIL NIL
[START] climber climber [END] [END] [END] [END] [END] [END] 

[START] two women hugging [END] NIL NIL NIL NIL
[START] climber climber [END] [END] [END] [END] [END] [END] 

[START] construction workers building railroad [END] NIL NIL NIL
[START] climber climber [END] [END] [END] [END] [END] [END] 

[START] man woman take [END] NIL NIL NIL NIL
[START] climber climber [END] [END] [END] [END] [END] [END] 

[START] two boys fight ball [END] NIL NIL NIL
[START] climber climber [END] [END] [END] [END] [END] [END] 

[START] three muslim women looking [END] NIL NIL NIL
[START] climber climber [END] [END] [END] [END] [END] [END] 

[START] woman appears taking [END] NIL NIL NIL NIL
[START] climber climber [END] [END] [END] [END] [END] [END] 

Epoch:1, Iteration: 103, Loss: 124.71, TimeElapsed: 24.52Min
Working (10, 200) torch.Size([10, 9])
Normal torch.Size([10, 9]) torch.Size([10, 9, 2512])
[START] crowd people standing [END] NIL NIL NIL NIL
[START] nice nice nice NIL NIL NIL NIL NIL 

[START] young boy flower [END] NIL NIL NIL NIL
[START] nice nice nice NIL NIL NIL NIL NIL 

[START] woman sits [END] NIL NIL NIL NIL NIL
[START] nice nice nice NIL NIL NIL NIL NIL 

[START] woman semi formal attire [END] NIL NIL NIL
[START] nice nice nice NIL NIL NIL NIL NIL 

[START] lady taken top [END] NIL NIL NIL NIL
[START] nice nice nice NIL NIL NIL NIL NIL 

[START] man fallen asleep [END] NIL NIL NIL NIL
[START] nice nice nice NIL NIL NIL NIL NIL 

[START] kids climb rocky surface [END] NIL NIL NIL
[START] nice nice nice NIL NIL NIL NIL NIL 

[START] small tan white [END] NIL NIL NIL NIL
[START] nice nice nice NIL NIL NIL NIL NIL 

[START] goalie attempts block [END] NIL NIL NIL NIL
[START] nice nice nice NIL NIL NIL NIL NIL 

[START] adult kicks cloud snow [END] NIL NIL NIL
[START] nice nice nice NIL NIL NIL NIL NIL 

Epoch:1, Iteration: 104, Loss: 167.9, TimeElapsed: 24.56Min
Working (10, 200) torch.Size([10, 9])
Normal torch.Size([10, 9]) torch.Size([10, 9, 2512])
[START] man ski poles [END] NIL NIL NIL NIL
[START] bride bride NIL NIL NIL NIL NIL NIL 

[START] two elderly women sit [END] NIL NIL NIL
[START] bride bride NIL NIL NIL NIL NIL NIL 

[START] young man green shirt play [END] NIL NIL
[START] bride bride NIL NIL NIL NIL NIL NIL 

[START] two men one yellow [END] NIL NIL NIL
[START] bride bride NIL NIL NIL NIL NIL NIL 

[START] man stands near [END] NIL NIL NIL NIL
[START] bride bride NIL NIL NIL NIL NIL NIL 

[START] man hunting vest [END] NIL NIL NIL NIL
[START] bride bride NIL NIL NIL NIL NIL NIL 

[START] ballet dancers studio [END] NIL NIL NIL NIL
[START] bride bride NIL NIL NIL NIL NIL NIL 

[START] pretty asian girl smiles [END] NIL NIL NIL
[START] bride bride NIL NIL NIL NIL NIL NIL 

[START] girl green walks [END] NIL NIL NIL NIL
[START] bride bride NIL NIL NIL NIL NIL NIL 

[START] zaftig woman tube top [END] NIL NIL NIL
[START] bride bride NIL NIL NIL NIL NIL NIL 

Epoch:1, Iteration: 105, Loss: 111.42, TimeElapsed: 24.61Min
Working (10, 200) torch.Size([10, 9])
Normal torch.Size([10, 9]) torch.Size([10, 9, 2512])
[START] adventure bound person climbing [END] NIL NIL NIL
[START] participating participating NIL NIL NIL NIL NIL NIL 

[START] young boy walking [END] NIL NIL NIL NIL
[START] participating participating NIL NIL NIL NIL NIL NIL 

[START] man shorts standing [END] NIL NIL NIL NIL
[START] participating participating NIL NIL NIL NIL NIL NIL 

[START] person sitting behind two [END] NIL NIL NIL
[START] participating participating NIL NIL NIL NIL NIL NIL 

[START] hot air balloon [END] NIL NIL NIL NIL
[START] participating participating NIL NIL NIL NIL NIL NIL 

[START] woman yellow shirt [END] NIL NIL NIL NIL
[START] participating participating NIL NIL NIL NIL NIL NIL 

[START] 2 men taking photo [END] NIL NIL NIL
[START] participating participating NIL NIL NIL NIL NIL NIL 

[START] man black shirt jumping [END] NIL NIL NIL
[START] participating participating NIL NIL NIL NIL NIL NIL 

[START] woman dressed [END] NIL NIL NIL NIL NIL
[START] participating participating NIL NIL NIL NIL NIL NIL 

[START] black bald baby overall [END] NIL NIL NIL
[START] participating participating NIL NIL NIL NIL NIL NIL 

Epoch:1, Iteration: 106, Loss: 112.1, TimeElapsed: 24.65Min
Working (10, 200) torch.Size([10, 9])
Normal torch.Size([10, 9]) torch.Size([10, 9, 2512])
[START] two people wrapped blankets [END] NIL NIL NIL
[START] man pants NIL NIL NIL NIL NIL NIL 

[START] wakeboarder flies sideways [END] NIL NIL NIL NIL
[START] man pants NIL NIL NIL NIL NIL NIL 

[START] small child [END] NIL NIL NIL NIL NIL
[START] man pants NIL NIL NIL NIL NIL NIL 

[START] two toddler boys one [END] NIL NIL NIL
[START] man pants NIL NIL NIL NIL NIL NIL 

[START] person smiles child inside playground [END] NIL NIL
[START] man pants NIL NIL NIL NIL NIL NIL 

[START] two men working [END] NIL NIL NIL NIL
[START] man pants NIL NIL NIL NIL NIL NIL 

[START] 2 elders flower shopping [END] NIL NIL NIL
[START] man pants NIL NIL NIL NIL NIL NIL 

[START] older man dirty shirt [END] NIL NIL NIL
[START] man pants NIL NIL NIL NIL NIL NIL 

[START] dog shaking dry [END] NIL NIL NIL NIL
[START] man pants NIL NIL NIL NIL NIL NIL 

[START] girl wearing blue coat [END] NIL NIL NIL
[START] man pants NIL NIL NIL NIL NIL NIL 

Epoch:1, Iteration: 107, Loss: 129.05, TimeElapsed: 24.69Min
Working (10, 200) torch.Size([10, 9])
Normal torch.Size([10, 9]) torch.Size([10, 9, 2512])
[START] man scaffolding yellow [END] NIL NIL NIL NIL
[START] cement cement cement cement cement cement cement cement 

[START] man eats [END] NIL NIL NIL NIL NIL
[START] cement cement cement cement cement cement cement cement 

[START] man motorcycle [END] NIL NIL NIL NIL NIL
[START] cement cement cement cement cement cement cement cement 

[START] man green [END] NIL NIL NIL NIL NIL
[START] cement cement cement cement cement cement cement cement 

[START] teacher reads book [END] NIL NIL NIL NIL
[START] cement cement cement cement cement cement cement cement 

[START] colorfully dressed people walk [END] NIL NIL NIL
[START] cement cement cement cement cement cement cement cement 

[START] man yields slow [END] NIL NIL NIL NIL
[START] cement cement cement cement cement cement cement cement 

[START] male weimaraner clipped [END] NIL NIL NIL NIL
[START] cement cement cement cement cement cement cement cement 

[START] japanese people enjoy [END] NIL NIL NIL NIL
[START] cement cement cement cement cement cement cement cement 

[START] man glasses [END] NIL NIL NIL NIL NIL
[START] cement cement cement cement cement cement cement cement 

Epoch:1, Iteration: 108, Loss: 122.55, TimeElapsed: 24.74Min
Working (10, 200) torch.Size([10, 9])
Normal torch.Size([10, 9]) torch.Size([10, 9, 2512])
[START] young teen performing [END] NIL NIL NIL NIL
[START] man NIL NIL NIL NIL NIL NIL NIL 

[START] three people [END] NIL NIL NIL NIL NIL
[START] man NIL NIL NIL NIL NIL NIL NIL 

[START] man shirt purple [END] NIL NIL NIL NIL
[START] man NIL NIL NIL NIL NIL NIL NIL 

[START] happy young boy sits [END] NIL NIL NIL
[START] man NIL NIL NIL NIL NIL NIL NIL 

[START] man drinking champagne flute [END] NIL NIL NIL
[START] man NIL NIL NIL NIL NIL NIL NIL 

[START] person playing guitar [END] NIL NIL NIL NIL
[START] man NIL NIL NIL NIL NIL NIL NIL 

[START] two kids girl [END] NIL NIL NIL NIL
[START] man NIL NIL NIL NIL NIL NIL NIL 

[START] mule carrying man [END] NIL NIL NIL NIL
[START] man NIL NIL NIL NIL NIL NIL NIL 

[START] man long hair [END] NIL NIL NIL NIL
[START] man NIL NIL NIL NIL NIL NIL NIL 

[START] young asian girls presenting [END] NIL NIL NIL
[START] man NIL NIL NIL NIL NIL NIL NIL 

Epoch:1, Iteration: 109, Loss: 96.28, TimeElapsed: 24.78Min
Working (10, 200) torch.Size([10, 9])
Normal torch.Size([10, 9]) torch.Size([10, 9, 2512])
[START] people gather around table [END] NIL NIL NIL
[START] man purple purple purple purple purple purple purple 

[START] male tennis player wearing white [END] NIL NIL
[START] man purple purple purple purple purple purple purple 

[START] young woman wearing gray shawl [END] NIL NIL
[START] man purple purple purple purple purple purple purple 

[START] small brown dog [END] NIL NIL NIL NIL
[START] man purple purple purple purple purple purple purple 

[START] roppolo pizzeria serves open [END] NIL NIL NIL
[START] man purple purple purple purple purple purple purple 

[START] young man sits cross [END] NIL NIL NIL
[START] man purple purple purple purple purple purple purple 

[START] woman bikini [END] NIL NIL NIL NIL NIL
[START] man purple purple purple purple purple purple purple 

[START] little asian girl yellow [END] NIL NIL NIL
[START] man purple purple purple purple purple purple purple 

[START] older woman business dress [END] NIL NIL NIL
[START] man purple purple purple purple purple purple purple 

[START] man driving fork [END] NIL NIL NIL NIL
[START] man purple purple purple purple purple purple purple 

Epoch:1, Iteration: 110, Loss: 160.3, TimeElapsed: 24.83Min
Working (10, 200) torch.Size([10, 9])
Normal torch.Size([10, 9]) torch.Size([10, 9, 2512])
[START] lady short brown hair [END] NIL NIL NIL
[START] man guitar NIL NIL NIL NIL NIL NIL 

[START] older lady [END] NIL NIL NIL NIL NIL
[START] man guitar NIL NIL NIL NIL NIL NIL 

[START] young girl front [END] NIL NIL NIL NIL
[START] man guitar NIL NIL NIL NIL NIL NIL 

[START] workers break [END] NIL NIL NIL NIL NIL
[START] man guitar NIL NIL NIL NIL NIL NIL 

[START] boy wearing blue [END] NIL NIL NIL NIL
[START] man guitar NIL NIL NIL NIL NIL NIL 

[START] man large power drill standing [END] NIL NIL
[START] man guitar NIL NIL NIL NIL NIL NIL 

[START] two men eager [END] NIL NIL NIL NIL
[START] man guitar NIL NIL NIL NIL NIL NIL 

[START] man swimming little boy [END] NIL NIL NIL
[START] man guitar NIL NIL NIL NIL NIL NIL 

[START] teen [END] NIL NIL NIL NIL NIL NIL
[START] man guitar NIL NIL NIL NIL NIL NIL 

[START] black woman [END] NIL NIL NIL NIL NIL
[START] man guitar NIL NIL NIL NIL NIL NIL 

Epoch:1, Iteration: 111, Loss: 97.07, TimeElapsed: 24.87Min
Working (10, 200) torch.Size([10, 9])
Normal torch.Size([10, 9]) torch.Size([10, 9, 2512])
[START] man takes leap water [END] NIL NIL NIL
[START] three [END] [END] [END] [END] [END] [END] [END] 

[START] three young girls standing [END] NIL NIL NIL
[START] three [END] [END] [END] [END] [END] [END] [END] 

[START] young person [END] NIL NIL NIL NIL NIL
[START] three [END] [END] [END] [END] [END] [END] [END] 

[START] group girls [END] NIL NIL NIL NIL NIL
[START] three [END] [END] [END] [END] [END] [END] [END] 

[START] girl pink [END] NIL NIL NIL NIL NIL
[START] three [END] [END] [END] [END] [END] [END] [END] 

[START] little boy [END] NIL NIL NIL NIL NIL
[START] three [END] [END] [END] [END] [END] [END] [END] 

[START] man microphone [END] NIL NIL NIL NIL NIL
[START] three [END] [END] [END] [END] [END] [END] [END] 

[START] two men orange [END] NIL NIL NIL NIL
[START] three [END] [END] [END] [END] [END] [END] [END] 

[START] two guys dressed tuxes [END] NIL NIL NIL
[START] three [END] [END] [END] [END] [END] [END] [END] 

[START] two women work along balcony [END] NIL NIL
[START] three [END] [END] [END] [END] [END] [END] [END] 

Epoch:1, Iteration: 112, Loss: 87.64, TimeElapsed: 24.91Min
Working (10, 200) torch.Size([10, 9])
Normal torch.Size([10, 9]) torch.Size([10, 9, 2512])
[START] brunette woman wearing sunglasses covering [END] NIL NIL
[START] boy NIL NIL NIL NIL NIL NIL NIL 

[START] child swings baseball bat [END] NIL NIL NIL
[START] boy NIL NIL NIL NIL NIL NIL NIL 

[START] lone climber wearing [END] NIL NIL NIL NIL
[START] boy NIL NIL NIL NIL NIL NIL NIL 

[START] two men caps approaching [END] NIL NIL NIL
[START] boy NIL NIL NIL NIL NIL NIL NIL 

[START] man holding another man [END] NIL NIL NIL
[START] boy NIL NIL NIL NIL NIL NIL NIL 

[START] man wearing glasses [END] NIL NIL NIL NIL
[START] boy NIL NIL NIL NIL NIL NIL NIL 

[START] videographer female companion stand [END] NIL NIL NIL
[START] boy NIL NIL NIL NIL NIL NIL NIL 

[START] two women exotic red costumes [END] NIL NIL
[START] boy NIL NIL NIL NIL NIL NIL NIL 

[START] women wearing rollerskates sit [END] NIL NIL NIL
[START] boy NIL NIL NIL NIL NIL NIL NIL 

[START] people stand corridor looking balcony [END] NIL NIL
[START] boy NIL NIL NIL NIL NIL NIL NIL 

Epoch:1, Iteration: 113, Loss: 158.14, TimeElapsed: 24.96Min
Working (10, 200) torch.Size([10, 9])
Normal torch.Size([10, 9]) torch.Size([10, 9, 2512])
[START] little girl looking [END] NIL NIL NIL NIL
[START] 2 NIL NIL NIL NIL NIL NIL NIL 

[START] people stand outside house [END] NIL NIL NIL
[START] 2 NIL NIL NIL NIL NIL NIL NIL 

[START] man swimming [END] NIL NIL NIL NIL NIL
[START] 2 NIL NIL NIL NIL NIL NIL NIL 

[START] man standing counter [END] NIL NIL NIL NIL
[START] 2 NIL NIL NIL NIL NIL NIL NIL 

[START] two people discussion sitting [END] NIL NIL NIL
[START] 2 NIL NIL NIL NIL NIL NIL NIL 

[START] female running race [END] NIL NIL NIL NIL
[START] 2 NIL NIL NIL NIL NIL NIL NIL 

[START] woman headscarf [END] NIL NIL NIL NIL NIL
[START] 2 NIL NIL NIL NIL NIL NIL NIL 

[START] woman interviews clown [END] NIL NIL NIL NIL
[START] 2 NIL NIL NIL NIL NIL NIL NIL 

[START] two people one black [END] NIL NIL NIL
[START] 2 NIL NIL NIL NIL NIL NIL NIL 

[START] several people walk [END] NIL NIL NIL NIL
[START] 2 NIL NIL NIL NIL NIL NIL NIL 

Epoch:1, Iteration: 114, Loss: 111.18, TimeElapsed: 25.0Min
Working (10, 200) torch.Size([10, 9])
Normal torch.Size([10, 9]) torch.Size([10, 9, 2512])
[START] dance couple dancing dance [END] NIL NIL NIL
[START] pretty pretty pretty pretty pretty pretty pretty pretty 

[START] man pin [END] NIL NIL NIL NIL NIL
[START] pretty pretty pretty pretty pretty pretty pretty pretty 

[START] child standing alone hear pillar [END] NIL NIL
[START] pretty pretty pretty pretty pretty pretty pretty pretty 

[START] young boy throws big rock [END] NIL NIL
[START] pretty pretty pretty pretty pretty pretty pretty pretty 

[START] woman dressed [END] NIL NIL NIL NIL NIL
[START] pretty pretty pretty pretty pretty pretty pretty pretty 

[START] man wearing jeans backpack [END] NIL NIL NIL
[START] pretty pretty pretty pretty pretty pretty pretty pretty 

[START] person holding small [END] NIL NIL NIL NIL
[START] pretty pretty pretty pretty pretty pretty pretty pretty 

[START] woman standing next japanese [END] NIL NIL NIL
[START] pretty pretty pretty pretty pretty pretty pretty pretty 

[START] two kids playing fountain [END] NIL NIL NIL
[START] pretty pretty pretty pretty pretty pretty pretty pretty 

[START] man brown shirt [END] NIL NIL NIL NIL
[START] pretty pretty pretty pretty pretty pretty pretty pretty 

Epoch:1, Iteration: 115, Loss: 142.64, TimeElapsed: 25.05Min
Working (10, 200) torch.Size([10, 9])
Normal torch.Size([10, 9]) torch.Size([10, 9, 2512])
[START] cyclist performing stunt [END] NIL NIL NIL NIL
[START] two people NIL NIL NIL NIL NIL NIL 

[START] group men boys look upwards [END] NIL NIL
[START] two people NIL NIL NIL NIL NIL NIL 

[START] boy points something behind [END] NIL NIL NIL
[START] two people NIL NIL NIL NIL NIL NIL 

[START] black white dog [END] NIL NIL NIL NIL
[START] two people NIL NIL NIL NIL NIL NIL 

[START] man women outside [END] NIL NIL NIL NIL
[START] two people NIL NIL NIL NIL NIL NIL 

[START] man sells potatoes [END] NIL NIL NIL NIL
[START] two people NIL NIL NIL NIL NIL NIL 

[START] two men running [END] NIL NIL NIL NIL
[START] two people NIL NIL NIL NIL NIL NIL 

[START] man white [END] NIL NIL NIL NIL NIL
[START] two people NIL NIL NIL NIL NIL NIL 

[START] men working suites looking [END] NIL NIL NIL
[START] two people NIL NIL NIL NIL NIL NIL 

[START] two women hats decorated [END] NIL NIL NIL
[START] two people NIL NIL NIL NIL NIL NIL 

Epoch:1, Iteration: 116, Loss: 123.69, TimeElapsed: 25.09Min
Working (10, 200) torch.Size([10, 9])
Normal torch.Size([10, 9]) torch.Size([10, 9, 2512])
[START] three people walking rocks [END] NIL NIL NIL
[START] woman woman NIL NIL NIL NIL NIL NIL 

[START] man red [END] NIL NIL NIL NIL NIL
[START] woman woman NIL NIL NIL NIL NIL NIL 

[START] man holding remote [END] NIL NIL NIL NIL
[START] woman woman NIL NIL NIL NIL NIL NIL 

[START] people playing water [END] NIL NIL NIL NIL
[START] woman woman NIL NIL NIL NIL NIL NIL 

[START] girl blue hair [END] NIL NIL NIL NIL
[START] woman woman NIL NIL NIL NIL NIL NIL 

[START] black male dressed blue [END] NIL NIL NIL
[START] woman woman NIL NIL NIL NIL NIL NIL 

[START] golfer finished swinging [END] NIL NIL NIL NIL
[START] woman woman NIL NIL NIL NIL NIL NIL 

[START] men wearing sunglasses backs [END] NIL NIL NIL
[START] woman woman NIL NIL NIL NIL NIL NIL 

[START] man lies mat [END] NIL NIL NIL NIL
[START] woman woman NIL NIL NIL NIL NIL NIL 

[START] dog running [END] NIL NIL NIL NIL NIL
[START] woman woman NIL NIL NIL NIL NIL NIL 

Epoch:1, Iteration: 117, Loss: 123.51, TimeElapsed: 25.13Min
Working (10, 200) torch.Size([10, 9])
Normal torch.Size([10, 9]) torch.Size([10, 9, 2512])
[START] lady wearing apron [END] NIL NIL NIL NIL
[START] cyclist cyclist NIL NIL NIL NIL NIL NIL 

[START] two people black vests [END] NIL NIL NIL
[START] cyclist cyclist NIL NIL NIL NIL NIL NIL 

[START] six men seat [END] NIL NIL NIL NIL
[START] cyclist cyclist NIL NIL NIL NIL NIL NIL 

[START] man yellow [END] NIL NIL NIL NIL NIL
[START] cyclist cyclist NIL NIL NIL NIL NIL NIL 

[START] worker stands scaffolding [END] NIL NIL NIL NIL
[START] cyclist cyclist NIL NIL NIL NIL NIL NIL 

[START] small group people enjoy [END] NIL NIL NIL
[START] cyclist cyclist NIL NIL NIL NIL NIL NIL 

[START] baseball players playing [END] NIL NIL NIL NIL
[START] cyclist cyclist NIL NIL NIL NIL NIL NIL 

[START] man holding microphone front [END] NIL NIL NIL
[START] cyclist cyclist NIL NIL NIL NIL NIL NIL 

[START] two children two adult [END] NIL NIL NIL
[START] cyclist cyclist NIL NIL NIL NIL NIL NIL 

[START] three people sitting around [END] NIL NIL NIL
[START] cyclist cyclist NIL NIL NIL NIL NIL NIL 

Epoch:1, Iteration: 118, Loss: 84.62, TimeElapsed: 25.17Min
Working (10, 200) torch.Size([10, 9])
Normal torch.Size([10, 9]) torch.Size([10, 9, 2512])
[START] audience live concert cheering [END] NIL NIL NIL
[START] two NIL NIL NIL NIL NIL NIL NIL 

[START] couple talks man sitting [END] NIL NIL NIL
[START] two NIL NIL NIL NIL NIL NIL NIL 

[START] four children smiling playing [END] NIL NIL NIL
[START] two NIL NIL NIL NIL NIL NIL NIL 

[START] two people one wearing blue [END] NIL NIL
[START] two NIL NIL NIL NIL NIL NIL NIL 

[START] little boy gown [END] NIL NIL NIL NIL
[START] two NIL NIL NIL NIL NIL NIL NIL 

[START] young woman running [END] NIL NIL NIL NIL
[START] two NIL NIL NIL NIL NIL NIL NIL 

[START] lady white crutches [END] NIL NIL NIL NIL
[START] two NIL NIL NIL NIL NIL NIL NIL 

[START] man woman sitting [END] NIL NIL NIL NIL
[START] two NIL NIL NIL NIL NIL NIL NIL 

[START] brown dog [END] NIL NIL NIL NIL NIL
[START] two NIL NIL NIL NIL NIL NIL NIL 

[START] man blue selling [END] NIL NIL NIL NIL
[START] two NIL NIL NIL NIL NIL NIL NIL 

Epoch:1, Iteration: 119, Loss: 92.02, TimeElapsed: 25.22Min
Working (10, 200) torch.Size([10, 9])
Normal torch.Size([10, 9]) torch.Size([10, 9, 2512])
[START] dog running [END] NIL NIL NIL NIL NIL
[START] apron apron apron apron apron apron apron apron 

[START] brown dog holds object [END] NIL NIL NIL
[START] apron apron apron apron apron apron apron apron 

[START] old man takes [END] NIL NIL NIL NIL
[START] apron apron apron apron apron apron apron apron 

[START] man drinks [END] NIL NIL NIL NIL NIL
[START] apron apron apron apron apron apron apron apron 

[START] dog running [END] NIL NIL NIL NIL NIL
[START] apron apron apron apron apron apron apron apron 

[START] people walking [END] NIL NIL NIL NIL NIL
[START] apron apron apron apron apron apron apron apron 

[START] lots colorful foods [END] NIL NIL NIL NIL
[START] apron apron apron apron apron apron apron apron 

[START] man blue shirt [END] NIL NIL NIL NIL
[START] apron apron apron apron apron apron apron apron 

[START] three asian women watching [END] NIL NIL NIL
[START] apron apron apron apron apron apron apron apron 

[START] man bravely cuts [END] NIL NIL NIL NIL
[START] apron apron apron apron apron apron apron apron 

Epoch:1, Iteration: 120, Loss: 113.35, TimeElapsed: 25.26Min
Working (10, 200) torch.Size([10, 9])
Normal torch.Size([10, 9]) torch.Size([10, 9, 2512])
[START] man black attire [END] NIL NIL NIL NIL
[START] man man man man man man man man 

[START] woman dressed mostly black standing [END] NIL NIL
[START] man man man man man man man man 

[START] woman salon black hair [END] NIL NIL NIL
[START] man man man man man man man man 

[START] cowboy horse [END] NIL NIL NIL NIL NIL
[START] man man man man man man man man 

[START] two young children looking [END] NIL NIL NIL
[START] man man man man man man man man 

[START] persons different races ethnicities [END] NIL NIL NIL
[START] man man man man man man man man 

[START] white horse hauling huge pile [END] NIL NIL
[START] man man man man man man man man 

[START] trailer hitch holding [END] NIL NIL NIL NIL
[START] man man man man man man man man 

[START] two men one girl [END] NIL NIL NIL
[START] man man man man man man man man 

[START] boy sits [END] NIL NIL NIL NIL NIL
[START] man man man man man man man man 

Epoch:1, Iteration: 121, Loss: 152.47, TimeElapsed: 25.3Min
Working (10, 200) torch.Size([10, 9])
Normal torch.Size([10, 9]) torch.Size([10, 9, 2512])
[START] nine female dancers wear tutus [END] NIL NIL
[START] men NIL NIL NIL NIL NIL NIL NIL 

[START] several people lean together [END] NIL NIL NIL
[START] men NIL NIL NIL NIL NIL NIL NIL 

[START] man waterskiing one [END] NIL NIL NIL NIL
[START] men NIL NIL NIL NIL NIL NIL NIL 

[START] fat lady feeding young [END] NIL NIL NIL
[START] men NIL NIL NIL NIL NIL NIL NIL 

[START] man red [END] NIL NIL NIL NIL NIL
[START] men NIL NIL NIL NIL NIL NIL NIL 

[START] two asian men black jackets smiling [END] NIL
[START] men NIL NIL NIL NIL NIL NIL NIL 

[START] woman long white dress [END] NIL NIL NIL
[START] men NIL NIL NIL NIL NIL NIL NIL 

[START] guy looking [END] NIL NIL NIL NIL NIL
[START] men NIL NIL NIL NIL NIL NIL NIL 

[START] men dressed winter clothing stand [END] NIL NIL
[START] men NIL NIL NIL NIL NIL NIL NIL 

[START] woman beautiful [END] NIL NIL NIL NIL NIL
[START] men NIL NIL NIL NIL NIL NIL NIL 

Epoch:1, Iteration: 122, Loss: 134.17, TimeElapsed: 25.34Min
Working (10, 200) torch.Size([10, 9])
Normal torch.Size([10, 9]) torch.Size([10, 9, 2512])
[START] person ski [END] NIL NIL NIL NIL NIL
[START] balcony balcony balcony balcony balcony balcony balcony balcony 

[START] young boy blond hair playing [END] NIL NIL
[START] balcony balcony balcony balcony balcony balcony balcony balcony 

[START] hiker wearing orange [END] NIL NIL NIL NIL
[START] balcony balcony balcony balcony balcony balcony balcony balcony 

[START] bobcat tractor scoops [END] NIL NIL NIL NIL
[START] balcony balcony balcony balcony balcony balcony balcony balcony 

[START] boy points [END] NIL NIL NIL NIL NIL
[START] balcony balcony balcony balcony balcony balcony balcony balcony 

[START] young polo player wearing [END] NIL NIL NIL
[START] balcony balcony balcony balcony balcony balcony balcony balcony 

[START] baseball team pitcher throwing ball [END] NIL NIL
[START] balcony balcony balcony balcony balcony balcony balcony balcony 

[START] child green hat [END] NIL NIL NIL NIL
[START] balcony balcony balcony balcony balcony balcony balcony balcony 

[START] three people resting [END] NIL NIL NIL NIL
[START] balcony balcony balcony balcony balcony balcony balcony balcony 

[START] two men paint park bench [END] NIL NIL
[START] balcony balcony balcony balcony balcony balcony balcony balcony 

Epoch:1, Iteration: 123, Loss: 120.57, TimeElapsed: 25.38Min
Working (10, 200) torch.Size([10, 9])
Normal torch.Size([10, 9]) torch.Size([10, 9, 2512])
[START] two female soccer players compete [END] NIL NIL
[START] reads NIL NIL NIL NIL NIL NIL NIL 

[START] man stands front [END] NIL NIL NIL NIL
[START] reads NIL NIL NIL NIL NIL NIL NIL 

[START] woman black [END] NIL NIL NIL NIL NIL
[START] reads NIL NIL NIL NIL NIL NIL NIL 

[START] brown white dog jumps [END] NIL NIL NIL
[START] reads NIL NIL NIL NIL NIL NIL NIL 

[START] man lady holding [END] NIL NIL NIL NIL
[START] reads NIL NIL NIL NIL NIL NIL NIL 

[START] male teenager breakdancing [END] NIL NIL NIL NIL
[START] reads NIL NIL NIL NIL NIL NIL NIL 

[START] protesters hold signs regarding troops [END] NIL NIL
[START] reads NIL NIL NIL NIL NIL NIL NIL 

[START] chef cooking multiple [END] NIL NIL NIL NIL
[START] reads NIL NIL NIL NIL NIL NIL NIL 

[START] two boys wooded [END] NIL NIL NIL NIL
[START] reads NIL NIL NIL NIL NIL NIL NIL 

[START] black white bird [END] NIL NIL NIL NIL
[START] reads NIL NIL NIL NIL NIL NIL NIL 

Epoch:1, Iteration: 124, Loss: 142.77, TimeElapsed: 25.43Min
Working (10, 200) torch.Size([10, 9])
Normal torch.Size([10, 9]) torch.Size([10, 9, 2512])
[START] shirtless man blue [END] NIL NIL NIL NIL
[START] [END] NIL NIL NIL NIL NIL NIL NIL 

[START] guy wearing green shirt [END] NIL NIL NIL
[START] [END] NIL NIL NIL NIL NIL NIL NIL 

[START] group people competing [END] NIL NIL NIL NIL
[START] [END] NIL NIL NIL NIL NIL NIL NIL 

[START] male soccer player running [END] NIL NIL NIL
[START] [END] NIL NIL NIL NIL NIL NIL NIL 

[START] little girl checking [END] NIL NIL NIL NIL
[START] [END] NIL NIL NIL NIL NIL NIL NIL 

[START] beach woman balancing [END] NIL NIL NIL NIL
[START] [END] NIL NIL NIL NIL NIL NIL NIL 

[START] guy walking bicycle [END] NIL NIL NIL NIL
[START] [END] NIL NIL NIL NIL NIL NIL NIL 

[START] man woman walking together [END] NIL NIL NIL
[START] [END] NIL NIL NIL NIL NIL NIL NIL 

[START] girl tie [END] NIL NIL NIL NIL NIL
[START] [END] NIL NIL NIL NIL NIL NIL NIL 

[START] big bald man checkered button [END] NIL NIL
[START] [END] NIL NIL NIL NIL NIL NIL NIL 

Epoch:1, Iteration: 125, Loss: 104.72, TimeElapsed: 25.47Min
Working (10, 200) torch.Size([10, 9])
Normal torch.Size([10, 9]) torch.Size([10, 9, 2512])
[START] adventurous snowboarder rips powder snow [END] NIL NIL
[START] [END] [END] NIL NIL NIL NIL NIL NIL 

[START] three children looking water [END] NIL NIL NIL
[START] [END] [END] NIL NIL NIL NIL NIL NIL 

[START] man wearing blue shirt tan [END] NIL NIL
[START] [END] [END] NIL NIL NIL NIL NIL NIL 

[START] young baby wearing blue [END] NIL NIL NIL
[START] [END] [END] NIL NIL NIL NIL NIL NIL 

[START] foreign kids playing type [END] NIL NIL NIL
[START] [END] [END] NIL NIL NIL NIL NIL NIL 

[START] man wearing red shirt [END] NIL NIL NIL
[START] [END] [END] NIL NIL NIL NIL NIL NIL 

[START] hockey player jumps joy [END] NIL NIL NIL
[START] [END] [END] NIL NIL NIL NIL NIL NIL 

[START] white boy prepares food [END] NIL NIL NIL
[START] [END] [END] NIL NIL NIL NIL NIL NIL 

[START] woman pink shirt [END] NIL NIL NIL NIL
[START] [END] [END] NIL NIL NIL NIL NIL NIL 

[START] several people setting food [END] NIL NIL NIL
[START] [END] [END] NIL NIL NIL NIL NIL NIL 

Epoch:1, Iteration: 126, Loss: 124.14, TimeElapsed: 25.52Min
Working (10, 200) torch.Size([10, 9])
Normal torch.Size([10, 9]) torch.Size([10, 9, 2512])
[START] man surfing [END] NIL NIL NIL NIL NIL
[START] group NIL NIL NIL NIL NIL NIL NIL 

[START] woman yellow [END] NIL NIL NIL NIL NIL
[START] group NIL NIL NIL NIL NIL NIL NIL 

[START] five men ladders cleaning [END] NIL NIL NIL
[START] group NIL NIL NIL NIL NIL NIL NIL 

[START] man wearing shorts [END] NIL NIL NIL NIL
[START] group NIL NIL NIL NIL NIL NIL NIL 

[START] group people dressed [END] NIL NIL NIL NIL
[START] group NIL NIL NIL NIL NIL NIL NIL 

[START] man women holding onto [END] NIL NIL NIL
[START] group NIL NIL NIL NIL NIL NIL NIL 

[START] jockey racing horse [END] NIL NIL NIL NIL
[START] group NIL NIL NIL NIL NIL NIL NIL 

[START] musical band vocalist [END] NIL NIL NIL NIL
[START] group NIL NIL NIL NIL NIL NIL NIL 

[START] man fishing [END] NIL NIL NIL NIL NIL
[START] group NIL NIL NIL NIL NIL NIL NIL 

[START] group children standing shallow [END] NIL NIL NIL
[START] group NIL NIL NIL NIL NIL NIL NIL 

Epoch:1, Iteration: 127, Loss: 131.15, TimeElapsed: 25.57Min
Working (10, 200) torch.Size([10, 9])
Normal torch.Size([10, 9]) torch.Size([10, 9, 2512])
[START] man wearing black shirt glasses [END] NIL NIL
[START] shirt shirt NIL NIL NIL NIL NIL NIL 

[START] woman black shirt [END] NIL NIL NIL NIL
[START] shirt shirt NIL NIL NIL NIL NIL NIL 

[START] young couple many [END] NIL NIL NIL NIL
[START] shirt shirt NIL NIL NIL NIL NIL NIL 

[START] girl red [END] NIL NIL NIL NIL NIL
[START] shirt shirt NIL NIL NIL NIL NIL NIL 

[START] people eat green trees [END] NIL NIL NIL
[START] shirt shirt NIL NIL NIL NIL NIL NIL 

[START] little boy looks [END] NIL NIL NIL NIL
[START] shirt shirt NIL NIL NIL NIL NIL NIL 

[START] little boy orange shorts playing [END] NIL NIL
[START] shirt shirt NIL NIL NIL NIL NIL NIL 

[START] people lay vegetables blankets [END] NIL NIL NIL
[START] shirt shirt NIL NIL NIL NIL NIL NIL 

[START] two brown dogs creating [END] NIL NIL NIL
[START] shirt shirt NIL NIL NIL NIL NIL NIL 

[START] man black white [END] NIL NIL NIL NIL
[START] shirt shirt NIL NIL NIL NIL NIL NIL 

Epoch:1, Iteration: 128, Loss: 101.03, TimeElapsed: 25.61Min
Working (10, 200) torch.Size([10, 9])
Normal torch.Size([10, 9]) torch.Size([10, 9, 2512])
[START] group boys riding [END] NIL NIL NIL NIL
[START] white white white NIL NIL NIL NIL NIL 

[START] two dogs standing next [END] NIL NIL NIL
[START] white white white NIL NIL NIL NIL NIL 

[START] woman red shirt [END] NIL NIL NIL NIL
[START] white white white NIL NIL NIL NIL NIL 

[START] two people eating barbecue ribs night [END] NIL
[START] white white white NIL NIL NIL NIL NIL 

[START] woman red sitting [END] NIL NIL NIL NIL
[START] white white white NIL NIL NIL NIL NIL 

[START] little girl big brown bright eyes [END] NIL
[START] white white white NIL NIL NIL NIL NIL 

[START] girl holds clock explaining [END] NIL NIL NIL
[START] white white white NIL NIL NIL NIL NIL 

[START] woman gestures someone [END] NIL NIL NIL NIL
[START] white white white NIL NIL NIL NIL NIL 

[START] men women bikes [END] NIL NIL NIL NIL
[START] white white white NIL NIL NIL NIL NIL 

[START] military men standing guns [END] NIL NIL NIL
[START] white white white NIL NIL NIL NIL NIL 

Epoch:1, Iteration: 129, Loss: 141.23, TimeElapsed: 25.66Min
Working (10, 200) torch.Size([10, 9])
Normal torch.Size([10, 9]) torch.Size([10, 9, 2512])
[START] man angry expression [END] NIL NIL NIL NIL
[START] competing competing competing competing competing competing competing competing 

[START] small boy taking [END] NIL NIL NIL NIL
[START] competing competing competing competing competing competing competing competing 

[START] man wearing [END] NIL NIL NIL NIL NIL
[START] competing competing competing competing competing competing competing competing 

[START] three musicians posing [END] NIL NIL NIL NIL
[START] competing competing competing competing competing competing competing competing 

[START] man woman face [END] NIL NIL NIL NIL
[START] competing competing competing competing competing competing competing competing 

[START] man using sledgehammer [END] NIL NIL NIL NIL
[START] competing competing competing competing competing competing competing competing 

[START] black brown white dog jumping [END] NIL NIL
[START] competing competing competing competing competing competing competing competing 

[START] man mask [END] NIL NIL NIL NIL NIL
[START] competing competing competing competing competing competing competing competing 

[START] man harness [END] NIL NIL NIL NIL NIL
[START] competing competing competing competing competing competing competing competing 

[START] children look statue [END] NIL NIL NIL NIL
[START] competing competing competing competing competing competing competing competing 

Epoch:1, Iteration: 130, Loss: 111.67, TimeElapsed: 25.71Min
Working (10, 200) torch.Size([10, 9])
Normal torch.Size([10, 9]) torch.Size([10, 9, 2512])
[START] girl innertube [END] NIL NIL NIL NIL NIL
[START] vegetables vegetables vegetables vegetables vegetables vegetables vegetables vegetables 

[START] three people working computers [END] NIL NIL NIL
[START] vegetables vegetables vegetables vegetables vegetables vegetables vegetables vegetables 

[START] two women hold promotional poster [END] NIL NIL
[START] vegetables vegetables vegetables vegetables vegetables vegetables vegetables vegetables 

[START] black man white shirt shaving [END] NIL NIL
[START] vegetables vegetables vegetables vegetables vegetables vegetables vegetables vegetables 

[START] lean dog runs green grass [END] NIL NIL
[START] vegetables vegetables vegetables vegetables vegetables vegetables vegetables vegetables 

[START] hiker climbs mountain windy [END] NIL NIL NIL
[START] vegetables vegetables vegetables vegetables vegetables vegetables vegetables vegetables 

[START] woman sitting [END] NIL NIL NIL NIL NIL
[START] vegetables vegetables vegetables vegetables vegetables vegetables vegetables vegetables 

[START] two teenage girls texting [END] NIL NIL NIL
[START] vegetables vegetables vegetables vegetables vegetables vegetables vegetables vegetables 

[START] young boy watching woman walk [END] NIL NIL
[START] vegetables vegetables vegetables vegetables vegetables vegetables vegetables vegetables 

[START] woman looking window [END] NIL NIL NIL NIL
[START] vegetables vegetables vegetables vegetables vegetables vegetables vegetables vegetables 

Epoch:1, Iteration: 131, Loss: 152.09, TimeElapsed: 25.75Min
Working (10, 200) torch.Size([10, 9])
Normal torch.Size([10, 9]) torch.Size([10, 9, 2512])
[START] holiday display [END] NIL NIL NIL NIL NIL
[START] harness harness harness harness harness harness harness harness 

[START] child jumping pool [END] NIL NIL NIL NIL
[START] harness harness harness harness harness harness harness harness 

[START] man yellow shirt [END] NIL NIL NIL NIL
[START] harness harness harness harness harness harness harness harness 

[START] man bicycle leads horse [END] NIL NIL NIL
[START] harness harness harness harness harness harness harness harness 

[START] people park [END] NIL NIL NIL NIL NIL
[START] harness harness harness harness harness harness harness harness 

[START] people fixing palace door [END] NIL NIL NIL
[START] harness harness harness harness harness harness harness harness 

[START] people stand reading papers [END] NIL NIL NIL
[START] harness harness harness harness harness harness harness harness 

[START] young girl laughs [END] NIL NIL NIL NIL
[START] harness harness harness harness harness harness harness harness 

[START] woman riding bike [END] NIL NIL NIL NIL
[START] harness harness harness harness harness harness harness harness 

[START] five people wearing winter jackets [END] NIL NIL
[START] harness harness harness harness harness harness harness harness 

Epoch:1, Iteration: 132, Loss: 137.65, TimeElapsed: 25.79Min
Working (10, 200) torch.Size([10, 9])
Normal torch.Size([10, 9]) torch.Size([10, 9, 2512])
[START] african american looking phone [END] NIL NIL NIL
[START] statue statue statue statue statue statue statue statue 

[START] three people conversation [END] NIL NIL NIL NIL
[START] statue statue statue statue statue statue statue statue 

[START] old man hat standing [END] NIL NIL NIL
[START] statue statue statue statue statue statue statue statue 

[START] man red [END] NIL NIL NIL NIL NIL
[START] statue statue statue statue statue statue statue statue 

[START] two men military [END] NIL NIL NIL NIL
[START] statue statue statue statue statue statue statue statue 

[START] two dogs playing together [END] NIL NIL NIL
[START] statue statue statue statue statue statue statue statue 

[START] man wearing black shirt [END] NIL NIL NIL
[START] statue statue statue statue statue statue statue statue 

[START] three ballerinas perform arabesque [END] NIL NIL NIL
[START] statue statue statue statue statue statue statue statue 

[START] guy wearing black [END] NIL NIL NIL NIL
[START] statue statue statue statue statue statue statue statue 

[START] woman carrying [END] NIL NIL NIL NIL NIL
[START] statue statue statue statue statue statue statue statue 

Epoch:1, Iteration: 133, Loss: 110.23, TimeElapsed: 25.84Min
Working (10, 200) torch.Size([10, 9])
Normal torch.Size([10, 9]) torch.Size([10, 9, 2512])
[START] man hard [END] NIL NIL NIL NIL NIL
[START] tractor NIL NIL NIL NIL NIL NIL NIL 

[START] group children look [END] NIL NIL NIL NIL
[START] tractor NIL NIL NIL NIL NIL NIL NIL 

[START] man woman [END] NIL NIL NIL NIL NIL
[START] tractor NIL NIL NIL NIL NIL NIL NIL 

[START] people equipped hiking packs [END] NIL NIL NIL
[START] tractor NIL NIL NIL NIL NIL NIL NIL 

[START] man top hat [END] NIL NIL NIL NIL
[START] tractor NIL NIL NIL NIL NIL NIL NIL 

[START] girl white [END] NIL NIL NIL NIL NIL
[START] tractor NIL NIL NIL NIL NIL NIL NIL 

[START] people face masks sweeping [END] NIL NIL NIL
[START] tractor NIL NIL NIL NIL NIL NIL NIL 

[START] woman sits [END] NIL NIL NIL NIL NIL
[START] tractor NIL NIL NIL NIL NIL NIL NIL 

[START] two women walk street [END] NIL NIL NIL
[START] tractor NIL NIL NIL NIL NIL NIL NIL 

[START] two brown dogs runs [END] NIL NIL NIL
[START] tractor NIL NIL NIL NIL NIL NIL NIL 

Epoch:1, Iteration: 134, Loss: 129.55, TimeElapsed: 25.88Min
Working (10, 200) torch.Size([10, 9])
Normal torch.Size([10, 9]) torch.Size([10, 9, 2512])
[START] man standing [END] NIL NIL NIL NIL NIL
[START] lean NIL NIL NIL NIL NIL NIL NIL 

[START] two younger people [END] NIL NIL NIL NIL
[START] lean NIL NIL NIL NIL NIL NIL NIL 

[START] brown dog walks snow [END] NIL NIL NIL
[START] lean NIL NIL NIL NIL NIL NIL NIL 

[START] little girl looking [END] NIL NIL NIL NIL
[START] lean NIL NIL NIL NIL NIL NIL NIL 

[START] people mill around outside [END] NIL NIL NIL
[START] lean NIL NIL NIL NIL NIL NIL NIL 

[START] people walking sidewalk next [END] NIL NIL NIL
[START] lean NIL NIL NIL NIL NIL NIL NIL 

[START] man trying break [END] NIL NIL NIL NIL
[START] lean NIL NIL NIL NIL NIL NIL NIL 

[START] young girl mixes flour [END] NIL NIL NIL
[START] lean NIL NIL NIL NIL NIL NIL NIL 

[START] man wearing helmet [END] NIL NIL NIL NIL
[START] lean NIL NIL NIL NIL NIL NIL NIL 

[START] woman speaking front [END] NIL NIL NIL NIL
[START] lean NIL NIL NIL NIL NIL NIL NIL 

Epoch:1, Iteration: 135, Loss: 113.67, TimeElapsed: 25.93Min
Working (10, 200) torch.Size([10, 9])
Normal torch.Size([10, 9]) torch.Size([10, 9, 2512])
[START] two older boys ice skating [END] NIL NIL
[START] NIL NIL NIL NIL NIL NIL NIL NIL 

[START] man walking desert [END] NIL NIL NIL NIL
[START] NIL NIL NIL NIL NIL NIL NIL NIL 

[START] large man plays saxophone [END] NIL NIL NIL
[START] NIL NIL NIL NIL NIL NIL NIL NIL 

[START] man yellow [END] NIL NIL NIL NIL NIL
[START] NIL NIL NIL NIL NIL NIL NIL NIL 

[START] man black jacket reading [END] NIL NIL NIL
[START] NIL NIL NIL NIL NIL NIL NIL NIL 

[START] young man backwards [END] NIL NIL NIL NIL
[START] NIL NIL NIL NIL NIL NIL NIL NIL 

[START] small blond boy dressed [END] NIL NIL NIL
[START] NIL NIL NIL NIL NIL NIL NIL NIL 

[START] crowd people walking past [END] NIL NIL NIL
[START] NIL NIL NIL NIL NIL NIL NIL NIL 

[START] two men fighting boxing gloves [END] NIL NIL
[START] NIL NIL NIL NIL NIL NIL NIL NIL 

[START] man riding bicycle [END] NIL NIL NIL NIL
[START] NIL NIL NIL NIL NIL NIL NIL NIL 

Epoch:1, Iteration: 136, Loss: 142.85, TimeElapsed: 25.97Min
Working (10, 200) torch.Size([10, 9])
Normal torch.Size([10, 9]) torch.Size([10, 9, 2512])
[START] pilot leaving [END] NIL NIL NIL NIL NIL
[START] teenage NIL NIL NIL NIL NIL NIL NIL 

[START] little league player points [END] NIL NIL NIL
[START] teenage NIL NIL NIL NIL NIL NIL NIL 

[START] young women [END] NIL NIL NIL NIL NIL
[START] teenage NIL NIL NIL NIL NIL NIL NIL 

[START] ralley cars muscle position [END] NIL NIL NIL
[START] teenage NIL NIL NIL NIL NIL NIL NIL 

[START] young women pink [END] NIL NIL NIL NIL
[START] teenage NIL NIL NIL NIL NIL NIL NIL 

[START] young woman carrying several [END] NIL NIL NIL
[START] teenage NIL NIL NIL NIL NIL NIL NIL 

[START] four guys cowboy hats [END] NIL NIL NIL
[START] teenage NIL NIL NIL NIL NIL NIL NIL 

[START] little boy sitting snow [END] NIL NIL NIL
[START] teenage NIL NIL NIL NIL NIL NIL NIL 

[START] man black [END] NIL NIL NIL NIL NIL
[START] teenage NIL NIL NIL NIL NIL NIL NIL 

[START] man jersey 23 [END] NIL NIL NIL NIL
[START] teenage NIL NIL NIL NIL NIL NIL NIL 

Epoch:1, Iteration: 137, Loss: 128.39, TimeElapsed: 26.01Min
Working (10, 200) torch.Size([10, 9])
Normal torch.Size([10, 9]) torch.Size([10, 9, 2512])
[START] child green apple [END] NIL NIL NIL NIL
[START] two [END] [END] [END] [END] [END] [END] [END] 

[START] cat sitting beside someone wearing pink [END] NIL
[START] two [END] [END] [END] [END] [END] [END] [END] 

[START] two people sitting [END] NIL NIL NIL NIL
[START] two [END] [END] [END] [END] [END] [END] [END] 

[START] three chefs uniform working [END] NIL NIL NIL
[START] two [END] [END] [END] [END] [END] [END] [END] 

[START] black lab tags frolicks [END] NIL NIL NIL
[START] two [END] [END] [END] [END] [END] [END] [END] 

[START] one shirtless kid holding [END] NIL NIL NIL
[START] two [END] [END] [END] [END] [END] [END] [END] 

[START] three boys baggy bathing suits [END] NIL NIL
[START] two [END] [END] [END] [END] [END] [END] [END] 

[START] woman black dress [END] NIL NIL NIL NIL
[START] two [END] [END] [END] [END] [END] [END] [END] 

[START] several men walking [END] NIL NIL NIL NIL
[START] two [END] [END] [END] [END] [END] [END] [END] 

[START] black dog running [END] NIL NIL NIL NIL
[START] two [END] [END] [END] [END] [END] [END] [END] 

Epoch:1, Iteration: 138, Loss: 127.11, TimeElapsed: 26.06Min
Working (10, 200) torch.Size([10, 9])
Normal torch.Size([10, 9]) torch.Size([10, 9, 2512])
[START] dog running [END] NIL NIL NIL NIL NIL
[START] two [END] [END] [END] [END] [END] [END] [END] 

[START] several construction working laying [END] NIL NIL NIL
[START] two [END] [END] [END] [END] [END] [END] [END] 

[START] woman red shirt [END] NIL NIL NIL NIL
[START] two [END] [END] [END] [END] [END] [END] [END] 

[START] four people sit park [END] NIL NIL NIL
[START] two [END] [END] [END] [END] [END] [END] [END] 

[START] two female friends hugging [END] NIL NIL NIL
[START] two [END] [END] [END] [END] [END] [END] [END] 

[START] muscular african american man pan handling using [END]
[START] two [END] [END] [END] [END] [END] [END] [END] 

[START] group dark haired men [END] NIL NIL NIL
[START] two [END] [END] [END] [END] [END] [END] [END] 

[START] little boy playing [END] NIL NIL NIL NIL
[START] two [END] [END] [END] [END] [END] [END] [END] 

[START] young female wearing sandals [END] NIL NIL NIL
[START] two [END] [END] [END] [END] [END] [END] [END] 

[START] young lady [END] NIL NIL NIL NIL NIL
[START] two [END] [END] [END] [END] [END] [END] [END] 

Epoch:1, Iteration: 139, Loss: 138.2, TimeElapsed: 26.1Min
Working (10, 200) torch.Size([10, 9])
Normal torch.Size([10, 9]) torch.Size([10, 9, 2512])
[START] man wearing yellow hard hat [END] NIL NIL
[START] people people NIL NIL NIL NIL NIL NIL 

[START] construction crew working several spots [END] NIL NIL
[START] people people NIL NIL NIL NIL NIL NIL 

[START] man orange shirt working [END] NIL NIL NIL
[START] people people NIL NIL NIL NIL NIL NIL 

[START] five asian doctors green [END] NIL NIL NIL
[START] people people NIL NIL NIL NIL NIL NIL 

[START] child walking [END] NIL NIL NIL NIL NIL
[START] people people NIL NIL NIL NIL NIL NIL 

[START] hockey goalie stops puck [END] NIL NIL NIL
[START] people people NIL NIL NIL NIL NIL NIL 

[START] group four children [END] NIL NIL NIL NIL
[START] people people NIL NIL NIL NIL NIL NIL 

[START] young man smiles holds [END] NIL NIL NIL
[START] people people NIL NIL NIL NIL NIL NIL 

[START] little white dog runs [END] NIL NIL NIL
[START] people people NIL NIL NIL NIL NIL NIL 

[START] woman holding signs advertising [END] NIL NIL NIL
[START] people people NIL NIL NIL NIL NIL NIL 

Epoch:1, Iteration: 140, Loss: 145.73, TimeElapsed: 26.14Min
Working (10, 200) torch.Size([10, 9])
Normal torch.Size([10, 9]) torch.Size([10, 9, 2512])
[START] two men black clearing brush [END] NIL NIL
[START] woman NIL NIL NIL NIL NIL NIL NIL 

[START] man sitting clear [END] NIL NIL NIL NIL
[START] woman NIL NIL NIL NIL NIL NIL NIL 

[START] young girl blue jacket [END] NIL NIL NIL
[START] woman NIL NIL NIL NIL NIL NIL NIL 

[START] young female sitting [END] NIL NIL NIL NIL
[START] woman NIL NIL NIL NIL NIL NIL NIL 

[START] many men walk [END] NIL NIL NIL NIL
[START] woman NIL NIL NIL NIL NIL NIL NIL 

[START] woman writing [END] NIL NIL NIL NIL NIL
[START] woman NIL NIL NIL NIL NIL NIL NIL 

[START] child yellow balloon walks [END] NIL NIL NIL
[START] woman NIL NIL NIL NIL NIL NIL NIL 

[START] woman sitting beach closes [END] NIL NIL NIL
[START] woman NIL NIL NIL NIL NIL NIL NIL 

[START] male african american wearing jeans [END] NIL NIL
[START] woman NIL NIL NIL NIL NIL NIL NIL 

[START] group laughing people [END] NIL NIL NIL NIL
[START] woman NIL NIL NIL NIL NIL NIL NIL 

Epoch:1, Iteration: 141, Loss: 125.13, TimeElapsed: 26.19Min
Working (10, 200) torch.Size([10, 9])
Normal torch.Size([10, 9]) torch.Size([10, 9, 2512])
[START] three dogs field [END] NIL NIL NIL NIL
young young men men men men men men men 

[START] children fishing bridge [END] NIL NIL NIL NIL
young young men men men men men men men 

[START] man demonstrating industrial saw [END] NIL NIL NIL
young young men men men men men men men 

[START] man wearing colorful clothing medallions [END] NIL NIL
young young men men men men men men men 

[START] bricklayer smoothing concrete [END] NIL NIL NIL NIL
young young men men men men men men men 

[START] asian man sits [END] NIL NIL NIL NIL
young young men men men men men men men 

[START] large group people lining [END] NIL NIL NIL
young young men men men men men men men 

[START] woman green [END] NIL NIL NIL NIL NIL
young young men men men men men men men 

[START] 3 girls fun [END] NIL NIL NIL NIL
young young men men men men men men men 

[START] black tan dog [END] NIL NIL NIL NIL
young young men men men men men men men 

Epoch:1, Iteration: 142, Loss: 157.67, TimeElapsed: 26.23Min
Working (10, 200) torch.Size([10, 9])
Normal torch.Size([10, 9]) torch.Size([10, 9, 2512])
[START] man dressed martial [END] NIL NIL NIL NIL
[START] three jersey park park park park park park 

[START] woman leads dog [END] NIL NIL NIL NIL
[START] three jersey park park park park park park 

[START] little girl [END] NIL NIL NIL NIL NIL
[START] three jersey park park park park park park 

[START] people taking pictures bicyclists biking [END] NIL NIL
[START] three jersey park park park park park park 

[START] bulldog sheepdog [END] NIL NIL NIL NIL NIL
[START] three jersey park park park park park park 

[START] three dogs stand [END] NIL NIL NIL NIL
[START] three jersey park park park park park park 

[START] woman singing bar [END] NIL NIL NIL NIL
[START] three jersey park park park park park park 

[START] old man strokes beard [END] NIL NIL NIL
[START] three jersey park park park park park park 

[START] guitar player performs [END] NIL NIL NIL NIL
[START] three jersey park park park park park park 

[START] children playing [END] NIL NIL NIL NIL NIL
[START] three jersey park park park park park park 

Epoch:1, Iteration: 143, Loss: 127.6, TimeElapsed: 26.27Min
Working (10, 200) torch.Size([10, 9])
Normal torch.Size([10, 9]) torch.Size([10, 9, 2512])
[START] kid standing [END] NIL NIL NIL NIL NIL
[START] gloves gloves gloves gloves gloves gloves gloves gloves 

[START] people gathered [END] NIL NIL NIL NIL NIL
[START] gloves gloves gloves gloves gloves gloves gloves gloves 

[START] woman red [END] NIL NIL NIL NIL NIL
[START] gloves gloves gloves gloves gloves gloves gloves gloves 

[START] two men work [END] NIL NIL NIL NIL
[START] gloves gloves gloves gloves gloves gloves gloves gloves 

[START] man red [END] NIL NIL NIL NIL NIL
[START] gloves gloves gloves gloves gloves gloves gloves gloves 

[START] man black [END] NIL NIL NIL NIL NIL
[START] gloves gloves gloves gloves gloves gloves gloves gloves 

[START] man wearing black glasses v neck [END] NIL
[START] gloves gloves gloves gloves gloves gloves gloves gloves 

[START] young girl painting [END] NIL NIL NIL NIL
[START] gloves gloves gloves gloves gloves gloves gloves gloves 

[START] two police officers look [END] NIL NIL NIL
[START] gloves gloves gloves gloves gloves gloves gloves gloves 

[START] two men woman [END] NIL NIL NIL NIL
[START] gloves gloves gloves gloves gloves gloves gloves gloves 

Epoch:1, Iteration: 144, Loss: 96.54, TimeElapsed: 26.31Min
Working (10, 200) torch.Size([10, 9])
Normal torch.Size([10, 9]) torch.Size([10, 9, 2512])
[START] white dog running [END] NIL NIL NIL NIL
[START] woman NIL NIL NIL NIL NIL NIL NIL 

[START] man sits outside sign [END] NIL NIL NIL
[START] woman NIL NIL NIL NIL NIL NIL NIL 

[START] woman raises hand [END] NIL NIL NIL NIL
[START] woman NIL NIL NIL NIL NIL NIL NIL 

[START] group people [END] NIL NIL NIL NIL NIL
[START] woman NIL NIL NIL NIL NIL NIL NIL 

[START] worker wearing bright [END] NIL NIL NIL NIL
[START] woman NIL NIL NIL NIL NIL NIL NIL 

[START] woman skating pink helmet [END] NIL NIL NIL
[START] woman NIL NIL NIL NIL NIL NIL NIL 

[START] crowd people walk busy [END] NIL NIL NIL
[START] woman NIL NIL NIL NIL NIL NIL NIL 

[START] three boys playing biking [END] NIL NIL NIL
[START] woman NIL NIL NIL NIL NIL NIL NIL 

[START] people cross large bridge [END] NIL NIL NIL
[START] woman NIL NIL NIL NIL NIL NIL NIL 

[START] people engaged worked [END] NIL NIL NIL NIL
[START] woman NIL NIL NIL NIL NIL NIL NIL 

Epoch:1, Iteration: 145, Loss: 127.94, TimeElapsed: 26.36Min
Working (10, 200) torch.Size([10, 9])
Normal torch.Size([10, 9]) torch.Size([10, 9, 2512])
[START] woman knitting cloths [END] NIL NIL NIL NIL
[START] leads leads leads leads leads leads leads leads 

[START] girl leaps [END] NIL NIL NIL NIL NIL
[START] leads leads leads leads leads leads leads leads 

[START] one woman laughing [END] NIL NIL NIL NIL
[START] leads leads leads leads leads leads leads leads 

[START] young boy tongue [END] NIL NIL NIL NIL
[START] leads leads leads leads leads leads leads leads 

[START] brunette woman wearing sunglasses juggling [END] NIL NIL
[START] leads leads leads leads leads leads leads leads 

[START] bare chested young man attempted [END] NIL NIL
[START] leads leads leads leads leads leads leads leads 

[START] man driving green miniature [END] NIL NIL NIL
[START] leads leads leads leads leads leads leads leads 

[START] man woman [END] NIL NIL NIL NIL NIL
[START] leads leads leads leads leads leads leads leads 

[START] two men resting uptop snowy mountain [END] NIL
[START] leads leads leads leads leads leads leads leads 

[START] redheaded woman long haired man [END] NIL NIL
[START] leads leads leads leads leads leads leads leads 

Epoch:1, Iteration: 146, Loss: 152.52, TimeElapsed: 26.4Min
Working (10, 200) torch.Size([10, 9])
Normal torch.Size([10, 9]) torch.Size([10, 9, 2512])
[START] little baby holds [END] NIL NIL NIL NIL
[START] pictures pictures NIL NIL NIL NIL NIL NIL 

[START] older male runner going [END] NIL NIL NIL
[START] pictures pictures NIL NIL NIL NIL NIL NIL 

[START] married left handed woman [END] NIL NIL NIL
[START] pictures pictures NIL NIL NIL NIL NIL NIL 

[START] four men safety gear one holding [END] NIL
[START] pictures pictures NIL NIL NIL NIL NIL NIL 

[START] two men looking [END] NIL NIL NIL NIL
[START] pictures pictures NIL NIL NIL NIL NIL NIL 

[START] one man kissing another man [END] NIL NIL
[START] pictures pictures NIL NIL NIL NIL NIL NIL 

[START] man pullover sweater [END] NIL NIL NIL NIL
[START] pictures pictures NIL NIL NIL NIL NIL NIL 

[START] several hikers rest [END] NIL NIL NIL NIL
[START] pictures pictures NIL NIL NIL NIL NIL NIL 

[START] group women trying [END] NIL NIL NIL NIL
[START] pictures pictures NIL NIL NIL NIL NIL NIL 

[START] someone light shirt [END] NIL NIL NIL NIL
[START] pictures pictures NIL NIL NIL NIL NIL NIL 

Epoch:1, Iteration: 147, Loss: 156.25, TimeElapsed: 26.44Min
Working (10, 200) torch.Size([10, 9])
Normal torch.Size([10, 9]) torch.Size([10, 9, 2512])
[START] two dogs wrestle together [END] NIL NIL NIL
[START] bridge bridge bridge bridge bridge bridge bridge bridge 

[START] cute baby boy sitting [END] NIL NIL NIL
[START] bridge bridge bridge bridge bridge bridge bridge bridge 

[START] woman sings [END] NIL NIL NIL NIL NIL
[START] bridge bridge bridge bridge bridge bridge bridge bridge 

[START] man banana [END] NIL NIL NIL NIL NIL
[START] bridge bridge bridge bridge bridge bridge bridge bridge 

[START] two soccer players walk field [END] NIL NIL
[START] bridge bridge bridge bridge bridge bridge bridge bridge 

[START] man reading newspaper [END] NIL NIL NIL NIL
[START] bridge bridge bridge bridge bridge bridge bridge bridge 

[START] pottery cars shown parking [END] NIL NIL NIL
[START] bridge bridge bridge bridge bridge bridge bridge bridge 

[START] man plays fetch [END] NIL NIL NIL NIL
[START] bridge bridge bridge bridge bridge bridge bridge bridge 

[START] woman blue wearing flip flops touches [END] NIL
[START] bridge bridge bridge bridge bridge bridge bridge bridge 

[START] brown dog staring closely [END] NIL NIL NIL
[START] bridge bridge bridge bridge bridge bridge bridge bridge 

Epoch:1, Iteration: 148, Loss: 187.99, TimeElapsed: 26.49Min
Working (10, 200) torch.Size([10, 9])
Normal torch.Size([10, 9]) torch.Size([10, 9, 2512])
[START] woman reading magazine [END] NIL NIL NIL NIL
[START] resting resting resting resting resting resting resting resting 

[START] man wetsuit [END] NIL NIL NIL NIL NIL
[START] resting resting resting resting resting resting resting resting 

[START] two boxers wearing protective gear [END] NIL NIL
[START] resting resting resting resting resting resting resting resting 

[START] performer riding horse [END] NIL NIL NIL NIL
[START] resting resting resting resting resting resting resting resting 

[START] two dogs fighting fence [END] NIL NIL NIL
[START] resting resting resting resting resting resting resting resting 

[START] dog standing next [END] NIL NIL NIL NIL
[START] resting resting resting resting resting resting resting resting 

[START] man giving two thumbs [END] NIL NIL NIL
[START] resting resting resting resting resting resting resting resting 

[START] 2 men one orange raincoat [END] NIL NIL
[START] resting resting resting resting resting resting resting resting 

[START] two women white dresses walk [END] NIL NIL
[START] resting resting resting resting resting resting resting resting 

[START] motorcycle racer ducati sticker [END] NIL NIL NIL
[START] resting resting resting resting resting resting resting resting 

Epoch:1, Iteration: 149, Loss: 206.9, TimeElapsed: 26.53Min
Working (10, 200) torch.Size([10, 9])
Normal torch.Size([10, 9]) torch.Size([10, 9, 2512])
[START] child wearing yellow goggles uses [END] NIL NIL
[START] group NIL NIL NIL NIL NIL NIL NIL 

[START] man hat [END] NIL NIL NIL NIL NIL
[START] group NIL NIL NIL NIL NIL NIL NIL 

[START] taking break vacationing [END] NIL NIL NIL NIL
[START] group NIL NIL NIL NIL NIL NIL NIL 

[START] individual dressed yellow [END] NIL NIL NIL NIL
[START] group NIL NIL NIL NIL NIL NIL NIL 

[START] solitary man blue shirt [END] NIL NIL NIL
[START] group NIL NIL NIL NIL NIL NIL NIL 

[START] man shirt stands next [END] NIL NIL NIL
[START] group NIL NIL NIL NIL NIL NIL NIL 

[START] dog walking [END] NIL NIL NIL NIL NIL
[START] group NIL NIL NIL NIL NIL NIL NIL 

[START] girl wearing pink pants [END] NIL NIL NIL
[START] group NIL NIL NIL NIL NIL NIL NIL 

[START] two young men competing [END] NIL NIL NIL
[START] group NIL NIL NIL NIL NIL NIL NIL 

[START] woman showing powerpoint presentation [END] NIL NIL NIL
[START] group NIL NIL NIL NIL NIL NIL NIL 

Epoch:1, Iteration: 150, Loss: 139.98, TimeElapsed: 26.57Min
Working (10, 200) torch.Size([10, 9])
Normal torch.Size([10, 9]) torch.Size([10, 9, 2512])
[START] man cutting piece [END] NIL NIL NIL NIL
[START] NIL NIL NIL NIL NIL NIL NIL NIL 

[START] woman yellow shirt [END] NIL NIL NIL NIL
[START] NIL NIL NIL NIL NIL NIL NIL NIL 

[START] child dressed blue [END] NIL NIL NIL NIL
[START] NIL NIL NIL NIL NIL NIL NIL NIL 

[START] gentleman waiting room [END] NIL NIL NIL NIL
[START] NIL NIL NIL NIL NIL NIL NIL NIL 

[START] person jumping [END] NIL NIL NIL NIL NIL
[START] NIL NIL NIL NIL NIL NIL NIL NIL 

[START] young boy sitting [END] NIL NIL NIL NIL
[START] NIL NIL NIL NIL NIL NIL NIL NIL 

[START] small dog runs [END] NIL NIL NIL NIL
[START] NIL NIL NIL NIL NIL NIL NIL NIL 

[START] child putting together [END] NIL NIL NIL NIL
[START] NIL NIL NIL NIL NIL NIL NIL NIL 

[START] man fish market [END] NIL NIL NIL NIL
[START] NIL NIL NIL NIL NIL NIL NIL NIL 

[START] several people walking one [END] NIL NIL NIL
[START] NIL NIL NIL NIL NIL NIL NIL NIL 

Epoch:1, Iteration: 151, Loss: 97.83, TimeElapsed: 26.62Min
Working (10, 200) torch.Size([10, 9])
Normal torch.Size([10, 9]) torch.Size([10, 9, 2512])
[START] two woman looking [END] NIL NIL NIL NIL
[START] two NIL NIL NIL NIL NIL NIL NIL 

[START] man woman [END] NIL NIL NIL NIL NIL
[START] two NIL NIL NIL NIL NIL NIL NIL 

[START] two fat white males standing [END] NIL NIL
[START] two NIL NIL NIL NIL NIL NIL NIL 

[START] 2 people white hats [END] NIL NIL NIL
[START] two NIL NIL NIL NIL NIL NIL NIL 

[START] woman wearing long green skirt [END] NIL NIL
[START] two NIL NIL NIL NIL NIL NIL NIL 

[START] two men sit work [END] NIL NIL NIL
[START] two NIL NIL NIL NIL NIL NIL NIL 

[START] man dressed gray [END] NIL NIL NIL NIL
[START] two NIL NIL NIL NIL NIL NIL NIL 

[START] woman staring outside [END] NIL NIL NIL NIL
[START] two NIL NIL NIL NIL NIL NIL NIL 

[START] small brown black [END] NIL NIL NIL NIL
[START] two NIL NIL NIL NIL NIL NIL NIL 

[START] middle eastern woman standing [END] NIL NIL NIL
[START] two NIL NIL NIL NIL NIL NIL NIL 

Epoch:1, Iteration: 152, Loss: 110.74, TimeElapsed: 26.66Min
Working (10, 200) torch.Size([10, 9])
Normal torch.Size([10, 9]) torch.Size([10, 9, 2512])
[START] hockey player [END] NIL NIL NIL NIL NIL
[START] [END] [END] [END] [END] [END] [END] [END] [END] 

[START] person red white [END] NIL NIL NIL NIL
[START] [END] [END] [END] [END] [END] [END] [END] [END] 

[START] man shorts black bicycle [END] NIL NIL NIL
[START] [END] [END] [END] [END] [END] [END] [END] [END] 

[START] four men wearing colorful clothing [END] NIL NIL
[START] [END] [END] [END] [END] [END] [END] [END] [END] 

[START] trash collector walking [END] NIL NIL NIL NIL
[START] [END] [END] [END] [END] [END] [END] [END] [END] 

[START] two female friends matching shirts pose [END] NIL
[START] [END] [END] [END] [END] [END] [END] [END] [END] 

[START] cyclist performing [END] NIL NIL NIL NIL NIL
[START] [END] [END] [END] [END] [END] [END] [END] [END] 

[START] man blue [END] NIL NIL NIL NIL NIL
[START] [END] [END] [END] [END] [END] [END] [END] [END] 

[START] construction workers pouring concrete [END] NIL NIL NIL
[START] [END] [END] [END] [END] [END] [END] [END] [END] 

[START] man enjoys peaceful solitary moment [END] NIL NIL
[START] [END] [END] [END] [END] [END] [END] [END] [END] 

Epoch:1, Iteration: 153, Loss: 156.3, TimeElapsed: 26.7Min
Working (10, 200) torch.Size([10, 9])
Normal torch.Size([10, 9]) torch.Size([10, 9, 2512])
[START] man orange shirt [END] NIL NIL NIL NIL
[START] woman [END] [END] [END] [END] [END] [END] [END] 

[START] crowd gathered [END] NIL NIL NIL NIL NIL
[START] woman [END] [END] [END] [END] [END] [END] [END] 

[START] two male soccer players lime green uniforms [END]
[START] woman [END] [END] [END] [END] [END] [END] [END] 

[START] two women walk street [END] NIL NIL NIL
[START] woman [END] [END] [END] [END] [END] [END] [END] 

[START] young boy runs aross [END] NIL NIL NIL
[START] woman [END] [END] [END] [END] [END] [END] [END] 

[START] construction worker overalls [END] NIL NIL NIL NIL
[START] woman [END] [END] [END] [END] [END] [END] [END] 

[START] skier poles [END] NIL NIL NIL NIL NIL
[START] woman [END] [END] [END] [END] [END] [END] [END] 

[START] kid red [END] NIL NIL NIL NIL NIL
[START] woman [END] [END] [END] [END] [END] [END] [END] 

[START] kid gun [END] NIL NIL NIL NIL NIL
[START] woman [END] [END] [END] [END] [END] [END] [END] 

[START] black white dog jumping [END] NIL NIL NIL
[START] woman [END] [END] [END] [END] [END] [END] [END] 

Epoch:1, Iteration: 154, Loss: 131.82, TimeElapsed: 26.75Min
Working (10, 200) torch.Size([10, 9])
Normal torch.Size([10, 9]) torch.Size([10, 9, 2512])
[START] man fixing [END] NIL NIL NIL NIL NIL
[START] cars cars NIL NIL NIL NIL NIL NIL 

[START] man photographs woman pink [END] NIL NIL NIL
[START] cars cars NIL NIL NIL NIL NIL NIL 

[START] several people dividing painting supplies [END] NIL NIL
[START] cars cars NIL NIL NIL NIL NIL NIL 

[START] two furry dogs make snarly faces [END] NIL
[START] cars cars NIL NIL NIL NIL NIL NIL 

[START] brown dog bending trying [END] NIL NIL NIL
[START] cars cars NIL NIL NIL NIL NIL NIL 

[START] someone blue shirt [END] NIL NIL NIL NIL
[START] cars cars NIL NIL NIL NIL NIL NIL 

[START] woman wearing dark brown leather jacket [END] NIL
[START] cars cars NIL NIL NIL NIL NIL NIL 

[START] boy shovels sand [END] NIL NIL NIL NIL
[START] cars cars NIL NIL NIL NIL NIL NIL 

[START] young girl reaches playground [END] NIL NIL NIL
[START] cars cars NIL NIL NIL NIL NIL NIL 

[START] two lizards fighting [END] NIL NIL NIL NIL
[START] cars cars NIL NIL NIL NIL NIL NIL 

Epoch:1, Iteration: 155, Loss: 185.33, TimeElapsed: 26.79Min
Working (10, 200) torch.Size([10, 9])
Normal torch.Size([10, 9]) torch.Size([10, 9, 2512])
[START] two black men smiling working [END] NIL NIL
[START] two NIL NIL NIL NIL NIL NIL NIL 

[START] small black dog stands [END] NIL NIL NIL
[START] two NIL NIL NIL NIL NIL NIL NIL 

[START] boy sledding sand [END] NIL NIL NIL NIL
[START] two NIL NIL NIL NIL NIL NIL NIL 

[START] girl horse [END] NIL NIL NIL NIL NIL
[START] two NIL NIL NIL NIL NIL NIL NIL 

[START] boy plays dog [END] NIL NIL NIL NIL
[START] two NIL NIL NIL NIL NIL NIL NIL 

[START] group women [END] NIL NIL NIL NIL NIL
[START] two NIL NIL NIL NIL NIL NIL NIL 

[START] two men two women [END] NIL NIL NIL
[START] two NIL NIL NIL NIL NIL NIL NIL 

[START] old women sewing clothes [END] NIL NIL NIL
[START] two NIL NIL NIL NIL NIL NIL NIL 

[START] female performer scantily dressed tying [END] NIL NIL
[START] two NIL NIL NIL NIL NIL NIL NIL 

[START] woman dancing [END] NIL NIL NIL NIL NIL
[START] two NIL NIL NIL NIL NIL NIL NIL 

Epoch:1, Iteration: 156, Loss: 142.61, TimeElapsed: 26.83Min
Working (10, 200) torch.Size([10, 9])
Normal torch.Size([10, 9]) torch.Size([10, 9, 2512])
[START] group people [END] NIL NIL NIL NIL NIL
[START] break break break break break break break break 

[START] two guys playing music [END] NIL NIL NIL
[START] break break break break break break break break 

[START] street vendor selling cupcakes [END] NIL NIL NIL
[START] break break break break break break break break 

[START] skateboarder attempts [END] NIL NIL NIL NIL NIL
[START] break break break break break break break break 

[START] three kids playing around fountain [END] NIL NIL
[START] break break break break break break break break 

[START] two men wearing eyeglasses eating sandwiches [END] NIL
[START] break break break break break break break break 

[START] man sweeping bottom [END] NIL NIL NIL NIL
[START] break break break break break break break break 

[START] older man blue [END] NIL NIL NIL NIL
[START] break break break break break break break break 

[START] two woman one [END] NIL NIL NIL NIL
[START] break break break break break break break break 

[START] three men standing [END] NIL NIL NIL NIL
[START] break break break break break break break break 

Epoch:1, Iteration: 157, Loss: 121.29, TimeElapsed: 26.88Min
Working (10, 200) torch.Size([10, 9])
Normal torch.Size([10, 9]) torch.Size([10, 9, 2512])
[START] several people practicing [END] NIL NIL NIL NIL
[START] man NIL NIL NIL NIL NIL NIL NIL 

[START] group people [END] NIL NIL NIL NIL NIL
[START] man NIL NIL NIL NIL NIL NIL NIL 

[START] people attending outdoor concert [END] NIL NIL NIL
[START] man NIL NIL NIL NIL NIL NIL NIL 

[START] young boy wearing white shirt [END] NIL NIL
[START] man NIL NIL NIL NIL NIL NIL NIL 

[START] guy blue vest lunging [END] NIL NIL NIL
[START] man NIL NIL NIL NIL NIL NIL NIL 

[START] man holding [END] NIL NIL NIL NIL NIL
[START] man NIL NIL NIL NIL NIL NIL NIL 

[START] two children shown upside [END] NIL NIL NIL
[START] man NIL NIL NIL NIL NIL NIL NIL 

[START] great performance performers [END] NIL NIL NIL NIL
[START] man NIL NIL NIL NIL NIL NIL NIL 

[START] woman green [END] NIL NIL NIL NIL NIL
[START] man NIL NIL NIL NIL NIL NIL NIL 

[START] black haired man plays [END] NIL NIL NIL
[START] man NIL NIL NIL NIL NIL NIL NIL 

Epoch:1, Iteration: 158, Loss: 123.19, TimeElapsed: 26.92Min
Working (10, 200) torch.Size([10, 9])
Normal torch.Size([10, 9]) torch.Size([10, 9, 2512])
[START] three women sitting front [END] NIL NIL NIL
[START] man man NIL NIL NIL NIL NIL NIL 

[START] dog shiny [END] NIL NIL NIL NIL NIL
[START] man man NIL NIL NIL NIL NIL NIL 

[START] person dressed white black winter [END] NIL NIL
[START] man man NIL NIL NIL NIL NIL NIL 

[START] boy holding nose jumping [END] NIL NIL NIL
[START] man man NIL NIL NIL NIL NIL NIL 

[START] man jumping rocks [END] NIL NIL NIL NIL
[START] man man NIL NIL NIL NIL NIL NIL 

[START] man suit [END] NIL NIL NIL NIL NIL
[START] man man NIL NIL NIL NIL NIL NIL 

[START] man playing guitar [END] NIL NIL NIL NIL
[START] man man NIL NIL NIL NIL NIL NIL 

[START] african american man wearing [END] NIL NIL NIL
[START] man man NIL NIL NIL NIL NIL NIL 

[START] man participating walking event [END] NIL NIL NIL
[START] man man NIL NIL NIL NIL NIL NIL 

[START] serious looking young man [END] NIL NIL NIL
[START] man man NIL NIL NIL NIL NIL NIL 

Epoch:1, Iteration: 159, Loss: 105.29, TimeElapsed: 26.97Min
Working (10, 200) torch.Size([10, 9])
Normal torch.Size([10, 9]) torch.Size([10, 9, 2512])
[START] baby seated two [END] NIL NIL NIL NIL
[START] man man green NIL NIL NIL NIL NIL 

[START] two asian women singing [END] NIL NIL NIL
[START] man man green NIL NIL NIL NIL NIL 

[START] three men set [END] NIL NIL NIL NIL
[START] man man green NIL NIL NIL NIL NIL 

[START] old woman cleaned fish [END] NIL NIL NIL
[START] man man green NIL NIL NIL NIL NIL 

[START] couple stand close together observing [END] NIL NIL
[START] man man green NIL NIL NIL NIL NIL 

[START] little boy play flour [END] NIL NIL NIL
[START] man man green NIL NIL NIL NIL NIL 

[START] three young adults two bikes [END] NIL NIL
[START] man man green NIL NIL NIL NIL NIL 

[START] blond toddler walks [END] NIL NIL NIL NIL
[START] man man green NIL NIL NIL NIL NIL 

[START] man carefully chopping zucchini [END] NIL NIL NIL
[START] man man green NIL NIL NIL NIL NIL 

[START] two small toddlers shorts [END] NIL NIL NIL
[START] man man green NIL NIL NIL NIL NIL 

Epoch:1, Iteration: 160, Loss: 152.07, TimeElapsed: 27.01Min
Working (10, 200) torch.Size([10, 9])
Normal torch.Size([10, 9]) torch.Size([10, 9, 2512])
[START] five people camp [END] NIL NIL NIL NIL
[START] two black black black black black black black 

[START] long haired musician playing guitar [END] NIL NIL
[START] two black black black black black black black 

[START] large group people [END] NIL NIL NIL NIL
[START] two black black black black black black black 

[START] construction vehicle [END] NIL NIL NIL NIL NIL
[START] two black black black black black black black 

[START] man walks dog [END] NIL NIL NIL NIL
[START] two black black black black black black black 

[START] two dogs playing [END] NIL NIL NIL NIL
[START] two black black black black black black black 

[START] groom bride make [END] NIL NIL NIL NIL
[START] two black black black black black black black 

[START] girl wearing blue shirt singing microphone [END] NIL
[START] two black black black black black black black 

[START] adult woman signing [END] NIL NIL NIL NIL
[START] two black black black black black black black 

[START] people walking sitting [END] NIL NIL NIL NIL
[START] two black black black black black black black 

Epoch:1, Iteration: 161, Loss: 110.08, TimeElapsed: 27.06Min
Working (10, 200) torch.Size([10, 9])
Normal torch.Size([10, 9]) torch.Size([10, 9, 2512])
[START] group children [END] NIL NIL NIL NIL NIL
[START] woman woman NIL NIL NIL NIL NIL NIL 

[START] shadowy figure [END] NIL NIL NIL NIL NIL
[START] woman woman NIL NIL NIL NIL NIL NIL 

[START] man wearing black [END] NIL NIL NIL NIL
[START] woman woman NIL NIL NIL NIL NIL NIL 

[START] young girl wears purple [END] NIL NIL NIL
[START] woman woman NIL NIL NIL NIL NIL NIL 

[START] guy kitchen [END] NIL NIL NIL NIL NIL
[START] woman woman NIL NIL NIL NIL NIL NIL 

[START] woman wearing glasses black shirt [END] NIL NIL
[START] woman woman NIL NIL NIL NIL NIL NIL 

[START] boy stands [END] NIL NIL NIL NIL NIL
[START] woman woman NIL NIL NIL NIL NIL NIL 

[START] man wearing suit stands [END] NIL NIL NIL
[START] woman woman NIL NIL NIL NIL NIL NIL 

[START] gentleman holding hotdog [END] NIL NIL NIL NIL
[START] woman woman NIL NIL NIL NIL NIL NIL 

[START] crowd gathers two [END] NIL NIL NIL NIL
[START] woman woman NIL NIL NIL NIL NIL NIL 

Epoch:1, Iteration: 162, Loss: 116.54, TimeElapsed: 27.1Min
Working (10, 200) torch.Size([10, 9])
Normal torch.Size([10, 9]) torch.Size([10, 9, 2512])
[START] fireman water [END] NIL NIL NIL NIL NIL
[START] matching NIL NIL NIL NIL NIL NIL NIL 

[START] man wearing orange vest [END] NIL NIL NIL
[START] matching NIL NIL NIL NIL NIL NIL NIL 

[START] competition among local food catering [END] NIL NIL
[START] matching NIL NIL NIL NIL NIL NIL NIL 

[START] woman white dress [END] NIL NIL NIL NIL
[START] matching NIL NIL NIL NIL NIL NIL NIL 

[START] four people walking [END] NIL NIL NIL NIL
[START] matching NIL NIL NIL NIL NIL NIL NIL 

[START] ballerina posing photo [END] NIL NIL NIL NIL
[START] matching NIL NIL NIL NIL NIL NIL NIL 

[START] crowd gathered [END] NIL NIL NIL NIL NIL
[START] matching NIL NIL NIL NIL NIL NIL NIL 

[START] group women holding [END] NIL NIL NIL NIL
[START] matching NIL NIL NIL NIL NIL NIL NIL 

[START] three women decorous poses [END] NIL NIL NIL
[START] matching NIL NIL NIL NIL NIL NIL NIL 

[START] woman reading [END] NIL NIL NIL NIL NIL
[START] matching NIL NIL NIL NIL NIL NIL NIL 

Epoch:1, Iteration: 163, Loss: 128.72, TimeElapsed: 27.15Min
Working (10, 200) torch.Size([10, 9])
Normal torch.Size([10, 9]) torch.Size([10, 9, 2512])
[START] man one piece [END] NIL NIL NIL NIL
[START] poles poles poles poles poles poles poles poles 

[START] black white dog [END] NIL NIL NIL NIL
[START] poles poles poles poles poles poles poles poles 

[START] group martial arts [END] NIL NIL NIL NIL
[START] poles poles poles poles poles poles poles poles 

[START] young soccer player [END] NIL NIL NIL NIL
[START] poles poles poles poles poles poles poles poles 

[START] two workers look [END] NIL NIL NIL NIL
[START] poles poles poles poles poles poles poles poles 

[START] boy enjoys rain [END] NIL NIL NIL NIL
[START] poles poles poles poles poles poles poles poles 

[START] child woman [END] NIL NIL NIL NIL NIL
[START] poles poles poles poles poles poles poles poles 

[START] pedestrians cars make [END] NIL NIL NIL NIL
[START] poles poles poles poles poles poles poles poles 

[START] older woman one piece [END] NIL NIL NIL
[START] poles poles poles poles poles poles poles poles 

[START] man blue [END] NIL NIL NIL NIL NIL
[START] poles poles poles poles poles poles poles poles 

Epoch:1, Iteration: 164, Loss: 72.91, TimeElapsed: 27.19Min
Working (10, 200) torch.Size([10, 9])
Normal torch.Size([10, 9]) torch.Size([10, 9, 2512])
[START] person walking [END] NIL NIL NIL NIL NIL
[START] boy wearing wearing wearing wearing wearing wearing wearing 

[START] man kneeling bright red [END] NIL NIL NIL
[START] boy wearing wearing wearing wearing wearing wearing wearing 

[START] group girls posing [END] NIL NIL NIL NIL
[START] boy wearing wearing wearing wearing wearing wearing wearing 

[START] man green shirt [END] NIL NIL NIL NIL
[START] boy wearing wearing wearing wearing wearing wearing wearing 

[START] girl outside holding pink [END] NIL NIL NIL
[START] boy wearing wearing wearing wearing wearing wearing wearing 

[START] girl gray [END] NIL NIL NIL NIL NIL
[START] boy wearing wearing wearing wearing wearing wearing wearing 

[START] students practicing martial arts [END] NIL NIL NIL
[START] boy wearing wearing wearing wearing wearing wearing wearing 

[START] group friends ride current [END] NIL NIL NIL
[START] boy wearing wearing wearing wearing wearing wearing wearing 

[START] greyhound black [END] NIL NIL NIL NIL NIL
[START] boy wearing wearing wearing wearing wearing wearing wearing 

[START] toddler boy examines pair blue [END] NIL NIL
[START] boy wearing wearing wearing wearing wearing wearing wearing 

Epoch:1, Iteration: 165, Loss: 129.68, TimeElapsed: 27.24Min
Working (10, 200) torch.Size([10, 9])
Normal torch.Size([10, 9]) torch.Size([10, 9, 2512])
[START] white tan dog leaps [END] NIL NIL NIL
[START] boy walks NIL NIL NIL NIL NIL NIL 

[START] two people walking one dragging [END] NIL NIL
[START] boy walks NIL NIL NIL NIL NIL NIL 

[START] young man leaning [END] NIL NIL NIL NIL
[START] boy walks NIL NIL NIL NIL NIL NIL 

[START] woman dress pink [END] NIL NIL NIL NIL
[START] boy walks NIL NIL NIL NIL NIL NIL 

[START] cooking event young [END] NIL NIL NIL NIL
[START] boy walks NIL NIL NIL NIL NIL NIL 

[START] women black shirt [END] NIL NIL NIL NIL
[START] boy walks NIL NIL NIL NIL NIL NIL 

[START] young man red shirt [END] NIL NIL NIL
[START] boy walks NIL NIL NIL NIL NIL NIL 

[START] black woman working [END] NIL NIL NIL NIL
[START] boy walks NIL NIL NIL NIL NIL NIL 

[START] two kids jeans perform [END] NIL NIL NIL
[START] boy walks NIL NIL NIL NIL NIL NIL 

[START] small children climb statue [END] NIL NIL NIL
[START] boy walks NIL NIL NIL NIL NIL NIL 

Epoch:1, Iteration: 166, Loss: 115.51, TimeElapsed: 27.28Min
Working (10, 200) torch.Size([10, 9])
Normal torch.Size([10, 9]) torch.Size([10, 9, 2512])
[START] group people knees [END] NIL NIL NIL NIL
[START] make make make make make make make make 

[START] group children sit [END] NIL NIL NIL NIL
[START] make make make make make make make make 

[START] one man visible riding black [END] NIL NIL
[START] make make make make make make make make 

[START] young girl balances rope [END] NIL NIL NIL
[START] make make make make make make make make 

[START] man closing [END] NIL NIL NIL NIL NIL
[START] make make make make make make make make 

[START] old woman getting ready [END] NIL NIL NIL
[START] make make make make make make make make 

[START] two people playing game [END] NIL NIL NIL
[START] make make make make make make make make 

[START] man dressed cowboy [END] NIL NIL NIL NIL
[START] make make make make make make make make 

[START] group young adults [END] NIL NIL NIL NIL
[START] make make make make make make make make 

[START] group people [END] NIL NIL NIL NIL NIL
[START] make make make make make make make make 

Epoch:1, Iteration: 167, Loss: 105.43, TimeElapsed: 27.32Min
Working (10, 200) torch.Size([10, 9])
Normal torch.Size([10, 9]) torch.Size([10, 9, 2512])
[START] band cellos violins playing [END] NIL NIL NIL
[START] [END] [END] [END] [END] [END] [END] [END] [END] 

[START] man child walking [END] NIL NIL NIL NIL
[START] [END] [END] [END] [END] [END] [END] [END] [END] 

[START] chinese restaurant employee giving [END] NIL NIL NIL
[START] [END] [END] [END] [END] [END] [END] [END] [END] 

[START] young girl standing [END] NIL NIL NIL NIL
[START] [END] [END] [END] [END] [END] [END] [END] [END] 

[START] woman drinks beer [END] NIL NIL NIL NIL
[START] [END] [END] [END] [END] [END] [END] [END] [END] 

[START] people buffet line [END] NIL NIL NIL NIL
[START] [END] [END] [END] [END] [END] [END] [END] [END] 

[START] three dogs running [END] NIL NIL NIL NIL
[START] [END] [END] [END] [END] [END] [END] [END] [END] 

[START] man wearing cap [END] NIL NIL NIL NIL
[START] [END] [END] [END] [END] [END] [END] [END] [END] 

[START] woman blue [END] NIL NIL NIL NIL NIL
[START] [END] [END] [END] [END] [END] [END] [END] [END] 

[START] three men set large curtain [END] NIL NIL
[START] [END] [END] [END] [END] [END] [END] [END] [END] 

Epoch:1, Iteration: 168, Loss: 135.87, TimeElapsed: 27.36Min
Working (10, 200) torch.Size([10, 9])
Normal torch.Size([10, 9]) torch.Size([10, 9, 2512])
[START] man injured [END] NIL NIL NIL NIL NIL
[START] young NIL NIL NIL NIL NIL NIL NIL 

[START] busy street scene [END] NIL NIL NIL NIL
[START] young NIL NIL NIL NIL NIL NIL NIL 

[START] brown dog white [END] NIL NIL NIL NIL
[START] young NIL NIL NIL NIL NIL NIL NIL 

[START] woman wearing skimpy [END] NIL NIL NIL NIL
[START] young NIL NIL NIL NIL NIL NIL NIL 

[START] fence separates woman holding red [END] NIL NIL
[START] young NIL NIL NIL NIL NIL NIL NIL 

[START] two men black clothing posing [END] NIL NIL
[START] young NIL NIL NIL NIL NIL NIL NIL 

[START] two women sitting [END] NIL NIL NIL NIL
[START] young NIL NIL NIL NIL NIL NIL NIL 

[START] brown dog jumping [END] NIL NIL NIL NIL
[START] young NIL NIL NIL NIL NIL NIL NIL 

[START] goalie guarding [END] NIL NIL NIL NIL NIL
[START] young NIL NIL NIL NIL NIL NIL NIL 

[START] group tennis players [END] NIL NIL NIL NIL
[START] young NIL NIL NIL NIL NIL NIL NIL 

Epoch:1, Iteration: 169, Loss: 114.41, TimeElapsed: 27.41Min
Working (10, 200) torch.Size([10, 9])
Normal torch.Size([10, 9]) torch.Size([10, 9, 2512])
[START] woman scantily dressed handsome homemade looking clothing [END]
[START] NIL NIL NIL NIL NIL NIL NIL NIL 

[START] man red button [END] NIL NIL NIL NIL
[START] NIL NIL NIL NIL NIL NIL NIL NIL 

[START] military man walks front [END] NIL NIL NIL
[START] NIL NIL NIL NIL NIL NIL NIL NIL 

[START] man woman [END] NIL NIL NIL NIL NIL
[START] NIL NIL NIL NIL NIL NIL NIL NIL 

[START] man traditional orthodox [END] NIL NIL NIL NIL
[START] NIL NIL NIL NIL NIL NIL NIL NIL 

[START] people wearing costumes standing [END] NIL NIL NIL
[START] NIL NIL NIL NIL NIL NIL NIL NIL 

[START] boy red [END] NIL NIL NIL NIL NIL
[START] NIL NIL NIL NIL NIL NIL NIL NIL 

[START] two guys blue shirts talking [END] NIL NIL
[START] NIL NIL NIL NIL NIL NIL NIL NIL 

[START] father playing baby [END] NIL NIL NIL NIL
[START] NIL NIL NIL NIL NIL NIL NIL NIL 

[START] family friends walking across [END] NIL NIL NIL
[START] NIL NIL NIL NIL NIL NIL NIL NIL 

Epoch:1, Iteration: 170, Loss: 125.55, TimeElapsed: 27.46Min
Working (10, 200) torch.Size([10, 9])
Normal torch.Size([10, 9]) torch.Size([10, 9, 2512])
[START] little girl trying [END] NIL NIL NIL NIL
[START] group NIL NIL NIL NIL NIL NIL NIL 

[START] boy trying climb [END] NIL NIL NIL NIL
[START] group NIL NIL NIL NIL NIL NIL NIL 

[START] man cutting birthday cake [END] NIL NIL NIL
[START] group NIL NIL NIL NIL NIL NIL NIL 

[START] sled dogs trekking snow near forest [END] NIL
[START] group NIL NIL NIL NIL NIL NIL NIL 

[START] man red cap [END] NIL NIL NIL NIL
[START] group NIL NIL NIL NIL NIL NIL NIL 

[START] white tan dog [END] NIL NIL NIL NIL
[START] group NIL NIL NIL NIL NIL NIL NIL 

[START] person arms crossed [END] NIL NIL NIL NIL
[START] group NIL NIL NIL NIL NIL NIL NIL 

[START] gray white puddle fighting next [END] NIL NIL
[START] group NIL NIL NIL NIL NIL NIL NIL 

[START] young boy light [END] NIL NIL NIL NIL
[START] group NIL NIL NIL NIL NIL NIL NIL 

[START] man drinking [END] NIL NIL NIL NIL NIL
[START] group NIL NIL NIL NIL NIL NIL NIL 

Epoch:1, Iteration: 171, Loss: 162.95, TimeElapsed: 27.5Min
Working (10, 200) torch.Size([10, 9])
Normal torch.Size([10, 9]) torch.Size([10, 9, 2512])
[START] people watching race [END] NIL NIL NIL NIL
[START] balances balances balances balances balances balances balances balances 

[START] man white coat [END] NIL NIL NIL NIL
[START] balances balances balances balances balances balances balances balances 

[START] infant swaddled [END] NIL NIL NIL NIL NIL
[START] balances balances balances balances balances balances balances balances 

[START] young boy jumping [END] NIL NIL NIL NIL
[START] balances balances balances balances balances balances balances balances 

[START] woman wearing gray coat places clothing [END] NIL
[START] balances balances balances balances balances balances balances balances 

[START] girl blue [END] NIL NIL NIL NIL NIL
[START] balances balances balances balances balances balances balances balances 

[START] group people standing linet [END] NIL NIL NIL
[START] balances balances balances balances balances balances balances balances 

[START] man suit reading [END] NIL NIL NIL NIL
[START] balances balances balances balances balances balances balances balances 

[START] people gathered room [END] NIL NIL NIL NIL
[START] balances balances balances balances balances balances balances balances 

[START] man woman eating dinner [END] NIL NIL NIL
[START] balances balances balances balances balances balances balances balances 

Epoch:1, Iteration: 172, Loss: 132.99, TimeElapsed: 27.54Min
Working (10, 200) torch.Size([10, 9])
Normal torch.Size([10, 9]) torch.Size([10, 9, 2512])
[START] baby boy playing [END] NIL NIL NIL NIL
[START] arts arts arts arts arts arts arts arts 

[START] brown dog wearing [END] NIL NIL NIL NIL
[START] arts arts arts arts arts arts arts arts 

[START] group old young people [END] NIL NIL NIL
[START] arts arts arts arts arts arts arts arts 

[START] face ref mid hockey game [END] NIL NIL
[START] arts arts arts arts arts arts arts arts 

[START] lady standing wearing black [END] NIL NIL NIL
[START] arts arts arts arts arts arts arts arts 

[START] young girl [END] NIL NIL NIL NIL NIL
[START] arts arts arts arts arts arts arts arts 

[START] trolley driver telling [END] NIL NIL NIL NIL
[START] arts arts arts arts arts arts arts arts 

[START] group seven people eating [END] NIL NIL NIL
[START] arts arts arts arts arts arts arts arts 

[START] family walks thick [END] NIL NIL NIL NIL
[START] arts arts arts arts arts arts arts arts 

[START] woman feeds pigeons park [END] NIL NIL NIL
[START] arts arts arts arts arts arts arts arts 

Epoch:1, Iteration: 173, Loss: 124.89, TimeElapsed: 27.59Min
Working (10, 200) torch.Size([10, 9])
Normal torch.Size([10, 9]) torch.Size([10, 9, 2512])
[START] man leans [END] NIL NIL NIL NIL NIL
[START] people people people people people people people people 

[START] man sits [END] NIL NIL NIL NIL NIL
[START] people people people people people people people people 

[START] blindfolded man aims [END] NIL NIL NIL NIL
[START] people people people people people people people people 

[START] man woman [END] NIL NIL NIL NIL NIL
[START] people people people people people people people people 

[START] woman walking [END] NIL NIL NIL NIL NIL
[START] people people people people people people people people 

[START] boy blue boat tied [END] NIL NIL NIL
[START] people people people people people people people people 

[START] brown white dog [END] NIL NIL NIL NIL
[START] people people people people people people people people 

[START] kid hangs upside [END] NIL NIL NIL NIL
[START] people people people people people people people people 

[START] smiling girls bathing suits [END] NIL NIL NIL
[START] people people people people people people people people 

[START] toddler asleep [END] NIL NIL NIL NIL NIL
[START] people people people people people people people people 

Epoch:1, Iteration: 174, Loss: 95.4, TimeElapsed: 27.63Min
Working (10, 200) torch.Size([10, 9])
Normal torch.Size([10, 9]) torch.Size([10, 9, 2512])
[START] group people [END] NIL NIL NIL NIL NIL
[START] drinks drinks drinks drinks drinks drinks drinks drinks 

[START] boy jumping [END] NIL NIL NIL NIL NIL
[START] drinks drinks drinks drinks drinks drinks drinks drinks 

[START] people looking tall oriental [END] NIL NIL NIL
[START] drinks drinks drinks drinks drinks drinks drinks drinks 

[START] two men boat [END] NIL NIL NIL NIL
[START] drinks drinks drinks drinks drinks drinks drinks drinks 

[START] woman kneels edge [END] NIL NIL NIL NIL
[START] drinks drinks drinks drinks drinks drinks drinks drinks 

[START] older somewhat obese man [END] NIL NIL NIL
[START] drinks drinks drinks drinks drinks drinks drinks drinks 

[START] people attempting move x ray machine [END] NIL
[START] drinks drinks drinks drinks drinks drinks drinks drinks 

[START] guy striped [END] NIL NIL NIL NIL NIL
[START] drinks drinks drinks drinks drinks drinks drinks drinks 

[START] group people stand [END] NIL NIL NIL NIL
[START] drinks drinks drinks drinks drinks drinks drinks drinks 

[START] girl bikini [END] NIL NIL NIL NIL NIL
[START] drinks drinks drinks drinks drinks drinks drinks drinks 

Epoch:1, Iteration: 175, Loss: 124.9, TimeElapsed: 27.68Min
Working (10, 200) torch.Size([10, 9])
Normal torch.Size([10, 9]) torch.Size([10, 9, 2512])
[START] dirty blond haired man juggles [END] NIL NIL
[START] scantily scantily scantily scantily scantily scantily scantily scantily 

[START] four people performing music outdoors [END] NIL NIL
[START] scantily scantily scantily scantily scantily scantily scantily scantily 

[START] young man looking [END] NIL NIL NIL NIL
[START] scantily scantily scantily scantily scantily scantily scantily scantily 

[START] man green [END] NIL NIL NIL NIL NIL
[START] scantily scantily scantily scantily scantily scantily scantily scantily 

[START] teenage boys black shirts skateboarding [END] NIL NIL
[START] scantily scantily scantily scantily scantily scantily scantily scantily 

[START] man red shirt giving [END] NIL NIL NIL
[START] scantily scantily scantily scantily scantily scantily scantily scantily 

[START] woman [END] NIL NIL NIL NIL NIL NIL
[START] scantily scantily scantily scantily scantily scantily scantily scantily 

[START] black man white [END] NIL NIL NIL NIL
[START] scantily scantily scantily scantily scantily scantily scantily scantily 

[START] group young people [END] NIL NIL NIL NIL
[START] scantily scantily scantily scantily scantily scantily scantily scantily 

[START] bicyclist blue parked [END] NIL NIL NIL NIL
[START] scantily scantily scantily scantily scantily scantily scantily scantily 

Epoch:1, Iteration: 176, Loss: 84.69, TimeElapsed: 27.72Min
Working (10, 200) torch.Size([10, 9])
Normal torch.Size([10, 9]) torch.Size([10, 9, 2512])
[START] young couple enjoying [END] NIL NIL NIL NIL
[START] bathing NIL NIL NIL NIL NIL NIL NIL 

[START] two reptiles standing [END] NIL NIL NIL NIL
[START] bathing NIL NIL NIL NIL NIL NIL NIL 

[START] little boy climbs tire structure [END] NIL NIL
[START] bathing NIL NIL NIL NIL NIL NIL NIL 

[START] woman kids picnic [END] NIL NIL NIL NIL
[START] bathing NIL NIL NIL NIL NIL NIL NIL 

[START] child brushing teeth [END] NIL NIL NIL NIL
[START] bathing NIL NIL NIL NIL NIL NIL NIL 

[START] two boys sitting log [END] NIL NIL NIL
[START] bathing NIL NIL NIL NIL NIL NIL NIL 

[START] people internet [END] NIL NIL NIL NIL NIL
[START] bathing NIL NIL NIL NIL NIL NIL NIL 

[START] firefighters wearing black yellow pink [END] NIL NIL
[START] bathing NIL NIL NIL NIL NIL NIL NIL 

[START] woman high heels [END] NIL NIL NIL NIL
[START] bathing NIL NIL NIL NIL NIL NIL NIL 

[START] woman brown [END] NIL NIL NIL NIL NIL
[START] bathing NIL NIL NIL NIL NIL NIL NIL 

Epoch:1, Iteration: 177, Loss: 133.21, TimeElapsed: 27.76Min
Working (10, 200) torch.Size([10, 9])
Normal torch.Size([10, 9]) torch.Size([10, 9, 2512])
[START] man wearing black [END] NIL NIL NIL NIL
[START] man [END] NIL NIL NIL NIL NIL NIL 

[START] girl wearing green dress [END] NIL NIL NIL
[START] man [END] NIL NIL NIL NIL NIL NIL 

[START] man shorts tank top [END] NIL NIL NIL
[START] man [END] NIL NIL NIL NIL NIL NIL 

[START] drunk man gray [END] NIL NIL NIL NIL
[START] man [END] NIL NIL NIL NIL NIL NIL 

[START] man using heavy machinery [END] NIL NIL NIL
[START] man [END] NIL NIL NIL NIL NIL NIL 

[START] four older people sitting [END] NIL NIL NIL
[START] man [END] NIL NIL NIL NIL NIL NIL 

[START] mailman truck [END] NIL NIL NIL NIL NIL
[START] man [END] NIL NIL NIL NIL NIL NIL 

[START] ambulance parked side [END] NIL NIL NIL NIL
[START] man [END] NIL NIL NIL NIL NIL NIL 

[START] blond girl opening [END] NIL NIL NIL NIL
[START] man [END] NIL NIL NIL NIL NIL NIL 

[START] person wearing purple walking [END] NIL NIL NIL
[START] man [END] NIL NIL NIL NIL NIL NIL 

Epoch:1, Iteration: 178, Loss: 125.93, TimeElapsed: 27.8Min
Working (10, 200) torch.Size([10, 9])
Normal torch.Size([10, 9]) torch.Size([10, 9, 2512])
[START] three girls sat [END] NIL NIL NIL NIL
[START] man [END] [END] [END] [END] [END] [END] [END] 

[START] drummer plays drums sitting top [END] NIL NIL
[START] man [END] [END] [END] [END] [END] [END] [END] 

[START] woman stands behind [END] NIL NIL NIL NIL
[START] man [END] [END] [END] [END] [END] [END] [END] 

[START] two groups canoeing [END] NIL NIL NIL NIL
[START] man [END] [END] [END] [END] [END] [END] [END] 

[START] two asian men looking [END] NIL NIL NIL
[START] man [END] [END] [END] [END] [END] [END] [END] 

[START] biker performs trick [END] NIL NIL NIL NIL
[START] man [END] [END] [END] [END] [END] [END] [END] 

[START] young man skateboarding [END] NIL NIL NIL NIL
[START] man [END] [END] [END] [END] [END] [END] [END] 

[START] people ground maybe working [END] NIL NIL NIL
[START] man [END] [END] [END] [END] [END] [END] [END] 

[START] two dogs staring [END] NIL NIL NIL NIL
[START] man [END] [END] [END] [END] [END] [END] [END] 

[START] dog runs [END] NIL NIL NIL NIL NIL
[START] man [END] [END] [END] [END] [END] [END] [END] 

Epoch:1, Iteration: 179, Loss: 141.23, TimeElapsed: 27.85Min
Working (10, 200) torch.Size([10, 9])
Normal torch.Size([10, 9]) torch.Size([10, 9, 2512])
[START] group people singing [END] NIL NIL NIL NIL
[START] group NIL NIL NIL NIL NIL NIL NIL 

[START] young man talking [END] NIL NIL NIL NIL
[START] group NIL NIL NIL NIL NIL NIL NIL 

[START] boy flying [END] NIL NIL NIL NIL NIL
[START] group NIL NIL NIL NIL NIL NIL NIL 

[START] two children pajamas one [END] NIL NIL NIL
[START] group NIL NIL NIL NIL NIL NIL NIL 

[START] man wearing blue [END] NIL NIL NIL NIL
[START] group NIL NIL NIL NIL NIL NIL NIL 

[START] group traditional mexican dancers twirl [END] NIL NIL
[START] group NIL NIL NIL NIL NIL NIL NIL 

[START] baseball player running [END] NIL NIL NIL NIL
[START] group NIL NIL NIL NIL NIL NIL NIL 

[START] man guiding [END] NIL NIL NIL NIL NIL
[START] group NIL NIL NIL NIL NIL NIL NIL 

[START] people making purchases outdoor [END] NIL NIL NIL
[START] group NIL NIL NIL NIL NIL NIL NIL 

[START] children jumping trampoline [END] NIL NIL NIL NIL
[START] group NIL NIL NIL NIL NIL NIL NIL 

Epoch:1, Iteration: 180, Loss: 142.77, TimeElapsed: 27.89Min
Working (10, 200) torch.Size([10, 9])
Normal torch.Size([10, 9]) torch.Size([10, 9, 2512])
[START] bearded singer black rimmed [END] NIL NIL NIL
[START] family NIL NIL NIL NIL NIL NIL NIL 

[START] person balances one hand [END] NIL NIL NIL
[START] family NIL NIL NIL NIL NIL NIL NIL 

[START] people stop look [END] NIL NIL NIL NIL
[START] family NIL NIL NIL NIL NIL NIL NIL 

[START] three children sitting around [END] NIL NIL NIL
[START] family NIL NIL NIL NIL NIL NIL NIL 

[START] shirtless man walking [END] NIL NIL NIL NIL
[START] family NIL NIL NIL NIL NIL NIL NIL 

[START] little girl [END] NIL NIL NIL NIL NIL
[START] family NIL NIL NIL NIL NIL NIL NIL 

[START] man dark shirt [END] NIL NIL NIL NIL
[START] family NIL NIL NIL NIL NIL NIL NIL 

[START] asian man walking [END] NIL NIL NIL NIL
[START] family NIL NIL NIL NIL NIL NIL NIL 

[START] shirtless muscular man pokes [END] NIL NIL NIL
[START] family NIL NIL NIL NIL NIL NIL NIL 

[START] man plaid shirt jeans [END] NIL NIL NIL
[START] family NIL NIL NIL NIL NIL NIL NIL 

Epoch:1, Iteration: 181, Loss: 124.72, TimeElapsed: 27.94Min
Working (10, 200) torch.Size([10, 9])
Normal torch.Size([10, 9]) torch.Size([10, 9, 2512])
[START] four men sitting near tree [END] NIL NIL
[START] girl NIL NIL NIL NIL NIL NIL NIL 

[START] construction worker moves [END] NIL NIL NIL NIL
[START] girl NIL NIL NIL NIL NIL NIL NIL 

[START] man standing playing [END] NIL NIL NIL NIL
[START] girl NIL NIL NIL NIL NIL NIL NIL 

[START] girl white [END] NIL NIL NIL NIL NIL
[START] girl NIL NIL NIL NIL NIL NIL NIL 

[START] woman pink bikini [END] NIL NIL NIL NIL
[START] girl NIL NIL NIL NIL NIL NIL NIL 

[START] two bald ladies red [END] NIL NIL NIL
[START] girl NIL NIL NIL NIL NIL NIL NIL 

[START] camera catches movement [END] NIL NIL NIL NIL
[START] girl NIL NIL NIL NIL NIL NIL NIL 

[START] two girls table [END] NIL NIL NIL NIL
[START] girl NIL NIL NIL NIL NIL NIL NIL 

[START] three women wearing black next [END] NIL NIL
[START] girl NIL NIL NIL NIL NIL NIL NIL 

[START] young boy slides [END] NIL NIL NIL NIL
[START] girl NIL NIL NIL NIL NIL NIL NIL 

Epoch:1, Iteration: 182, Loss: 114.68, TimeElapsed: 27.98Min
Working (10, 200) torch.Size([10, 9])
Normal torch.Size([10, 9]) torch.Size([10, 9, 2512])
[START] three construction workers dressed [END] NIL NIL NIL
[START] boat boat boat boat boat boat boat boat 

[START] man sombrero woman [END] NIL NIL NIL NIL
[START] boat boat boat boat boat boat boat boat 

[START] two women sitting [END] NIL NIL NIL NIL
[START] boat boat boat boat boat boat boat boat 

[START] woman playing play equipment [END] NIL NIL NIL
[START] boat boat boat boat boat boat boat boat 

[START] crowd people socializing drinking [END] NIL NIL NIL
[START] boat boat boat boat boat boat boat boat 

[START] brown dog walks [END] NIL NIL NIL NIL
[START] boat boat boat boat boat boat boat boat 

[START] man training dog [END] NIL NIL NIL NIL
[START] boat boat boat boat boat boat boat boat 

[START] several chefs posing products [END] NIL NIL NIL
[START] boat boat boat boat boat boat boat boat 

[START] color guard representing various arms [END] NIL NIL
[START] boat boat boat boat boat boat boat boat 

[START] soccer player [END] NIL NIL NIL NIL NIL
[START] boat boat boat boat boat boat boat boat 

Epoch:1, Iteration: 183, Loss: 136.92, TimeElapsed: 28.03Min
Working (10, 200) torch.Size([10, 9])
Normal torch.Size([10, 9]) torch.Size([10, 9, 2512])
[START] lady white [END] NIL NIL NIL NIL NIL
[START] suits suits suits suits suits suits suits suits 

[START] group people standing [END] NIL NIL NIL NIL
[START] suits suits suits suits suits suits suits suits 

[START] three bicyclists turn curve [END] NIL NIL NIL
[START] suits suits suits suits suits suits suits suits 

[START] two young women playing volleyball one [END] NIL
[START] suits suits suits suits suits suits suits suits 

[START] woman red shirt [END] NIL NIL NIL NIL
[START] suits suits suits suits suits suits suits suits 

[START] football players field [END] NIL NIL NIL NIL
[START] suits suits suits suits suits suits suits suits 

[START] man large horn sitting [END] NIL NIL NIL
[START] suits suits suits suits suits suits suits suits 

[START] limo driving street [END] NIL NIL NIL NIL
[START] suits suits suits suits suits suits suits suits 

[START] sumo wrestler black begins push [END] NIL NIL
[START] suits suits suits suits suits suits suits suits 

[START] group people riding bicycles [END] NIL NIL NIL
[START] suits suits suits suits suits suits suits suits 

Epoch:1, Iteration: 184, Loss: 156.06, TimeElapsed: 28.07Min
Working (10, 200) torch.Size([10, 9])
Normal torch.Size([10, 9]) torch.Size([10, 9, 2512])
[START] cleaning lady mall [END] NIL NIL NIL NIL
[START] kneels kneels NIL NIL NIL NIL NIL NIL 

[START] four men one woman [END] NIL NIL NIL
[START] kneels kneels NIL NIL NIL NIL NIL NIL 

[START] kid blue jeans [END] NIL NIL NIL NIL
[START] kneels kneels NIL NIL NIL NIL NIL NIL 

[START] woman playing music smiles [END] NIL NIL NIL
[START] kneels kneels NIL NIL NIL NIL NIL NIL 

[START] man standing [END] NIL NIL NIL NIL NIL
[START] kneels kneels NIL NIL NIL NIL NIL NIL 

[START] two girls red bikes [END] NIL NIL NIL
[START] kneels kneels NIL NIL NIL NIL NIL NIL 

[START] young man sitting behind [END] NIL NIL NIL
[START] kneels kneels NIL NIL NIL NIL NIL NIL 

[START] man blue headband [END] NIL NIL NIL NIL
[START] kneels kneels NIL NIL NIL NIL NIL NIL 

[START] two kids wakeboarding simultaneously decide [END] NIL NIL
[START] kneels kneels NIL NIL NIL NIL NIL NIL 

[START] man behind white [END] NIL NIL NIL NIL
[START] kneels kneels NIL NIL NIL NIL NIL NIL 

Epoch:1, Iteration: 185, Loss: 100.92, TimeElapsed: 28.11Min
Working (10, 200) torch.Size([10, 9])
Normal torch.Size([10, 9]) torch.Size([10, 9, 2512])
[START] large yellow dog sitting [END] NIL NIL NIL
[START] man NIL NIL NIL NIL NIL NIL NIL 

[START] group children adults [END] NIL NIL NIL NIL
[START] man NIL NIL NIL NIL NIL NIL NIL 

[START] skateboarder red [END] NIL NIL NIL NIL NIL
[START] man NIL NIL NIL NIL NIL NIL NIL 

[START] man cape near [END] NIL NIL NIL NIL
[START] man NIL NIL NIL NIL NIL NIL NIL 

[START] two little girls bathing [END] NIL NIL NIL
[START] man NIL NIL NIL NIL NIL NIL NIL 

[START] beach man [END] NIL NIL NIL NIL NIL
[START] man NIL NIL NIL NIL NIL NIL NIL 

[START] aerial shot people [END] NIL NIL NIL NIL
[START] man NIL NIL NIL NIL NIL NIL NIL 

[START] person black [END] NIL NIL NIL NIL NIL
[START] man NIL NIL NIL NIL NIL NIL NIL 

[START] foreign children crushing bricks [END] NIL NIL NIL
[START] man NIL NIL NIL NIL NIL NIL NIL 

[START] woman riding scooter [END] NIL NIL NIL NIL
[START] man NIL NIL NIL NIL NIL NIL NIL 

Epoch:1, Iteration: 186, Loss: 121.62, TimeElapsed: 28.16Min
Working (10, 200) torch.Size([10, 9])
Normal torch.Size([10, 9]) torch.Size([10, 9, 2512])
[START] two little girls share coloring book [END] NIL
[START] man NIL NIL NIL NIL NIL NIL NIL 

[START] man bright vest [END] NIL NIL NIL NIL
[START] man NIL NIL NIL NIL NIL NIL NIL 

[START] woman wearing black shirt [END] NIL NIL NIL
[START] man NIL NIL NIL NIL NIL NIL NIL 

[START] hikers walking along rocky [END] NIL NIL NIL
[START] man NIL NIL NIL NIL NIL NIL NIL 

[START] little boy adult woman [END] NIL NIL NIL
[START] man NIL NIL NIL NIL NIL NIL NIL 

[START] man orange [END] NIL NIL NIL NIL NIL
[START] man NIL NIL NIL NIL NIL NIL NIL 

[START] little girl climbing [END] NIL NIL NIL NIL
[START] man NIL NIL NIL NIL NIL NIL NIL 

[START] two men sitting [END] NIL NIL NIL NIL
[START] man NIL NIL NIL NIL NIL NIL NIL 

[START] two women man [END] NIL NIL NIL NIL
[START] man NIL NIL NIL NIL NIL NIL NIL 

[START] woman sits bench underneath [END] NIL NIL NIL
[START] man NIL NIL NIL NIL NIL NIL NIL 

Epoch:1, Iteration: 187, Loss: 89.46, TimeElapsed: 28.2Min
Working (10, 200) torch.Size([10, 9])
Normal torch.Size([10, 9]) torch.Size([10, 9, 2512])
[START] local african boy daily work guiding [END] NIL
[START] woman walking NIL NIL NIL NIL NIL NIL 

[START] many people wearing numbered pieces [END] NIL NIL
[START] woman walking NIL NIL NIL NIL NIL NIL 

[START] boy learning [END] NIL NIL NIL NIL NIL
[START] woman walking NIL NIL NIL NIL NIL NIL 

[START] two dogs pitbull [END] NIL NIL NIL NIL
[START] woman walking NIL NIL NIL NIL NIL NIL 

[START] man sitting [END] NIL NIL NIL NIL NIL
[START] woman walking NIL NIL NIL NIL NIL NIL 

[START] two people working resaurant [END] NIL NIL NIL
[START] woman walking NIL NIL NIL NIL NIL NIL 

[START] woman black cleaning [END] NIL NIL NIL NIL
[START] woman walking NIL NIL NIL NIL NIL NIL 

[START] rainy day woman holds [END] NIL NIL NIL
[START] woman walking NIL NIL NIL NIL NIL NIL 

[START] african american lady holding [END] NIL NIL NIL
[START] woman walking NIL NIL NIL NIL NIL NIL 

[START] people sitting bleachers [END] NIL NIL NIL NIL
[START] woman walking NIL NIL NIL NIL NIL NIL 

Epoch:1, Iteration: 188, Loss: 165.61, TimeElapsed: 28.25Min
Working (10, 200) torch.Size([10, 9])
Normal torch.Size([10, 9]) torch.Size([10, 9, 2512])
[START] man using long [END] NIL NIL NIL NIL
[START] woman woman [END] [END] [END] [END] [END] [END] 

[START] homeless woman dog [END] NIL NIL NIL NIL
[START] woman woman [END] [END] [END] [END] [END] [END] 

[START] small child bike [END] NIL NIL NIL NIL
[START] woman woman [END] [END] [END] [END] [END] [END] 

[START] children women gather outside [END] NIL NIL NIL
[START] woman woman [END] [END] [END] [END] [END] [END] 

[START] group people walking [END] NIL NIL NIL NIL
[START] woman woman [END] [END] [END] [END] [END] [END] 

[START] elderly nun handles knit items [END] NIL NIL
[START] woman woman [END] [END] [END] [END] [END] [END] 

[START] woman luggage walks along [END] NIL NIL NIL
[START] woman woman [END] [END] [END] [END] [END] [END] 

[START] snowboarder goes ramp [END] NIL NIL NIL NIL
[START] woman woman [END] [END] [END] [END] [END] [END] 

[START] woman standing next [END] NIL NIL NIL NIL
[START] woman woman [END] [END] [END] [END] [END] [END] 

[START] three dogs run scrubby grass [END] NIL NIL
[START] woman woman [END] [END] [END] [END] [END] [END] 

Epoch:1, Iteration: 189, Loss: 175.12, TimeElapsed: 28.29Min
Working (10, 200) torch.Size([10, 9])
Normal torch.Size([10, 9]) torch.Size([10, 9, 2512])
[START] man wearing white shorts [END] NIL NIL NIL
[START] two traditional traditional traditional traditional traditional traditional traditional 

[START] biker blue gear bikes [END] NIL NIL NIL
[START] two traditional traditional traditional traditional traditional traditional traditional 

[START] black dog breaking [END] NIL NIL NIL NIL
[START] two traditional traditional traditional traditional traditional traditional traditional 

[START] hockey player red uniform drinking [END] NIL NIL
[START] two traditional traditional traditional traditional traditional traditional traditional 

[START] group standing moped [END] NIL NIL NIL NIL
[START] two traditional traditional traditional traditional traditional traditional traditional 

[START] least four instrumentalists play clarinets [END] NIL NIL
[START] two traditional traditional traditional traditional traditional traditional traditional 

[START] boy girl running along beach [END] NIL NIL
[START] two traditional traditional traditional traditional traditional traditional traditional 

[START] single motorcycle stops [END] NIL NIL NIL NIL
[START] two traditional traditional traditional traditional traditional traditional traditional 

[START] clown red [END] NIL NIL NIL NIL NIL
[START] two traditional traditional traditional traditional traditional traditional traditional 

[START] man woman dressed costume [END] NIL NIL NIL
[START] two traditional traditional traditional traditional traditional traditional traditional 

Epoch:1, Iteration: 190, Loss: 158.48, TimeElapsed: 28.34Min
Working (10, 200) torch.Size([10, 9])
Normal torch.Size([10, 9]) torch.Size([10, 9, 2512])
[START] three men playing musical instruments [END] NIL NIL
[START] foreign foreign NIL NIL NIL NIL NIL NIL 

[START] toddler grasping handle [END] NIL NIL NIL NIL
[START] foreign foreign NIL NIL NIL NIL NIL NIL 

[START] boy wearing jeans standing [END] NIL NIL NIL
[START] foreign foreign NIL NIL NIL NIL NIL NIL 

[START] girl sunglasses sits [END] NIL NIL NIL NIL
[START] foreign foreign NIL NIL NIL NIL NIL NIL 

[START] old man [END] NIL NIL NIL NIL NIL
[START] foreign foreign NIL NIL NIL NIL NIL NIL 

[START] little kid jumping [END] NIL NIL NIL NIL
[START] foreign foreign NIL NIL NIL NIL NIL NIL 

[START] large brown dog walking [END] NIL NIL NIL
[START] foreign foreign NIL NIL NIL NIL NIL NIL 

[START] two young boys run [END] NIL NIL NIL
[START] foreign foreign NIL NIL NIL NIL NIL NIL 

[START] man wearing black [END] NIL NIL NIL NIL
[START] foreign foreign NIL NIL NIL NIL NIL NIL 

[START] elderly couples dance night [END] NIL NIL NIL
[START] foreign foreign NIL NIL NIL NIL NIL NIL 

Epoch:1, Iteration: 191, Loss: 138.73, TimeElapsed: 28.38Min
Working (10, 200) torch.Size([10, 9])
Normal torch.Size([10, 9]) torch.Size([10, 9, 2512])
[START] man white shirt [END] NIL NIL NIL NIL
[START] two NIL NIL NIL NIL NIL NIL NIL 

[START] little boy wearing jeans [END] NIL NIL NIL
[START] two NIL NIL NIL NIL NIL NIL NIL 

[START] three young adults talk [END] NIL NIL NIL
[START] two NIL NIL NIL NIL NIL NIL NIL 

[START] guy flipping pancake [END] NIL NIL NIL NIL
[START] two NIL NIL NIL NIL NIL NIL NIL 

[START] baby girl pink cooking [END] NIL NIL NIL
[START] two NIL NIL NIL NIL NIL NIL NIL 

[START] woman making sand castle [END] NIL NIL NIL
[START] two NIL NIL NIL NIL NIL NIL NIL 

[START] boy red uniform attempting [END] NIL NIL NIL
[START] two NIL NIL NIL NIL NIL NIL NIL 

[START] man wearing yellow [END] NIL NIL NIL NIL
[START] two NIL NIL NIL NIL NIL NIL NIL 

[START] boy covered suds [END] NIL NIL NIL NIL
[START] two NIL NIL NIL NIL NIL NIL NIL 

[START] new york yankee holds [END] NIL NIL NIL
[START] two NIL NIL NIL NIL NIL NIL NIL 

Epoch:1, Iteration: 192, Loss: 159.96, TimeElapsed: 28.42Min
Working (10, 200) torch.Size([10, 9])
Normal torch.Size([10, 9]) torch.Size([10, 9, 2512])
[START] female green shirt standing [END] NIL NIL NIL
[START] little little NIL NIL NIL NIL NIL NIL 

[START] man blue shirt [END] NIL NIL NIL NIL
[START] little little NIL NIL NIL NIL NIL NIL 

[START] woman green dress sitting [END] NIL NIL NIL
[START] little little NIL NIL NIL NIL NIL NIL 

[START] snowboarder red black grinds [END] NIL NIL NIL
[START] little little NIL NIL NIL NIL NIL NIL 

[START] two dogs running playing rough [END] NIL NIL
[START] little little NIL NIL NIL NIL NIL NIL 

[START] girl half dreadlocks earmuffs [END] NIL NIL NIL
[START] little little NIL NIL NIL NIL NIL NIL 

[START] man suit [END] NIL NIL NIL NIL NIL
[START] little little NIL NIL NIL NIL NIL NIL 

[START] two mannequins [END] NIL NIL NIL NIL NIL
[START] little little NIL NIL NIL NIL NIL NIL 

[START] referee making signals [END] NIL NIL NIL NIL
[START] little little NIL NIL NIL NIL NIL NIL 

[START] guy riding bike coming [END] NIL NIL NIL
[START] little little NIL NIL NIL NIL NIL NIL 

Epoch:1, Iteration: 193, Loss: 175.44, TimeElapsed: 28.46Min
Working (10, 200) torch.Size([10, 9])
Normal torch.Size([10, 9]) torch.Size([10, 9, 2512])
[START] woman jeans walking along [END] NIL NIL NIL
[START] group [END] [END] [END] [END] [END] [END] [END] 

[START] man orange [END] NIL NIL NIL NIL NIL
[START] group [END] [END] [END] [END] [END] [END] [END] 

[START] man woman [END] NIL NIL NIL NIL NIL
[START] group [END] [END] [END] [END] [END] [END] [END] 

[START] two dogs run water [END] NIL NIL NIL
[START] group [END] [END] [END] [END] [END] [END] [END] 

[START] little girl pink [END] NIL NIL NIL NIL
[START] group [END] [END] [END] [END] [END] [END] [END] 

[START] person standing front [END] NIL NIL NIL NIL
[START] group [END] [END] [END] [END] [END] [END] [END] 

[START] large group people stand [END] NIL NIL NIL
[START] group [END] [END] [END] [END] [END] [END] [END] 

[START] two women drink [END] NIL NIL NIL NIL
[START] group [END] [END] [END] [END] [END] [END] [END] 

[START] man walks past weathered posters [END] NIL NIL
[START] group [END] [END] [END] [END] [END] [END] [END] 

[START] group parades [END] NIL NIL NIL NIL NIL
[START] group [END] [END] [END] [END] [END] [END] [END] 

Epoch:1, Iteration: 194, Loss: 95.81, TimeElapsed: 28.51Min
Working (10, 200) torch.Size([10, 9])
Normal torch.Size([10, 9]) torch.Size([10, 9, 2512])
[START] two children stand near [END] NIL NIL NIL
[START] man man NIL NIL NIL NIL NIL NIL 

[START] two women wearing business casual clothing walk [END]
[START] man man NIL NIL NIL NIL NIL NIL 

[START] young boy wearing [END] NIL NIL NIL NIL
[START] man man NIL NIL NIL NIL NIL NIL 

[START] two small children sitting [END] NIL NIL NIL
[START] man man NIL NIL NIL NIL NIL NIL 

[START] girl black hair [END] NIL NIL NIL NIL
[START] man man NIL NIL NIL NIL NIL NIL 

[START] many people walk along [END] NIL NIL NIL
[START] man man NIL NIL NIL NIL NIL NIL 

[START] woman two children [END] NIL NIL NIL NIL
[START] man man NIL NIL NIL NIL NIL NIL 

[START] man wearing blue jacket glasses [END] NIL NIL
[START] man man NIL NIL NIL NIL NIL NIL 

[START] black dog jumps horizontal bar [END] NIL NIL
[START] man man NIL NIL NIL NIL NIL NIL 

[START] man behind either fence [END] NIL NIL NIL
[START] man man NIL NIL NIL NIL NIL NIL 

Epoch:1, Iteration: 195, Loss: 129.56, TimeElapsed: 28.55Min
Working (10, 200) torch.Size([10, 9])
Normal torch.Size([10, 9]) torch.Size([10, 9, 2512])
[START] light brown dog running along [END] NIL NIL
[START] man baby NIL NIL NIL NIL NIL NIL 

[START] girl wearing blue pants [END] NIL NIL NIL
[START] man baby NIL NIL NIL NIL NIL NIL 

[START] two men one standing one [END] NIL NIL
[START] man baby NIL NIL NIL NIL NIL NIL 

[START] bald older man sunglasses [END] NIL NIL NIL
[START] man baby NIL NIL NIL NIL NIL NIL 

[START] people photographing woman [END] NIL NIL NIL NIL
[START] man baby NIL NIL NIL NIL NIL NIL 

[START] child looks photographer [END] NIL NIL NIL NIL
[START] man baby NIL NIL NIL NIL NIL NIL 

[START] one guy bowling green [END] NIL NIL NIL
[START] man baby NIL NIL NIL NIL NIL NIL 

[START] man fishing near large tree [END] NIL NIL
[START] man baby NIL NIL NIL NIL NIL NIL 

[START] soccer teams play field [END] NIL NIL NIL
[START] man baby NIL NIL NIL NIL NIL NIL 

[START] laborers working [END] NIL NIL NIL NIL NIL
[START] man baby NIL NIL NIL NIL NIL NIL 

Epoch:1, Iteration: 196, Loss: 166.55, TimeElapsed: 28.6Min
Working (10, 200) torch.Size([10, 9])
Normal torch.Size([10, 9]) torch.Size([10, 9, 2512])
[START] man sunglasses puts arm [END] NIL NIL NIL
[START] girl girl girl girl girl NIL NIL NIL 

[START] people strolling indoor market [END] NIL NIL NIL
[START] girl girl girl girl girl NIL NIL NIL 

[START] three toddlers sit amidst cut [END] NIL NIL
[START] girl girl girl girl girl NIL NIL NIL 

[START] man setting ladder inside [END] NIL NIL NIL
[START] girl girl girl girl girl NIL NIL NIL 

[START] man sitting [END] NIL NIL NIL NIL NIL
[START] girl girl girl girl girl NIL NIL NIL 

[START] three dogs standing [END] NIL NIL NIL NIL
[START] girl girl girl girl girl NIL NIL NIL 

[START] boy laying clothes [END] NIL NIL NIL NIL
[START] girl girl girl girl girl NIL NIL NIL 

[START] two girls play chess restaurant [END] NIL NIL
[START] girl girl girl girl girl NIL NIL NIL 

[START] person wearing short sleeved [END] NIL NIL NIL
[START] girl girl girl girl girl NIL NIL NIL 

[START] woman horseback [END] NIL NIL NIL NIL NIL
[START] girl girl girl girl girl NIL NIL NIL 

Epoch:1, Iteration: 197, Loss: 155.87, TimeElapsed: 28.64Min
Working (10, 200) torch.Size([10, 9])
Normal torch.Size([10, 9]) torch.Size([10, 9, 2512])
[START] older man glasses [END] NIL NIL NIL NIL
[START] two boy boy boy boy boy boy boy 

[START] child hitting soccer ball [END] NIL NIL NIL
[START] two boy boy boy boy boy boy boy 

[START] stylish couple walking [END] NIL NIL NIL NIL
[START] two boy boy boy boy boy boy boy 

[START] brown dog chases [END] NIL NIL NIL NIL
[START] two boy boy boy boy boy boy boy 

[START] child blue [END] NIL NIL NIL NIL NIL
[START] two boy boy boy boy boy boy boy 

[START] four musicians playing [END] NIL NIL NIL NIL
[START] two boy boy boy boy boy boy boy 

[START] girl colorful dress [END] NIL NIL NIL NIL
[START] two boy boy boy boy boy boy boy 

[START] large class taught indian [END] NIL NIL NIL
[START] two boy boy boy boy boy boy boy 

[START] three children wait table [END] NIL NIL NIL
[START] two boy boy boy boy boy boy boy 

[START] lady white shirt [END] NIL NIL NIL NIL
[START] two boy boy boy boy boy boy boy 

Epoch:1, Iteration: 198, Loss: 112.5, TimeElapsed: 28.68Min
Working (10, 200) torch.Size([10, 9])
Normal torch.Size([10, 9]) torch.Size([10, 9, 2512])
[START] man throwing object [END] NIL NIL NIL NIL
[START] two women NIL NIL NIL NIL NIL NIL 

[START] boy wearing red [END] NIL NIL NIL NIL
[START] two women NIL NIL NIL NIL NIL NIL 

[START] skateboarder jumping one quarterpipe [END] NIL NIL NIL
[START] two women NIL NIL NIL NIL NIL NIL 

[START] lone person wearing [END] NIL NIL NIL NIL
[START] two women NIL NIL NIL NIL NIL NIL 

[START] two older men business attire [END] NIL NIL
[START] two women NIL NIL NIL NIL NIL NIL 

[START] female vocalist singing [END] NIL NIL NIL NIL
[START] two women NIL NIL NIL NIL NIL NIL 

[START] two young girls playing [END] NIL NIL NIL
[START] two women NIL NIL NIL NIL NIL NIL 

[START] little boy kicking [END] NIL NIL NIL NIL
[START] two women NIL NIL NIL NIL NIL NIL 

[START] group cheerleaders red outfits [END] NIL NIL NIL
[START] two women NIL NIL NIL NIL NIL NIL 

[START] man painting [END] NIL NIL NIL NIL NIL
[START] two women NIL NIL NIL NIL NIL NIL 

Epoch:1, Iteration: 199, Loss: 113.78, TimeElapsed: 28.73Min
Working (10, 200) torch.Size([10, 9])
Normal torch.Size([10, 9]) torch.Size([10, 9, 2512])
[START] someone making sand sculpture [END] NIL NIL NIL
[START] either either either either either either either either 

[START] black dog running grass [END] NIL NIL NIL
[START] either either either either either either either either 

[START] man blue [END] NIL NIL NIL NIL NIL
[START] either either either either either either either either 

[START] man sweeping street front [END] NIL NIL NIL
[START] either either either either either either either either 

[START] girl jumping [END] NIL NIL NIL NIL NIL
[START] either either either either either either either either 

[START] man bright [END] NIL NIL NIL NIL NIL
[START] either either either either either either either either 

[START] two women group men [END] NIL NIL NIL
[START] either either either either either either either either 

[START] snow dog red harness [END] NIL NIL NIL
[START] either either either either either either either either 

[START] woman dancer [END] NIL NIL NIL NIL NIL
[START] either either either either either either either either 

[START] two ladies laughing [END] NIL NIL NIL NIL
[START] either either either either either either either either 

Epoch:1, Iteration: 200, Loss: 114.53, TimeElapsed: 28.77Min
Working (10, 200) torch.Size([10, 9])
Normal torch.Size([10, 9]) torch.Size([10, 9, 2512])
[START] elementary school age boy [END] NIL NIL NIL
[START] child biker NIL NIL NIL NIL NIL NIL 

[START] man pierced ears [END] NIL NIL NIL NIL
[START] child biker NIL NIL NIL NIL NIL NIL 

[START] woman surprised [END] NIL NIL NIL NIL NIL
[START] child biker NIL NIL NIL NIL NIL NIL 

[START] man playing [END] NIL NIL NIL NIL NIL
[START] child biker NIL NIL NIL NIL NIL NIL 

[START] boy brown shirt [END] NIL NIL NIL NIL
[START] child biker NIL NIL NIL NIL NIL NIL 

[START] young girls sits front [END] NIL NIL NIL
[START] child biker NIL NIL NIL NIL NIL NIL 

[START] man white [END] NIL NIL NIL NIL NIL
[START] child biker NIL NIL NIL NIL NIL NIL 

[START] young boy standing classroom [END] NIL NIL NIL
[START] child biker NIL NIL NIL NIL NIL NIL 

[START] two asian males smile [END] NIL NIL NIL
[START] child biker NIL NIL NIL NIL NIL NIL 

[START] brown dog running [END] NIL NIL NIL NIL
[START] child biker NIL NIL NIL NIL NIL NIL 

Epoch:1, Iteration: 201, Loss: 91.95, TimeElapsed: 28.81Min
Working (10, 200) torch.Size([10, 9])
Normal torch.Size([10, 9]) torch.Size([10, 9, 2512])
[START] reunion full swing [END] NIL NIL NIL NIL
[START] lone lone NIL NIL NIL NIL NIL NIL 

[START] little boy sitting [END] NIL NIL NIL NIL
[START] lone lone NIL NIL NIL NIL NIL NIL 

[START] blond child sitting [END] NIL NIL NIL NIL
[START] lone lone NIL NIL NIL NIL NIL NIL 

[START] one man standing outside [END] NIL NIL NIL
[START] lone lone NIL NIL NIL NIL NIL NIL 

[START] man riding [END] NIL NIL NIL NIL NIL
[START] lone lone NIL NIL NIL NIL NIL NIL 

[START] small dog jumping [END] NIL NIL NIL NIL
[START] lone lone NIL NIL NIL NIL NIL NIL 

[START] two men wearing uniforms [END] NIL NIL NIL
[START] lone lone NIL NIL NIL NIL NIL NIL 

[START] hiking mountains [END] NIL NIL NIL NIL NIL
[START] lone lone NIL NIL NIL NIL NIL NIL 

[START] man blue cleans [END] NIL NIL NIL NIL
[START] lone lone NIL NIL NIL NIL NIL NIL 

[START] people sitting balcony enjoying [END] NIL NIL NIL
[START] lone lone NIL NIL NIL NIL NIL NIL 

Epoch:1, Iteration: 202, Loss: 104.24, TimeElapsed: 28.85Min
Working (10, 200) torch.Size([10, 9])
Normal torch.Size([10, 9]) torch.Size([10, 9, 2512])
[START] helmeted man jumping rock [END] NIL NIL NIL
[START] young [END] [END] NIL NIL NIL NIL NIL 

[START] bus worked [END] NIL NIL NIL NIL NIL
[START] young [END] [END] NIL NIL NIL NIL NIL 

[START] group young men throwing [END] NIL NIL NIL
[START] young [END] [END] NIL NIL NIL NIL NIL 

[START] two young men [END] NIL NIL NIL NIL
[START] young [END] [END] NIL NIL NIL NIL NIL 

[START] boy sits [END] NIL NIL NIL NIL NIL
[START] young [END] [END] NIL NIL NIL NIL NIL 

[START] man wearing protective eye gear [END] NIL NIL
[START] young [END] [END] NIL NIL NIL NIL NIL 

[START] three people standing outside near [END] NIL NIL
[START] young [END] [END] NIL NIL NIL NIL NIL 

[START] group people walking within [END] NIL NIL NIL
[START] young [END] [END] NIL NIL NIL NIL NIL 

[START] man distracted pretty [END] NIL NIL NIL NIL
[START] young [END] [END] NIL NIL NIL NIL NIL 

[START] black dog [END] NIL NIL NIL NIL NIL
[START] young [END] [END] NIL NIL NIL NIL NIL 

Epoch:1, Iteration: 203, Loss: 101.72, TimeElapsed: 28.9Min
Working (10, 200) torch.Size([10, 9])
Normal torch.Size([10, 9]) torch.Size([10, 9, 2512])
[START] sooners football player tackling [END] NIL NIL NIL
[START] man NIL NIL NIL NIL NIL NIL NIL 

[START] three girls laugh fun [END] NIL NIL NIL
[START] man NIL NIL NIL NIL NIL NIL NIL 

[START] man wearing gray jacket [END] NIL NIL NIL
[START] man NIL NIL NIL NIL NIL NIL NIL 

[START] asian man wearing [END] NIL NIL NIL NIL
[START] man NIL NIL NIL NIL NIL NIL NIL 

[START] boy sitting escalator [END] NIL NIL NIL NIL
[START] man NIL NIL NIL NIL NIL NIL NIL 

[START] couple sitting [END] NIL NIL NIL NIL NIL
[START] man NIL NIL NIL NIL NIL NIL NIL 

[START] woman taking food [END] NIL NIL NIL NIL
[START] man NIL NIL NIL NIL NIL NIL NIL 

[START] train approaches stop [END] NIL NIL NIL NIL
[START] man NIL NIL NIL NIL NIL NIL NIL 

[START] woman bowling bowling alley [END] NIL NIL NIL
[START] man NIL NIL NIL NIL NIL NIL NIL 

[START] young female swimmer [END] NIL NIL NIL NIL
[START] man NIL NIL NIL NIL NIL NIL NIL 

Epoch:1, Iteration: 204, Loss: 148.91, TimeElapsed: 28.95Min
Working (10, 200) torch.Size([10, 9])
Normal torch.Size([10, 9]) torch.Size([10, 9, 2512])
[START] construction worker orange [END] NIL NIL NIL NIL
[START] man NIL NIL NIL NIL NIL NIL NIL 

[START] little girl swinging [END] NIL NIL NIL NIL
[START] man NIL NIL NIL NIL NIL NIL NIL 

[START] person wearing costume [END] NIL NIL NIL NIL
[START] man NIL NIL NIL NIL NIL NIL NIL 

[START] adolescent green pants [END] NIL NIL NIL NIL
[START] man NIL NIL NIL NIL NIL NIL NIL 

[START] birthday celebration taking place [END] NIL NIL NIL
[START] man NIL NIL NIL NIL NIL NIL NIL 

[START] man stands field outside [END] NIL NIL NIL
[START] man NIL NIL NIL NIL NIL NIL NIL 

[START] elderly man smiling [END] NIL NIL NIL NIL
[START] man NIL NIL NIL NIL NIL NIL NIL 

[START] people outside small tents [END] NIL NIL NIL
[START] man NIL NIL NIL NIL NIL NIL NIL 

[START] four people outside three [END] NIL NIL NIL
[START] man NIL NIL NIL NIL NIL NIL NIL 

[START] dinner decisions crew [END] NIL NIL NIL NIL
[START] man NIL NIL NIL NIL NIL NIL NIL 

Epoch:1, Iteration: 205, Loss: 161.64, TimeElapsed: 29.0Min
Working (10, 200) torch.Size([10, 9])
Normal torch.Size([10, 9]) torch.Size([10, 9, 2512])
[START] man bowling various national [END] NIL NIL NIL
[START] attempting attempting attempting attempting attempting attempting attempting attempting 

[START] female texas tennis player dribbling [END] NIL NIL
[START] attempting attempting attempting attempting attempting attempting attempting attempting 

[START] two german sheppard dogs fighting [END] NIL NIL
[START] attempting attempting attempting attempting attempting attempting attempting attempting 

[START] young asian girl sits [END] NIL NIL NIL
[START] attempting attempting attempting attempting attempting attempting attempting attempting 

[START] young toddler experiences pool [END] NIL NIL NIL
[START] attempting attempting attempting attempting attempting attempting attempting attempting 

[START] two men black clothes [END] NIL NIL NIL
[START] attempting attempting attempting attempting attempting attempting attempting attempting 

[START] young boy black [END] NIL NIL NIL NIL
[START] attempting attempting attempting attempting attempting attempting attempting attempting 

[START] one guy decked red [END] NIL NIL NIL
[START] attempting attempting attempting attempting attempting attempting attempting attempting 

[START] two men hiking snow [END] NIL NIL NIL
[START] attempting attempting attempting attempting attempting attempting attempting attempting 

[START] elderly woman cane [END] NIL NIL NIL NIL
[START] attempting attempting attempting attempting attempting attempting attempting attempting 

Epoch:1, Iteration: 206, Loss: 172.63, TimeElapsed: 29.04Min
Working (10, 200) torch.Size([10, 9])
Normal torch.Size([10, 9]) torch.Size([10, 9, 2512])
[START] lady sitting someone [END] NIL NIL NIL NIL
[START] surprised surprised surprised surprised surprised surprised surprised surprised 

[START] man wearing orange [END] NIL NIL NIL NIL
[START] surprised surprised surprised surprised surprised surprised surprised surprised 

[START] brown black dog [END] NIL NIL NIL NIL
[START] surprised surprised surprised surprised surprised surprised surprised surprised 

[START] two men army presenting [END] NIL NIL NIL
[START] surprised surprised surprised surprised surprised surprised surprised surprised 

[START] baseball catcher stands ready [END] NIL NIL NIL
[START] surprised surprised surprised surprised surprised surprised surprised surprised 

[START] two dancers stage [END] NIL NIL NIL NIL
[START] surprised surprised surprised surprised surprised surprised surprised surprised 

[START] skateboarder trick cement [END] NIL NIL NIL NIL
[START] surprised surprised surprised surprised surprised surprised surprised surprised 

[START] woman light blue [END] NIL NIL NIL NIL
[START] surprised surprised surprised surprised surprised surprised surprised surprised 

[START] woman black shirt [END] NIL NIL NIL NIL
[START] surprised surprised surprised surprised surprised surprised surprised surprised 

[START] asian man riding scooter watches [END] NIL NIL
[START] surprised surprised surprised surprised surprised surprised surprised surprised 

Epoch:1, Iteration: 207, Loss: 114.81, TimeElapsed: 29.08Min
Working (10, 200) torch.Size([10, 9])
Normal torch.Size([10, 9]) torch.Size([10, 9, 2512])
[START] two children wearing orange walk [END] NIL NIL
[START] woman NIL NIL NIL NIL NIL NIL NIL 

[START] young woman [END] NIL NIL NIL NIL NIL
[START] woman NIL NIL NIL NIL NIL NIL NIL 

[START] two girls pots show [END] NIL NIL NIL
[START] woman NIL NIL NIL NIL NIL NIL NIL 

[START] two boys performing appears [END] NIL NIL NIL
[START] woman NIL NIL NIL NIL NIL NIL NIL 

[START] men fixing something [END] NIL NIL NIL NIL
[START] woman NIL NIL NIL NIL NIL NIL NIL 

[START] four dog owners stand three [END] NIL NIL
[START] woman NIL NIL NIL NIL NIL NIL NIL 

[START] little girl long [END] NIL NIL NIL NIL
[START] woman NIL NIL NIL NIL NIL NIL NIL 

[START] lady pushing baby [END] NIL NIL NIL NIL
[START] woman NIL NIL NIL NIL NIL NIL NIL 

[START] men build castle like sculptures [END] NIL NIL
[START] woman NIL NIL NIL NIL NIL NIL NIL 

[START] two men green shirts [END] NIL NIL NIL
[START] woman NIL NIL NIL NIL NIL NIL NIL 

Epoch:1, Iteration: 208, Loss: 132.32, TimeElapsed: 29.12Min
Working (10, 200) torch.Size([10, 9])
Normal torch.Size([10, 9]) torch.Size([10, 9, 2512])
[START] little boy walking stick tracks [END] NIL NIL
[START] object NIL NIL NIL NIL NIL NIL NIL 

[START] two women tank tops [END] NIL NIL NIL
[START] object NIL NIL NIL NIL NIL NIL NIL 

[START] lady sitting tree [END] NIL NIL NIL NIL
[START] object NIL NIL NIL NIL NIL NIL NIL 

[START] older gentleman working machine [END] NIL NIL NIL
[START] object NIL NIL NIL NIL NIL NIL NIL 

[START] two women military uniform [END] NIL NIL NIL
[START] object NIL NIL NIL NIL NIL NIL NIL 

[START] couple sitting [END] NIL NIL NIL NIL NIL
[START] object NIL NIL NIL NIL NIL NIL NIL 

[START] woman backpack walks along [END] NIL NIL NIL
[START] object NIL NIL NIL NIL NIL NIL NIL 

[START] two young male hikers using [END] NIL NIL
[START] object NIL NIL NIL NIL NIL NIL NIL 

[START] young boy sucks arm [END] NIL NIL NIL
[START] object NIL NIL NIL NIL NIL NIL NIL 

[START] white haired man walking [END] NIL NIL NIL
[START] object NIL NIL NIL NIL NIL NIL NIL 

Epoch:1, Iteration: 209, Loss: 156.48, TimeElapsed: 29.17Min
Working (10, 200) torch.Size([10, 9])
Normal torch.Size([10, 9]) torch.Size([10, 9, 2512])
[START] balding man blue [END] NIL NIL NIL NIL
[START] chases [END] NIL NIL NIL NIL NIL NIL 

[START] two boys pose front [END] NIL NIL NIL
[START] chases [END] NIL NIL NIL NIL NIL NIL 

[START] boy wearing navy blue [END] NIL NIL NIL
[START] chases [END] NIL NIL NIL NIL NIL NIL 

[START] two women kneeling pathway taking [END] NIL NIL
[START] chases [END] NIL NIL NIL NIL NIL NIL 

[START] man business attire [END] NIL NIL NIL NIL
[START] chases [END] NIL NIL NIL NIL NIL NIL 

[START] man tying yellow [END] NIL NIL NIL NIL
[START] chases [END] NIL NIL NIL NIL NIL NIL 

[START] man woman enjoy [END] NIL NIL NIL NIL
[START] chases [END] NIL NIL NIL NIL NIL NIL 

[START] woman pushing another person [END] NIL NIL NIL
[START] chases [END] NIL NIL NIL NIL NIL NIL 

[START] kid jacket points tongue [END] NIL NIL NIL
[START] chases [END] NIL NIL NIL NIL NIL NIL 

[START] three dogs round bend [END] NIL NIL NIL
[START] chases [END] NIL NIL NIL NIL NIL NIL 

Epoch:1, Iteration: 210, Loss: 151.25, TimeElapsed: 29.21Min
Working (10, 200) torch.Size([10, 9])
Normal torch.Size([10, 9]) torch.Size([10, 9, 2512])
[START] statue angle [END] NIL NIL NIL NIL NIL
[START] two [END] NIL NIL NIL NIL NIL NIL 

[START] lady green shirt [END] NIL NIL NIL NIL
[START] two [END] NIL NIL NIL NIL NIL NIL 

[START] woman wearing black snow gear walking [END] NIL
[START] two [END] NIL NIL NIL NIL NIL NIL 

[START] couple dances street [END] NIL NIL NIL NIL
[START] two [END] NIL NIL NIL NIL NIL NIL 

[START] female artist showing [END] NIL NIL NIL NIL
[START] two [END] NIL NIL NIL NIL NIL NIL 

[START] dimly lit stage [END] NIL NIL NIL NIL
[START] two [END] NIL NIL NIL NIL NIL NIL 

[START] man plaid [END] NIL NIL NIL NIL NIL
[START] two [END] NIL NIL NIL NIL NIL NIL 

[START] police officer keeps watch [END] NIL NIL NIL
[START] two [END] NIL NIL NIL NIL NIL NIL 

[START] two hockey players trying get [END] NIL NIL
[START] two [END] NIL NIL NIL NIL NIL NIL 

[START] man hanging [END] NIL NIL NIL NIL NIL
[START] two [END] NIL NIL NIL NIL NIL NIL 

Epoch:1, Iteration: 211, Loss: 151.06, TimeElapsed: 29.26Min
Working (10, 200) torch.Size([10, 9])
Normal torch.Size([10, 9]) torch.Size([10, 9, 2512])
[START] young kid wears [END] NIL NIL NIL NIL
[START] two various various various various various various various 

[START] blond child sleeping couch [END] NIL NIL NIL
[START] two various various various various various various various 

[START] 2 female babies eating chips [END] NIL NIL
[START] two various various various various various various various 

[START] elderly woman buying food [END] NIL NIL NIL
[START] two various various various various various various various 

[START] couple sunglasses laying [END] NIL NIL NIL NIL
[START] two various various various various various various various 

[START] two individuals male [END] NIL NIL NIL NIL
[START] two various various various various various various various 

[START] man walking [END] NIL NIL NIL NIL NIL
[START] two various various various various various various various 

[START] dog lying blue cloth [END] NIL NIL NIL
[START] two various various various various various various various 

[START] young boy standing next [END] NIL NIL NIL
[START] two various various various various various various various 

[START] bicyclist helmet [END] NIL NIL NIL NIL NIL
[START] two various various various various various various various 

Epoch:1, Iteration: 212, Loss: 142.29, TimeElapsed: 29.3Min
Working (10, 200) torch.Size([10, 9])
Normal torch.Size([10, 9]) torch.Size([10, 9, 2512])
[START] man stand primitive canoe paddling [END] NIL NIL
[START] man cheerleaders NIL NIL NIL NIL NIL NIL 

[START] woman wearing white hat [END] NIL NIL NIL
[START] man cheerleaders NIL NIL NIL NIL NIL NIL 

[START] person surfing distance [END] NIL NIL NIL NIL
[START] man cheerleaders NIL NIL NIL NIL NIL NIL 

[START] two small boys wearing [END] NIL NIL NIL
[START] man cheerleaders NIL NIL NIL NIL NIL NIL 

[START] girl pigtails playing [END] NIL NIL NIL NIL
[START] man cheerleaders NIL NIL NIL NIL NIL NIL 

[START] man woman [END] NIL NIL NIL NIL NIL
[START] man cheerleaders NIL NIL NIL NIL NIL NIL 

[START] batter prepares swing [END] NIL NIL NIL NIL
[START] man cheerleaders NIL NIL NIL NIL NIL NIL 

[START] man scuba diving underwater [END] NIL NIL NIL
[START] man cheerleaders NIL NIL NIL NIL NIL NIL 

[START] brunette woman [END] NIL NIL NIL NIL NIL
[START] man cheerleaders NIL NIL NIL NIL NIL NIL 

[START] brown bird sitting [END] NIL NIL NIL NIL
[START] man cheerleaders NIL NIL NIL NIL NIL NIL 

Epoch:1, Iteration: 213, Loss: 117.39, TimeElapsed: 29.34Min
Working (10, 200) torch.Size([10, 9])
Normal torch.Size([10, 9]) torch.Size([10, 9, 2512])
[START] many people smiling [END] NIL NIL NIL NIL
[START] man blond NIL NIL NIL NIL NIL NIL 

[START] person striped [END] NIL NIL NIL NIL NIL
[START] man blond NIL NIL NIL NIL NIL NIL 

[START] boy green plastic [END] NIL NIL NIL NIL
[START] man blond NIL NIL NIL NIL NIL NIL 

[START] woman blue [END] NIL NIL NIL NIL NIL
[START] man blond NIL NIL NIL NIL NIL NIL 

[START] man wearing baseball hat [END] NIL NIL NIL
[START] man blond NIL NIL NIL NIL NIL NIL 

[START] crowd people [END] NIL NIL NIL NIL NIL
[START] man blond NIL NIL NIL NIL NIL NIL 

[START] woman wearing black [END] NIL NIL NIL NIL
[START] man blond NIL NIL NIL NIL NIL NIL 

[START] brightly dressed men acrobatics [END] NIL NIL NIL
[START] man blond NIL NIL NIL NIL NIL NIL 

[START] showing one [END] NIL NIL NIL NIL NIL
[START] man blond NIL NIL NIL NIL NIL NIL 

[START] three women running numbers [END] NIL NIL NIL
[START] man blond NIL NIL NIL NIL NIL NIL 

Epoch:1, Iteration: 214, Loss: 106.71, TimeElapsed: 29.38Min
Working (10, 200) torch.Size([10, 9])
Normal torch.Size([10, 9]) torch.Size([10, 9, 2512])
[START] woman dress [END] NIL NIL NIL NIL NIL
[START] man black NIL NIL NIL NIL NIL NIL 

[START] band wearing red white [END] NIL NIL NIL
[START] man black NIL NIL NIL NIL NIL NIL 

[START] man sits table [END] NIL NIL NIL NIL
[START] man black NIL NIL NIL NIL NIL NIL 

[START] man blue [END] NIL NIL NIL NIL NIL
[START] man black NIL NIL NIL NIL NIL NIL 

[START] child plays fountain [END] NIL NIL NIL NIL
[START] man black NIL NIL NIL NIL NIL NIL 

[START] man [END] NIL NIL NIL NIL NIL NIL
[START] man black NIL NIL NIL NIL NIL NIL 

[START] older man [END] NIL NIL NIL NIL NIL
[START] man black NIL NIL NIL NIL NIL NIL 

[START] four teens school uniforms walk [END] NIL NIL
[START] man black NIL NIL NIL NIL NIL NIL 

[START] little girl climbing [END] NIL NIL NIL NIL
[START] man black NIL NIL NIL NIL NIL NIL 

[START] several men hard hats [END] NIL NIL NIL
[START] man black NIL NIL NIL NIL NIL NIL 

Epoch:1, Iteration: 215, Loss: 85.71, TimeElapsed: 29.43Min
Working (10, 200) torch.Size([10, 9])
Normal torch.Size([10, 9]) torch.Size([10, 9, 2512])
[START] two people one riding [END] NIL NIL NIL
[START] bicyclist dances dances dances dances dances dances dances 

[START] man beige suit [END] NIL NIL NIL NIL
[START] bicyclist dances dances dances dances dances dances dances 

[START] little boy jumps [END] NIL NIL NIL NIL
[START] bicyclist dances dances dances dances dances dances dances 

[START] man helps daughter [END] NIL NIL NIL NIL
[START] bicyclist dances dances dances dances dances dances dances 

[START] two women dressed professionally wearing [END] NIL NIL
[START] bicyclist dances dances dances dances dances dances dances 

[START] girl walking alone night [END] NIL NIL NIL
[START] bicyclist dances dances dances dances dances dances dances 

[START] three young women perform dance [END] NIL NIL
[START] bicyclist dances dances dances dances dances dances dances 

[START] street poor [END] NIL NIL NIL NIL NIL
[START] bicyclist dances dances dances dances dances dances dances 

[START] group people [END] NIL NIL NIL NIL NIL
[START] bicyclist dances dances dances dances dances dances dances 

[START] three people lean railing look [END] NIL NIL
[START] bicyclist dances dances dances dances dances dances dances 

Epoch:1, Iteration: 216, Loss: 126.25, TimeElapsed: 29.47Min
Working (10, 200) torch.Size([10, 9])
Normal torch.Size([10, 9]) torch.Size([10, 9, 2512])
[START] customers interacting watching television bar [END] NIL NIL
[START] four within within [END] [END] [END] [END] [END] 

[START] lady kind eyes [END] NIL NIL NIL NIL
[START] four within within [END] [END] [END] [END] [END] 

[START] woman medical mask white [END] NIL NIL NIL
[START] four within within [END] [END] [END] [END] [END] 

[START] couple boat [END] NIL NIL NIL NIL NIL
[START] four within within [END] [END] [END] [END] [END] 

[START] lady sitting dark wood [END] NIL NIL NIL
[START] four within within [END] [END] [END] [END] [END] 

[START] group people walking [END] NIL NIL NIL NIL
[START] four within within [END] [END] [END] [END] [END] 

[START] older man [END] NIL NIL NIL NIL NIL
[START] four within within [END] [END] [END] [END] [END] 

[START] festival going [END] NIL NIL NIL NIL NIL
[START] four within within [END] [END] [END] [END] [END] 

[START] man wearing black [END] NIL NIL NIL NIL
[START] four within within [END] [END] [END] [END] [END] 

[START] mule pulling carriage [END] NIL NIL NIL NIL
[START] four within within [END] [END] [END] [END] [END] 

Epoch:1, Iteration: 217, Loss: 126.17, TimeElapsed: 29.52Min
Working (10, 200) torch.Size([10, 9])
Normal torch.Size([10, 9]) torch.Size([10, 9, 2512])
[START] woman wearing blue [END] NIL NIL NIL NIL
[START] young NIL NIL NIL NIL NIL NIL NIL 

[START] toyota truck parked outside [END] NIL NIL NIL
[START] young NIL NIL NIL NIL NIL NIL NIL 

[START] cute little boy walking path [END] NIL NIL
[START] young NIL NIL NIL NIL NIL NIL NIL 

[START] woman flowers [END] NIL NIL NIL NIL NIL
[START] young NIL NIL NIL NIL NIL NIL NIL 

[START] group people walking [END] NIL NIL NIL NIL
[START] young NIL NIL NIL NIL NIL NIL NIL 

[START] tiger woods putts golf ball [END] NIL NIL
[START] young NIL NIL NIL NIL NIL NIL NIL 

[START] dog n seem [END] NIL NIL NIL NIL
[START] young NIL NIL NIL NIL NIL NIL NIL 

[START] man black shirt jeans [END] NIL NIL NIL
[START] young NIL NIL NIL NIL NIL NIL NIL 

[START] one girl handstand [END] NIL NIL NIL NIL
[START] young NIL NIL NIL NIL NIL NIL NIL 

[START] young man surfing [END] NIL NIL NIL NIL
[START] young NIL NIL NIL NIL NIL NIL NIL 

Epoch:1, Iteration: 218, Loss: 127.14, TimeElapsed: 29.56Min
Working (10, 200) torch.Size([10, 9])
Normal torch.Size([10, 9]) torch.Size([10, 9, 2512])
[START] teenager laying paper crafts strewn [END] NIL NIL
[START] like like NIL NIL NIL NIL NIL NIL 

[START] man pulls wagon full [END] NIL NIL NIL
[START] like like NIL NIL NIL NIL NIL NIL 

[START] waiter black [END] NIL NIL NIL NIL NIL
[START] like like NIL NIL NIL NIL NIL NIL 

[START] man wearing large crown sitting [END] NIL NIL
[START] like like NIL NIL NIL NIL NIL NIL 

[START] young woman bikini holding [END] NIL NIL NIL
[START] like like NIL NIL NIL NIL NIL NIL 

[START] two musicians stage [END] NIL NIL NIL NIL
[START] like like NIL NIL NIL NIL NIL NIL 

[START] dark brown dog running [END] NIL NIL NIL
[START] like like NIL NIL NIL NIL NIL NIL 

[START] peasant woman sells variety vegetables [END] NIL NIL
[START] like like NIL NIL NIL NIL NIL NIL 

[START] man sitting using tool table [END] NIL NIL
[START] like like NIL NIL NIL NIL NIL NIL 

[START] man wearing red [END] NIL NIL NIL NIL
[START] like like NIL NIL NIL NIL NIL NIL 

Epoch:1, Iteration: 219, Loss: 167.1, TimeElapsed: 29.6Min
Working (10, 200) torch.Size([10, 9])
Normal torch.Size([10, 9]) torch.Size([10, 9, 2512])
[START] three people alley [END] NIL NIL NIL NIL
[START] eyes eyes eyes eyes eyes eyes eyes eyes 

[START] police officer stands [END] NIL NIL NIL NIL
[START] eyes eyes eyes eyes eyes eyes eyes eyes 

[START] woman wearing scarf hat [END] NIL NIL NIL
[START] eyes eyes eyes eyes eyes eyes eyes eyes 

[START] woman red hair [END] NIL NIL NIL NIL
[START] eyes eyes eyes eyes eyes eyes eyes eyes 

[START] man looking telescope [END] NIL NIL NIL NIL
[START] eyes eyes eyes eyes eyes eyes eyes eyes 

[START] brown white dog [END] NIL NIL NIL NIL
[START] eyes eyes eyes eyes eyes eyes eyes eyes 

[START] black dog white [END] NIL NIL NIL NIL
[START] eyes eyes eyes eyes eyes eyes eyes eyes 

[START] young girl goggles [END] NIL NIL NIL NIL
[START] eyes eyes eyes eyes eyes eyes eyes eyes 

[START] woman kid [END] NIL NIL NIL NIL NIL
[START] eyes eyes eyes eyes eyes eyes eyes eyes 

[START] men orange vests [END] NIL NIL NIL NIL
[START] eyes eyes eyes eyes eyes eyes eyes eyes 

Epoch:1, Iteration: 220, Loss: 82.12, TimeElapsed: 29.65Min
Working (10, 200) torch.Size([10, 9])
Normal torch.Size([10, 9]) torch.Size([10, 9, 2512])
[START] person wearing glasses drinks [END] NIL NIL NIL
[START] woman NIL NIL NIL NIL NIL NIL NIL 

[START] group women look unhappy [END] NIL NIL NIL
[START] woman NIL NIL NIL NIL NIL NIL NIL 

[START] larger man putting [END] NIL NIL NIL NIL
[START] woman NIL NIL NIL NIL NIL NIL NIL 

[START] guy black shirt [END] NIL NIL NIL NIL
[START] woman NIL NIL NIL NIL NIL NIL NIL 

[START] baby exploring house [END] NIL NIL NIL NIL
[START] woman NIL NIL NIL NIL NIL NIL NIL 

[START] child climbing top [END] NIL NIL NIL NIL
[START] woman NIL NIL NIL NIL NIL NIL NIL 

[START] brown haired woman talking man [END] NIL NIL
[START] woman NIL NIL NIL NIL NIL NIL NIL 

[START] man tank [END] NIL NIL NIL NIL NIL
[START] woman NIL NIL NIL NIL NIL NIL NIL 

[START] construction workers installing light post [END] NIL NIL
[START] woman NIL NIL NIL NIL NIL NIL NIL 

[START] dog lays back [END] NIL NIL NIL NIL
[START] woman NIL NIL NIL NIL NIL NIL NIL 

Epoch:1, Iteration: 221, Loss: 151.61, TimeElapsed: 29.69Min
Working (10, 200) torch.Size([10, 9])
Normal torch.Size([10, 9]) torch.Size([10, 9, 2512])
[START] people sit around table laid [END] NIL NIL
[START] railing railing railing railing railing railing railing railing 

[START] desert cloudy [END] NIL NIL NIL NIL NIL
[START] railing railing railing railing railing railing railing railing 

[START] small red haired girl jumps [END] NIL NIL
[START] railing railing railing railing railing railing railing railing 

[START] two people sitting front [END] NIL NIL NIL
[START] railing railing railing railing railing railing railing railing 

[START] group teenage boys [END] NIL NIL NIL NIL
[START] railing railing railing railing railing railing railing railing 

[START] little boy appears [END] NIL NIL NIL NIL
[START] railing railing railing railing railing railing railing railing 

[START] children playing tug war [END] NIL NIL NIL
[START] railing railing railing railing railing railing railing railing 

[START] two boys riding bikes [END] NIL NIL NIL
[START] railing railing railing railing railing railing railing railing 

[START] six children boys girls [END] NIL NIL NIL
[START] railing railing railing railing railing railing railing railing 

[START] two couples four kids [END] NIL NIL NIL
[START] railing railing railing railing railing railing railing railing 

Epoch:1, Iteration: 222, Loss: 145.57, TimeElapsed: 29.73Min
Working (10, 200) torch.Size([10, 9])
Normal torch.Size([10, 9]) torch.Size([10, 9, 2512])
[START] women blue leotards hugging [END] NIL NIL NIL
[START] cute sells sells sells sells sells sells sells 

[START] guy green shirt [END] NIL NIL NIL NIL
[START] cute sells sells sells sells sells sells sells 

[START] group dogs pull [END] NIL NIL NIL NIL
[START] cute sells sells sells sells sells sells sells 

[START] lady man [END] NIL NIL NIL NIL NIL
[START] cute sells sells sells sells sells sells sells 

[START] woman brown hair [END] NIL NIL NIL NIL
[START] cute sells sells sells sells sells sells sells 

[START] horse rider watching [END] NIL NIL NIL NIL
[START] cute sells sells sells sells sells sells sells 

[START] group women [END] NIL NIL NIL NIL NIL
[START] cute sells sells sells sells sells sells sells 

[START] young girl swinging high [END] NIL NIL NIL
[START] cute sells sells sells sells sells sells sells 

[START] beautiful woman angel wings [END] NIL NIL NIL
[START] cute sells sells sells sells sells sells sells 

[START] group men sitting [END] NIL NIL NIL NIL
[START] cute sells sells sells sells sells sells sells 

Epoch:1, Iteration: 223, Loss: 131.49, TimeElapsed: 29.78Min
Working (10, 200) torch.Size([10, 9])
Normal torch.Size([10, 9]) torch.Size([10, 9, 2512])
[START] middle aged blond lounging [END] NIL NIL NIL
[START] kneeling kneeling NIL NIL NIL NIL NIL NIL 

[START] group people dress [END] NIL NIL NIL NIL
[START] kneeling kneeling NIL NIL NIL NIL NIL NIL 

[START] elderly man sits alone [END] NIL NIL NIL
[START] kneeling kneeling NIL NIL NIL NIL NIL NIL 

[START] indonesian child selling wares [END] NIL NIL NIL
[START] kneeling kneeling NIL NIL NIL NIL NIL NIL 

[START] man reading newspaper [END] NIL NIL NIL NIL
[START] kneeling kneeling NIL NIL NIL NIL NIL NIL 

[START] two women look [END] NIL NIL NIL NIL
[START] kneeling kneeling NIL NIL NIL NIL NIL NIL 

[START] asian youth sitting [END] NIL NIL NIL NIL
[START] kneeling kneeling NIL NIL NIL NIL NIL NIL 

[START] adult wearing gray shirt [END] NIL NIL NIL
[START] kneeling kneeling NIL NIL NIL NIL NIL NIL 

[START] beagle playing [END] NIL NIL NIL NIL NIL
[START] kneeling kneeling NIL NIL NIL NIL NIL NIL 

[START] toddler sits pile [END] NIL NIL NIL NIL
[START] kneeling kneeling NIL NIL NIL NIL NIL NIL 

Epoch:1, Iteration: 224, Loss: 124.88, TimeElapsed: 29.82Min
Working (10, 200) torch.Size([10, 9])
Normal torch.Size([10, 9]) torch.Size([10, 9, 2512])
[START] shirtless man jumping old [END] NIL NIL NIL
[START] teenager NIL NIL NIL NIL NIL NIL NIL 

[START] young girl jumping [END] NIL NIL NIL NIL
[START] teenager NIL NIL NIL NIL NIL NIL NIL 

[START] child smiles hangs small [END] NIL NIL NIL
[START] teenager NIL NIL NIL NIL NIL NIL NIL 

[START] man black hat black [END] NIL NIL NIL
[START] teenager NIL NIL NIL NIL NIL NIL NIL 

[START] female wearing shawl around shoulders [END] NIL NIL
[START] teenager NIL NIL NIL NIL NIL NIL NIL 

[START] boy football runs [END] NIL NIL NIL NIL
[START] teenager NIL NIL NIL NIL NIL NIL NIL 

[START] young gymnast supple [END] NIL NIL NIL NIL
[START] teenager NIL NIL NIL NIL NIL NIL NIL 

[START] young man wearing [END] NIL NIL NIL NIL
[START] teenager NIL NIL NIL NIL NIL NIL NIL 

[START] smiling man white [END] NIL NIL NIL NIL
[START] teenager NIL NIL NIL NIL NIL NIL NIL 

[START] man looks barred hole [END] NIL NIL NIL
[START] teenager NIL NIL NIL NIL NIL NIL NIL 

Epoch:1, Iteration: 225, Loss: 126.3, TimeElapsed: 29.87Min
Working (10, 200) torch.Size([10, 9])
Normal torch.Size([10, 9]) torch.Size([10, 9, 2512])
[START] woman playing [END] NIL NIL NIL NIL NIL
[START] vests [END] [END] [END] [END] [END] [END] [END] 

[START] two guys sorting items [END] NIL NIL NIL
[START] vests [END] [END] [END] [END] [END] [END] [END] 

[START] three people walking [END] NIL NIL NIL NIL
[START] vests [END] [END] [END] [END] [END] [END] [END] 

[START] bearded man [END] NIL NIL NIL NIL NIL
[START] vests [END] [END] [END] [END] [END] [END] [END] 

[START] crowd ordinary people [END] NIL NIL NIL NIL
[START] vests [END] [END] [END] [END] [END] [END] [END] 

[START] young boy [END] NIL NIL NIL NIL NIL
[START] vests [END] [END] [END] [END] [END] [END] [END] 

[START] little boy trying climb [END] NIL NIL NIL
[START] vests [END] [END] [END] [END] [END] [END] [END] 

[START] two soccer players fighting [END] NIL NIL NIL
[START] vests [END] [END] [END] [END] [END] [END] [END] 

[START] black brown dog [END] NIL NIL NIL NIL
[START] vests [END] [END] [END] [END] [END] [END] [END] 

[START] several women walking [END] NIL NIL NIL NIL
[START] vests [END] [END] [END] [END] [END] [END] [END] 

Epoch:1, Iteration: 226, Loss: 94.58, TimeElapsed: 29.91Min
Working (10, 200) torch.Size([10, 9])
Normal torch.Size([10, 9]) torch.Size([10, 9, 2512])
[START] young boy plays [END] NIL NIL NIL NIL
[START] group NIL NIL NIL NIL NIL NIL NIL 

[START] white dog swimming [END] NIL NIL NIL NIL
[START] group NIL NIL NIL NIL NIL NIL NIL 

[START] baby wearing green [END] NIL NIL NIL NIL
[START] group NIL NIL NIL NIL NIL NIL NIL 

[START] man holds bagpipes [END] NIL NIL NIL NIL
[START] group NIL NIL NIL NIL NIL NIL NIL 

[START] two dogs playing [END] NIL NIL NIL NIL
[START] group NIL NIL NIL NIL NIL NIL NIL 

[START] large brown dog walks [END] NIL NIL NIL
[START] group NIL NIL NIL NIL NIL NIL NIL 

[START] young girl concentrating game [END] NIL NIL NIL
[START] group NIL NIL NIL NIL NIL NIL NIL 

[START] modern building employees [END] NIL NIL NIL NIL
[START] group NIL NIL NIL NIL NIL NIL NIL 

[START] teacher students playing [END] NIL NIL NIL NIL
[START] group NIL NIL NIL NIL NIL NIL NIL 

[START] man black [END] NIL NIL NIL NIL NIL
[START] group NIL NIL NIL NIL NIL NIL NIL 

Epoch:1, Iteration: 227, Loss: 105.84, TimeElapsed: 29.96Min
Working (10, 200) torch.Size([10, 9])
Normal torch.Size([10, 9]) torch.Size([10, 9, 2512])
[START] celebrated dance parade [END] NIL NIL NIL NIL
[START] man NIL NIL NIL NIL NIL NIL NIL 

[START] man blue [END] NIL NIL NIL NIL NIL
[START] man NIL NIL NIL NIL NIL NIL NIL 

[START] young child wearing green [END] NIL NIL NIL
[START] man NIL NIL NIL NIL NIL NIL NIL 

[START] little blond girl sitting [END] NIL NIL NIL
[START] man NIL NIL NIL NIL NIL NIL NIL 

[START] boys smiles underwater pool [END] NIL NIL NIL
[START] man NIL NIL NIL NIL NIL NIL NIL 

[START] man green [END] NIL NIL NIL NIL NIL
[START] man NIL NIL NIL NIL NIL NIL NIL 

[START] dog floppy ears runs [END] NIL NIL NIL
[START] man NIL NIL NIL NIL NIL NIL NIL 

[START] young women gather small party [END] NIL NIL
[START] man NIL NIL NIL NIL NIL NIL NIL 

[START] three women clap sing [END] NIL NIL NIL
[START] man NIL NIL NIL NIL NIL NIL NIL 

[START] two redheaded children play [END] NIL NIL NIL
[START] man NIL NIL NIL NIL NIL NIL NIL 

Epoch:1, Iteration: 228, Loss: 113.89, TimeElapsed: 30.0Min
Working (10, 200) torch.Size([10, 9])
Normal torch.Size([10, 9]) torch.Size([10, 9, 2512])
[START] asian man working meat processing place [END] NIL
[START] man [END] NIL NIL NIL NIL NIL NIL 

[START] three people jackets backs turned [END] NIL NIL
[START] man [END] NIL NIL NIL NIL NIL NIL 

[START] two guys working [END] NIL NIL NIL NIL
[START] man [END] NIL NIL NIL NIL NIL NIL 

[START] team plays ball [END] NIL NIL NIL NIL
[START] man [END] NIL NIL NIL NIL NIL NIL 

[START] woman riding bicycle cart [END] NIL NIL NIL
[START] man [END] NIL NIL NIL NIL NIL NIL 

[START] older woman sits [END] NIL NIL NIL NIL
[START] man [END] NIL NIL NIL NIL NIL NIL 

[START] man jumps hill [END] NIL NIL NIL NIL
[START] man [END] NIL NIL NIL NIL NIL NIL 

[START] rugby player white number 25 uniform [END] NIL
[START] man [END] NIL NIL NIL NIL NIL NIL 

[START] man standing behind kitchenaid counter explaining [END] NIL
[START] man [END] NIL NIL NIL NIL NIL NIL 

[START] woman man [END] NIL NIL NIL NIL NIL
[START] man [END] NIL NIL NIL NIL NIL NIL 

Epoch:1, Iteration: 229, Loss: 175.69, TimeElapsed: 30.05Min
Working (10, 200) torch.Size([10, 9])
Normal torch.Size([10, 9]) torch.Size([10, 9, 2512])
[START] person plaid shirt [END] NIL NIL NIL NIL
[START] items items items items items items items items 

[START] view onto street [END] NIL NIL NIL NIL
[START] items items items items items items items items 

[START] two woman standing next [END] NIL NIL NIL
[START] items items items items items items items items 

[START] children swinging air [END] NIL NIL NIL NIL
[START] items items items items items items items items 

[START] people standing outside [END] NIL NIL NIL NIL
[START] items items items items items items items items 

[START] young children playing paper [END] NIL NIL NIL
[START] items items items items items items items items 

[START] bride groom [END] NIL NIL NIL NIL NIL
[START] items items items items items items items items 

[START] man wife [END] NIL NIL NIL NIL NIL
[START] items items items items items items items items 

[START] crying woman talking microphone [END] NIL NIL NIL
[START] items items items items items items items items 

[START] man rock climbing [END] NIL NIL NIL NIL
[START] items items items items items items items items 

Epoch:1, Iteration: 230, Loss: 120.31, TimeElapsed: 30.09Min
Working (10, 200) torch.Size([10, 9])
Normal torch.Size([10, 9]) torch.Size([10, 9, 2512])
[START] sweet toddler looks [END] NIL NIL NIL NIL
[START] man sitting sitting sitting sitting sitting sitting sitting 

[START] street performer plays acoustic [END] NIL NIL NIL
[START] man sitting sitting sitting sitting sitting sitting sitting 

[START] two dogs play bottle [END] NIL NIL NIL
[START] man sitting sitting sitting sitting sitting sitting sitting 

[START] people talking together [END] NIL NIL NIL NIL
[START] man sitting sitting sitting sitting sitting sitting sitting 

[START] man stooped [END] NIL NIL NIL NIL NIL
[START] man sitting sitting sitting sitting sitting sitting sitting 

[START] two swimmers race [END] NIL NIL NIL NIL
[START] man sitting sitting sitting sitting sitting sitting sitting 

[START] man wearing yellow [END] NIL NIL NIL NIL
[START] man sitting sitting sitting sitting sitting sitting sitting 

[START] toddler wears red [END] NIL NIL NIL NIL
[START] man sitting sitting sitting sitting sitting sitting sitting 

[START] three men seated elephant [END] NIL NIL NIL
[START] man sitting sitting sitting sitting sitting sitting sitting 

[START] policeman shown working [END] NIL NIL NIL NIL
[START] man sitting sitting sitting sitting sitting sitting sitting 

Epoch:1, Iteration: 231, Loss: 153.5, TimeElapsed: 30.14Min
Working (10, 200) torch.Size([10, 9])
Normal torch.Size([10, 9]) torch.Size([10, 9, 2512])
[START] woman shaving lamb [END] NIL NIL NIL NIL
[START] man NIL NIL NIL NIL NIL NIL NIL 

[START] crosscountry runner running [END] NIL NIL NIL NIL
[START] man NIL NIL NIL NIL NIL NIL NIL 

[START] man black [END] NIL NIL NIL NIL NIL
[START] man NIL NIL NIL NIL NIL NIL NIL 

[START] man pouring drinks [END] NIL NIL NIL NIL
[START] man NIL NIL NIL NIL NIL NIL NIL 

[START] man white camp [END] NIL NIL NIL NIL
[START] man NIL NIL NIL NIL NIL NIL NIL 

[START] boy rollerskating [END] NIL NIL NIL NIL NIL
[START] man NIL NIL NIL NIL NIL NIL NIL 

[START] woman holding black purse [END] NIL NIL NIL
[START] man NIL NIL NIL NIL NIL NIL NIL 

[START] man playing xylophone [END] NIL NIL NIL NIL
[START] man NIL NIL NIL NIL NIL NIL NIL 

[START] man painting [END] NIL NIL NIL NIL NIL
[START] man NIL NIL NIL NIL NIL NIL NIL 

[START] large group people [END] NIL NIL NIL NIL
[START] man NIL NIL NIL NIL NIL NIL NIL 

Epoch:1, Iteration: 232, Loss: 102.11, TimeElapsed: 30.18Min
Working (10, 200) torch.Size([10, 9])
Normal torch.Size([10, 9]) torch.Size([10, 9, 2512])
[START] uh football player 15 [END] NIL NIL NIL
[START] lays wearing NIL NIL NIL NIL NIL NIL 

[START] man practices rollerblading tricks [END] NIL NIL NIL
[START] lays wearing NIL NIL NIL NIL NIL NIL 

[START] woman talks [END] NIL NIL NIL NIL NIL
[START] lays wearing NIL NIL NIL NIL NIL NIL 

[START] couple walking hand hand [END] NIL NIL NIL
[START] lays wearing NIL NIL NIL NIL NIL NIL 

[START] group teenagers look towards [END] NIL NIL NIL
[START] lays wearing NIL NIL NIL NIL NIL NIL 

[START] woman blue shirt rinsing [END] NIL NIL NIL
[START] lays wearing NIL NIL NIL NIL NIL NIL 

[START] sidewalk artist wearing [END] NIL NIL NIL NIL
[START] lays wearing NIL NIL NIL NIL NIL NIL 

[START] older woman blowing [END] NIL NIL NIL NIL
[START] lays wearing NIL NIL NIL NIL NIL NIL 

[START] three people walking [END] NIL NIL NIL NIL
[START] lays wearing NIL NIL NIL NIL NIL NIL 

[START] 2 kids jumping [END] NIL NIL NIL NIL
[START] lays wearing NIL NIL NIL NIL NIL NIL 

Epoch:1, Iteration: 233, Loss: 124.84, TimeElapsed: 30.24Min
Working (10, 200) torch.Size([10, 9])
Normal torch.Size([10, 9]) torch.Size([10, 9, 2512])
[START] little boy kicking [END] NIL NIL NIL NIL
[START] woman NIL NIL NIL NIL NIL NIL NIL 

[START] woman formal [END] NIL NIL NIL NIL NIL
[START] woman NIL NIL NIL NIL NIL NIL NIL 

[START] young black baby colorful clothing [END] NIL NIL
[START] woman NIL NIL NIL NIL NIL NIL NIL 

[START] woman inside building [END] NIL NIL NIL NIL
[START] woman NIL NIL NIL NIL NIL NIL NIL 

[START] big brown dog jumping [END] NIL NIL NIL
[START] woman NIL NIL NIL NIL NIL NIL NIL 

[START] man fixes food [END] NIL NIL NIL NIL
[START] woman NIL NIL NIL NIL NIL NIL NIL 

[START] two guys riding skateboards [END] NIL NIL NIL
[START] woman NIL NIL NIL NIL NIL NIL NIL 

[START] couple sit [END] NIL NIL NIL NIL NIL
[START] woman NIL NIL NIL NIL NIL NIL NIL 

[START] two people cross [END] NIL NIL NIL NIL
[START] woman NIL NIL NIL NIL NIL NIL NIL 

[START] baby plays woman [END] NIL NIL NIL NIL
[START] woman NIL NIL NIL NIL NIL NIL NIL 

Epoch:1, Iteration: 234, Loss: 94.93, TimeElapsed: 30.28Min
Working (10, 200) torch.Size([10, 9])
Normal torch.Size([10, 9]) torch.Size([10, 9, 2512])
[START] old man orange shirt [END] NIL NIL NIL
[START] woman [END] [END] [END] [END] [END] [END] [END] 

[START] child smiles rock climbs [END] NIL NIL NIL
[START] woman [END] [END] [END] [END] [END] [END] [END] 

[START] black white dog jomps another [END] NIL NIL
[START] woman [END] [END] [END] [END] [END] [END] [END] 

[START] little boy [END] NIL NIL NIL NIL NIL
[START] woman [END] [END] [END] [END] [END] [END] [END] 

[START] two dogs wrestle [END] NIL NIL NIL NIL
[START] woman [END] [END] [END] [END] [END] [END] [END] 

[START] people crossing street [END] NIL NIL NIL NIL
[START] woman [END] [END] [END] [END] [END] [END] [END] 

[START] motorcycle parked [END] NIL NIL NIL NIL NIL
[START] woman [END] [END] [END] [END] [END] [END] [END] 

[START] man colorful button shirt [END] NIL NIL NIL
[START] woman [END] [END] [END] [END] [END] [END] [END] 

[START] man bright [END] NIL NIL NIL NIL NIL
[START] woman [END] [END] [END] [END] [END] [END] [END] 

[START] woman blue [END] NIL NIL NIL NIL NIL
[START] woman [END] [END] [END] [END] [END] [END] [END] 

Epoch:1, Iteration: 235, Loss: 94.73, TimeElapsed: 30.32Min
Working (10, 200) torch.Size([10, 9])
Normal torch.Size([10, 9]) torch.Size([10, 9, 2512])
[START] scene accident [END] NIL NIL NIL NIL NIL
[START] young alley NIL NIL NIL NIL NIL NIL 

[START] young child [END] NIL NIL NIL NIL NIL
[START] young alley NIL NIL NIL NIL NIL NIL 

[START] little boy playing [END] NIL NIL NIL NIL
[START] young alley NIL NIL NIL NIL NIL NIL 

[START] house painter clothes [END] NIL NIL NIL NIL
[START] young alley NIL NIL NIL NIL NIL NIL 

[START] child black shirt sitting [END] NIL NIL NIL
[START] young alley NIL NIL NIL NIL NIL NIL 

[START] women contemplating bets [END] NIL NIL NIL NIL
[START] young alley NIL NIL NIL NIL NIL NIL 

[START] woman magazine stand [END] NIL NIL NIL NIL
[START] young alley NIL NIL NIL NIL NIL NIL 

[START] boy cleaning garbage [END] NIL NIL NIL NIL
[START] young alley NIL NIL NIL NIL NIL NIL 

[START] person blue shirt [END] NIL NIL NIL NIL
[START] young alley NIL NIL NIL NIL NIL NIL 

[START] two women city street [END] NIL NIL NIL
[START] young alley NIL NIL NIL NIL NIL NIL 

Epoch:1, Iteration: 236, Loss: 92.2, TimeElapsed: 30.37Min
Working (10, 200) torch.Size([10, 9])
Normal torch.Size([10, 9]) torch.Size([10, 9, 2512])
[START] multiple students sitting stairs [END] NIL NIL NIL
[START] two NIL NIL NIL NIL NIL NIL NIL 

[START] child dog [END] NIL NIL NIL NIL NIL
[START] two NIL NIL NIL NIL NIL NIL NIL 

[START] little girl wearing [END] NIL NIL NIL NIL
[START] two NIL NIL NIL NIL NIL NIL NIL 

[START] conductor facing [END] NIL NIL NIL NIL NIL
[START] two NIL NIL NIL NIL NIL NIL NIL 

[START] absoluteily attention [END] NIL NIL NIL NIL NIL
[START] two NIL NIL NIL NIL NIL NIL NIL 

[START] man woman [END] NIL NIL NIL NIL NIL
[START] two NIL NIL NIL NIL NIL NIL NIL 

[START] man blue shirt [END] NIL NIL NIL NIL
[START] two NIL NIL NIL NIL NIL NIL NIL 

[START] two people canoe river [END] NIL NIL NIL
[START] two NIL NIL NIL NIL NIL NIL NIL 

[START] man shows couple [END] NIL NIL NIL NIL
[START] two NIL NIL NIL NIL NIL NIL NIL 

[START] two dogs running along fence [END] NIL NIL
[START] two NIL NIL NIL NIL NIL NIL NIL 

Epoch:1, Iteration: 237, Loss: 100.33, TimeElapsed: 30.41Min
Working (10, 200) torch.Size([10, 9])
Normal torch.Size([10, 9]) torch.Size([10, 9, 2512])
[START] workers jobs [END] NIL NIL NIL NIL NIL
[START] scene scene scene scene scene scene scene scene 

[START] man blue goggles [END] NIL NIL NIL NIL
[START] scene scene scene scene scene scene scene scene 

[START] tri level building people standing level [END] NIL
[START] scene scene scene scene scene scene scene scene 

[START] two children ride toy cars [END] NIL NIL
[START] scene scene scene scene scene scene scene scene 

[START] boy hops one picnic table [END] NIL NIL
[START] scene scene scene scene scene scene scene scene 

[START] young girl yellow dance [END] NIL NIL NIL
[START] scene scene scene scene scene scene scene scene 

[START] couple females [END] NIL NIL NIL NIL NIL
[START] scene scene scene scene scene scene scene scene 

[START] man loudspeaker [END] NIL NIL NIL NIL NIL
[START] scene scene scene scene scene scene scene scene 

[START] man lays [END] NIL NIL NIL NIL NIL
[START] scene scene scene scene scene scene scene scene 

[START] man pushes four wheeled card [END] NIL NIL
[START] scene scene scene scene scene scene scene scene 

Epoch:1, Iteration: 238, Loss: 181.48, TimeElapsed: 30.46Min
Working (10, 200) torch.Size([10, 9])
Normal torch.Size([10, 9]) torch.Size([10, 9, 2512])
[START] one lady looking [END] NIL NIL NIL NIL
[START] canoe canoe canoe canoe canoe canoe canoe canoe 

[START] woman holding young [END] NIL NIL NIL NIL
[START] canoe canoe canoe canoe canoe canoe canoe canoe 

[START] woman standing [END] NIL NIL NIL NIL NIL
[START] canoe canoe canoe canoe canoe canoe canoe canoe 

[START] redheaded boy swimming underwater [END] NIL NIL NIL
[START] canoe canoe canoe canoe canoe canoe canoe canoe 

[START] girls climbs jungle gym [END] NIL NIL NIL
[START] canoe canoe canoe canoe canoe canoe canoe canoe 

[START] tall black man playing [END] NIL NIL NIL
[START] canoe canoe canoe canoe canoe canoe canoe canoe 

[START] young child picking [END] NIL NIL NIL NIL
[START] canoe canoe canoe canoe canoe canoe canoe canoe 

[START] young boy rides blue yellow [END] NIL NIL
[START] canoe canoe canoe canoe canoe canoe canoe canoe 

[START] four african boys carrying [END] NIL NIL NIL
[START] canoe canoe canoe canoe canoe canoe canoe canoe 

[START] group people seated red chair [END] NIL NIL
[START] canoe canoe canoe canoe canoe canoe canoe canoe 

Epoch:1, Iteration: 239, Loss: 110.44, TimeElapsed: 30.5Min
Working (10, 200) torch.Size([10, 9])
Normal torch.Size([10, 9]) torch.Size([10, 9, 2512])
[START] two dogs running grass [END] NIL NIL NIL
[START] multiple multiple pool pool pool pool pool pool 

[START] large gray colored dog jumping [END] NIL NIL
[START] multiple multiple pool pool pool pool pool pool 

[START] seven large balloons lined [END] NIL NIL NIL
[START] multiple multiple pool pool pool pool pool pool 

[START] line people wait enter [END] NIL NIL NIL
[START] multiple multiple pool pool pool pool pool pool 

[START] crowd anticipates running [END] NIL NIL NIL NIL
[START] multiple multiple pool pool pool pool pool pool 

[START] dog looks toward shadow [END] NIL NIL NIL
[START] multiple multiple pool pool pool pool pool pool 

[START] elder men getting ready [END] NIL NIL NIL
[START] multiple multiple pool pool pool pool pool pool 

[START] black dog [END] NIL NIL NIL NIL NIL
[START] multiple multiple pool pool pool pool pool pool 

[START] girl walks downhill past parked [END] NIL NIL
[START] multiple multiple pool pool pool pool pool pool 

[START] toddler wearing pacifier [END] NIL NIL NIL NIL
[START] multiple multiple pool pool pool pool pool pool 

Epoch:1, Iteration: 240, Loss: 183.41, TimeElapsed: 30.55Min
Working (10, 200) torch.Size([10, 9])
Normal torch.Size([10, 9]) torch.Size([10, 9, 2512])
[START] person kilt walks [END] NIL NIL NIL NIL
[START] magazine magazine magazine magazine magazine magazine magazine magazine 

[START] group friends looking [END] NIL NIL NIL NIL
[START] magazine magazine magazine magazine magazine magazine magazine magazine 

[START] man playing [END] NIL NIL NIL NIL NIL
[START] magazine magazine magazine magazine magazine magazine magazine magazine 

[START] man black posing [END] NIL NIL NIL NIL
[START] magazine magazine magazine magazine magazine magazine magazine magazine 

[START] backpacker walks rocky mountain [END] NIL NIL NIL
[START] magazine magazine magazine magazine magazine magazine magazine magazine 

[START] man rides surfboard water [END] NIL NIL NIL
[START] magazine magazine magazine magazine magazine magazine magazine magazine 

[START] man green [END] NIL NIL NIL NIL NIL
[START] magazine magazine magazine magazine magazine magazine magazine magazine 

[START] group people walking [END] NIL NIL NIL NIL
[START] magazine magazine magazine magazine magazine magazine magazine magazine 

[START] young girl pink shirt [END] NIL NIL NIL
[START] magazine magazine magazine magazine magazine magazine magazine magazine 

[START] dark haired child eating frozen treat [END] NIL
[START] magazine magazine magazine magazine magazine magazine magazine magazine 

Epoch:1, Iteration: 241, Loss: 118.48, TimeElapsed: 30.59Min
Working (10, 200) torch.Size([10, 9])
Normal torch.Size([10, 9]) torch.Size([10, 9, 2512])
[START] man flag [END] NIL NIL NIL NIL NIL
[START] child NIL NIL NIL NIL NIL NIL NIL 

[START] group friends lay [END] NIL NIL NIL NIL
[START] child NIL NIL NIL NIL NIL NIL NIL 

[START] audience watching [END] NIL NIL NIL NIL NIL
[START] child NIL NIL NIL NIL NIL NIL NIL 

[START] man smiling driving [END] NIL NIL NIL NIL
[START] child NIL NIL NIL NIL NIL NIL NIL 

[START] little boy [END] NIL NIL NIL NIL NIL
[START] child NIL NIL NIL NIL NIL NIL NIL 

[START] man blue jeans sandals [END] NIL NIL NIL
[START] child NIL NIL NIL NIL NIL NIL NIL 

[START] two children enjoy tubing [END] NIL NIL NIL
[START] child NIL NIL NIL NIL NIL NIL NIL 

[START] soccer player [END] NIL NIL NIL NIL NIL
[START] child NIL NIL NIL NIL NIL NIL NIL 

[START] man crowd [END] NIL NIL NIL NIL NIL
[START] child NIL NIL NIL NIL NIL NIL NIL 

[START] minivans vehicles parked [END] NIL NIL NIL NIL
[START] child NIL NIL NIL NIL NIL NIL NIL 

Epoch:1, Iteration: 242, Loss: 114.41, TimeElapsed: 30.63Min
Working (10, 200) torch.Size([10, 9])
Normal torch.Size([10, 9]) torch.Size([10, 9, 2512])
[START] two women inside plastic [END] NIL NIL NIL
[START] seated NIL NIL NIL NIL NIL NIL NIL 

[START] teen rode bike [END] NIL NIL NIL NIL
[START] seated NIL NIL NIL NIL NIL NIL NIL 

[START] two women wearing lays [END] NIL NIL NIL
[START] seated NIL NIL NIL NIL NIL NIL NIL 

[START] group soccer players [END] NIL NIL NIL NIL
[START] seated NIL NIL NIL NIL NIL NIL NIL 

[START] woman white [END] NIL NIL NIL NIL NIL
[START] seated NIL NIL NIL NIL NIL NIL NIL 

[START] kids running across grass [END] NIL NIL NIL
[START] seated NIL NIL NIL NIL NIL NIL NIL 

[START] two dogs running [END] NIL NIL NIL NIL
[START] seated NIL NIL NIL NIL NIL NIL NIL 

[START] concert outside good morning america [END] NIL NIL
[START] seated NIL NIL NIL NIL NIL NIL NIL 

[START] three girls walking along arched garden pathway [END]
[START] seated NIL NIL NIL NIL NIL NIL NIL 

[START] women white shopping [END] NIL NIL NIL NIL
[START] seated NIL NIL NIL NIL NIL NIL NIL 

Epoch:1, Iteration: 243, Loss: 169.75, TimeElapsed: 30.68Min
Working (10, 200) torch.Size([10, 9])
Normal torch.Size([10, 9]) torch.Size([10, 9, 2512])
[START] traffic cop directing traffic front [END] NIL NIL
[START] rollerblading NIL NIL NIL NIL NIL NIL NIL 

[START] young boy looking [END] NIL NIL NIL NIL
[START] rollerblading NIL NIL NIL NIL NIL NIL NIL 

[START] two children swing dusty rooftop [END] NIL NIL
[START] rollerblading NIL NIL NIL NIL NIL NIL NIL 

[START] two dogs running [END] NIL NIL NIL NIL
[START] rollerblading NIL NIL NIL NIL NIL NIL NIL 

[START] band plays music outside [END] NIL NIL NIL
[START] rollerblading NIL NIL NIL NIL NIL NIL NIL 

[START] hip young woman [END] NIL NIL NIL NIL
[START] rollerblading NIL NIL NIL NIL NIL NIL NIL 

[START] woman squatting face [END] NIL NIL NIL NIL
[START] rollerblading NIL NIL NIL NIL NIL NIL NIL 

[START] woman throwing frisbee [END] NIL NIL NIL NIL
[START] rollerblading NIL NIL NIL NIL NIL NIL NIL 

[START] asian man preparing breaded shimp [END] NIL NIL
[START] rollerblading NIL NIL NIL NIL NIL NIL NIL 

[START] group elderly women [END] NIL NIL NIL NIL
[START] rollerblading NIL NIL NIL NIL NIL NIL NIL 

Epoch:1, Iteration: 244, Loss: 206.55, TimeElapsed: 30.73Min
Working (10, 200) torch.Size([10, 9])
Normal torch.Size([10, 9]) torch.Size([10, 9, 2512])
[START] nine cheerleaders perform acrobatics behind [END] NIL NIL
[START] man [END] [END] [END] [END] [END] [END] [END] 

[START] man viewing woman [END] NIL NIL NIL NIL
[START] man [END] [END] [END] [END] [END] [END] [END] 

[START] woman glasses sitting [END] NIL NIL NIL NIL
[START] man [END] [END] [END] [END] [END] [END] [END] 

[START] girl red jumping joy [END] NIL NIL NIL
[START] man [END] [END] [END] [END] [END] [END] [END] 

[START] two men kitchen [END] NIL NIL NIL NIL
[START] man [END] [END] [END] [END] [END] [END] [END] 

[START] dark haired bearded man wearing [END] NIL NIL
[START] man [END] [END] [END] [END] [END] [END] [END] 

[START] elderly woman wearing denim [END] NIL NIL NIL
[START] man [END] [END] [END] [END] [END] [END] [END] 

[START] vendor pink [END] NIL NIL NIL NIL NIL
[START] man [END] [END] [END] [END] [END] [END] [END] 

[START] man brushes teeth [END] NIL NIL NIL NIL
[START] man [END] [END] [END] [END] [END] [END] [END] 

[START] male surfer [END] NIL NIL NIL NIL NIL
[START] man [END] [END] [END] [END] [END] [END] [END] 

Epoch:1, Iteration: 245, Loss: 123.83, TimeElapsed: 30.77Min
Working (10, 200) torch.Size([10, 9])
Normal torch.Size([10, 9]) torch.Size([10, 9, 2512])
[START] two people carrying bag [END] NIL NIL NIL
[START] man women women [END] [END] [END] [END] [END] 

[START] three dogs run grass [END] NIL NIL NIL
[START] man women women [END] [END] [END] [END] [END] 

[START] three people playing tennis [END] NIL NIL NIL
[START] man women women [END] [END] [END] [END] [END] 

[START] keyboardist female [END] NIL NIL NIL NIL NIL
[START] man women women [END] [END] [END] [END] [END] 

[START] two guys skateboards [END] NIL NIL NIL NIL
[START] man women women [END] [END] [END] [END] [END] 

[START] black dog jumping biting [END] NIL NIL NIL
[START] man women women [END] [END] [END] [END] [END] 

[START] 2 men climbing [END] NIL NIL NIL NIL
[START] man women women [END] [END] [END] [END] [END] 

[START] large vegetable stand [END] NIL NIL NIL NIL
[START] man women women [END] [END] [END] [END] [END] 

[START] man blue outfit [END] NIL NIL NIL NIL
[START] man women women [END] [END] [END] [END] [END] 

[START] man working welding tool [END] NIL NIL NIL
[START] man women women [END] [END] [END] [END] [END] 

Epoch:1, Iteration: 246, Loss: 115.18, TimeElapsed: 30.81Min
Working (10, 200) torch.Size([10, 9])
Normal torch.Size([10, 9]) torch.Size([10, 9, 2512])
[START] person wearing dark jeans [END] NIL NIL NIL
[START] people NIL NIL NIL NIL NIL NIL NIL 

[START] skateboarder white [END] NIL NIL NIL NIL NIL
[START] people NIL NIL NIL NIL NIL NIL NIL 

[START] skier wearing black [END] NIL NIL NIL NIL
[START] people NIL NIL NIL NIL NIL NIL NIL 

[START] oriental woman handling [END] NIL NIL NIL NIL
[START] people NIL NIL NIL NIL NIL NIL NIL 

[START] man repairing pipes [END] NIL NIL NIL NIL
[START] people NIL NIL NIL NIL NIL NIL NIL 

[START] little girl riding front [END] NIL NIL NIL
[START] people NIL NIL NIL NIL NIL NIL NIL 

[START] security guard art [END] NIL NIL NIL NIL
[START] people NIL NIL NIL NIL NIL NIL NIL 

[START] man mustache [END] NIL NIL NIL NIL NIL
[START] people NIL NIL NIL NIL NIL NIL NIL 

[START] one young boy sitting outside [END] NIL NIL
[START] people NIL NIL NIL NIL NIL NIL NIL 

[START] two people working removing snow [END] NIL NIL
[START] people NIL NIL NIL NIL NIL NIL NIL 

Epoch:1, Iteration: 247, Loss: 126.17, TimeElapsed: 30.85Min
Working (10, 200) torch.Size([10, 9])
Normal torch.Size([10, 9]) torch.Size([10, 9, 2512])
[START] child hanging upside [END] NIL NIL NIL NIL
[START] people NIL NIL NIL NIL NIL NIL NIL 

[START] choir consisting young people [END] NIL NIL NIL
[START] people NIL NIL NIL NIL NIL NIL NIL 

[START] woman blue outfit sitting [END] NIL NIL NIL
[START] people NIL NIL NIL NIL NIL NIL NIL 

[START] little boy playfully [END] NIL NIL NIL NIL
[START] people NIL NIL NIL NIL NIL NIL NIL 

[START] three people looking [END] NIL NIL NIL NIL
[START] people NIL NIL NIL NIL NIL NIL NIL 

[START] large group people [END] NIL NIL NIL NIL
[START] people NIL NIL NIL NIL NIL NIL NIL 

[START] man playing guitar [END] NIL NIL NIL NIL
[START] people NIL NIL NIL NIL NIL NIL NIL 

[START] mother child enjoying [END] NIL NIL NIL NIL
[START] people NIL NIL NIL NIL NIL NIL NIL 

[START] man pierced ears [END] NIL NIL NIL NIL
[START] people NIL NIL NIL NIL NIL NIL NIL 

[START] little girl blond hair [END] NIL NIL NIL
[START] people NIL NIL NIL NIL NIL NIL NIL 

Epoch:1, Iteration: 248, Loss: 82.05, TimeElapsed: 30.9Min
Working (10, 200) torch.Size([10, 9])
Normal torch.Size([10, 9]) torch.Size([10, 9, 2512])
[START] man black clothing [END] NIL NIL NIL NIL
tool tool tool tool tool tool tool tool tool 

[START] group women dressed black [END] NIL NIL NIL
tool tool tool tool tool tool tool tool tool 

[START] two men stand lift [END] NIL NIL NIL
tool tool tool tool tool tool tool tool tool 

[START] man colorful shirt [END] NIL NIL NIL NIL
tool tool tool tool tool tool tool tool tool 

[START] group six people men [END] NIL NIL NIL
tool tool tool tool tool tool tool tool tool 

[START] guitarist performing guitar solo [END] NIL NIL NIL
tool tool tool tool tool tool tool tool tool 

[START] farmer walks pet [END] NIL NIL NIL NIL
tool tool tool tool tool tool tool tool tool 

[START] baby life [END] NIL NIL NIL NIL NIL
tool tool tool tool tool tool tool tool tool 

[START] group people [END] NIL NIL NIL NIL NIL
tool tool tool tool tool tool tool tool tool 

[START] two kids toy [END] NIL NIL NIL NIL
tool tool tool tool tool tool tool tool tool 

Epoch:1, Iteration: 249, Loss: 95.27, TimeElapsed: 30.94Min
Working (10, 200) torch.Size([10, 9])
Normal torch.Size([10, 9]) torch.Size([10, 9, 2512])
[START] guy boots [END] NIL NIL NIL NIL NIL
[START] guard guard guard guard guard guard guard guard 

[START] portly man [END] NIL NIL NIL NIL NIL
[START] guard guard guard guard guard guard guard guard 

[START] baby held [END] NIL NIL NIL NIL NIL
[START] guard guard guard guard guard guard guard guard 

[START] young boy working project [END] NIL NIL NIL
[START] guard guard guard guard guard guard guard guard 

[START] one man band [END] NIL NIL NIL NIL
[START] guard guard guard guard guard guard guard guard 

[START] worker guy cellphone [END] NIL NIL NIL NIL
[START] guard guard guard guard guard guard guard guard 

[START] two women wearing native american clothing carrying [END]
[START] guard guard guard guard guard guard guard guard 

[START] woman dirty blond hair [END] NIL NIL NIL
[START] guard guard guard guard guard guard guard guard 

[START] group young adults gather [END] NIL NIL NIL
[START] guard guard guard guard guard guard guard guard 

[START] couple sitting among [END] NIL NIL NIL NIL
[START] guard guard guard guard guard guard guard guard 

Epoch:1, Iteration: 250, Loss: 126.01, TimeElapsed: 30.98Min
Working (10, 200) torch.Size([10, 9])
Normal torch.Size([10, 9]) torch.Size([10, 9, 2512])
[START] person orange [END] NIL NIL NIL NIL NIL
[START] three black NIL NIL NIL NIL NIL NIL 

[START] male crowd [END] NIL NIL NIL NIL NIL
[START] three black NIL NIL NIL NIL NIL NIL 

[START] two people cleaning road [END] NIL NIL NIL
[START] three black NIL NIL NIL NIL NIL NIL 

[START] group children blue [END] NIL NIL NIL NIL
[START] three black NIL NIL NIL NIL NIL NIL 

[START] blond girl braids taking [END] NIL NIL NIL
[START] three black NIL NIL NIL NIL NIL NIL 

[START] person brush looking [END] NIL NIL NIL NIL
[START] three black NIL NIL NIL NIL NIL NIL 

[START] two african children standing [END] NIL NIL NIL
[START] three black NIL NIL NIL NIL NIL NIL 

[START] small male child running [END] NIL NIL NIL
[START] three black NIL NIL NIL NIL NIL NIL 

[START] woman gathered [END] NIL NIL NIL NIL NIL
[START] three black NIL NIL NIL NIL NIL NIL 

[START] crowd people going [END] NIL NIL NIL NIL
[START] three black NIL NIL NIL NIL NIL NIL 

Epoch:1, Iteration: 251, Loss: 109.57, TimeElapsed: 31.03Min
Working (10, 200) torch.Size([10, 9])
Normal torch.Size([10, 9]) torch.Size([10, 9, 2512])
[START] four young men enjoy dip [END] NIL NIL
[START] group group NIL NIL NIL NIL NIL NIL 

[START] people sitting grassy beach [END] NIL NIL NIL
[START] group group NIL NIL NIL NIL NIL NIL 

[START] young boy wearing red [END] NIL NIL NIL
[START] group group NIL NIL NIL NIL NIL NIL 

[START] brown haired woman looks [END] NIL NIL NIL
[START] group group NIL NIL NIL NIL NIL NIL 

[START] two football players playing football [END] NIL NIL
[START] group group NIL NIL NIL NIL NIL NIL 

[START] woman applying mascara [END] NIL NIL NIL NIL
[START] group group NIL NIL NIL NIL NIL NIL 

[START] man orange red shirt [END] NIL NIL NIL
[START] group group NIL NIL NIL NIL NIL NIL 

[START] bride groom smile [END] NIL NIL NIL NIL
[START] group group NIL NIL NIL NIL NIL NIL 

[START] dog running beach [END] NIL NIL NIL NIL
[START] group group NIL NIL NIL NIL NIL NIL 

[START] hand holding object [END] NIL NIL NIL NIL
[START] group group NIL NIL NIL NIL NIL NIL 

Epoch:1, Iteration: 252, Loss: 132.85, TimeElapsed: 31.07Min
Working (10, 200) torch.Size([10, 9])
Normal torch.Size([10, 9]) torch.Size([10, 9, 2512])
[START] man holding camera underwater [END] NIL NIL NIL
[START] two among among among among among among among 

[START] girl pink [END] NIL NIL NIL NIL NIL
[START] two among among among among among among among 

[START] solitary man wearing [END] NIL NIL NIL NIL
[START] two among among among among among among among 

[START] children playing leapfrog [END] NIL NIL NIL NIL
[START] two among among among among among among among 

[START] picture different kinds donuts [END] NIL NIL NIL
[START] two among among among among among among among 

[START] group people waiting [END] NIL NIL NIL NIL
[START] two among among among among among among among 

[START] two men opposing teams [END] NIL NIL NIL
[START] two among among among among among among among 

[START] matador white [END] NIL NIL NIL NIL NIL
[START] two among among among among among among among 

[START] guy stitching another man coat [END] NIL NIL
[START] two among among among among among among among 

[START] man holds coffee cup [END] NIL NIL NIL
[START] two among among among among among among among 

Epoch:1, Iteration: 253, Loss: 151.35, TimeElapsed: 31.12Min
Working (10, 200) torch.Size([10, 9])
Normal torch.Size([10, 9]) torch.Size([10, 9, 2512])
[START] child running sidewalk [END] NIL NIL NIL NIL
[START] security security [END] [END] [END] [END] [END] [END] 

[START] large man sits [END] NIL NIL NIL NIL
[START] security security [END] [END] [END] [END] [END] [END] 

[START] crew cameras [END] NIL NIL NIL NIL NIL
[START] security security [END] [END] [END] [END] [END] [END] 

[START] man kayaking raging [END] NIL NIL NIL NIL
[START] security security [END] [END] [END] [END] [END] [END] 

[START] man sits [END] NIL NIL NIL NIL NIL
[START] security security [END] [END] [END] [END] [END] [END] 

[START] man walking smoking cigarette [END] NIL NIL NIL
[START] security security [END] [END] [END] [END] [END] [END] 

[START] two men performing dangerous [END] NIL NIL NIL
[START] security security [END] [END] [END] [END] [END] [END] 

[START] man green sweater [END] NIL NIL NIL NIL
[START] security security [END] [END] [END] [END] [END] [END] 

[START] barefoot man laying [END] NIL NIL NIL NIL
[START] security security [END] [END] [END] [END] [END] [END] 

[START] boy green balloon [END] NIL NIL NIL NIL
[START] security security [END] [END] [END] [END] [END] [END] 

Epoch:1, Iteration: 254, Loss: 115.57, TimeElapsed: 31.16Min
Working (10, 200) torch.Size([10, 9])
Normal torch.Size([10, 9]) torch.Size([10, 9, 2512])
[START] baby wearing nice clothes [END] NIL NIL NIL
[START] dirty dirty dirty dirty dirty dirty dirty dirty 

[START] girl catches wave [END] NIL NIL NIL NIL
[START] dirty dirty dirty dirty dirty dirty dirty dirty 

[START] large fancy restaurant looks empty [END] NIL NIL
[START] dirty dirty dirty dirty dirty dirty dirty dirty 

[START] child celebrating [END] NIL NIL NIL NIL NIL
[START] dirty dirty dirty dirty dirty dirty dirty dirty 

[START] three woman sitting front [END] NIL NIL NIL
[START] dirty dirty dirty dirty dirty dirty dirty dirty 

[START] young child band aid [END] NIL NIL NIL
[START] dirty dirty dirty dirty dirty dirty dirty dirty 

[START] stretching high air [END] NIL NIL NIL NIL
[START] dirty dirty dirty dirty dirty dirty dirty dirty 

[START] tanned man animal print [END] NIL NIL NIL
[START] dirty dirty dirty dirty dirty dirty dirty dirty 

[START] rockabilly clad man steps [END] NIL NIL NIL
[START] dirty dirty dirty dirty dirty dirty dirty dirty 

[START] young african boy kicking [END] NIL NIL NIL
[START] dirty dirty dirty dirty dirty dirty dirty dirty 

Epoch:1, Iteration: 255, Loss: 181.02, TimeElapsed: 31.2Min
Working (10, 200) torch.Size([10, 9])
Normal torch.Size([10, 9]) torch.Size([10, 9, 2512])
[START] woman reading book [END] NIL NIL NIL NIL
[START] african NIL NIL NIL NIL NIL NIL NIL 

[START] woman wearing blue [END] NIL NIL NIL NIL
[START] african NIL NIL NIL NIL NIL NIL NIL 

[START] group teenage boys [END] NIL NIL NIL NIL
[START] african NIL NIL NIL NIL NIL NIL NIL 

[START] two people standing front [END] NIL NIL NIL
[START] african NIL NIL NIL NIL NIL NIL NIL 

[START] two cops cowboys hats riding [END] NIL NIL
[START] african NIL NIL NIL NIL NIL NIL NIL 

[START] elderly women walking [END] NIL NIL NIL NIL
[START] african NIL NIL NIL NIL NIL NIL NIL 

[START] fuzzy photo two girls [END] NIL NIL NIL
[START] african NIL NIL NIL NIL NIL NIL NIL 

[START] people standing line [END] NIL NIL NIL NIL
[START] african NIL NIL NIL NIL NIL NIL NIL 

[START] tan colored dog leaps [END] NIL NIL NIL
[START] african NIL NIL NIL NIL NIL NIL NIL 

[START] two people eating [END] NIL NIL NIL NIL
[START] african NIL NIL NIL NIL NIL NIL NIL 

Epoch:1, Iteration: 256, Loss: 128.8, TimeElapsed: 31.24Min
Working (10, 200) torch.Size([10, 9])
Normal torch.Size([10, 9]) torch.Size([10, 9, 2512])
[START] four men one woman [END] NIL NIL NIL
[START] smile smile smile smile smile smile smile smile 

[START] young boy dressed [END] NIL NIL NIL NIL
[START] smile smile smile smile smile smile smile smile 

[START] campers sitting edge [END] NIL NIL NIL NIL
[START] smile smile smile smile smile smile smile smile 

[START] woman man looking [END] NIL NIL NIL NIL
[START] smile smile smile smile smile smile smile smile 

[START] two girls two boys dressed alike stand [END]
[START] smile smile smile smile smile smile smile smile 

[START] man black [END] NIL NIL NIL NIL NIL
[START] smile smile smile smile smile smile smile smile 

[START] mountain biker rounding corner [END] NIL NIL NIL
[START] smile smile smile smile smile smile smile smile 

[START] man wearing martial [END] NIL NIL NIL NIL
[START] smile smile smile smile smile smile smile smile 

[START] two black dogs trotting [END] NIL NIL NIL
[START] smile smile smile smile smile smile smile smile 

[START] fisherman sorting [END] NIL NIL NIL NIL NIL
[START] smile smile smile smile smile smile smile smile 

Epoch:1, Iteration: 257, Loss: 119.27, TimeElapsed: 31.29Min
Working (10, 200) torch.Size([10, 9])
Normal torch.Size([10, 9]) torch.Size([10, 9, 2512])
[START] baby standing next [END] NIL NIL NIL NIL
[START] woman NIL NIL NIL NIL NIL NIL NIL 

[START] female playing guitar [END] NIL NIL NIL NIL
[START] woman NIL NIL NIL NIL NIL NIL NIL 

[START] answer [END] NIL NIL NIL NIL NIL NIL
[START] woman NIL NIL NIL NIL NIL NIL NIL 

[START] man dressed safety [END] NIL NIL NIL NIL
[START] woman NIL NIL NIL NIL NIL NIL NIL 

[START] child sitting looking [END] NIL NIL NIL NIL
[START] woman NIL NIL NIL NIL NIL NIL NIL 

[START] two men one [END] NIL NIL NIL NIL
[START] woman NIL NIL NIL NIL NIL NIL NIL 

[START] santa claus leads type [END] NIL NIL NIL
[START] woman NIL NIL NIL NIL NIL NIL NIL 

[START] two men wearing blue shirts shaking hands [END]
[START] woman NIL NIL NIL NIL NIL NIL NIL 

[START] man brown shirt [END] NIL NIL NIL NIL
[START] woman NIL NIL NIL NIL NIL NIL NIL 

[START] father child [END] NIL NIL NIL NIL NIL
[START] woman NIL NIL NIL NIL NIL NIL NIL 

Epoch:1, Iteration: 258, Loss: 99.24, TimeElapsed: 31.33Min
Working (10, 200) torch.Size([10, 9])
Normal torch.Size([10, 9]) torch.Size([10, 9, 2512])
[START] three men drums tattoos stand near [END] NIL
[START] man NIL NIL NIL NIL NIL NIL NIL 

[START] sleeping baby [END] NIL NIL NIL NIL NIL
[START] man NIL NIL NIL NIL NIL NIL NIL 

[START] toddler blue [END] NIL NIL NIL NIL NIL
[START] man NIL NIL NIL NIL NIL NIL NIL 

[START] woman looking [END] NIL NIL NIL NIL NIL
[START] man NIL NIL NIL NIL NIL NIL NIL 

[START] woman sitting front [END] NIL NIL NIL NIL
[START] man NIL NIL NIL NIL NIL NIL NIL 

[START] man adolescent two [END] NIL NIL NIL NIL
[START] man NIL NIL NIL NIL NIL NIL NIL 

[START] shirtless man jean shorts fishing [END] NIL NIL
[START] man NIL NIL NIL NIL NIL NIL NIL 

[START] boy riding backwards [END] NIL NIL NIL NIL
[START] man NIL NIL NIL NIL NIL NIL NIL 

[START] zombies parading around eating brains [END] NIL NIL
[START] man NIL NIL NIL NIL NIL NIL NIL 

[START] crowd people gathered together [END] NIL NIL NIL
[START] man NIL NIL NIL NIL NIL NIL NIL 

Epoch:1, Iteration: 259, Loss: 151.58, TimeElapsed: 31.38Min
Working (10, 200) torch.Size([10, 9])
Normal torch.Size([10, 9]) torch.Size([10, 9, 2512])
[START] three girls white dresses running towards [END] NIL
[START] man NIL NIL NIL NIL NIL NIL NIL 

[START] young man wearing glasses looks frustrated [END] NIL
[START] man NIL NIL NIL NIL NIL NIL NIL 

[START] man gray shirt seasons meat [END] NIL NIL
[START] man NIL NIL NIL NIL NIL NIL NIL 

[START] two elderly people sit [END] NIL NIL NIL
[START] man NIL NIL NIL NIL NIL NIL NIL 

[START] public area [END] NIL NIL NIL NIL NIL
[START] man NIL NIL NIL NIL NIL NIL NIL 

[START] woman scantily dressed tribal green [END] NIL NIL
[START] man NIL NIL NIL NIL NIL NIL NIL 

[START] two women walking beach [END] NIL NIL NIL
[START] man NIL NIL NIL NIL NIL NIL NIL 

[START] man little girl [END] NIL NIL NIL NIL
[START] man NIL NIL NIL NIL NIL NIL NIL 

[START] dog running [END] NIL NIL NIL NIL NIL
[START] man NIL NIL NIL NIL NIL NIL NIL 

[START] woman child sitting [END] NIL NIL NIL NIL
[START] man NIL NIL NIL NIL NIL NIL NIL 

Epoch:1, Iteration: 260, Loss: 140.1, TimeElapsed: 31.43Min
Working (10, 200) torch.Size([10, 9])
Normal torch.Size([10, 9]) torch.Size([10, 9, 2512])
[START] man ladder paints [END] NIL NIL NIL NIL
[START] edge edge edge edge edge edge edge edge 

[START] woman straw [END] NIL NIL NIL NIL NIL
[START] edge edge edge edge edge edge edge edge 

[START] boy yellow shirt black [END] NIL NIL NIL
[START] edge edge edge edge edge edge edge edge 

[START] two dark haired women cooking [END] NIL NIL
[START] edge edge edge edge edge edge edge edge 

[START] group people bike riding [END] NIL NIL NIL
[START] edge edge edge edge edge edge edge edge 

[START] woman eats [END] NIL NIL NIL NIL NIL
[START] edge edge edge edge edge edge edge edge 

[START] woman recorded [END] NIL NIL NIL NIL NIL
[START] edge edge edge edge edge edge edge edge 

[START] crowd people [END] NIL NIL NIL NIL NIL
[START] edge edge edge edge edge edge edge edge 

[START] two women communicating [END] NIL NIL NIL NIL
[START] edge edge edge edge edge edge edge edge 

[START] child leaping onto bed [END] NIL NIL NIL
[START] edge edge edge edge edge edge edge edge 

Epoch:1, Iteration: 261, Loss: 132.43, TimeElapsed: 31.47Min
Working (10, 200) torch.Size([10, 9])
Normal torch.Size([10, 9]) torch.Size([10, 9, 2512])
[START] group people [END] NIL NIL NIL NIL NIL
[START] line line line line line line line line 

[START] three men playing [END] NIL NIL NIL NIL
[START] line line line line line line line line 

[START] helicopter taking airport [END] NIL NIL NIL NIL
[START] line line line line line line line line 

[START] woman dressed black leather pants [END] NIL NIL
[START] line line line line line line line line 

[START] young girl pink [END] NIL NIL NIL NIL
[START] line line line line line line line line 

[START] man surfing waves [END] NIL NIL NIL NIL
[START] line line line line line line line line 

[START] male female fire [END] NIL NIL NIL NIL
[START] line line line line line line line line 

[START] black dog [END] NIL NIL NIL NIL NIL
[START] line line line line line line line line 

[START] group people stand [END] NIL NIL NIL NIL
[START] line line line line line line line line 

[START] group young people [END] NIL NIL NIL NIL
[START] line line line line line line line line 

Epoch:1, Iteration: 262, Loss: 105.54, TimeElapsed: 31.52Min
Working (10, 200) torch.Size([10, 9])
Normal torch.Size([10, 9]) torch.Size([10, 9, 2512])
[START] boy red [END] NIL NIL NIL NIL NIL
[START] two men men men men men men men 

[START] people enjoy time boat [END] NIL NIL NIL
[START] two men men men men men men men 

[START] working [END] NIL NIL NIL NIL NIL NIL
[START] two men men men men men men men 

[START] older man wearing glasses [END] NIL NIL NIL
[START] two men men men men men men men 

[START] man fishing pointy blue [END] NIL NIL NIL
[START] two men men men men men men men 

[START] two men underground [END] NIL NIL NIL NIL
[START] two men men men men men men men 

[START] bird sits tree [END] NIL NIL NIL NIL
[START] two men men men men men men men 

[START] couple several people [END] NIL NIL NIL NIL
[START] two men men men men men men men 

[START] woman black [END] NIL NIL NIL NIL NIL
[START] two men men men men men men men 

[START] man boat [END] NIL NIL NIL NIL NIL
[START] two men men men men men men men 

Epoch:1, Iteration: 263, Loss: 103.17, TimeElapsed: 31.56Min
Working (10, 200) torch.Size([10, 9])
Normal torch.Size([10, 9]) torch.Size([10, 9, 2512])
[START] five workmen sit lunch beside [END] NIL NIL
[START] two [END] [END] [END] [END] [END] [END] [END] 

[START] worker cage [END] NIL NIL NIL NIL NIL
[START] two [END] [END] [END] [END] [END] [END] [END] 

[START] guy suit playing [END] NIL NIL NIL NIL
[START] two [END] [END] [END] [END] [END] [END] [END] 

[START] man sitting lotus position among [END] NIL NIL
[START] two [END] [END] [END] [END] [END] [END] [END] 

[START] happy couple enjoying open air [END] NIL NIL
[START] two [END] [END] [END] [END] [END] [END] [END] 

[START] small white dog running [END] NIL NIL NIL
[START] two [END] [END] [END] [END] [END] [END] [END] 

[START] three people appear waiting [END] NIL NIL NIL
[START] two [END] [END] [END] [END] [END] [END] [END] 

[START] 3 people standing around barbecue [END] NIL NIL
[START] two [END] [END] [END] [END] [END] [END] [END] 

[START] girl rides horse [END] NIL NIL NIL NIL
[START] two [END] [END] [END] [END] [END] [END] [END] 

[START] orchestra playing people [END] NIL NIL NIL NIL
[START] two [END] [END] [END] [END] [END] [END] [END] 

Epoch:1, Iteration: 264, Loss: 179.33, TimeElapsed: 31.61Min
Working (10, 200) torch.Size([10, 9])
Normal torch.Size([10, 9]) torch.Size([10, 9, 2512])
[START] two men playing guitar [END] NIL NIL NIL
[START] people NIL NIL NIL NIL NIL NIL NIL 

[START] two children sleep [END] NIL NIL NIL NIL
[START] people NIL NIL NIL NIL NIL NIL NIL 

[START] young boy [END] NIL NIL NIL NIL NIL
[START] people NIL NIL NIL NIL NIL NIL NIL 

[START] group men sitting around [END] NIL NIL NIL
[START] people NIL NIL NIL NIL NIL NIL NIL 

[START] two girls feeding horse [END] NIL NIL NIL
[START] people NIL NIL NIL NIL NIL NIL NIL 

[START] many people sitting outside [END] NIL NIL NIL
[START] people NIL NIL NIL NIL NIL NIL NIL 

[START] young boy red [END] NIL NIL NIL NIL
[START] people NIL NIL NIL NIL NIL NIL NIL 

[START] person standing top [END] NIL NIL NIL NIL
[START] people NIL NIL NIL NIL NIL NIL NIL 

[START] man talks cellphone [END] NIL NIL NIL NIL
[START] people NIL NIL NIL NIL NIL NIL NIL 

[START] man wearing red playing [END] NIL NIL NIL
[START] people NIL NIL NIL NIL NIL NIL NIL 

Epoch:1, Iteration: 265, Loss: 83.71, TimeElapsed: 31.65Min
Working (10, 200) torch.Size([10, 9])
Normal torch.Size([10, 9]) torch.Size([10, 9, 2512])
[START] boy blue swimming trunks slides [END] NIL NIL
[START] people NIL NIL NIL NIL NIL NIL NIL 

[START] young man black [END] NIL NIL NIL NIL
[START] people NIL NIL NIL NIL NIL NIL NIL 

[START] young child climbing rock [END] NIL NIL NIL
[START] people NIL NIL NIL NIL NIL NIL NIL 

[START] person reading book [END] NIL NIL NIL NIL
[START] people NIL NIL NIL NIL NIL NIL NIL 

[START] girl standing [END] NIL NIL NIL NIL NIL
[START] people NIL NIL NIL NIL NIL NIL NIL 

[START] man white [END] NIL NIL NIL NIL NIL
[START] people NIL NIL NIL NIL NIL NIL NIL 

[START] dog running [END] NIL NIL NIL NIL NIL
[START] people NIL NIL NIL NIL NIL NIL NIL 

[START] golden retriever excitedly [END] NIL NIL NIL NIL
[START] people NIL NIL NIL NIL NIL NIL NIL 

[START] woman short brown hair lays [END] NIL NIL
[START] people NIL NIL NIL NIL NIL NIL NIL 

[START] two men sitting [END] NIL NIL NIL NIL
[START] people NIL NIL NIL NIL NIL NIL NIL 

Epoch:1, Iteration: 266, Loss: 110.96, TimeElapsed: 31.69Min
Working (10, 200) torch.Size([10, 9])
Normal torch.Size([10, 9]) torch.Size([10, 9, 2512])
[START] workers wearing reflective vests working near [END] NIL
[START] talks talks talks talks talks talks talks talks 

[START] two ladies three men [END] NIL NIL NIL
[START] talks talks talks talks talks talks talks talks 

[START] people courtyard plaza [END] NIL NIL NIL NIL
[START] talks talks talks talks talks talks talks talks 

[START] two kids play soccer field [END] NIL NIL
[START] talks talks talks talks talks talks talks talks 

[START] small group people standing [END] NIL NIL NIL
[START] talks talks talks talks talks talks talks talks 

[START] awesome skateboarder trick [END] NIL NIL NIL NIL
[START] talks talks talks talks talks talks talks talks 

[START] man striped shirt taking [END] NIL NIL NIL
[START] talks talks talks talks talks talks talks talks 

[START] man green jacket driving [END] NIL NIL NIL
[START] talks talks talks talks talks talks talks talks 

[START] three workers fluorescent orange clothing cleaning [END] NIL
[START] talks talks talks talks talks talks talks talks 

[START] african american woman braiding hair [END] NIL NIL
[START] talks talks talks talks talks talks talks talks 

Epoch:1, Iteration: 267, Loss: 225.3, TimeElapsed: 31.74Min
Working (10, 200) torch.Size([10, 9])
Normal torch.Size([10, 9]) torch.Size([10, 9, 2512])
[START] group people pull [END] NIL NIL NIL NIL
[START] cellphone cellphone NIL NIL NIL NIL NIL NIL 

[START] kids standing holding basketballs [END] NIL NIL NIL
[START] cellphone cellphone NIL NIL NIL NIL NIL NIL 

[START] man uniform man [END] NIL NIL NIL NIL
[START] cellphone cellphone NIL NIL NIL NIL NIL NIL 

[START] group people walking around [END] NIL NIL NIL
[START] cellphone cellphone NIL NIL NIL NIL NIL NIL 

[START] muddy biker drops [END] NIL NIL NIL NIL
[START] cellphone cellphone NIL NIL NIL NIL NIL NIL 

[START] woman black [END] NIL NIL NIL NIL NIL
[START] cellphone cellphone NIL NIL NIL NIL NIL NIL 

[START] kid hits baseball [END] NIL NIL NIL NIL
[START] cellphone cellphone NIL NIL NIL NIL NIL NIL 

[START] man posing [END] NIL NIL NIL NIL NIL
[START] cellphone cellphone NIL NIL NIL NIL NIL NIL 

[START] little girl jumping [END] NIL NIL NIL NIL
[START] cellphone cellphone NIL NIL NIL NIL NIL NIL 

[START] woman striped tights [END] NIL NIL NIL NIL
[START] cellphone cellphone NIL NIL NIL NIL NIL NIL 

Epoch:1, Iteration: 268, Loss: 115.66, TimeElapsed: 31.78Min
Working (10, 200) torch.Size([10, 9])
Normal torch.Size([10, 9]) torch.Size([10, 9, 2512])
[START] three boys matching bowties vests [END] NIL NIL
[START] fisherman NIL NIL NIL NIL NIL NIL NIL 

[START] man red shirt [END] NIL NIL NIL NIL
[START] fisherman NIL NIL NIL NIL NIL NIL NIL 

[START] several people umbrellas milling [END] NIL NIL NIL
[START] fisherman NIL NIL NIL NIL NIL NIL NIL 

[START] man shorts two [END] NIL NIL NIL NIL
[START] fisherman NIL NIL NIL NIL NIL NIL NIL 

[START] balding man petting white [END] NIL NIL NIL
[START] fisherman NIL NIL NIL NIL NIL NIL NIL 

[START] guy riding bicycle [END] NIL NIL NIL NIL
[START] fisherman NIL NIL NIL NIL NIL NIL NIL 

[START] woman painting sign [END] NIL NIL NIL NIL
[START] fisherman NIL NIL NIL NIL NIL NIL NIL 

[START] people walking marathon [END] NIL NIL NIL NIL
[START] fisherman NIL NIL NIL NIL NIL NIL NIL 

[START] young child wearing [END] NIL NIL NIL NIL
[START] fisherman NIL NIL NIL NIL NIL NIL NIL 

[START] snarling dog approaches hissing [END] NIL NIL NIL
[START] fisherman NIL NIL NIL NIL NIL NIL NIL 

Epoch:1, Iteration: 269, Loss: 152.72, TimeElapsed: 31.83Min
Working (10, 200) torch.Size([10, 9])
Normal torch.Size([10, 9]) torch.Size([10, 9, 2512])
[START] overhead view vendor selling [END] NIL NIL NIL
[START] man [END] [END] [END] [END] [END] [END] [END] 

[START] two performers mime makeup stand [END] NIL NIL
[START] man [END] [END] [END] [END] [END] [END] [END] 

[START] man wearing yellow shirt [END] NIL NIL NIL
[START] man [END] [END] [END] [END] [END] [END] [END] 

[START] man playing trumpet [END] NIL NIL NIL NIL
[START] man [END] [END] [END] [END] [END] [END] [END] 

[START] small girl spins [END] NIL NIL NIL NIL
[START] man [END] [END] [END] [END] [END] [END] [END] 

[START] person wearing earrings wearing [END] NIL NIL NIL
[START] man [END] [END] [END] [END] [END] [END] [END] 

[START] person kayaking white water [END] NIL NIL NIL
[START] man [END] [END] [END] [END] [END] [END] [END] 

[START] seven construction workers working [END] NIL NIL NIL
[START] man [END] [END] [END] [END] [END] [END] [END] 

[START] man green shirt positions [END] NIL NIL NIL
[START] man [END] [END] [END] [END] [END] [END] [END] 

[START] man wearing jacket [END] NIL NIL NIL NIL
[START] man [END] [END] [END] [END] [END] [END] [END] 

Epoch:1, Iteration: 270, Loss: 154.86, TimeElapsed: 31.87Min
Working (10, 200) torch.Size([10, 9])
Normal torch.Size([10, 9]) torch.Size([10, 9, 2512])
[START] two men working [END] NIL NIL NIL NIL
[START] man NIL NIL NIL NIL NIL NIL NIL 

[START] elderly african american man yellow [END] NIL NIL
[START] man NIL NIL NIL NIL NIL NIL NIL 

[START] female figure skater wearing [END] NIL NIL NIL
[START] man NIL NIL NIL NIL NIL NIL NIL 

[START] blond child hiding [END] NIL NIL NIL NIL
[START] man NIL NIL NIL NIL NIL NIL NIL 

[START] man blue shirt [END] NIL NIL NIL NIL
[START] man NIL NIL NIL NIL NIL NIL NIL 

[START] small child holding [END] NIL NIL NIL NIL
[START] man NIL NIL NIL NIL NIL NIL NIL 

[START] girl climbing rope wall [END] NIL NIL NIL
[START] man NIL NIL NIL NIL NIL NIL NIL 

[START] two women man [END] NIL NIL NIL NIL
[START] man NIL NIL NIL NIL NIL NIL NIL 

[START] brown white dog [END] NIL NIL NIL NIL
[START] man NIL NIL NIL NIL NIL NIL NIL 

[START] multiple people walking [END] NIL NIL NIL NIL
[START] man NIL NIL NIL NIL NIL NIL NIL 

Epoch:1, Iteration: 271, Loss: 88.82, TimeElapsed: 31.91Min
Working (10, 200) torch.Size([10, 9])
Normal torch.Size([10, 9]) torch.Size([10, 9, 2512])
[START] man mohawk smiles [END] NIL NIL NIL NIL
[START] man tattoos NIL NIL NIL NIL NIL NIL 

[START] young boy white karate [END] NIL NIL NIL
[START] man tattoos NIL NIL NIL NIL NIL NIL 

[START] shirtless child blue shorts holding [END] NIL NIL
[START] man tattoos NIL NIL NIL NIL NIL NIL 

[START] construction workers neon yellow vests work [END] NIL
[START] man tattoos NIL NIL NIL NIL NIL NIL 

[START] woman making [END] NIL NIL NIL NIL NIL
[START] man tattoos NIL NIL NIL NIL NIL NIL 

[START] man wearing bicycle helmet [END] NIL NIL NIL
[START] man tattoos NIL NIL NIL NIL NIL NIL 

[START] two boys swim sunny [END] NIL NIL NIL
[START] man tattoos NIL NIL NIL NIL NIL NIL 

[START] boy wearing sunglasses [END] NIL NIL NIL NIL
[START] man tattoos NIL NIL NIL NIL NIL NIL 

[START] vfw group stand [END] NIL NIL NIL NIL
[START] man tattoos NIL NIL NIL NIL NIL NIL 

[START] dog lying [END] NIL NIL NIL NIL NIL
[START] man tattoos NIL NIL NIL NIL NIL NIL 

Epoch:1, Iteration: 272, Loss: 140.04, TimeElapsed: 31.95Min
Working (10, 200) torch.Size([10, 9])
Normal torch.Size([10, 9]) torch.Size([10, 9, 2512])
[START] two dark skinned children staring [END] NIL NIL
[START] child child NIL NIL NIL NIL NIL NIL 

[START] young girl light brown [END] NIL NIL NIL
[START] child child NIL NIL NIL NIL NIL NIL 

[START] someone lunging soccer ball near [END] NIL NIL
[START] child child NIL NIL NIL NIL NIL NIL 

[START] woman high mountain [END] NIL NIL NIL NIL
[START] child child NIL NIL NIL NIL NIL NIL 

[START] group people standing [END] NIL NIL NIL NIL
[START] child child NIL NIL NIL NIL NIL NIL 

[START] brown dog running lawn near [END] NIL NIL
[START] child child NIL NIL NIL NIL NIL NIL 

[START] asian parents toddlers [END] NIL NIL NIL NIL
[START] child child NIL NIL NIL NIL NIL NIL 

[START] brown black dog [END] NIL NIL NIL NIL
[START] child child NIL NIL NIL NIL NIL NIL 

[START] woman white [END] NIL NIL NIL NIL NIL
[START] child child NIL NIL NIL NIL NIL NIL 

[START] several patrons standing [END] NIL NIL NIL NIL
[START] child child NIL NIL NIL NIL NIL NIL 

Epoch:1, Iteration: 273, Loss: 113.0, TimeElapsed: 32.0Min
Working (10, 200) torch.Size([10, 9])
Normal torch.Size([10, 9]) torch.Size([10, 9, 2512])
[START] group people [END] NIL NIL NIL NIL NIL
[START] woman woman NIL NIL NIL NIL NIL NIL 

[START] two men one woman [END] NIL NIL NIL
[START] woman woman NIL NIL NIL NIL NIL NIL 

[START] little girl sitting [END] NIL NIL NIL NIL
[START] woman woman NIL NIL NIL NIL NIL NIL 

[START] five young people prepare food [END] NIL NIL
[START] woman woman NIL NIL NIL NIL NIL NIL 

[START] young female artists paints [END] NIL NIL NIL
[START] woman woman NIL NIL NIL NIL NIL NIL 

[START] man orange [END] NIL NIL NIL NIL NIL
[START] woman woman NIL NIL NIL NIL NIL NIL 

[START] musical concert [END] NIL NIL NIL NIL NIL
[START] woman woman NIL NIL NIL NIL NIL NIL 

[START] two photographers crowd [END] NIL NIL NIL NIL
[START] woman woman NIL NIL NIL NIL NIL NIL 

[START] blue bird flying [END] NIL NIL NIL NIL
[START] woman woman NIL NIL NIL NIL NIL NIL 

[START] man stands next [END] NIL NIL NIL NIL
[START] woman woman NIL NIL NIL NIL NIL NIL 

Epoch:1, Iteration: 274, Loss: 99.73, TimeElapsed: 32.04Min
Working (10, 200) torch.Size([10, 9])
Normal torch.Size([10, 9]) torch.Size([10, 9, 2512])
[START] gray haired man plaid shirt working [END] NIL
[START] young white white white white white white white 

[START] small shaggy dog playing [END] NIL NIL NIL
[START] young white white white white white white white 

[START] group african american people [END] NIL NIL NIL
[START] young white white white white white white white 

[START] man scaffold [END] NIL NIL NIL NIL NIL
[START] young white white white white white white white 

[START] man sitting [END] NIL NIL NIL NIL NIL
[START] young white white white white white white white 

[START] female getting ready first [END] NIL NIL NIL
[START] young white white white white white white white 

[START] female soccer player [END] NIL NIL NIL NIL
[START] young white white white white white white white 

[START] soccer team scores [END] NIL NIL NIL NIL
[START] young white white white white white white white 

[START] blond child swims [END] NIL NIL NIL NIL
[START] young white white white white white white white 

[START] busy cafeteria restaurant [END] NIL NIL NIL NIL
[START] young white white white white white white white 

Epoch:1, Iteration: 275, Loss: 145.97, TimeElapsed: 32.08Min
Working (10, 200) torch.Size([10, 9])
Normal torch.Size([10, 9]) torch.Size([10, 9, 2512])
[START] two hikers walk arid [END] NIL NIL NIL
[START] paints paints paints paints paints paints paints paints 

[START] lady wearing helmet [END] NIL NIL NIL NIL
[START] paints paints paints paints paints paints paints paints 

[START] little girl wearing blue shirt [END] NIL NIL
[START] paints paints paints paints paints paints paints paints 

[START] boy wearing red [END] NIL NIL NIL NIL
[START] paints paints paints paints paints paints paints paints 

[START] mother two [END] NIL NIL NIL NIL NIL
[START] paints paints paints paints paints paints paints paints 

[START] woman wearing brown headscarf works [END] NIL NIL
[START] paints paints paints paints paints paints paints paints 

[START] two people helmets [END] NIL NIL NIL NIL
[START] paints paints paints paints paints paints paints paints 

[START] two little boys yellow shirts [END] NIL NIL
[START] paints paints paints paints paints paints paints paints 

[START] man little girl [END] NIL NIL NIL NIL
[START] paints paints paints paints paints paints paints paints 

[START] black sheepdog chasing [END] NIL NIL NIL NIL
[START] paints paints paints paints paints paints paints paints 

Epoch:1, Iteration: 276, Loss: 106.44, TimeElapsed: 32.13Min
Working (10, 200) torch.Size([10, 9])
Normal torch.Size([10, 9]) torch.Size([10, 9, 2512])
[START] group kids [END] NIL NIL NIL NIL NIL
[START] toddlers toddlers toddlers toddlers toddlers toddlers toddlers toddlers 

[START] young boy jumps [END] NIL NIL NIL NIL
[START] toddlers toddlers toddlers toddlers toddlers toddlers toddlers toddlers 

[START] young boy sitting [END] NIL NIL NIL NIL
[START] toddlers toddlers toddlers toddlers toddlers toddlers toddlers toddlers 

[START] man blue shirt playing musical [END] NIL NIL
[START] toddlers toddlers toddlers toddlers toddlers toddlers toddlers toddlers 

[START] hikers walking grassy [END] NIL NIL NIL NIL
[START] toddlers toddlers toddlers toddlers toddlers toddlers toddlers toddlers 

[START] two dogs staring gray [END] NIL NIL NIL
[START] toddlers toddlers toddlers toddlers toddlers toddlers toddlers toddlers 

[START] man running riot control [END] NIL NIL NIL
[START] toddlers toddlers toddlers toddlers toddlers toddlers toddlers toddlers 

[START] man playing accordion night [END] NIL NIL NIL
[START] toddlers toddlers toddlers toddlers toddlers toddlers toddlers toddlers 

[START] two guys barbecuing one [END] NIL NIL NIL
[START] toddlers toddlers toddlers toddlers toddlers toddlers toddlers toddlers 

[START] boy holding [END] NIL NIL NIL NIL NIL
[START] toddlers toddlers toddlers toddlers toddlers toddlers toddlers toddlers 

Epoch:1, Iteration: 277, Loss: 104.38, TimeElapsed: 32.17Min
Working (10, 200) torch.Size([10, 9])
Normal torch.Size([10, 9]) torch.Size([10, 9, 2512])
[START] young girl standing next [END] NIL NIL NIL
[START] people [END] NIL NIL NIL NIL NIL NIL 

[START] three people wearing robes [END] NIL NIL NIL
[START] people [END] NIL NIL NIL NIL NIL NIL 

[START] man router working [END] NIL NIL NIL NIL
[START] people [END] NIL NIL NIL NIL NIL NIL 

[START] four guys rollerskating rink holding [END] NIL NIL
[START] people [END] NIL NIL NIL NIL NIL NIL 

[START] five people walking [END] NIL NIL NIL NIL
[START] people [END] NIL NIL NIL NIL NIL NIL 

[START] man black [END] NIL NIL NIL NIL NIL
[START] people [END] NIL NIL NIL NIL NIL NIL 

[START] white black dog [END] NIL NIL NIL NIL
[START] people [END] NIL NIL NIL NIL NIL NIL 

[START] man playing guitar [END] NIL NIL NIL NIL
[START] people [END] NIL NIL NIL NIL NIL NIL 

[START] two young barefooted boys [END] NIL NIL NIL
[START] people [END] NIL NIL NIL NIL NIL NIL 

[START] woman dress [END] NIL NIL NIL NIL NIL
[START] people [END] NIL NIL NIL NIL NIL NIL 

Epoch:1, Iteration: 278, Loss: 91.62, TimeElapsed: 32.22Min
Working (10, 200) torch.Size([10, 9])
Normal torch.Size([10, 9]) torch.Size([10, 9, 2512])
[START] bongo player wearing [END] NIL NIL NIL NIL
[START] holding NIL NIL NIL NIL NIL NIL NIL 

[START] woman sitting [END] NIL NIL NIL NIL NIL
[START] holding NIL NIL NIL NIL NIL NIL NIL 

[START] boy eats spoon [END] NIL NIL NIL NIL
[START] holding NIL NIL NIL NIL NIL NIL NIL 

[START] two people cooking [END] NIL NIL NIL NIL
[START] holding NIL NIL NIL NIL NIL NIL NIL 

[START] man blue [END] NIL NIL NIL NIL NIL
[START] holding NIL NIL NIL NIL NIL NIL NIL 

[START] boy sitting water [END] NIL NIL NIL NIL
[START] holding NIL NIL NIL NIL NIL NIL NIL 

[START] group four males [END] NIL NIL NIL NIL
[START] holding NIL NIL NIL NIL NIL NIL NIL 

[START] two men near railroad tracks [END] NIL NIL
[START] holding NIL NIL NIL NIL NIL NIL NIL 

[START] group people wearing [END] NIL NIL NIL NIL
[START] holding NIL NIL NIL NIL NIL NIL NIL 

[START] father teaching son [END] NIL NIL NIL NIL
[START] holding NIL NIL NIL NIL NIL NIL NIL 

Epoch:1, Iteration: 279, Loss: 100.53, TimeElapsed: 32.26Min
Working (10, 200) torch.Size([10, 9])
Normal torch.Size([10, 9]) torch.Size([10, 9, 2512])
[START] dog gets ready [END] NIL NIL NIL NIL
[START] blue NIL NIL NIL NIL NIL NIL NIL 

[START] woman boy [END] NIL NIL NIL NIL NIL
[START] blue NIL NIL NIL NIL NIL NIL NIL 

[START] man woman care [END] NIL NIL NIL NIL
[START] blue NIL NIL NIL NIL NIL NIL NIL 

[START] man shaking hand [END] NIL NIL NIL NIL
[START] blue NIL NIL NIL NIL NIL NIL NIL 

[START] 2 kids held [END] NIL NIL NIL NIL
[START] blue NIL NIL NIL NIL NIL NIL NIL 

[START] bushy bearded man sitting playing [END] NIL NIL
[START] blue NIL NIL NIL NIL NIL NIL NIL 

[START] performer purple outfit [END] NIL NIL NIL NIL
[START] blue NIL NIL NIL NIL NIL NIL NIL 

[START] baby playing sweeper [END] NIL NIL NIL NIL
[START] blue NIL NIL NIL NIL NIL NIL NIL 

[START] man sitting [END] NIL NIL NIL NIL NIL
[START] blue NIL NIL NIL NIL NIL NIL NIL 

[START] two football players chase ball [END] NIL NIL
[START] blue NIL NIL NIL NIL NIL NIL NIL 

Epoch:1, Iteration: 280, Loss: 118.74, TimeElapsed: 32.3Min
Working (10, 200) torch.Size([10, 9])
Normal torch.Size([10, 9]) torch.Size([10, 9, 2512])
[START] motorcyclist rides [END] NIL NIL NIL NIL NIL
[START] two [END] [END] [END] [END] [END] [END] [END] 

[START] man wearing black [END] NIL NIL NIL NIL
[START] two [END] [END] [END] [END] [END] [END] [END] 

[START] one dog trying bite [END] NIL NIL NIL
[START] two [END] [END] [END] [END] [END] [END] [END] 

[START] girl hair [END] NIL NIL NIL NIL NIL
[START] two [END] [END] [END] [END] [END] [END] [END] 

[START] ethnic people visiting picking fresh food [END] NIL
[START] two [END] [END] [END] [END] [END] [END] [END] 

[START] man stares [END] NIL NIL NIL NIL NIL
[START] two [END] [END] [END] [END] [END] [END] [END] 

[START] person upside [END] NIL NIL NIL NIL NIL
[START] two [END] [END] [END] [END] [END] [END] [END] 

[START] man yellow [END] NIL NIL NIL NIL NIL
[START] two [END] [END] [END] [END] [END] [END] [END] 

[START] man wearing shirt [END] NIL NIL NIL NIL
[START] two [END] [END] [END] [END] [END] [END] [END] 

[START] big black dog runs [END] NIL NIL NIL
[START] two [END] [END] [END] [END] [END] [END] [END] 

Epoch:1, Iteration: 281, Loss: 111.45, TimeElapsed: 32.35Min
Working (10, 200) torch.Size([10, 9])
Normal torch.Size([10, 9]) torch.Size([10, 9, 2512])
[START] woman wearing shorts holds [END] NIL NIL NIL
[START] shaking shaking shaking shaking shaking shaking shaking shaking 

[START] young man reads book [END] NIL NIL NIL
[START] shaking shaking shaking shaking shaking shaking shaking shaking 

[START] little boy wearing goggles swimming [END] NIL NIL
[START] shaking shaking shaking shaking shaking shaking shaking shaking 

[START] woman blue [END] NIL NIL NIL NIL NIL
[START] shaking shaking shaking shaking shaking shaking shaking shaking 

[START] person wearing heavy [END] NIL NIL NIL NIL
[START] shaking shaking shaking shaking shaking shaking shaking shaking 

[START] young boy wearing red [END] NIL NIL NIL
[START] shaking shaking shaking shaking shaking shaking shaking shaking 

[START] elderly lady searches [END] NIL NIL NIL NIL
[START] shaking shaking shaking shaking shaking shaking shaking shaking 

[START] woman walking [END] NIL NIL NIL NIL NIL
[START] shaking shaking shaking shaking shaking shaking shaking shaking 

[START] woman man [END] NIL NIL NIL NIL NIL
[START] shaking shaking shaking shaking shaking shaking shaking shaking 

[START] construction man looks distance [END] NIL NIL NIL
[START] shaking shaking shaking shaking shaking shaking shaking shaking 

Epoch:1, Iteration: 282, Loss: 93.06, TimeElapsed: 32.4Min
Working (10, 200) torch.Size([10, 9])
Normal torch.Size([10, 9]) torch.Size([10, 9, 2512])
[START] crowded busy dock [END] NIL NIL NIL NIL
[START] man NIL NIL NIL NIL NIL NIL NIL 

[START] pilot putting luggage right [END] NIL NIL NIL
[START] man NIL NIL NIL NIL NIL NIL NIL 

[START] two ladies walking wooded area [END] NIL NIL
[START] man NIL NIL NIL NIL NIL NIL NIL 

[START] woman yellow [END] NIL NIL NIL NIL NIL
[START] man NIL NIL NIL NIL NIL NIL NIL 

[START] woman paddle [END] NIL NIL NIL NIL NIL
[START] man NIL NIL NIL NIL NIL NIL NIL 

[START] smartly dressed woman walks [END] NIL NIL NIL
[START] man NIL NIL NIL NIL NIL NIL NIL 

[START] boy girl playing [END] NIL NIL NIL NIL
[START] man NIL NIL NIL NIL NIL NIL NIL 

[START] child performing [END] NIL NIL NIL NIL NIL
[START] man NIL NIL NIL NIL NIL NIL NIL 

[START] three police officers tape section [END] NIL NIL
[START] man NIL NIL NIL NIL NIL NIL NIL 

[START] two men ride bicycle [END] NIL NIL NIL
[START] man NIL NIL NIL NIL NIL NIL NIL 

Epoch:1, Iteration: 283, Loss: 169.94, TimeElapsed: 32.44Min
Working (10, 200) torch.Size([10, 9])
Normal torch.Size([10, 9]) torch.Size([10, 9, 2512])
[START] people wait luggage [END] NIL NIL NIL NIL
[START] father father NIL NIL NIL NIL NIL NIL 

[START] group men walk [END] NIL NIL NIL NIL
[START] father father NIL NIL NIL NIL NIL NIL 

[START] two people performing front [END] NIL NIL NIL
[START] father father NIL NIL NIL NIL NIL NIL 

[START] barber giving haircut [END] NIL NIL NIL NIL
[START] father father NIL NIL NIL NIL NIL NIL 

[START] man bright [END] NIL NIL NIL NIL NIL
[START] father father NIL NIL NIL NIL NIL NIL 

[START] man grinding stones [END] NIL NIL NIL NIL
[START] father father NIL NIL NIL NIL NIL NIL 

[START] people sitting [END] NIL NIL NIL NIL NIL
[START] father father NIL NIL NIL NIL NIL NIL 

[START] ballerina black dress posed [END] NIL NIL NIL
[START] father father NIL NIL NIL NIL NIL NIL 

[START] stairway graffiti yellow [END] NIL NIL NIL NIL
[START] father father NIL NIL NIL NIL NIL NIL 

[START] young girl sliding [END] NIL NIL NIL NIL
[START] father father NIL NIL NIL NIL NIL NIL 

Epoch:1, Iteration: 284, Loss: 140.51, TimeElapsed: 32.48Min
Working (10, 200) torch.Size([10, 9])
Normal torch.Size([10, 9]) torch.Size([10, 9, 2512])
[START] young boys ride bikes [END] NIL NIL NIL
[START] man kayaking NIL NIL NIL NIL NIL NIL 

[START] white dog ready catch [END] NIL NIL NIL
[START] man kayaking NIL NIL NIL NIL NIL NIL 

[START] young boy fences [END] NIL NIL NIL NIL
[START] man kayaking NIL NIL NIL NIL NIL NIL 

[START] brown dog splashes [END] NIL NIL NIL NIL
[START] man kayaking NIL NIL NIL NIL NIL NIL 

[START] man wearing [END] NIL NIL NIL NIL NIL
[START] man kayaking NIL NIL NIL NIL NIL NIL 

[START] child drinks straw [END] NIL NIL NIL NIL
[START] man kayaking NIL NIL NIL NIL NIL NIL 

[START] woman dress [END] NIL NIL NIL NIL NIL
[START] man kayaking NIL NIL NIL NIL NIL NIL 

[START] young man sitting [END] NIL NIL NIL NIL
[START] man kayaking NIL NIL NIL NIL NIL NIL 

[START] man sitting near [END] NIL NIL NIL NIL
[START] man kayaking NIL NIL NIL NIL NIL NIL 

[START] four wheeler jumping empty [END] NIL NIL NIL
[START] man kayaking NIL NIL NIL NIL NIL NIL 

Epoch:1, Iteration: 285, Loss: 98.42, TimeElapsed: 32.53Min
Working (10, 200) torch.Size([10, 9])
Normal torch.Size([10, 9]) torch.Size([10, 9, 2512])
[START] man white apron [END] NIL NIL NIL NIL
[START] group NIL NIL NIL NIL NIL NIL NIL 

[START] singer band performing [END] NIL NIL NIL NIL
[START] group NIL NIL NIL NIL NIL NIL NIL 

[START] motorcycle race [END] NIL NIL NIL NIL NIL
[START] group NIL NIL NIL NIL NIL NIL NIL 

[START] one man uniform [END] NIL NIL NIL NIL
[START] group NIL NIL NIL NIL NIL NIL NIL 

[START] men getting ready [END] NIL NIL NIL NIL
[START] group NIL NIL NIL NIL NIL NIL NIL 

[START] couple men [END] NIL NIL NIL NIL NIL
[START] group NIL NIL NIL NIL NIL NIL NIL 

[START] two african american men wearing [END] NIL NIL
[START] group NIL NIL NIL NIL NIL NIL NIL 

[START] three girls long brown [END] NIL NIL NIL
[START] group NIL NIL NIL NIL NIL NIL NIL 

[START] woman dressed sandals skirt [END] NIL NIL NIL
[START] group NIL NIL NIL NIL NIL NIL NIL 

[START] shirtless men hike canyon [END] NIL NIL NIL
[START] group NIL NIL NIL NIL NIL NIL NIL 

Epoch:1, Iteration: 286, Loss: 155.07, TimeElapsed: 32.57Min
Working (10, 200) torch.Size([10, 9])
Normal torch.Size([10, 9]) torch.Size([10, 9, 2512])
[START] three people pushing [END] NIL NIL NIL NIL
[START] man [END] [END] [END] [END] [END] [END] [END] 

[START] woman white cuts [END] NIL NIL NIL NIL
[START] man [END] [END] [END] [END] [END] [END] [END] 

[START] man gold [END] NIL NIL NIL NIL NIL
[START] man [END] [END] [END] [END] [END] [END] [END] 

[START] small child climbs onto arm [END] NIL NIL
[START] man [END] [END] [END] [END] [END] [END] [END] 

[START] boy backpack [END] NIL NIL NIL NIL NIL
[START] man [END] [END] [END] [END] [END] [END] [END] 

[START] child red pants [END] NIL NIL NIL NIL
[START] man [END] [END] [END] [END] [END] [END] [END] 

[START] photo snapped [END] NIL NIL NIL NIL NIL
[START] man [END] [END] [END] [END] [END] [END] [END] 

[START] child jumping indoor climbing [END] NIL NIL NIL
[START] man [END] [END] [END] [END] [END] [END] [END] 

[START] asian men shopping [END] NIL NIL NIL NIL
[START] man [END] [END] [END] [END] [END] [END] [END] 

[START] woman huge bag [END] NIL NIL NIL NIL
[START] man [END] [END] [END] [END] [END] [END] [END] 

Epoch:1, Iteration: 287, Loss: 106.82, TimeElapsed: 32.61Min
Working (10, 200) torch.Size([10, 9])
Normal torch.Size([10, 9]) torch.Size([10, 9, 2512])
[START] boy playground [END] NIL NIL NIL NIL NIL
[START] two NIL NIL NIL NIL NIL NIL NIL 

[START] group men [END] NIL NIL NIL NIL NIL
[START] two NIL NIL NIL NIL NIL NIL NIL 

[START] woman green [END] NIL NIL NIL NIL NIL
[START] two NIL NIL NIL NIL NIL NIL NIL 

[START] woman stands [END] NIL NIL NIL NIL NIL
[START] two NIL NIL NIL NIL NIL NIL NIL 

[START] little girl flower [END] NIL NIL NIL NIL
[START] two NIL NIL NIL NIL NIL NIL NIL 

[START] dog jumping black [END] NIL NIL NIL NIL
[START] two NIL NIL NIL NIL NIL NIL NIL 

[START] teenage boy dressed black stands [END] NIL NIL
[START] two NIL NIL NIL NIL NIL NIL NIL 

[START] photo man motorcycle [END] NIL NIL NIL NIL
[START] two NIL NIL NIL NIL NIL NIL NIL 

[START] 3 women walking [END] NIL NIL NIL NIL
[START] two NIL NIL NIL NIL NIL NIL NIL 

[START] crowd sitting [END] NIL NIL NIL NIL NIL
[START] two NIL NIL NIL NIL NIL NIL NIL 

Epoch:1, Iteration: 288, Loss: 78.66, TimeElapsed: 32.66Min
Working (10, 200) torch.Size([10, 9])
Normal torch.Size([10, 9]) torch.Size([10, 9, 2512])
[START] blond little girl wearing [END] NIL NIL NIL
[START] three NIL NIL NIL NIL NIL NIL NIL 

[START] man blue tee shirt [END] NIL NIL NIL
[START] three NIL NIL NIL NIL NIL NIL NIL 

[START] sidewalk street scene [END] NIL NIL NIL NIL
[START] three NIL NIL NIL NIL NIL NIL NIL 

[START] band performing music [END] NIL NIL NIL NIL
[START] three NIL NIL NIL NIL NIL NIL NIL 

[START] person ripped blue jeans [END] NIL NIL NIL
[START] three NIL NIL NIL NIL NIL NIL NIL 

[START] small child getting [END] NIL NIL NIL NIL
[START] three NIL NIL NIL NIL NIL NIL NIL 

[START] man gets ready [END] NIL NIL NIL NIL
[START] three NIL NIL NIL NIL NIL NIL NIL 

[START] man alaska [END] NIL NIL NIL NIL NIL
[START] three NIL NIL NIL NIL NIL NIL NIL 

[START] four children playing pool [END] NIL NIL NIL
[START] three NIL NIL NIL NIL NIL NIL NIL 

[START] man vest [END] NIL NIL NIL NIL NIL
[START] three NIL NIL NIL NIL NIL NIL NIL 

Epoch:1, Iteration: 289, Loss: 132.06, TimeElapsed: 32.7Min
Working (10, 200) torch.Size([10, 9])
Normal torch.Size([10, 9]) torch.Size([10, 9, 2512])
[START] items sold [END] NIL NIL NIL NIL NIL
[START] sandals sandals sandals sandals sandals sandals sandals sandals 

[START] group rock climbers climb [END] NIL NIL NIL
[START] sandals sandals sandals sandals sandals sandals sandals sandals 

[START] young children play near [END] NIL NIL NIL
[START] sandals sandals sandals sandals sandals sandals sandals sandals 

[START] large group people mingling [END] NIL NIL NIL
[START] sandals sandals sandals sandals sandals sandals sandals sandals 

[START] asian family prepares meat [END] NIL NIL NIL
[START] sandals sandals sandals sandals sandals sandals sandals sandals 

[START] people boat carrying [END] NIL NIL NIL NIL
[START] sandals sandals sandals sandals sandals sandals sandals sandals 

[START] woman wearing blue dress [END] NIL NIL NIL
[START] sandals sandals sandals sandals sandals sandals sandals sandals 

[START] two competitors one [END] NIL NIL NIL NIL
[START] sandals sandals sandals sandals sandals sandals sandals sandals 

[START] hiker red [END] NIL NIL NIL NIL NIL
[START] sandals sandals sandals sandals sandals sandals sandals sandals 

[START] group people standing [END] NIL NIL NIL NIL
[START] sandals sandals sandals sandals sandals sandals sandals sandals 

Epoch:1, Iteration: 290, Loss: 101.41, TimeElapsed: 32.75Min
Working (10, 200) torch.Size([10, 9])
Normal torch.Size([10, 9]) torch.Size([10, 9, 2512])
[START] big black dog jumps [END] NIL NIL NIL
[START] bag bag bag bag bag bag bag bag 

[START] basketball player looks around court [END] NIL NIL
[START] bag bag bag bag bag bag bag bag 

[START] four cowboys sitting [END] NIL NIL NIL NIL
[START] bag bag bag bag bag bag bag bag 

[START] dark skinned man straw hat [END] NIL NIL
[START] bag bag bag bag bag bag bag bag 

[START] three dogs beach [END] NIL NIL NIL NIL
[START] bag bag bag bag bag bag bag bag 

[START] red plane flying boat [END] NIL NIL NIL
[START] bag bag bag bag bag bag bag bag 

[START] two young men hold [END] NIL NIL NIL
[START] bag bag bag bag bag bag bag bag 

[START] young girl wearing bulky [END] NIL NIL NIL
[START] bag bag bag bag bag bag bag bag 

[START] man cooking [END] NIL NIL NIL NIL NIL
[START] bag bag bag bag bag bag bag bag 

[START] female boxer pink [END] NIL NIL NIL NIL
[START] bag bag bag bag bag bag bag bag 

Epoch:1, Iteration: 291, Loss: 165.55, TimeElapsed: 32.79Min
Working (10, 200) torch.Size([10, 9])
Normal torch.Size([10, 9]) torch.Size([10, 9, 2512])
[START] man hammers motorcycle [END] NIL NIL NIL NIL
[START] straw straw straw straw straw straw straw straw 

[START] group men play musical [END] NIL NIL NIL
[START] straw straw straw straw straw straw straw straw 

[START] man yellow hard hat [END] NIL NIL NIL
[START] straw straw straw straw straw straw straw straw 

[START] two hikers backpacks crossing snow field [END] NIL
[START] straw straw straw straw straw straw straw straw 

[START] woman sitting table feeding [END] NIL NIL NIL
[START] straw straw straw straw straw straw straw straw 

[START] blond boy blue shirt [END] NIL NIL NIL
[START] straw straw straw straw straw straw straw straw 

[START] band takes stage [END] NIL NIL NIL NIL
[START] straw straw straw straw straw straw straw straw 

[START] two men trying scrape [END] NIL NIL NIL
[START] straw straw straw straw straw straw straw straw 

[START] boy jumps top [END] NIL NIL NIL NIL
[START] straw straw straw straw straw straw straw straw 

[START] men standing around working [END] NIL NIL NIL
[START] straw straw straw straw straw straw straw straw 

Epoch:1, Iteration: 292, Loss: 174.68, TimeElapsed: 32.83Min
Working (10, 200) torch.Size([10, 9])
Normal torch.Size([10, 9]) torch.Size([10, 9, 2512])
[START] white dog [END] NIL NIL NIL NIL NIL
[START] dress dress dress dress dress dress dress dress 

[START] baseball player blue jersey [END] NIL NIL NIL
[START] dress dress dress dress dress dress dress dress 

[START] man suit [END] NIL NIL NIL NIL NIL
[START] dress dress dress dress dress dress dress dress 

[START] gray black dogs running [END] NIL NIL NIL
[START] dress dress dress dress dress dress dress dress 

[START] two women jogging three men [END] NIL NIL
[START] dress dress dress dress dress dress dress dress 

[START] man red fixing [END] NIL NIL NIL NIL
[START] dress dress dress dress dress dress dress dress 

[START] man white shirt standing [END] NIL NIL NIL
[START] dress dress dress dress dress dress dress dress 

[START] man breakdancing [END] NIL NIL NIL NIL NIL
[START] dress dress dress dress dress dress dress dress 

[START] dark streets wet [END] NIL NIL NIL NIL
[START] dress dress dress dress dress dress dress dress 

[START] two individuals beach jumping [END] NIL NIL NIL
[START] dress dress dress dress dress dress dress dress 

Epoch:1, Iteration: 293, Loss: 130.86, TimeElapsed: 32.88Min
Working (10, 200) torch.Size([10, 9])
Normal torch.Size([10, 9]) torch.Size([10, 9, 2512])
[START] man blue jacket [END] NIL NIL NIL NIL
[START] shaggy NIL NIL NIL NIL NIL NIL NIL 

[START] girl eyes [END] NIL NIL NIL NIL NIL
[START] shaggy NIL NIL NIL NIL NIL NIL NIL 

[START] woman white top [END] NIL NIL NIL NIL
[START] shaggy NIL NIL NIL NIL NIL NIL NIL 

[START] small boy toys [END] NIL NIL NIL NIL
[START] shaggy NIL NIL NIL NIL NIL NIL NIL 

[START] man hiking [END] NIL NIL NIL NIL NIL
[START] shaggy NIL NIL NIL NIL NIL NIL NIL 

[START] small boy sitting [END] NIL NIL NIL NIL
[START] shaggy NIL NIL NIL NIL NIL NIL NIL 

[START] woman picking large rock [END] NIL NIL NIL
[START] shaggy NIL NIL NIL NIL NIL NIL NIL 

[START] man red helmet [END] NIL NIL NIL NIL
[START] shaggy NIL NIL NIL NIL NIL NIL NIL 

[START] man painting [END] NIL NIL NIL NIL NIL
[START] shaggy NIL NIL NIL NIL NIL NIL NIL 

[START] large amount people sitting [END] NIL NIL NIL
[START] shaggy NIL NIL NIL NIL NIL NIL NIL 

Epoch:1, Iteration: 294, Loss: 102.65, TimeElapsed: 32.92Min
Working (10, 200) torch.Size([10, 9])
Normal torch.Size([10, 9]) torch.Size([10, 9, 2512])
[START] two scientists pouring fluid [END] NIL NIL NIL
[START] playground NIL NIL NIL NIL NIL NIL NIL 

[START] people take picture dogs [END] NIL NIL NIL
[START] playground NIL NIL NIL NIL NIL NIL NIL 

[START] cat looks away [END] NIL NIL NIL NIL
[START] playground NIL NIL NIL NIL NIL NIL NIL 

[START] man hat sunglasses [END] NIL NIL NIL NIL
[START] playground NIL NIL NIL NIL NIL NIL NIL 

[START] group people [END] NIL NIL NIL NIL NIL
[START] playground NIL NIL NIL NIL NIL NIL NIL 

[START] person dressed blue coat [END] NIL NIL NIL
[START] playground NIL NIL NIL NIL NIL NIL NIL 

[START] older man long [END] NIL NIL NIL NIL
[START] playground NIL NIL NIL NIL NIL NIL NIL 

[START] group people wearing [END] NIL NIL NIL NIL
[START] playground NIL NIL NIL NIL NIL NIL NIL 

[START] two men wearing spurs inspecting [END] NIL NIL
[START] playground NIL NIL NIL NIL NIL NIL NIL 

[START] tattooed man cleaning street [END] NIL NIL NIL
[START] playground NIL NIL NIL NIL NIL NIL NIL 

Epoch:1, Iteration: 295, Loss: 156.43, TimeElapsed: 32.96Min
Working (10, 200) torch.Size([10, 9])
Normal torch.Size([10, 9]) torch.Size([10, 9, 2512])
[START] two men stride side [END] NIL NIL NIL
[START] luggage NIL NIL NIL NIL NIL NIL NIL 

[START] young girl wearing pink [END] NIL NIL NIL
[START] luggage NIL NIL NIL NIL NIL NIL NIL 

[START] large brown dog sitting [END] NIL NIL NIL
[START] luggage NIL NIL NIL NIL NIL NIL NIL 

[START] people gathered outside protest [END] NIL NIL NIL
[START] luggage NIL NIL NIL NIL NIL NIL NIL 

[START] girl walking [END] NIL NIL NIL NIL NIL
[START] luggage NIL NIL NIL NIL NIL NIL NIL 

[START] wild animal found [END] NIL NIL NIL NIL
[START] luggage NIL NIL NIL NIL NIL NIL NIL 

[START] woman sitting [END] NIL NIL NIL NIL NIL
[START] luggage NIL NIL NIL NIL NIL NIL NIL 

[START] chef enjoying meal [END] NIL NIL NIL NIL
[START] luggage NIL NIL NIL NIL NIL NIL NIL 

[START] person black hat black [END] NIL NIL NIL
[START] luggage NIL NIL NIL NIL NIL NIL NIL 

[START] man walking [END] NIL NIL NIL NIL NIL
[START] luggage NIL NIL NIL NIL NIL NIL NIL 

Epoch:1, Iteration: 296, Loss: 105.43, TimeElapsed: 33.01Min
Working (10, 200) torch.Size([10, 9])
Normal torch.Size([10, 9]) torch.Size([10, 9, 2512])
[START] black white dog jumps [END] NIL NIL NIL
[START] flying flying NIL NIL NIL NIL NIL NIL 

[START] two people driving blue [END] NIL NIL NIL
[START] flying flying NIL NIL NIL NIL NIL NIL 

[START] pro soccer game played [END] NIL NIL NIL
[START] flying flying NIL NIL NIL NIL NIL NIL 

[START] many surfers sitting [END] NIL NIL NIL NIL
[START] flying flying NIL NIL NIL NIL NIL NIL 

[START] child kiddie pool splashes water sticks [END] NIL
[START] flying flying NIL NIL NIL NIL NIL NIL 

[START] man reflective safety [END] NIL NIL NIL NIL
[START] flying flying NIL NIL NIL NIL NIL NIL 

[START] young individuals uniforms gathering [END] NIL NIL NIL
[START] flying flying NIL NIL NIL NIL NIL NIL 

[START] three construction men working [END] NIL NIL NIL
[START] flying flying NIL NIL NIL NIL NIL NIL 

[START] black dog jumps air [END] NIL NIL NIL
[START] flying flying NIL NIL NIL NIL NIL NIL 

[START] man juggling fire [END] NIL NIL NIL NIL
[START] flying flying NIL NIL NIL NIL NIL NIL 

Epoch:1, Iteration: 297, Loss: 175.3, TimeElapsed: 33.06Min
Working (10, 200) torch.Size([10, 9])
Normal torch.Size([10, 9]) torch.Size([10, 9, 2512])
[START] older woman wearing blue [END] NIL NIL NIL
[START] person [END] [END] [END] [END] [END] [END] [END] 

[START] three kids martial arts class [END] NIL NIL
[START] person [END] [END] [END] [END] [END] [END] [END] 

[START] female works near [END] NIL NIL NIL NIL
[START] person [END] [END] [END] [END] [END] [END] [END] 

[START] couple walks past lanterns [END] NIL NIL NIL
[START] person [END] [END] [END] [END] [END] [END] [END] 

[START] tractor driving [END] NIL NIL NIL NIL NIL
[START] person [END] [END] [END] [END] [END] [END] [END] 

[START] newly wedded man woman jump joy [END] NIL
[START] person [END] [END] [END] [END] [END] [END] [END] 

[START] older male glasses [END] NIL NIL NIL NIL
[START] person [END] [END] [END] [END] [END] [END] [END] 

[START] young boy [END] NIL NIL NIL NIL NIL
[START] person [END] [END] [END] [END] [END] [END] [END] 

[START] three men sit building [END] NIL NIL NIL
[START] person [END] [END] [END] [END] [END] [END] [END] 

[START] asian person wearing black [END] NIL NIL NIL
[START] person [END] [END] [END] [END] [END] [END] [END] 

Epoch:1, Iteration: 298, Loss: 134.09, TimeElapsed: 33.1Min
Working (10, 200) torch.Size([10, 9])
Normal torch.Size([10, 9]) torch.Size([10, 9, 2512])
[START] two women dressed ethnic [END] NIL NIL NIL
[START] feeding feeding feeding feeding feeding feeding feeding feeding 

[START] young boy orange [END] NIL NIL NIL NIL
[START] feeding feeding feeding feeding feeding feeding feeding feeding 

[START] man chops swordfish [END] NIL NIL NIL NIL
[START] feeding feeding feeding feeding feeding feeding feeding feeding 

[START] news crew rain jackets standing [END] NIL NIL
[START] feeding feeding feeding feeding feeding feeding feeding feeding 

[START] group teammates [END] NIL NIL NIL NIL NIL
[START] feeding feeding feeding feeding feeding feeding feeding feeding 

[START] goose appears [END] NIL NIL NIL NIL NIL
[START] feeding feeding feeding feeding feeding feeding feeding feeding 

[START] two men playing music [END] NIL NIL NIL
[START] feeding feeding feeding feeding feeding feeding feeding feeding 

[START] woman wearing skirt [END] NIL NIL NIL NIL
[START] feeding feeding feeding feeding feeding feeding feeding feeding 

[START] two bicyclists pose [END] NIL NIL NIL NIL
[START] feeding feeding feeding feeding feeding feeding feeding feeding 

[START] asian woman wearing [END] NIL NIL NIL NIL
[START] feeding feeding feeding feeding feeding feeding feeding feeding 

Epoch:1, Iteration: 299, Loss: 122.98, TimeElapsed: 33.15Min
Working (10, 200) torch.Size([10, 9])
Normal torch.Size([10, 9]) torch.Size([10, 9, 2512])
[START] group people holds tennis rackets [END] NIL NIL
[START] joy joy joy joy joy joy joy joy 

[START] woman stage holding microphone [END] NIL NIL NIL
[START] joy joy joy joy joy joy joy joy 

[START] formally dressed family watching couple [END] NIL NIL
[START] joy joy joy joy joy joy joy joy 

[START] little girl [END] NIL NIL NIL NIL NIL
[START] joy joy joy joy joy joy joy joy 

[START] two men participate [END] NIL NIL NIL NIL
[START] joy joy joy joy joy joy joy joy 

[START] sleeping baby [END] NIL NIL NIL NIL NIL
[START] joy joy joy joy joy joy joy joy 

[START] woman green [END] NIL NIL NIL NIL NIL
[START] joy joy joy joy joy joy joy joy 

[START] one woman singing one [END] NIL NIL NIL
[START] joy joy joy joy joy joy joy joy 

[START] lady son [END] NIL NIL NIL NIL NIL
[START] joy joy joy joy joy joy joy joy 

[START] woman playing kids [END] NIL NIL NIL NIL
[START] joy joy joy joy joy joy joy joy 

Epoch:1, Iteration: 300, Loss: 103.05, TimeElapsed: 33.19Min
Working (10, 200) torch.Size([10, 9])
Normal torch.Size([10, 9]) torch.Size([10, 9, 2512])
[START] two women admiring third [END] NIL NIL NIL
[START] wearing wearing NIL NIL NIL NIL NIL NIL 

[START] boy improvises bowling using [END] NIL NIL NIL
[START] wearing wearing NIL NIL NIL NIL NIL NIL 

[START] several people standing line [END] NIL NIL NIL
[START] wearing wearing NIL NIL NIL NIL NIL NIL 

[START] two male ufc fighters boxing [END] NIL NIL
[START] wearing wearing NIL NIL NIL NIL NIL NIL 

[START] three children one [END] NIL NIL NIL NIL
[START] wearing wearing NIL NIL NIL NIL NIL NIL 

[START] group bicyclists getting ready [END] NIL NIL NIL
[START] wearing wearing NIL NIL NIL NIL NIL NIL 

[START] young girl sits [END] NIL NIL NIL NIL
[START] wearing wearing NIL NIL NIL NIL NIL NIL 

[START] man green [END] NIL NIL NIL NIL NIL
[START] wearing wearing NIL NIL NIL NIL NIL NIL 

[START] dog done running [END] NIL NIL NIL NIL
[START] wearing wearing NIL NIL NIL NIL NIL NIL 

[START] two young boys sitting [END] NIL NIL NIL
[START] wearing wearing NIL NIL NIL NIL NIL NIL 

Epoch:1, Iteration: 301, Loss: 148.88, TimeElapsed: 33.23Min
Working (10, 200) torch.Size([10, 9])
Normal torch.Size([10, 9]) torch.Size([10, 9, 2512])
[START] man dark red [END] NIL NIL NIL NIL
[START] young NIL NIL NIL NIL NIL NIL NIL 

[START] two older men backpacks [END] NIL NIL NIL
[START] young NIL NIL NIL NIL NIL NIL NIL 

[START] four people outside porch [END] NIL NIL NIL
[START] young NIL NIL NIL NIL NIL NIL NIL 

[START] wet white dog splashing [END] NIL NIL NIL
[START] young NIL NIL NIL NIL NIL NIL NIL 

[START] dark haired man [END] NIL NIL NIL NIL
[START] young NIL NIL NIL NIL NIL NIL NIL 

[START] young boy wearing swimming [END] NIL NIL NIL
[START] young NIL NIL NIL NIL NIL NIL NIL 

[START] mother holding [END] NIL NIL NIL NIL NIL
[START] young NIL NIL NIL NIL NIL NIL NIL 

[START] small child preparing [END] NIL NIL NIL NIL
[START] young NIL NIL NIL NIL NIL NIL NIL 

[START] black white dog looking [END] NIL NIL NIL
[START] young NIL NIL NIL NIL NIL NIL NIL 

[START] two people digging [END] NIL NIL NIL NIL
[START] young NIL NIL NIL NIL NIL NIL NIL 

Epoch:1, Iteration: 302, Loss: 110.35, TimeElapsed: 33.28Min
Working (10, 200) torch.Size([10, 9])
Normal torch.Size([10, 9]) torch.Size([10, 9, 2512])
[START] asian woman wearing [END] NIL NIL NIL NIL
[START] two NIL NIL NIL NIL NIL NIL NIL 

[START] several brown dogs different sizes gather [END] NIL
[START] two NIL NIL NIL NIL NIL NIL NIL 

[START] woman throwing [END] NIL NIL NIL NIL NIL
[START] two NIL NIL NIL NIL NIL NIL NIL 

[START] mountain climber scales [END] NIL NIL NIL NIL
[START] two NIL NIL NIL NIL NIL NIL NIL 

[START] six performers dressed red costumes [END] NIL NIL
[START] two NIL NIL NIL NIL NIL NIL NIL 

[START] man headphones [END] NIL NIL NIL NIL NIL
[START] two NIL NIL NIL NIL NIL NIL NIL 

[START] elaborate costumed figure [END] NIL NIL NIL NIL
[START] two NIL NIL NIL NIL NIL NIL NIL 

[START] group pedestrians wait beside [END] NIL NIL NIL
[START] two NIL NIL NIL NIL NIL NIL NIL 

[START] cricket player red cap [END] NIL NIL NIL
[START] two NIL NIL NIL NIL NIL NIL NIL 

[START] man ten foot unicycle entertains [END] NIL NIL
[START] two NIL NIL NIL NIL NIL NIL NIL 

Epoch:1, Iteration: 303, Loss: 218.22, TimeElapsed: 33.32Min
Working (10, 200) torch.Size([10, 9])
Normal torch.Size([10, 9]) torch.Size([10, 9, 2512])
[START] woman baseball cap [END] NIL NIL NIL NIL
[START] works bicyclists bicyclists bicyclists [END] [END] [END] [END] 

[START] boy standing beside several [END] NIL NIL NIL
[START] works bicyclists bicyclists bicyclists [END] [END] [END] [END] 

[START] children running along waters edge [END] NIL NIL
[START] works bicyclists bicyclists bicyclists [END] [END] [END] [END] 

[START] election party [END] NIL NIL NIL NIL NIL
[START] works bicyclists bicyclists bicyclists [END] [END] [END] [END] 

[START] two friends talk bar [END] NIL NIL NIL
[START] works bicyclists bicyclists bicyclists [END] [END] [END] [END] 

[START] boy stands near structure [END] NIL NIL NIL
[START] works bicyclists bicyclists bicyclists [END] [END] [END] [END] 

[START] dog jumps catch [END] NIL NIL NIL NIL
[START] works bicyclists bicyclists bicyclists [END] [END] [END] [END] 

[START] child looking telescope [END] NIL NIL NIL NIL
[START] works bicyclists bicyclists bicyclists [END] [END] [END] [END] 

[START] woman wearing glasses pointing [END] NIL NIL NIL
[START] works bicyclists bicyclists bicyclists [END] [END] [END] [END] 

[START] man green [END] NIL NIL NIL NIL NIL
[START] works bicyclists bicyclists bicyclists [END] [END] [END] [END] 

Epoch:1, Iteration: 304, Loss: 143.23, TimeElapsed: 33.37Min
Working (10, 200) torch.Size([10, 9])
Normal torch.Size([10, 9]) torch.Size([10, 9, 2512])
[START] small child wearing [END] NIL NIL NIL NIL
[START] man [END] [END] [END] [END] [END] [END] [END] 

[START] man wearing white shirt [END] NIL NIL NIL
[START] man [END] [END] [END] [END] [END] [END] [END] 

[START] person long gray [END] NIL NIL NIL NIL
[START] man [END] [END] [END] [END] [END] [END] [END] 

[START] young boy perched [END] NIL NIL NIL NIL
[START] man [END] [END] [END] [END] [END] [END] [END] 

[START] man plays solo guitar [END] NIL NIL NIL
[START] man [END] [END] [END] [END] [END] [END] [END] 

[START] two boys performing appears [END] NIL NIL NIL
[START] man [END] [END] [END] [END] [END] [END] [END] 

[START] baby boy overalls [END] NIL NIL NIL NIL
[START] man [END] [END] [END] [END] [END] [END] [END] 

[START] demonstrators waiting policemen [END] NIL NIL NIL NIL
[START] man [END] [END] [END] [END] [END] [END] [END] 

[START] musicians dressed red white [END] NIL NIL NIL
[START] man [END] [END] [END] [END] [END] [END] [END] 

[START] 2 boys foreground karate [END] NIL NIL NIL
[START] man [END] [END] [END] [END] [END] [END] [END] 

Epoch:1, Iteration: 305, Loss: 131.2, TimeElapsed: 33.41Min
Working (10, 200) torch.Size([10, 9])
Normal torch.Size([10, 9]) torch.Size([10, 9, 2512])
[START] man red [END] NIL NIL NIL NIL NIL
[START] karate karate karate karate karate karate karate karate 

[START] two male athlete black shirts [END] NIL NIL
[START] karate karate karate karate karate karate karate karate 

[START] man holds guitar [END] NIL NIL NIL NIL
[START] karate karate karate karate karate karate karate karate 

[START] two soccer players going [END] NIL NIL NIL
[START] karate karate karate karate karate karate karate karate 

[START] man dark clothes uses [END] NIL NIL NIL
[START] karate karate karate karate karate karate karate karate 

[START] old man dressed black [END] NIL NIL NIL
[START] karate karate karate karate karate karate karate karate 

[START] young child costume [END] NIL NIL NIL NIL
[START] karate karate karate karate karate karate karate karate 

[START] man gray slacks [END] NIL NIL NIL NIL
[START] karate karate karate karate karate karate karate karate 

[START] man long dark hair [END] NIL NIL NIL
[START] karate karate karate karate karate karate karate karate 

[START] man wearing jeans button [END] NIL NIL NIL
[START] karate karate karate karate karate karate karate karate 

Epoch:1, Iteration: 306, Loss: 165.03, TimeElapsed: 33.46Min
Working (10, 200) torch.Size([10, 9])
Normal torch.Size([10, 9]) torch.Size([10, 9, 2512])
[START] group men [END] NIL NIL NIL NIL NIL
[START] woman class NIL NIL NIL NIL NIL NIL 

[START] one man airborne wearing [END] NIL NIL NIL
[START] woman class NIL NIL NIL NIL NIL NIL 

[START] young men playing basketball [END] NIL NIL NIL
[START] woman class NIL NIL NIL NIL NIL NIL 

[START] boy wearing pink [END] NIL NIL NIL NIL
[START] woman class NIL NIL NIL NIL NIL NIL 

[START] two younger boys standing front [END] NIL NIL
[START] woman class NIL NIL NIL NIL NIL NIL 

[START] bunch people little [END] NIL NIL NIL NIL
[START] woman class NIL NIL NIL NIL NIL NIL 

[START] two guys one wearing white shirt [END] NIL
[START] woman class NIL NIL NIL NIL NIL NIL 

[START] family four walking [END] NIL NIL NIL NIL
[START] woman class NIL NIL NIL NIL NIL NIL 

[START] man black wields sword [END] NIL NIL NIL
[START] woman class NIL NIL NIL NIL NIL NIL 

[START] three children watching [END] NIL NIL NIL NIL
[START] woman class NIL NIL NIL NIL NIL NIL 

Epoch:1, Iteration: 307, Loss: 96.65, TimeElapsed: 33.5Min
Working (10, 200) torch.Size([10, 9])
Normal torch.Size([10, 9]) torch.Size([10, 9, 2512])
[START] woman white [END] NIL NIL NIL NIL NIL
[START] backpacks backpacks backpacks backpacks backpacks backpacks backpacks backpacks 

[START] man white standing [END] NIL NIL NIL NIL
[START] backpacks backpacks backpacks backpacks backpacks backpacks backpacks backpacks 

[START] man sells inflatable toys [END] NIL NIL NIL
[START] backpacks backpacks backpacks backpacks backpacks backpacks backpacks backpacks 

[START] young people sitting together [END] NIL NIL NIL
[START] backpacks backpacks backpacks backpacks backpacks backpacks backpacks backpacks 

[START] baby looking [END] NIL NIL NIL NIL NIL
[START] backpacks backpacks backpacks backpacks backpacks backpacks backpacks backpacks 

[START] young crowd event party [END] NIL NIL NIL
[START] backpacks backpacks backpacks backpacks backpacks backpacks backpacks backpacks 

[START] man laboratory [END] NIL NIL NIL NIL NIL
[START] backpacks backpacks backpacks backpacks backpacks backpacks backpacks backpacks 

[START] girl swing suspended [END] NIL NIL NIL NIL
[START] backpacks backpacks backpacks backpacks backpacks backpacks backpacks backpacks 

[START] boy pushing miniature car [END] NIL NIL NIL
[START] backpacks backpacks backpacks backpacks backpacks backpacks backpacks backpacks 

[START] woman wearing white [END] NIL NIL NIL NIL
[START] backpacks backpacks backpacks backpacks backpacks backpacks backpacks backpacks 

Epoch:1, Iteration: 308, Loss: 115.54, TimeElapsed: 33.55Min
Working (10, 200) torch.Size([10, 9])
Normal torch.Size([10, 9]) torch.Size([10, 9, 2512])
[START] two women dressed red [END] NIL NIL NIL
party party party party party party party party party 

[START] yellow dog kicks sand [END] NIL NIL NIL
party party party party party party party party party 

[START] several men wearing red tugging [END] NIL NIL
party party party party party party party party party 

[START] three woman prepare meal [END] NIL NIL NIL
party party party party party party party party party 

[START] two men working [END] NIL NIL NIL NIL
party party party party party party party party party 

[START] group asian boys wait [END] NIL NIL NIL
party party party party party party party party party 

[START] group runners running [END] NIL NIL NIL NIL
party party party party party party party party party 

[START] young boy demonstrates karate gymnasium [END] NIL NIL
party party party party party party party party party 

[START] three people ride road bikes [END] NIL NIL
party party party party party party party party party 

[START] elderly man [END] NIL NIL NIL NIL NIL
party party party party party party party party party 

Epoch:1, Iteration: 309, Loss: 171.5, TimeElapsed: 33.59Min
Working (10, 200) torch.Size([10, 9])
Normal torch.Size([10, 9]) torch.Size([10, 9, 2512])
[START] school boy backpack [END] NIL NIL NIL NIL
[START] cat NIL NIL NIL NIL NIL NIL NIL 

[START] people stand chained glass [END] NIL NIL NIL
[START] cat NIL NIL NIL NIL NIL NIL NIL 

[START] man blue polo [END] NIL NIL NIL NIL
[START] cat NIL NIL NIL NIL NIL NIL NIL 

[START] man red [END] NIL NIL NIL NIL NIL
[START] cat NIL NIL NIL NIL NIL NIL NIL 

[START] two people side [END] NIL NIL NIL NIL
[START] cat NIL NIL NIL NIL NIL NIL NIL 

[START] young child happy [END] NIL NIL NIL NIL
[START] cat NIL NIL NIL NIL NIL NIL NIL 

[START] four men fatigues ride across dry [END] NIL
[START] cat NIL NIL NIL NIL NIL NIL NIL 

[START] brown black dog [END] NIL NIL NIL NIL
[START] cat NIL NIL NIL NIL NIL NIL NIL 

[START] image shows girl [END] NIL NIL NIL NIL
[START] cat NIL NIL NIL NIL NIL NIL NIL 

[START] woman wearing yellow [END] NIL NIL NIL NIL
[START] cat NIL NIL NIL NIL NIL NIL NIL 

Epoch:1, Iteration: 310, Loss: 110.8, TimeElapsed: 33.63Min
Working (10, 200) torch.Size([10, 9])
Normal torch.Size([10, 9]) torch.Size([10, 9, 2512])
[START] stadium crowd red shirts [END] NIL NIL NIL
[START] man NIL NIL NIL NIL NIL NIL NIL 

[START] child black wetsuit [END] NIL NIL NIL NIL
[START] man NIL NIL NIL NIL NIL NIL NIL 

[START] brown squirrel jumps [END] NIL NIL NIL NIL
[START] man NIL NIL NIL NIL NIL NIL NIL 

[START] two children running [END] NIL NIL NIL NIL
[START] man NIL NIL NIL NIL NIL NIL NIL 

[START] two women jogging paved [END] NIL NIL NIL
[START] man NIL NIL NIL NIL NIL NIL NIL 

[START] two soccer players opposing [END] NIL NIL NIL
[START] man NIL NIL NIL NIL NIL NIL NIL 

[START] man standing front [END] NIL NIL NIL NIL
[START] man NIL NIL NIL NIL NIL NIL NIL 

[START] little girl [END] NIL NIL NIL NIL NIL
[START] man NIL NIL NIL NIL NIL NIL NIL 

[START] two vehicles parked outside [END] NIL NIL NIL
[START] man NIL NIL NIL NIL NIL NIL NIL 

[START] two men sit together beside stone steps [END]
[START] man NIL NIL NIL NIL NIL NIL NIL 

Epoch:1, Iteration: 311, Loss: 139.9, TimeElapsed: 33.67Min
Working (10, 200) torch.Size([10, 9])
Normal torch.Size([10, 9]) torch.Size([10, 9, 2512])
[START] unidentified woman sleeping [END] NIL NIL NIL NIL
[START] NIL NIL NIL NIL NIL NIL NIL NIL 

[START] girl bikini [END] NIL NIL NIL NIL NIL
[START] NIL NIL NIL NIL NIL NIL NIL NIL 

[START] man showing [END] NIL NIL NIL NIL NIL
[START] NIL NIL NIL NIL NIL NIL NIL NIL 

[START] cute baby smiling [END] NIL NIL NIL NIL
[START] NIL NIL NIL NIL NIL NIL NIL NIL 

[START] two bicycle riders riding [END] NIL NIL NIL
[START] NIL NIL NIL NIL NIL NIL NIL NIL 

[START] two men wearing [END] NIL NIL NIL NIL
[START] NIL NIL NIL NIL NIL NIL NIL NIL 

[START] one hispanic mail sitting [END] NIL NIL NIL
[START] NIL NIL NIL NIL NIL NIL NIL NIL 

[START] man book [END] NIL NIL NIL NIL NIL
[START] NIL NIL NIL NIL NIL NIL NIL NIL 

[START] football player holding ball [END] NIL NIL NIL
[START] NIL NIL NIL NIL NIL NIL NIL NIL 

[START] young child [END] NIL NIL NIL NIL NIL
[START] NIL NIL NIL NIL NIL NIL NIL NIL 

Epoch:1, Iteration: 312, Loss: 133.28, TimeElapsed: 33.72Min
Working (10, 200) torch.Size([10, 9])
Normal torch.Size([10, 9]) torch.Size([10, 9, 2512])
[START] man walking foreign building [END] NIL NIL NIL
[START] two NIL NIL NIL NIL NIL NIL NIL 

[START] man drilling hole [END] NIL NIL NIL NIL
[START] two NIL NIL NIL NIL NIL NIL NIL 

[START] crying baby blue shirt [END] NIL NIL NIL
[START] two NIL NIL NIL NIL NIL NIL NIL 

[START] brightly dressed men acrobatics [END] NIL NIL NIL
[START] two NIL NIL NIL NIL NIL NIL NIL 

[START] tow truck sitting outside [END] NIL NIL NIL
[START] two NIL NIL NIL NIL NIL NIL NIL 

[START] brown dog [END] NIL NIL NIL NIL NIL
[START] two NIL NIL NIL NIL NIL NIL NIL 

[START] guy white [END] NIL NIL NIL NIL NIL
[START] two NIL NIL NIL NIL NIL NIL NIL 

[START] woman blue [END] NIL NIL NIL NIL NIL
[START] two NIL NIL NIL NIL NIL NIL NIL 

[START] wakeboarder performs flip [END] NIL NIL NIL NIL
[START] two NIL NIL NIL NIL NIL NIL NIL 

[START] two young boys blue jackets [END] NIL NIL
[START] two NIL NIL NIL NIL NIL NIL NIL 

Epoch:1, Iteration: 313, Loss: 120.82, TimeElapsed: 33.76Min
Working (10, 200) torch.Size([10, 9])
Normal torch.Size([10, 9]) torch.Size([10, 9, 2512])
[START] man tuxedo [END] NIL NIL NIL NIL NIL
[START] two structure NIL NIL NIL NIL NIL NIL 

[START] man head buried [END] NIL NIL NIL NIL
[START] two structure NIL NIL NIL NIL NIL NIL 

[START] baseball player white [END] NIL NIL NIL NIL
[START] two structure NIL NIL NIL NIL NIL NIL 

[START] small children dark hair [END] NIL NIL NIL
[START] two structure NIL NIL NIL NIL NIL NIL 

[START] boy stands beside [END] NIL NIL NIL NIL
[START] two structure NIL NIL NIL NIL NIL NIL 

[START] buy skateboarding [END] NIL NIL NIL NIL NIL
[START] two structure NIL NIL NIL NIL NIL NIL 

[START] large group women [END] NIL NIL NIL NIL
[START] two structure NIL NIL NIL NIL NIL NIL 

[START] two women long black hair [END] NIL NIL
[START] two structure NIL NIL NIL NIL NIL NIL 

[START] man dressed black racing [END] NIL NIL NIL
[START] two structure NIL NIL NIL NIL NIL NIL 

[START] judge dog [END] NIL NIL NIL NIL NIL
[START] two structure NIL NIL NIL NIL NIL NIL 

Epoch:1, Iteration: 314, Loss: 149.49, TimeElapsed: 33.81Min
Working (10, 200) torch.Size([10, 9])
Normal torch.Size([10, 9]) torch.Size([10, 9, 2512])
[START] three people sled [END] NIL NIL NIL NIL
[START] black black black black black black black black 

[START] crowded street filled [END] NIL NIL NIL NIL
[START] black black black black black black black black 

[START] man singing microphone [END] NIL NIL NIL NIL
[START] black black black black black black black black 

[START] balding man girlfriend [END] NIL NIL NIL NIL
[START] black black black black black black black black 

[START] lady laid bicycle [END] NIL NIL NIL NIL
[START] black black black black black black black black 

[START] brown dog sniffs [END] NIL NIL NIL NIL
[START] black black black black black black black black 

[START] crowd people [END] NIL NIL NIL NIL NIL
[START] black black black black black black black black 

[START] young boy sitting [END] NIL NIL NIL NIL
[START] black black black black black black black black 

[START] group people standing [END] NIL NIL NIL NIL
[START] black black black black black black black black 

[START] three people field [END] NIL NIL NIL NIL
[START] black black black black black black black black 

Epoch:1, Iteration: 315, Loss: 102.29, TimeElapsed: 33.85Min
Working (10, 200) torch.Size([10, 9])
Normal torch.Size([10, 9]) torch.Size([10, 9, 2512])
[START] ladies basketball game [END] NIL NIL NIL NIL
[START] baby baby baby baby baby baby baby baby 

[START] group people rowing large [END] NIL NIL NIL
[START] baby baby baby baby baby baby baby baby 

[START] woman white [END] NIL NIL NIL NIL NIL
[START] baby baby baby baby baby baby baby baby 

[START] ballet performance featuring [END] NIL NIL NIL NIL
[START] baby baby baby baby baby baby baby baby 

[START] several women wearing [END] NIL NIL NIL NIL
[START] baby baby baby baby baby baby baby baby 

[START] kid looking carnival [END] NIL NIL NIL NIL
[START] baby baby baby baby baby baby baby baby 

[START] two females walking street [END] NIL NIL NIL
[START] baby baby baby baby baby baby baby baby 

[START] smu basketball player drives [END] NIL NIL NIL
[START] baby baby baby baby baby baby baby baby 

[START] woman carrying bag smoking [END] NIL NIL NIL
[START] baby baby baby baby baby baby baby baby 

[START] man black [END] NIL NIL NIL NIL NIL
[START] baby baby baby baby baby baby baby baby 

Epoch:1, Iteration: 316, Loss: 161.71, TimeElapsed: 33.89Min
Working (10, 200) torch.Size([10, 9])
Normal torch.Size([10, 9]) torch.Size([10, 9, 2512])
[START] man poking tree stick [END] NIL NIL NIL
[START] man man NIL NIL NIL NIL NIL NIL 

[START] boy wearing headphones sits [END] NIL NIL NIL
[START] man man NIL NIL NIL NIL NIL NIL 

[START] two children sit [END] NIL NIL NIL NIL
[START] man man NIL NIL NIL NIL NIL NIL 

[START] woman blue shawl [END] NIL NIL NIL NIL
[START] man man NIL NIL NIL NIL NIL NIL 

[START] several people sitting overhang [END] NIL NIL NIL
[START] man man NIL NIL NIL NIL NIL NIL 

[START] three boys hold inflated bicycle tire [END] NIL
[START] man man NIL NIL NIL NIL NIL NIL 

[START] man possible street [END] NIL NIL NIL NIL
[START] man man NIL NIL NIL NIL NIL NIL 

[START] children playing water [END] NIL NIL NIL NIL
[START] man man NIL NIL NIL NIL NIL NIL 

[START] 2 women couch woman [END] NIL NIL NIL
[START] man man NIL NIL NIL NIL NIL NIL 

[START] young boy plays [END] NIL NIL NIL NIL
[START] man man NIL NIL NIL NIL NIL NIL 

Epoch:1, Iteration: 317, Loss: 134.84, TimeElapsed: 33.94Min
Working (10, 200) torch.Size([10, 9])
Normal torch.Size([10, 9]) torch.Size([10, 9, 2512])
[START] woman sitting head tilted [END] NIL NIL NIL
[START] group [END] [END] [END] [END] [END] [END] [END] 

[START] young man playing nine [END] NIL NIL NIL
[START] group [END] [END] [END] [END] [END] [END] [END] 

[START] stage man microphone [END] NIL NIL NIL NIL
[START] group [END] [END] [END] [END] [END] [END] [END] 

[START] goggled boy leaps [END] NIL NIL NIL NIL
[START] group [END] [END] [END] [END] [END] [END] [END] 

[START] large crowd people [END] NIL NIL NIL NIL
[START] group [END] [END] [END] [END] [END] [END] [END] 

[START] frowning woman [END] NIL NIL NIL NIL NIL
[START] group [END] [END] [END] [END] [END] [END] [END] 

[START] security guard sitting [END] NIL NIL NIL NIL
[START] group [END] [END] [END] [END] [END] [END] [END] 

[START] three small dogs sniff something [END] NIL NIL
[START] group [END] [END] [END] [END] [END] [END] [END] 

[START] man sunglasses [END] NIL NIL NIL NIL NIL
[START] group [END] [END] [END] [END] [END] [END] [END] 

[START] woman wearing yellow hat [END] NIL NIL NIL
[START] group [END] [END] [END] [END] [END] [END] [END] 

Epoch:1, Iteration: 318, Loss: 154.54, TimeElapsed: 33.98Min
Working (10, 200) torch.Size([10, 9])
Normal torch.Size([10, 9]) torch.Size([10, 9, 2512])
[START] three friends enjoying refreshments [END] NIL NIL NIL
[START] hole hole microphone microphone microphone microphone microphone microphone 

[START] camel carries two peoples stuff [END] NIL NIL
[START] hole hole microphone microphone microphone microphone microphone microphone 

[START] man striped [END] NIL NIL NIL NIL NIL
[START] hole hole microphone microphone microphone microphone microphone microphone 

[START] group people participate [END] NIL NIL NIL NIL
[START] hole hole microphone microphone microphone microphone microphone microphone 

[START] three tall women stroll [END] NIL NIL NIL
[START] hole hole microphone microphone microphone microphone microphone microphone 

[START] onlookers looking upon play [END] NIL NIL NIL
[START] hole hole microphone microphone microphone microphone microphone microphone 

[START] people costume [END] NIL NIL NIL NIL NIL
[START] hole hole microphone microphone microphone microphone microphone microphone 

[START] girl breaking boards using [END] NIL NIL NIL
[START] hole hole microphone microphone microphone microphone microphone microphone 

[START] group men [END] NIL NIL NIL NIL NIL
[START] hole hole microphone microphone microphone microphone microphone microphone 

[START] two children hang [END] NIL NIL NIL NIL
[START] hole hole microphone microphone microphone microphone microphone microphone 

Epoch:1, Iteration: 319, Loss: 175.99, TimeElapsed: 34.03Min
Working (10, 200) torch.Size([10, 9])
Normal torch.Size([10, 9]) torch.Size([10, 9, 2512])
[START] two workers work industrial bakery [END] NIL NIL
[START] young NIL NIL NIL NIL NIL NIL NIL 

[START] protester holds [END] NIL NIL NIL NIL NIL
[START] young NIL NIL NIL NIL NIL NIL NIL 

[START] coach white polo [END] NIL NIL NIL NIL
[START] young NIL NIL NIL NIL NIL NIL NIL 

[START] young indian boy sitting [END] NIL NIL NIL
[START] young NIL NIL NIL NIL NIL NIL NIL 

[START] three people racing [END] NIL NIL NIL NIL
[START] young NIL NIL NIL NIL NIL NIL NIL 

[START] white black dog [END] NIL NIL NIL NIL
[START] young NIL NIL NIL NIL NIL NIL NIL 

[START] man dressed nice [END] NIL NIL NIL NIL
[START] young NIL NIL NIL NIL NIL NIL NIL 

[START] four older people sitting [END] NIL NIL NIL
[START] young NIL NIL NIL NIL NIL NIL NIL 

[START] five spectators watching two [END] NIL NIL NIL
[START] young NIL NIL NIL NIL NIL NIL NIL 

[START] man orange [END] NIL NIL NIL NIL NIL
[START] young NIL NIL NIL NIL NIL NIL NIL 

Epoch:1, Iteration: 320, Loss: 116.71, TimeElapsed: 34.07Min
Working (10, 200) torch.Size([10, 9])
Normal torch.Size([10, 9]) torch.Size([10, 9, 2512])
[START] person wearing red [END] NIL NIL NIL NIL
[START] balding NIL NIL NIL NIL NIL NIL NIL 

[START] girl wearing black [END] NIL NIL NIL NIL
[START] balding NIL NIL NIL NIL NIL NIL NIL 

[START] child orange short [END] NIL NIL NIL NIL
[START] balding NIL NIL NIL NIL NIL NIL NIL 

[START] group men [END] NIL NIL NIL NIL NIL
[START] balding NIL NIL NIL NIL NIL NIL NIL 

[START] two men walk [END] NIL NIL NIL NIL
[START] balding NIL NIL NIL NIL NIL NIL NIL 

[START] women ladder painting [END] NIL NIL NIL NIL
[START] balding NIL NIL NIL NIL NIL NIL NIL 

[START] man wife [END] NIL NIL NIL NIL NIL
[START] balding NIL NIL NIL NIL NIL NIL NIL 

[START] young girl hugging red [END] NIL NIL NIL
[START] balding NIL NIL NIL NIL NIL NIL NIL 

[START] young people take photos [END] NIL NIL NIL
[START] balding NIL NIL NIL NIL NIL NIL NIL 

[START] man suit [END] NIL NIL NIL NIL NIL
[START] balding NIL NIL NIL NIL NIL NIL NIL 

Epoch:1, Iteration: 321, Loss: 83.01, TimeElapsed: 34.12Min
Working (10, 200) torch.Size([10, 9])
Normal torch.Size([10, 9]) torch.Size([10, 9, 2512])
[START] man walking [END] NIL NIL NIL NIL NIL
[START] shawl NIL NIL NIL NIL NIL NIL NIL 

[START] young boy looking [END] NIL NIL NIL NIL
[START] shawl NIL NIL NIL NIL NIL NIL NIL 

[START] woman white cuts hair [END] NIL NIL NIL
[START] shawl NIL NIL NIL NIL NIL NIL NIL 

[START] little boy crying beside coin [END] NIL NIL
[START] shawl NIL NIL NIL NIL NIL NIL NIL 

[START] dog sniffs grass [END] NIL NIL NIL NIL
[START] shawl NIL NIL NIL NIL NIL NIL NIL 

[START] two men act scene [END] NIL NIL NIL
[START] shawl NIL NIL NIL NIL NIL NIL NIL 

[START] baby girl [END] NIL NIL NIL NIL NIL
[START] shawl NIL NIL NIL NIL NIL NIL NIL 

[START] man crutch [END] NIL NIL NIL NIL NIL
[START] shawl NIL NIL NIL NIL NIL NIL NIL 

[START] ladies work field [END] NIL NIL NIL NIL
[START] shawl NIL NIL NIL NIL NIL NIL NIL 

[START] three oriental men riding [END] NIL NIL NIL
[START] shawl NIL NIL NIL NIL NIL NIL NIL 

Epoch:1, Iteration: 322, Loss: 149.24, TimeElapsed: 34.16Min
Working (10, 200) torch.Size([10, 9])
Normal torch.Size([10, 9]) torch.Size([10, 9, 2512])
[START] man fluorescent [END] NIL NIL NIL NIL NIL
[START] take take take take take take take take 

[START] group young adolescents [END] NIL NIL NIL NIL
[START] take take take take take take take take 

[START] group kids walk [END] NIL NIL NIL NIL
[START] take take take take take take take take 

[START] several women headscarves [END] NIL NIL NIL NIL
[START] take take take take take take take take 

[START] lady wearing black shirt [END] NIL NIL NIL
[START] take take take take take take take take 

[START] two young girls playing rubber [END] NIL NIL
[START] take take take take take take take take 

[START] group pedestrians wait beside [END] NIL NIL NIL
[START] take take take take take take take take 

[START] gentleman intensely studies [END] NIL NIL NIL NIL
[START] take take take take take take take take 

[START] young boy sits [END] NIL NIL NIL NIL
[START] take take take take take take take take 

[START] man sitting grass [END] NIL NIL NIL NIL
[START] take take take take take take take take 

Epoch:1, Iteration: 323, Loss: 141.74, TimeElapsed: 34.2Min
Working (10, 200) torch.Size([10, 9])
Normal torch.Size([10, 9]) torch.Size([10, 9, 2512])
[START] man woman [END] NIL NIL NIL NIL NIL
[START] boy [END] [END] [END] [END] [END] [END] [END] 

[START] girl selling iced tea [END] NIL NIL NIL
[START] boy [END] [END] [END] [END] [END] [END] [END] 

[START] boy yellow [END] NIL NIL NIL NIL NIL
[START] boy [END] [END] [END] [END] [END] [END] [END] 

[START] man lounging [END] NIL NIL NIL NIL NIL
[START] boy [END] [END] [END] [END] [END] [END] [END] 

[START] person helping set [END] NIL NIL NIL NIL
[START] boy [END] [END] [END] [END] [END] [END] [END] 

[START] servers sitting table waiting [END] NIL NIL NIL
[START] boy [END] [END] [END] [END] [END] [END] [END] 

[START] two men sit table [END] NIL NIL NIL
[START] boy [END] [END] [END] [END] [END] [END] [END] 

[START] boy dribbling basketball [END] NIL NIL NIL NIL
[START] boy [END] [END] [END] [END] [END] [END] [END] 

[START] female soccer player crouches [END] NIL NIL NIL
[START] boy [END] [END] [END] [END] [END] [END] [END] 

[START] man fills [END] NIL NIL NIL NIL NIL
[START] boy [END] [END] [END] [END] [END] [END] [END] 

Epoch:1, Iteration: 324, Loss: 156.04, TimeElapsed: 34.25Min
Working (10, 200) torch.Size([10, 9])
Normal torch.Size([10, 9]) torch.Size([10, 9, 2512])
[START] young girl braids [END] NIL NIL NIL NIL
[START] boy NIL NIL NIL NIL NIL NIL NIL 

[START] placing [END] NIL NIL NIL NIL NIL NIL
[START] boy NIL NIL NIL NIL NIL NIL NIL 

[START] boy lays [END] NIL NIL NIL NIL NIL
[START] boy NIL NIL NIL NIL NIL NIL NIL 

[START] street performer flip [END] NIL NIL NIL NIL
[START] boy NIL NIL NIL NIL NIL NIL NIL 

[START] closeup man holding baby [END] NIL NIL NIL
[START] boy NIL NIL NIL NIL NIL NIL NIL 

[START] boy walking outside [END] NIL NIL NIL NIL
[START] boy NIL NIL NIL NIL NIL NIL NIL 

[START] child black shirt [END] NIL NIL NIL NIL
[START] boy NIL NIL NIL NIL NIL NIL NIL 

[START] family eating lunch [END] NIL NIL NIL NIL
[START] boy NIL NIL NIL NIL NIL NIL NIL 

[START] two tired looking men relax couch near [END]
[START] boy NIL NIL NIL NIL NIL NIL NIL 

[START] young white male preparing food [END] NIL NIL
[START] boy NIL NIL NIL NIL NIL NIL NIL 

Epoch:1, Iteration: 325, Loss: 126.4, TimeElapsed: 34.29Min
Working (10, 200) torch.Size([10, 9])
Normal torch.Size([10, 9]) torch.Size([10, 9, 2512])
[START] young boy plays [END] NIL NIL NIL NIL
[START] two NIL NIL NIL NIL NIL NIL NIL 

[START] woman smiles holding [END] NIL NIL NIL NIL
[START] two NIL NIL NIL NIL NIL NIL NIL 

[START] man wearing gray [END] NIL NIL NIL NIL
[START] two NIL NIL NIL NIL NIL NIL NIL 

[START] tattooed man walks [END] NIL NIL NIL NIL
[START] two NIL NIL NIL NIL NIL NIL NIL 

[START] girl standing [END] NIL NIL NIL NIL NIL
[START] two NIL NIL NIL NIL NIL NIL NIL 

[START] man construction takes [END] NIL NIL NIL NIL
[START] two NIL NIL NIL NIL NIL NIL NIL 

[START] three older men wearing white shirts [END] NIL
[START] two NIL NIL NIL NIL NIL NIL NIL 

[START] three people train [END] NIL NIL NIL NIL
[START] two NIL NIL NIL NIL NIL NIL NIL 

[START] family members standing outside [END] NIL NIL NIL
[START] two NIL NIL NIL NIL NIL NIL NIL 

[START] victory parade celebrated [END] NIL NIL NIL NIL
[START] two NIL NIL NIL NIL NIL NIL NIL 

Epoch:1, Iteration: 326, Loss: 79.4, TimeElapsed: 34.33Min
Working (10, 200) torch.Size([10, 9])
Normal torch.Size([10, 9]) torch.Size([10, 9, 2512])
[START] four people emergency suits [END] NIL NIL NIL
[START] three [END] NIL NIL NIL NIL NIL NIL 

[START] two construction workers working [END] NIL NIL NIL
[START] three [END] NIL NIL NIL NIL NIL NIL 

[START] young man writing [END] NIL NIL NIL NIL
[START] three [END] NIL NIL NIL NIL NIL NIL 

[START] man working railroad [END] NIL NIL NIL NIL
[START] three [END] NIL NIL NIL NIL NIL NIL 

[START] young boy catching [END] NIL NIL NIL NIL
[START] three [END] NIL NIL NIL NIL NIL NIL 

[START] young boy [END] NIL NIL NIL NIL NIL
[START] three [END] NIL NIL NIL NIL NIL NIL 

[START] fireman spraying water [END] NIL NIL NIL NIL
[START] three [END] NIL NIL NIL NIL NIL NIL 

[START] man woman [END] NIL NIL NIL NIL NIL
[START] three [END] NIL NIL NIL NIL NIL NIL 

[START] construction worker welding high [END] NIL NIL NIL
[START] three [END] NIL NIL NIL NIL NIL NIL 

[START] many chairs [END] NIL NIL NIL NIL NIL
[START] three [END] NIL NIL NIL NIL NIL NIL 

Epoch:1, Iteration: 327, Loss: 106.42, TimeElapsed: 34.37Min
Working (10, 200) torch.Size([10, 9])
Normal torch.Size([10, 9]) torch.Size([10, 9, 2512])
[START] two boys play soccer rain [END] NIL NIL
[START] young standing NIL NIL NIL NIL NIL NIL 

[START] two people lawn chairs [END] NIL NIL NIL
[START] young standing NIL NIL NIL NIL NIL NIL 

[START] seven people sitting around [END] NIL NIL NIL
[START] young standing NIL NIL NIL NIL NIL NIL 

[START] people shop goods [END] NIL NIL NIL NIL
[START] young standing NIL NIL NIL NIL NIL NIL 

[START] young man wearing [END] NIL NIL NIL NIL
[START] young standing NIL NIL NIL NIL NIL NIL 

[START] artist straw [END] NIL NIL NIL NIL NIL
[START] young standing NIL NIL NIL NIL NIL NIL 

[START] walls covered [END] NIL NIL NIL NIL NIL
[START] young standing NIL NIL NIL NIL NIL NIL 

[START] men women wearing white [END] NIL NIL NIL
[START] young standing NIL NIL NIL NIL NIL NIL 

[START] group people walking front [END] NIL NIL NIL
[START] young standing NIL NIL NIL NIL NIL NIL 

[START] white dog lifts paw [END] NIL NIL NIL
[START] young standing NIL NIL NIL NIL NIL NIL 

Epoch:1, Iteration: 328, Loss: 129.26, TimeElapsed: 34.42Min
Working (10, 200) torch.Size([10, 9])
Normal torch.Size([10, 9]) torch.Size([10, 9, 2512])
[START] tattooed skateboarder [END] NIL NIL NIL NIL NIL
[START] couch couch couch couch couch couch couch couch 

[START] woman young boy sit [END] NIL NIL NIL
[START] couch couch couch couch couch couch couch couch 

[START] girl swings long [END] NIL NIL NIL NIL
[START] couch couch couch couch couch couch couch couch 

[START] girls jumping sand [END] NIL NIL NIL NIL
[START] couch couch couch couch couch couch couch couch 

[START] man standing beside [END] NIL NIL NIL NIL
[START] couch couch couch couch couch couch couch couch 

[START] two men one woman [END] NIL NIL NIL
[START] couch couch couch couch couch couch couch couch 

[START] three people atvs brown [END] NIL NIL NIL
[START] couch couch couch couch couch couch couch couch 

[START] woman using power [END] NIL NIL NIL NIL
[START] couch couch couch couch couch couch couch couch 

[START] couple embraces depart [END] NIL NIL NIL NIL
[START] couch couch couch couch couch couch couch couch 

[START] person stands [END] NIL NIL NIL NIL NIL
[START] couch couch couch couch couch couch couch couch 

Epoch:1, Iteration: 329, Loss: 110.25, TimeElapsed: 34.46Min
Working (10, 200) torch.Size([10, 9])
Normal torch.Size([10, 9]) torch.Size([10, 9, 2512])
[START] man wearing glasses [END] NIL NIL NIL NIL
[START] young performs NIL NIL NIL NIL NIL NIL 

[START] artist hard work [END] NIL NIL NIL NIL
[START] young performs NIL NIL NIL NIL NIL NIL 

[START] group people standing [END] NIL NIL NIL NIL
[START] young performs NIL NIL NIL NIL NIL NIL 

[START] cyclist biking [END] NIL NIL NIL NIL NIL
[START] young performs NIL NIL NIL NIL NIL NIL 

[START] little girl sits [END] NIL NIL NIL NIL
[START] young performs NIL NIL NIL NIL NIL NIL 

[START] three students standing together [END] NIL NIL NIL
[START] young performs NIL NIL NIL NIL NIL NIL 

[START] two men talking one [END] NIL NIL NIL
[START] young performs NIL NIL NIL NIL NIL NIL 

[START] two guys sharing headphones listening [END] NIL NIL
[START] young performs NIL NIL NIL NIL NIL NIL 

[START] group volleyball girls high fiving [END] NIL NIL
[START] young performs NIL NIL NIL NIL NIL NIL 

[START] cellist blue polo shirt [END] NIL NIL NIL
[START] young performs NIL NIL NIL NIL NIL NIL 

Epoch:1, Iteration: 330, Loss: 150.09, TimeElapsed: 34.5Min
Working (10, 200) torch.Size([10, 9])
Normal torch.Size([10, 9]) torch.Size([10, 9, 2512])
[START] blond man jumping [END] NIL NIL NIL NIL
[START] man people NIL NIL NIL NIL NIL NIL 

[START] brown dog [END] NIL NIL NIL NIL NIL
[START] man people NIL NIL NIL NIL NIL NIL 

[START] one child looks around friend sleeps [END] NIL
[START] man people NIL NIL NIL NIL NIL NIL 

[START] young boy dark hair [END] NIL NIL NIL
[START] man people NIL NIL NIL NIL NIL NIL 

[START] two children playing game checkers [END] NIL NIL
[START] man people NIL NIL NIL NIL NIL NIL 

[START] woman playing string [END] NIL NIL NIL NIL
[START] man people NIL NIL NIL NIL NIL NIL 

[START] two adult males getting ready [END] NIL NIL
[START] man people NIL NIL NIL NIL NIL NIL 

[START] two gentlemen enjoying drink [END] NIL NIL NIL
[START] man people NIL NIL NIL NIL NIL NIL 

[START] one man checks bicycle [END] NIL NIL NIL
[START] man people NIL NIL NIL NIL NIL NIL 

[START] group women [END] NIL NIL NIL NIL NIL
[START] man people NIL NIL NIL NIL NIL NIL 

Epoch:1, Iteration: 331, Loss: 149.76, TimeElapsed: 34.55Min
Working (10, 200) torch.Size([10, 9])
Normal torch.Size([10, 9]) torch.Size([10, 9, 2512])
[START] class children sitting blue desks [END] NIL NIL
[START] rain rain beside beside beside beside beside beside 

[START] silhouette kid [END] NIL NIL NIL NIL NIL
[START] rain rain beside beside beside beside beside beside 

[START] cook looking order [END] NIL NIL NIL NIL
[START] rain rain beside beside beside beside beside beside 

[START] man business attire speaks [END] NIL NIL NIL
[START] rain rain beside beside beside beside beside beside 

[START] child playing muddy [END] NIL NIL NIL NIL
[START] rain rain beside beside beside beside beside beside 

[START] young girl brown [END] NIL NIL NIL NIL
[START] rain rain beside beside beside beside beside beside 

[START] two gray dogs [END] NIL NIL NIL NIL
[START] rain rain beside beside beside beside beside beside 

[START] wet black dog leaps [END] NIL NIL NIL
[START] rain rain beside beside beside beside beside beside 

[START] man wearing orange [END] NIL NIL NIL NIL
[START] rain rain beside beside beside beside beside beside 

[START] man green swimsuit [END] NIL NIL NIL NIL
[START] rain rain beside beside beside beside beside beside 

Epoch:1, Iteration: 332, Loss: 138.38, TimeElapsed: 34.59Min
Working (10, 200) torch.Size([10, 9])
Normal torch.Size([10, 9]) torch.Size([10, 9, 2512])
[START] red haired woman black [END] NIL NIL NIL
[START] man wearing NIL NIL NIL NIL NIL NIL 

[START] lone skier dressed [END] NIL NIL NIL NIL
[START] man wearing NIL NIL NIL NIL NIL NIL 

[START] three big trees [END] NIL NIL NIL NIL
[START] man wearing NIL NIL NIL NIL NIL NIL 

[START] several young black people traverse market [END] NIL
[START] man wearing NIL NIL NIL NIL NIL NIL 

[START] two middle aged women print [END] NIL NIL
[START] man wearing NIL NIL NIL NIL NIL NIL 

[START] people stand top [END] NIL NIL NIL NIL
[START] man wearing NIL NIL NIL NIL NIL NIL 

[START] football players running [END] NIL NIL NIL NIL
[START] man wearing NIL NIL NIL NIL NIL NIL 

[START] three young adults sitting top [END] NIL NIL
[START] man wearing NIL NIL NIL NIL NIL NIL 

[START] man jumps catch [END] NIL NIL NIL NIL
[START] man wearing NIL NIL NIL NIL NIL NIL 

[START] brown dog running across flat rock [END] NIL
[START] man wearing NIL NIL NIL NIL NIL NIL 

Epoch:1, Iteration: 333, Loss: 176.38, TimeElapsed: 34.64Min
Working (10, 200) torch.Size([10, 9])
Normal torch.Size([10, 9]) torch.Size([10, 9, 2512])
[START] beach goers look heart [END] NIL NIL NIL
[START] headphones headphones headphones headphones headphones headphones headphones headphones 

[START] old woman taking nap [END] NIL NIL NIL
[START] headphones headphones headphones headphones headphones headphones headphones headphones 

[START] several people including shirtless man [END] NIL NIL
[START] headphones headphones headphones headphones headphones headphones headphones headphones 

[START] big dog [END] NIL NIL NIL NIL NIL
[START] headphones headphones headphones headphones headphones headphones headphones headphones 

[START] two children hugging bridge [END] NIL NIL NIL
[START] headphones headphones headphones headphones headphones headphones headphones headphones 

[START] two people riding [END] NIL NIL NIL NIL
[START] headphones headphones headphones headphones headphones headphones headphones headphones 

[START] young man [END] NIL NIL NIL NIL NIL
[START] headphones headphones headphones headphones headphones headphones headphones headphones 

[START] vendor busy [END] NIL NIL NIL NIL NIL
[START] headphones headphones headphones headphones headphones headphones headphones headphones 

[START] television picture [END] NIL NIL NIL NIL NIL
[START] headphones headphones headphones headphones headphones headphones headphones headphones 

[START] man sweeping top [END] NIL NIL NIL NIL
[START] headphones headphones headphones headphones headphones headphones headphones headphones 

Epoch:1, Iteration: 334, Loss: 186.18, TimeElapsed: 34.68Min
Working (10, 200) torch.Size([10, 9])
Normal torch.Size([10, 9]) torch.Size([10, 9, 2512])
[START] two men woman [END] NIL NIL NIL NIL
[START] two [END] NIL NIL NIL NIL NIL NIL 

[START] child dirty face looks [END] NIL NIL NIL
[START] two [END] NIL NIL NIL NIL NIL NIL 

[START] four people waiting [END] NIL NIL NIL NIL
[START] two [END] NIL NIL NIL NIL NIL NIL 

[START] black puppy biting [END] NIL NIL NIL NIL
[START] two [END] NIL NIL NIL NIL NIL NIL 

[START] young girl jeans sits [END] NIL NIL NIL
[START] two [END] NIL NIL NIL NIL NIL NIL 

[START] young boy cooking lunch [END] NIL NIL NIL
[START] two [END] NIL NIL NIL NIL NIL NIL 

[START] intersection man [END] NIL NIL NIL NIL NIL
[START] two [END] NIL NIL NIL NIL NIL NIL 

[START] woman painting picture outside [END] NIL NIL NIL
[START] two [END] NIL NIL NIL NIL NIL NIL 

[START] school children running [END] NIL NIL NIL NIL
[START] two [END] NIL NIL NIL NIL NIL NIL 

[START] mother children [END] NIL NIL NIL NIL NIL
[START] two [END] NIL NIL NIL NIL NIL NIL 

Epoch:1, Iteration: 335, Loss: 141.9, TimeElapsed: 34.72Min
Working (10, 200) torch.Size([10, 9])
Normal torch.Size([10, 9]) torch.Size([10, 9, 2512])
[START] three girls playing smiling [END] NIL NIL NIL
[START] woman NIL NIL NIL NIL NIL NIL NIL 

[START] baseball player trying get [END] NIL NIL NIL
[START] woman NIL NIL NIL NIL NIL NIL NIL 

[START] black dog jumps snow [END] NIL NIL NIL
[START] woman NIL NIL NIL NIL NIL NIL NIL 

[START] man orange sweater carrying [END] NIL NIL NIL
[START] woman NIL NIL NIL NIL NIL NIL NIL 

[START] older man pink shirt [END] NIL NIL NIL
[START] woman NIL NIL NIL NIL NIL NIL NIL 

[START] skateboarder city [END] NIL NIL NIL NIL NIL
[START] woman NIL NIL NIL NIL NIL NIL NIL 

[START] woman jacket hood [END] NIL NIL NIL NIL
[START] woman NIL NIL NIL NIL NIL NIL NIL 

[START] dog sprints across [END] NIL NIL NIL NIL
[START] woman NIL NIL NIL NIL NIL NIL NIL 

[START] two dogs playing together [END] NIL NIL NIL
[START] woman NIL NIL NIL NIL NIL NIL NIL 

[START] young man gold short shorts [END] NIL NIL
[START] woman NIL NIL NIL NIL NIL NIL NIL 

Epoch:1, Iteration: 336, Loss: 147.51, TimeElapsed: 34.76Min
Working (10, 200) torch.Size([10, 9])
Normal torch.Size([10, 9]) torch.Size([10, 9, 2512])
[START] bald man orange shirt [END] NIL NIL NIL
[START] woman NIL NIL NIL NIL NIL NIL NIL 

[START] man woman sitting [END] NIL NIL NIL NIL
[START] woman NIL NIL NIL NIL NIL NIL NIL 

[START] person helping toddler [END] NIL NIL NIL NIL
[START] woman NIL NIL NIL NIL NIL NIL NIL 

[START] man woman [END] NIL NIL NIL NIL NIL
[START] woman NIL NIL NIL NIL NIL NIL NIL 

[START] scuba diver shows something [END] NIL NIL NIL
[START] woman NIL NIL NIL NIL NIL NIL NIL 

[START] wildly dressed couple [END] NIL NIL NIL NIL
[START] woman NIL NIL NIL NIL NIL NIL NIL 

[START] child running [END] NIL NIL NIL NIL NIL
[START] woman NIL NIL NIL NIL NIL NIL NIL 

[START] group four children wearing [END] NIL NIL NIL
[START] woman NIL NIL NIL NIL NIL NIL NIL 

[START] woman wedding day [END] NIL NIL NIL NIL
[START] woman NIL NIL NIL NIL NIL NIL NIL 

[START] group adults [END] NIL NIL NIL NIL NIL
[START] woman NIL NIL NIL NIL NIL NIL NIL 

Epoch:1, Iteration: 337, Loss: 92.38, TimeElapsed: 34.81Min
Working (10, 200) torch.Size([10, 9])
Normal torch.Size([10, 9]) torch.Size([10, 9, 2512])
[START] brunette caucasian man stands [END] NIL NIL NIL
[START] school school school school school school school school 

[START] girl standing outside wearing [END] NIL NIL NIL
[START] school school school school school school school school 

[START] man black [END] NIL NIL NIL NIL NIL
[START] school school school school school school school school 

[START] people stand street [END] NIL NIL NIL NIL
[START] school school school school school school school school 

[START] little girl blowing bubbles [END] NIL NIL NIL
[START] school school school school school school school school 

[START] person drives [END] NIL NIL NIL NIL NIL
[START] school school school school school school school school 

[START] brown dog jumping [END] NIL NIL NIL NIL
[START] school school school school school school school school 

[START] man yellow green [END] NIL NIL NIL NIL
[START] school school school school school school school school 

[START] man red [END] NIL NIL NIL NIL NIL
[START] school school school school school school school school 

[START] little boy playing ball [END] NIL NIL NIL
[START] school school school school school school school school 

Epoch:1, Iteration: 338, Loss: 73.02, TimeElapsed: 34.85Min
Working (10, 200) torch.Size([10, 9])
Normal torch.Size([10, 9]) torch.Size([10, 9, 2512])
[START] young child finger painting [END] NIL NIL NIL
[START] shows shows shows shows shows shows shows shows 

[START] man holding beer pouring [END] NIL NIL NIL
[START] shows shows shows shows shows shows shows shows 

[START] two people standing outside [END] NIL NIL NIL
[START] shows shows shows shows shows shows shows shows 

[START] number people [END] NIL NIL NIL NIL NIL
[START] shows shows shows shows shows shows shows shows 

[START] dog swims [END] NIL NIL NIL NIL NIL
[START] shows shows shows shows shows shows shows shows 

[START] soccer player numbered 24 wearing [END] NIL NIL
[START] shows shows shows shows shows shows shows shows 

[START] bunch people walking [END] NIL NIL NIL NIL
[START] shows shows shows shows shows shows shows shows 

[START] lot people stomping [END] NIL NIL NIL NIL
[START] shows shows shows shows shows shows shows shows 

[START] boy blue [END] NIL NIL NIL NIL NIL
[START] shows shows shows shows shows shows shows shows 

[START] ten people smile sitting [END] NIL NIL NIL
[START] shows shows shows shows shows shows shows shows 

Epoch:1, Iteration: 339, Loss: 136.44, TimeElapsed: 34.89Min
Working (10, 200) torch.Size([10, 9])
Normal torch.Size([10, 9]) torch.Size([10, 9, 2512])
[START] woman serving dish another [END] NIL NIL NIL
[START] print print print print print print print print 

[START] two adults child wait [END] NIL NIL NIL
[START] print print print print print print print print 

[START] bike rider wearing red [END] NIL NIL NIL
[START] print print print print print print print print 

[START] large group children [END] NIL NIL NIL NIL
[START] print print print print print print print print 

[START] three men playing long drums [END] NIL NIL
[START] print print print print print print print print 

[START] four people swimming lake [END] NIL NIL NIL
[START] print print print print print print print print 

[START] man making cut [END] NIL NIL NIL NIL
[START] print print print print print print print print 

[START] skier bright green jacket [END] NIL NIL NIL
[START] print print print print print print print print 

[START] man works large vehicle [END] NIL NIL NIL
[START] print print print print print print print print 

[START] little girl enjoying [END] NIL NIL NIL NIL
[START] print print print print print print print print 

Epoch:1, Iteration: 340, Loss: 181.3, TimeElapsed: 34.94Min
Working (10, 200) torch.Size([10, 9])
Normal torch.Size([10, 9]) torch.Size([10, 9, 2512])
[START] patrons eating [END] NIL NIL NIL NIL NIL
[START] lawn NIL NIL NIL NIL NIL NIL NIL 

[START] three men standing top [END] NIL NIL NIL
[START] lawn NIL NIL NIL NIL NIL NIL NIL 

[START] two adults standing [END] NIL NIL NIL NIL
[START] lawn NIL NIL NIL NIL NIL NIL NIL 

[START] two older people one man one [END] NIL
[START] lawn NIL NIL NIL NIL NIL NIL NIL 

[START] young boy [END] NIL NIL NIL NIL NIL
[START] lawn NIL NIL NIL NIL NIL NIL NIL 

[START] two men pretend statutes women [END] NIL NIL
[START] lawn NIL NIL NIL NIL NIL NIL NIL 

[START] child black jacket red [END] NIL NIL NIL
[START] lawn NIL NIL NIL NIL NIL NIL NIL 

[START] man wearing gray [END] NIL NIL NIL NIL
[START] lawn NIL NIL NIL NIL NIL NIL NIL 

[START] small dog [END] NIL NIL NIL NIL NIL
[START] lawn NIL NIL NIL NIL NIL NIL NIL 

[START] professional motorcycle racer turning [END] NIL NIL NIL
[START] lawn NIL NIL NIL NIL NIL NIL NIL 

Epoch:1, Iteration: 341, Loss: 129.12, TimeElapsed: 34.98Min
Working (10, 200) torch.Size([10, 9])
Normal torch.Size([10, 9]) torch.Size([10, 9, 2512])
[START] women looking arched building [END] NIL NIL NIL
[START] playing NIL NIL NIL NIL NIL NIL NIL 

[START] woman red [END] NIL NIL NIL NIL NIL
[START] playing NIL NIL NIL NIL NIL NIL NIL 

[START] woman transparent [END] NIL NIL NIL NIL NIL
[START] playing NIL NIL NIL NIL NIL NIL NIL 

[START] collage one person [END] NIL NIL NIL NIL
[START] playing NIL NIL NIL NIL NIL NIL NIL 

[START] child dressed cold sits [END] NIL NIL NIL
[START] playing NIL NIL NIL NIL NIL NIL NIL 

[START] two dogs running field [END] NIL NIL NIL
[START] playing NIL NIL NIL NIL NIL NIL NIL 

[START] person parka [END] NIL NIL NIL NIL NIL
[START] playing NIL NIL NIL NIL NIL NIL NIL 

[START] two tennis players talking [END] NIL NIL NIL
[START] playing NIL NIL NIL NIL NIL NIL NIL 

[START] people cram together [END] NIL NIL NIL NIL
[START] playing NIL NIL NIL NIL NIL NIL NIL 

[START] women different ethnicities stand [END] NIL NIL NIL
[START] playing NIL NIL NIL NIL NIL NIL NIL 

Epoch:1, Iteration: 342, Loss: 148.17, TimeElapsed: 35.02Min
Working (10, 200) torch.Size([10, 9])
Normal torch.Size([10, 9]) torch.Size([10, 9, 2512])
[START] baby held [END] NIL NIL NIL NIL NIL
[START] tattooed [END] NIL NIL NIL NIL NIL NIL 

[START] two light golden colored dogs playfully [END] NIL
[START] tattooed [END] NIL NIL NIL NIL NIL NIL 

[START] two men workers gear [END] NIL NIL NIL
[START] tattooed [END] NIL NIL NIL NIL NIL NIL 

[START] male figure [END] NIL NIL NIL NIL NIL
[START] tattooed [END] NIL NIL NIL NIL NIL NIL 

[START] man white [END] NIL NIL NIL NIL NIL
[START] tattooed [END] NIL NIL NIL NIL NIL NIL 

[START] several different bicycles sitting [END] NIL NIL NIL
[START] tattooed [END] NIL NIL NIL NIL NIL NIL 

[START] man laying hammock [END] NIL NIL NIL NIL
[START] tattooed [END] NIL NIL NIL NIL NIL NIL 

[START] two girls stand puddle [END] NIL NIL NIL
[START] tattooed [END] NIL NIL NIL NIL NIL NIL 

[START] basketball player several [END] NIL NIL NIL NIL
[START] tattooed [END] NIL NIL NIL NIL NIL NIL 

[START] asian man fishing two [END] NIL NIL NIL
[START] tattooed [END] NIL NIL NIL NIL NIL NIL 

Epoch:1, Iteration: 343, Loss: 158.32, TimeElapsed: 35.06Min
Working (10, 200) torch.Size([10, 9])
Normal torch.Size([10, 9]) torch.Size([10, 9, 2512])
[START] dog running [END] NIL NIL NIL NIL NIL
[START] bunch [END] [END] [END] [END] [END] [END] [END] 

[START] man standing church older [END] NIL NIL NIL
[START] bunch [END] [END] [END] [END] [END] [END] [END] 

[START] woman cooking food putting [END] NIL NIL NIL
[START] bunch [END] [END] [END] [END] [END] [END] [END] 

[START] man hanging lamp [END] NIL NIL NIL NIL
[START] bunch [END] [END] [END] [END] [END] [END] [END] 

[START] dog stick follows another dog [END] NIL NIL
[START] bunch [END] [END] [END] [END] [END] [END] [END] 

[START] woman examining samples microscope [END] NIL NIL NIL
[START] bunch [END] [END] [END] [END] [END] [END] [END] 

[START] older man wearing military [END] NIL NIL NIL
[START] bunch [END] [END] [END] [END] [END] [END] [END] 

[START] large black dog playing [END] NIL NIL NIL
[START] bunch [END] [END] [END] [END] [END] [END] [END] 

[START] man child [END] NIL NIL NIL NIL NIL
[START] bunch [END] [END] [END] [END] [END] [END] [END] 

[START] lady wearing green [END] NIL NIL NIL NIL
[START] bunch [END] [END] [END] [END] [END] [END] [END] 

Epoch:1, Iteration: 344, Loss: 130.18, TimeElapsed: 35.11Min
Working (10, 200) torch.Size([10, 9])
Normal torch.Size([10, 9]) torch.Size([10, 9, 2512])
[START] frightened little boy pulled [END] NIL NIL NIL
[START] man NIL NIL NIL NIL NIL NIL NIL 

[START] people cooking [END] NIL NIL NIL NIL NIL
[START] man NIL NIL NIL NIL NIL NIL NIL 

[START] man gray shirt [END] NIL NIL NIL NIL
[START] man NIL NIL NIL NIL NIL NIL NIL 

[START] two young girls together [END] NIL NIL NIL
[START] man NIL NIL NIL NIL NIL NIL NIL 

[START] man jumpsuit hat tends [END] NIL NIL NIL
[START] man NIL NIL NIL NIL NIL NIL NIL 

[START] man blue jacket [END] NIL NIL NIL NIL
[START] man NIL NIL NIL NIL NIL NIL NIL 

[START] woman sitting [END] NIL NIL NIL NIL NIL
[START] man NIL NIL NIL NIL NIL NIL NIL 

[START] woman climbing mountain [END] NIL NIL NIL NIL
[START] man NIL NIL NIL NIL NIL NIL NIL 

[START] old woman pushing [END] NIL NIL NIL NIL
[START] man NIL NIL NIL NIL NIL NIL NIL 

[START] lot [END] NIL NIL NIL NIL NIL NIL
[START] man NIL NIL NIL NIL NIL NIL NIL 

Epoch:1, Iteration: 345, Loss: 116.03, TimeElapsed: 35.15Min
Working (10, 200) torch.Size([10, 9])
Normal torch.Size([10, 9]) torch.Size([10, 9, 2512])
[START] group kilts playing bagpipes [END] NIL NIL NIL
[START] man NIL NIL NIL NIL NIL NIL NIL 

[START] people demonstrating [END] NIL NIL NIL NIL NIL
[START] man NIL NIL NIL NIL NIL NIL NIL 

[START] man sliding [END] NIL NIL NIL NIL NIL
[START] man NIL NIL NIL NIL NIL NIL NIL 

[START] snowboarder jumps rail [END] NIL NIL NIL NIL
[START] man NIL NIL NIL NIL NIL NIL NIL 

[START] man looks like statue [END] NIL NIL NIL
[START] man NIL NIL NIL NIL NIL NIL NIL 

[START] little boy wanting play outside [END] NIL NIL
[START] man NIL NIL NIL NIL NIL NIL NIL 

[START] group people [END] NIL NIL NIL NIL NIL
[START] man NIL NIL NIL NIL NIL NIL NIL 

[START] woman dressed barmaid [END] NIL NIL NIL NIL
[START] man NIL NIL NIL NIL NIL NIL NIL 

[START] ring beerier flower girl walking [END] NIL NIL
[START] man NIL NIL NIL NIL NIL NIL NIL 

[START] child handstand [END] NIL NIL NIL NIL NIL
[START] man NIL NIL NIL NIL NIL NIL NIL 

Epoch:1, Iteration: 346, Loss: 160.55, TimeElapsed: 35.2Min
Working (10, 200) torch.Size([10, 9])
Normal torch.Size([10, 9]) torch.Size([10, 9, 2512])
[START] group children play [END] NIL NIL NIL NIL
[START] man NIL NIL NIL NIL NIL NIL NIL 

[START] man wild hair rocks show [END] NIL NIL
[START] man NIL NIL NIL NIL NIL NIL NIL 

[START] one woman participating track field [END] NIL NIL
[START] man NIL NIL NIL NIL NIL NIL NIL 

[START] bunch men pushing car [END] NIL NIL NIL
[START] man NIL NIL NIL NIL NIL NIL NIL 

[START] girl salmon colored bikini [END] NIL NIL NIL
[START] man NIL NIL NIL NIL NIL NIL NIL 

[START] group children look [END] NIL NIL NIL NIL
[START] man NIL NIL NIL NIL NIL NIL NIL 

[START] two dogs family [END] NIL NIL NIL NIL
[START] man NIL NIL NIL NIL NIL NIL NIL 

[START] woman pushes baby [END] NIL NIL NIL NIL
[START] man NIL NIL NIL NIL NIL NIL NIL 

[START] people texas [END] NIL NIL NIL NIL NIL
[START] man NIL NIL NIL NIL NIL NIL NIL 

[START] black brown tan [END] NIL NIL NIL NIL
[START] man NIL NIL NIL NIL NIL NIL NIL 

Epoch:1, Iteration: 347, Loss: 157.58, TimeElapsed: 35.24Min
Working (10, 200) torch.Size([10, 9])
Normal torch.Size([10, 9]) torch.Size([10, 9, 2512])
[START] man cleaning window [END] NIL NIL NIL NIL
[START] group dog dog dog dog dog dog dog 

[START] group people performing [END] NIL NIL NIL NIL
[START] group dog dog dog dog dog dog dog 

[START] family poses seated concrete [END] NIL NIL NIL
[START] group dog dog dog dog dog dog dog 

[START] woman black purple [END] NIL NIL NIL NIL
[START] group dog dog dog dog dog dog dog 

[START] woman holds sign [END] NIL NIL NIL NIL
[START] group dog dog dog dog dog dog dog 

[START] woman dark [END] NIL NIL NIL NIL NIL
[START] group dog dog dog dog dog dog dog 

[START] three men cooking [END] NIL NIL NIL NIL
[START] group dog dog dog dog dog dog dog 

[START] brunette woman walking [END] NIL NIL NIL NIL
[START] group dog dog dog dog dog dog dog 

[START] young boy [END] NIL NIL NIL NIL NIL
[START] group dog dog dog dog dog dog dog 

[START] officer riot gear observes demonstration [END] NIL NIL
[START] group dog dog dog dog dog dog dog 

Epoch:1, Iteration: 348, Loss: 142.64, TimeElapsed: 35.28Min
Working (10, 200) torch.Size([10, 9])
Normal torch.Size([10, 9]) torch.Size([10, 9, 2512])
[START] two young girls playing together [END] NIL NIL
[START] two two [END] [END] [END] [END] [END] [END] 

[START] golden dog walks [END] NIL NIL NIL NIL
[START] two two [END] [END] [END] [END] [END] [END] 

[START] cowboy attempting lasso [END] NIL NIL NIL NIL
[START] two two [END] [END] [END] [END] [END] [END] 

[START] small child jumping [END] NIL NIL NIL NIL
[START] two two [END] [END] [END] [END] [END] [END] 

[START] elderly man [END] NIL NIL NIL NIL NIL
[START] two two [END] [END] [END] [END] [END] [END] 

[START] group people wearing [END] NIL NIL NIL NIL
[START] two two [END] [END] [END] [END] [END] [END] 

[START] three bikers stop town [END] NIL NIL NIL
[START] two two [END] [END] [END] [END] [END] [END] 

[START] child swimming [END] NIL NIL NIL NIL NIL
[START] two two [END] [END] [END] [END] [END] [END] 

[START] man black approaches [END] NIL NIL NIL NIL
[START] two two [END] [END] [END] [END] [END] [END] 

[START] elderly man poses [END] NIL NIL NIL NIL
[START] two two [END] [END] [END] [END] [END] [END] 

Epoch:1, Iteration: 349, Loss: 107.85, TimeElapsed: 35.33Min
Working (10, 200) torch.Size([10, 9])
Normal torch.Size([10, 9]) torch.Size([10, 9, 2512])
[START] two women long black [END] NIL NIL NIL
[START] group people NIL NIL NIL NIL NIL NIL 

[START] kids running field [END] NIL NIL NIL NIL
[START] group people NIL NIL NIL NIL NIL NIL 

[START] young man [END] NIL NIL NIL NIL NIL
[START] group people NIL NIL NIL NIL NIL NIL 

[START] woman walking past artificial [END] NIL NIL NIL
[START] group people NIL NIL NIL NIL NIL NIL 

[START] three middle eastern men [END] NIL NIL NIL
[START] group people NIL NIL NIL NIL NIL NIL 

[START] woodcarver carving bald [END] NIL NIL NIL NIL
[START] group people NIL NIL NIL NIL NIL NIL 

[START] three men cold weather styled [END] NIL NIL
[START] group people NIL NIL NIL NIL NIL NIL 

[START] boy striped shirt [END] NIL NIL NIL NIL
[START] group people NIL NIL NIL NIL NIL NIL 

[START] guy riding bike [END] NIL NIL NIL NIL
[START] group people NIL NIL NIL NIL NIL NIL 

[START] woman red [END] NIL NIL NIL NIL NIL
[START] group people NIL NIL NIL NIL NIL NIL 

Epoch:1, Iteration: 350, Loss: 164.22, TimeElapsed: 35.37Min
Working (10, 200) torch.Size([10, 9])
Normal torch.Size([10, 9]) torch.Size([10, 9, 2512])
[START] woman carries small colorful papers [END] NIL NIL
[START] golden golden NIL NIL NIL NIL NIL NIL 

[START] guy sitting desk [END] NIL NIL NIL NIL
[START] golden golden NIL NIL NIL NIL NIL NIL 

[START] man uses inflatable toy [END] NIL NIL NIL
[START] golden golden NIL NIL NIL NIL NIL NIL 

[START] group people surrounding [END] NIL NIL NIL NIL
[START] golden golden NIL NIL NIL NIL NIL NIL 

[START] mountain biker blue rides [END] NIL NIL NIL
[START] golden golden NIL NIL NIL NIL NIL NIL 

[START] man suit passing [END] NIL NIL NIL NIL
[START] golden golden NIL NIL NIL NIL NIL NIL 

[START] school band members enact [END] NIL NIL NIL
[START] golden golden NIL NIL NIL NIL NIL NIL 

[START] baby holding small black [END] NIL NIL NIL
[START] golden golden NIL NIL NIL NIL NIL NIL 

[START] woman watching [END] NIL NIL NIL NIL NIL
[START] golden golden NIL NIL NIL NIL NIL NIL 

[START] bucking horse throwing cowboy [END] NIL NIL NIL
[START] golden golden NIL NIL NIL NIL NIL NIL 

Epoch:1, Iteration: 351, Loss: 176.51, TimeElapsed: 35.41Min
Working (10, 200) torch.Size([10, 9])
Normal torch.Size([10, 9]) torch.Size([10, 9, 2512])
[START] ice cream truck open door [END] NIL NIL
[START] woman woman NIL NIL NIL NIL NIL NIL 

[START] family sitting couch [END] NIL NIL NIL NIL
[START] woman woman NIL NIL NIL NIL NIL NIL 

[START] man stands near garbage [END] NIL NIL NIL
[START] woman woman NIL NIL NIL NIL NIL NIL 

[START] woman waiting alone [END] NIL NIL NIL NIL
[START] woman woman NIL NIL NIL NIL NIL NIL 

[START] man red [END] NIL NIL NIL NIL NIL
[START] woman woman NIL NIL NIL NIL NIL NIL 

[START] girl blowing bubbles [END] NIL NIL NIL NIL
[START] woman woman NIL NIL NIL NIL NIL NIL 

[START] man looking [END] NIL NIL NIL NIL NIL
[START] woman woman NIL NIL NIL NIL NIL NIL 

[START] baby playing [END] NIL NIL NIL NIL NIL
[START] woman woman NIL NIL NIL NIL NIL NIL 

[START] outside building uniformed [END] NIL NIL NIL NIL
[START] woman woman NIL NIL NIL NIL NIL NIL 

[START] group motorcycles wearing black [END] NIL NIL NIL
[START] woman woman NIL NIL NIL NIL NIL NIL 

Epoch:1, Iteration: 352, Loss: 130.09, TimeElapsed: 35.46Min
Working (10, 200) torch.Size([10, 9])
Normal torch.Size([10, 9]) torch.Size([10, 9, 2512])
[START] group people sitting [END] NIL NIL NIL NIL
[START] four swims NIL NIL NIL NIL NIL NIL 

[START] two people outdated clothing posing [END] NIL NIL
[START] four swims NIL NIL NIL NIL NIL NIL 

[START] man transporting produce reaches pick [END] NIL NIL
[START] four swims NIL NIL NIL NIL NIL NIL 

[START] little boy leg covered [END] NIL NIL NIL
[START] four swims NIL NIL NIL NIL NIL NIL 

[START] man dog [END] NIL NIL NIL NIL NIL
[START] four swims NIL NIL NIL NIL NIL NIL 

[START] one young blond female [END] NIL NIL NIL
[START] four swims NIL NIL NIL NIL NIL NIL 

[START] man sleeping sidewalk [END] NIL NIL NIL NIL
[START] four swims NIL NIL NIL NIL NIL NIL 

[START] walking fast catch [END] NIL NIL NIL NIL
[START] four swims NIL NIL NIL NIL NIL NIL 

[START] woman purple [END] NIL NIL NIL NIL NIL
[START] four swims NIL NIL NIL NIL NIL NIL 

[START] skateboarder knee pads gets [END] NIL NIL NIL
[START] four swims NIL NIL NIL NIL NIL NIL 

Epoch:1, Iteration: 353, Loss: 171.48, TimeElapsed: 35.52Min
Working (10, 200) torch.Size([10, 9])
Normal torch.Size([10, 9]) torch.Size([10, 9, 2512])
[START] tall rainbow striped structure [END] NIL NIL NIL
[START] young boy NIL NIL NIL NIL NIL NIL 

[START] two men jumping hurdles [END] NIL NIL NIL
[START] young boy NIL NIL NIL NIL NIL NIL 

[START] romanian olympian participating [END] NIL NIL NIL NIL
[START] young boy NIL NIL NIL NIL NIL NIL 

[START] smiling female nice teeth [END] NIL NIL NIL
[START] young boy NIL NIL NIL NIL NIL NIL 

[START] male security officer stands [END] NIL NIL NIL
[START] young boy NIL NIL NIL NIL NIL NIL 

[START] four men sitting working laptops [END] NIL NIL
[START] young boy NIL NIL NIL NIL NIL NIL 

[START] teenager rides forest [END] NIL NIL NIL NIL
[START] young boy NIL NIL NIL NIL NIL NIL 

[START] woman white [END] NIL NIL NIL NIL NIL
[START] young boy NIL NIL NIL NIL NIL NIL 

[START] little girl floaties swimming [END] NIL NIL NIL
[START] young boy NIL NIL NIL NIL NIL NIL 

[START] man blue [END] NIL NIL NIL NIL NIL
[START] young boy NIL NIL NIL NIL NIL NIL 

Epoch:1, Iteration: 354, Loss: 194.31, TimeElapsed: 35.57Min
Working (10, 200) torch.Size([10, 9])
Normal torch.Size([10, 9]) torch.Size([10, 9, 2512])
[START] child hands [END] NIL NIL NIL NIL NIL
[START] uses uses uses uses uses uses uses uses 

[START] clown average looking [END] NIL NIL NIL NIL
[START] uses uses uses uses uses uses uses uses 

[START] black tan dog plays [END] NIL NIL NIL
[START] uses uses uses uses uses uses uses uses 

[START] man orange [END] NIL NIL NIL NIL NIL
[START] uses uses uses uses uses uses uses uses 

[START] three women dressed formal occasion [END] NIL NIL
[START] uses uses uses uses uses uses uses uses 

[START] man surfboard stands [END] NIL NIL NIL NIL
[START] uses uses uses uses uses uses uses uses 

[START] woman grilling variety [END] NIL NIL NIL NIL
[START] uses uses uses uses uses uses uses uses 

[START] workers vests hard hats [END] NIL NIL NIL
[START] uses uses uses uses uses uses uses uses 

[START] chef working kitchen [END] NIL NIL NIL NIL
[START] uses uses uses uses uses uses uses uses 

[START] man kayaking rapids [END] NIL NIL NIL NIL
[START] uses uses uses uses uses uses uses uses 

Epoch:1, Iteration: 355, Loss: 152.13, TimeElapsed: 35.61Min
Working (10, 200) torch.Size([10, 9])
Normal torch.Size([10, 9]) torch.Size([10, 9, 2512])
[START] blond girl looks [END] NIL NIL NIL NIL
[START] family family family [END] [END] [END] [END] [END] 

[START] little boy blue [END] NIL NIL NIL NIL
[START] family family family [END] [END] [END] [END] [END] 

[START] woman holding baby [END] NIL NIL NIL NIL
[START] family family family [END] [END] [END] [END] [END] 

[START] three firemen standing around two [END] NIL NIL
[START] family family family [END] [END] [END] [END] [END] 

[START] little girl poses [END] NIL NIL NIL NIL
[START] family family family [END] [END] [END] [END] [END] 

[START] two woman kissing [END] NIL NIL NIL NIL
[START] family family family [END] [END] [END] [END] [END] 

[START] five people sitting outside playing [END] NIL NIL
[START] family family family [END] [END] [END] [END] [END] 

[START] know looking [END] NIL NIL NIL NIL NIL
[START] family family family [END] [END] [END] [END] [END] 

[START] child wearing red [END] NIL NIL NIL NIL
[START] family family family [END] [END] [END] [END] [END] 

[START] older fireman orange [END] NIL NIL NIL NIL
[START] family family family [END] [END] [END] [END] [END] 

Epoch:1, Iteration: 356, Loss: 93.95, TimeElapsed: 35.66Min
Working (10, 200) torch.Size([10, 9])
Normal torch.Size([10, 9]) torch.Size([10, 9, 2512])
[START] woman black dress [END] NIL NIL NIL NIL
[START] three [END] [END] [END] [END] [END] [END] [END] 

[START] child stands underneath snow covered [END] NIL NIL
[START] three [END] [END] [END] [END] [END] [END] [END] 

[START] man white [END] NIL NIL NIL NIL NIL
[START] three [END] [END] [END] [END] [END] [END] [END] 

[START] woman blue gloves working [END] NIL NIL NIL
[START] three [END] [END] [END] [END] [END] [END] [END] 

[START] man wearing red [END] NIL NIL NIL NIL
[START] three [END] [END] [END] [END] [END] [END] [END] 

[START] woman taking photo [END] NIL NIL NIL NIL
[START] three [END] [END] [END] [END] [END] [END] [END] 

[START] older man wearing [END] NIL NIL NIL NIL
[START] three [END] [END] [END] [END] [END] [END] [END] 

[START] red dog jumps catch tennis [END] NIL NIL
[START] three [END] [END] [END] [END] [END] [END] [END] 

[START] man kayaking [END] NIL NIL NIL NIL NIL
[START] three [END] [END] [END] [END] [END] [END] [END] 

[START] asian man blond woman [END] NIL NIL NIL
[START] three [END] [END] [END] [END] [END] [END] [END] 

Epoch:1, Iteration: 357, Loss: 112.76, TimeElapsed: 35.7Min
Working (10, 200) torch.Size([10, 9])
Normal torch.Size([10, 9]) torch.Size([10, 9, 2512])
[START] man surfing [END] NIL NIL NIL NIL NIL
[START] man NIL NIL NIL NIL NIL NIL NIL 

[START] man sitting playing accordion [END] NIL NIL NIL
[START] man NIL NIL NIL NIL NIL NIL NIL 

[START] man white shirt play [END] NIL NIL NIL
[START] man NIL NIL NIL NIL NIL NIL NIL 

[START] young man long dark [END] NIL NIL NIL
[START] man NIL NIL NIL NIL NIL NIL NIL 

[START] young man shaves [END] NIL NIL NIL NIL
[START] man NIL NIL NIL NIL NIL NIL NIL 

[START] man walking along [END] NIL NIL NIL NIL
[START] man NIL NIL NIL NIL NIL NIL NIL 

[START] man boat [END] NIL NIL NIL NIL NIL
[START] man NIL NIL NIL NIL NIL NIL NIL 

[START] vast ocean surfers [END] NIL NIL NIL NIL
[START] man NIL NIL NIL NIL NIL NIL NIL 

[START] one man sings another [END] NIL NIL NIL
[START] man NIL NIL NIL NIL NIL NIL NIL 

[START] young child swung [END] NIL NIL NIL NIL
[START] man NIL NIL NIL NIL NIL NIL NIL 

Epoch:1, Iteration: 358, Loss: 121.46, TimeElapsed: 35.74Min
Working (10, 200) torch.Size([10, 9])
Normal torch.Size([10, 9]) torch.Size([10, 9, 2512])
[START] soccer team wearing light blue gets [END] NIL
[START] man NIL NIL NIL NIL NIL NIL NIL 

[START] little kid blue shoes [END] NIL NIL NIL
[START] man NIL NIL NIL NIL NIL NIL NIL 

[START] man brown leather jacket [END] NIL NIL NIL
[START] man NIL NIL NIL NIL NIL NIL NIL 

[START] woman looking building [END] NIL NIL NIL NIL
[START] man NIL NIL NIL NIL NIL NIL NIL 

[START] guy rejoicing something [END] NIL NIL NIL NIL
[START] man NIL NIL NIL NIL NIL NIL NIL 

[START] man beard [END] NIL NIL NIL NIL NIL
[START] man NIL NIL NIL NIL NIL NIL NIL 

[START] woman carrying several bags [END] NIL NIL NIL
[START] man NIL NIL NIL NIL NIL NIL NIL 

[START] wrinkled man wearing black leather [END] NIL NIL
[START] man NIL NIL NIL NIL NIL NIL NIL 

[START] dog looking something near [END] NIL NIL NIL
[START] man NIL NIL NIL NIL NIL NIL NIL 

[START] elderly man wearing blue [END] NIL NIL NIL
[START] man NIL NIL NIL NIL NIL NIL NIL 

Epoch:1, Iteration: 359, Loss: 187.94, TimeElapsed: 35.79Min
Working (10, 200) torch.Size([10, 9])
Normal torch.Size([10, 9]) torch.Size([10, 9, 2512])
[START] skateboard jumps bridge [END] NIL NIL NIL NIL
[START] man blue NIL NIL NIL NIL NIL NIL 

[START] three young people planting flowers [END] NIL NIL
[START] man blue NIL NIL NIL NIL NIL NIL 

[START] young man wearing life jacket [END] NIL NIL
[START] man blue NIL NIL NIL NIL NIL NIL 

[START] three women gypsy skirts stand around [END] NIL
[START] man blue NIL NIL NIL NIL NIL NIL 

[START] man drag [END] NIL NIL NIL NIL NIL
[START] man blue NIL NIL NIL NIL NIL NIL 

[START] boy jumping [END] NIL NIL NIL NIL NIL
[START] man blue NIL NIL NIL NIL NIL NIL 

[START] girl red [END] NIL NIL NIL NIL NIL
[START] man blue NIL NIL NIL NIL NIL NIL 

[START] little boy going [END] NIL NIL NIL NIL
[START] man blue NIL NIL NIL NIL NIL NIL 

[START] cook butcher enjoying meal [END] NIL NIL NIL
[START] man blue NIL NIL NIL NIL NIL NIL 

[START] dozens motor scooters arranged [END] NIL NIL NIL
[START] man blue NIL NIL NIL NIL NIL NIL 

Epoch:1, Iteration: 360, Loss: 185.57, TimeElapsed: 35.84Min
Working (10, 200) torch.Size([10, 9])
Normal torch.Size([10, 9]) torch.Size([10, 9, 2512])
[START] man holds brown [END] NIL NIL NIL NIL
[START] chef formal formal formal formal formal formal formal 

[START] man blue shorts [END] NIL NIL NIL NIL
[START] chef formal formal formal formal formal formal formal 

[START] little girls strapped harnesses [END] NIL NIL NIL
[START] chef formal formal formal formal formal formal formal 

[START] man dressed [END] NIL NIL NIL NIL NIL
[START] chef formal formal formal formal formal formal formal 

[START] man heavy [END] NIL NIL NIL NIL NIL
[START] chef formal formal formal formal formal formal formal 

[START] woman chinese attire [END] NIL NIL NIL NIL
[START] chef formal formal formal formal formal formal formal 

[START] three people playing large ball [END] NIL NIL
[START] chef formal formal formal formal formal formal formal 

[START] three women outside dress [END] NIL NIL NIL
[START] chef formal formal formal formal formal formal formal 

[START] two motorcycle racing [END] NIL NIL NIL NIL
[START] chef formal formal formal formal formal formal formal 

[START] two young men wrestling [END] NIL NIL NIL
[START] chef formal formal formal formal formal formal formal 

Epoch:1, Iteration: 361, Loss: 118.84, TimeElapsed: 35.88Min
Working (10, 200) torch.Size([10, 9])
Normal torch.Size([10, 9]) torch.Size([10, 9, 2512])
[START] group men sit around [END] NIL NIL NIL
[START] man playing NIL NIL NIL NIL NIL NIL 

[START] group people working [END] NIL NIL NIL NIL
[START] man playing NIL NIL NIL NIL NIL NIL 

[START] two little girls [END] NIL NIL NIL NIL
[START] man playing NIL NIL NIL NIL NIL NIL 

[START] man helmet backpack [END] NIL NIL NIL NIL
[START] man playing NIL NIL NIL NIL NIL NIL 

[START] man dressed white walks [END] NIL NIL NIL
[START] man playing NIL NIL NIL NIL NIL NIL 

[START] people dressed white red green cheering [END] NIL
[START] man playing NIL NIL NIL NIL NIL NIL 

[START] wedding reception decorated white [END] NIL NIL NIL
[START] man playing NIL NIL NIL NIL NIL NIL 

[START] orange suv drive [END] NIL NIL NIL NIL
[START] man playing NIL NIL NIL NIL NIL NIL 

[START] brown haired woman kneels [END] NIL NIL NIL
[START] man playing NIL NIL NIL NIL NIL NIL 

[START] group race horses [END] NIL NIL NIL NIL
[START] man playing NIL NIL NIL NIL NIL NIL 

Epoch:1, Iteration: 362, Loss: 151.41, TimeElapsed: 35.93Min
Working (10, 200) torch.Size([10, 9])
Normal torch.Size([10, 9]) torch.Size([10, 9, 2512])
[START] set actors [END] NIL NIL NIL NIL NIL
[START] man NIL NIL NIL NIL NIL NIL NIL 

[START] man sitting [END] NIL NIL NIL NIL NIL
[START] man NIL NIL NIL NIL NIL NIL NIL 

[START] thrill seeking bungee jumper [END] NIL NIL NIL
[START] man NIL NIL NIL NIL NIL NIL NIL 

[START] man black one [END] NIL NIL NIL NIL
[START] man NIL NIL NIL NIL NIL NIL NIL 

[START] young boy smiles camera [END] NIL NIL NIL
[START] man NIL NIL NIL NIL NIL NIL NIL 

[START] group boys blue [END] NIL NIL NIL NIL
[START] man NIL NIL NIL NIL NIL NIL NIL 

[START] young man dock [END] NIL NIL NIL NIL
[START] man NIL NIL NIL NIL NIL NIL NIL 

[START] man running [END] NIL NIL NIL NIL NIL
[START] man NIL NIL NIL NIL NIL NIL NIL 

[START] little girl looking females face [END] NIL NIL
[START] man NIL NIL NIL NIL NIL NIL NIL 

[START] two children warm jackets stand [END] NIL NIL
[START] man NIL NIL NIL NIL NIL NIL NIL 

Epoch:1, Iteration: 363, Loss: 134.6, TimeElapsed: 35.97Min
Working (10, 200) torch.Size([10, 9])
Normal torch.Size([10, 9]) torch.Size([10, 9, 2512])
[START] group people get [END] NIL NIL NIL NIL
[START] variety variety variety variety variety variety variety variety 

[START] two men pushing truck [END] NIL NIL NIL
[START] variety variety variety variety variety variety variety variety 

[START] man wearing baseball [END] NIL NIL NIL NIL
[START] variety variety variety variety variety variety variety variety 

[START] little boy playing running [END] NIL NIL NIL
[START] variety variety variety variety variety variety variety variety 

[START] group people watching laptop [END] NIL NIL NIL
[START] variety variety variety variety variety variety variety variety 

[START] three young boys enjoying nature [END] NIL NIL
[START] variety variety variety variety variety variety variety variety 

[START] old man smiling making pottery [END] NIL NIL
[START] variety variety variety variety variety variety variety variety 

[START] man shaving mirror [END] NIL NIL NIL NIL
[START] variety variety variety variety variety variety variety variety 

[START] two people sitting [END] NIL NIL NIL NIL
[START] variety variety variety variety variety variety variety variety 

[START] black white dog [END] NIL NIL NIL NIL
[START] variety variety variety variety variety variety variety variety 

Epoch:1, Iteration: 364, Loss: 125.28, TimeElapsed: 36.01Min
Working (10, 200) torch.Size([10, 9])
Normal torch.Size([10, 9]) torch.Size([10, 9, 2512])
[START] two men black coats stand [END] NIL NIL
[START] young [END] [END] [END] [END] [END] [END] [END] 

[START] three dogs sniffing [END] NIL NIL NIL NIL
[START] young [END] [END] [END] [END] [END] [END] [END] 

[START] young kids lecture [END] NIL NIL NIL NIL
[START] young [END] [END] [END] [END] [END] [END] [END] 

[START] three men stand [END] NIL NIL NIL NIL
[START] young [END] [END] [END] [END] [END] [END] [END] 

[START] group children adults [END] NIL NIL NIL NIL
[START] young [END] [END] [END] [END] [END] [END] [END] 

[START] mountain bike racer jumps [END] NIL NIL NIL
[START] young [END] [END] [END] [END] [END] [END] [END] 

[START] bicyclists riding past london [END] NIL NIL NIL
[START] young [END] [END] [END] [END] [END] [END] [END] 

[START] child surrounded field [END] NIL NIL NIL NIL
[START] young [END] [END] [END] [END] [END] [END] [END] 

[START] three young people pose [END] NIL NIL NIL
[START] young [END] [END] [END] [END] [END] [END] [END] 

[START] woman standing [END] NIL NIL NIL NIL NIL
[START] young [END] [END] [END] [END] [END] [END] [END] 

Epoch:1, Iteration: 365, Loss: 144.55, TimeElapsed: 36.06Min
Working (10, 200) torch.Size([10, 9])
Normal torch.Size([10, 9]) torch.Size([10, 9, 2512])
[START] woman daughter [END] NIL NIL NIL NIL NIL
[START] little jumps NIL NIL NIL NIL NIL NIL 

[START] woman paints landscape [END] NIL NIL NIL NIL
[START] little jumps NIL NIL NIL NIL NIL NIL 

[START] marble sculptor sculpting [END] NIL NIL NIL NIL
[START] little jumps NIL NIL NIL NIL NIL NIL 

[START] three people sit outdoor cafe [END] NIL NIL
[START] little jumps NIL NIL NIL NIL NIL NIL 

[START] man gray shirt [END] NIL NIL NIL NIL
[START] little jumps NIL NIL NIL NIL NIL NIL 

[START] asian man hanging [END] NIL NIL NIL NIL
[START] little jumps NIL NIL NIL NIL NIL NIL 

[START] man sitting [END] NIL NIL NIL NIL NIL
[START] little jumps NIL NIL NIL NIL NIL NIL 

[START] couple beach [END] NIL NIL NIL NIL NIL
[START] little jumps NIL NIL NIL NIL NIL NIL 

[START] group children sit stage [END] NIL NIL NIL
[START] little jumps NIL NIL NIL NIL NIL NIL 

[START] boy laying [END] NIL NIL NIL NIL NIL
[START] little jumps NIL NIL NIL NIL NIL NIL 

Epoch:1, Iteration: 366, Loss: 142.83, TimeElapsed: 36.1Min
Working (10, 200) torch.Size([10, 9])
Normal torch.Size([10, 9]) torch.Size([10, 9, 2512])
[START] people ages stroll [END] NIL NIL NIL NIL
[START] racer racer racer racer racer racer racer racer 

[START] two men hard hats [END] NIL NIL NIL
[START] racer racer racer racer racer racer racer racer 

[START] kid juggling balls middle [END] NIL NIL NIL
[START] racer racer racer racer racer racer racer racer 

[START] child practices hitting baseball [END] NIL NIL NIL
[START] racer racer racer racer racer racer racer racer 

[START] man goatee [END] NIL NIL NIL NIL NIL
[START] racer racer racer racer racer racer racer racer 

[START] man stands [END] NIL NIL NIL NIL NIL
[START] racer racer racer racer racer racer racer racer 

[START] white haired man [END] NIL NIL NIL NIL
[START] racer racer racer racer racer racer racer racer 

[START] baby blond hair crying [END] NIL NIL NIL
[START] racer racer racer racer racer racer racer racer 

[START] woman brown dress [END] NIL NIL NIL NIL
[START] racer racer racer racer racer racer racer racer 

[START] little girl wears white [END] NIL NIL NIL
[START] racer racer racer racer racer racer racer racer 

Epoch:1, Iteration: 367, Loss: 165.28, TimeElapsed: 36.15Min
Working (10, 200) torch.Size([10, 9])
Normal torch.Size([10, 9]) torch.Size([10, 9, 2512])
[START] little boy striped shirt [END] NIL NIL NIL
[START] woman NIL NIL NIL NIL NIL NIL NIL 

[START] man welding cap [END] NIL NIL NIL NIL
[START] woman NIL NIL NIL NIL NIL NIL NIL 

[START] man carries little boy [END] NIL NIL NIL
[START] woman NIL NIL NIL NIL NIL NIL NIL 

[START] two people dressed green [END] NIL NIL NIL
[START] woman NIL NIL NIL NIL NIL NIL NIL 

[START] two men germany jumping [END] NIL NIL NIL
[START] woman NIL NIL NIL NIL NIL NIL NIL 

[START] four dogs varying breeds running [END] NIL NIL
[START] woman NIL NIL NIL NIL NIL NIL NIL 

[START] man looks book [END] NIL NIL NIL NIL
[START] woman NIL NIL NIL NIL NIL NIL NIL 

[START] guy looking [END] NIL NIL NIL NIL NIL
[START] woman NIL NIL NIL NIL NIL NIL NIL 

[START] two men climb side [END] NIL NIL NIL
[START] woman NIL NIL NIL NIL NIL NIL NIL 

[START] man singing playing [END] NIL NIL NIL NIL
[START] woman NIL NIL NIL NIL NIL NIL NIL 

Epoch:1, Iteration: 368, Loss: 148.66, TimeElapsed: 36.19Min
Working (10, 200) torch.Size([10, 9])
Normal torch.Size([10, 9]) torch.Size([10, 9, 2512])
[START] child red [END] NIL NIL NIL NIL NIL
[START] NIL NIL NIL NIL NIL NIL NIL NIL 

[START] woman red clothing [END] NIL NIL NIL NIL
[START] NIL NIL NIL NIL NIL NIL NIL NIL 

[START] blond girl fixing high [END] NIL NIL NIL
[START] NIL NIL NIL NIL NIL NIL NIL NIL 

[START] man black shirt [END] NIL NIL NIL NIL
[START] NIL NIL NIL NIL NIL NIL NIL NIL 

[START] young boy tigger shirt [END] NIL NIL NIL
[START] NIL NIL NIL NIL NIL NIL NIL NIL 

[START] lady man shirt [END] NIL NIL NIL NIL
[START] NIL NIL NIL NIL NIL NIL NIL NIL 

[START] young man [END] NIL NIL NIL NIL NIL
[START] NIL NIL NIL NIL NIL NIL NIL NIL 

[START] two little girls pink [END] NIL NIL NIL
[START] NIL NIL NIL NIL NIL NIL NIL NIL 

[START] man [END] NIL NIL NIL NIL NIL NIL
[START] NIL NIL NIL NIL NIL NIL NIL NIL 

[START] little boy smiles points [END] NIL NIL NIL
[START] NIL NIL NIL NIL NIL NIL NIL NIL 

Epoch:1, Iteration: 369, Loss: 59.66, TimeElapsed: 36.24Min
Working (10, 200) torch.Size([10, 9])
Normal torch.Size([10, 9]) torch.Size([10, 9, 2512])
[START] person dirt [END] NIL NIL NIL NIL NIL
[START] NIL NIL NIL NIL NIL NIL NIL NIL 

[START] children participate sport [END] NIL NIL NIL NIL
[START] NIL NIL NIL NIL NIL NIL NIL NIL 

[START] large group people watching [END] NIL NIL NIL
[START] NIL NIL NIL NIL NIL NIL NIL NIL 

[START] young boy pulls [END] NIL NIL NIL NIL
[START] NIL NIL NIL NIL NIL NIL NIL NIL 

[START] four women dancing around [END] NIL NIL NIL
[START] NIL NIL NIL NIL NIL NIL NIL NIL 

[START] two middle aged men one [END] NIL NIL
[START] NIL NIL NIL NIL NIL NIL NIL NIL 

[START] boy red [END] NIL NIL NIL NIL NIL
[START] NIL NIL NIL NIL NIL NIL NIL NIL 

[START] boy scaling rocks without climbing [END] NIL NIL
[START] NIL NIL NIL NIL NIL NIL NIL NIL 

[START] line native african [END] NIL NIL NIL NIL
[START] NIL NIL NIL NIL NIL NIL NIL NIL 

[START] several people walking front [END] NIL NIL NIL
[START] NIL NIL NIL NIL NIL NIL NIL NIL 

Epoch:1, Iteration: 370, Loss: 127.15, TimeElapsed: 36.28Min
Working (10, 200) torch.Size([10, 9])
Normal torch.Size([10, 9]) torch.Size([10, 9, 2512])
[START] person climbing [END] NIL NIL NIL NIL NIL
[START] sit sit NIL NIL NIL NIL NIL NIL 

[START] woman sitting [END] NIL NIL NIL NIL NIL
[START] sit sit NIL NIL NIL NIL NIL NIL 

[START] man white [END] NIL NIL NIL NIL NIL
[START] sit sit NIL NIL NIL NIL NIL NIL 

[START] female getting ready first breaking [END] NIL NIL
[START] sit sit NIL NIL NIL NIL NIL NIL 

[START] different colored dogs jumping [END] NIL NIL NIL
[START] sit sit NIL NIL NIL NIL NIL NIL 

[START] boy stands near water stone [END] NIL NIL
[START] sit sit NIL NIL NIL NIL NIL NIL 

[START] two girls walk across [END] NIL NIL NIL
[START] sit sit NIL NIL NIL NIL NIL NIL 

[START] sexy young men stand [END] NIL NIL NIL
[START] sit sit NIL NIL NIL NIL NIL NIL 

[START] group children blue [END] NIL NIL NIL NIL
[START] sit sit NIL NIL NIL NIL NIL NIL 

[START] woman white [END] NIL NIL NIL NIL NIL
[START] sit sit NIL NIL NIL NIL NIL NIL 

Epoch:1, Iteration: 371, Loss: 114.62, TimeElapsed: 36.32Min
Working (10, 200) torch.Size([10, 9])
Normal torch.Size([10, 9]) torch.Size([10, 9, 2512])
[START] young boy red [END] NIL NIL NIL NIL
[START] juggling juggling juggling juggling juggling juggling juggling juggling 

[START] girl striped [END] NIL NIL NIL NIL NIL
[START] juggling juggling juggling juggling juggling juggling juggling juggling 

[START] woman works [END] NIL NIL NIL NIL NIL
[START] juggling juggling juggling juggling juggling juggling juggling juggling 

[START] little girl climbing [END] NIL NIL NIL NIL
[START] juggling juggling juggling juggling juggling juggling juggling juggling 

[START] man shorts [END] NIL NIL NIL NIL NIL
[START] juggling juggling juggling juggling juggling juggling juggling juggling 

[START] man throwing crates dumpster [END] NIL NIL NIL
[START] juggling juggling juggling juggling juggling juggling juggling juggling 

[START] clown red green [END] NIL NIL NIL NIL
[START] juggling juggling juggling juggling juggling juggling juggling juggling 

[START] several people walk along waterway [END] NIL NIL
[START] juggling juggling juggling juggling juggling juggling juggling juggling 

[START] man woman [END] NIL NIL NIL NIL NIL
[START] juggling juggling juggling juggling juggling juggling juggling juggling 

[START] nicely dressed woman putting [END] NIL NIL NIL
[START] juggling juggling juggling juggling juggling juggling juggling juggling 

Epoch:1, Iteration: 372, Loss: 134.99, TimeElapsed: 36.37Min
Working (10, 200) torch.Size([10, 9])
Normal torch.Size([10, 9]) torch.Size([10, 9, 2512])
[START] black white dog jumps [END] NIL NIL NIL
[START] dock watching watching watching watching watching watching watching 

[START] group people stop [END] NIL NIL NIL NIL
[START] dock watching watching watching watching watching watching watching 

[START] three men wearing canadian military [END] NIL NIL
[START] dock watching watching watching watching watching watching watching 

[START] cyclists racing street pedestrians [END] NIL NIL NIL
[START] dock watching watching watching watching watching watching watching 

[START] shaggy brown dog [END] NIL NIL NIL NIL
[START] dock watching watching watching watching watching watching watching 

[START] juggling shopping bags [END] NIL NIL NIL NIL
[START] dock watching watching watching watching watching watching watching 

[START] family preparing [END] NIL NIL NIL NIL NIL
[START] dock watching watching watching watching watching watching watching 

[START] group people outside [END] NIL NIL NIL NIL
[START] dock watching watching watching watching watching watching watching 

[START] climber attempting climb around [END] NIL NIL NIL
[START] dock watching watching watching watching watching watching watching 

[START] two children yellow [END] NIL NIL NIL NIL
[START] dock watching watching watching watching watching watching watching 

Epoch:1, Iteration: 373, Loss: 133.8, TimeElapsed: 36.41Min
Working (10, 200) torch.Size([10, 9])
Normal torch.Size([10, 9]) torch.Size([10, 9, 2512])
[START] asian women sitting around enjoying [END] NIL NIL
[START] breaking breaking breaking breaking breaking breaking breaking breaking 

[START] woman wearing black [END] NIL NIL NIL NIL
[START] breaking breaking breaking breaking breaking breaking breaking breaking 

[START] person wakeboard air [END] NIL NIL NIL NIL
[START] breaking breaking breaking breaking breaking breaking breaking breaking 

[START] two young women walking [END] NIL NIL NIL
[START] breaking breaking breaking breaking breaking breaking breaking breaking 

[START] man wearing glasses [END] NIL NIL NIL NIL
[START] breaking breaking breaking breaking breaking breaking breaking breaking 

[START] older men look [END] NIL NIL NIL NIL
[START] breaking breaking breaking breaking breaking breaking breaking breaking 

[START] child climbing tree wearing [END] NIL NIL NIL
[START] breaking breaking breaking breaking breaking breaking breaking breaking 

[START] marathon runners road [END] NIL NIL NIL NIL
[START] breaking breaking breaking breaking breaking breaking breaking breaking 

[START] people sitting front [END] NIL NIL NIL NIL
[START] breaking breaking breaking breaking breaking breaking breaking breaking 

[START] man cuts grass [END] NIL NIL NIL NIL
[START] breaking breaking breaking breaking breaking breaking breaking breaking 

Epoch:1, Iteration: 374, Loss: 126.47, TimeElapsed: 36.46Min
Working (10, 200) torch.Size([10, 9])
Normal torch.Size([10, 9]) torch.Size([10, 9, 2512])
[START] boy younger [END] NIL NIL NIL NIL NIL
[START] man [END] [END] [END] [END] [END] [END] [END] 

[START] two asian women young asian [END] NIL NIL
[START] man [END] [END] [END] [END] [END] [END] [END] 

[START] two boys waiting [END] NIL NIL NIL NIL
[START] man [END] [END] [END] [END] [END] [END] [END] 

[START] children bathe water [END] NIL NIL NIL NIL
[START] man [END] [END] [END] [END] [END] [END] [END] 

[START] two construction workers take seat [END] NIL NIL
[START] man [END] [END] [END] [END] [END] [END] [END] 

[START] boy stands head [END] NIL NIL NIL NIL
[START] man [END] [END] [END] [END] [END] [END] [END] 

[START] adult helping [END] NIL NIL NIL NIL NIL
[START] man [END] [END] [END] [END] [END] [END] [END] 

[START] man wearing white shirt [END] NIL NIL NIL
[START] man [END] [END] [END] [END] [END] [END] [END] 

[START] men black gold kilted [END] NIL NIL NIL
[START] man [END] [END] [END] [END] [END] [END] [END] 

[START] man white [END] NIL NIL NIL NIL NIL
[START] man [END] [END] [END] [END] [END] [END] [END] 

Epoch:1, Iteration: 375, Loss: 111.36, TimeElapsed: 36.5Min
Working (10, 200) torch.Size([10, 9])
Normal torch.Size([10, 9]) torch.Size([10, 9, 2512])
[START] man wearing black pants leggings white [END] NIL
[START] man NIL NIL NIL NIL NIL NIL NIL 

[START] motorcycles parked behind fence [END] NIL NIL NIL
[START] man NIL NIL NIL NIL NIL NIL NIL 

[START] two kids walk wood path [END] NIL NIL
[START] man NIL NIL NIL NIL NIL NIL NIL 

[START] skate park one man [END] NIL NIL NIL
[START] man NIL NIL NIL NIL NIL NIL NIL 

[START] cowboy falling horse [END] NIL NIL NIL NIL
[START] man NIL NIL NIL NIL NIL NIL NIL 

[START] swimmer pool [END] NIL NIL NIL NIL NIL
[START] man NIL NIL NIL NIL NIL NIL NIL 

[START] five dancers perform stage [END] NIL NIL NIL
[START] man NIL NIL NIL NIL NIL NIL NIL 

[START] man standing next [END] NIL NIL NIL NIL
[START] man NIL NIL NIL NIL NIL NIL NIL 

[START] female street vendor [END] NIL NIL NIL NIL
[START] man NIL NIL NIL NIL NIL NIL NIL 

[START] four men standing around [END] NIL NIL NIL
[START] man NIL NIL NIL NIL NIL NIL NIL 

Epoch:1, Iteration: 376, Loss: 204.51, TimeElapsed: 36.54Min
Working (10, 200) torch.Size([10, 9])
Normal torch.Size([10, 9]) torch.Size([10, 9, 2512])
[START] worker loading handicapped man [END] NIL NIL NIL
[START] man NIL NIL NIL NIL NIL NIL NIL 

[START] boy playing soccer goes [END] NIL NIL NIL
[START] man NIL NIL NIL NIL NIL NIL NIL 

[START] man putting [END] NIL NIL NIL NIL NIL
[START] man NIL NIL NIL NIL NIL NIL NIL 

[START] person skateboarding near [END] NIL NIL NIL NIL
[START] man NIL NIL NIL NIL NIL NIL NIL 

[START] elderly caucasian man [END] NIL NIL NIL NIL
[START] man NIL NIL NIL NIL NIL NIL NIL 

[START] man proudly holding [END] NIL NIL NIL NIL
[START] man NIL NIL NIL NIL NIL NIL NIL 

[START] man jacket [END] NIL NIL NIL NIL NIL
[START] man NIL NIL NIL NIL NIL NIL NIL 

[START] two men relaxing [END] NIL NIL NIL NIL
[START] man NIL NIL NIL NIL NIL NIL NIL 

[START] large brown dog [END] NIL NIL NIL NIL
[START] man NIL NIL NIL NIL NIL NIL NIL 

[START] two elderly people sitting front [END] NIL NIL
[START] man NIL NIL NIL NIL NIL NIL NIL 

Epoch:1, Iteration: 377, Loss: 115.24, TimeElapsed: 36.58Min
Working (10, 200) torch.Size([10, 9])
Normal torch.Size([10, 9]) torch.Size([10, 9, 2512])
[START] man woman [END] NIL NIL NIL NIL NIL
[START] younger younger younger younger younger younger younger younger 

[START] large dog playing outdoors [END] NIL NIL NIL
[START] younger younger younger younger younger younger younger younger 

[START] athletic man lifting steel free weights [END] NIL
[START] younger younger younger younger younger younger younger younger 

[START] german citizens participate parade [END] NIL NIL NIL
[START] younger younger younger younger younger younger younger younger 

[START] woman eating food [END] NIL NIL NIL NIL
[START] younger younger younger younger younger younger younger younger 

[START] three women wearing white [END] NIL NIL NIL
[START] younger younger younger younger younger younger younger younger 

[START] man beard checks cellphone [END] NIL NIL NIL
[START] younger younger younger younger younger younger younger younger 

[START] two young children walking [END] NIL NIL NIL
[START] younger younger younger younger younger younger younger younger 

[START] young man asleep car ride [END] NIL NIL
[START] younger younger younger younger younger younger younger younger 

[START] bearded hairy musician happily plays [END] NIL NIL
[START] younger younger younger younger younger younger younger younger 

Epoch:1, Iteration: 378, Loss: 201.23, TimeElapsed: 36.63Min
Working (10, 200) torch.Size([10, 9])
Normal torch.Size([10, 9]) torch.Size([10, 9, 2512])
[START] two men celebrating win [END] NIL NIL NIL
[START] preparing preparing preparing preparing preparing preparing preparing preparing 

[START] man pushing baby [END] NIL NIL NIL NIL
[START] preparing preparing preparing preparing preparing preparing preparing preparing 

[START] woman wearing gray [END] NIL NIL NIL NIL
[START] preparing preparing preparing preparing preparing preparing preparing preparing 

[START] boy skateboard [END] NIL NIL NIL NIL NIL
[START] preparing preparing preparing preparing preparing preparing preparing preparing 

[START] motorcyclist red speed [END] NIL NIL NIL NIL
[START] preparing preparing preparing preparing preparing preparing preparing preparing 

[START] blond woman [END] NIL NIL NIL NIL NIL
[START] preparing preparing preparing preparing preparing preparing preparing preparing 

[START] child pouring water [END] NIL NIL NIL NIL
[START] preparing preparing preparing preparing preparing preparing preparing preparing 

[START] 3 people passing bus [END] NIL NIL NIL
[START] preparing preparing preparing preparing preparing preparing preparing preparing 

[START] white poodle dog [END] NIL NIL NIL NIL
[START] preparing preparing preparing preparing preparing preparing preparing preparing 

[START] man holds drink [END] NIL NIL NIL NIL
[START] preparing preparing preparing preparing preparing preparing preparing preparing 

Epoch:1, Iteration: 379, Loss: 110.8, TimeElapsed: 36.67Min
Working (10, 200) torch.Size([10, 9])
Normal torch.Size([10, 9]) torch.Size([10, 9, 2512])
[START] large dog holding [END] NIL NIL NIL NIL
participate participate participate participate participate participate participate participate participate 

[START] athletic man spiking volleyball [END] NIL NIL NIL
participate participate participate participate participate participate participate participate participate 

[START] man tropical [END] NIL NIL NIL NIL NIL
participate participate participate participate participate participate participate participate participate 

[START] surfer riding [END] NIL NIL NIL NIL NIL
participate participate participate participate participate participate participate participate participate 

[START] woman bright [END] NIL NIL NIL NIL NIL
participate participate participate participate participate participate participate participate participate 

[START] man woman [END] NIL NIL NIL NIL NIL
participate participate participate participate participate participate participate participate participate 

[START] golden dog running [END] NIL NIL NIL NIL
participate participate participate participate participate participate participate participate participate 

[START] mother decides take child [END] NIL NIL NIL
participate participate participate participate participate participate participate participate participate 

[START] girl jumps [END] NIL NIL NIL NIL NIL
participate participate participate participate participate participate participate participate participate 

[START] model revealing drawing [END] NIL NIL NIL NIL
participate participate participate participate participate participate participate participate participate 

Epoch:1, Iteration: 380, Loss: 156.18, TimeElapsed: 36.71Min
Working (10, 200) torch.Size([10, 9])
Normal torch.Size([10, 9]) torch.Size([10, 9, 2512])
[START] two women standing snow talking [END] NIL NIL
[START] gold gold gold gold gold gold gold gold 

[START] man jeans sitting [END] NIL NIL NIL NIL
[START] gold gold gold gold gold gold gold gold 

[START] human figure nature like costume [END] NIL NIL
[START] gold gold gold gold gold gold gold gold 

[START] several fans walking around outside [END] NIL NIL
[START] gold gold gold gold gold gold gold gold 

[START] man gray [END] NIL NIL NIL NIL NIL
[START] gold gold gold gold gold gold gold gold 

[START] boy running [END] NIL NIL NIL NIL NIL
[START] gold gold gold gold gold gold gold gold 

[START] heavy woman wearing [END] NIL NIL NIL NIL
[START] gold gold gold gold gold gold gold gold 

[START] young child learns art [END] NIL NIL NIL
[START] gold gold gold gold gold gold gold gold 

[START] lady green [END] NIL NIL NIL NIL NIL
[START] gold gold gold gold gold gold gold gold 

[START] tall man stirring [END] NIL NIL NIL NIL
[START] gold gold gold gold gold gold gold gold 

Epoch:1, Iteration: 381, Loss: 166.51, TimeElapsed: 36.75Min
Working (10, 200) torch.Size([10, 9])
Normal torch.Size([10, 9]) torch.Size([10, 9, 2512])
[START] one ball player watches helplessly another [END] NIL
[START] NIL NIL NIL NIL NIL NIL NIL NIL 

[START] group people walk [END] NIL NIL NIL NIL
[START] NIL NIL NIL NIL NIL NIL NIL NIL 

[START] young boy dressed cold weather [END] NIL NIL
[START] NIL NIL NIL NIL NIL NIL NIL NIL 

[START] 10 people venture go crosscountry [END] NIL NIL
[START] NIL NIL NIL NIL NIL NIL NIL NIL 

[START] two people dark jogging [END] NIL NIL NIL
[START] NIL NIL NIL NIL NIL NIL NIL NIL 

[START] little girl holding infant [END] NIL NIL NIL
[START] NIL NIL NIL NIL NIL NIL NIL NIL 

[START] three black men aprons [END] NIL NIL NIL
[START] NIL NIL NIL NIL NIL NIL NIL NIL 

[START] woman dressed green [END] NIL NIL NIL NIL
[START] NIL NIL NIL NIL NIL NIL NIL NIL 

[START] man white shirt [END] NIL NIL NIL NIL
[START] NIL NIL NIL NIL NIL NIL NIL NIL 

[START] gray dog climbing [END] NIL NIL NIL NIL
[START] NIL NIL NIL NIL NIL NIL NIL NIL 

Epoch:1, Iteration: 382, Loss: 162.55, TimeElapsed: 36.8Min
Working (10, 200) torch.Size([10, 9])
Normal torch.Size([10, 9]) torch.Size([10, 9, 2512])
[START] boy peers open [END] NIL NIL NIL NIL
[START] drink NIL NIL NIL NIL NIL NIL NIL 

[START] woman white [END] NIL NIL NIL NIL NIL
[START] drink NIL NIL NIL NIL NIL NIL NIL 

[START] people picking marsh [END] NIL NIL NIL NIL
[START] drink NIL NIL NIL NIL NIL NIL NIL 

[START] three man hi viz [END] NIL NIL NIL
[START] drink NIL NIL NIL NIL NIL NIL NIL 

[START] man wearing red [END] NIL NIL NIL NIL
[START] drink NIL NIL NIL NIL NIL NIL NIL 

[START] girl black shirt [END] NIL NIL NIL NIL
[START] drink NIL NIL NIL NIL NIL NIL NIL 

[START] two men woman playing cards [END] NIL NIL
[START] drink NIL NIL NIL NIL NIL NIL NIL 

[START] boy smiles standing front [END] NIL NIL NIL
[START] drink NIL NIL NIL NIL NIL NIL NIL 

[START] crane hoisting someone next [END] NIL NIL NIL
[START] drink NIL NIL NIL NIL NIL NIL NIL 

[START] little child hat [END] NIL NIL NIL NIL
[START] drink NIL NIL NIL NIL NIL NIL NIL 

Epoch:1, Iteration: 383, Loss: 129.92, TimeElapsed: 36.84Min
Working (10, 200) torch.Size([10, 9])
Normal torch.Size([10, 9]) torch.Size([10, 9, 2512])
[START] woman smiling holding [END] NIL NIL NIL NIL
[START] NIL NIL NIL NIL NIL NIL NIL NIL 

[START] brown dog running along side [END] NIL NIL
[START] NIL NIL NIL NIL NIL NIL NIL NIL 

[START] young asian girl [END] NIL NIL NIL NIL
[START] NIL NIL NIL NIL NIL NIL NIL NIL 

[START] group people white [END] NIL NIL NIL NIL
[START] NIL NIL NIL NIL NIL NIL NIL NIL 

[START] man [END] NIL NIL NIL NIL NIL NIL
[START] NIL NIL NIL NIL NIL NIL NIL NIL 

[START] man pink [END] NIL NIL NIL NIL NIL
[START] NIL NIL NIL NIL NIL NIL NIL NIL 

[START] woman passes [END] NIL NIL NIL NIL NIL
[START] NIL NIL NIL NIL NIL NIL NIL NIL 

[START] older couple walking [END] NIL NIL NIL NIL
[START] NIL NIL NIL NIL NIL NIL NIL NIL 

[START] skateboarder jump [END] NIL NIL NIL NIL NIL
[START] NIL NIL NIL NIL NIL NIL NIL NIL 

[START] skier carefully walks [END] NIL NIL NIL NIL
[START] NIL NIL NIL NIL NIL NIL NIL NIL 

Epoch:1, Iteration: 384, Loss: 87.62, TimeElapsed: 36.89Min
Working (10, 200) torch.Size([10, 9])
Normal torch.Size([10, 9]) torch.Size([10, 9, 2512])
[START] man gray [END] NIL NIL NIL NIL NIL
[START] checks NIL NIL NIL NIL NIL NIL NIL 

[START] lady black [END] NIL NIL NIL NIL NIL
[START] checks NIL NIL NIL NIL NIL NIL NIL 

[START] man woman kiss [END] NIL NIL NIL NIL
[START] checks NIL NIL NIL NIL NIL NIL NIL 

[START] person blue jeans holds yellow [END] NIL NIL
[START] checks NIL NIL NIL NIL NIL NIL NIL 

[START] woman black sports bra shorts [END] NIL NIL
[START] checks NIL NIL NIL NIL NIL NIL NIL 

[START] three people sitting [END] NIL NIL NIL NIL
[START] checks NIL NIL NIL NIL NIL NIL NIL 

[START] small boy wearing [END] NIL NIL NIL NIL
[START] checks NIL NIL NIL NIL NIL NIL NIL 

[START] man heavy [END] NIL NIL NIL NIL NIL
[START] checks NIL NIL NIL NIL NIL NIL NIL 

[START] person throwing yellow ball [END] NIL NIL NIL
[START] checks NIL NIL NIL NIL NIL NIL NIL 

[START] kid red sweatshirt [END] NIL NIL NIL NIL
[START] checks NIL NIL NIL NIL NIL NIL NIL 

Epoch:1, Iteration: 385, Loss: 126.0, TimeElapsed: 36.93Min
Working (10, 200) torch.Size([10, 9])
Normal torch.Size([10, 9]) torch.Size([10, 9, 2512])
[START] boy taking stick [END] NIL NIL NIL NIL
[START] man NIL NIL NIL NIL NIL NIL NIL 

[START] skater boy trick [END] NIL NIL NIL NIL
[START] man NIL NIL NIL NIL NIL NIL NIL 

[START] coach referee [END] NIL NIL NIL NIL NIL
[START] man NIL NIL NIL NIL NIL NIL NIL 

[START] small asian girl runs [END] NIL NIL NIL
[START] man NIL NIL NIL NIL NIL NIL NIL 

[START] little boy playing [END] NIL NIL NIL NIL
[START] man NIL NIL NIL NIL NIL NIL NIL 

[START] two people run sand [END] NIL NIL NIL
[START] man NIL NIL NIL NIL NIL NIL NIL 

[START] man business suit [END] NIL NIL NIL NIL
[START] man NIL NIL NIL NIL NIL NIL NIL 

[START] man [END] NIL NIL NIL NIL NIL NIL
[START] man NIL NIL NIL NIL NIL NIL NIL 

[START] two kids climbing pole [END] NIL NIL NIL
[START] man NIL NIL NIL NIL NIL NIL NIL 

[START] man standing amidst crowd [END] NIL NIL NIL
[START] man NIL NIL NIL NIL NIL NIL NIL 

Epoch:1, Iteration: 386, Loss: 123.18, TimeElapsed: 36.97Min
Working (10, 200) torch.Size([10, 9])
Normal torch.Size([10, 9]) torch.Size([10, 9, 2512])
[START] people fun [END] NIL NIL NIL NIL NIL
[START] two motorcycles motorcycles motorcycles motorcycles motorcycles motorcycles motorcycles 

[START] two people perform stage [END] NIL NIL NIL
[START] two motorcycles motorcycles motorcycles motorcycles motorcycles motorcycles motorcycles 

[START] someone jump [END] NIL NIL NIL NIL NIL
[START] two motorcycles motorcycles motorcycles motorcycles motorcycles motorcycles motorcycles 

[START] young flower girl [END] NIL NIL NIL NIL
[START] two motorcycles motorcycles motorcycles motorcycles motorcycles motorcycles motorcycles 

[START] man lounges [END] NIL NIL NIL NIL NIL
[START] two motorcycles motorcycles motorcycles motorcycles motorcycles motorcycles motorcycles 

[START] baby wearing white swinging [END] NIL NIL NIL
[START] two motorcycles motorcycles motorcycles motorcycles motorcycles motorcycles motorcycles 

[START] runner carries olympic torch [END] NIL NIL NIL
[START] two motorcycles motorcycles motorcycles motorcycles motorcycles motorcycles motorcycles 

[START] boy dressed soccer attire [END] NIL NIL NIL
[START] two motorcycles motorcycles motorcycles motorcycles motorcycles motorcycles motorcycles 

[START] man wearing shorts [END] NIL NIL NIL NIL
[START] two motorcycles motorcycles motorcycles motorcycles motorcycles motorcycles motorcycles 

[START] man cooking something [END] NIL NIL NIL NIL
[START] two motorcycles motorcycles motorcycles motorcycles motorcycles motorcycles motorcycles 

Epoch:1, Iteration: 387, Loss: 170.17, TimeElapsed: 37.02Min
Working (10, 200) torch.Size([10, 9])
Normal torch.Size([10, 9]) torch.Size([10, 9, 2512])
[START] little girl flower [END] NIL NIL NIL NIL
[START] two [END] [END] [END] [END] [END] [END] [END] 

[START] person white [END] NIL NIL NIL NIL NIL
[START] two [END] [END] [END] [END] [END] [END] [END] 

[START] white dog [END] NIL NIL NIL NIL NIL
[START] two [END] [END] [END] [END] [END] [END] [END] 

[START] male trick [END] NIL NIL NIL NIL NIL
[START] two [END] [END] [END] [END] [END] [END] [END] 

[START] female yellow wearing surgical [END] NIL NIL NIL
[START] two [END] [END] [END] [END] [END] [END] [END] 

[START] woman pulls dog [END] NIL NIL NIL NIL
[START] two [END] [END] [END] [END] [END] [END] [END] 

[START] man woman standing close [END] NIL NIL NIL
[START] two [END] [END] [END] [END] [END] [END] [END] 

[START] dog running fast sand [END] NIL NIL NIL
[START] two [END] [END] [END] [END] [END] [END] [END] 

[START] wrinkled hands work [END] NIL NIL NIL NIL
[START] two [END] [END] [END] [END] [END] [END] [END] 

[START] white fluffy dog [END] NIL NIL NIL NIL
[START] two [END] [END] [END] [END] [END] [END] [END] 

Epoch:1, Iteration: 388, Loss: 138.8, TimeElapsed: 37.08Min
Working (10, 200) torch.Size([10, 9])
Normal torch.Size([10, 9]) torch.Size([10, 9, 2512])
[START] three old ladies walking [END] NIL NIL NIL
[START] woman man [END] [END] [END] [END] [END] [END] 

[START] group people walk [END] NIL NIL NIL NIL
[START] woman man [END] [END] [END] [END] [END] [END] 

[START] two little boys climbing [END] NIL NIL NIL
[START] woman man [END] [END] [END] [END] [END] [END] 

[START] four people working blue legal [END] NIL NIL
[START] woman man [END] [END] [END] [END] [END] [END] 

[START] man woman [END] NIL NIL NIL NIL NIL
[START] woman man [END] [END] [END] [END] [END] [END] 

[START] shirtless man brown [END] NIL NIL NIL NIL
[START] woman man [END] [END] [END] [END] [END] [END] 

[START] man intently observing slide [END] NIL NIL NIL
[START] woman man [END] [END] [END] [END] [END] [END] 

[START] young girl fully dresses [END] NIL NIL NIL
[START] woman man [END] [END] [END] [END] [END] [END] 

[START] indian man wearing white cloth around waist [END]
[START] woman man [END] [END] [END] [END] [END] [END] 

[START] woman holding drink [END] NIL NIL NIL NIL
[START] woman man [END] [END] [END] [END] [END] [END] 

Epoch:1, Iteration: 389, Loss: 171.57, TimeElapsed: 37.13Min
Working (10, 200) torch.Size([10, 9])
Normal torch.Size([10, 9]) torch.Size([10, 9, 2512])
[START] china mall many shoppers [END] NIL NIL NIL
[START] man man man man man man man man 

[START] creek winds woods [END] NIL NIL NIL NIL
[START] man man man man man man man man 

[START] boy holds red [END] NIL NIL NIL NIL
[START] man man man man man man man man 

[START] room full people facing [END] NIL NIL NIL
[START] man man man man man man man man 

[START] young boy black [END] NIL NIL NIL NIL
[START] man man man man man man man man 

[START] man wearing yellow [END] NIL NIL NIL NIL
[START] man man man man man man man man 

[START] football player wearing number 8 standing [END] NIL
[START] man man man man man man man man 

[START] boy school uniform riding [END] NIL NIL NIL
[START] man man man man man man man man 

[START] three men enjoying watching [END] NIL NIL NIL
[START] man man man man man man man man 

[START] man barbecuing backyard [END] NIL NIL NIL NIL
[START] man man man man man man man man 

Epoch:1, Iteration: 390, Loss: 188.69, TimeElapsed: 37.19Min
Working (10, 200) torch.Size([10, 9])
Normal torch.Size([10, 9]) torch.Size([10, 9, 2512])
[START] white conditions [END] NIL NIL NIL NIL NIL
[START] person lady NIL NIL NIL NIL NIL NIL 

[START] boy flips [END] NIL NIL NIL NIL NIL
[START] person lady NIL NIL NIL NIL NIL NIL 

[START] man suit [END] NIL NIL NIL NIL NIL
[START] person lady NIL NIL NIL NIL NIL NIL 

[START] man dressed [END] NIL NIL NIL NIL NIL
[START] person lady NIL NIL NIL NIL NIL NIL 

[START] child plays ground [END] NIL NIL NIL NIL
[START] person lady NIL NIL NIL NIL NIL NIL 

[START] man sweater looking [END] NIL NIL NIL NIL
[START] person lady NIL NIL NIL NIL NIL NIL 

[START] man dog [END] NIL NIL NIL NIL NIL
[START] person lady NIL NIL NIL NIL NIL NIL 

[START] man swings tennis racquet [END] NIL NIL NIL
[START] person lady NIL NIL NIL NIL NIL NIL 

[START] lady looks sky [END] NIL NIL NIL NIL
[START] person lady NIL NIL NIL NIL NIL NIL 

[START] group adults [END] NIL NIL NIL NIL NIL
[START] person lady NIL NIL NIL NIL NIL NIL 

Epoch:1, Iteration: 391, Loss: 126.18, TimeElapsed: 37.24Min
Working (10, 200) torch.Size([10, 9])
Normal torch.Size([10, 9]) torch.Size([10, 9, 2512])
[START] woman nice [END] NIL NIL NIL NIL NIL
[START] fast fast fast NIL NIL NIL NIL NIL 

[START] band appears playing bluegrass music [END] NIL NIL
[START] fast fast fast NIL NIL NIL NIL NIL 

[START] two toddlers stroller [END] NIL NIL NIL NIL
[START] fast fast fast NIL NIL NIL NIL NIL 

[START] teenage girl blue shirt wears [END] NIL NIL
[START] fast fast fast NIL NIL NIL NIL NIL 

[START] person wearing large brimmed hat [END] NIL NIL
[START] fast fast fast NIL NIL NIL NIL NIL 

[START] two small children playing [END] NIL NIL NIL
[START] fast fast fast NIL NIL NIL NIL NIL 

[START] buddhist monk mopping dirty [END] NIL NIL NIL
[START] fast fast fast NIL NIL NIL NIL NIL 

[START] varied crowd mills [END] NIL NIL NIL NIL
[START] fast fast fast NIL NIL NIL NIL NIL 

[START] large city many people [END] NIL NIL NIL
[START] fast fast fast NIL NIL NIL NIL NIL 

[START] three kids gather around [END] NIL NIL NIL
[START] fast fast fast NIL NIL NIL NIL NIL 

Epoch:1, Iteration: 392, Loss: 241.83, TimeElapsed: 37.29Min
Working (10, 200) torch.Size([10, 9])
Normal torch.Size([10, 9]) torch.Size([10, 9, 2512])
[START] several people standing near [END] NIL NIL NIL
[START] little wearing NIL NIL NIL NIL NIL NIL 

[START] man white [END] NIL NIL NIL NIL NIL
[START] little wearing NIL NIL NIL NIL NIL NIL 

[START] young children follow old cement path [END] NIL
[START] little wearing NIL NIL NIL NIL NIL NIL 

[START] group friends pose photo [END] NIL NIL NIL
[START] little wearing NIL NIL NIL NIL NIL NIL 

[START] women members [END] NIL NIL NIL NIL NIL
[START] little wearing NIL NIL NIL NIL NIL NIL 

[START] baseball player sliding across home [END] NIL NIL
[START] little wearing NIL NIL NIL NIL NIL NIL 

[START] man taking bath [END] NIL NIL NIL NIL
[START] little wearing NIL NIL NIL NIL NIL NIL 

[START] group constructions workers [END] NIL NIL NIL NIL
[START] little wearing NIL NIL NIL NIL NIL NIL 

[START] hiker shadowed time [END] NIL NIL NIL NIL
[START] little wearing NIL NIL NIL NIL NIL NIL 

[START] african dressmaker puts finishing [END] NIL NIL NIL
[START] little wearing NIL NIL NIL NIL NIL NIL 

Epoch:1, Iteration: 393, Loss: 219.76, TimeElapsed: 37.35Min
Working (10, 200) torch.Size([10, 9])
Normal torch.Size([10, 9]) torch.Size([10, 9, 2512])
[START] boy bathing trunks [END] NIL NIL NIL NIL
[START] people NIL NIL NIL NIL NIL NIL NIL 

[START] woman tattoos [END] NIL NIL NIL NIL NIL
[START] people NIL NIL NIL NIL NIL NIL NIL 

[START] man swimming river [END] NIL NIL NIL NIL
[START] people NIL NIL NIL NIL NIL NIL NIL 

[START] two women sitting ground knitting [END] NIL NIL
[START] people NIL NIL NIL NIL NIL NIL NIL 

[START] man green [END] NIL NIL NIL NIL NIL
[START] people NIL NIL NIL NIL NIL NIL NIL 

[START] 3 young boys riding [END] NIL NIL NIL
[START] people NIL NIL NIL NIL NIL NIL NIL 

[START] two people bench [END] NIL NIL NIL NIL
[START] people NIL NIL NIL NIL NIL NIL NIL 

[START] man stage [END] NIL NIL NIL NIL NIL
[START] people NIL NIL NIL NIL NIL NIL NIL 

[START] person jet [END] NIL NIL NIL NIL NIL
[START] people NIL NIL NIL NIL NIL NIL NIL 

[START] boy wearing white [END] NIL NIL NIL NIL
[START] people NIL NIL NIL NIL NIL NIL NIL 

Epoch:1, Iteration: 394, Loss: 116.83, TimeElapsed: 37.41Min
Working (10, 200) torch.Size([10, 9])
Normal torch.Size([10, 9]) torch.Size([10, 9, 2512])
[START] two boys try attach fruits [END] NIL NIL
[START] jump jump jump jump jump jump jump jump 

[START] brown horse [END] NIL NIL NIL NIL NIL
[START] jump jump jump jump jump jump jump jump 

[START] group men converse [END] NIL NIL NIL NIL
[START] jump jump jump jump jump jump jump jump 

[START] man striped [END] NIL NIL NIL NIL NIL
[START] jump jump jump jump jump jump jump jump 

[START] celtic marching bands performs [END] NIL NIL NIL
[START] jump jump jump jump jump jump jump jump 

[START] young boy climbs spiral [END] NIL NIL NIL
[START] jump jump jump jump jump jump jump jump 

[START] young boy blue [END] NIL NIL NIL NIL
[START] jump jump jump jump jump jump jump jump 

[START] masked person [END] NIL NIL NIL NIL NIL
[START] jump jump jump jump jump jump jump jump 

[START] woman blue tank top [END] NIL NIL NIL
[START] jump jump jump jump jump jump jump jump 

[START] two girls facing one [END] NIL NIL NIL
[START] jump jump jump jump jump jump jump jump 

Epoch:1, Iteration: 395, Loss: 190.69, TimeElapsed: 37.48Min
Working (10, 200) torch.Size([10, 9])
Normal torch.Size([10, 9]) torch.Size([10, 9, 2512])
[START] man bright jacket mowing [END] NIL NIL NIL
[START] sliding sliding sliding sliding sliding sliding sliding sliding 

[START] two men playing guitar [END] NIL NIL NIL
[START] sliding sliding sliding sliding sliding sliding sliding sliding 

[START] parade drummer playing [END] NIL NIL NIL NIL
[START] sliding sliding sliding sliding sliding sliding sliding sliding 

[START] woman plays guitar [END] NIL NIL NIL NIL
[START] sliding sliding sliding sliding sliding sliding sliding sliding 

[START] female basketball player shooting free throw [END] NIL
[START] sliding sliding sliding sliding sliding sliding sliding sliding 

[START] man sweeping street [END] NIL NIL NIL NIL
[START] sliding sliding sliding sliding sliding sliding sliding sliding 

[START] members brass band [END] NIL NIL NIL NIL
[START] sliding sliding sliding sliding sliding sliding sliding sliding 

[START] baby wears green frog big [END] NIL NIL
[START] sliding sliding sliding sliding sliding sliding sliding sliding 

[START] small boy wearing diaper stands near [END] NIL
[START] sliding sliding sliding sliding sliding sliding sliding sliding 

[START] bicyclist jumping [END] NIL NIL NIL NIL NIL
[START] sliding sliding sliding sliding sliding sliding sliding sliding 

Epoch:1, Iteration: 396, Loss: 199.38, TimeElapsed: 37.54Min
Working (10, 200) torch.Size([10, 9])
Normal torch.Size([10, 9]) torch.Size([10, 9, 2512])
[START] rider red [END] NIL NIL NIL NIL NIL
[START] members members members members members members members members 

[START] photographer shoots small family surrounded [END] NIL NIL
[START] members members members members members members members members 

[START] two men wearing black shirts [END] NIL NIL
[START] members members members members members members members members 

[START] professional bicyclist hopping outside [END] NIL NIL NIL
[START] members members members members members members members members 

[START] lot chinese people standing [END] NIL NIL NIL
[START] members members members members members members members members 

[START] woman getting fortune [END] NIL NIL NIL NIL
[START] members members members members members members members members 

[START] woman stands behind cash register [END] NIL NIL
[START] members members members members members members members members 

[START] golden retreiver standing outside [END] NIL NIL NIL
[START] members members members members members members members members 

[START] party reunion someones house [END] NIL NIL NIL
[START] members members members members members members members members 

[START] child sitting carousel horse [END] NIL NIL NIL
[START] members members members members members members members members 

Epoch:1, Iteration: 397, Loss: 246.95, TimeElapsed: 37.58Min
Working (10, 200) torch.Size([10, 9])
Normal torch.Size([10, 9]) torch.Size([10, 9, 2512])
[START] man light brown [END] NIL NIL NIL NIL
[START] kids kids NIL NIL NIL NIL NIL NIL 

[START] chubby woman wearing [END] NIL NIL NIL NIL
[START] kids kids NIL NIL NIL NIL NIL NIL 

[START] large green peaceful protest [END] NIL NIL NIL
[START] kids kids NIL NIL NIL NIL NIL NIL 

[START] dance studio dancers [END] NIL NIL NIL NIL
[START] kids kids NIL NIL NIL NIL NIL NIL 

[START] man using pink rope [END] NIL NIL NIL
[START] kids kids NIL NIL NIL NIL NIL NIL 

[START] tree man tree [END] NIL NIL NIL NIL
[START] kids kids NIL NIL NIL NIL NIL NIL 

[START] man rides sled pulled [END] NIL NIL NIL
[START] kids kids NIL NIL NIL NIL NIL NIL 

[START] black dog carries [END] NIL NIL NIL NIL
[START] kids kids NIL NIL NIL NIL NIL NIL 

[START] child reaches [END] NIL NIL NIL NIL NIL
[START] kids kids NIL NIL NIL NIL NIL NIL 

[START] black dog swims [END] NIL NIL NIL NIL
[START] kids kids NIL NIL NIL NIL NIL NIL 

Epoch:1, Iteration: 398, Loss: 146.55, TimeElapsed: 37.63Min
Working (10, 200) torch.Size([10, 9])
Normal torch.Size([10, 9]) torch.Size([10, 9, 2512])
[START] two men standing outdoors [END] NIL NIL NIL
[START] boy NIL NIL NIL NIL NIL NIL NIL 

[START] five men restaurant [END] NIL NIL NIL NIL
[START] boy NIL NIL NIL NIL NIL NIL NIL 

[START] man white [END] NIL NIL NIL NIL NIL
[START] boy NIL NIL NIL NIL NIL NIL NIL 

[START] guy works [END] NIL NIL NIL NIL NIL
[START] boy NIL NIL NIL NIL NIL NIL NIL 

[START] young students playing musical [END] NIL NIL NIL
[START] boy NIL NIL NIL NIL NIL NIL NIL 

[START] two men enter [END] NIL NIL NIL NIL
[START] boy NIL NIL NIL NIL NIL NIL NIL 

[START] bicyclist green shirt [END] NIL NIL NIL NIL
[START] boy NIL NIL NIL NIL NIL NIL NIL 

[START] four people subway [END] NIL NIL NIL NIL
[START] boy NIL NIL NIL NIL NIL NIL NIL 

[START] lone skier making [END] NIL NIL NIL NIL
[START] boy NIL NIL NIL NIL NIL NIL NIL 

[START] dog running [END] NIL NIL NIL NIL NIL
[START] boy NIL NIL NIL NIL NIL NIL NIL 

Epoch:1, Iteration: 399, Loss: 99.63, TimeElapsed: 37.67Min
Working (10, 200) torch.Size([10, 9])
Normal torch.Size([10, 9]) torch.Size([10, 9, 2512])
[START] person giving directions crowd [END] NIL NIL NIL
[START] boy NIL NIL NIL NIL NIL NIL NIL 

[START] lady ask dog [END] NIL NIL NIL NIL
[START] boy NIL NIL NIL NIL NIL NIL NIL 

[START] two women ascend telephone pole [END] NIL NIL
[START] boy NIL NIL NIL NIL NIL NIL NIL 

[START] group people gathered [END] NIL NIL NIL NIL
[START] boy NIL NIL NIL NIL NIL NIL NIL 

[START] young girl holds hair [END] NIL NIL NIL
[START] boy NIL NIL NIL NIL NIL NIL NIL 

[START] children playing cricket [END] NIL NIL NIL NIL
[START] boy NIL NIL NIL NIL NIL NIL NIL 

[START] young woman dressed [END] NIL NIL NIL NIL
[START] boy NIL NIL NIL NIL NIL NIL NIL 

[START] man woman rest [END] NIL NIL NIL NIL
[START] boy NIL NIL NIL NIL NIL NIL NIL 

[START] older woman latex [END] NIL NIL NIL NIL
[START] boy NIL NIL NIL NIL NIL NIL NIL 

[START] young boy wearing black [END] NIL NIL NIL
[START] boy NIL NIL NIL NIL NIL NIL NIL 

Epoch:1, Iteration: 400, Loss: 150.1, TimeElapsed: 37.73Min
Working (10, 200) torch.Size([10, 9])
Normal torch.Size([10, 9]) torch.Size([10, 9, 2512])
[START] german shepherd dog running [END] NIL NIL NIL
[START] young NIL NIL NIL NIL NIL NIL NIL 

[START] person riding [END] NIL NIL NIL NIL NIL
[START] young NIL NIL NIL NIL NIL NIL NIL 

[START] woman red hat sits [END] NIL NIL NIL
[START] young NIL NIL NIL NIL NIL NIL NIL 

[START] four young ladies talking together [END] NIL NIL
[START] young NIL NIL NIL NIL NIL NIL NIL 

[START] men wearing black shirts [END] NIL NIL NIL
[START] young NIL NIL NIL NIL NIL NIL NIL 

[START] man black hat [END] NIL NIL NIL NIL
[START] young NIL NIL NIL NIL NIL NIL NIL 

[START] western hobo clown wears [END] NIL NIL NIL
[START] young NIL NIL NIL NIL NIL NIL NIL 

[START] men trying sell [END] NIL NIL NIL NIL
[START] young NIL NIL NIL NIL NIL NIL NIL 

[START] man woman starting gardening project [END] NIL NIL
[START] young NIL NIL NIL NIL NIL NIL NIL 

[START] four children floor looking [END] NIL NIL NIL
[START] young NIL NIL NIL NIL NIL NIL NIL 

Epoch:1, Iteration: 401, Loss: 194.96, TimeElapsed: 37.77Min
Working (10, 200) torch.Size([10, 9])
Normal torch.Size([10, 9]) torch.Size([10, 9, 2512])
[START] large furry dog walking [END] NIL NIL NIL
[START] parade parade parade parade parade parade parade parade 

[START] man standing arms [END] NIL NIL NIL NIL
[START] parade parade parade parade parade parade parade parade 

[START] man long [END] NIL NIL NIL NIL NIL
[START] parade parade parade parade parade parade parade parade 

[START] man holding guitar works [END] NIL NIL NIL
[START] parade parade parade parade parade parade parade parade 

[START] girl blue [END] NIL NIL NIL NIL NIL
[START] parade parade parade parade parade parade parade parade 

[START] man child yellow [END] NIL NIL NIL NIL
[START] parade parade parade parade parade parade parade parade 

[START] red haired woman white top [END] NIL NIL
[START] parade parade parade parade parade parade parade parade 

[START] group people [END] NIL NIL NIL NIL NIL
[START] parade parade parade parade parade parade parade parade 

[START] beautiful brunette woman draped purple blue [END] NIL
[START] parade parade parade parade parade parade parade parade 

[START] repairman working [END] NIL NIL NIL NIL NIL
[START] parade parade parade parade parade parade parade parade 

Epoch:1, Iteration: 402, Loss: 131.27, TimeElapsed: 37.83Min
Working (10, 200) torch.Size([10, 9])
Normal torch.Size([10, 9]) torch.Size([10, 9, 2512])
[START] two children [END] NIL NIL NIL NIL NIL
[START] two [END] [END] [END] [END] [END] [END] [END] 

[START] man bicycle [END] NIL NIL NIL NIL NIL
[START] two [END] [END] [END] [END] [END] [END] [END] 

[START] dog kicking dirt [END] NIL NIL NIL NIL
[START] two [END] [END] [END] [END] [END] [END] [END] 

[START] couple man woman [END] NIL NIL NIL NIL
[START] two [END] [END] [END] [END] [END] [END] [END] 

[START] women standing outside [END] NIL NIL NIL NIL
[START] two [END] [END] [END] [END] [END] [END] [END] 

[START] man shirt [END] NIL NIL NIL NIL NIL
[START] two [END] [END] [END] [END] [END] [END] [END] 

[START] lady wearing blue dress earrings [END] NIL NIL
[START] two [END] [END] [END] [END] [END] [END] [END] 

[START] woman jogging [END] NIL NIL NIL NIL NIL
[START] two [END] [END] [END] [END] [END] [END] [END] 

[START] man sits [END] NIL NIL NIL NIL NIL
[START] two [END] [END] [END] [END] [END] [END] [END] 

[START] two women sitting [END] NIL NIL NIL NIL
[START] two [END] [END] [END] [END] [END] [END] [END] 

Epoch:1, Iteration: 403, Loss: 81.2, TimeElapsed: 37.88Min
Working (10, 200) torch.Size([10, 9])
Normal torch.Size([10, 9]) torch.Size([10, 9, 2512])
[START] construction site building [END] NIL NIL NIL NIL
[START] reaches reaches reaches reaches reaches reaches reaches reaches 

[START] man sitting [END] NIL NIL NIL NIL NIL
[START] reaches reaches reaches reaches reaches reaches reaches reaches 

[START] three young girls standing [END] NIL NIL NIL
[START] reaches reaches reaches reaches reaches reaches reaches reaches 

[START] boy gray hooded sweater looking [END] NIL NIL
[START] reaches reaches reaches reaches reaches reaches reaches reaches 

[START] man blue using tool [END] NIL NIL NIL
[START] reaches reaches reaches reaches reaches reaches reaches reaches 

[START] firefighters converse man [END] NIL NIL NIL NIL
[START] reaches reaches reaches reaches reaches reaches reaches reaches 

[START] boy gray [END] NIL NIL NIL NIL NIL
[START] reaches reaches reaches reaches reaches reaches reaches reaches 

[START] man black posing [END] NIL NIL NIL NIL
[START] reaches reaches reaches reaches reaches reaches reaches reaches 

[START] police officer trains [END] NIL NIL NIL NIL
[START] reaches reaches reaches reaches reaches reaches reaches reaches 

[START] several people two bikes gathered [END] NIL NIL
[START] reaches reaches reaches reaches reaches reaches reaches reaches 

Epoch:1, Iteration: 404, Loss: 151.87, TimeElapsed: 37.94Min
Working (10, 200) torch.Size([10, 9])
Normal torch.Size([10, 9]) torch.Size([10, 9, 2512])
[START] man motorcycle [END] NIL NIL NIL NIL NIL
[START] men NIL NIL NIL NIL NIL NIL NIL 

[START] girl tries move luggage [END] NIL NIL NIL
[START] men NIL NIL NIL NIL NIL NIL NIL 

[START] two dogs playing [END] NIL NIL NIL NIL
[START] men NIL NIL NIL NIL NIL NIL NIL 

[START] couple looking downriver [END] NIL NIL NIL NIL
[START] men NIL NIL NIL NIL NIL NIL NIL 

[START] man blue [END] NIL NIL NIL NIL NIL
[START] men NIL NIL NIL NIL NIL NIL NIL 

[START] red car number seven [END] NIL NIL NIL
[START] men NIL NIL NIL NIL NIL NIL NIL 

[START] man throwing another around [END] NIL NIL NIL
[START] men NIL NIL NIL NIL NIL NIL NIL 

[START] little girl sitting [END] NIL NIL NIL NIL
[START] men NIL NIL NIL NIL NIL NIL NIL 

[START] woman opening gift [END] NIL NIL NIL NIL
[START] men NIL NIL NIL NIL NIL NIL NIL 

[START] woman red [END] NIL NIL NIL NIL NIL
[START] men NIL NIL NIL NIL NIL NIL NIL 

Epoch:1, Iteration: 405, Loss: 125.78, TimeElapsed: 37.99Min
Working (10, 200) torch.Size([10, 9])
Normal torch.Size([10, 9]) torch.Size([10, 9, 2512])
[START] number 2 dog blue vest [END] NIL NIL
[START] group NIL NIL NIL NIL NIL NIL NIL 

[START] women playing ultimate frisbee [END] NIL NIL NIL
[START] group NIL NIL NIL NIL NIL NIL NIL 

[START] man stands among cement fixtures [END] NIL NIL
[START] group NIL NIL NIL NIL NIL NIL NIL 

[START] someone holding tan [END] NIL NIL NIL NIL
[START] group NIL NIL NIL NIL NIL NIL NIL 

[START] woman holding hand [END] NIL NIL NIL NIL
[START] group NIL NIL NIL NIL NIL NIL NIL 

[START] man green shirt [END] NIL NIL NIL NIL
[START] group NIL NIL NIL NIL NIL NIL NIL 

[START] man prepping paint [END] NIL NIL NIL NIL
[START] group NIL NIL NIL NIL NIL NIL NIL 

[START] man woman [END] NIL NIL NIL NIL NIL
[START] group NIL NIL NIL NIL NIL NIL NIL 

[START] five people standing [END] NIL NIL NIL NIL
[START] group NIL NIL NIL NIL NIL NIL NIL 

[START] small street [END] NIL NIL NIL NIL NIL
[START] group NIL NIL NIL NIL NIL NIL NIL 

Epoch:1, Iteration: 406, Loss: 130.95, TimeElapsed: 38.04Min
Working (10, 200) torch.Size([10, 9])
Normal torch.Size([10, 9]) torch.Size([10, 9, 2512])
[START] girl smiles holding bike [END] NIL NIL NIL
[START] girl NIL NIL NIL NIL NIL NIL NIL 

[START] man woman sitting [END] NIL NIL NIL NIL
[START] girl NIL NIL NIL NIL NIL NIL NIL 

[START] two men stand outdoors looking [END] NIL NIL
[START] girl NIL NIL NIL NIL NIL NIL NIL 

[START] two blond boys one camouflage shirt [END] NIL
[START] girl NIL NIL NIL NIL NIL NIL NIL 

[START] man girl [END] NIL NIL NIL NIL NIL
[START] girl NIL NIL NIL NIL NIL NIL NIL 

[START] girl carries lot grass [END] NIL NIL NIL
[START] girl NIL NIL NIL NIL NIL NIL NIL 

[START] football players stretching together [END] NIL NIL NIL
[START] girl NIL NIL NIL NIL NIL NIL NIL 

[START] man looking [END] NIL NIL NIL NIL NIL
[START] girl NIL NIL NIL NIL NIL NIL NIL 

[START] dog runs snow [END] NIL NIL NIL NIL
[START] girl NIL NIL NIL NIL NIL NIL NIL 

[START] man walking [END] NIL NIL NIL NIL NIL
[START] girl NIL NIL NIL NIL NIL NIL NIL 

Epoch:1, Iteration: 407, Loss: 103.94, TimeElapsed: 38.09Min
Working (10, 200) torch.Size([10, 9])
Normal torch.Size([10, 9]) torch.Size([10, 9, 2512])
[START] black dog holding old [END] NIL NIL NIL
[START] woman NIL NIL NIL NIL NIL NIL NIL 

[START] man blond hair [END] NIL NIL NIL NIL
[START] woman NIL NIL NIL NIL NIL NIL NIL 

[START] young person playing ice [END] NIL NIL NIL
[START] woman NIL NIL NIL NIL NIL NIL NIL 

[START] older gentleman working [END] NIL NIL NIL NIL
[START] woman NIL NIL NIL NIL NIL NIL NIL 

[START] atlanta braves baseball player walking [END] NIL NIL
[START] woman NIL NIL NIL NIL NIL NIL NIL 

[START] couple sits park bench [END] NIL NIL NIL
[START] woman NIL NIL NIL NIL NIL NIL NIL 

[START] man green shirt hailing [END] NIL NIL NIL
[START] woman NIL NIL NIL NIL NIL NIL NIL 

[START] middle aged lady holds [END] NIL NIL NIL
[START] woman NIL NIL NIL NIL NIL NIL NIL 

[START] three dogs run [END] NIL NIL NIL NIL
[START] woman NIL NIL NIL NIL NIL NIL NIL 

[START] shirtless toned white [END] NIL NIL NIL NIL
[START] woman NIL NIL NIL NIL NIL NIL NIL 

Epoch:1, Iteration: 408, Loss: 180.32, TimeElapsed: 38.13Min
Working (10, 200) torch.Size([10, 9])
Normal torch.Size([10, 9]) torch.Size([10, 9, 2512])
[START] many people crowded sort [END] NIL NIL NIL
[START] woman [END] [END] [END] [END] [END] [END] [END] 

[START] skateboarder wearing blue flannel [END] NIL NIL NIL
[START] woman [END] [END] [END] [END] [END] [END] [END] 

[START] woman wearing rolled jeans passing [END] NIL NIL
[START] woman [END] [END] [END] [END] [END] [END] [END] 

[START] surfer wave [END] NIL NIL NIL NIL NIL
[START] woman [END] [END] [END] [END] [END] [END] [END] 

[START] little girl takes [END] NIL NIL NIL NIL
[START] woman [END] [END] [END] [END] [END] [END] [END] 

[START] man camouflage [END] NIL NIL NIL NIL NIL
[START] woman [END] [END] [END] [END] [END] [END] [END] 

[START] black white dog [END] NIL NIL NIL NIL
[START] woman [END] [END] [END] [END] [END] [END] [END] 

[START] man white shirt [END] NIL NIL NIL NIL
[START] woman [END] [END] [END] [END] [END] [END] [END] 

[START] truck crashed [END] NIL NIL NIL NIL NIL
[START] woman [END] [END] [END] [END] [END] [END] [END] 

[START] children playing stopped motion [END] NIL NIL NIL
[START] woman [END] [END] [END] [END] [END] [END] [END] 

Epoch:1, Iteration: 409, Loss: 170.97, TimeElapsed: 38.18Min
Working (10, 200) torch.Size([10, 9])
Normal torch.Size([10, 9]) torch.Size([10, 9, 2512])
[START] people stand colorful balcony [END] NIL NIL NIL
[START] woman [END] [END] [END] [END] [END] [END] [END] 

[START] line fishbowls sides [END] NIL NIL NIL NIL
[START] woman [END] [END] [END] [END] [END] [END] [END] 

[START] guy leaps air [END] NIL NIL NIL NIL
[START] woman [END] [END] [END] [END] [END] [END] [END] 

[START] two women standing next [END] NIL NIL NIL
[START] woman [END] [END] [END] [END] [END] [END] [END] 

[START] football player red [END] NIL NIL NIL NIL
[START] woman [END] [END] [END] [END] [END] [END] [END] 

[START] young women retreat [END] NIL NIL NIL NIL
[START] woman [END] [END] [END] [END] [END] [END] [END] 

[START] opening presents around christmas tree [END] NIL NIL
[START] woman [END] [END] [END] [END] [END] [END] [END] 

[START] man holding tongs stands [END] NIL NIL NIL
[START] woman [END] [END] [END] [END] [END] [END] [END] 

[START] man hikes alone large [END] NIL NIL NIL
[START] woman [END] [END] [END] [END] [END] [END] [END] 

[START] two men orange coveralls shovel [END] NIL NIL
[START] woman [END] [END] [END] [END] [END] [END] [END] 

Epoch:1, Iteration: 410, Loss: 212.73, TimeElapsed: 38.24Min
Working (10, 200) torch.Size([10, 9])
Normal torch.Size([10, 9]) torch.Size([10, 9, 2512])
[START] puppy plays adult [END] NIL NIL NIL NIL
[START] two NIL NIL NIL NIL NIL NIL NIL 

[START] gathering people eating [END] NIL NIL NIL NIL
[START] two NIL NIL NIL NIL NIL NIL NIL 

[START] woman sitting alone [END] NIL NIL NIL NIL
[START] two NIL NIL NIL NIL NIL NIL NIL 

[START] volleyball player [END] NIL NIL NIL NIL NIL
[START] two NIL NIL NIL NIL NIL NIL NIL 

[START] asian people walking work [END] NIL NIL NIL
[START] two NIL NIL NIL NIL NIL NIL NIL 

[START] group men woman [END] NIL NIL NIL NIL
[START] two NIL NIL NIL NIL NIL NIL NIL 

[START] two people fold parachute [END] NIL NIL NIL
[START] two NIL NIL NIL NIL NIL NIL NIL 

[START] woman wearing fire [END] NIL NIL NIL NIL
[START] two NIL NIL NIL NIL NIL NIL NIL 

[START] dog holds smaller animal [END] NIL NIL NIL
[START] two NIL NIL NIL NIL NIL NIL NIL 

[START] young woman [END] NIL NIL NIL NIL NIL
[START] two NIL NIL NIL NIL NIL NIL NIL 

Epoch:1, Iteration: 411, Loss: 109.52, TimeElapsed: 38.28Min
Working (10, 200) torch.Size([10, 9])
Normal torch.Size([10, 9]) torch.Size([10, 9, 2512])
[START] middle aged couple smiles [END] NIL NIL NIL
[START] aged aged aged aged aged aged aged aged 

[START] man black suit [END] NIL NIL NIL NIL
[START] aged aged aged aged aged aged aged aged 

[START] black dog [END] NIL NIL NIL NIL NIL
[START] aged aged aged aged aged aged aged aged 

[START] little child red cap [END] NIL NIL NIL
[START] aged aged aged aged aged aged aged aged 

[START] person red [END] NIL NIL NIL NIL NIL
[START] aged aged aged aged aged aged aged aged 

[START] man riding bucking [END] NIL NIL NIL NIL
[START] aged aged aged aged aged aged aged aged 

[START] snowboarder making jump [END] NIL NIL NIL NIL
[START] aged aged aged aged aged aged aged aged 

[START] group workers desert two [END] NIL NIL NIL
[START] aged aged aged aged aged aged aged aged 

[START] dog runs muddy [END] NIL NIL NIL NIL
[START] aged aged aged aged aged aged aged aged 

[START] class holds [END] NIL NIL NIL NIL NIL
[START] aged aged aged aged aged aged aged aged 

Epoch:1, Iteration: 412, Loss: 127.27, TimeElapsed: 38.33Min
Working (10, 200) torch.Size([10, 9])
Normal torch.Size([10, 9]) torch.Size([10, 9, 2512])
[START] young woman sips drink [END] NIL NIL NIL
[START] young blue player player player player player player 

[START] three men wooden boat [END] NIL NIL NIL
[START] young blue player player player player player player 

[START] three cricket players mid game [END] NIL NIL
[START] young blue player player player player player player 

[START] asian woman eating something [END] NIL NIL NIL
[START] young blue player player player player player player 

[START] three men working scaffolding [END] NIL NIL NIL
[START] young blue player player player player player player 

[START] two women walking outdoor trail [END] NIL NIL
[START] young blue player player player player player player 

[START] man standing top [END] NIL NIL NIL NIL
[START] young blue player player player player player player 

[START] man wearing black [END] NIL NIL NIL NIL
[START] young blue player player player player player player 

[START] two people sitting [END] NIL NIL NIL NIL
[START] young blue player player player player player player 

[START] young girl playing nesquik [END] NIL NIL NIL
[START] young blue player player player player player player 

Epoch:1, Iteration: 413, Loss: 149.13, TimeElapsed: 38.37Min
Working (10, 200) torch.Size([10, 9])
Normal torch.Size([10, 9]) torch.Size([10, 9, 2512])
[START] well dressed man sleeps subway [END] NIL NIL
[START] three holding NIL NIL NIL NIL NIL NIL 

[START] young adults barbecue park [END] NIL NIL NIL
[START] three holding NIL NIL NIL NIL NIL NIL 

[START] young man holds piece [END] NIL NIL NIL
[START] three holding NIL NIL NIL NIL NIL NIL 

[START] woman dark [END] NIL NIL NIL NIL NIL
[START] three holding NIL NIL NIL NIL NIL NIL 

[START] man standing [END] NIL NIL NIL NIL NIL
[START] three holding NIL NIL NIL NIL NIL NIL 

[START] lots people eating [END] NIL NIL NIL NIL
[START] three holding NIL NIL NIL NIL NIL NIL 

[START] two kids laughing [END] NIL NIL NIL NIL
[START] three holding NIL NIL NIL NIL NIL NIL 

[START] group people [END] NIL NIL NIL NIL NIL
[START] three holding NIL NIL NIL NIL NIL NIL 

[START] little boy running [END] NIL NIL NIL NIL
[START] three holding NIL NIL NIL NIL NIL NIL 

[START] people gathered around [END] NIL NIL NIL NIL
[START] three holding NIL NIL NIL NIL NIL NIL 

Epoch:1, Iteration: 414, Loss: 121.61, TimeElapsed: 38.43Min
Working (10, 200) torch.Size([10, 9])
Normal torch.Size([10, 9]) torch.Size([10, 9, 2512])
[START] male surfer exiting [END] NIL NIL NIL NIL
[START] man people NIL NIL NIL NIL NIL NIL 

[START] tan dog carrying green [END] NIL NIL NIL
[START] man people NIL NIL NIL NIL NIL NIL 

[START] two dogs lay upside [END] NIL NIL NIL
[START] man people NIL NIL NIL NIL NIL NIL 

[START] woman sign table [END] NIL NIL NIL NIL
[START] man people NIL NIL NIL NIL NIL NIL 

[START] brunette woman leopard [END] NIL NIL NIL NIL
[START] man people NIL NIL NIL NIL NIL NIL 

[START] two women working [END] NIL NIL NIL NIL
[START] man people NIL NIL NIL NIL NIL NIL 

[START] man legs [END] NIL NIL NIL NIL NIL
[START] man people NIL NIL NIL NIL NIL NIL 

[START] wet brown dog jumping [END] NIL NIL NIL
[START] man people NIL NIL NIL NIL NIL NIL 

[START] young boy older [END] NIL NIL NIL NIL
[START] man people NIL NIL NIL NIL NIL NIL 

[START] man watching [END] NIL NIL NIL NIL NIL
[START] man people NIL NIL NIL NIL NIL NIL 

Epoch:1, Iteration: 415, Loss: 131.47, TimeElapsed: 38.48Min
Working (10, 200) torch.Size([10, 9])
Normal torch.Size([10, 9]) torch.Size([10, 9, 2512])
[START] street vendor set [END] NIL NIL NIL NIL
[START] surfer surfer surfer surfer surfer surfer surfer surfer 

[START] man boy [END] NIL NIL NIL NIL NIL
[START] surfer surfer surfer surfer surfer surfer surfer surfer 

[START] man trying get ready [END] NIL NIL NIL
[START] surfer surfer surfer surfer surfer surfer surfer surfer 

[START] young boy black [END] NIL NIL NIL NIL
[START] surfer surfer surfer surfer surfer surfer surfer surfer 

[START] small child hangs [END] NIL NIL NIL NIL
[START] surfer surfer surfer surfer surfer surfer surfer surfer 

[START] man wearing sunglasses holds [END] NIL NIL NIL
[START] surfer surfer surfer surfer surfer surfer surfer surfer 

[START] man standing [END] NIL NIL NIL NIL NIL
[START] surfer surfer surfer surfer surfer surfer surfer surfer 

[START] couple dogs around [END] NIL NIL NIL NIL
[START] surfer surfer surfer surfer surfer surfer surfer surfer 

[START] family observing nine [END] NIL NIL NIL NIL
[START] surfer surfer surfer surfer surfer surfer surfer surfer 

[START] two bikers riding towards [END] NIL NIL NIL
[START] surfer surfer surfer surfer surfer surfer surfer surfer 

Epoch:1, Iteration: 416, Loss: 139.85, TimeElapsed: 38.53Min
Working (10, 200) torch.Size([10, 9])
Normal torch.Size([10, 9]) torch.Size([10, 9, 2512])
[START] two men [END] NIL NIL NIL NIL NIL
[START] opening opening opening opening opening opening opening opening 

[START] tattoo artist work [END] NIL NIL NIL NIL
[START] opening opening opening opening opening opening opening opening 

[START] boy playing wheel [END] NIL NIL NIL NIL
[START] opening opening opening opening opening opening opening opening 

[START] child runs racket [END] NIL NIL NIL NIL
[START] opening opening opening opening opening opening opening opening 

[START] group runners [END] NIL NIL NIL NIL NIL
[START] opening opening opening opening opening opening opening opening 

[START] woman reads [END] NIL NIL NIL NIL NIL
[START] opening opening opening opening opening opening opening opening 

[START] custodian talking [END] NIL NIL NIL NIL NIL
[START] opening opening opening opening opening opening opening opening 

[START] street performer white face [END] NIL NIL NIL
[START] opening opening opening opening opening opening opening opening 

[START] group men [END] NIL NIL NIL NIL NIL
[START] opening opening opening opening opening opening opening opening 

[START] fire office [END] NIL NIL NIL NIL NIL
[START] opening opening opening opening opening opening opening opening 

Epoch:1, Iteration: 417, Loss: 158.8, TimeElapsed: 38.58Min
Working (10, 200) torch.Size([10, 9])
Normal torch.Size([10, 9]) torch.Size([10, 9, 2512])
[START] man black baseball cap [END] NIL NIL NIL
[START] muddy muddy muddy muddy muddy muddy muddy muddy 

[START] dog jumping frisbee [END] NIL NIL NIL NIL
[START] muddy muddy muddy muddy muddy muddy muddy muddy 

[START] two girls playing [END] NIL NIL NIL NIL
[START] muddy muddy muddy muddy muddy muddy muddy muddy 

[START] person riding dirt bike [END] NIL NIL NIL
[START] muddy muddy muddy muddy muddy muddy muddy muddy 

[START] smaller sized bulldozer downtown [END] NIL NIL NIL
[START] muddy muddy muddy muddy muddy muddy muddy muddy 

[START] woman waiting [END] NIL NIL NIL NIL NIL
[START] muddy muddy muddy muddy muddy muddy muddy muddy 

[START] girl making [END] NIL NIL NIL NIL NIL
[START] muddy muddy muddy muddy muddy muddy muddy muddy 

[START] asian girl smiles holding [END] NIL NIL NIL
[START] muddy muddy muddy muddy muddy muddy muddy muddy 

[START] woman green jacket [END] NIL NIL NIL NIL
[START] muddy muddy muddy muddy muddy muddy muddy muddy 

[START] brown dog running [END] NIL NIL NIL NIL
[START] muddy muddy muddy muddy muddy muddy muddy muddy 

Epoch:1, Iteration: 418, Loss: 144.37, TimeElapsed: 38.63Min
Working (10, 200) torch.Size([10, 9])
Normal torch.Size([10, 9]) torch.Size([10, 9, 2512])
[START] man vehicle behind [END] NIL NIL NIL NIL
[START] runners runners runners runners runners runners runners runners 

[START] many men racing [END] NIL NIL NIL NIL
[START] runners runners runners runners runners runners runners runners 

[START] muddy child jumps [END] NIL NIL NIL NIL
[START] runners runners runners runners runners runners runners runners 

[START] two guys performing show [END] NIL NIL NIL
[START] runners runners runners runners runners runners runners runners 

[START] someone whisking eggs handheld mixer [END] NIL NIL
[START] runners runners runners runners runners runners runners runners 

[START] woman sitting red chair [END] NIL NIL NIL
[START] runners runners runners runners runners runners runners runners 

[START] man hat [END] NIL NIL NIL NIL NIL
[START] runners runners runners runners runners runners runners runners 

[START] woman black dances [END] NIL NIL NIL NIL
[START] runners runners runners runners runners runners runners runners 

[START] two women sitting [END] NIL NIL NIL NIL
[START] runners runners runners runners runners runners runners runners 

[START] two guys mirror one [END] NIL NIL NIL
[START] runners runners runners runners runners runners runners runners 

Epoch:1, Iteration: 419, Loss: 183.39, TimeElapsed: 38.68Min
Working (10, 200) torch.Size([10, 9])
Normal torch.Size([10, 9]) torch.Size([10, 9, 2512])
[START] man sculpts hot [END] NIL NIL NIL NIL
[START] man NIL NIL NIL NIL NIL NIL NIL 

[START] man kicking soccer ball [END] NIL NIL NIL
[START] man NIL NIL NIL NIL NIL NIL NIL 

[START] man excavating bones [END] NIL NIL NIL NIL
[START] man NIL NIL NIL NIL NIL NIL NIL 

[START] construction workers standing top [END] NIL NIL NIL
[START] man NIL NIL NIL NIL NIL NIL NIL 

[START] bunch friends sharing [END] NIL NIL NIL NIL
[START] man NIL NIL NIL NIL NIL NIL NIL 

[START] man blue [END] NIL NIL NIL NIL NIL
[START] man NIL NIL NIL NIL NIL NIL NIL 

[START] mimes trying pull one [END] NIL NIL NIL
[START] man NIL NIL NIL NIL NIL NIL NIL 

[START] skier plaid jacket flies [END] NIL NIL NIL
[START] man NIL NIL NIL NIL NIL NIL NIL 

[START] woman red cap [END] NIL NIL NIL NIL
[START] man NIL NIL NIL NIL NIL NIL NIL 

[START] man unwrapping box [END] NIL NIL NIL NIL
[START] man NIL NIL NIL NIL NIL NIL NIL 

Epoch:1, Iteration: 420, Loss: 192.27, TimeElapsed: 38.74Min
Working (10, 200) torch.Size([10, 9])
Normal torch.Size([10, 9]) torch.Size([10, 9, 2512])
[START] man blue shirt standing [END] NIL NIL NIL
[START] frisbee frisbee frisbee frisbee frisbee frisbee frisbee frisbee 

[START] two male spectators [END] NIL NIL NIL NIL
[START] frisbee frisbee frisbee frisbee frisbee frisbee frisbee frisbee 

[START] five person acrobatics troop performs [END] NIL NIL
[START] frisbee frisbee frisbee frisbee frisbee frisbee frisbee frisbee 

[START] black man poses photo [END] NIL NIL NIL
[START] frisbee frisbee frisbee frisbee frisbee frisbee frisbee frisbee 

[START] white man wearing white [END] NIL NIL NIL
[START] frisbee frisbee frisbee frisbee frisbee frisbee frisbee frisbee 

[START] three young women pose [END] NIL NIL NIL
[START] frisbee frisbee frisbee frisbee frisbee frisbee frisbee frisbee 

[START] boy bruised [END] NIL NIL NIL NIL NIL
[START] frisbee frisbee frisbee frisbee frisbee frisbee frisbee frisbee 

[START] boy wearing white [END] NIL NIL NIL NIL
[START] frisbee frisbee frisbee frisbee frisbee frisbee frisbee frisbee 

[START] man riding [END] NIL NIL NIL NIL NIL
[START] frisbee frisbee frisbee frisbee frisbee frisbee frisbee frisbee 

[START] person wearing maroon [END] NIL NIL NIL NIL
[START] frisbee frisbee frisbee frisbee frisbee frisbee frisbee frisbee 

Epoch:1, Iteration: 421, Loss: 127.36, TimeElapsed: 38.78Min
Working (10, 200) torch.Size([10, 9])
Normal torch.Size([10, 9]) torch.Size([10, 9, 2512])
[START] young boy trying fix [END] NIL NIL NIL
[START] man NIL NIL NIL NIL NIL NIL NIL 

[START] boy green [END] NIL NIL NIL NIL NIL
[START] man NIL NIL NIL NIL NIL NIL NIL 

[START] girl unicycle [END] NIL NIL NIL NIL NIL
[START] man NIL NIL NIL NIL NIL NIL NIL 

[START] two football teams one team [END] NIL NIL
[START] man NIL NIL NIL NIL NIL NIL NIL 

[START] lady wearing night gown [END] NIL NIL NIL
[START] man NIL NIL NIL NIL NIL NIL NIL 

[START] dark skinned woman creates beautiful native pottery [END]
[START] man NIL NIL NIL NIL NIL NIL NIL 

[START] man using metal [END] NIL NIL NIL NIL
[START] man NIL NIL NIL NIL NIL NIL NIL 

[START] players daily [END] NIL NIL NIL NIL NIL
[START] man NIL NIL NIL NIL NIL NIL NIL 

[START] woman holding head [END] NIL NIL NIL NIL
[START] man NIL NIL NIL NIL NIL NIL NIL 

[START] man red riding gear riding [END] NIL NIL
[START] man NIL NIL NIL NIL NIL NIL NIL 

Epoch:1, Iteration: 422, Loss: 189.83, TimeElapsed: 38.83Min
Working (10, 200) torch.Size([10, 9])
Normal torch.Size([10, 9]) torch.Size([10, 9, 2512])
[START] girl blue pants scales [END] NIL NIL NIL
[START] man NIL NIL NIL NIL NIL NIL NIL 

[START] male beard [END] NIL NIL NIL NIL NIL
[START] man NIL NIL NIL NIL NIL NIL NIL 

[START] man wearing high pressure [END] NIL NIL NIL
[START] man NIL NIL NIL NIL NIL NIL NIL 

[START] little boy yellow [END] NIL NIL NIL NIL
[START] man NIL NIL NIL NIL NIL NIL NIL 

[START] man intently playing piano [END] NIL NIL NIL
[START] man NIL NIL NIL NIL NIL NIL NIL 

[START] person water [END] NIL NIL NIL NIL NIL
[START] man NIL NIL NIL NIL NIL NIL NIL 

[START] group kids riding [END] NIL NIL NIL NIL
[START] man NIL NIL NIL NIL NIL NIL NIL 

[START] man sitting [END] NIL NIL NIL NIL NIL
[START] man NIL NIL NIL NIL NIL NIL NIL 

[START] children performing cheerleading moves [END] NIL NIL NIL
[START] man NIL NIL NIL NIL NIL NIL NIL 

[START] guy playing college basketball [END] NIL NIL NIL
[START] man NIL NIL NIL NIL NIL NIL NIL 

Epoch:1, Iteration: 423, Loss: 158.52, TimeElapsed: 38.88Min
Working (10, 200) torch.Size([10, 9])
Normal torch.Size([10, 9]) torch.Size([10, 9, 2512])
[START] dog jumps catch frisbee [END] NIL NIL NIL
[START] NIL NIL NIL NIL NIL NIL NIL NIL 

[START] two men walking together [END] NIL NIL NIL
[START] NIL NIL NIL NIL NIL NIL NIL NIL 

[START] two young boys competing [END] NIL NIL NIL
[START] NIL NIL NIL NIL NIL NIL NIL NIL 

[START] man posing child [END] NIL NIL NIL NIL
[START] NIL NIL NIL NIL NIL NIL NIL NIL 

[START] group four girls [END] NIL NIL NIL NIL
[START] NIL NIL NIL NIL NIL NIL NIL NIL 

[START] large black dog [END] NIL NIL NIL NIL
[START] NIL NIL NIL NIL NIL NIL NIL NIL 

[START] person navy blue top [END] NIL NIL NIL
[START] NIL NIL NIL NIL NIL NIL NIL NIL 

[START] couple playing trivial [END] NIL NIL NIL NIL
[START] NIL NIL NIL NIL NIL NIL NIL NIL 

[START] many people bathing suits [END] NIL NIL NIL
[START] NIL NIL NIL NIL NIL NIL NIL NIL 

[START] group people wearing [END] NIL NIL NIL NIL
[START] NIL NIL NIL NIL NIL NIL NIL NIL 

Epoch:1, Iteration: 424, Loss: 132.28, TimeElapsed: 38.92Min
Working (10, 200) torch.Size([10, 9])
Normal torch.Size([10, 9]) torch.Size([10, 9, 2512])
[START] two men checking barbecue [END] NIL NIL NIL
[START] football NIL NIL NIL NIL NIL NIL NIL 

[START] police officer motorcycle [END] NIL NIL NIL NIL
[START] football NIL NIL NIL NIL NIL NIL NIL 

[START] person tan pants [END] NIL NIL NIL NIL
[START] football NIL NIL NIL NIL NIL NIL NIL 

[START] two children man [END] NIL NIL NIL NIL
[START] football NIL NIL NIL NIL NIL NIL NIL 

[START] two people walking shadow [END] NIL NIL NIL
[START] football NIL NIL NIL NIL NIL NIL NIL 

[START] man stage performing [END] NIL NIL NIL NIL
[START] football NIL NIL NIL NIL NIL NIL NIL 

[START] two men wearing hats shown [END] NIL NIL
[START] football NIL NIL NIL NIL NIL NIL NIL 

[START] asian woman white shirt standing [END] NIL NIL
[START] football NIL NIL NIL NIL NIL NIL NIL 

[START] man red trunks [END] NIL NIL NIL NIL
[START] football NIL NIL NIL NIL NIL NIL NIL 

[START] women long dresses walk [END] NIL NIL NIL
[START] football NIL NIL NIL NIL NIL NIL NIL 

Epoch:1, Iteration: 425, Loss: 131.87, TimeElapsed: 38.97Min
Working (10, 200) torch.Size([10, 9])
Normal torch.Size([10, 9]) torch.Size([10, 9, 2512])
[START] two performers yellow suits [END] NIL NIL NIL
[START] cricket NIL NIL NIL NIL NIL NIL NIL 

[START] crowd people standing [END] NIL NIL NIL NIL
[START] cricket NIL NIL NIL NIL NIL NIL NIL 

[START] lady pink [END] NIL NIL NIL NIL NIL
[START] cricket NIL NIL NIL NIL NIL NIL NIL 

[START] bald man wearing [END] NIL NIL NIL NIL
[START] cricket NIL NIL NIL NIL NIL NIL NIL 

[START] blond woman looking [END] NIL NIL NIL NIL
[START] cricket NIL NIL NIL NIL NIL NIL NIL 

[START] black cream dog [END] NIL NIL NIL NIL
[START] cricket NIL NIL NIL NIL NIL NIL NIL 

[START] glass windows showcase model [END] NIL NIL NIL
[START] cricket NIL NIL NIL NIL NIL NIL NIL 

[START] workers load sheared wool onto truck [END] NIL
[START] cricket NIL NIL NIL NIL NIL NIL NIL 

[START] two bald men [END] NIL NIL NIL NIL
[START] cricket NIL NIL NIL NIL NIL NIL NIL 

[START] cat licks [END] NIL NIL NIL NIL NIL
[START] cricket NIL NIL NIL NIL NIL NIL NIL 

Epoch:1, Iteration: 426, Loss: 175.19, TimeElapsed: 39.02Min
Working (10, 200) torch.Size([10, 9])
Normal torch.Size([10, 9]) torch.Size([10, 9, 2512])
[START] four guys three wearing hats one [END] NIL
[START] barbecue [END] [END] [END] [END] [END] [END] [END] 

[START] boy orange shirt [END] NIL NIL NIL NIL
[START] barbecue [END] [END] [END] [END] [END] [END] [END] 

[START] young girl upside [END] NIL NIL NIL NIL
[START] barbecue [END] [END] [END] [END] [END] [END] [END] 

[START] white brown spotted dog [END] NIL NIL NIL
[START] barbecue [END] [END] [END] [END] [END] [END] [END] 

[START] people walking toward beach [END] NIL NIL NIL
[START] barbecue [END] [END] [END] [END] [END] [END] [END] 

[START] female swimmer wearing [END] NIL NIL NIL NIL
[START] barbecue [END] [END] [END] [END] [END] [END] [END] 

[START] man playing guitar man [END] NIL NIL NIL
[START] barbecue [END] [END] [END] [END] [END] [END] [END] 

[START] people socializing table [END] NIL NIL NIL NIL
[START] barbecue [END] [END] [END] [END] [END] [END] [END] 

[START] young woman white [END] NIL NIL NIL NIL
[START] barbecue [END] [END] [END] [END] [END] [END] [END] 

[START] five construction workers dig [END] NIL NIL NIL
[START] barbecue [END] [END] [END] [END] [END] [END] [END] 

Epoch:1, Iteration: 427, Loss: 117.27, TimeElapsed: 39.07Min
Working (10, 200) torch.Size([10, 9])
Normal torch.Size([10, 9]) torch.Size([10, 9, 2512])
[START] big brown dog chases [END] NIL NIL NIL
two two [END] [END] [END] [END] [END] [END] [END] 

[START] boy girl [END] NIL NIL NIL NIL NIL
two two [END] [END] [END] [END] [END] [END] [END] 

[START] large group people [END] NIL NIL NIL NIL
two two [END] [END] [END] [END] [END] [END] [END] 

[START] shirtless man blue swimsuit [END] NIL NIL NIL
two two [END] [END] [END] [END] [END] [END] [END] 

[START] man black shirt [END] NIL NIL NIL NIL
two two [END] [END] [END] [END] [END] [END] [END] 

[START] man starts day [END] NIL NIL NIL NIL
two two [END] [END] [END] [END] [END] [END] [END] 

[START] brown white dogs [END] NIL NIL NIL NIL
two two [END] [END] [END] [END] [END] [END] [END] 

[START] closeup person walking across [END] NIL NIL NIL
two two [END] [END] [END] [END] [END] [END] [END] 

[START] couple sit patio overlooking [END] NIL NIL NIL
two two [END] [END] [END] [END] [END] [END] [END] 

[START] men wearing life vests speed across [END] NIL
two two [END] [END] [END] [END] [END] [END] [END] 

Epoch:1, Iteration: 428, Loss: 146.93, TimeElapsed: 39.13Min
Working (10, 200) torch.Size([10, 9])
Normal torch.Size([10, 9]) torch.Size([10, 9, 2512])
[START] brown dog leaping [END] NIL NIL NIL NIL
[START] two [END] [END] [END] [END] [END] [END] [END] 

[START] two large brown dogs [END] NIL NIL NIL
[START] two [END] [END] [END] [END] [END] [END] [END] 

[START] dog retrieves frisbee [END] NIL NIL NIL NIL
[START] two [END] [END] [END] [END] [END] [END] [END] 

[START] man listening audio [END] NIL NIL NIL NIL
[START] two [END] [END] [END] [END] [END] [END] [END] 

[START] four men walking [END] NIL NIL NIL NIL
[START] two [END] [END] [END] [END] [END] [END] [END] 

[START] clown dressed red yellow holds [END] NIL NIL
[START] two [END] [END] [END] [END] [END] [END] [END] 

[START] two dogs [END] NIL NIL NIL NIL NIL
[START] two [END] [END] [END] [END] [END] [END] [END] 

[START] man hat [END] NIL NIL NIL NIL NIL
[START] two [END] [END] [END] [END] [END] [END] [END] 

[START] boy looks baby [END] NIL NIL NIL NIL
[START] two [END] [END] [END] [END] [END] [END] [END] 

[START] children playing football [END] NIL NIL NIL NIL
[START] two [END] [END] [END] [END] [END] [END] [END] 

Epoch:1, Iteration: 429, Loss: 109.52, TimeElapsed: 39.2Min
Working (10, 200) torch.Size([10, 9])
Normal torch.Size([10, 9]) torch.Size([10, 9, 2512])
[START] people shopping busy street bazzar [END] NIL NIL
[START] group hats hats hats hats hats hats hats 

[START] person wearing blue [END] NIL NIL NIL NIL
[START] group hats hats hats hats hats hats hats 

[START] several people sit [END] NIL NIL NIL NIL
[START] group hats hats hats hats hats hats hats 

[START] blond woman [END] NIL NIL NIL NIL NIL
[START] group hats hats hats hats hats hats hats 

[START] two young women celebrating birthday [END] NIL NIL
[START] group hats hats hats hats hats hats hats 

[START] man bowling [END] NIL NIL NIL NIL NIL
[START] group hats hats hats hats hats hats hats 

[START] three crosscountry skiers climbing slight [END] NIL NIL
[START] group hats hats hats hats hats hats hats 

[START] family walks [END] NIL NIL NIL NIL NIL
[START] group hats hats hats hats hats hats hats 

[START] kids playing near street [END] NIL NIL NIL
[START] group hats hats hats hats hats hats hats 

[START] baby sleeping pale [END] NIL NIL NIL NIL
[START] group hats hats hats hats hats hats hats 

Epoch:1, Iteration: 430, Loss: 151.53, TimeElapsed: 39.25Min
Working (10, 200) torch.Size([10, 9])
Normal torch.Size([10, 9]) torch.Size([10, 9, 2512])
[START] man brown [END] NIL NIL NIL NIL NIL
[START] man playing NIL NIL NIL NIL NIL NIL 

[START] man woman [END] NIL NIL NIL NIL NIL
[START] man playing NIL NIL NIL NIL NIL NIL 

[START] lady boy [END] NIL NIL NIL NIL NIL
[START] man playing NIL NIL NIL NIL NIL NIL 

[START] woman painting [END] NIL NIL NIL NIL NIL
[START] man playing NIL NIL NIL NIL NIL NIL 

[START] elderly man wearing [END] NIL NIL NIL NIL
[START] man playing NIL NIL NIL NIL NIL NIL 

[START] people ride [END] NIL NIL NIL NIL NIL
[START] man playing NIL NIL NIL NIL NIL NIL 

[START] shirtless man [END] NIL NIL NIL NIL NIL
[START] man playing NIL NIL NIL NIL NIL NIL 

[START] african american woman stands [END] NIL NIL NIL
[START] man playing NIL NIL NIL NIL NIL NIL 

[START] man gray shirt [END] NIL NIL NIL NIL
[START] man playing NIL NIL NIL NIL NIL NIL 

[START] two people large [END] NIL NIL NIL NIL
[START] man playing NIL NIL NIL NIL NIL NIL 

Epoch:1, Iteration: 431, Loss: 74.48, TimeElapsed: 39.29Min
Working (10, 200) torch.Size([10, 9])
Normal torch.Size([10, 9]) torch.Size([10, 9, 2512])
[START] killer whales perform crowd [END] NIL NIL NIL
[START] man NIL NIL NIL NIL NIL NIL NIL 

[START] boy pushing another boy [END] NIL NIL NIL
[START] man NIL NIL NIL NIL NIL NIL NIL 

[START] little boy 6 [END] NIL NIL NIL NIL
[START] man NIL NIL NIL NIL NIL NIL NIL 

[START] man steps [END] NIL NIL NIL NIL NIL
[START] man NIL NIL NIL NIL NIL NIL NIL 

[START] woman backstroke [END] NIL NIL NIL NIL NIL
[START] man NIL NIL NIL NIL NIL NIL NIL 

[START] couple lifting child [END] NIL NIL NIL NIL
[START] man NIL NIL NIL NIL NIL NIL NIL 

[START] man plaid shirt [END] NIL NIL NIL NIL
[START] man NIL NIL NIL NIL NIL NIL NIL 

[START] people beach watching [END] NIL NIL NIL NIL
[START] man NIL NIL NIL NIL NIL NIL NIL 

[START] man hangs [END] NIL NIL NIL NIL NIL
[START] man NIL NIL NIL NIL NIL NIL NIL 

[START] child swims underwater [END] NIL NIL NIL NIL
[START] man NIL NIL NIL NIL NIL NIL NIL 

Epoch:1, Iteration: 432, Loss: 139.82, TimeElapsed: 39.35Min
Working (10, 200) torch.Size([10, 9])
Normal torch.Size([10, 9]) torch.Size([10, 9, 2512])
[START] graffiti covers open space picture [END] NIL NIL
[START] speed speed speed speed speed speed speed speed 

[START] two women playing volleyball [END] NIL NIL NIL
[START] speed speed speed speed speed speed speed speed 

[START] girl drawing picture [END] NIL NIL NIL NIL
[START] speed speed speed speed speed speed speed speed 

[START] man holding empty [END] NIL NIL NIL NIL
[START] speed speed speed speed speed speed speed speed 

[START] man wearing white [END] NIL NIL NIL NIL
[START] speed speed speed speed speed speed speed speed 

[START] young child [END] NIL NIL NIL NIL NIL
[START] speed speed speed speed speed speed speed speed 

[START] person red [END] NIL NIL NIL NIL NIL
[START] speed speed speed speed speed speed speed speed 

[START] grinning young boy [END] NIL NIL NIL NIL
[START] speed speed speed speed speed speed speed speed 

[START] professional glass maker firing [END] NIL NIL NIL
[START] speed speed speed speed speed speed speed speed 

[START] blond red haired [END] NIL NIL NIL NIL
[START] speed speed speed speed speed speed speed speed 

Epoch:1, Iteration: 433, Loss: 138.81, TimeElapsed: 39.4Min
Working (10, 200) torch.Size([10, 9])
Normal torch.Size([10, 9]) torch.Size([10, 9, 2512])
[START] person sitting outside [END] NIL NIL NIL NIL
[START] crosscountry NIL NIL NIL NIL NIL NIL NIL 

[START] group four men [END] NIL NIL NIL NIL
[START] crosscountry NIL NIL NIL NIL NIL NIL NIL 

[START] young gymnasts execute team move [END] NIL NIL
[START] crosscountry NIL NIL NIL NIL NIL NIL NIL 

[START] two young indian girls one [END] NIL NIL
[START] crosscountry NIL NIL NIL NIL NIL NIL NIL 

[START] man child [END] NIL NIL NIL NIL NIL
[START] crosscountry NIL NIL NIL NIL NIL NIL NIL 

[START] man gun dog [END] NIL NIL NIL NIL
[START] crosscountry NIL NIL NIL NIL NIL NIL NIL 

[START] white male entertainer [END] NIL NIL NIL NIL
[START] crosscountry NIL NIL NIL NIL NIL NIL NIL 

[START] elderly woman pan frying [END] NIL NIL NIL
[START] crosscountry NIL NIL NIL NIL NIL NIL NIL 

[START] two trolley repair men [END] NIL NIL NIL
[START] crosscountry NIL NIL NIL NIL NIL NIL NIL 

[START] young man sort [END] NIL NIL NIL NIL
[START] crosscountry NIL NIL NIL NIL NIL NIL NIL 

Epoch:1, Iteration: 434, Loss: 151.98, TimeElapsed: 39.45Min
Working (10, 200) torch.Size([10, 9])
Normal torch.Size([10, 9]) torch.Size([10, 9, 2512])
[START] two kids fun burning dad [END] NIL NIL
[START] hangs hangs hangs hangs hangs hangs hangs hangs 

[START] two men playing volleyball man [END] NIL NIL
[START] hangs hangs hangs hangs hangs hangs hangs hangs 

[START] security man watch dog [END] NIL NIL NIL
[START] hangs hangs hangs hangs hangs hangs hangs hangs 

[START] little girl holding bottle [END] NIL NIL NIL
[START] hangs hangs hangs hangs hangs hangs hangs hangs 

[START] three girls play sand [END] NIL NIL NIL
[START] hangs hangs hangs hangs hangs hangs hangs hangs 

[START] lady selling freshly [END] NIL NIL NIL NIL
[START] hangs hangs hangs hangs hangs hangs hangs hangs 

[START] snowboarder yellow pants [END] NIL NIL NIL NIL
[START] hangs hangs hangs hangs hangs hangs hangs hangs 

[START] woman black [END] NIL NIL NIL NIL NIL
[START] hangs hangs hangs hangs hangs hangs hangs hangs 

[START] man woman [END] NIL NIL NIL NIL NIL
[START] hangs hangs hangs hangs hangs hangs hangs hangs 

[START] man gets haircut [END] NIL NIL NIL NIL
[START] hangs hangs hangs hangs hangs hangs hangs hangs 

Epoch:1, Iteration: 435, Loss: 170.62, TimeElapsed: 39.5Min
Working (10, 200) torch.Size([10, 9])
Normal torch.Size([10, 9]) torch.Size([10, 9, 2512])
[START] young girl [END] NIL NIL NIL NIL NIL
[START] four NIL NIL NIL NIL NIL NIL NIL 

[START] young child throwing stones shallow [END] NIL NIL
[START] four NIL NIL NIL NIL NIL NIL NIL 

[START] street performer strumming [END] NIL NIL NIL NIL
[START] four NIL NIL NIL NIL NIL NIL NIL 

[START] man glasses blowing bubble [END] NIL NIL NIL
[START] four NIL NIL NIL NIL NIL NIL NIL 

[START] people sitting ground [END] NIL NIL NIL NIL
[START] four NIL NIL NIL NIL NIL NIL NIL 

[START] old lady spinning [END] NIL NIL NIL NIL
[START] four NIL NIL NIL NIL NIL NIL NIL 

[START] shirtless guy turned around [END] NIL NIL NIL
[START] four NIL NIL NIL NIL NIL NIL NIL 

[START] man green pants [END] NIL NIL NIL NIL
[START] four NIL NIL NIL NIL NIL NIL NIL 

[START] father figure two children outside home [END] NIL
[START] four NIL NIL NIL NIL NIL NIL NIL 

[START] helicopter descends grassy [END] NIL NIL NIL NIL
[START] four NIL NIL NIL NIL NIL NIL NIL 

Epoch:1, Iteration: 436, Loss: 210.11, TimeElapsed: 39.55Min
Working (10, 200) torch.Size([10, 9])
Normal torch.Size([10, 9]) torch.Size([10, 9, 2512])
[START] modest popcorn cart spanish text [END] NIL NIL
[START] person NIL NIL NIL NIL NIL NIL NIL 

[START] dog backlit buy [END] NIL NIL NIL NIL
[START] person NIL NIL NIL NIL NIL NIL NIL 

[START] little asian girl [END] NIL NIL NIL NIL
[START] person NIL NIL NIL NIL NIL NIL NIL 

[START] woman man standing across [END] NIL NIL NIL
[START] person NIL NIL NIL NIL NIL NIL NIL 

[START] woman [END] NIL NIL NIL NIL NIL NIL
[START] person NIL NIL NIL NIL NIL NIL NIL 

[START] man guitar waving [END] NIL NIL NIL NIL
[START] person NIL NIL NIL NIL NIL NIL NIL 

[START] motorcyclist driving [END] NIL NIL NIL NIL NIL
[START] person NIL NIL NIL NIL NIL NIL NIL 

[START] four men white shirts blue jeans [END] NIL
[START] person NIL NIL NIL NIL NIL NIL NIL 

[START] man jeans practicing [END] NIL NIL NIL NIL
[START] person NIL NIL NIL NIL NIL NIL NIL 

[START] brown horse rider [END] NIL NIL NIL NIL
[START] person NIL NIL NIL NIL NIL NIL NIL 

Epoch:1, Iteration: 437, Loss: 195.82, TimeElapsed: 39.6Min
Working (10, 200) torch.Size([10, 9])
Normal torch.Size([10, 9]) torch.Size([10, 9, 2512])
[START] child slide [END] NIL NIL NIL NIL NIL
[START] swimmer swimmer swimmer swimmer swimmer swimmer swimmer swimmer 

[START] people around table playing roulette [END] NIL NIL
[START] swimmer swimmer swimmer swimmer swimmer swimmer swimmer swimmer 

[START] man steep incline wearing [END] NIL NIL NIL
[START] swimmer swimmer swimmer swimmer swimmer swimmer swimmer swimmer 

[START] construction worker [END] NIL NIL NIL NIL NIL
[START] swimmer swimmer swimmer swimmer swimmer swimmer swimmer swimmer 

[START] man japanese cooking [END] NIL NIL NIL NIL
[START] swimmer swimmer swimmer swimmer swimmer swimmer swimmer swimmer 

[START] woman [END] NIL NIL NIL NIL NIL NIL
[START] swimmer swimmer swimmer swimmer swimmer swimmer swimmer swimmer 

[START] man holding cardboard [END] NIL NIL NIL NIL
[START] swimmer swimmer swimmer swimmer swimmer swimmer swimmer swimmer 

[START] young man taking picture [END] NIL NIL NIL
[START] swimmer swimmer swimmer swimmer swimmer swimmer swimmer swimmer 

[START] people walking big city along [END] NIL NIL
[START] swimmer swimmer swimmer swimmer swimmer swimmer swimmer swimmer 

[START] bunch police officers [END] NIL NIL NIL NIL
[START] swimmer swimmer swimmer swimmer swimmer swimmer swimmer swimmer 

Epoch:1, Iteration: 438, Loss: 177.34, TimeElapsed: 39.66Min
Working (10, 200) torch.Size([10, 9])
Normal torch.Size([10, 9]) torch.Size([10, 9, 2512])
[START] men standing outside front [END] NIL NIL NIL
[START] brown brown NIL NIL NIL NIL NIL NIL 

[START] man mountain climbing hanging [END] NIL NIL NIL
[START] brown brown NIL NIL NIL NIL NIL NIL 

[START] man background [END] NIL NIL NIL NIL NIL
[START] brown brown NIL NIL NIL NIL NIL NIL 

[START] crowded day many skiers [END] NIL NIL NIL
[START] brown brown NIL NIL NIL NIL NIL NIL 

[START] small tan dog jumping [END] NIL NIL NIL
[START] brown brown NIL NIL NIL NIL NIL NIL 

[START] bike sitting [END] NIL NIL NIL NIL NIL
[START] brown brown NIL NIL NIL NIL NIL NIL 

[START] girl jumps [END] NIL NIL NIL NIL NIL
[START] brown brown NIL NIL NIL NIL NIL NIL 

[START] class students [END] NIL NIL NIL NIL NIL
[START] brown brown NIL NIL NIL NIL NIL NIL 

[START] beach scene three boys swim [END] NIL NIL
[START] brown brown NIL NIL NIL NIL NIL NIL 

[START] band jamming [END] NIL NIL NIL NIL NIL
[START] brown brown NIL NIL NIL NIL NIL NIL 

Epoch:1, Iteration: 439, Loss: 191.05, TimeElapsed: 39.72Min
Working (10, 200) torch.Size([10, 9])
Normal torch.Size([10, 9]) torch.Size([10, 9, 2512])
[START] person short hair [END] NIL NIL NIL NIL
[START] child child child NIL NIL NIL NIL NIL 

[START] woman walks country road [END] NIL NIL NIL
[START] child child child NIL NIL NIL NIL NIL 

[START] man sitting chair next [END] NIL NIL NIL
[START] child child child NIL NIL NIL NIL NIL 

[START] woman walk alley [END] NIL NIL NIL NIL
[START] child child child NIL NIL NIL NIL NIL 

[START] boy goggles plays [END] NIL NIL NIL NIL
[START] child child child NIL NIL NIL NIL NIL 

[START] brown dog digging [END] NIL NIL NIL NIL
[START] child child child NIL NIL NIL NIL NIL 

[START] group children wearing white karate [END] NIL NIL
[START] child child child NIL NIL NIL NIL NIL 

[START] man baseball [END] NIL NIL NIL NIL NIL
[START] child child child NIL NIL NIL NIL NIL 

[START] two skiers stand two sit [END] NIL NIL
[START] child child child NIL NIL NIL NIL NIL 

[START] young boy points [END] NIL NIL NIL NIL
[START] child child child NIL NIL NIL NIL NIL 

Epoch:1, Iteration: 440, Loss: 154.46, TimeElapsed: 39.78Min
Working (10, 200) torch.Size([10, 9])
Normal torch.Size([10, 9]) torch.Size([10, 9, 2512])
[START] man sitting along [END] NIL NIL NIL NIL
[START] man move move move move move move move 

[START] man shorts dog [END] NIL NIL NIL NIL
[START] man move move move move move move move 

[START] several people behind [END] NIL NIL NIL NIL
[START] man move move move move move move move 

[START] dog jumps catches [END] NIL NIL NIL NIL
[START] man move move move move move move move 

[START] four police officers swallowed [END] NIL NIL NIL
[START] man move move move move move move move 

[START] two gondoliers sitting venice [END] NIL NIL NIL
[START] man move move move move move move move 

[START] boy walking [END] NIL NIL NIL NIL NIL
[START] man move move move move move move move 

[START] female ice skater lifting [END] NIL NIL NIL
[START] man move move move move move move move 

[START] three boys playing soccer [END] NIL NIL NIL
[START] man move move move move move move move 

[START] three dark complected ladies sitting [END] NIL NIL
[START] man move move move move move move move 

Epoch:1, Iteration: 441, Loss: 166.43, TimeElapsed: 39.83Min
Working (10, 200) torch.Size([10, 9])
Normal torch.Size([10, 9]) torch.Size([10, 9, 2512])
[START] man black [END] NIL NIL NIL NIL NIL
[START] motorcyclist man NIL NIL NIL NIL NIL NIL 

[START] children beach dog [END] NIL NIL NIL NIL
[START] motorcyclist man NIL NIL NIL NIL NIL NIL 

[START] older asian man [END] NIL NIL NIL NIL
[START] motorcyclist man NIL NIL NIL NIL NIL NIL 

[START] two people bicycles sit [END] NIL NIL NIL
[START] motorcyclist man NIL NIL NIL NIL NIL NIL 

[START] man surfing board dog [END] NIL NIL NIL
[START] motorcyclist man NIL NIL NIL NIL NIL NIL 

[START] man jumping [END] NIL NIL NIL NIL NIL
[START] motorcyclist man NIL NIL NIL NIL NIL NIL 

[START] two men [END] NIL NIL NIL NIL NIL
[START] motorcyclist man NIL NIL NIL NIL NIL NIL 

[START] small boy swimming underwater [END] NIL NIL NIL
[START] motorcyclist man NIL NIL NIL NIL NIL NIL 

[START] man tipping wheel burro [END] NIL NIL NIL
[START] motorcyclist man NIL NIL NIL NIL NIL NIL 

[START] pink shirted woman sleeping [END] NIL NIL NIL
[START] motorcyclist man NIL NIL NIL NIL NIL NIL 

Epoch:1, Iteration: 442, Loss: 141.88, TimeElapsed: 39.89Min
Working (10, 200) torch.Size([10, 9])
Normal torch.Size([10, 9]) torch.Size([10, 9, 2512])
[START] two people small [END] NIL NIL NIL NIL
[START] professional professional NIL NIL NIL NIL NIL NIL 

[START] decorated limo passing elderly woman waiting [END] NIL
[START] professional professional NIL NIL NIL NIL NIL NIL 

[START] woman floral shirt [END] NIL NIL NIL NIL
[START] professional professional NIL NIL NIL NIL NIL NIL 

[START] male adolescent young teenager [END] NIL NIL NIL
[START] professional professional NIL NIL NIL NIL NIL NIL 

[START] dog running [END] NIL NIL NIL NIL NIL
[START] professional professional NIL NIL NIL NIL NIL NIL 

[START] athlete leaping obstacle [END] NIL NIL NIL NIL
[START] professional professional NIL NIL NIL NIL NIL NIL 

[START] small black white dog [END] NIL NIL NIL
[START] professional professional NIL NIL NIL NIL NIL NIL 

[START] blacksmith hammering [END] NIL NIL NIL NIL NIL
[START] professional professional NIL NIL NIL NIL NIL NIL 

[START] woman stretches reach [END] NIL NIL NIL NIL
[START] professional professional NIL NIL NIL NIL NIL NIL 

[START] dj practicing music [END] NIL NIL NIL NIL
[START] professional professional NIL NIL NIL NIL NIL NIL 

Epoch:1, Iteration: 443, Loss: 173.54, TimeElapsed: 39.95Min
Working (10, 200) torch.Size([10, 9])
Normal torch.Size([10, 9]) torch.Size([10, 9, 2512])
[START] small girl reaches [END] NIL NIL NIL NIL
[START] young young NIL NIL NIL NIL NIL NIL 

[START] boy midair performing [END] NIL NIL NIL NIL
[START] young young NIL NIL NIL NIL NIL NIL 

[START] number colorful balls hide [END] NIL NIL NIL
[START] young young NIL NIL NIL NIL NIL NIL 

[START] man orange button shirt [END] NIL NIL NIL
[START] young young NIL NIL NIL NIL NIL NIL 

[START] man short [END] NIL NIL NIL NIL NIL
[START] young young NIL NIL NIL NIL NIL NIL 

[START] picture [END] NIL NIL NIL NIL NIL NIL
[START] young young NIL NIL NIL NIL NIL NIL 

[START] two young boys black [END] NIL NIL NIL
[START] young young NIL NIL NIL NIL NIL NIL 

[START] mother father watching [END] NIL NIL NIL NIL
[START] young young NIL NIL NIL NIL NIL NIL 

[START] main shorts digs [END] NIL NIL NIL NIL
[START] young young NIL NIL NIL NIL NIL NIL 

[START] dog carrying toy [END] NIL NIL NIL NIL
[START] young young NIL NIL NIL NIL NIL NIL 

Epoch:1, Iteration: 444, Loss: 175.52, TimeElapsed: 39.99Min
Working (10, 200) torch.Size([10, 9])
Normal torch.Size([10, 9]) torch.Size([10, 9, 2512])
[START] four people lounging [END] NIL NIL NIL NIL
[START] boy boy NIL NIL NIL NIL NIL NIL 

[START] boy diving [END] NIL NIL NIL NIL NIL
[START] boy boy NIL NIL NIL NIL NIL NIL 

[START] two teenage girls jumping [END] NIL NIL NIL
[START] boy boy NIL NIL NIL NIL NIL NIL 

[START] two boys football teams [END] NIL NIL NIL
[START] boy boy NIL NIL NIL NIL NIL NIL 

[START] two older men [END] NIL NIL NIL NIL
[START] boy boy NIL NIL NIL NIL NIL NIL 

[START] man woman perform [END] NIL NIL NIL NIL
[START] boy boy NIL NIL NIL NIL NIL NIL 

[START] black woman [END] NIL NIL NIL NIL NIL
[START] boy boy NIL NIL NIL NIL NIL NIL 

[START] two men one mid [END] NIL NIL NIL
[START] boy boy NIL NIL NIL NIL NIL NIL 

[START] two women float busch [END] NIL NIL NIL
[START] boy boy NIL NIL NIL NIL NIL NIL 

[START] light colored dog leaps [END] NIL NIL NIL
[START] boy boy NIL NIL NIL NIL NIL NIL 

Epoch:1, Iteration: 445, Loss: 119.31, TimeElapsed: 40.04Min
Working (10, 200) torch.Size([10, 9])
Normal torch.Size([10, 9]) torch.Size([10, 9, 2512])
[START] man wearing construction [END] NIL NIL NIL NIL
[START] woman celebrating NIL NIL NIL NIL NIL NIL 

[START] one woman riding [END] NIL NIL NIL NIL
[START] woman celebrating NIL NIL NIL NIL NIL NIL 

[START] bmx racers riding [END] NIL NIL NIL NIL
[START] woman celebrating NIL NIL NIL NIL NIL NIL 

[START] people various activities [END] NIL NIL NIL NIL
[START] woman celebrating NIL NIL NIL NIL NIL NIL 

[START] woman walking [END] NIL NIL NIL NIL NIL
[START] woman celebrating NIL NIL NIL NIL NIL NIL 

[START] man almost [END] NIL NIL NIL NIL NIL
[START] woman celebrating NIL NIL NIL NIL NIL NIL 

[START] group women looking [END] NIL NIL NIL NIL
[START] woman celebrating NIL NIL NIL NIL NIL NIL 

[START] partially furled flag carried atrium [END] NIL NIL
[START] woman celebrating NIL NIL NIL NIL NIL NIL 

[START] man suit [END] NIL NIL NIL NIL NIL
[START] woman celebrating NIL NIL NIL NIL NIL NIL 

[START] young boy swim attire steps [END] NIL NIL
[START] woman celebrating NIL NIL NIL NIL NIL NIL 

Epoch:1, Iteration: 446, Loss: 148.58, TimeElapsed: 40.08Min
Working (10, 200) torch.Size([10, 9])
Normal torch.Size([10, 9]) torch.Size([10, 9, 2512])
[START] man green sweater [END] NIL NIL NIL NIL
[START] girl sitting NIL NIL NIL NIL NIL NIL 

[START] dog orange ball feet stands [END] NIL NIL
[START] girl sitting NIL NIL NIL NIL NIL NIL 

[START] baby young [END] NIL NIL NIL NIL NIL
[START] girl sitting NIL NIL NIL NIL NIL NIL 

[START] woman yellow costume smiling [END] NIL NIL NIL
[START] girl sitting NIL NIL NIL NIL NIL NIL 

[START] person green outfit [END] NIL NIL NIL NIL
[START] girl sitting NIL NIL NIL NIL NIL NIL 

[START] woman wearing pink white orange [END] NIL NIL
[START] girl sitting NIL NIL NIL NIL NIL NIL 

[START] asian mom holding tiny infant [END] NIL NIL
[START] girl sitting NIL NIL NIL NIL NIL NIL 

[START] group people walks home carrying [END] NIL NIL
[START] girl sitting NIL NIL NIL NIL NIL NIL 

[START] african american boy [END] NIL NIL NIL NIL
[START] girl sitting NIL NIL NIL NIL NIL NIL 

[START] one man red shirt black pants [END] NIL
[START] girl sitting NIL NIL NIL NIL NIL NIL 

Epoch:1, Iteration: 447, Loss: 133.15, TimeElapsed: 40.13Min
Working (10, 200) torch.Size([10, 9])
Normal torch.Size([10, 9]) torch.Size([10, 9, 2512])
[START] small boy sweeping [END] NIL NIL NIL NIL
[START] steps [END] [END] [END] [END] [END] [END] [END] 

[START] man stands top [END] NIL NIL NIL NIL
[START] steps [END] [END] [END] [END] [END] [END] [END] 

[START] people gather bridge [END] NIL NIL NIL NIL
[START] steps [END] [END] [END] [END] [END] [END] [END] 

[START] group people [END] NIL NIL NIL NIL NIL
[START] steps [END] [END] [END] [END] [END] [END] [END] 

[START] young woman bikini running [END] NIL NIL NIL
[START] steps [END] [END] [END] [END] [END] [END] [END] 

[START] group 11 people [END] NIL NIL NIL NIL
[START] steps [END] [END] [END] [END] [END] [END] [END] 

[START] woman long blond hair [END] NIL NIL NIL
[START] steps [END] [END] [END] [END] [END] [END] [END] 

[START] man something [END] NIL NIL NIL NIL NIL
[START] steps [END] [END] [END] [END] [END] [END] [END] 

[START] spotted dog chews [END] NIL NIL NIL NIL
[START] steps [END] [END] [END] [END] [END] [END] [END] 

[START] man using [END] NIL NIL NIL NIL NIL
[START] steps [END] [END] [END] [END] [END] [END] [END] 

Epoch:1, Iteration: 448, Loss: 138.82, TimeElapsed: 40.18Min
Working (10, 200) torch.Size([10, 9])
Normal torch.Size([10, 9]) torch.Size([10, 9, 2512])
[START] child hiding [END] NIL NIL NIL NIL NIL
[START] two [END] [END] [END] [END] [END] [END] [END] 

[START] two men young [END] NIL NIL NIL NIL
[START] two [END] [END] [END] [END] [END] [END] [END] 

[START] man shows child [END] NIL NIL NIL NIL
[START] two [END] [END] [END] [END] [END] [END] [END] 

[START] man lime green shirt waits [END] NIL NIL
[START] two [END] [END] [END] [END] [END] [END] [END] 

[START] middle aged man sleeping [END] NIL NIL NIL
[START] two [END] [END] [END] [END] [END] [END] [END] 

[START] dark haired man sitting drinking [END] NIL NIL
[START] two [END] [END] [END] [END] [END] [END] [END] 

[START] man yellow [END] NIL NIL NIL NIL NIL
[START] two [END] [END] [END] [END] [END] [END] [END] 

[START] elderly man [END] NIL NIL NIL NIL NIL
[START] two [END] [END] [END] [END] [END] [END] [END] 

[START] medium sized brown dog [END] NIL NIL NIL
[START] two [END] [END] [END] [END] [END] [END] [END] 

[START] man blue [END] NIL NIL NIL NIL NIL
[START] two [END] [END] [END] [END] [END] [END] [END] 

Epoch:1, Iteration: 449, Loss: 114.7, TimeElapsed: 40.23Min
Working (10, 200) torch.Size([10, 9])
Normal torch.Size([10, 9]) torch.Size([10, 9, 2512])
[START] couple sitting front [END] NIL NIL NIL NIL
[START] two orange [END] NIL NIL NIL NIL NIL 

[START] two people smile camera [END] NIL NIL NIL
[START] two orange [END] NIL NIL NIL NIL NIL 

[START] toddler white onesie [END] NIL NIL NIL NIL
[START] two orange [END] NIL NIL NIL NIL NIL 

[START] man red [END] NIL NIL NIL NIL NIL
[START] two orange [END] NIL NIL NIL NIL NIL 

[START] produce market filled [END] NIL NIL NIL NIL
[START] two orange [END] NIL NIL NIL NIL NIL 

[START] black dog [END] NIL NIL NIL NIL NIL
[START] two orange [END] NIL NIL NIL NIL NIL 

[START] busy town center many [END] NIL NIL NIL
[START] two orange [END] NIL NIL NIL NIL NIL 

[START] man beard works [END] NIL NIL NIL NIL
[START] two orange [END] NIL NIL NIL NIL NIL 

[START] men roadwork backdrop brown [END] NIL NIL NIL
[START] two orange [END] NIL NIL NIL NIL NIL 

[START] man green [END] NIL NIL NIL NIL NIL
[START] two orange [END] NIL NIL NIL NIL NIL 

Epoch:1, Iteration: 450, Loss: 166.57, TimeElapsed: 40.28Min
Working (10, 200) torch.Size([10, 9])
Normal torch.Size([10, 9]) torch.Size([10, 9, 2512])
[START] pigeons scouring food sidewalk [END] NIL NIL NIL
[START] home home home home home home home home 

[START] man harness [END] NIL NIL NIL NIL NIL
[START] home home home home home home home home 

[START] brown dog running [END] NIL NIL NIL NIL
[START] home home home home home home home home 

[START] woman wearing high heels [END] NIL NIL NIL
[START] home home home home home home home home 

[START] man working wood [END] NIL NIL NIL NIL
[START] home home home home home home home home 

[START] woman running beach [END] NIL NIL NIL NIL
[START] home home home home home home home home 

[START] tourist taking pictures [END] NIL NIL NIL NIL
[START] home home home home home home home home 

[START] woman sitting [END] NIL NIL NIL NIL NIL
[START] home home home home home home home home 

[START] dad two kids [END] NIL NIL NIL NIL
[START] home home home home home home home home 

[START] female wearing black shirt [END] NIL NIL NIL
[START] home home home home home home home home 

Epoch:1, Iteration: 451, Loss: 159.8, TimeElapsed: 40.32Min
Working (10, 200) torch.Size([10, 9])
Normal torch.Size([10, 9]) torch.Size([10, 9, 2512])
[START] musician plays electric guitar surrounded [END] NIL NIL
[START] people NIL NIL NIL NIL NIL NIL NIL 

[START] behind man [END] NIL NIL NIL NIL NIL
[START] people NIL NIL NIL NIL NIL NIL NIL 

[START] young girl sitting [END] NIL NIL NIL NIL
[START] people NIL NIL NIL NIL NIL NIL NIL 

[START] two soccer players one wearing white [END] NIL
[START] people NIL NIL NIL NIL NIL NIL NIL 

[START] women bike helmets take break [END] NIL NIL
[START] people NIL NIL NIL NIL NIL NIL NIL 

[START] delicious barbecue prepared [END] NIL NIL NIL NIL
[START] people NIL NIL NIL NIL NIL NIL NIL 

[START] baseball pitcher looking towards home [END] NIL NIL
[START] people NIL NIL NIL NIL NIL NIL NIL 

[START] audio control person taking care [END] NIL NIL
[START] people NIL NIL NIL NIL NIL NIL NIL 

[START] unicyclist performs streets [END] NIL NIL NIL NIL
[START] people NIL NIL NIL NIL NIL NIL NIL 

[START] man woman [END] NIL NIL NIL NIL NIL
[START] people NIL NIL NIL NIL NIL NIL NIL 

Epoch:1, Iteration: 452, Loss: 192.99, TimeElapsed: 40.38Min
Working (10, 200) torch.Size([10, 9])
Normal torch.Size([10, 9]) torch.Size([10, 9, 2512])
[START] man wearing black playing silver [END] NIL NIL
[START] catches NIL NIL NIL NIL NIL NIL NIL 

[START] girl performing long [END] NIL NIL NIL NIL
[START] catches NIL NIL NIL NIL NIL NIL NIL 

[START] two hands flipping [END] NIL NIL NIL NIL
[START] catches NIL NIL NIL NIL NIL NIL NIL 

[START] man red coat [END] NIL NIL NIL NIL
[START] catches NIL NIL NIL NIL NIL NIL NIL 

[START] child swimming underneath water [END] NIL NIL NIL
[START] catches NIL NIL NIL NIL NIL NIL NIL 

[START] woman taking picture [END] NIL NIL NIL NIL
[START] catches NIL NIL NIL NIL NIL NIL NIL 

[START] man pulling cart [END] NIL NIL NIL NIL
[START] catches NIL NIL NIL NIL NIL NIL NIL 

[START] two people using circular saw [END] NIL NIL
[START] catches NIL NIL NIL NIL NIL NIL NIL 

[START] man relaxing folding chair [END] NIL NIL NIL
[START] catches NIL NIL NIL NIL NIL NIL NIL 

[START] blond little boy painting [END] NIL NIL NIL
[START] catches NIL NIL NIL NIL NIL NIL NIL 

Epoch:1, Iteration: 453, Loss: 187.5, TimeElapsed: 40.44Min
Working (10, 200) torch.Size([10, 9])
Normal torch.Size([10, 9]) torch.Size([10, 9, 2512])
[START] man safety ear covers working [END] NIL NIL
[START] towards towards towards towards towards towards towards towards 

[START] mother daughter coloring together [END] NIL NIL NIL
[START] towards towards towards towards towards towards towards towards 

[START] two men talking restaurant [END] NIL NIL NIL
[START] towards towards towards towards towards towards towards towards 

[START] young boy smiling next [END] NIL NIL NIL
[START] towards towards towards towards towards towards towards towards 

[START] man woman [END] NIL NIL NIL NIL NIL
[START] towards towards towards towards towards towards towards towards 

[START] man shaved [END] NIL NIL NIL NIL NIL
[START] towards towards towards towards towards towards towards towards 

[START] woman stretches calves next [END] NIL NIL NIL
[START] towards towards towards towards towards towards towards towards 

[START] man gray [END] NIL NIL NIL NIL NIL
[START] towards towards towards towards towards towards towards towards 

[START] elements small [END] NIL NIL NIL NIL NIL
[START] towards towards towards towards towards towards towards towards 

[START] asian farmer walking rice [END] NIL NIL NIL
[START] towards towards towards towards towards towards towards towards 

Epoch:1, Iteration: 454, Loss: 183.71, TimeElapsed: 40.5Min
Working (10, 200) torch.Size([10, 9])
Normal torch.Size([10, 9]) torch.Size([10, 9, 2512])
[START] parent holding child swing [END] NIL NIL NIL
[START] man NIL NIL NIL NIL NIL NIL NIL 

[START] person child [END] NIL NIL NIL NIL NIL
[START] man NIL NIL NIL NIL NIL NIL NIL 

[START] person climbs tall flat [END] NIL NIL NIL
[START] man NIL NIL NIL NIL NIL NIL NIL 

[START] woman bikini [END] NIL NIL NIL NIL NIL
[START] man NIL NIL NIL NIL NIL NIL NIL 

[START] man yellow jacket [END] NIL NIL NIL NIL
[START] man NIL NIL NIL NIL NIL NIL NIL 

[START] man wearing gray hooded [END] NIL NIL NIL
[START] man NIL NIL NIL NIL NIL NIL NIL 

[START] girl laying sauna [END] NIL NIL NIL NIL
[START] man NIL NIL NIL NIL NIL NIL NIL 

[START] woman sings [END] NIL NIL NIL NIL NIL
[START] man NIL NIL NIL NIL NIL NIL NIL 

[START] three oriental woman girls buying [END] NIL NIL
[START] man NIL NIL NIL NIL NIL NIL NIL 

[START] man pair [END] NIL NIL NIL NIL NIL
[START] man NIL NIL NIL NIL NIL NIL NIL 

Epoch:1, Iteration: 455, Loss: 151.48, TimeElapsed: 40.54Min
Working (10, 200) torch.Size([10, 9])
Normal torch.Size([10, 9]) torch.Size([10, 9, 2512])
[START] baby hospital sleeping [END] NIL NIL NIL NIL
[START] man swim swim swim swim swim swim swim 

[START] three people shown living poverty [END] NIL NIL
[START] man swim swim swim swim swim swim swim 

[START] person squeezing [END] NIL NIL NIL NIL NIL
[START] man swim swim swim swim swim swim swim 

[START] two scuba divers diving [END] NIL NIL NIL
[START] man swim swim swim swim swim swim swim 

[START] worker wearing hard [END] NIL NIL NIL NIL
[START] man swim swim swim swim swim swim swim 

[START] african woman carries [END] NIL NIL NIL NIL
[START] man swim swim swim swim swim swim swim 

[START] man wearing stained blue [END] NIL NIL NIL
[START] man swim swim swim swim swim swim swim 

[START] man standing beside grip [END] NIL NIL NIL
[START] man swim swim swim swim swim swim swim 

[START] three men standing cliff overlooking [END] NIL NIL
[START] man swim swim swim swim swim swim swim 

[START] two people standing clear umbrellas [END] NIL NIL
[START] man swim swim swim swim swim swim swim 

Epoch:1, Iteration: 456, Loss: 193.0, TimeElapsed: 40.59Min
Working (10, 200) torch.Size([10, 9])
Normal torch.Size([10, 9]) torch.Size([10, 9, 2512])
[START] children costumes standing [END] NIL NIL NIL NIL
[START] man wearing wearing NIL NIL NIL NIL NIL 

[START] crowd people [END] NIL NIL NIL NIL NIL
[START] man wearing wearing NIL NIL NIL NIL NIL 

[START] five people playing [END] NIL NIL NIL NIL
[START] man wearing wearing NIL NIL NIL NIL NIL 

[START] man uniform playing [END] NIL NIL NIL NIL
[START] man wearing wearing NIL NIL NIL NIL NIL 

[START] two girls dresses run [END] NIL NIL NIL
[START] man wearing wearing NIL NIL NIL NIL NIL 

[START] older gentleman dressed completely white [END] NIL NIL
[START] man wearing wearing NIL NIL NIL NIL NIL 

[START] young woman fingers [END] NIL NIL NIL NIL
[START] man wearing wearing NIL NIL NIL NIL NIL 

[START] two guys looking screen [END] NIL NIL NIL
[START] man wearing wearing NIL NIL NIL NIL NIL 

[START] young boy laying face [END] NIL NIL NIL
[START] man wearing wearing NIL NIL NIL NIL NIL 

[START] uniformed man blue security [END] NIL NIL NIL
[START] man wearing wearing NIL NIL NIL NIL NIL 

Epoch:1, Iteration: 457, Loss: 160.74, TimeElapsed: 40.64Min
Working (10, 200) torch.Size([10, 9])
Error (10, 200) torch.Size([10, 9])
Normal torch.Size([10, 9]) (10, 200)
Working (10, 200) torch.Size([10, 9])
Normal torch.Size([10, 9]) torch.Size([10, 9, 2512])
[START] two people wait cross [END] NIL NIL NIL
[START] man NIL NIL NIL NIL NIL NIL NIL 

[START] boy blue football [END] NIL NIL NIL NIL
[START] man NIL NIL NIL NIL NIL NIL NIL 

[START] one woman wearing gray [END] NIL NIL NIL
[START] man NIL NIL NIL NIL NIL NIL NIL 

[START] young girl tries [END] NIL NIL NIL NIL
[START] man NIL NIL NIL NIL NIL NIL NIL 

[START] woman working ladder wearing [END] NIL NIL NIL
[START] man NIL NIL NIL NIL NIL NIL NIL 

[START] two people leaning green railing [END] NIL NIL
[START] man NIL NIL NIL NIL NIL NIL NIL 

[START] child blue [END] NIL NIL NIL NIL NIL
[START] man NIL NIL NIL NIL NIL NIL NIL 

[START] two children stand near water fountain [END] NIL
[START] man NIL NIL NIL NIL NIL NIL NIL 

[START] two men walking [END] NIL NIL NIL NIL
[START] man NIL NIL NIL NIL NIL NIL NIL 

[START] woman blue [END] NIL NIL NIL NIL NIL
[START] man NIL NIL NIL NIL NIL NIL NIL 

Epoch:1, Iteration: 458, Loss: 90.21, TimeElapsed: 40.73Min
Working (10, 200) torch.Size([10, 9])
Normal torch.Size([10, 9]) torch.Size([10, 9, 2512])
[START] man dressed jack [END] NIL NIL NIL NIL
[START] daughter daughter daughter daughter daughter daughter daughter daughter 

[START] person hanging [END] NIL NIL NIL NIL NIL
[START] daughter daughter daughter daughter daughter daughter daughter daughter 

[START] man martial [END] NIL NIL NIL NIL NIL
[START] daughter daughter daughter daughter daughter daughter daughter daughter 

[START] breakdancer red [END] NIL NIL NIL NIL NIL
[START] daughter daughter daughter daughter daughter daughter daughter daughter 

[START] man button [END] NIL NIL NIL NIL NIL
[START] daughter daughter daughter daughter daughter daughter daughter daughter 

[START] people sit stools [END] NIL NIL NIL NIL
[START] daughter daughter daughter daughter daughter daughter daughter daughter 

[START] several younger people walking [END] NIL NIL NIL
[START] daughter daughter daughter daughter daughter daughter daughter daughter 

[START] group people scattered along [END] NIL NIL NIL
[START] daughter daughter daughter daughter daughter daughter daughter daughter 

[START] firefighter sprays piles [END] NIL NIL NIL NIL
[START] daughter daughter daughter daughter daughter daughter daughter daughter 

[START] man working sitting front [END] NIL NIL NIL
[START] daughter daughter daughter daughter daughter daughter daughter daughter 

Epoch:1, Iteration: 459, Loss: 174.77, TimeElapsed: 40.78Min
Working (10, 200) torch.Size([10, 9])
Normal torch.Size([10, 9]) torch.Size([10, 9, 2512])
[START] woman wearing orange holds green [END] NIL NIL
[START] infant infant infant infant infant infant infant infant 

[START] girl rides [END] NIL NIL NIL NIL NIL
[START] infant infant infant infant infant infant infant infant 

[START] people crossing street [END] NIL NIL NIL NIL
[START] infant infant infant infant infant infant infant infant 

[START] small dog [END] NIL NIL NIL NIL NIL
[START] infant infant infant infant infant infant infant infant 

[START] people working hole searching [END] NIL NIL NIL
[START] infant infant infant infant infant infant infant infant 

[START] young woman jogging suit [END] NIL NIL NIL
[START] infant infant infant infant infant infant infant infant 

[START] produce market filled [END] NIL NIL NIL NIL
[START] infant infant infant infant infant infant infant infant 

[START] man blue [END] NIL NIL NIL NIL NIL
[START] infant infant infant infant infant infant infant infant 

[START] kid standing swing [END] NIL NIL NIL NIL
[START] infant infant infant infant infant infant infant infant 

[START] girl cat costume [END] NIL NIL NIL NIL
[START] infant infant infant infant infant infant infant infant 

Epoch:1, Iteration: 460, Loss: 132.5, TimeElapsed: 40.83Min
Working (10, 200) torch.Size([10, 9])
Normal torch.Size([10, 9]) torch.Size([10, 9, 2512])
[START] woman sitting outside house [END] NIL NIL NIL
[START] people people NIL NIL NIL NIL NIL NIL 

[START] person hiking grassy [END] NIL NIL NIL NIL
[START] people people NIL NIL NIL NIL NIL NIL 

[START] man sitting top woman [END] NIL NIL NIL
[START] people people NIL NIL NIL NIL NIL NIL 

[START] girl wearing pink [END] NIL NIL NIL NIL
[START] people people NIL NIL NIL NIL NIL NIL 

[START] young woman playing [END] NIL NIL NIL NIL
[START] people people NIL NIL NIL NIL NIL NIL 

[START] empty chairlift chairlift occupied [END] NIL NIL NIL
[START] people people NIL NIL NIL NIL NIL NIL 

[START] man sits bridge [END] NIL NIL NIL NIL
[START] people people NIL NIL NIL NIL NIL NIL 

[START] four kids riding [END] NIL NIL NIL NIL
[START] people people NIL NIL NIL NIL NIL NIL 

[START] man apron appears [END] NIL NIL NIL NIL
[START] people people NIL NIL NIL NIL NIL NIL 

[START] two dogs play together splashing [END] NIL NIL
[START] people people NIL NIL NIL NIL NIL NIL 

Epoch:1, Iteration: 461, Loss: 136.0, TimeElapsed: 40.88Min
Working (10, 200) torch.Size([10, 9])
Normal torch.Size([10, 9]) torch.Size([10, 9, 2512])
[START] brown dog tongue sticking [END] NIL NIL NIL
[START] one NIL NIL NIL NIL NIL NIL NIL 

[START] rock climbers [END] NIL NIL NIL NIL NIL
[START] one NIL NIL NIL NIL NIL NIL NIL 

[START] child helmet [END] NIL NIL NIL NIL NIL
[START] one NIL NIL NIL NIL NIL NIL NIL 

[START] two motorcyclists lay side [END] NIL NIL NIL
[START] one NIL NIL NIL NIL NIL NIL NIL 

[START] people practicing instrumental music skills [END] NIL NIL
[START] one NIL NIL NIL NIL NIL NIL NIL 

[START] runner wearing yellow shoes leaping [END] NIL NIL
[START] one NIL NIL NIL NIL NIL NIL NIL 

[START] man holding cup [END] NIL NIL NIL NIL
[START] one NIL NIL NIL NIL NIL NIL NIL 

[START] man tattoos [END] NIL NIL NIL NIL NIL
[START] one NIL NIL NIL NIL NIL NIL NIL 

[START] two people heaving clothing preparing food [END] NIL
[START] one NIL NIL NIL NIL NIL NIL NIL 

[START] people crowd around street filled [END] NIL NIL
[START] one NIL NIL NIL NIL NIL NIL NIL 

Epoch:1, Iteration: 462, Loss: 204.35, TimeElapsed: 40.92Min
Working (10, 200) torch.Size([10, 9])
Normal torch.Size([10, 9]) torch.Size([10, 9, 2512])
[START] man left [END] NIL NIL NIL NIL NIL
[START] produce produce produce produce produce produce produce produce 

[START] shirtless man escorts horse pulling [END] NIL NIL
[START] produce produce produce produce produce produce produce produce 

[START] man woman stand [END] NIL NIL NIL NIL
[START] produce produce produce produce produce produce produce produce 

[START] dog chases birds [END] NIL NIL NIL NIL
[START] produce produce produce produce produce produce produce produce 

[START] man woman [END] NIL NIL NIL NIL NIL
[START] produce produce produce produce produce produce produce produce 

[START] joggers pedestrians enjoy [END] NIL NIL NIL NIL
[START] produce produce produce produce produce produce produce produce 

[START] one man hands another man food [END] NIL
[START] produce produce produce produce produce produce produce produce 

[START] small group 5 white [END] NIL NIL NIL
[START] produce produce produce produce produce produce produce produce 

[START] man standing [END] NIL NIL NIL NIL NIL
[START] produce produce produce produce produce produce produce produce 

[START] girl jumping one rock [END] NIL NIL NIL
[START] produce produce produce produce produce produce produce produce 

Epoch:1, Iteration: 463, Loss: 133.91, TimeElapsed: 40.98Min
Working (10, 200) torch.Size([10, 9])
Normal torch.Size([10, 9]) torch.Size([10, 9, 2512])
[START] male soldier green military [END] NIL NIL NIL
[START] empty empty empty empty empty empty empty empty 

[START] dog cat [END] NIL NIL NIL NIL NIL
[START] empty empty empty empty empty empty empty empty 

[START] small white dog [END] NIL NIL NIL NIL
[START] empty empty empty empty empty empty empty empty 

[START] man smiling holding crying [END] NIL NIL NIL
[START] empty empty empty empty empty empty empty empty 

[START] man rock climbing [END] NIL NIL NIL NIL
[START] empty empty empty empty empty empty empty empty 

[START] little child [END] NIL NIL NIL NIL NIL
[START] empty empty empty empty empty empty empty empty 

[START] boy wearing rugby [END] NIL NIL NIL NIL
[START] empty empty empty empty empty empty empty empty 

[START] man sits steps shadows [END] NIL NIL NIL
[START] empty empty empty empty empty empty empty empty 

[START] several individuals possibly [END] NIL NIL NIL NIL
[START] empty empty empty empty empty empty empty empty 

[START] track sprinter takes [END] NIL NIL NIL NIL
[START] empty empty empty empty empty empty empty empty 

Epoch:1, Iteration: 464, Loss: 160.23, TimeElapsed: 41.03Min
Working (10, 200) torch.Size([10, 9])
Normal torch.Size([10, 9]) torch.Size([10, 9, 2512])
[START] speaker 55th [END] NIL NIL NIL NIL NIL
[START] woman [END] [END] [END] [END] [END] [END] [END] 

[START] man snowboards [END] NIL NIL NIL NIL NIL
[START] woman [END] [END] [END] [END] [END] [END] [END] 

[START] man blue hat [END] NIL NIL NIL NIL
[START] woman [END] [END] [END] [END] [END] [END] [END] 

[START] man jumping cliff side [END] NIL NIL NIL
[START] woman [END] [END] [END] [END] [END] [END] [END] 

[START] gentleman coming laundromat [END] NIL NIL NIL NIL
[START] woman [END] [END] [END] [END] [END] [END] [END] 

[START] six men wearing identifying [END] NIL NIL NIL
[START] woman [END] [END] [END] [END] [END] [END] [END] 

[START] man black [END] NIL NIL NIL NIL NIL
[START] woman [END] [END] [END] [END] [END] [END] [END] 

[START] dark haired little boy upset [END] NIL NIL
[START] woman [END] [END] [END] [END] [END] [END] [END] 

[START] young man shaggy [END] NIL NIL NIL NIL
[START] woman [END] [END] [END] [END] [END] [END] [END] 

[START] three people sit waiting [END] NIL NIL NIL
[START] woman [END] [END] [END] [END] [END] [END] [END] 

Epoch:1, Iteration: 465, Loss: 177.96, TimeElapsed: 41.09Min
Working (10, 200) torch.Size([10, 9])
Normal torch.Size([10, 9]) torch.Size([10, 9, 2512])
[START] women different ethnicities stand room [END] NIL NIL
[START] woman NIL NIL NIL NIL NIL NIL NIL 

[START] group people wait [END] NIL NIL NIL NIL
[START] woman NIL NIL NIL NIL NIL NIL NIL 

[START] street performers watched [END] NIL NIL NIL NIL
[START] woman NIL NIL NIL NIL NIL NIL NIL 

[START] three children two girls one [END] NIL NIL
[START] woman NIL NIL NIL NIL NIL NIL NIL 

[START] couple romantic [END] NIL NIL NIL NIL NIL
[START] woman NIL NIL NIL NIL NIL NIL NIL 

[START] man white shirt [END] NIL NIL NIL NIL
[START] woman NIL NIL NIL NIL NIL NIL NIL 

[START] black white dog [END] NIL NIL NIL NIL
[START] woman NIL NIL NIL NIL NIL NIL NIL 

[START] little girl kid [END] NIL NIL NIL NIL
[START] woman NIL NIL NIL NIL NIL NIL NIL 

[START] people city looking [END] NIL NIL NIL NIL
[START] woman NIL NIL NIL NIL NIL NIL NIL 

[START] small child using [END] NIL NIL NIL NIL
[START] woman NIL NIL NIL NIL NIL NIL NIL 

Epoch:1, Iteration: 466, Loss: 129.63, TimeElapsed: 41.14Min
Working (10, 200) torch.Size([10, 9])
Normal torch.Size([10, 9]) torch.Size([10, 9, 2512])
[START] couple kissing middle [END] NIL NIL NIL NIL
[START] two NIL NIL NIL NIL NIL NIL NIL 

[START] man brown [END] NIL NIL NIL NIL NIL
[START] two NIL NIL NIL NIL NIL NIL NIL 

[START] two men squat light candles [END] NIL NIL
[START] two NIL NIL NIL NIL NIL NIL NIL 

[START] people going lives [END] NIL NIL NIL NIL
[START] two NIL NIL NIL NIL NIL NIL NIL 

[START] man cleaning boat [END] NIL NIL NIL NIL
[START] two NIL NIL NIL NIL NIL NIL NIL 

[START] boy uses plastic [END] NIL NIL NIL NIL
[START] two NIL NIL NIL NIL NIL NIL NIL 

[START] child white briefs [END] NIL NIL NIL NIL
[START] two NIL NIL NIL NIL NIL NIL NIL 

[START] black woman [END] NIL NIL NIL NIL NIL
[START] two NIL NIL NIL NIL NIL NIL NIL 

[START] little boy standing high [END] NIL NIL NIL
[START] two NIL NIL NIL NIL NIL NIL NIL 

[START] gray dog runs along side pool [END] NIL
[START] two NIL NIL NIL NIL NIL NIL NIL 

Epoch:1, Iteration: 467, Loss: 181.77, TimeElapsed: 41.19Min
Working (10, 200) torch.Size([10, 9])
Normal torch.Size([10, 9]) torch.Size([10, 9, 2512])
[START] 4 men playing dominoes together [END] NIL NIL
[START] lay lay NIL NIL NIL NIL NIL NIL 

[START] young boy looking [END] NIL NIL NIL NIL
[START] lay lay NIL NIL NIL NIL NIL NIL 

[START] surfer wearing wetsuit [END] NIL NIL NIL NIL
[START] lay lay NIL NIL NIL NIL NIL NIL 

[START] man red [END] NIL NIL NIL NIL NIL
[START] lay lay NIL NIL NIL NIL NIL NIL 

[START] man wearing black [END] NIL NIL NIL NIL
[START] lay lay NIL NIL NIL NIL NIL NIL 

[START] 3 guys biking street [END] NIL NIL NIL
[START] lay lay NIL NIL NIL NIL NIL NIL 

[START] photographer shooting sunset beach [END] NIL NIL NIL
[START] lay lay NIL NIL NIL NIL NIL NIL 

[START] woman looking [END] NIL NIL NIL NIL NIL
[START] lay lay NIL NIL NIL NIL NIL NIL 

[START] child standing [END] NIL NIL NIL NIL NIL
[START] lay lay NIL NIL NIL NIL NIL NIL 

[START] man black hair sits [END] NIL NIL NIL
[START] lay lay NIL NIL NIL NIL NIL NIL 

Epoch:1, Iteration: 468, Loss: 133.37, TimeElapsed: 41.25Min
Working (10, 200) torch.Size([10, 9])
Normal torch.Size([10, 9]) torch.Size([10, 9, 2512])
[START] woman blue [END] NIL NIL NIL NIL NIL
[START] [END] [END] [END] [END] [END] [END] [END] [END] 

[START] people sitting drinking [END] NIL NIL NIL NIL
[START] [END] [END] [END] [END] [END] [END] [END] [END] 

[START] young boy red [END] NIL NIL NIL NIL
[START] [END] [END] [END] [END] [END] [END] [END] [END] 

[START] man hat [END] NIL NIL NIL NIL NIL
[START] [END] [END] [END] [END] [END] [END] [END] [END] 

[START] rows people watching man [END] NIL NIL NIL
[START] [END] [END] [END] [END] [END] [END] [END] [END] 

[START] two ladies riding bicycles near [END] NIL NIL
[START] [END] [END] [END] [END] [END] [END] [END] [END] 

[START] woman dressed [END] NIL NIL NIL NIL NIL
[START] [END] [END] [END] [END] [END] [END] [END] [END] 

[START] dog jumping [END] NIL NIL NIL NIL NIL
[START] [END] [END] [END] [END] [END] [END] [END] [END] 

[START] man sitting table [END] NIL NIL NIL NIL
[START] [END] [END] [END] [END] [END] [END] [END] [END] 

[START] group people wearing name tags gather [END] NIL
[START] [END] [END] [END] [END] [END] [END] [END] [END] 

Epoch:1, Iteration: 469, Loss: 116.44, TimeElapsed: 41.3Min
Working (10, 200) torch.Size([10, 9])
Normal torch.Size([10, 9]) torch.Size([10, 9, 2512])
[START] two women fun outdoors [END] NIL NIL NIL
[START] costumes NIL NIL NIL NIL NIL NIL NIL 

[START] man orange safety [END] NIL NIL NIL NIL
[START] costumes NIL NIL NIL NIL NIL NIL NIL 

[START] group middle age people [END] NIL NIL NIL
[START] costumes NIL NIL NIL NIL NIL NIL NIL 

[START] cameraman films two sports [END] NIL NIL NIL
[START] costumes NIL NIL NIL NIL NIL NIL NIL 

[START] large crowd people gathered together [END] NIL NIL
[START] costumes NIL NIL NIL NIL NIL NIL NIL 

[START] many people outdoor gathering [END] NIL NIL NIL
[START] costumes NIL NIL NIL NIL NIL NIL NIL 

[START] young boy smiles [END] NIL NIL NIL NIL
[START] costumes NIL NIL NIL NIL NIL NIL NIL 

[START] man yellow stands [END] NIL NIL NIL NIL
[START] costumes NIL NIL NIL NIL NIL NIL NIL 

[START] two girls tree one [END] NIL NIL NIL
[START] costumes NIL NIL NIL NIL NIL NIL NIL 

[START] older man woman holding [END] NIL NIL NIL
[START] costumes NIL NIL NIL NIL NIL NIL NIL 

Epoch:1, Iteration: 470, Loss: 165.6, TimeElapsed: 41.34Min
Working (10, 200) torch.Size([10, 9])
Normal torch.Size([10, 9]) torch.Size([10, 9, 2512])
[START] person blue shirt [END] NIL NIL NIL NIL
[START] man together NIL NIL NIL NIL NIL NIL 

[START] person welding large green [END] NIL NIL NIL
[START] man together NIL NIL NIL NIL NIL NIL 

[START] man blue jacket sawing [END] NIL NIL NIL
[START] man together NIL NIL NIL NIL NIL NIL 

[START] fedex driver listens [END] NIL NIL NIL NIL
[START] man together NIL NIL NIL NIL NIL NIL 

[START] men playing volleyball one player [END] NIL NIL
[START] man together NIL NIL NIL NIL NIL NIL 

[START] number 21 slides second base [END] NIL NIL
[START] man together NIL NIL NIL NIL NIL NIL 

[START] construction worker jack hammering away [END] NIL NIL
[START] man together NIL NIL NIL NIL NIL NIL 

[START] picture [END] NIL NIL NIL NIL NIL NIL
[START] man together NIL NIL NIL NIL NIL NIL 

[START] three different people wearing light colored [END] NIL
[START] man together NIL NIL NIL NIL NIL NIL 

[START] woman wearing blue shirt [END] NIL NIL NIL
[START] man together NIL NIL NIL NIL NIL NIL 

Epoch:1, Iteration: 471, Loss: 208.55, TimeElapsed: 41.39Min
Working (10, 200) torch.Size([10, 9])
Normal torch.Size([10, 9]) torch.Size([10, 9, 2512])
[START] blue man group performing [END] NIL NIL NIL
[START] man tries tries tries tries tries tries tries 

[START] cooks preparing meal either [END] NIL NIL NIL
[START] man tries tries tries tries tries tries tries 

[START] version street hockey [END] NIL NIL NIL NIL
[START] man tries tries tries tries tries tries tries 

[START] boy takes turn [END] NIL NIL NIL NIL
[START] man tries tries tries tries tries tries tries 

[START] two people grilling [END] NIL NIL NIL NIL
[START] man tries tries tries tries tries tries tries 

[START] two woman one red [END] NIL NIL NIL
[START] man tries tries tries tries tries tries tries 

[START] person dressed [END] NIL NIL NIL NIL NIL
[START] man tries tries tries tries tries tries tries 

[START] young woman black purse sits [END] NIL NIL
[START] man tries tries tries tries tries tries tries 

[START] person shaved head [END] NIL NIL NIL NIL
[START] man tries tries tries tries tries tries tries 

[START] men working construction project [END] NIL NIL NIL
[START] man tries tries tries tries tries tries tries 

Epoch:1, Iteration: 472, Loss: 127.74, TimeElapsed: 41.44Min
Working (10, 200) torch.Size([10, 9])
Normal torch.Size([10, 9]) torch.Size([10, 9, 2512])
[START] two baseball players standing [END] NIL NIL NIL
[START] person climbers climbers NIL NIL NIL NIL NIL 

[START] two people sit [END] NIL NIL NIL NIL
[START] person climbers climbers NIL NIL NIL NIL NIL 

[START] older man working loom [END] NIL NIL NIL
[START] person climbers climbers NIL NIL NIL NIL NIL 

[START] asian woman pours hot [END] NIL NIL NIL
[START] person climbers climbers NIL NIL NIL NIL NIL 

[START] group people riding horses [END] NIL NIL NIL
[START] person climbers climbers NIL NIL NIL NIL NIL 

[START] two laughing women sit table [END] NIL NIL
[START] person climbers climbers NIL NIL NIL NIL NIL 

[START] seven men chipping tiles hammers [END] NIL NIL
[START] person climbers climbers NIL NIL NIL NIL NIL 

[START] asian man stands [END] NIL NIL NIL NIL
[START] person climbers climbers NIL NIL NIL NIL NIL 

[START] young man breakdancing [END] NIL NIL NIL NIL
[START] person climbers climbers NIL NIL NIL NIL NIL 

[START] pit crew working [END] NIL NIL NIL NIL
[START] person climbers climbers NIL NIL NIL NIL NIL 

Epoch:1, Iteration: 473, Loss: 198.9, TimeElapsed: 41.49Min
Working (10, 200) torch.Size([10, 9])
Normal torch.Size([10, 9]) torch.Size([10, 9, 2512])
[START] woman man talk [END] NIL NIL NIL NIL
[START] man [END] [END] NIL NIL NIL NIL NIL 

[START] man bending repairing [END] NIL NIL NIL NIL
[START] man [END] [END] NIL NIL NIL NIL NIL 

[START] two boys playing soccer go [END] NIL NIL
[START] man [END] [END] NIL NIL NIL NIL NIL 

[START] man rock climbing near [END] NIL NIL NIL
[START] man [END] [END] NIL NIL NIL NIL NIL 

[START] firemen lowered [END] NIL NIL NIL NIL NIL
[START] man [END] [END] NIL NIL NIL NIL NIL 

[START] green team lifts [END] NIL NIL NIL NIL
[START] man [END] [END] NIL NIL NIL NIL NIL 

[START] shirtless man jumping [END] NIL NIL NIL NIL
[START] man [END] [END] NIL NIL NIL NIL NIL 

[START] guy waterskiing behind [END] NIL NIL NIL NIL
[START] man [END] [END] NIL NIL NIL NIL NIL 

[START] tribal performance dance [END] NIL NIL NIL NIL
[START] man [END] [END] NIL NIL NIL NIL NIL 

[START] warehouse workers standing near [END] NIL NIL NIL
[START] man [END] [END] NIL NIL NIL NIL NIL 

Epoch:1, Iteration: 474, Loss: 157.47, TimeElapsed: 41.53Min
Working (10, 200) torch.Size([10, 9])
Normal torch.Size([10, 9]) torch.Size([10, 9, 2512])
[START] small black white dog [END] NIL NIL NIL
[START] older outdoors outdoors outdoors outdoors outdoors outdoors outdoors 

[START] group young children [END] NIL NIL NIL NIL
[START] older outdoors outdoors outdoors outdoors outdoors outdoors outdoors 

[START] long haired brunette black [END] NIL NIL NIL
[START] older outdoors outdoors outdoors outdoors outdoors outdoors outdoors 

[START] young african boy dark blue [END] NIL NIL
[START] older outdoors outdoors outdoors outdoors outdoors outdoors outdoors 

[START] green sunglasses pink swimsuit set [END] NIL NIL
[START] older outdoors outdoors outdoors outdoors outdoors outdoors outdoors 

[START] man white [END] NIL NIL NIL NIL NIL
[START] older outdoors outdoors outdoors outdoors outdoors outdoors outdoors 

[START] infant toddler [END] NIL NIL NIL NIL NIL
[START] older outdoors outdoors outdoors outdoors outdoors outdoors outdoors 

[START] african man working [END] NIL NIL NIL NIL
[START] older outdoors outdoors outdoors outdoors outdoors outdoors outdoors 

[START] little girl buy inside [END] NIL NIL NIL
[START] older outdoors outdoors outdoors outdoors outdoors outdoors outdoors 

[START] two jacketed men double barreled shotguns carry [END]
[START] older outdoors outdoors outdoors outdoors outdoors outdoors outdoors 

Epoch:1, Iteration: 475, Loss: 147.08, TimeElapsed: 41.58Min
Working (10, 200) torch.Size([10, 9])
Normal torch.Size([10, 9]) torch.Size([10, 9, 2512])
[START] teenager performing [END] NIL NIL NIL NIL NIL
[START] two NIL NIL NIL NIL NIL NIL NIL 

[START] large group people getting [END] NIL NIL NIL
[START] two NIL NIL NIL NIL NIL NIL NIL 

[START] person wearing yellow [END] NIL NIL NIL NIL
[START] two NIL NIL NIL NIL NIL NIL NIL 

[START] young man gray jacket stands [END] NIL NIL
[START] two NIL NIL NIL NIL NIL NIL NIL 

[START] group young males standing around [END] NIL NIL
[START] two NIL NIL NIL NIL NIL NIL NIL 

[START] rodeo star rides [END] NIL NIL NIL NIL
[START] two NIL NIL NIL NIL NIL NIL NIL 

[START] people walking around nighttime environment [END] NIL NIL
[START] two NIL NIL NIL NIL NIL NIL NIL 

[START] lady orange jacket [END] NIL NIL NIL NIL
[START] two NIL NIL NIL NIL NIL NIL NIL 

[START] toddler using straw [END] NIL NIL NIL NIL
[START] two NIL NIL NIL NIL NIL NIL NIL 

[START] woman bowling [END] NIL NIL NIL NIL NIL
[START] two NIL NIL NIL NIL NIL NIL NIL 

Epoch:1, Iteration: 476, Loss: 173.27, TimeElapsed: 41.63Min
Working (10, 200) torch.Size([10, 9])
Normal torch.Size([10, 9]) torch.Size([10, 9, 2512])
[START] man wearing green [END] NIL NIL NIL NIL
[START] group NIL NIL NIL NIL NIL NIL NIL 

[START] street vendor preparing food [END] NIL NIL NIL
[START] group NIL NIL NIL NIL NIL NIL NIL 

[START] children santa hats happily [END] NIL NIL NIL
[START] group NIL NIL NIL NIL NIL NIL NIL 

[START] two men working [END] NIL NIL NIL NIL
[START] group NIL NIL NIL NIL NIL NIL NIL 

[START] young girl jumps [END] NIL NIL NIL NIL
[START] group NIL NIL NIL NIL NIL NIL NIL 

[START] two similarly dressed asian women performing [END] NIL
[START] group NIL NIL NIL NIL NIL NIL NIL 

[START] woman wearing jeans [END] NIL NIL NIL NIL
[START] group NIL NIL NIL NIL NIL NIL NIL 

[START] two pilots cockpit [END] NIL NIL NIL NIL
[START] group NIL NIL NIL NIL NIL NIL NIL 

[START] young village girl making [END] NIL NIL NIL
[START] group NIL NIL NIL NIL NIL NIL NIL 

[START] three people sitting [END] NIL NIL NIL NIL
[START] group NIL NIL NIL NIL NIL NIL NIL 

Epoch:1, Iteration: 477, Loss: 148.72, TimeElapsed: 41.68Min
Working (10, 200) torch.Size([10, 9])
Normal torch.Size([10, 9]) torch.Size([10, 9, 2512])
[START] construction worker holds [END] NIL NIL NIL NIL
[START] little dog [END] [END] [END] [END] [END] [END] 

[START] two polo players riding horses play polo [END]
[START] little dog [END] [END] [END] [END] [END] [END] 

[START] man covering slide looking [END] NIL NIL NIL
[START] little dog [END] [END] [END] [END] [END] [END] 

[START] man hanging close outside [END] NIL NIL NIL
[START] little dog [END] [END] [END] [END] [END] [END] 

[START] little girl helping [END] NIL NIL NIL NIL
[START] little dog [END] [END] [END] [END] [END] [END] 

[START] many posters within [END] NIL NIL NIL NIL
[START] little dog [END] [END] [END] [END] [END] [END] 

[START] group people walking [END] NIL NIL NIL NIL
[START] little dog [END] [END] [END] [END] [END] [END] 

[START] children inspecting iron structure [END] NIL NIL NIL
[START] little dog [END] [END] [END] [END] [END] [END] 

[START] man yellow [END] NIL NIL NIL NIL NIL
[START] little dog [END] [END] [END] [END] [END] [END] 

[START] little girl making [END] NIL NIL NIL NIL
[START] little dog [END] [END] [END] [END] [END] [END] 

Epoch:1, Iteration: 478, Loss: 146.67, TimeElapsed: 41.73Min
Working (10, 200) torch.Size([10, 9])
Normal torch.Size([10, 9]) torch.Size([10, 9, 2512])
[START] baby crying next [END] NIL NIL NIL NIL
[START] man welding NIL NIL NIL NIL NIL NIL 

[START] bull riding people watching [END] NIL NIL NIL
[START] man welding NIL NIL NIL NIL NIL NIL 

[START] man blowing leaves [END] NIL NIL NIL NIL
[START] man welding NIL NIL NIL NIL NIL NIL 

[START] four young girls pose [END] NIL NIL NIL
[START] man welding NIL NIL NIL NIL NIL NIL 

[START] two men wearing hats [END] NIL NIL NIL
[START] man welding NIL NIL NIL NIL NIL NIL 

[START] three people sitting outside small rocks [END] NIL
[START] man welding NIL NIL NIL NIL NIL NIL 

[START] men filling concrete basins water [END] NIL NIL
[START] man welding NIL NIL NIL NIL NIL NIL 

[START] older gentleman [END] NIL NIL NIL NIL NIL
[START] man welding NIL NIL NIL NIL NIL NIL 

[START] group adults [END] NIL NIL NIL NIL NIL
[START] man welding NIL NIL NIL NIL NIL NIL 

[START] young girls standing [END] NIL NIL NIL NIL
[START] man welding NIL NIL NIL NIL NIL NIL 

Epoch:1, Iteration: 479, Loss: 180.54, TimeElapsed: 41.77Min
Working (10, 200) torch.Size([10, 9])
Normal torch.Size([10, 9]) torch.Size([10, 9, 2512])
[START] young woman ordering [END] NIL NIL NIL NIL
[START] wetsuit wetsuit wetsuit wetsuit wetsuit wetsuit wetsuit wetsuit 

[START] woman blowing [END] NIL NIL NIL NIL NIL
[START] wetsuit wetsuit wetsuit wetsuit wetsuit wetsuit wetsuit wetsuit 

[START] man woman [END] NIL NIL NIL NIL NIL
[START] wetsuit wetsuit wetsuit wetsuit wetsuit wetsuit wetsuit wetsuit 

[START] crew cleans trash [END] NIL NIL NIL NIL
[START] wetsuit wetsuit wetsuit wetsuit wetsuit wetsuit wetsuit wetsuit 

[START] woman cooks [END] NIL NIL NIL NIL NIL
[START] wetsuit wetsuit wetsuit wetsuit wetsuit wetsuit wetsuit wetsuit 

[START] two children adults [END] NIL NIL NIL NIL
[START] wetsuit wetsuit wetsuit wetsuit wetsuit wetsuit wetsuit wetsuit 

[START] customers examine menu [END] NIL NIL NIL NIL
[START] wetsuit wetsuit wetsuit wetsuit wetsuit wetsuit wetsuit wetsuit 

[START] man giving thumbs front [END] NIL NIL NIL
[START] wetsuit wetsuit wetsuit wetsuit wetsuit wetsuit wetsuit wetsuit 

[START] man wearing baggy clothes [END] NIL NIL NIL
[START] wetsuit wetsuit wetsuit wetsuit wetsuit wetsuit wetsuit wetsuit 

[START] two white dogs [END] NIL NIL NIL NIL
[START] wetsuit wetsuit wetsuit wetsuit wetsuit wetsuit wetsuit wetsuit 

Epoch:1, Iteration: 480, Loss: 161.13, TimeElapsed: 41.82Min
Working (10, 200) torch.Size([10, 9])
Normal torch.Size([10, 9]) torch.Size([10, 9, 2512])
[START] man top [END] NIL NIL NIL NIL NIL
[START] young hot hot hot hot hot hot hot 

[START] three people wearing black ride [END] NIL NIL
[START] young hot hot hot hot hot hot hot 

[START] employee handing [END] NIL NIL NIL NIL NIL
[START] young hot hot hot hot hot hot hot 

[START] child jumping water slide [END] NIL NIL NIL
[START] young hot hot hot hot hot hot hot 

[START] man white head [END] NIL NIL NIL NIL
[START] young hot hot hot hot hot hot hot 

[START] two old women polka dot [END] NIL NIL
[START] young hot hot hot hot hot hot hot 

[START] two horses pulling sled [END] NIL NIL NIL
[START] young hot hot hot hot hot hot hot 

[START] girl pink shirt [END] NIL NIL NIL NIL
[START] young hot hot hot hot hot hot hot 

[START] little boy sits slide [END] NIL NIL NIL
[START] young hot hot hot hot hot hot hot 

[START] two men playing soccer [END] NIL NIL NIL
[START] young hot hot hot hot hot hot hot 

Epoch:1, Iteration: 481, Loss: 119.18, TimeElapsed: 41.86Min
Working (10, 200) torch.Size([10, 9])
Normal torch.Size([10, 9]) torch.Size([10, 9, 2512])
[START] girl red [END] NIL NIL NIL NIL NIL
[START] young gathering NIL NIL NIL NIL NIL NIL 

[START] child skull [END] NIL NIL NIL NIL NIL
[START] young gathering NIL NIL NIL NIL NIL NIL 

[START] older male construction worker wearing [END] NIL NIL
[START] young gathering NIL NIL NIL NIL NIL NIL 

[START] five teenagers sitting concrete steps [END] NIL NIL
[START] young gathering NIL NIL NIL NIL NIL NIL 

[START] woman sitting subway holding [END] NIL NIL NIL
[START] young gathering NIL NIL NIL NIL NIL NIL 

[START] person orange coat [END] NIL NIL NIL NIL
[START] young gathering NIL NIL NIL NIL NIL NIL 

[START] man wearing black [END] NIL NIL NIL NIL
[START] young gathering NIL NIL NIL NIL NIL NIL 

[START] man carries plastic bags full [END] NIL NIL
[START] young gathering NIL NIL NIL NIL NIL NIL 

[START] woman riding [END] NIL NIL NIL NIL NIL
[START] young gathering NIL NIL NIL NIL NIL NIL 

[START] asian woman holding cray [END] NIL NIL NIL
[START] young gathering NIL NIL NIL NIL NIL NIL 

Epoch:1, Iteration: 482, Loss: 111.01, TimeElapsed: 41.91Min
Working (10, 200) torch.Size([10, 9])
Normal torch.Size([10, 9]) torch.Size([10, 9, 2512])
[START] young man leads choir practice [END] NIL NIL
[START] plastic plastic plastic plastic plastic plastic plastic plastic 

[START] man warm clothes [END] NIL NIL NIL NIL
[START] plastic plastic plastic plastic plastic plastic plastic plastic 

[START] people talking walk [END] NIL NIL NIL NIL
[START] plastic plastic plastic plastic plastic plastic plastic plastic 

[START] three teenagers wearing shirt run [END] NIL NIL
[START] plastic plastic plastic plastic plastic plastic plastic plastic 

[START] man axe chopping wood [END] NIL NIL NIL
[START] plastic plastic plastic plastic plastic plastic plastic plastic 

[START] inline skater grinding [END] NIL NIL NIL NIL
[START] plastic plastic plastic plastic plastic plastic plastic plastic 

[START] woman pink cuts [END] NIL NIL NIL NIL
[START] plastic plastic plastic plastic plastic plastic plastic plastic 

[START] three young people huddle together [END] NIL NIL
[START] plastic plastic plastic plastic plastic plastic plastic plastic 

[START] group soldiers [END] NIL NIL NIL NIL NIL
[START] plastic plastic plastic plastic plastic plastic plastic plastic 

[START] little boy sticks [END] NIL NIL NIL NIL
[START] plastic plastic plastic plastic plastic plastic plastic plastic 

Epoch:1, Iteration: 483, Loss: 161.2, TimeElapsed: 41.96Min
Working (10, 200) torch.Size([10, 9])
Normal torch.Size([10, 9]) torch.Size([10, 9, 2512])
[START] soccer player kicks defends possession [END] NIL NIL
[START] slide slide slide slide slide slide slide slide 

[START] water truck creates rainbow [END] NIL NIL NIL
[START] slide slide slide slide slide slide slide slide 

[START] person escapes straitjacket chains [END] NIL NIL NIL
[START] slide slide slide slide slide slide slide slide 

[START] black dog plays [END] NIL NIL NIL NIL
[START] slide slide slide slide slide slide slide slide 

[START] boy wearing boots walks [END] NIL NIL NIL
[START] slide slide slide slide slide slide slide slide 

[START] people happily walking along street [END] NIL NIL
[START] slide slide slide slide slide slide slide slide 

[START] black child carrying large bag [END] NIL NIL
[START] slide slide slide slide slide slide slide slide 

[START] young boy plays outdoors [END] NIL NIL NIL
[START] slide slide slide slide slide slide slide slide 

[START] people walk past street musician [END] NIL NIL
[START] slide slide slide slide slide slide slide slide 

[START] girl flowered [END] NIL NIL NIL NIL NIL
[START] slide slide slide slide slide slide slide slide 

Epoch:1, Iteration: 484, Loss: 233.82, TimeElapsed: 42.02Min
Working (10, 200) torch.Size([10, 9])
Normal torch.Size([10, 9]) torch.Size([10, 9, 2512])
[START] two young children scaling wall [END] NIL NIL
skater skater skater skater skater skater skater skater skater 

[START] black white dog running [END] NIL NIL NIL
skater skater skater skater skater skater skater skater skater 

[START] vendors selling grilled fish [END] NIL NIL NIL
skater skater skater skater skater skater skater skater skater 

[START] man wearing hat [END] NIL NIL NIL NIL
skater skater skater skater skater skater skater skater skater 

[START] man walking beside bicycle [END] NIL NIL NIL
skater skater skater skater skater skater skater skater skater 

[START] motorcycle rider riding [END] NIL NIL NIL NIL
skater skater skater skater skater skater skater skater skater 

[START] group boys playing [END] NIL NIL NIL NIL
skater skater skater skater skater skater skater skater skater 

[START] several brown dogs different sizes [END] NIL NIL
skater skater skater skater skater skater skater skater skater 

[START] man suit takes nap [END] NIL NIL NIL
skater skater skater skater skater skater skater skater skater 

[START] two scuba divers underwater wearing [END] NIL NIL
skater skater skater skater skater skater skater skater skater 

Epoch:1, Iteration: 485, Loss: 209.89, TimeElapsed: 42.06Min
Working (10, 200) torch.Size([10, 9])
Normal torch.Size([10, 9]) torch.Size([10, 9, 2512])
[START] people walking park green grass [END] NIL NIL
[START] three NIL NIL NIL NIL NIL NIL NIL 

[START] woman white dress holds [END] NIL NIL NIL
[START] three NIL NIL NIL NIL NIL NIL NIL 

[START] group people standing around [END] NIL NIL NIL
[START] three NIL NIL NIL NIL NIL NIL NIL 

[START] man performing tricks [END] NIL NIL NIL NIL
[START] three NIL NIL NIL NIL NIL NIL NIL 

[START] man gray beard [END] NIL NIL NIL NIL
[START] three NIL NIL NIL NIL NIL NIL NIL 

[START] young asian child sitting [END] NIL NIL NIL
[START] three NIL NIL NIL NIL NIL NIL NIL 

[START] woman curly red hair using [END] NIL NIL
[START] three NIL NIL NIL NIL NIL NIL NIL 

[START] wakeboarder jumping [END] NIL NIL NIL NIL NIL
[START] three NIL NIL NIL NIL NIL NIL NIL 

[START] man walks [END] NIL NIL NIL NIL NIL
[START] three NIL NIL NIL NIL NIL NIL NIL 

[START] back view woman painted [END] NIL NIL NIL
[START] three NIL NIL NIL NIL NIL NIL NIL 

Epoch:1, Iteration: 486, Loss: 130.1, TimeElapsed: 42.11Min
Working (10, 200) torch.Size([10, 9])
Normal torch.Size([10, 9]) torch.Size([10, 9, 2512])
[START] young child swinging swing [END] NIL NIL NIL
[START] woman NIL NIL NIL NIL NIL NIL NIL 

[START] woman lavender [END] NIL NIL NIL NIL NIL
[START] woman NIL NIL NIL NIL NIL NIL NIL 

[START] six girls sit painted [END] NIL NIL NIL
[START] woman NIL NIL NIL NIL NIL NIL NIL 

[START] two people standing outside [END] NIL NIL NIL
[START] woman NIL NIL NIL NIL NIL NIL NIL 

[START] young man [END] NIL NIL NIL NIL NIL
[START] woman NIL NIL NIL NIL NIL NIL NIL 

[START] man carrying girl [END] NIL NIL NIL NIL
[START] woman NIL NIL NIL NIL NIL NIL NIL 

[START] child looking [END] NIL NIL NIL NIL NIL
[START] woman NIL NIL NIL NIL NIL NIL NIL 

[START] group bicyclers rounding corner [END] NIL NIL NIL
[START] woman NIL NIL NIL NIL NIL NIL NIL 

[START] two men playing sport [END] NIL NIL NIL
[START] woman NIL NIL NIL NIL NIL NIL NIL 

[START] man military [END] NIL NIL NIL NIL NIL
[START] woman NIL NIL NIL NIL NIL NIL NIL 

Epoch:1, Iteration: 487, Loss: 123.26, TimeElapsed: 42.15Min
Working (10, 200) torch.Size([10, 9])
Normal torch.Size([10, 9]) torch.Size([10, 9, 2512])
[START] one dog chasing another [END] NIL NIL NIL
[START] people NIL NIL NIL NIL NIL NIL NIL 

[START] two friends smiling wearing large [END] NIL NIL
[START] people NIL NIL NIL NIL NIL NIL NIL 

[START] young boy sets [END] NIL NIL NIL NIL
[START] people NIL NIL NIL NIL NIL NIL NIL 

[START] man leans something [END] NIL NIL NIL NIL
[START] people NIL NIL NIL NIL NIL NIL NIL 

[START] construction workers orange vests [END] NIL NIL NIL
[START] people NIL NIL NIL NIL NIL NIL NIL 

[START] buyer chooses fruit [END] NIL NIL NIL NIL
[START] people NIL NIL NIL NIL NIL NIL NIL 

[START] large group protesters sitting [END] NIL NIL NIL
[START] people NIL NIL NIL NIL NIL NIL NIL 

[START] woman shopping bags walking [END] NIL NIL NIL
[START] people NIL NIL NIL NIL NIL NIL NIL 

[START] soldier ducking holding [END] NIL NIL NIL NIL
[START] people NIL NIL NIL NIL NIL NIL NIL 

[START] two men heads [END] NIL NIL NIL NIL
[START] people NIL NIL NIL NIL NIL NIL NIL 

Epoch:1, Iteration: 488, Loss: 189.99, TimeElapsed: 42.2Min
Working (10, 200) torch.Size([10, 9])
Normal torch.Size([10, 9]) torch.Size([10, 9, 2512])
[START] seven joggers run [END] NIL NIL NIL NIL
[START] bags bags bags bags bags bags bags bags 

[START] mexican man going dig [END] NIL NIL NIL
[START] bags bags bags bags bags bags bags bags 

[START] woman deli worker clothing [END] NIL NIL NIL
[START] bags bags bags bags bags bags bags bags 

[START] hiker relaxing [END] NIL NIL NIL NIL NIL
[START] bags bags bags bags bags bags bags bags 

[START] two workers toil [END] NIL NIL NIL NIL
[START] bags bags bags bags bags bags bags bags 

[START] woman red [END] NIL NIL NIL NIL NIL
[START] bags bags bags bags bags bags bags bags 

[START] group people gathered [END] NIL NIL NIL NIL
[START] bags bags bags bags bags bags bags bags 

[START] man wearing multicolored shirt [END] NIL NIL NIL
[START] bags bags bags bags bags bags bags bags 

[START] white wine appetizers [END] NIL NIL NIL NIL
[START] bags bags bags bags bags bags bags bags 

[START] woman purple snakeskin [END] NIL NIL NIL NIL
[START] bags bags bags bags bags bags bags bags 

Epoch:1, Iteration: 489, Loss: 185.14, TimeElapsed: 42.25Min
Working (10, 200) torch.Size([10, 9])
Normal torch.Size([10, 9]) torch.Size([10, 9, 2512])
[START] clown colorful [END] NIL NIL NIL NIL NIL
[START] construction [END] [END] [END] [END] [END] [END] [END] 

[START] group people mingling [END] NIL NIL NIL NIL
[START] construction [END] [END] [END] [END] [END] [END] [END] 

[START] brown white dog licking [END] NIL NIL NIL
[START] construction [END] [END] [END] [END] [END] [END] [END] 

[START] man wearing red shirt [END] NIL NIL NIL
[START] construction [END] [END] [END] [END] [END] [END] [END] 

[START] man yellow construction hat [END] NIL NIL NIL
[START] construction [END] [END] [END] [END] [END] [END] [END] 

[START] couple kissing escalator [END] NIL NIL NIL NIL
[START] construction [END] [END] [END] [END] [END] [END] [END] 

[START] girl denim shorts [END] NIL NIL NIL NIL
[START] construction [END] [END] [END] [END] [END] [END] [END] 

[START] band singing playing electric guitar [END] NIL NIL
[START] construction [END] [END] [END] [END] [END] [END] [END] 

[START] man looking [END] NIL NIL NIL NIL NIL
[START] construction [END] [END] [END] [END] [END] [END] [END] 

[START] two girls jumping another [END] NIL NIL NIL
[START] construction [END] [END] [END] [END] [END] [END] [END] 

Epoch:1, Iteration: 490, Loss: 127.19, TimeElapsed: 42.29Min
Working (10, 200) torch.Size([10, 9])
Normal torch.Size([10, 9]) torch.Size([10, 9, 2512])
[START] group people gathered meeting [END] NIL NIL NIL
[START] teenagers scaling scaling scaling scaling scaling scaling scaling 

[START] woman holding young [END] NIL NIL NIL NIL
[START] teenagers scaling scaling scaling scaling scaling scaling scaling 

[START] man microphone singing [END] NIL NIL NIL NIL
[START] teenagers scaling scaling scaling scaling scaling scaling scaling 

[START] woman wearing dark [END] NIL NIL NIL NIL
[START] teenagers scaling scaling scaling scaling scaling scaling scaling 

[START] young boy black adhd [END] NIL NIL NIL
[START] teenagers scaling scaling scaling scaling scaling scaling scaling 

[START] men gas masks kneel [END] NIL NIL NIL
[START] teenagers scaling scaling scaling scaling scaling scaling scaling 

[START] tan man [END] NIL NIL NIL NIL NIL
[START] teenagers scaling scaling scaling scaling scaling scaling scaling 

[START] waterskier wearing red [END] NIL NIL NIL NIL
[START] teenagers scaling scaling scaling scaling scaling scaling scaling 

[START] group people riding double bicycles [END] NIL NIL
[START] teenagers scaling scaling scaling scaling scaling scaling scaling 

[START] white dog jumping [END] NIL NIL NIL NIL
[START] teenagers scaling scaling scaling scaling scaling scaling scaling 

Epoch:1, Iteration: 491, Loss: 168.0, TimeElapsed: 42.34Min
Working (10, 200) torch.Size([10, 9])
Normal torch.Size([10, 9]) torch.Size([10, 9, 2512])
[START] man sitting [END] NIL NIL NIL NIL NIL
[START] man man NIL NIL NIL NIL NIL NIL 

[START] man wearing green [END] NIL NIL NIL NIL
[START] man man NIL NIL NIL NIL NIL NIL 

[START] beautiful snowy landscape people [END] NIL NIL NIL
[START] man man NIL NIL NIL NIL NIL NIL 

[START] couple holding [END] NIL NIL NIL NIL NIL
[START] man man NIL NIL NIL NIL NIL NIL 

[START] three people wearing mask sitting [END] NIL NIL
[START] man man NIL NIL NIL NIL NIL NIL 

[START] two older women eating soup [END] NIL NIL
[START] man man NIL NIL NIL NIL NIL NIL 

[START] man white [END] NIL NIL NIL NIL NIL
[START] man man NIL NIL NIL NIL NIL NIL 

[START] black dog snaps red black [END] NIL NIL
[START] man man NIL NIL NIL NIL NIL NIL 

[START] three boys playing soccer [END] NIL NIL NIL
[START] man man NIL NIL NIL NIL NIL NIL 

[START] ethnic women baskets back [END] NIL NIL NIL
[START] man man NIL NIL NIL NIL NIL NIL 

Epoch:1, Iteration: 492, Loss: 116.67, TimeElapsed: 42.39Min
Working (10, 200) torch.Size([10, 9])
Normal torch.Size([10, 9]) torch.Size([10, 9, 2512])
[START] man woman fishing [END] NIL NIL NIL NIL
[START] two another NIL NIL NIL NIL NIL NIL 

[START] dog something pink [END] NIL NIL NIL NIL
[START] two another NIL NIL NIL NIL NIL NIL 

[START] man sitting [END] NIL NIL NIL NIL NIL
[START] two another NIL NIL NIL NIL NIL NIL 

[START] young girl walking [END] NIL NIL NIL NIL
[START] two another NIL NIL NIL NIL NIL NIL 

[START] little girl [END] NIL NIL NIL NIL NIL
[START] two another NIL NIL NIL NIL NIL NIL 

[START] group asian men [END] NIL NIL NIL NIL
[START] two another NIL NIL NIL NIL NIL NIL 

[START] person sweeping another [END] NIL NIL NIL NIL
[START] two another NIL NIL NIL NIL NIL NIL 

[START] man work small [END] NIL NIL NIL NIL
[START] two another NIL NIL NIL NIL NIL NIL 

[START] woman wearing shorts holding [END] NIL NIL NIL
[START] two another NIL NIL NIL NIL NIL NIL 

[START] dog sniffs pair sleeping [END] NIL NIL NIL
[START] two another NIL NIL NIL NIL NIL NIL 

Epoch:1, Iteration: 493, Loss: 84.36, TimeElapsed: 42.43Min
Working (10, 200) torch.Size([10, 9])
Normal torch.Size([10, 9]) torch.Size([10, 9, 2512])
[START] dog carrying pink ball [END] NIL NIL NIL
[START] man NIL NIL NIL NIL NIL NIL NIL 

[START] people jogging [END] NIL NIL NIL NIL NIL
[START] man NIL NIL NIL NIL NIL NIL NIL 

[START] two football teams one [END] NIL NIL NIL
[START] man NIL NIL NIL NIL NIL NIL NIL 

[START] two gentlemen green scrubs talking [END] NIL NIL
[START] man NIL NIL NIL NIL NIL NIL NIL 

[START] man tired couch [END] NIL NIL NIL NIL
[START] man NIL NIL NIL NIL NIL NIL NIL 

[START] woman riding [END] NIL NIL NIL NIL NIL
[START] man NIL NIL NIL NIL NIL NIL NIL 

[START] woman white shirt [END] NIL NIL NIL NIL
[START] man NIL NIL NIL NIL NIL NIL NIL 

[START] people stand inside rock [END] NIL NIL NIL
[START] man NIL NIL NIL NIL NIL NIL NIL 

[START] two little kids dressed [END] NIL NIL NIL
[START] man NIL NIL NIL NIL NIL NIL NIL 

[START] two men wearing hats [END] NIL NIL NIL
[START] man NIL NIL NIL NIL NIL NIL NIL 

Epoch:1, Iteration: 494, Loss: 110.92, TimeElapsed: 42.48Min
Working (10, 200) torch.Size([10, 9])
Normal torch.Size([10, 9]) torch.Size([10, 9, 2512])
[START] white male wearing [END] NIL NIL NIL NIL
[START] wakeboarder NIL NIL NIL NIL NIL NIL NIL 

[START] woman sailing looks like [END] NIL NIL NIL
[START] wakeboarder NIL NIL NIL NIL NIL NIL NIL 

[START] boy bites hard [END] NIL NIL NIL NIL
[START] wakeboarder NIL NIL NIL NIL NIL NIL NIL 

[START] man woman wearing black walk [END] NIL NIL
[START] wakeboarder NIL NIL NIL NIL NIL NIL NIL 

[START] male working [END] NIL NIL NIL NIL NIL
[START] wakeboarder NIL NIL NIL NIL NIL NIL NIL 

[START] people working [END] NIL NIL NIL NIL NIL
[START] wakeboarder NIL NIL NIL NIL NIL NIL NIL 

[START] teacher students [END] NIL NIL NIL NIL NIL
[START] wakeboarder NIL NIL NIL NIL NIL NIL NIL 

[START] couple taking wedding photo [END] NIL NIL NIL
[START] wakeboarder NIL NIL NIL NIL NIL NIL NIL 

[START] willie nelson black [END] NIL NIL NIL NIL
[START] wakeboarder NIL NIL NIL NIL NIL NIL NIL 

[START] two children playing [END] NIL NIL NIL NIL
[START] wakeboarder NIL NIL NIL NIL NIL NIL NIL 

Epoch:1, Iteration: 495, Loss: 162.81, TimeElapsed: 42.53Min
Working (10, 200) torch.Size([10, 9])
Normal torch.Size([10, 9]) torch.Size([10, 9, 2512])
[START] 5 children japanese bows practicing [END] NIL NIL
[START] group white white white white white white white 

[START] street england people watch [END] NIL NIL NIL
[START] group white white white white white white white 

[START] young man blue sweater [END] NIL NIL NIL
[START] group white white white white white white white 

[START] woman lake [END] NIL NIL NIL NIL NIL
[START] group white white white white white white white 

[START] child woman [END] NIL NIL NIL NIL NIL
[START] group white white white white white white white 

[START] three children playing hay [END] NIL NIL NIL
[START] group white white white white white white white 

[START] person dressed motorbike apparel riding [END] NIL NIL
[START] group white white white white white white white 

[START] man boy playing chess [END] NIL NIL NIL
[START] group white white white white white white white 

[START] group people playing [END] NIL NIL NIL NIL
[START] group white white white white white white white 

[START] boat man working uncompleted boat [END] NIL NIL
[START] group white white white white white white white 

Epoch:1, Iteration: 496, Loss: 158.72, TimeElapsed: 42.57Min
Working (10, 200) torch.Size([10, 9])
Normal torch.Size([10, 9]) torch.Size([10, 9, 2512])
[START] man balloon hat [END] NIL NIL NIL NIL
[START] woman people people people people people people people 

[START] tattooed girl strands [END] NIL NIL NIL NIL
[START] woman people people people people people people people 

[START] walls covered [END] NIL NIL NIL NIL NIL
[START] woman people people people people people people people 

[START] man wearing camouflage steers [END] NIL NIL NIL
[START] woman people people people people people people people 

[START] man orange [END] NIL NIL NIL NIL NIL
[START] woman people people people people people people people 

[START] man wearing headphones [END] NIL NIL NIL NIL
[START] woman people people people people people people people 

[START] man plaid shirt [END] NIL NIL NIL NIL
[START] woman people people people people people people people 

[START] young male wearing hoodie [END] NIL NIL NIL
[START] woman people people people people people people people 

[START] man scuba diving [END] NIL NIL NIL NIL
[START] woman people people people people people people people 

[START] girl jean dress [END] NIL NIL NIL NIL
[START] woman people people people people people people people 

Epoch:1, Iteration: 497, Loss: 150.39, TimeElapsed: 42.62Min
Working (10, 200) torch.Size([10, 9])
Normal torch.Size([10, 9]) torch.Size([10, 9, 2512])
[START] group people [END] NIL NIL NIL NIL NIL
[START] girl playing playing [END] [END] [END] [END] [END] 

[START] man green shirt rakes [END] NIL NIL NIL
[START] girl playing playing [END] [END] [END] [END] [END] 

[START] construction site 4 men [END] NIL NIL NIL
[START] girl playing playing [END] [END] [END] [END] [END] 

[START] two young girls sitting [END] NIL NIL NIL
[START] girl playing playing [END] [END] [END] [END] [END] 

[START] crowded city street [END] NIL NIL NIL NIL
[START] girl playing playing [END] [END] [END] [END] [END] 

[START] man opening novelty gifts including large [END] NIL
[START] girl playing playing [END] [END] [END] [END] [END] 

[START] two young girls riding [END] NIL NIL NIL
[START] girl playing playing [END] [END] [END] [END] [END] 

[START] woman blue [END] NIL NIL NIL NIL NIL
[START] girl playing playing [END] [END] [END] [END] [END] 

[START] children reading writing [END] NIL NIL NIL NIL
[START] girl playing playing [END] [END] [END] [END] [END] 

[START] several people dark bar type [END] NIL NIL
[START] girl playing playing [END] [END] [END] [END] [END] 

Epoch:1, Iteration: 498, Loss: 150.97, TimeElapsed: 42.66Min
Working (10, 200) torch.Size([10, 9])
Normal torch.Size([10, 9]) torch.Size([10, 9, 2512])
[START] man black [END] NIL NIL NIL NIL NIL
[START] scuba scuba scuba scuba scuba scuba scuba scuba 

[START] many people crossing street [END] NIL NIL NIL
[START] scuba scuba scuba scuba scuba scuba scuba scuba 

[START] two young men black [END] NIL NIL NIL
[START] scuba scuba scuba scuba scuba scuba scuba scuba 

[START] children walking along beach [END] NIL NIL NIL
[START] scuba scuba scuba scuba scuba scuba scuba scuba 

[START] people walk outside [END] NIL NIL NIL NIL
[START] scuba scuba scuba scuba scuba scuba scuba scuba 

[START] girl holds iced drink [END] NIL NIL NIL
[START] scuba scuba scuba scuba scuba scuba scuba scuba 

[START] child wearing green [END] NIL NIL NIL NIL
[START] scuba scuba scuba scuba scuba scuba scuba scuba 

[START] little girl boy [END] NIL NIL NIL NIL
[START] scuba scuba scuba scuba scuba scuba scuba scuba 

[START] man suit [END] NIL NIL NIL NIL NIL
[START] scuba scuba scuba scuba scuba scuba scuba scuba 

[START] woman blue shorts [END] NIL NIL NIL NIL
[START] scuba scuba scuba scuba scuba scuba scuba scuba 

Epoch:1, Iteration: 499, Loss: 114.19, TimeElapsed: 42.71Min
Epoch 3
Working (10, 200) torch.Size([10, 9])
Normal torch.Size([10, 9]) torch.Size([10, 9, 2512])
[START] girl making [END] NIL NIL NIL NIL NIL
[START] man NIL NIL NIL NIL NIL NIL NIL 

[START] boy peers open [END] NIL NIL NIL NIL
[START] man NIL NIL NIL NIL NIL NIL NIL 

[START] person smiles child inside playground [END] NIL NIL
[START] man NIL NIL NIL NIL NIL NIL NIL 

[START] clown red [END] NIL NIL NIL NIL NIL
[START] man NIL NIL NIL NIL NIL NIL NIL 

[START] woman jeans [END] NIL NIL NIL NIL NIL
[START] man NIL NIL NIL NIL NIL NIL NIL 

[START] woman chinese attire [END] NIL NIL NIL NIL
[START] man NIL NIL NIL NIL NIL NIL NIL 

[START] climber climbing ice wall [END] NIL NIL NIL
[START] man NIL NIL NIL NIL NIL NIL NIL 

[START] two men working [END] NIL NIL NIL NIL
[START] man NIL NIL NIL NIL NIL NIL NIL 

[START] young boy standing next [END] NIL NIL NIL
[START] man NIL NIL NIL NIL NIL NIL NIL 

[START] couple sitting [END] NIL NIL NIL NIL NIL
[START] man NIL NIL NIL NIL NIL NIL NIL 

Epoch:2, Iteration: 1, Loss: 131.82, TimeElapsed: 42.76Min
Working (10, 200) torch.Size([10, 9])
Normal torch.Size([10, 9]) torch.Size([10, 9, 2512])
[START] two guys sitting [END] NIL NIL NIL NIL
[START] back NIL NIL NIL NIL NIL NIL NIL 

[START] three people conversation [END] NIL NIL NIL NIL
[START] back NIL NIL NIL NIL NIL NIL NIL 

[START] golden retriever excitedly [END] NIL NIL NIL NIL
[START] back NIL NIL NIL NIL NIL NIL NIL 

[START] young man sits cross [END] NIL NIL NIL
[START] back NIL NIL NIL NIL NIL NIL NIL 

[START] two children sleep [END] NIL NIL NIL NIL
[START] back NIL NIL NIL NIL NIL NIL NIL 

[START] kid jacket points tongue [END] NIL NIL NIL
[START] back NIL NIL NIL NIL NIL NIL NIL 

[START] three men one [END] NIL NIL NIL NIL
[START] back NIL NIL NIL NIL NIL NIL NIL 

[START] woman white [END] NIL NIL NIL NIL NIL
[START] back NIL NIL NIL NIL NIL NIL NIL 

[START] two dogs wrestle together [END] NIL NIL NIL
[START] back NIL NIL NIL NIL NIL NIL NIL 

[START] two men underground [END] NIL NIL NIL NIL
[START] back NIL NIL NIL NIL NIL NIL NIL 

Epoch:2, Iteration: 2, Loss: 118.17, TimeElapsed: 42.81Min
Working (10, 200) torch.Size([10, 9])
Normal torch.Size([10, 9]) torch.Size([10, 9, 2512])
[START] woman red shirt walking [END] NIL NIL NIL
[START] happily NIL NIL NIL NIL NIL NIL NIL 

[START] woman awaiting ice [END] NIL NIL NIL NIL
[START] happily NIL NIL NIL NIL NIL NIL NIL 

[START] gray dog leaping [END] NIL NIL NIL NIL
[START] happily NIL NIL NIL NIL NIL NIL NIL 

[START] man pulling cart [END] NIL NIL NIL NIL
[START] happily NIL NIL NIL NIL NIL NIL NIL 

[START] woman dressed [END] NIL NIL NIL NIL NIL
[START] happily NIL NIL NIL NIL NIL NIL NIL 

[START] light brown dog running along [END] NIL NIL
[START] happily NIL NIL NIL NIL NIL NIL NIL 

[START] two tired looking men relax couch near [END]
[START] happily NIL NIL NIL NIL NIL NIL NIL 

[START] woman wearing shorts holding [END] NIL NIL NIL
[START] happily NIL NIL NIL NIL NIL NIL NIL 

[START] three women gypsy skirts stand around [END] NIL
[START] happily NIL NIL NIL NIL NIL NIL NIL 

[START] woman striped tights [END] NIL NIL NIL NIL
[START] happily NIL NIL NIL NIL NIL NIL NIL 

Epoch:2, Iteration: 3, Loss: 145.62, TimeElapsed: 42.86Min
Working (10, 200) torch.Size([10, 9])
Normal torch.Size([10, 9]) torch.Size([10, 9, 2512])
[START] construction crew working [END] NIL NIL NIL NIL
[START] wedding pulling pulling pulling pulling pulling pulling pulling 

[START] barefoot man laying [END] NIL NIL NIL NIL
[START] wedding pulling pulling pulling pulling pulling pulling pulling 

[START] toddler green [END] NIL NIL NIL NIL NIL
[START] wedding pulling pulling pulling pulling pulling pulling pulling 

[START] two teen girls compete one another [END] NIL
[START] wedding pulling pulling pulling pulling pulling pulling pulling 

[START] three people ride road bikes [END] NIL NIL
[START] wedding pulling pulling pulling pulling pulling pulling pulling 

[START] man kayaking raging [END] NIL NIL NIL NIL
[START] wedding pulling pulling pulling pulling pulling pulling pulling 

[START] man dressed martial [END] NIL NIL NIL NIL
[START] wedding pulling pulling pulling pulling pulling pulling pulling 

[START] four people working blue legal [END] NIL NIL
[START] wedding pulling pulling pulling pulling pulling pulling pulling 

[START] balding man petting white [END] NIL NIL NIL
[START] wedding pulling pulling pulling pulling pulling pulling pulling 

[START] man gun watches [END] NIL NIL NIL NIL
[START] wedding pulling pulling pulling pulling pulling pulling pulling 

Epoch:2, Iteration: 4, Loss: 156.18, TimeElapsed: 42.92Min
Working (10, 200) torch.Size([10, 9])
Normal torch.Size([10, 9]) torch.Size([10, 9, 2512])
[START] man black shirt jumping [END] NIL NIL NIL
[START] 4 crossing crossing crossing crossing crossing crossing crossing 

[START] child hiding [END] NIL NIL NIL NIL NIL
[START] 4 crossing crossing crossing crossing crossing crossing crossing 

[START] romanian olympian participating [END] NIL NIL NIL NIL
[START] 4 crossing crossing crossing crossing crossing crossing crossing 

[START] three boys running [END] NIL NIL NIL NIL
[START] 4 crossing crossing crossing crossing crossing crossing crossing 

[START] men standing outside front [END] NIL NIL NIL
[START] 4 crossing crossing crossing crossing crossing crossing crossing 

[START] young child band aid [END] NIL NIL NIL
[START] 4 crossing crossing crossing crossing crossing crossing crossing 

[START] single motorcycle stops [END] NIL NIL NIL NIL
[START] 4 crossing crossing crossing crossing crossing crossing crossing 

[START] child walking [END] NIL NIL NIL NIL NIL
[START] 4 crossing crossing crossing crossing crossing crossing crossing 

[START] two men paint park bench [END] NIL NIL
[START] 4 crossing crossing crossing crossing crossing crossing crossing 

[START] people gather grassy area [END] NIL NIL NIL
[START] 4 crossing crossing crossing crossing crossing crossing crossing 

Epoch:2, Iteration: 5, Loss: 159.03, TimeElapsed: 42.96Min
Working (10, 200) torch.Size([10, 9])
Normal torch.Size([10, 9]) torch.Size([10, 9, 2512])
[START] several fans walking around outside [END] NIL NIL
[START] men [END] [END] [END] [END] [END] [END] [END] 

[START] woman sailing looks like [END] NIL NIL NIL
[START] men [END] [END] [END] [END] [END] [END] [END] 

[START] lot chinese people standing [END] NIL NIL NIL
[START] men [END] [END] [END] [END] [END] [END] [END] 

[START] three boys playing biking [END] NIL NIL NIL
[START] men [END] [END] [END] [END] [END] [END] [END] 

[START] woman sitting alone [END] NIL NIL NIL NIL
[START] men [END] [END] [END] [END] [END] [END] [END] 

[START] group people wedding [END] NIL NIL NIL NIL
[START] men [END] [END] [END] [END] [END] [END] [END] 

[START] group young girls [END] NIL NIL NIL NIL
[START] men [END] [END] [END] [END] [END] [END] [END] 

[START] people crowd around street filled [END] NIL NIL
[START] men [END] [END] [END] [END] [END] [END] [END] 

[START] balding man girlfriend [END] NIL NIL NIL NIL
[START] men [END] [END] [END] [END] [END] [END] [END] 

[START] female running race [END] NIL NIL NIL NIL
[START] men [END] [END] [END] [END] [END] [END] [END] 

Epoch:2, Iteration: 6, Loss: 184.66, TimeElapsed: 43.01Min
Working (10, 200) torch.Size([10, 9])
Normal torch.Size([10, 9]) torch.Size([10, 9, 2512])
[START] man plaid shirt [END] NIL NIL NIL NIL
[START] men NIL NIL NIL NIL NIL NIL NIL 

[START] man sitting chair [END] NIL NIL NIL NIL
[START] men NIL NIL NIL NIL NIL NIL NIL 

[START] red car ahead two [END] NIL NIL NIL
[START] men NIL NIL NIL NIL NIL NIL NIL 

[START] woman scantily dressed handsome homemade looking clothing [END]
[START] men NIL NIL NIL NIL NIL NIL NIL 

[START] three people various stages swimming [END] NIL NIL
[START] men NIL NIL NIL NIL NIL NIL NIL 

[START] man waterskiing one [END] NIL NIL NIL NIL
[START] men NIL NIL NIL NIL NIL NIL NIL 

[START] skate park one man [END] NIL NIL NIL
[START] men NIL NIL NIL NIL NIL NIL NIL 

[START] woman sings [END] NIL NIL NIL NIL NIL
[START] men NIL NIL NIL NIL NIL NIL NIL 

[START] young toddler experiences pool [END] NIL NIL NIL
[START] men NIL NIL NIL NIL NIL NIL NIL 

[START] lone skier making [END] NIL NIL NIL NIL
[START] men NIL NIL NIL NIL NIL NIL NIL 

Epoch:2, Iteration: 7, Loss: 183.9, TimeElapsed: 43.06Min
Working (10, 200) torch.Size([10, 9])
Normal torch.Size([10, 9]) torch.Size([10, 9, 2512])
[START] man white shirt [END] NIL NIL NIL NIL
[START] man NIL NIL NIL NIL NIL NIL NIL 

[START] two little blond girls helmets [END] NIL NIL
[START] man NIL NIL NIL NIL NIL NIL NIL 

[START] dog gets ready [END] NIL NIL NIL NIL
[START] man NIL NIL NIL NIL NIL NIL NIL 

[START] three people playing large ball [END] NIL NIL
[START] man NIL NIL NIL NIL NIL NIL NIL 

[START] man wearing yellow [END] NIL NIL NIL NIL
[START] man NIL NIL NIL NIL NIL NIL NIL 

[START] artist hard work [END] NIL NIL NIL NIL
[START] man NIL NIL NIL NIL NIL NIL NIL 

[START] man trying get ready [END] NIL NIL NIL
[START] man NIL NIL NIL NIL NIL NIL NIL 

[START] boy pushing miniature car [END] NIL NIL NIL
[START] man NIL NIL NIL NIL NIL NIL NIL 

[START] man suit [END] NIL NIL NIL NIL NIL
[START] man NIL NIL NIL NIL NIL NIL NIL 

[START] girl bright pink skirt dances [END] NIL NIL
[START] man NIL NIL NIL NIL NIL NIL NIL 

Epoch:2, Iteration: 8, Loss: 157.49, TimeElapsed: 43.1Min
Working (10, 200) torch.Size([10, 9])
Normal torch.Size([10, 9]) torch.Size([10, 9, 2512])
[START] two dogs playing together [END] NIL NIL NIL
[START] man NIL NIL NIL NIL NIL NIL NIL 

[START] kid standing [END] NIL NIL NIL NIL NIL
[START] man NIL NIL NIL NIL NIL NIL NIL 

[START] redheaded woman long haired man [END] NIL NIL
[START] man NIL NIL NIL NIL NIL NIL NIL 

[START] wild animal found [END] NIL NIL NIL NIL
[START] man NIL NIL NIL NIL NIL NIL NIL 

[START] man hat [END] NIL NIL NIL NIL NIL
[START] man NIL NIL NIL NIL NIL NIL NIL 

[START] group men dressed [END] NIL NIL NIL NIL
[START] man NIL NIL NIL NIL NIL NIL NIL 

[START] two young boys blue jackets [END] NIL NIL
[START] man NIL NIL NIL NIL NIL NIL NIL 

[START] man light brown [END] NIL NIL NIL NIL
[START] man NIL NIL NIL NIL NIL NIL NIL 

[START] two people heaving clothing preparing food [END] NIL
[START] man NIL NIL NIL NIL NIL NIL NIL 

[START] man swings tennis racquet [END] NIL NIL NIL
[START] man NIL NIL NIL NIL NIL NIL NIL 

Epoch:2, Iteration: 9, Loss: 148.53, TimeElapsed: 43.14Min
Working (10, 200) torch.Size([10, 9])
Normal torch.Size([10, 9]) torch.Size([10, 9, 2512])
[START] young child swung [END] NIL NIL NIL NIL
[START] young paint walking NIL NIL NIL NIL NIL 

[START] crowd people [END] NIL NIL NIL NIL NIL
[START] young paint walking NIL NIL NIL NIL NIL 

[START] beach man [END] NIL NIL NIL NIL NIL
[START] young paint walking NIL NIL NIL NIL NIL 

[START] little girl [END] NIL NIL NIL NIL NIL
[START] young paint walking NIL NIL NIL NIL NIL 

[START] people fixing palace door [END] NIL NIL NIL
[START] young paint walking NIL NIL NIL NIL NIL 

[START] woman kids picnic [END] NIL NIL NIL NIL
[START] young paint walking NIL NIL NIL NIL NIL 

[START] boy wearing headphones sits [END] NIL NIL NIL
[START] young paint walking NIL NIL NIL NIL NIL 

[START] lady blond hair [END] NIL NIL NIL NIL
[START] young paint walking NIL NIL NIL NIL NIL 

[START] three people working computers [END] NIL NIL NIL
[START] young paint walking NIL NIL NIL NIL NIL 

[START] skateboarder city [END] NIL NIL NIL NIL NIL
[START] young paint walking NIL NIL NIL NIL NIL 

Epoch:2, Iteration: 10, Loss: 123.6, TimeElapsed: 43.19Min
Working (10, 200) torch.Size([10, 9])
Normal torch.Size([10, 9]) torch.Size([10, 9, 2512])
[START] lady kind eyes [END] NIL NIL NIL NIL
[START] hiding hiding hiding hiding hiding hiding hiding hiding 

[START] asian man blond woman [END] NIL NIL NIL
[START] hiding hiding hiding hiding hiding hiding hiding hiding 

[START] man shirt purple [END] NIL NIL NIL NIL
[START] hiding hiding hiding hiding hiding hiding hiding hiding 

[START] black white dog [END] NIL NIL NIL NIL
[START] hiding hiding hiding hiding hiding hiding hiding hiding 

[START] line native african [END] NIL NIL NIL NIL
[START] hiding hiding hiding hiding hiding hiding hiding hiding 

[START] three people sitting around [END] NIL NIL NIL
[START] hiding hiding hiding hiding hiding hiding hiding hiding 

[START] woman bowling bowling alley [END] NIL NIL NIL
[START] hiding hiding hiding hiding hiding hiding hiding hiding 

[START] people dressed white red green cheering [END] NIL
[START] hiding hiding hiding hiding hiding hiding hiding hiding 

[START] little child hat [END] NIL NIL NIL NIL
[START] hiding hiding hiding hiding hiding hiding hiding hiding 

[START] ladies blondish [END] NIL NIL NIL NIL NIL
[START] hiding hiding hiding hiding hiding hiding hiding hiding 

Epoch:2, Iteration: 11, Loss: 140.95, TimeElapsed: 43.23Min
Working (10, 200) torch.Size([10, 9])
Normal torch.Size([10, 9]) torch.Size([10, 9, 2512])
[START] motorcycle racer ducati sticker [END] NIL NIL NIL
[START] woman writing [END] [END] [END] [END] [END] [END] 

[START] white dog ready catch [END] NIL NIL NIL
[START] woman writing [END] [END] [END] [END] [END] [END] 

[START] man pink [END] NIL NIL NIL NIL NIL
[START] woman writing [END] [END] [END] [END] [END] [END] 

[START] indian girl carries [END] NIL NIL NIL NIL
[START] woman writing [END] [END] [END] [END] [END] [END] 

[START] students practicing martial arts [END] NIL NIL NIL
[START] woman writing [END] [END] [END] [END] [END] [END] 

[START] young person black next [END] NIL NIL NIL
[START] woman writing [END] [END] [END] [END] [END] [END] 

[START] two young women playing volleyball one [END] NIL
[START] woman writing [END] [END] [END] [END] [END] [END] 

[START] two dogs playing [END] NIL NIL NIL NIL
[START] woman writing [END] [END] [END] [END] [END] [END] 

[START] man red shirt [END] NIL NIL NIL NIL
[START] woman writing [END] [END] [END] [END] [END] [END] 

[START] four police officers swallowed [END] NIL NIL NIL
[START] woman writing [END] [END] [END] [END] [END] [END] 

Epoch:2, Iteration: 12, Loss: 164.0, TimeElapsed: 43.28Min
