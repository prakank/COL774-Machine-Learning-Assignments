Epoch 1
a woman wearing a dear santa t shirt is [END] ['a', 'woman', 'wearing', 'a', 'dear', 'santa', 't', 'shirt', 'is', '[END]'] 9
Iteration: 1, Loss: 8.93, TimeElapsed: 2.0Min
Iteration: 2, Loss: 6.9, TimeElapsed: 2.45Min
Iteration: 3, Loss: 14.36, TimeElapsed: 2.92Min
a woman with a push to talk cellphone and [END] ['a', 'woman', 'with', 'a', 'push', 'to', 'talk', 'cellphone', 'and', '[END]'] 9
Iteration: 4, Loss: 17.8, TimeElapsed: 3.29Min
Iteration: 5, Loss: 18.02, TimeElapsed: 3.64Min
Iteration: 6, Loss: 18.39, TimeElapsed: 4.02Min
Iteration: 7, Loss: 20.82, TimeElapsed: 4.28Min
a woman in pigtails talks to the red hatted [END] ['a', 'woman', 'in', 'pigtails', 'talks', 'to', 'the', 'red', 'hatted', '[END]'] 9
Iteration: 8, Loss: 19.5, TimeElapsed: 4.53Min
a middle aged man talking to his daughter and [END] ['a', 'middle', 'aged', 'man', 'talking', 'to', 'his', 'daughter', 'and', '[END]'] 9
Iteration: 9, Loss: 22.33, TimeElapsed: 4.8Min
Iteration: 10, Loss: 21.63, TimeElapsed: 5.04Min
Iteration: 11, Loss: 20.78, TimeElapsed: 5.28Min
Iteration: 12, Loss: 23.8, TimeElapsed: 5.56Min
Iteration: 13, Loss: 23.74, TimeElapsed: 5.87Min
Iteration: 14, Loss: 23.53, TimeElapsed: 6.23Min
Iteration: 15, Loss: 23.39, TimeElapsed: 6.61Min
Iteration: 16, Loss: 25.61, TimeElapsed: 6.99Min
Iteration: 17, Loss: 23.28, TimeElapsed: 7.36Min
Iteration: 18, Loss: 25.25, TimeElapsed: 7.7Min
a group of five men in t shirts and [END] ['a', 'group', 'of', 'five', 'men', 'in', 't', 'shirts', 'and', '[END]'] 9
Iteration: 19, Loss: 25.04, TimeElapsed: 7.99Min
Iteration: 20, Loss: 25.64, TimeElapsed: 8.25Min
a woman scantily dressed in handsome homemade looking clothing [END] ['a', 'woman', 'scantily', 'dressed', 'in', 'handsome', 'homemade', 'looking', 'clothing', '[END]'] 9
Iteration: 21, Loss: 26.57, TimeElapsed: 8.5Min
Iteration: 22, Loss: 24.48, TimeElapsed: 8.75Min
Iteration: 23, Loss: 25.61, TimeElapsed: 8.99Min
Iteration: 24, Loss: 26.8, TimeElapsed: 9.23Min
a father figure and two children outside their home [END] ['a', 'father', 'figure', 'and', 'two', 'children', 'outside', 'their', 'home', '[END]'] 9
Iteration: 25, Loss: 26.85, TimeElapsed: 9.46Min
Iteration: 26, Loss: 25.98, TimeElapsed: 9.7Min
Iteration: 27, Loss: 27.14, TimeElapsed: 9.89Min
man in a white button up shirt addressing a [END] ['man', 'in', 'a', 'white', 'button', 'up', 'shirt', 'addressing', 'a', '[END]'] 9
Iteration: 28, Loss: 25.36, TimeElapsed: 10.07Min
Iteration: 29, Loss: 24.44, TimeElapsed: 10.24Min
Iteration: 30, Loss: 23.1, TimeElapsed: 10.41Min
Iteration: 31, Loss: 25.42, TimeElapsed: 10.58Min
Iteration: 32, Loss: 22.43, TimeElapsed: 10.76Min
male and female ballerinas perform on a blue lit [END] ['male', 'and', 'female', 'ballerinas', 'perform', 'on', 'a', 'blue', 'lit', '[END]'] 9
Iteration: 33, Loss: 22.68, TimeElapsed: 10.95Min
Iteration: 34, Loss: 23.92, TimeElapsed: 11.13Min
Iteration: 35, Loss: 21.72, TimeElapsed: 11.31Min
Iteration: 36, Loss: 22.43, TimeElapsed: 11.49Min
Iteration: 37, Loss: 19.04, TimeElapsed: 11.66Min
Iteration: 38, Loss: 20.72, TimeElapsed: 11.84Min
Iteration: 39, Loss: 20.72, TimeElapsed: 12.01Min
Iteration: 40, Loss: 20.1, TimeElapsed: 12.19Min
a blond haired boy wearing a yellow shirt and [END] ['a', 'blond', 'haired', 'boy', 'wearing', 'a', 'yellow', 'shirt', 'and', '[END]'] 9
a dark skinned man in front of a vibrant [END] ['a', 'dark', 'skinned', 'man', 'in', 'front', 'of', 'a', 'vibrant', '[END]'] 9
Iteration: 41, Loss: 21.18, TimeElapsed: 12.36Min
Iteration: 42, Loss: 18.65, TimeElapsed: 12.54Min
Iteration: 43, Loss: 19.52, TimeElapsed: 12.71Min
Iteration: 44, Loss: 18.24, TimeElapsed: 12.89Min
Iteration: 45, Loss: 17.71, TimeElapsed: 13.07Min
two boys with red hair and glasses stand on [END] ['two', 'boys', 'with', 'red', 'hair', 'and', 'glasses', 'stand', 'on', '[END]'] 9
Iteration: 46, Loss: 17.53, TimeElapsed: 13.26Min
Iteration: 47, Loss: 16.52, TimeElapsed: 13.44Min
Iteration: 48, Loss: 16.83, TimeElapsed: 13.61Min
a young girl wearing a blue t shirt is [END] ['a', 'young', 'girl', 'wearing', 'a', 'blue', 't', 'shirt', 'is', '[END]'] 9
Iteration: 49, Loss: 18.64, TimeElapsed: 13.78Min
Iteration: 50, Loss: 17.92, TimeElapsed: 13.97Min
Iteration: 51, Loss: 15.24, TimeElapsed: 14.15Min
Iteration: 52, Loss: 16.41, TimeElapsed: 14.32Min
Iteration: 53, Loss: 16.4, TimeElapsed: 14.5Min
Iteration: 54, Loss: 13.88, TimeElapsed: 14.68Min
a young boy in a yellow t shirt with [END] ['a', 'young', 'boy', 'in', 'a', 'yellow', 't', 'shirt', 'with', '[END]'] 9
Iteration: 55, Loss: 15.74, TimeElapsed: 14.85Min
Iteration: 56, Loss: 13.88, TimeElapsed: 15.03Min
a group of cheerleaders in warm up suits posing [END] ['a', 'group', 'of', 'cheerleaders', 'in', 'warm', 'up', 'suits', 'posing', '[END]'] 9
Iteration: 57, Loss: 15.91, TimeElapsed: 15.2Min
a group of middle aged adults are riding a [END] ['a', 'group', 'of', 'middle', 'aged', 'adults', 'are', 'riding', 'a', '[END]'] 9
Iteration: 58, Loss: 13.73, TimeElapsed: 15.38Min
Iteration: 59, Loss: 15.6, TimeElapsed: 15.56Min
a dark haired man in a black uniform is [END] ['a', 'dark', 'haired', 'man', 'in', 'a', 'black', 'uniform', 'is', '[END]'] 9
Iteration: 60, Loss: 13.93, TimeElapsed: 15.75Min
Iteration: 61, Loss: 13.45, TimeElapsed: 15.92Min
Iteration: 62, Loss: 14.35, TimeElapsed: 16.1Min
Iteration: 63, Loss: 13.4, TimeElapsed: 16.28Min
men flee a bull during a bull riding competition [END] ['men', 'flee', 'a', 'bull', 'during', 'a', 'bull', 'riding', 'competition', '[END]'] 9
Iteration: 64, Loss: 12.5, TimeElapsed: 16.46Min
Iteration: 65, Loss: 12.49, TimeElapsed: 16.63Min
Iteration: 66, Loss: 13.94, TimeElapsed: 16.8Min
a boy in a long sleeve shirt is holding [END] ['a', 'boy', 'in', 'a', 'long', 'sleeve', 'shirt', 'is', 'holding', '[END]'] 9
Iteration: 67, Loss: 14.11, TimeElapsed: 16.98Min
Iteration: 68, Loss: 13.34, TimeElapsed: 17.15Min
a young girl with blond hair is playing with [END] ['a', 'young', 'girl', 'with', 'blond', 'hair', 'is', 'playing', 'with', '[END]'] 9
Iteration: 69, Loss: 12.32, TimeElapsed: 17.32Min
Iteration: 70, Loss: 12.89, TimeElapsed: 17.51Min
a partially furled flag is carried through an atrium [END] ['a', 'partially', 'furled', 'flag', 'is', 'carried', 'through', 'an', 'atrium', '[END]'] 9
Iteration: 71, Loss: 13.2, TimeElapsed: 17.69Min
two men one in a gray t shirt and [END] ['two', 'men', 'one', 'in', 'a', 'gray', 't', 'shirt', 'and', '[END]'] 9
Iteration: 72, Loss: 11.42, TimeElapsed: 17.86Min
two boys playing tug of war while one reaches out [END] ['two', 'boys', 'playing', 'tug', 'of', 'war', 'while', 'one', 'reaches', 'out', '[END]'] 9
two boys playing tug of war while one reaches out [END] ['two', 'boys', 'playing', 'tug', 'of', 'war', 'while', 'one', 'reaches', 'out', '[END]'] 10
Iteration: 73, Loss: 11.47, TimeElapsed: 18.03Min
Iteration: 74, Loss: 12.96, TimeElapsed: 18.21Min
Iteration: 75, Loss: 11.92, TimeElapsed: 18.39Min
Iteration: 76, Loss: 13.79, TimeElapsed: 18.56Min
Iteration: 77, Loss: 12.51, TimeElapsed: 18.73Min
Iteration: 78, Loss: 13.97, TimeElapsed: 18.92Min
Iteration: 79, Loss: 12.42, TimeElapsed: 19.1Min
Iteration: 80, Loss: 10.74, TimeElapsed: 19.29Min
three people wearing parachutes are free falling together through [END] ['three', 'people', 'wearing', 'parachutes', 'are', 'free', 'falling', 'together', 'through', '[END]'] 9
Iteration: 81, Loss: 10.73, TimeElapsed: 19.46Min
Iteration: 82, Loss: 10.7, TimeElapsed: 19.64Min
Iteration: 83, Loss: 11.03, TimeElapsed: 19.84Min
Iteration: 84, Loss: 12.21, TimeElapsed: 20.08Min
Iteration: 85, Loss: 11.63, TimeElapsed: 20.25Min
a man with noise cancelling headphones in a black [END] ['a', 'man', 'with', 'noise', 'cancelling', 'headphones', 'in', 'a', 'black', '[END]'] 9
Iteration: 86, Loss: 11.51, TimeElapsed: 20.42Min
Iteration: 87, Loss: 10.24, TimeElapsed: 20.58Min
Iteration: 88, Loss: 10.79, TimeElapsed: 20.76Min
Iteration: 89, Loss: 11.64, TimeElapsed: 20.93Min
Iteration: 90, Loss: 8.94, TimeElapsed: 21.1Min
Iteration: 91, Loss: 11.76, TimeElapsed: 21.27Min
Iteration: 92, Loss: 12.81, TimeElapsed: 21.44Min
Iteration: 93, Loss: 11.23, TimeElapsed: 21.61Min
Iteration: 94, Loss: 11.67, TimeElapsed: 21.78Min
Iteration: 95, Loss: 12.33, TimeElapsed: 21.96Min
Iteration: 96, Loss: 11.57, TimeElapsed: 22.13Min
Iteration: 97, Loss: 11.11, TimeElapsed: 22.31Min
Iteration: 98, Loss: 11.39, TimeElapsed: 22.48Min
Iteration: 99, Loss: 10.56, TimeElapsed: 22.65Min
Iteration: 100, Loss: 12.37, TimeElapsed: 22.83Min
Iteration: 101, Loss: 11.98, TimeElapsed: 23.02Min
Iteration: 102, Loss: 10.94, TimeElapsed: 23.2Min
Iteration: 103, Loss: 13.07, TimeElapsed: 23.37Min
Iteration: 104, Loss: 10.1, TimeElapsed: 23.56Min
Iteration: 105, Loss: 11.71, TimeElapsed: 23.74Min
Iteration: 106, Loss: 11.55, TimeElapsed: 23.92Min
Iteration: 107, Loss: 11.2, TimeElapsed: 24.09Min
a young brown haired girl opening up a present [END] ['a', 'young', 'brown', 'haired', 'girl', 'opening', 'up', 'a', 'present', '[END]'] 9
Iteration: 108, Loss: 10.99, TimeElapsed: 24.26Min
Iteration: 109, Loss: 10.76, TimeElapsed: 24.44Min
Iteration: 110, Loss: 10.62, TimeElapsed: 24.62Min
Iteration: 111, Loss: 10.28, TimeElapsed: 24.8Min
Iteration: 112, Loss: 11.28, TimeElapsed: 24.97Min
a man in an orange button down shirt and [END] ['a', 'man', 'in', 'an', 'orange', 'button', 'down', 'shirt', 'and', '[END]'] 9
Iteration: 113, Loss: 10.56, TimeElapsed: 25.15Min
a woman with bright red hair standing on the [END] ['a', 'woman', 'with', 'bright', 'red', 'hair', 'standing', 'on', 'the', '[END]'] 9
Iteration: 114, Loss: 13.28, TimeElapsed: 25.32Min
Iteration: 115, Loss: 10.93, TimeElapsed: 25.5Min
Iteration: 116, Loss: 11.76, TimeElapsed: 25.68Min
Iteration: 117, Loss: 11.25, TimeElapsed: 25.86Min
Iteration: 118, Loss: 11.52, TimeElapsed: 26.04Min
Iteration: 119, Loss: 13.12, TimeElapsed: 26.22Min
Iteration: 120, Loss: 12.52, TimeElapsed: 26.4Min
Iteration: 121, Loss: 11.0, TimeElapsed: 26.57Min
Iteration: 122, Loss: 12.38, TimeElapsed: 26.75Min
Iteration: 123, Loss: 11.03, TimeElapsed: 26.92Min
a japanese man wearing a light colored button down shirt [END] ['a', 'japanese', 'man', 'wearing', 'a', 'light', 'colored', 'button', 'down', 'shirt', '[END]'] 9
a japanese man wearing a light colored button down shirt [END] ['a', 'japanese', 'man', 'wearing', 'a', 'light', 'colored', 'button', 'down', 'shirt', '[END]'] 10
Iteration: 124, Loss: 12.33, TimeElapsed: 27.1Min
Iteration: 125, Loss: 12.69, TimeElapsed: 27.28Min
Iteration: 126, Loss: 12.82, TimeElapsed: 27.45Min
Iteration: 127, Loss: 11.33, TimeElapsed: 27.63Min
Iteration: 128, Loss: 14.29, TimeElapsed: 27.81Min
Iteration: 129, Loss: 11.69, TimeElapsed: 27.98Min
Iteration: 130, Loss: 11.0, TimeElapsed: 28.16Min
Iteration: 131, Loss: 11.23, TimeElapsed: 28.33Min
Iteration: 132, Loss: 11.08, TimeElapsed: 28.51Min
Iteration: 133, Loss: 13.97, TimeElapsed: 28.69Min
Iteration: 134, Loss: 10.68, TimeElapsed: 28.86Min
Iteration: 135, Loss: 10.61, TimeElapsed: 29.03Min
Iteration: 136, Loss: 10.89, TimeElapsed: 29.21Min
Iteration: 137, Loss: 12.72, TimeElapsed: 29.39Min
Iteration: 138, Loss: 11.71, TimeElapsed: 29.56Min
Iteration: 139, Loss: 13.39, TimeElapsed: 29.74Min
a man is wearing a white t shirt with [END] ['a', 'man', 'is', 'wearing', 'a', 'white', 't', 'shirt', 'with', '[END]'] 9
Iteration: 140, Loss: 11.74, TimeElapsed: 29.93Min
Iteration: 141, Loss: 11.33, TimeElapsed: 30.1Min
a young blond haired boy in a white shirt [END] ['a', 'young', 'blond', 'haired', 'boy', 'in', 'a', 'white', 'shirt', '[END]'] 9
Iteration: 142, Loss: 11.12, TimeElapsed: 30.27Min
Iteration: 143, Loss: 12.5, TimeElapsed: 30.44Min
Iteration: 144, Loss: 13.59, TimeElapsed: 30.61Min
Iteration: 145, Loss: 12.92, TimeElapsed: 30.78Min
Iteration: 146, Loss: 12.32, TimeElapsed: 30.95Min
a large brown dog is playing tug of war [END] ['a', 'large', 'brown', 'dog', 'is', 'playing', 'tug', 'of', 'war', '[END]'] 9
Iteration: 147, Loss: 14.24, TimeElapsed: 31.12Min
Iteration: 148, Loss: 12.23, TimeElapsed: 31.29Min
Iteration: 149, Loss: 11.35, TimeElapsed: 31.46Min
Iteration: 150, Loss: 13.39, TimeElapsed: 31.63Min
some children are playing tug of war with a [END] ['some', 'children', 'are', 'playing', 'tug', 'of', 'war', 'with', 'a', '[END]'] 9
Iteration: 151, Loss: 12.3, TimeElapsed: 31.81Min
Iteration: 152, Loss: 11.82, TimeElapsed: 31.98Min
Iteration: 153, Loss: 10.95, TimeElapsed: 32.15Min
Iteration: 154, Loss: 12.4, TimeElapsed: 32.32Min
Iteration: 155, Loss: 12.98, TimeElapsed: 32.49Min
an attractive lady with long blond hair and wearing [END] ['an', 'attractive', 'lady', 'with', 'long', 'blond', 'hair', 'and', 'wearing', '[END]'] 9
Iteration: 156, Loss: 10.65, TimeElapsed: 32.67Min
Iteration: 157, Loss: 9.97, TimeElapsed: 32.84Min
Iteration: 158, Loss: 12.09, TimeElapsed: 33.01Min
Iteration: 159, Loss: 14.55, TimeElapsed: 33.19Min
Iteration: 160, Loss: 13.65, TimeElapsed: 33.36Min
several stall shops selling various goods line a dimly lit [END] ['several', 'stall', 'shops', 'selling', 'various', 'goods', 'line', 'a', 'dimly', 'lit', '[END]'] 9
several stall shops selling various goods line a dimly lit [END] ['several', 'stall', 'shops', 'selling', 'various', 'goods', 'line', 'a', 'dimly', 'lit', '[END]'] 10
Iteration: 161, Loss: 12.01, TimeElapsed: 33.54Min
two pre teen girls working on a craft project [END] ['two', 'pre', 'teen', 'girls', 'working', 'on', 'a', 'craft', 'project', '[END]'] 9
Iteration: 162, Loss: 13.59, TimeElapsed: 33.71Min
Iteration: 163, Loss: 12.72, TimeElapsed: 33.88Min
Iteration: 164, Loss: 12.03, TimeElapsed: 34.04Min
Iteration: 165, Loss: 13.16, TimeElapsed: 34.22Min
a young girl in a short sleeve brown shirt [END] ['a', 'young', 'girl', 'in', 'a', 'short', 'sleeve', 'brown', 'shirt', '[END]'] 9
Iteration: 166, Loss: 12.8, TimeElapsed: 34.39Min
a small child in a white t shirt sits [END] ['a', 'small', 'child', 'in', 'a', 'white', 't', 'shirt', 'sits', '[END]'] 9
Iteration: 167, Loss: 12.33, TimeElapsed: 34.56Min
a scared looking child with big eyes is in [END] ['a', 'scared', 'looking', 'child', 'with', 'big', 'eyes', 'is', 'in', '[END]'] 9
Iteration: 168, Loss: 13.27, TimeElapsed: 34.73Min
two dogs play tug of war with a dark [END] ['two', 'dogs', 'play', 'tug', 'of', 'war', 'with', 'a', 'dark', '[END]'] 9
Iteration: 169, Loss: 11.18, TimeElapsed: 34.9Min
Iteration: 170, Loss: 13.82, TimeElapsed: 35.07Min
Iteration: 171, Loss: 12.95, TimeElapsed: 35.24Min
Iteration: 172, Loss: 12.01, TimeElapsed: 35.41Min
tri level building with people standing on each level [END] ['tri', 'level', 'building', 'with', 'people', 'standing', 'on', 'each', 'level', '[END]'] 9
Iteration: 173, Loss: 13.08, TimeElapsed: 35.58Min
a blond haired mother is holding her newborn baby [END] ['a', 'blond', 'haired', 'mother', 'is', 'holding', 'her', 'newborn', 'baby', '[END]'] 9
Iteration: 174, Loss: 13.21, TimeElapsed: 35.75Min
Iteration: 175, Loss: 15.66, TimeElapsed: 35.92Min
a musician set up as a one man band [END] ['a', 'musician', 'set', 'up', 'as', 'a', 'one', 'man', 'band', '[END]'] 9
Iteration: 176, Loss: 13.66, TimeElapsed: 36.09Min
Iteration: 177, Loss: 11.62, TimeElapsed: 36.25Min
Iteration: 178, Loss: 12.5, TimeElapsed: 36.42Min
Iteration: 179, Loss: 14.89, TimeElapsed: 36.59Min
two tired looking men relax on a couch near [END] ['two', 'tired', 'looking', 'men', 'relax', 'on', 'a', 'couch', 'near', '[END]'] 9
Iteration: 180, Loss: 14.67, TimeElapsed: 36.76Min
Iteration: 181, Loss: 12.23, TimeElapsed: 36.94Min
Iteration: 182, Loss: 15.28, TimeElapsed: 37.12Min
Iteration: 183, Loss: 13.96, TimeElapsed: 37.29Min
Iteration: 184, Loss: 13.78, TimeElapsed: 37.45Min
Iteration: 185, Loss: 15.87, TimeElapsed: 37.63Min
a woman attempts to mini golf while water pouring [END] ['a', 'woman', 'attempts', 'to', 'mini', 'golf', 'while', 'water', 'pouring', '[END]'] 9
Iteration: 186, Loss: 13.23, TimeElapsed: 37.81Min
Iteration: 187, Loss: 13.84, TimeElapsed: 37.97Min
Iteration: 188, Loss: 12.94, TimeElapsed: 38.15Min
Iteration: 189, Loss: 13.44, TimeElapsed: 38.33Min
a little boy wearing an adult size cap is [END] ['a', 'little', 'boy', 'wearing', 'an', 'adult', 'size', 'cap', 'is', '[END]'] 9
Iteration: 190, Loss: 13.75, TimeElapsed: 38.51Min
two young men play a game of ping pong [END] ['two', 'young', 'men', 'play', 'a', 'game', 'of', 'ping', 'pong', '[END]'] 9
Iteration: 191, Loss: 13.47, TimeElapsed: 38.69Min
Iteration: 192, Loss: 14.39, TimeElapsed: 38.86Min
Iteration: 193, Loss: 12.54, TimeElapsed: 39.04Min
blond hair child licks her lips while eating a [END] ['blond', 'hair', 'child', 'licks', 'her', 'lips', 'while', 'eating', 'a', '[END]'] 9
Iteration: 194, Loss: 13.87, TimeElapsed: 39.21Min
Iteration: 195, Loss: 15.23, TimeElapsed: 39.39Min
Iteration: 196, Loss: 13.84, TimeElapsed: 39.56Min
Iteration: 197, Loss: 13.57, TimeElapsed: 39.73Min
Iteration: 198, Loss: 13.85, TimeElapsed: 39.9Min
Iteration: 199, Loss: 15.34, TimeElapsed: 40.08Min
a dark haired woman wearing a brown jacket and [END] ['a', 'dark', 'haired', 'woman', 'wearing', 'a', 'brown', 'jacket', 'and', '[END]'] 9
Iteration: 200, Loss: 12.23, TimeElapsed: 40.25Min
Iteration: 201, Loss: 15.61, TimeElapsed: 40.43Min
a man wearing a light tan short sleeve top [END] ['a', 'man', 'wearing', 'a', 'light', 'tan', 'short', 'sleeve', 'top', '[END]'] 9
Iteration: 202, Loss: 12.76, TimeElapsed: 40.61Min
a dark haired middle aged woman wearing a necklace [END] ['a', 'dark', 'haired', 'middle', 'aged', 'woman', 'wearing', 'a', 'necklace', '[END]'] 9
Iteration: 203, Loss: 15.73, TimeElapsed: 40.78Min
Iteration: 204, Loss: 14.06, TimeElapsed: 40.97Min
a long haired brunette in a black long sleeved [END] ['a', 'long', 'haired', 'brunette', 'in', 'a', 'black', 'long', 'sleeved', '[END]'] 9
Iteration: 205, Loss: 14.34, TimeElapsed: 41.14Min
Iteration: 206, Loss: 13.74, TimeElapsed: 41.32Min
Iteration: 207, Loss: 13.02, TimeElapsed: 41.49Min
Iteration: 208, Loss: 14.98, TimeElapsed: 41.67Min
Iteration: 209, Loss: 12.43, TimeElapsed: 41.84Min
Iteration: 210, Loss: 14.23, TimeElapsed: 42.01Min
Iteration: 211, Loss: 14.72, TimeElapsed: 42.19Min
a man with a white t shirt and a [END] ['a', 'man', 'with', 'a', 'white', 't', 'shirt', 'and', 'a', '[END]'] 9
Iteration: 212, Loss: 13.88, TimeElapsed: 42.37Min
Iteration: 213, Loss: 15.37, TimeElapsed: 42.55Min
an african american male youth is riding a green [END] ['an', 'african', 'american', 'male', 'youth', 'is', 'riding', 'a', 'green', '[END]'] 9
Iteration: 214, Loss: 12.33, TimeElapsed: 42.73Min
Iteration: 215, Loss: 12.6, TimeElapsed: 42.9Min
Iteration: 216, Loss: 15.19, TimeElapsed: 43.08Min
a man laying down on a bench face down [END] ['a', 'man', 'laying', 'down', 'on', 'a', 'bench', 'face', 'down', '[END]'] 9
Iteration: 217, Loss: 13.42, TimeElapsed: 43.25Min
Iteration: 218, Loss: 13.75, TimeElapsed: 43.44Min
Iteration: 219, Loss: 10.84, TimeElapsed: 43.62Min
a gray haired man sets up a new office [END] ['a', 'gray', 'haired', 'man', 'sets', 'up', 'a', 'new', 'office', '[END]'] 9
Iteration: 220, Loss: 13.41, TimeElapsed: 43.79Min
Iteration: 221, Loss: 13.68, TimeElapsed: 43.97Min
Iteration: 222, Loss: 13.25, TimeElapsed: 44.14Min
Iteration: 223, Loss: 12.32, TimeElapsed: 44.31Min
Iteration: 224, Loss: 16.29, TimeElapsed: 44.49Min
Iteration: 225, Loss: 13.24, TimeElapsed: 44.66Min
Iteration: 226, Loss: 13.24, TimeElapsed: 44.83Min
Iteration: 227, Loss: 14.84, TimeElapsed: 45.0Min
Iteration: 228, Loss: 12.75, TimeElapsed: 45.18Min
Iteration: 229, Loss: 12.1, TimeElapsed: 45.35Min
Iteration: 230, Loss: 13.32, TimeElapsed: 45.53Min
Iteration: 231, Loss: 13.73, TimeElapsed: 45.71Min
a man in a colorful tie dyed shirt walks [END] ['a', 'man', 'in', 'a', 'colorful', 'tie', 'dyed', 'shirt', 'walks', '[END]'] 9
a tanned skin female athlete in a purple and [END] ['a', 'tanned', 'skin', 'female', 'athlete', 'in', 'a', 'purple', 'and', '[END]'] 9
Iteration: 232, Loss: 14.37, TimeElapsed: 45.88Min
a man in short sleeved shirt and jeans is [END] ['a', 'man', 'in', 'short', 'sleeved', 'shirt', 'and', 'jeans', 'is', '[END]'] 9
Iteration: 233, Loss: 14.0, TimeElapsed: 46.06Min
Iteration: 234, Loss: 13.76, TimeElapsed: 46.24Min
Iteration: 235, Loss: 14.31, TimeElapsed: 46.41Min
a baby is eating aqua colored cake very messily [END] ['a', 'baby', 'is', 'eating', 'aqua', 'colored', 'cake', 'very', 'messily', '[END]'] 9
Iteration: 236, Loss: 17.01, TimeElapsed: 46.59Min
Iteration: 237, Loss: 15.02, TimeElapsed: 46.77Min
Iteration: 238, Loss: 14.23, TimeElapsed: 46.95Min
Iteration: 239, Loss: 16.08, TimeElapsed: 47.13Min
a man wearing a pin stripe shirt and eyeglasses [END] ['a', 'man', 'wearing', 'a', 'pin', 'stripe', 'shirt', 'and', 'eyeglasses', '[END]'] 9
Iteration: 240, Loss: 15.72, TimeElapsed: 47.3Min
a blond haired boy is at the bottom of [END] ['a', 'blond', 'haired', 'boy', 'is', 'at', 'the', 'bottom', 'of', '[END]'] 9
Iteration: 241, Loss: 13.31, TimeElapsed: 47.47Min
Iteration: 242, Loss: 13.17, TimeElapsed: 47.65Min
Iteration: 243, Loss: 16.71, TimeElapsed: 47.82Min
Iteration: 244, Loss: 12.48, TimeElapsed: 48.0Min
Iteration: 245, Loss: 14.62, TimeElapsed: 48.17Min
Iteration: 246, Loss: 13.96, TimeElapsed: 48.35Min
Iteration: 247, Loss: 13.64, TimeElapsed: 48.52Min
Iteration: 248, Loss: 14.42, TimeElapsed: 48.7Min
tri level building with people standing on each level [END] ['tri', 'level', 'building', 'with', 'people', 'standing', 'on', 'each', 'level', '[END]'] 9
Iteration: 249, Loss: 14.75, TimeElapsed: 48.87Min
Iteration: 250, Loss: 11.21, TimeElapsed: 49.05Min
Iteration: 251, Loss: 13.31, TimeElapsed: 49.22Min
Iteration: 252, Loss: 12.86, TimeElapsed: 49.4Min
Iteration: 253, Loss: 12.34, TimeElapsed: 49.57Min
Iteration: 254, Loss: 14.26, TimeElapsed: 49.74Min
Iteration: 255, Loss: 13.18, TimeElapsed: 49.92Min
a dark haired man wearing a dark gray shirt [END] ['a', 'dark', 'haired', 'man', 'wearing', 'a', 'dark', 'gray', 'shirt', '[END]'] 9
a middle aged man records a moment with a [END] ['a', 'middle', 'aged', 'man', 'records', 'a', 'moment', 'with', 'a', '[END]'] 9
Iteration: 256, Loss: 15.85, TimeElapsed: 50.1Min
Iteration: 257, Loss: 14.13, TimeElapsed: 50.27Min
Iteration: 258, Loss: 15.44, TimeElapsed: 50.45Min
Iteration: 259, Loss: 13.95, TimeElapsed: 50.63Min
Iteration: 260, Loss: 15.74, TimeElapsed: 50.8Min
Iteration: 261, Loss: 13.49, TimeElapsed: 50.97Min
Iteration: 262, Loss: 13.49, TimeElapsed: 51.14Min
Iteration: 263, Loss: 14.57, TimeElapsed: 51.31Min
Iteration: 264, Loss: 15.9, TimeElapsed: 51.49Min
Iteration: 265, Loss: 14.11, TimeElapsed: 51.66Min
Iteration: 266, Loss: 14.95, TimeElapsed: 51.84Min
Iteration: 267, Loss: 14.48, TimeElapsed: 52.01Min
two young men play a game of ping pong [END] ['two', 'young', 'men', 'play', 'a', 'game', 'of', 'ping', 'pong', '[END]'] 9
Iteration: 268, Loss: 14.22, TimeElapsed: 52.19Min
a lot of african americans walking on the sidewalk [END] ['a', 'lot', 'of', 'african', 'americans', 'walking', 'on', 'the', 'sidewalk', '[END]'] 9
Iteration: 269, Loss: 11.99, TimeElapsed: 52.37Min
Iteration: 270, Loss: 13.24, TimeElapsed: 52.54Min
Iteration: 271, Loss: 13.44, TimeElapsed: 52.72Min
Iteration: 272, Loss: 15.97, TimeElapsed: 52.89Min
Iteration: 273, Loss: 13.13, TimeElapsed: 53.07Min
Iteration: 274, Loss: 13.42, TimeElapsed: 53.25Min
Iteration: 275, Loss: 12.61, TimeElapsed: 53.43Min
Iteration: 276, Loss: 13.83, TimeElapsed: 53.6Min
Iteration: 277, Loss: 14.51, TimeElapsed: 53.79Min
Iteration: 278, Loss: 13.22, TimeElapsed: 53.96Min
Iteration: 279, Loss: 14.54, TimeElapsed: 54.14Min
Iteration: 280, Loss: 12.85, TimeElapsed: 54.31Min
Iteration: 281, Loss: 18.53, TimeElapsed: 54.49Min
Iteration: 282, Loss: 13.5, TimeElapsed: 54.66Min
Iteration: 283, Loss: 14.07, TimeElapsed: 54.84Min
several children riding on a merry go round in cool [END] ['several', 'children', 'riding', 'on', 'a', 'merry', 'go', 'round', 'in', 'cool', '[END]'] 9
several children riding on a merry go round in cool [END] ['several', 'children', 'riding', 'on', 'a', 'merry', 'go', 'round', 'in', 'cool', '[END]'] 10
Iteration: 284, Loss: 16.22, TimeElapsed: 55.01Min
this short haired woman catches up on the latest [END] ['this', 'short', 'haired', 'woman', 'catches', 'up', 'on', 'the', 'latest', '[END]'] 9
Iteration: 285, Loss: 14.28, TimeElapsed: 55.19Min
Iteration: 286, Loss: 15.14, TimeElapsed: 55.37Min
Iteration: 287, Loss: 13.84, TimeElapsed: 55.54Min
Iteration: 288, Loss: 15.36, TimeElapsed: 55.73Min
a shirtless blue eyed short haired boy is wet [END] ['a', 'shirtless', 'blue', 'eyed', 'short', 'haired', 'boy', 'is', 'wet', '[END]'] 9
Iteration: 289, Loss: 16.93, TimeElapsed: 55.9Min
a brunette girl wearing a gray long sleeved shirt [END] ['a', 'brunette', 'girl', 'wearing', 'a', 'gray', 'long', 'sleeved', 'shirt', '[END]'] 9
Iteration: 290, Loss: 15.22, TimeElapsed: 56.08Min
Iteration: 291, Loss: 13.67, TimeElapsed: 56.25Min
there a several people in a dark bar type [END] ['there', 'a', 'several', 'people', 'in', 'a', 'dark', 'bar', 'type', '[END]'] 9
Iteration: 292, Loss: 16.95, TimeElapsed: 56.43Min
Iteration: 293, Loss: 16.67, TimeElapsed: 56.61Min
Iteration: 294, Loss: 17.47, TimeElapsed: 56.78Min
a girl is drying herself with a red blue [END] ['a', 'girl', 'is', 'drying', 'herself', 'with', 'a', 'red', 'blue', '[END]'] 9
Iteration: 295, Loss: 19.81, TimeElapsed: 56.96Min
a man with a white t shirt and red [END] ['a', 'man', 'with', 'a', 'white', 't', 'shirt', 'and', 'red', '[END]'] 9
a man in a long sleeved gray shirt and [END] ['a', 'man', 'in', 'a', 'long', 'sleeved', 'gray', 'shirt', 'and', '[END]'] 9
Iteration: 296, Loss: 14.6, TimeElapsed: 57.14Min
Iteration: 297, Loss: 16.31, TimeElapsed: 57.31Min
Iteration: 298, Loss: 16.49, TimeElapsed: 57.48Min
Iteration: 299, Loss: 17.87, TimeElapsed: 57.66Min
Iteration: 300, Loss: 18.16, TimeElapsed: 57.83Min
a long haired man wearing a t shirt playing an [END] ['a', 'long', 'haired', 'man', 'wearing', 'a', 't', 'shirt', 'playing', 'an', '[END]'] 9
a long haired man wearing a t shirt playing an [END] ['a', 'long', 'haired', 'man', 'wearing', 'a', 't', 'shirt', 'playing', 'an', '[END]'] 10
three brown haired men are setting up for a [END] ['three', 'brown', 'haired', 'men', 'are', 'setting', 'up', 'for', 'a', '[END]'] 9
Iteration: 301, Loss: 14.51, TimeElapsed: 58.01Min
Iteration: 302, Loss: 18.92, TimeElapsed: 58.19Min
Iteration: 303, Loss: 18.33, TimeElapsed: 58.37Min
a woman wearing a t shirt shorts and sandals [END] ['a', 'woman', 'wearing', 'a', 't', 'shirt', 'shorts', 'and', 'sandals', '[END]'] 9
Iteration: 304, Loss: 14.35, TimeElapsed: 58.55Min
Iteration: 305, Loss: 17.81, TimeElapsed: 58.72Min
Iteration: 306, Loss: 18.95, TimeElapsed: 58.92Min
Iteration: 307, Loss: 17.26, TimeElapsed: 59.1Min
Iteration: 308, Loss: 15.93, TimeElapsed: 59.28Min
Iteration: 309, Loss: 14.83, TimeElapsed: 59.46Min
Iteration: 310, Loss: 17.09, TimeElapsed: 59.64Min
a short haired woman speaks passionately to a group [END] ['a', 'short', 'haired', 'woman', 'speaks', 'passionately', 'to', 'a', 'group', '[END]'] 9
Iteration: 311, Loss: 18.97, TimeElapsed: 59.81Min
Iteration: 312, Loss: 18.18, TimeElapsed: 59.99Min
Iteration: 313, Loss: 15.69, TimeElapsed: 60.17Min
Iteration: 314, Loss: 19.79, TimeElapsed: 60.34Min
Iteration: 315, Loss: 21.07, TimeElapsed: 60.52Min
a blond haired toddler dressed in pink and white [END] ['a', 'blond', 'haired', 'toddler', 'dressed', 'in', 'pink', 'and', 'white', '[END]'] 9
Iteration: 316, Loss: 16.85, TimeElapsed: 60.7Min
Iteration: 317, Loss: 17.23, TimeElapsed: 60.88Min
a young male swimmer in a crystal clear blue [END] ['a', 'young', 'male', 'swimmer', 'in', 'a', 'crystal', 'clear', 'blue', '[END]'] 9
Iteration: 318, Loss: 15.68, TimeElapsed: 61.05Min
Iteration: 319, Loss: 18.91, TimeElapsed: 61.23Min
Iteration: 320, Loss: 15.39, TimeElapsed: 61.41Min
Iteration: 321, Loss: 17.47, TimeElapsed: 61.58Min
Iteration: 322, Loss: 19.24, TimeElapsed: 61.76Min
Iteration: 323, Loss: 15.33, TimeElapsed: 61.93Min
Iteration: 324, Loss: 16.58, TimeElapsed: 62.11Min
Iteration: 325, Loss: 17.45, TimeElapsed: 62.29Min
white female with long blond hair black shirt with [END] ['white', 'female', 'with', 'long', 'blond', 'hair', 'black', 'shirt', 'with', '[END]'] 9
Iteration: 326, Loss: 18.33, TimeElapsed: 62.46Min
Iteration: 327, Loss: 16.93, TimeElapsed: 62.63Min
a man in a colorful button up t shirt [END] ['a', 'man', 'in', 'a', 'colorful', 'button', 'up', 't', 'shirt', '[END]'] 9
Iteration: 328, Loss: 15.78, TimeElapsed: 62.81Min
Iteration: 329, Loss: 16.61, TimeElapsed: 62.99Min
Iteration: 330, Loss: 18.46, TimeElapsed: 63.16Min
five young well dressed people work in a kitchen [END] ['five', 'young', 'well', 'dressed', 'people', 'work', 'in', 'a', 'kitchen', '[END]'] 9
Iteration: 331, Loss: 17.14, TimeElapsed: 63.34Min
Iteration: 332, Loss: 15.23, TimeElapsed: 63.52Min
a group of long distance runners compete in a [END] ['a', 'group', 'of', 'long', 'distance', 'runners', 'compete', 'in', 'a', '[END]'] 9
young dark blond haired boy in a blue shirt [END] ['young', 'dark', 'blond', 'haired', 'boy', 'in', 'a', 'blue', 'shirt', '[END]'] 9
Iteration: 333, Loss: 15.31, TimeElapsed: 63.7Min
Iteration: 334, Loss: 17.93, TimeElapsed: 63.87Min
Iteration: 335, Loss: 16.04, TimeElapsed: 64.05Min
Iteration: 336, Loss: 19.58, TimeElapsed: 64.22Min
Iteration: 337, Loss: 17.02, TimeElapsed: 64.4Min
Iteration: 338, Loss: 16.86, TimeElapsed: 64.57Min
Iteration: 339, Loss: 16.55, TimeElapsed: 64.76Min
Iteration: 340, Loss: 18.4, TimeElapsed: 64.94Min
several young men in t shirts sort through cd [END] ['several', 'young', 'men', 'in', 't', 'shirts', 'sort', 'through', 'cd', '[END]'] 9
Iteration: 341, Loss: 17.29, TimeElapsed: 65.11Min
Iteration: 342, Loss: 15.51, TimeElapsed: 65.29Min
Iteration: 343, Loss: 17.76, TimeElapsed: 65.46Min
Iteration: 344, Loss: 15.18, TimeElapsed: 65.64Min
Iteration: 345, Loss: 17.66, TimeElapsed: 65.82Min
Iteration: 346, Loss: 17.29, TimeElapsed: 65.99Min
Iteration: 347, Loss: 16.64, TimeElapsed: 66.16Min
Iteration: 348, Loss: 15.59, TimeElapsed: 66.34Min
Iteration: 349, Loss: 18.81, TimeElapsed: 66.51Min
Iteration: 350, Loss: 15.67, TimeElapsed: 66.69Min
Iteration: 351, Loss: 18.73, TimeElapsed: 66.87Min
Iteration: 352, Loss: 17.61, TimeElapsed: 67.04Min
an artist painting a model dress in old timey [END] ['an', 'artist', 'painting', 'a', 'model', 'dress', 'in', 'old', 'timey', '[END]'] 9
Iteration: 353, Loss: 16.89, TimeElapsed: 67.23Min
Iteration: 354, Loss: 15.19, TimeElapsed: 67.42Min
a light blue shirted athlete gets ready to receive [END] ['a', 'light', 'blue', 'shirted', 'athlete', 'gets', 'ready', 'to', 'receive', '[END]'] 9
Iteration: 355, Loss: 17.86, TimeElapsed: 67.59Min
an old gray haired man painting a beautiful scenery [END] ['an', 'old', 'gray', 'haired', 'man', 'painting', 'a', 'beautiful', 'scenery', '[END]'] 9
Iteration: 356, Loss: 16.58, TimeElapsed: 67.77Min
Iteration: 357, Loss: 14.6, TimeElapsed: 67.95Min
Iteration: 358, Loss: 17.99, TimeElapsed: 68.14Min
Iteration: 359, Loss: 14.55, TimeElapsed: 68.39Min
Iteration: 360, Loss: 16.11, TimeElapsed: 68.62Min
the boat man is working on an uncompleted boat [END] ['the', 'boat', 'man', 'is', 'working', 'on', 'an', 'uncompleted', 'boat', '[END]'] 9
Iteration: 361, Loss: 16.84, TimeElapsed: 68.87Min
Iteration: 362, Loss: 14.95, TimeElapsed: 69.1Min
Iteration: 363, Loss: 15.58, TimeElapsed: 69.33Min
Iteration: 364, Loss: 15.28, TimeElapsed: 69.57Min
a man in a white button up shirt looks [END] ['a', 'man', 'in', 'a', 'white', 'button', 'up', 'shirt', 'looks', '[END]'] 9
Iteration: 365, Loss: 15.09, TimeElapsed: 69.8Min
Iteration: 366, Loss: 15.58, TimeElapsed: 70.03Min
Iteration: 367, Loss: 17.22, TimeElapsed: 70.26Min
Iteration: 368, Loss: 14.39, TimeElapsed: 70.49Min
a pony tailed man converses with a long haired [END] ['a', 'pony', 'tailed', 'man', 'converses', 'with', 'a', 'long', 'haired', '[END]'] 9
Iteration: 369, Loss: 18.2, TimeElapsed: 70.73Min
Iteration: 370, Loss: 16.58, TimeElapsed: 70.96Min
Iteration: 371, Loss: 17.32, TimeElapsed: 71.19Min
several high school aged students raking leaves in front [END] ['several', 'high', 'school', 'aged', 'students', 'raking', 'leaves', 'in', 'front', '[END]'] 9
Iteration: 372, Loss: 18.98, TimeElapsed: 71.44Min
a man walks through an almost empty street with [END] ['a', 'man', 'walks', 'through', 'an', 'almost', 'empty', 'street', 'with', '[END]'] 9
Iteration: 373, Loss: 14.98, TimeElapsed: 71.68Min
Iteration: 374, Loss: 18.4, TimeElapsed: 71.91Min
Iteration: 375, Loss: 15.57, TimeElapsed: 72.13Min
two middle aged men one of which is holding [END] ['two', 'middle', 'aged', 'men', 'one', 'of', 'which', 'is', 'holding', '[END]'] 9
a group of twenty something men sit around a [END] ['a', 'group', 'of', 'twenty', 'something', 'men', 'sit', 'around', 'a', '[END]'] 9
Iteration: 376, Loss: 20.8, TimeElapsed: 72.39Min
Iteration: 377, Loss: 16.56, TimeElapsed: 72.62Min
a man in a white t shirt and blue [END] ['a', 'man', 'in', 'a', 'white', 't', 'shirt', 'and', 'blue', '[END]'] 9
Iteration: 378, Loss: 16.63, TimeElapsed: 72.85Min
Iteration: 379, Loss: 13.58, TimeElapsed: 73.1Min
Iteration: 380, Loss: 19.76, TimeElapsed: 73.35Min
a middle aged man with a broken left arm [END] ['a', 'middle', 'aged', 'man', 'with', 'a', 'broken', 'left', 'arm', '[END]'] 9
man in hat shorts and t shirt carries wood [END] ['man', 'in', 'hat', 'shorts', 'and', 't', 'shirt', 'carries', 'wood', '[END]'] 9
Iteration: 381, Loss: 17.73, TimeElapsed: 73.59Min
man with outstretched arms standing on snow covered rocks [END] ['man', 'with', 'outstretched', 'arms', 'standing', 'on', 'snow', 'covered', 'rocks', '[END]'] 9
Iteration: 382, Loss: 16.04, TimeElapsed: 73.82Min
Iteration: 383, Loss: 15.5, TimeElapsed: 74.06Min
a man in a gray shirt and flip flops [END] ['a', 'man', 'in', 'a', 'gray', 'shirt', 'and', 'flip', 'flops', '[END]'] 9
Iteration: 384, Loss: 14.7, TimeElapsed: 74.3Min
Iteration: 385, Loss: 13.66, TimeElapsed: 74.53Min
Iteration: 386, Loss: 15.15, TimeElapsed: 74.77Min
a boy with a zip up sweater is playing [END] ['a', 'boy', 'with', 'a', 'zip', 'up', 'sweater', 'is', 'playing', '[END]'] 9
Iteration: 387, Loss: 16.64, TimeElapsed: 75.01Min
a dark haired bridesmaid holding a bouquet of flowers [END] ['a', 'dark', 'haired', 'bridesmaid', 'holding', 'a', 'bouquet', 'of', 'flowers', '[END]'] 9
Iteration: 388, Loss: 16.73, TimeElapsed: 75.25Min
a middle aged man in a white hate navy [END] ['a', 'middle', 'aged', 'man', 'in', 'a', 'white', 'hate', 'navy', '[END]'] 9
Iteration: 389, Loss: 15.3, TimeElapsed: 75.49Min
Iteration: 390, Loss: 16.17, TimeElapsed: 75.73Min
two dark haired men in orange shirts leaning on [END] ['two', 'dark', 'haired', 'men', 'in', 'orange', 'shirts', 'leaning', 'on', '[END]'] 9
Iteration: 391, Loss: 15.02, TimeElapsed: 75.96Min
Iteration: 392, Loss: 17.05, TimeElapsed: 76.2Min
Iteration: 393, Loss: 18.09, TimeElapsed: 76.44Min
Iteration: 394, Loss: 16.84, TimeElapsed: 76.67Min
Iteration: 395, Loss: 12.95, TimeElapsed: 76.9Min
Iteration: 396, Loss: 15.22, TimeElapsed: 77.14Min
a man on a ten foot unicycle entertains a [END] ['a', 'man', 'on', 'a', 'ten', 'foot', 'unicycle', 'entertains', 'a', '[END]'] 9
Iteration: 397, Loss: 15.5, TimeElapsed: 77.38Min
Iteration: 398, Loss: 16.45, TimeElapsed: 77.62Min
Iteration: 399, Loss: 13.71, TimeElapsed: 77.85Min
a woman with a purple mo hawk and a [END] ['a', 'woman', 'with', 'a', 'purple', 'mo', 'hawk', 'and', 'a', '[END]'] 9
Iteration: 400, Loss: 17.04, TimeElapsed: 78.1Min
Iteration: 401, Loss: 15.62, TimeElapsed: 78.35Min
Iteration: 402, Loss: 17.77, TimeElapsed: 78.59Min
the young man with the white t shirt and [END] ['the', 'young', 'man', 'with', 'the', 'white', 't', 'shirt', 'and', '[END]'] 9
Iteration: 403, Loss: 14.55, TimeElapsed: 78.83Min
Iteration: 404, Loss: 17.92, TimeElapsed: 79.06Min
Iteration: 405, Loss: 15.84, TimeElapsed: 79.29Min
Iteration: 406, Loss: 15.63, TimeElapsed: 79.52Min
four middle to high school aged children sit around a table [END] ['four', 'middle', 'to', 'high', 'school', 'aged', 'children', 'sit', 'around', 'a', 'table', '[END]'] 9
four middle to high school aged children sit around a table [END] ['four', 'middle', 'to', 'high', 'school', 'aged', 'children', 'sit', 'around', 'a', 'table', '[END]'] 10
four middle to high school aged children sit around a table [END] ['four', 'middle', 'to', 'high', 'school', 'aged', 'children', 'sit', 'around', 'a', 'table', '[END]'] 11
Iteration: 407, Loss: 13.9, TimeElapsed: 79.75Min
Iteration: 408, Loss: 16.67, TimeElapsed: 79.99Min
Iteration: 409, Loss: 13.54, TimeElapsed: 80.23Min
Iteration: 410, Loss: 16.31, TimeElapsed: 80.46Min
Iteration: 411, Loss: 12.26, TimeElapsed: 80.69Min
Iteration: 412, Loss: 15.42, TimeElapsed: 80.92Min
Iteration: 413, Loss: 17.63, TimeElapsed: 81.15Min
Iteration: 414, Loss: 17.45, TimeElapsed: 81.38Min
Iteration: 415, Loss: 17.28, TimeElapsed: 81.62Min
Iteration: 416, Loss: 13.54, TimeElapsed: 81.85Min
Iteration: 417, Loss: 14.28, TimeElapsed: 82.08Min
Iteration: 418, Loss: 12.74, TimeElapsed: 82.31Min
Iteration: 419, Loss: 17.26, TimeElapsed: 82.55Min
Iteration: 420, Loss: 16.39, TimeElapsed: 82.77Min
two young males one in a black t shirt [END] ['two', 'young', 'males', 'one', 'in', 'a', 'black', 't', 'shirt', '[END]'] 9
Iteration: 421, Loss: 16.73, TimeElapsed: 83.01Min
Iteration: 422, Loss: 15.84, TimeElapsed: 83.25Min
Iteration: 423, Loss: 16.23, TimeElapsed: 83.49Min
Iteration: 424, Loss: 13.98, TimeElapsed: 83.72Min
a group of people dressed in orange short sleeved [END] ['a', 'group', 'of', 'people', 'dressed', 'in', 'orange', 'short', 'sleeved', '[END]'] 9
Iteration: 425, Loss: 15.82, TimeElapsed: 83.96Min
Iteration: 426, Loss: 16.06, TimeElapsed: 84.2Min
Iteration: 427, Loss: 14.39, TimeElapsed: 84.44Min
Iteration: 428, Loss: 17.06, TimeElapsed: 84.68Min
Iteration: 429, Loss: 15.45, TimeElapsed: 84.91Min
Iteration: 430, Loss: 17.23, TimeElapsed: 85.13Min
Iteration: 431, Loss: 16.57, TimeElapsed: 85.37Min
Iteration: 432, Loss: 17.16, TimeElapsed: 85.6Min
Iteration: 433, Loss: 17.2, TimeElapsed: 85.83Min
Iteration: 434, Loss: 16.46, TimeElapsed: 86.07Min
Iteration: 435, Loss: 18.26, TimeElapsed: 86.3Min
Iteration: 436, Loss: 18.28, TimeElapsed: 86.53Min
Iteration: 437, Loss: 17.6, TimeElapsed: 86.77Min
a short haired man wearing blue jeans with a [END] ['a', 'short', 'haired', 'man', 'wearing', 'blue', 'jeans', 'with', 'a', '[END]'] 9
Iteration: 438, Loss: 16.03, TimeElapsed: 87.0Min
Iteration: 439, Loss: 17.44, TimeElapsed: 87.23Min
Iteration: 440, Loss: 14.95, TimeElapsed: 87.47Min
three men in long sleeve shirts are running while [END] ['three', 'men', 'in', 'long', 'sleeve', 'shirts', 'are', 'running', 'while', '[END]'] 9
Iteration: 441, Loss: 17.37, TimeElapsed: 87.7Min
Iteration: 442, Loss: 13.97, TimeElapsed: 87.94Min
Iteration: 443, Loss: 19.04, TimeElapsed: 88.17Min
Iteration: 444, Loss: 15.02, TimeElapsed: 88.41Min
Iteration: 445, Loss: 13.74, TimeElapsed: 88.64Min
Iteration: 446, Loss: 15.15, TimeElapsed: 88.88Min
Iteration: 447, Loss: 13.81, TimeElapsed: 89.11Min
Iteration: 448, Loss: 13.39, TimeElapsed: 89.34Min
a woman in blue wearing flip flops touches a [END] ['a', 'woman', 'in', 'blue', 'wearing', 'flip', 'flops', 'touches', 'a', '[END]'] 9
Iteration: 449, Loss: 17.89, TimeElapsed: 89.58Min
a man in a red t shirt gray hair [END] ['a', 'man', 'in', 'a', 'red', 't', 'shirt', 'gray', 'hair', '[END]'] 9
Iteration: 450, Loss: 17.09, TimeElapsed: 89.82Min
Iteration: 451, Loss: 18.63, TimeElapsed: 90.06Min
man wearing a white short sleeved t shirt red [END] ['man', 'wearing', 'a', 'white', 'short', 'sleeved', 't', 'shirt', 'red', '[END]'] 9
Iteration: 452, Loss: 18.22, TimeElapsed: 90.29Min
two middle aged men play guitar on a stage [END] ['two', 'middle', 'aged', 'men', 'play', 'guitar', 'on', 'a', 'stage', '[END]'] 9
Iteration: 453, Loss: 21.69, TimeElapsed: 90.52Min
Iteration: 454, Loss: 14.55, TimeElapsed: 90.78Min
Iteration: 455, Loss: 15.19, TimeElapsed: 91.02Min
Iteration: 456, Loss: 17.3, TimeElapsed: 91.26Min
Iteration: 457, Loss: 19.88, TimeElapsed: 91.49Min
Iteration: 458, Loss: 16.48, TimeElapsed: 91.72Min
Iteration: 459, Loss: 18.77, TimeElapsed: 91.96Min
a man and a woman sit back to back [END] ['a', 'man', 'and', 'a', 'woman', 'sit', 'back', 'to', 'back', '[END]'] 9
Iteration: 460, Loss: 17.24, TimeElapsed: 92.19Min
Iteration: 461, Loss: 17.56, TimeElapsed: 92.43Min
a serious faced woman in green and wearing an [END] ['a', 'serious', 'faced', 'woman', 'in', 'green', 'and', 'wearing', 'an', '[END]'] 9
Iteration: 462, Loss: 21.09, TimeElapsed: 92.67Min
Iteration: 463, Loss: 15.42, TimeElapsed: 92.92Min
Iteration: 464, Loss: 17.87, TimeElapsed: 93.16Min
Iteration: 465, Loss: 17.64, TimeElapsed: 93.39Min
a young child wearing a pink t shirt and [END] ['a', 'young', 'child', 'wearing', 'a', 'pink', 't', 'shirt', 'and', '[END]'] 9
a woman with red hair and a black shirt [END] ['a', 'woman', 'with', 'red', 'hair', 'and', 'a', 'black', 'shirt', '[END]'] 9
Iteration: 466, Loss: 19.27, TimeElapsed: 93.62Min
Iteration: 467, Loss: 16.01, TimeElapsed: 93.88Min
Iteration: 468, Loss: 20.82, TimeElapsed: 94.11Min
a dark haired drummer is playing his set with [END] ['a', 'dark', 'haired', 'drummer', 'is', 'playing', 'his', 'set', 'with', '[END]'] 9
a waterskier is air borne above the water near [END] ['a', 'waterskier', 'is', 'air', 'borne', 'above', 'the', 'water', 'near', '[END]'] 9
Iteration: 469, Loss: 20.8, TimeElapsed: 94.34Min
there are two policemen walking down a semi crowded [END] ['there', 'are', 'two', 'policemen', 'walking', 'down', 'a', 'semi', 'crowded', '[END]'] 9
Iteration: 470, Loss: 14.48, TimeElapsed: 94.57Min
a beautiful red haired woman is posing for the [END] ['a', 'beautiful', 'red', 'haired', 'woman', 'is', 'posing', 'for', 'the', '[END]'] 9
Iteration: 471, Loss: 17.29, TimeElapsed: 94.81Min
Iteration: 472, Loss: 19.18, TimeElapsed: 95.04Min
Iteration: 473, Loss: 17.82, TimeElapsed: 95.27Min
Iteration: 474, Loss: 17.38, TimeElapsed: 95.5Min
Iteration: 475, Loss: 21.32, TimeElapsed: 95.73Min
a medical procedure room filled with high tech life [END] ['a', 'medical', 'procedure', 'room', 'filled', 'with', 'high', 'tech', 'life', '[END]'] 9
Iteration: 476, Loss: 19.96, TimeElapsed: 95.96Min
a boy wearing a t shirt with the american [END] ['a', 'boy', 'wearing', 'a', 't', 'shirt', 'with', 'the', 'american', '[END]'] 9
Iteration: 477, Loss: 17.48, TimeElapsed: 96.2Min
Iteration: 478, Loss: 19.58, TimeElapsed: 96.42Min
Iteration: 479, Loss: 16.33, TimeElapsed: 96.66Min
man wearing black t shirt sitting at a computer [END] ['man', 'wearing', 'black', 't', 'shirt', 'sitting', 'at', 'a', 'computer', '[END]'] 9
Iteration: 480, Loss: 17.48, TimeElapsed: 96.9Min
Iteration: 481, Loss: 17.35, TimeElapsed: 97.13Min
Iteration: 482, Loss: 17.71, TimeElapsed: 97.36Min
Iteration: 483, Loss: 14.53, TimeElapsed: 97.59Min
Iteration: 484, Loss: 16.08, TimeElapsed: 97.83Min
Iteration: 485, Loss: 16.72, TimeElapsed: 98.06Min
Iteration: 486, Loss: 17.27, TimeElapsed: 98.3Min
Iteration: 487, Loss: 17.22, TimeElapsed: 98.53Min
Iteration: 488, Loss: 18.79, TimeElapsed: 98.77Min
Iteration: 489, Loss: 18.68, TimeElapsed: 99.01Min
Iteration: 490, Loss: 17.42, TimeElapsed: 99.24Min
Iteration: 491, Loss: 21.42, TimeElapsed: 99.47Min
index out of range in self
---Error 491
Epoch 2
Iteration: 1, Loss: 14.38, TimeElapsed: 99.9Min
Iteration: 2, Loss: 18.79, TimeElapsed: 100.12Min
Iteration: 3, Loss: 14.85, TimeElapsed: 100.35Min
Iteration: 4, Loss: 16.37, TimeElapsed: 100.59Min
Iteration: 5, Loss: 15.9, TimeElapsed: 100.82Min
two young males one in a black t shirt [END] ['two', 'young', 'males', 'one', 'in', 'a', 'black', 't', 'shirt', '[END]'] 9
a blond haired boy wearing a yellow shirt and [END] ['a', 'blond', 'haired', 'boy', 'wearing', 'a', 'yellow', 'shirt', 'and', '[END]'] 9
Iteration: 6, Loss: 14.86, TimeElapsed: 101.05Min
Iteration: 7, Loss: 20.41, TimeElapsed: 101.28Min
Iteration: 8, Loss: 16.6, TimeElapsed: 101.5Min
a man in short sleeved shirt and jeans is [END] ['a', 'man', 'in', 'short', 'sleeved', 'shirt', 'and', 'jeans', 'is', '[END]'] 9
Iteration: 9, Loss: 16.07, TimeElapsed: 101.73Min
Iteration: 10, Loss: 18.42, TimeElapsed: 101.96Min
Iteration: 11, Loss: 18.62, TimeElapsed: 102.19Min
Iteration: 12, Loss: 18.29, TimeElapsed: 102.42Min
Iteration: 13, Loss: 17.07, TimeElapsed: 102.64Min
a boy in a long sleeve shirt is holding [END] ['a', 'boy', 'in', 'a', 'long', 'sleeve', 'shirt', 'is', 'holding', '[END]'] 9
Iteration: 14, Loss: 18.43, TimeElapsed: 102.87Min
Iteration: 15, Loss: 16.45, TimeElapsed: 103.1Min
Iteration: 16, Loss: 16.4, TimeElapsed: 103.33Min
several young men in t shirts sort through cd [END] ['several', 'young', 'men', 'in', 't', 'shirts', 'sort', 'through', 'cd', '[END]'] 9
a dark haired middle aged woman wearing a necklace [END] ['a', 'dark', 'haired', 'middle', 'aged', 'woman', 'wearing', 'a', 'necklace', '[END]'] 9
Iteration: 17, Loss: 16.76, TimeElapsed: 103.57Min
Iteration: 18, Loss: 18.63, TimeElapsed: 103.8Min
Iteration: 19, Loss: 17.84, TimeElapsed: 104.03Min
Iteration: 20, Loss: 17.29, TimeElapsed: 104.26Min
Iteration: 21, Loss: 16.11, TimeElapsed: 104.48Min
a dark skinned man in front of a vibrant [END] ['a', 'dark', 'skinned', 'man', 'in', 'front', 'of', 'a', 'vibrant', '[END]'] 9
Iteration: 22, Loss: 17.59, TimeElapsed: 104.71Min
Iteration: 23, Loss: 19.74, TimeElapsed: 104.93Min
four middle to high school aged children sit around a table [END] ['four', 'middle', 'to', 'high', 'school', 'aged', 'children', 'sit', 'around', 'a', 'table', '[END]'] 9
four middle to high school aged children sit around a table [END] ['four', 'middle', 'to', 'high', 'school', 'aged', 'children', 'sit', 'around', 'a', 'table', '[END]'] 10
four middle to high school aged children sit around a table [END] ['four', 'middle', 'to', 'high', 'school', 'aged', 'children', 'sit', 'around', 'a', 'table', '[END]'] 11
Iteration: 24, Loss: 19.32, TimeElapsed: 105.16Min
Iteration: 25, Loss: 18.22, TimeElapsed: 105.38Min
Iteration: 26, Loss: 16.88, TimeElapsed: 105.61Min
Iteration: 27, Loss: 17.94, TimeElapsed: 105.84Min
Iteration: 28, Loss: 21.68, TimeElapsed: 106.06Min
Iteration: 29, Loss: 15.75, TimeElapsed: 106.28Min
Iteration: 30, Loss: 19.56, TimeElapsed: 106.5Min
Iteration: 31, Loss: 17.12, TimeElapsed: 106.72Min
a middle aged man talking to his daughter and [END] ['a', 'middle', 'aged', 'man', 'talking', 'to', 'his', 'daughter', 'and', '[END]'] 9
Iteration: 32, Loss: 18.14, TimeElapsed: 106.94Min
Iteration: 33, Loss: 17.73, TimeElapsed: 107.17Min
Iteration: 34, Loss: 18.51, TimeElapsed: 107.39Min
Iteration: 35, Loss: 18.76, TimeElapsed: 107.62Min
Iteration: 36, Loss: 18.83, TimeElapsed: 107.85Min
a woman wearing a t shirt shorts and sandals [END] ['a', 'woman', 'wearing', 'a', 't', 'shirt', 'shorts', 'and', 'sandals', '[END]'] 9
Iteration: 37, Loss: 21.02, TimeElapsed: 108.08Min
Iteration: 38, Loss: 17.45, TimeElapsed: 108.31Min
Iteration: 39, Loss: 16.14, TimeElapsed: 108.54Min
man with outstretched arms standing on snow covered rocks [END] ['man', 'with', 'outstretched', 'arms', 'standing', 'on', 'snow', 'covered', 'rocks', '[END]'] 9
Iteration: 40, Loss: 19.87, TimeElapsed: 108.76Min
Iteration: 41, Loss: 17.43, TimeElapsed: 108.99Min
Iteration: 42, Loss: 18.31, TimeElapsed: 109.21Min
Iteration: 43, Loss: 15.38, TimeElapsed: 109.43Min
Iteration: 44, Loss: 19.15, TimeElapsed: 109.66Min
Iteration: 45, Loss: 17.07, TimeElapsed: 109.88Min
Iteration: 46, Loss: 16.02, TimeElapsed: 110.11Min
Iteration: 47, Loss: 16.01, TimeElapsed: 110.33Min
a dark haired woman wearing a blue blouse and [END] ['a', 'dark', 'haired', 'woman', 'wearing', 'a', 'blue', 'blouse', 'and', '[END]'] 9
Iteration: 48, Loss: 18.06, TimeElapsed: 110.55Min
Iteration: 49, Loss: 17.26, TimeElapsed: 110.78Min
a man is wearing a white t shirt with [END] ['a', 'man', 'is', 'wearing', 'a', 'white', 't', 'shirt', 'with', '[END]'] 9
Iteration: 50, Loss: 15.55, TimeElapsed: 111.0Min
Iteration: 51, Loss: 16.28, TimeElapsed: 111.22Min
Iteration: 52, Loss: 17.29, TimeElapsed: 111.44Min
man wearing black t shirt sitting at a computer [END] ['man', 'wearing', 'black', 't', 'shirt', 'sitting', 'at', 'a', 'computer', '[END]'] 9
Iteration: 53, Loss: 16.75, TimeElapsed: 111.67Min
Iteration: 54, Loss: 16.59, TimeElapsed: 111.89Min
Iteration: 55, Loss: 16.3, TimeElapsed: 112.11Min
Iteration: 56, Loss: 18.81, TimeElapsed: 112.34Min
Iteration: 57, Loss: 18.33, TimeElapsed: 112.57Min
Iteration: 58, Loss: 17.61, TimeElapsed: 112.79Min
Iteration: 59, Loss: 16.86, TimeElapsed: 113.03Min
Iteration: 60, Loss: 17.42, TimeElapsed: 113.26Min
Iteration: 61, Loss: 16.37, TimeElapsed: 113.48Min
Iteration: 62, Loss: 15.14, TimeElapsed: 113.7Min
Iteration: 63, Loss: 17.57, TimeElapsed: 113.94Min
man in a white button up shirt addressing a [END] ['man', 'in', 'a', 'white', 'button', 'up', 'shirt', 'addressing', 'a', '[END]'] 9
Iteration: 64, Loss: 17.88, TimeElapsed: 114.16Min
several high school aged students raking leaves in front [END] ['several', 'high', 'school', 'aged', 'students', 'raking', 'leaves', 'in', 'front', '[END]'] 9
Iteration: 65, Loss: 18.32, TimeElapsed: 114.38Min
Iteration: 66, Loss: 17.73, TimeElapsed: 114.6Min
Iteration: 67, Loss: 15.25, TimeElapsed: 114.83Min
Iteration: 68, Loss: 18.72, TimeElapsed: 115.06Min
Iteration: 69, Loss: 19.59, TimeElapsed: 115.28Min
Iteration: 70, Loss: 19.86, TimeElapsed: 115.5Min
Iteration: 71, Loss: 19.31, TimeElapsed: 115.72Min
Iteration: 72, Loss: 17.84, TimeElapsed: 115.95Min
Iteration: 73, Loss: 14.67, TimeElapsed: 116.17Min
a man walks through an almost empty street with [END] ['a', 'man', 'walks', 'through', 'an', 'almost', 'empty', 'street', 'with', '[END]'] 9
Iteration: 74, Loss: 19.66, TimeElapsed: 116.39Min
Iteration: 75, Loss: 16.43, TimeElapsed: 116.61Min
Iteration: 76, Loss: 15.66, TimeElapsed: 116.83Min
Iteration: 77, Loss: 17.0, TimeElapsed: 117.05Min
Iteration: 78, Loss: 15.73, TimeElapsed: 117.27Min
Iteration: 79, Loss: 15.13, TimeElapsed: 117.5Min
Iteration: 80, Loss: 19.95, TimeElapsed: 117.72Min
Iteration: 81, Loss: 15.26, TimeElapsed: 117.95Min
Iteration: 82, Loss: 18.62, TimeElapsed: 118.17Min
Iteration: 83, Loss: 17.31, TimeElapsed: 118.39Min
Iteration: 84, Loss: 16.66, TimeElapsed: 118.61Min
Iteration: 85, Loss: 16.92, TimeElapsed: 118.84Min
a baby is eating aqua colored cake very messily [END] ['a', 'baby', 'is', 'eating', 'aqua', 'colored', 'cake', 'very', 'messily', '[END]'] 9
Iteration: 86, Loss: 17.2, TimeElapsed: 119.06Min
Iteration: 87, Loss: 15.49, TimeElapsed: 119.28Min
Iteration: 88, Loss: 15.45, TimeElapsed: 119.5Min
a dark haired woman wearing a brown jacket and [END] ['a', 'dark', 'haired', 'woman', 'wearing', 'a', 'brown', 'jacket', 'and', '[END]'] 9
Iteration: 89, Loss: 13.17, TimeElapsed: 119.72Min
Iteration: 90, Loss: 15.18, TimeElapsed: 119.94Min
Iteration: 91, Loss: 14.73, TimeElapsed: 120.16Min
Iteration: 92, Loss: 18.53, TimeElapsed: 120.38Min
Iteration: 93, Loss: 16.21, TimeElapsed: 120.6Min
a medical procedure room filled with high tech life [END] ['a', 'medical', 'procedure', 'room', 'filled', 'with', 'high', 'tech', 'life', '[END]'] 9
a woman attempts to mini golf while water pouring [END] ['a', 'woman', 'attempts', 'to', 'mini', 'golf', 'while', 'water', 'pouring', '[END]'] 9
Iteration: 94, Loss: 15.1, TimeElapsed: 120.82Min
Iteration: 95, Loss: 19.71, TimeElapsed: 121.05Min
Iteration: 96, Loss: 19.91, TimeElapsed: 121.27Min
Iteration: 97, Loss: 17.15, TimeElapsed: 121.49Min
Iteration: 98, Loss: 13.84, TimeElapsed: 121.7Min
a shirtless blue eyed short haired boy is wet [END] ['a', 'shirtless', 'blue', 'eyed', 'short', 'haired', 'boy', 'is', 'wet', '[END]'] 9
Iteration: 99, Loss: 17.06, TimeElapsed: 121.93Min
two boys playing tug of war while one reaches out [END] ['two', 'boys', 'playing', 'tug', 'of', 'war', 'while', 'one', 'reaches', 'out', '[END]'] 9
two boys playing tug of war while one reaches out [END] ['two', 'boys', 'playing', 'tug', 'of', 'war', 'while', 'one', 'reaches', 'out', '[END]'] 10
a lot of african americans walking on the sidewalk [END] ['a', 'lot', 'of', 'african', 'americans', 'walking', 'on', 'the', 'sidewalk', '[END]'] 9
Iteration: 100, Loss: 17.01, TimeElapsed: 122.16Min
Iteration: 101, Loss: 14.61, TimeElapsed: 122.38Min
Iteration: 102, Loss: 15.47, TimeElapsed: 122.6Min
Iteration: 103, Loss: 15.06, TimeElapsed: 122.82Min
Iteration: 104, Loss: 15.08, TimeElapsed: 123.06Min
a beautiful red haired woman is posing for the [END] ['a', 'beautiful', 'red', 'haired', 'woman', 'is', 'posing', 'for', 'the', '[END]'] 9
Iteration: 105, Loss: 15.05, TimeElapsed: 123.29Min
Iteration: 106, Loss: 16.12, TimeElapsed: 123.51Min
Iteration: 107, Loss: 16.77, TimeElapsed: 123.73Min
Iteration: 108, Loss: 14.41, TimeElapsed: 123.96Min
tri level building with people standing on each level [END] ['tri', 'level', 'building', 'with', 'people', 'standing', 'on', 'each', 'level', '[END]'] 9
Iteration: 109, Loss: 15.48, TimeElapsed: 124.18Min
Iteration: 110, Loss: 15.83, TimeElapsed: 124.4Min
Iteration: 111, Loss: 16.14, TimeElapsed: 124.63Min
an attractive lady with long blond hair and wearing [END] ['an', 'attractive', 'lady', 'with', 'long', 'blond', 'hair', 'and', 'wearing', '[END]'] 9
Iteration: 112, Loss: 15.67, TimeElapsed: 124.85Min
Iteration: 113, Loss: 17.91, TimeElapsed: 125.07Min
Iteration: 114, Loss: 17.49, TimeElapsed: 125.29Min
Iteration: 115, Loss: 15.86, TimeElapsed: 125.52Min
Iteration: 116, Loss: 16.26, TimeElapsed: 125.75Min
Iteration: 117, Loss: 17.76, TimeElapsed: 125.97Min
Iteration: 118, Loss: 18.21, TimeElapsed: 126.19Min
Iteration: 119, Loss: 17.98, TimeElapsed: 126.41Min
two young men play a game of ping pong [END] ['two', 'young', 'men', 'play', 'a', 'game', 'of', 'ping', 'pong', '[END]'] 9
Iteration: 120, Loss: 14.72, TimeElapsed: 126.63Min
Iteration: 121, Loss: 15.9, TimeElapsed: 126.8Min
a woman with a push to talk cellphone and [END] ['a', 'woman', 'with', 'a', 'push', 'to', 'talk', 'cellphone', 'and', '[END]'] 9
Iteration: 122, Loss: 17.82, TimeElapsed: 126.97Min
Iteration: 123, Loss: 16.49, TimeElapsed: 127.13Min
Iteration: 124, Loss: 18.29, TimeElapsed: 127.3Min
Iteration: 125, Loss: 14.41, TimeElapsed: 127.46Min
Iteration: 126, Loss: 17.08, TimeElapsed: 127.62Min
Iteration: 127, Loss: 17.14, TimeElapsed: 127.79Min
Iteration: 128, Loss: 15.8, TimeElapsed: 127.96Min
Iteration: 129, Loss: 18.16, TimeElapsed: 128.12Min
Iteration: 130, Loss: 17.83, TimeElapsed: 128.29Min
Iteration: 131, Loss: 17.09, TimeElapsed: 128.46Min
Iteration: 132, Loss: 18.96, TimeElapsed: 128.64Min
Iteration: 133, Loss: 18.1, TimeElapsed: 128.81Min
Iteration: 134, Loss: 16.68, TimeElapsed: 128.98Min
Iteration: 135, Loss: 15.64, TimeElapsed: 129.14Min
Iteration: 136, Loss: 18.0, TimeElapsed: 129.31Min
Iteration: 137, Loss: 16.89, TimeElapsed: 129.48Min
Iteration: 138, Loss: 16.09, TimeElapsed: 129.65Min
Iteration: 139, Loss: 15.27, TimeElapsed: 129.82Min
a woman scantily dressed in handsome homemade looking clothing [END] ['a', 'woman', 'scantily', 'dressed', 'in', 'handsome', 'homemade', 'looking', 'clothing', '[END]'] 9
Iteration: 140, Loss: 18.43, TimeElapsed: 129.99Min
a man in an orange button down shirt and [END] ['a', 'man', 'in', 'an', 'orange', 'button', 'down', 'shirt', 'and', '[END]'] 9
young girl in pink t shirt and black leggings [END] ['young', 'girl', 'in', 'pink', 't', 'shirt', 'and', 'black', 'leggings', '[END]'] 9
Iteration: 141, Loss: 13.21, TimeElapsed: 130.17Min
Iteration: 142, Loss: 13.75, TimeElapsed: 130.34Min
Iteration: 143, Loss: 13.94, TimeElapsed: 130.51Min
a light blue shirted athlete gets ready to receive [END] ['a', 'light', 'blue', 'shirted', 'athlete', 'gets', 'ready', 'to', 'receive', '[END]'] 9
Iteration: 144, Loss: 15.86, TimeElapsed: 130.68Min
Iteration: 145, Loss: 15.77, TimeElapsed: 130.85Min
Iteration: 146, Loss: 16.04, TimeElapsed: 131.02Min
Iteration: 147, Loss: 17.09, TimeElapsed: 131.19Min
Iteration: 148, Loss: 15.63, TimeElapsed: 131.36Min
a man laying down on a bench face down [END] ['a', 'man', 'laying', 'down', 'on', 'a', 'bench', 'face', 'down', '[END]'] 9
Iteration: 149, Loss: 14.04, TimeElapsed: 131.54Min
Iteration: 150, Loss: 14.14, TimeElapsed: 131.7Min
Iteration: 151, Loss: 15.23, TimeElapsed: 131.87Min
Iteration: 152, Loss: 16.92, TimeElapsed: 132.04Min
Iteration: 153, Loss: 15.1, TimeElapsed: 132.21Min
Iteration: 154, Loss: 16.42, TimeElapsed: 132.38Min
Iteration: 155, Loss: 14.82, TimeElapsed: 132.55Min
Iteration: 156, Loss: 17.28, TimeElapsed: 132.73Min
Iteration: 157, Loss: 16.0, TimeElapsed: 132.89Min
Iteration: 158, Loss: 15.93, TimeElapsed: 133.06Min
Iteration: 159, Loss: 14.59, TimeElapsed: 133.24Min
Iteration: 160, Loss: 15.41, TimeElapsed: 133.41Min
Iteration: 161, Loss: 18.82, TimeElapsed: 133.58Min
Iteration: 162, Loss: 17.66, TimeElapsed: 133.74Min
a young girl in a short sleeve brown shirt [END] ['a', 'young', 'girl', 'in', 'a', 'short', 'sleeve', 'brown', 'shirt', '[END]'] 9
Iteration: 163, Loss: 14.89, TimeElapsed: 133.92Min
Iteration: 164, Loss: 20.25, TimeElapsed: 134.08Min
Iteration: 165, Loss: 17.6, TimeElapsed: 134.25Min
Iteration: 166, Loss: 15.45, TimeElapsed: 134.42Min
this short haired woman catches up on the latest [END] ['this', 'short', 'haired', 'woman', 'catches', 'up', 'on', 'the', 'latest', '[END]'] 9
Iteration: 167, Loss: 16.97, TimeElapsed: 134.58Min
Iteration: 168, Loss: 20.98, TimeElapsed: 134.75Min
an old gray haired man painting a beautiful scenery [END] ['an', 'old', 'gray', 'haired', 'man', 'painting', 'a', 'beautiful', 'scenery', '[END]'] 9
a man in a white t shirt and blue [END] ['a', 'man', 'in', 'a', 'white', 't', 'shirt', 'and', 'blue', '[END]'] 9
Iteration: 169, Loss: 16.35, TimeElapsed: 134.93Min
Iteration: 170, Loss: 15.04, TimeElapsed: 135.1Min
Iteration: 171, Loss: 14.25, TimeElapsed: 135.26Min
a man wearing a pin stripe shirt and eyeglasses [END] ['a', 'man', 'wearing', 'a', 'pin', 'stripe', 'shirt', 'and', 'eyeglasses', '[END]'] 9
Iteration: 172, Loss: 16.99, TimeElapsed: 135.43Min
Iteration: 173, Loss: 17.88, TimeElapsed: 135.6Min
Iteration: 174, Loss: 16.79, TimeElapsed: 135.77Min
Iteration: 175, Loss: 14.49, TimeElapsed: 135.94Min
Iteration: 176, Loss: 17.15, TimeElapsed: 136.11Min
two dark haired men in orange shirts leaning on [END] ['two', 'dark', 'haired', 'men', 'in', 'orange', 'shirts', 'leaning', 'on', '[END]'] 9
Iteration: 177, Loss: 18.83, TimeElapsed: 136.29Min
five young well dressed people work in a kitchen [END] ['five', 'young', 'well', 'dressed', 'people', 'work', 'in', 'a', 'kitchen', '[END]'] 9
Iteration: 178, Loss: 17.53, TimeElapsed: 136.47Min
Iteration: 179, Loss: 14.75, TimeElapsed: 136.64Min
a group of long distance runners compete in a [END] ['a', 'group', 'of', 'long', 'distance', 'runners', 'compete', 'in', 'a', '[END]'] 9
Iteration: 180, Loss: 17.49, TimeElapsed: 136.81Min
Iteration: 181, Loss: 14.05, TimeElapsed: 136.98Min
Iteration: 182, Loss: 16.39, TimeElapsed: 137.15Min
a group of cheerleaders in warm up suits posing [END] ['a', 'group', 'of', 'cheerleaders', 'in', 'warm', 'up', 'suits', 'posing', '[END]'] 9
Iteration: 183, Loss: 18.95, TimeElapsed: 137.32Min
Iteration: 184, Loss: 13.5, TimeElapsed: 137.49Min
Iteration: 185, Loss: 16.96, TimeElapsed: 137.66Min
Iteration: 186, Loss: 15.96, TimeElapsed: 137.82Min
a long haired brunette in a black long sleeved [END] ['a', 'long', 'haired', 'brunette', 'in', 'a', 'black', 'long', 'sleeved', '[END]'] 9
Iteration: 187, Loss: 15.04, TimeElapsed: 137.99Min
Iteration: 188, Loss: 13.35, TimeElapsed: 138.16Min
Iteration: 189, Loss: 14.23, TimeElapsed: 138.34Min
Iteration: 190, Loss: 18.07, TimeElapsed: 138.51Min
Iteration: 191, Loss: 18.04, TimeElapsed: 138.68Min
Iteration: 192, Loss: 13.82, TimeElapsed: 138.86Min
Iteration: 193, Loss: 18.39, TimeElapsed: 139.03Min
