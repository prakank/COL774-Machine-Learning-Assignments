{
 "cells": [
  {
   "cell_type": "code",
   "execution_count": 6,
   "metadata": {},
   "outputs": [],
   "source": [
    "import numpy as np\n",
    "import matplotlib.pyplot as plt\n",
    "import pandas as pd\n",
    "import sys\n",
    "import os\n",
    "import time\n",
    "import math\n",
    "import re\n",
    "from sklearn.metrics import accuracy_score, confusion_matrix\n",
    "from sklearn.ensemble import RandomForestClassifier\n",
    "from sklearn import tree\n",
    "\n",
    "import warnings\n",
    "warnings.filterwarnings('ignore')"
   ]
  },
  {
   "cell_type": "code",
   "execution_count": 47,
   "metadata": {},
   "outputs": [],
   "source": [
    "def load_data(filename, num_of_features, num_of_target_class, values_dict = {}, train_data = False):\n",
    "    df = np.asarray(pd.read_csv(filename, header=None, dtype=int))\n",
    "    df = df[df[:,-1] < num_of_target_class]\n",
    "    \n",
    "    Y = df[:,-1]\n",
    "    df = df[:,0:df.shape[1]-1]\n",
    "    \n",
    "    y = np.zeros((df.shape[0],len(list(set(list(Y))))))\n",
    "    \n",
    "    df = df[:, 0:num_of_features]\n",
    "\n",
    "    count = 0\n",
    "    if values_dict == {}:\n",
    "        for i in range(df.shape[1]):\n",
    "            length = len(list(set(list(df[:,i]))))\n",
    "            values_dict[i] = length\n",
    "            count += length\n",
    "        x = np.zeros((df.shape[0],count))\n",
    "    else:\n",
    "        x = np.zeros((df.shape[0],sum(values_dict.values())))\n",
    "    \n",
    "    for j in range(df.shape[0]):\n",
    "        ohe_encoded = []\n",
    "        y[j][Y[j]] = 1\n",
    "        for i in range(df.shape[1]):\n",
    "            val = df[j][i]\n",
    "            ohe_mat = np.zeros((values_dict[i]))\n",
    "            ohe_mat[val-1] = 1\n",
    "            ohe_encoded.extend(ohe_mat)\n",
    "        ohe_encoded = np.asarray(ohe_encoded)\n",
    "        x[j] = ohe_encoded\n",
    "\n",
    "    if train_data == True:\n",
    "        return x,y,values_dict\n",
    "    else:\n",
    "        return x,y"
   ]
  },
  {
   "cell_type": "code",
   "execution_count": 48,
   "metadata": {},
   "outputs": [],
   "source": [
    "BATCH_SIZE = 100\n",
    "NUMBER_OF_FEATURES = 10\n",
    "HIDDEN_LAYERS_UNITS = [5]\n",
    "NUMBER_OF_TARGET_CLASS = 10\n",
    "NUMBER_OF_OUTPUTS = NUMBER_OF_TARGET_CLASS\n",
    "\n",
    "LEARNING_RATE = 0.1\n",
    "EPSILON = 0.0001\n",
    "MIN_LOSS = 0.01\n",
    "tolerance = 0.001\n",
    "EPOCHS = 100"
   ]
  },
  {
   "cell_type": "code",
   "execution_count": 49,
   "metadata": {},
   "outputs": [],
   "source": [
    "PART = 'a'\n",
    "BASE_DIR = '../'\n",
    "\n",
    "train_path = os.path.join(BASE_DIR, 'data', 'Poker_Hand_dataset', 'poker-hand-training-true.data')\n",
    "test_path  = os.path.join(BASE_DIR, 'data', 'Poker_Hand_dataset', 'poker-hand-testing.data')\n",
    "\n",
    "# if PART == 'a':\n",
    "\n",
    "Xtrain, Ytrain, values_dict = load_data(train_path, NUMBER_OF_FEATURES, NUMBER_OF_TARGET_CLASS, train_data=True)\n",
    "Xtest, Ytest = load_data(test_path, NUMBER_OF_FEATURES, NUMBER_OF_TARGET_CLASS, values_dict)"
   ]
  },
  {
   "cell_type": "code",
   "execution_count": 62,
   "metadata": {},
   "outputs": [],
   "source": [
    "class NN_architecture:\n",
    "    def __init__(self, learning_rate, batch_size, num_of_features, hidden_layer_units, num_of_outputs, MIN_LOSS, epsilon):\n",
    "        self.learning_rate = learning_rate\n",
    "        self.init_learning_rate = learning_rate\n",
    "        self.batch_size = batch_size\n",
    "        self.num_of_features = num_of_features\n",
    "        self.hidden_layer_list = hidden_layer_units\n",
    "        self.num_of_outputs = num_of_outputs\n",
    "        self.MIN_LOSS = MIN_LOSS\n",
    "        self.epsilon = epsilon\n",
    "        self.learning_rate_threshold = 1e-5 # Min possible learning rate\n",
    "    \n",
    "    def sigmoid_activation(self,data):\n",
    "        return (1.0/(1.0 + np.exp(-data)) )\n",
    "    \n",
    "    def relu_activation(self,data):\n",
    "        return np.multiply(data>0,data)\n",
    "    \n",
    "    def sigmoid_der(self,data):\n",
    "        # x = self.sigmoid_activation(data)\n",
    "        x = data\n",
    "        return np.multiply(x,1.0-x)\n",
    "    \n",
    "    def relu_der(self,data):\n",
    "        temp = np.ones(data.shape,dtype=float)\n",
    "        return np.multiply(temp>0,temp)\n",
    "    \n",
    "    def initialize(self):\n",
    "        neuron_count = [self.num_of_inputs]\n",
    "        neuron_count.extend(self.hidden_layer_list)\n",
    "        neuron_count.append(self.num_of_outputs)\n",
    "        self.neuron_count = neuron_count\n",
    "        params = {}\n",
    "        np.random.seed(1)\n",
    "        \n",
    "        # xavier initialization\n",
    "        for i in range(1, len(neuron_count)):\n",
    "            params[\"W\" + str(i)] = np.random.normal(0,1,(neuron_count[i],neuron_count[i-1]))*np.sqrt(2.0/neuron_count[i-1])\n",
    "            params[\"b\" + str(i)] = np.zeros((neuron_count[i],1),dtype=float)\n",
    "        \n",
    "        self.params = params\n",
    "        self.num_of_layers = len(neuron_count)\n",
    "        \n",
    "        return\n",
    "    \n",
    "    def forward_propagation(self, X, activation_function):        \n",
    "        forward_prop = {}\n",
    "        data = (X.T).copy()\n",
    "        forward_prop[\"a0\"] = data # n*m\n",
    "\n",
    "        for i in range(self.num_of_layers-2):\n",
    "            data = np.dot(self.params[\"W\"+str(i+1)], data) + self.params[\"b\"+str(i+1)]\n",
    "\n",
    "            if activation_function == \"relu\":\n",
    "                data = self.relu_activation(data)\n",
    "            elif activation_function == \"sigmoid\":\n",
    "                data = self.sigmoid_activation(data)\n",
    "\n",
    "            forward_prop[\"a\"+str(i+1)] = data.copy()\n",
    "        \n",
    "        data = np.dot(self.params[\"W\"+str(self.num_of_layers-1)], data) + self.params[\"b\"+str(self.num_of_layers-1)]\n",
    "        data = self.sigmoid_activation(data)\n",
    "        forward_prop[\"a\"+str(self.num_of_layers-1)] = data.copy()\n",
    "\n",
    "        self.forward_prop = forward_prop\n",
    "        return\n",
    "    \n",
    "    def backward_propagation(self, Y, activation_function):\n",
    "        self.backward_prop = {}\n",
    "        dataY = (Y.T).copy()\n",
    "        \n",
    "        self.backward_prop[\"dz\"+str(self.num_of_layers-1)] = self.forward_prop[\"a\" + str(self.num_of_layers-1)] - dataY\n",
    "        \n",
    "        for i in range(self.num_of_layers-2,0,-1):\n",
    "            temp_mat = np.dot(self.params[\"W\"+str(i+1)].T, self.backward_prop[\"dz\"+str(i+1)])\n",
    "            \n",
    "            if activation_function == \"sigmoid\":\n",
    "                temp_mat =np.multiply(temp_mat, self.sigmoid_der(self.forward_prop[\"a\"+str(i)]))\n",
    "            elif activation_function == \"relu\":\n",
    "                temp_mat =np.multiply(temp_mat, self.relu_der(self.forward_prop[\"a\"+str(i)]))\n",
    "                \n",
    "            self.backward_prop[\"dz\"+str(i)] = temp_mat\n",
    "        \n",
    "        # i = self.num_of_layers-2\n",
    "        # while i>=0:\n",
    "        #     temp_mat = np.dot(self.params[\"W\"+str(i+1)].T, backward_prop[\"dz\" + str(i+1)])\n",
    "            \n",
    "        #     if activation_function == \"sigmoid\":\n",
    "        #         temp_mat = np.multiply(temp_mat, self.sigmoid_der(self.forward_prop[\"a\"+str(i)]))\n",
    "        #     elif activation_function == \"relu\":\n",
    "        #         temp_mat = np.multiply(temp_mat, self.relu_der(self.forward_prop[\"a\"+str(i)]))\n",
    "                \n",
    "        #     backward_prop[\"dz\" + str(i)] = temp_mat            \n",
    "        #     i-=1\n",
    "        # self.backward_prop = backward_prop\n",
    "        # return\n",
    "    \n",
    "    def backward_propagation2(self, Y, activation_function):\n",
    "        self.backward_prop = {}\n",
    "        dataY = (Y.T).copy()\n",
    "        \n",
    "        temp_mat = np.multiply(dataY - self.forward_prop[\"a\"+str(self.num_of_layers-1)], self.forward_prop[\"a\"+str(self.num_of_layers-1)])\n",
    "        temp_mat = np.multiply(temp_mat, (1-self.forward_prop[\"a\"+str(self.num_of_layers-1)]) )\n",
    "        \n",
    "        self.backward_prop[\"dz\"+str(self.num_of_layers-1)] = temp_mat\n",
    "        \n",
    "        for i in range(self.num_of_layers-2, 0, -1):\n",
    "            if activation_function == \"sigmoid\":\n",
    "                temp_mat = np.multiply(self.params[\"W\"+str(i+1)].T @ self.backward_prop[\"dz\"+str(i+1)], self.forward_prop[\"a\"+str(i)] * (1-self.forward_prop[\"a\"+str(i)]) )\n",
    "            elif activation_function == \"relu\":\n",
    "                temp_mat = temp_mat = np.multiply(self.params[\"W\"+str(i+1)].T @ self.backward_prop[\"dz\"+str(i+1)], np.multiply(self.forward_prop[\"a\"+str(i)] > 0, self.forward_prop[\"a\"+str(i)]) )\n",
    "        \n",
    "            self.backward_prop[\"dz\"+str(i)] = temp_mat\n",
    "        return\n",
    "    \n",
    "    def update_params(self,M):\n",
    "        new_params = {}\n",
    "        for i in range(1,self.num_of_layers):\n",
    "            new_params[\"W\"+str(i)] = self.params[\"W\"+str(i)] - (self.learning_rate/M)*np.dot(self.backward_prop[\"dz\"+str(i)],(self.forward_prop[\"a\"+str(i-1)]).T)\n",
    "            \n",
    "            temp = (self.learning_rate/M)*np.sum(self.backward_prop[\"dz\"+str(i)],axis=1)\n",
    "            temp = temp.reshape((temp.shape[0],1))\n",
    "            \n",
    "            new_params[\"b\"+str(i)] = self.params[\"b\"+str(i)] - temp\n",
    "            \n",
    "        self.params = new_params\n",
    "        return\n",
    "    \n",
    "    def predict(self,X,activation_function=\"sigmoid\"):\n",
    "        data_x = (X.T).copy()\n",
    "        for i in range(1,self.num_of_layers):\n",
    "            data_x = np.add(np.dot(self.params[\"W\"+str(i)],data_x),self.params[\"b\"+str(i)])\n",
    "            if activation_function == \"sigmoid\":\n",
    "                data_x = self.sigmoid_activation(data_x)\n",
    "                \n",
    "            elif activation_function == \"relu\":\n",
    "                data_x = self.relu_activation(data_x)    \n",
    "        \n",
    "        data_x = self.sigmoid_activation(data_x)\n",
    "        data_x = data_x.T\n",
    "        data_x = data_x/(np.sum(data_x,axis=1).reshape(data_x.shape[0],1))\n",
    "                \n",
    "        return data_x, np.argmax(data_x,axis=1)\n",
    "    \n",
    "    def loss_function(self,y1,y2):\n",
    "        # print(y1,y2)\n",
    "        y = np.abs(y1-y2)\n",
    "        y = np.multiply(y,y)\n",
    "        return np.sum(y)/(2*y.shape[0])\n",
    "    \n",
    "    def print_param(self, i):\n",
    "        print(\"Iteration: {}\".format(i))\n",
    "        for i in self.params:\n",
    "            print(i,np.max(self.params[i]), np.min(self.params[i]), self.params[i].shape)\n",
    "        print()\n",
    "\n",
    "        for i in self.backward_prop:\n",
    "            print(i,np.max(self.backward_prop[i]), np.min(self.backward_prop[i]), self.backward_prop[i].shape)\n",
    "        print()    \n",
    "\n",
    "        for i in self.forward_prop:\n",
    "            print(i,np.max(self.forward_prop[i]), np.min(self.forward_prop[i]), self.forward_prop[i].shape)\n",
    "        print()\n",
    "    \n",
    "    def print_class_param(self):\n",
    "        print(\"Batch Size: {}, Learning rate: {}, Num of layers: {}\".format(self.batch_size, self.learning_rate, self.num_of_layers))\n",
    "        print(\"Neuron count: {}\".format(self.neuron_count))\n",
    "    \n",
    "    def entropy_loss(self, y1, y2):\n",
    "        \n",
    "        # Here y2 is the actual Y\n",
    "        # y1 is the predicted y\n",
    "        l1 = np.log(np.multiply(1, y1==0) + y1)\n",
    "        l1 = np.multiply(l1, y2)\n",
    "        \n",
    "        l2 = np.log(np.multiply(1, y1==1) + 1 - y1)\n",
    "        l2 = np.multiply(l2, 1-y2)\n",
    "        \n",
    "        l = np.mean(-1.0*l1-1.0*l2,axis=1)\n",
    "        l = np.sqrt(np.sum(np.multiply(l,l)))/(2.0*y1.shape[1])\n",
    "        \n",
    "        return l\n",
    "    \n",
    "    def run(self,epochs,X,Y,activation_function,adaptive=False):\n",
    "        self.num_of_inputs = X.shape[1]\n",
    "        self.examples = X.shape[0]\n",
    "        self.batches = (int)(self.examples/self.batch_size)        \n",
    "        self.initialize()\n",
    "        # self.print_param(0)\n",
    "        # self.print_class_param()\n",
    "        \n",
    "        iteration  = 1\n",
    "        error = float(\"inf\")        \n",
    "        time_start = time.time()\n",
    "        print(\"Training phase ... \")\n",
    "        \n",
    "        error_list = []\n",
    "        \n",
    "        while iteration <= epochs and error > self.epsilon and self.learning_rate > self.learning_rate_threshold:\n",
    "            \n",
    "            error = 0\n",
    "            for batch in range(self.batches):\n",
    "                start = batch*self.batch_size\n",
    "                end   = min(start + self.batch_size,self.examples)\n",
    "\n",
    "                X_new = X[start:end,:]\n",
    "                Y_new = Y[start:end,:]\n",
    "\n",
    "                self.forward_propagation(X_new,activation_function)\n",
    "\n",
    "                # self.backward_propagation2(Y_new,activation_function)\n",
    "                self.backward_propagation(Y_new,activation_function)\n",
    "\n",
    "                self.update_params(Y_new.shape[0])\n",
    "\n",
    "                loss_partial = self.entropy_loss(self.forward_prop[\"a\"+str(self.num_of_layers-1)], Y_new.T)\n",
    "                error += (loss_partial)\n",
    "            \n",
    "            error_list.append(error)\n",
    "            \n",
    "            # Convergence criteria\n",
    "            if len(error_list) > 1:\n",
    "                if error_list[-1] <= self.MIN_LOSS and error_list[-2] <= self.MIN_LOSS and (abs(error_list[-1] - error_list[-2])) < (self.epsilon):\n",
    "                    time_end = time.time()\n",
    "                    self.training_time = (time_end - time_start)\n",
    "                    return\n",
    "\n",
    "            if iteration%200 == 0:\n",
    "                print(\"Epoch: {}, Error: {}\".format(iteration, error))            \n",
    "            iteration += 1\n",
    "\n",
    "            if adaptive:\n",
    "                self.learning_rate = (self.init_learning_rate)/(np.sqrt(iteration))\n",
    "\n",
    "        time_end = time.time()\n",
    "        self.training_time = (time_end - time_start)\n",
    "    "
   ]
  },
  {
   "cell_type": "code",
   "execution_count": 70,
   "metadata": {},
   "outputs": [],
   "source": [
    "def draw_conf_matrix(x,units, filename):\n",
    "    plt.imshow(x)\n",
    "    plt.title(\"Confusion Matrix (\" + str(units) + \" units)\")\n",
    "    plt.colorbar()\n",
    "    plt.set_cmap(\"Greens\")\n",
    "    plt.ylabel(\"True labels\")\n",
    "    plt.xlabel(\"Predicted label\")\n",
    "    plt.savefig(filename)\n",
    "    plt.show()"
   ]
  },
  {
   "cell_type": "code",
   "execution_count": 72,
   "metadata": {},
   "outputs": [
    {
     "name": "stdout",
     "output_type": "stream",
     "text": [
      "Training phase ... \n",
      "Epoch: 200, Error: 1.1995864123838411\n",
      "Epoch: 400, Error: 1.135033282841353\n",
      "Epoch: 600, Error: 1.1136550527583418\n",
      "Epoch: 800, Error: 1.1071524123067324\n",
      "Epoch: 1000, Error: 1.0945884605935405\n",
      "Training time: 80.679s\n",
      "Train Accuracy: 62.687%, Error: 0.43134564483934873\n",
      "Test Accuracy: 61.022%, Error: 0.43167957288866704\n"
     ]
    },
    {
     "data": {
      "image/png": "[encoded data removed]",
      "text/plain": [
       "<Figure size 432x288 with 2 Axes>"
      ]
     },
     "metadata": {
      "needs_background": "light"
     },
     "output_type": "display_data"
    },
    {
     "name": "stdout",
     "output_type": "stream",
     "text": [
      "Training phase ... \n",
      "Epoch: 200, Error: 1.130134045574837\n",
      "Epoch: 400, Error: 0.9956744599602064\n",
      "Epoch: 600, Error: 0.8682261847149892\n",
      "Epoch: 800, Error: 0.8432037806996856\n",
      "Epoch: 1000, Error: 0.8357577201979607\n",
      "Training time: 76.903s\n",
      "Train Accuracy: 76.997%, Error: 0.42550930888730665\n",
      "Test Accuracy: 75.169%, Error: 0.4259779322534148\n"
     ]
    },
    {
     "data": {
      "image/png": "[encoded data removed]",
      "text/plain": [
       "<Figure size 432x288 with 2 Axes>"
      ]
     },
     "metadata": {
      "needs_background": "light"
     },
     "output_type": "display_data"
    },
    {
     "name": "stdout",
     "output_type": "stream",
     "text": [
      "Training phase ... \n",
      "Epoch: 200, Error: 1.0234603998433496\n",
      "Epoch: 400, Error: 0.6914876586535545\n",
      "Epoch: 600, Error: 0.6275776889826118\n",
      "Epoch: 800, Error: 0.6016928386060432\n",
      "Epoch: 1000, Error: 0.5950235338289805\n",
      "Training time: 80.564s\n",
      "Train Accuracy: 91.975%, Error: 0.41911892778248\n",
      "Test Accuracy: 91.503%, Error: 0.4193685465717485\n"
     ]
    },
    {
     "data": {
      "image/png": "[encoded data removed]",
      "text/plain": [
       "<Figure size 432x288 with 2 Axes>"
      ]
     },
     "metadata": {
      "needs_background": "light"
     },
     "output_type": "display_data"
    },
    {
     "name": "stdout",
     "output_type": "stream",
     "text": [
      "Training phase ... \n",
      "Epoch: 200, Error: 0.9933151590154631\n",
      "Epoch: 400, Error: 0.6301640074515856\n",
      "Epoch: 600, Error: 0.6041963716416012\n",
      "Epoch: 800, Error: 0.5801015645012765\n",
      "Epoch: 1000, Error: 0.5717457668407206\n",
      "Training time: 83.107s\n",
      "Train Accuracy: 92.275%, Error: 0.41855619489819296\n",
      "Test Accuracy: 92.225%, Error: 0.4188918570646361\n"
     ]
    },
    {
     "data": {
      "image/png": "[encoded data removed]",
      "text/plain": [
       "<Figure size 432x288 with 2 Axes>"
      ]
     },
     "metadata": {
      "needs_background": "light"
     },
     "output_type": "display_data"
    },
    {
     "name": "stdout",
     "output_type": "stream",
     "text": [
      "Training phase ... \n",
      "Epoch: 200, Error: 1.1221540521481381\n",
      "Epoch: 400, Error: 0.6785347484522664\n",
      "Epoch: 600, Error: 0.6126591670109186\n",
      "Epoch: 800, Error: 0.5898081126635115\n"
     ]
    }
   ],
   "source": [
    "hidden_layer = [[5], [10], [15], [20], [25]]\n",
    "prediction = {}\n",
    "\n",
    "for l in hidden_layer:\n",
    "    temp = []\n",
    "    model = NN_architecture(LEARNING_RATE, BATCH_SIZE, NUMBER_OF_FEATURES, l, NUMBER_OF_OUTPUTS, MIN_LOSS, EPSILON)\n",
    "    model.run(1000,Xtrain, Ytrain,'sigmoid',adaptive=False)\n",
    "    t = round(model.training_time,3)\n",
    "    print(\"Training time: {}s\".format(t))\n",
    "    \n",
    "    y_class_train, y_pred_train = model.predict(Xtrain,'sigmoid')\n",
    "    error = model.loss_function(y_class_train, Ytrain)\n",
    "    train_a = round(100*accuracy_score(y_pred_train, np.argmax(Ytrain,axis=1)),3)\n",
    "    print(\"Train Accuracy: {}%, Error: {}\".format(train_a, error))\n",
    "\n",
    "    y_class_test, y_pred_test = model.predict(Xtest,'sigmoid')\n",
    "    error2 = model.loss_function(y_class_test, Ytest)\n",
    "    test_a = round(100*accuracy_score(y_pred_test, np.argmax(Ytest,axis=1)),3)\n",
    "    print(\"Test Accuracy: {}%, Error: {}\".format(test_a, error2))\n",
    "\n",
    "    y_conf = np.argmax(Ytest, axis=1)\n",
    "    confusion_matrix = np.zeros((NUMBER_OF_TARGET_CLASS,NUMBER_OF_TARGET_CLASS))\n",
    "    for i in range(Ytest.shape[0]):\n",
    "        confusion_matrix[y_conf[i]][y_pred_test[i]] += 1\n",
    "\n",
    "    confusion_matrix = confusion_matrix.astype(int)\n",
    "    temp = [t, train_a, test_a, confusion_matrix]\n",
    "    prediction[l[0]] = temp\n",
    "\n",
    "    # print(confusion_matrix)\n",
    "    draw_conf_matrix(confusion_matrix, l[0], \"../output/conf_matrix_\" + str(l[0]) + \".jpg\")\n"
   ]
  },
  {
   "cell_type": "code",
   "execution_count": null,
   "metadata": {},
   "outputs": [
    {
     "name": "stdout",
     "output_type": "stream",
     "text": [
      "{5: [0.123, 49.952, 50.121, array([[501209,      0,      0,      0,      0,      0,      0,      0,\n",
      "             0,      0],\n",
      "       [422498,      0,      0,      0,      0,      0,      0,      0,\n",
      "             0,      0],\n",
      "       [ 47622,      0,      0,      0,      0,      0,      0,      0,\n",
      "             0,      0],\n",
      "       [ 21121,      0,      0,      0,      0,      0,      0,      0,\n",
      "             0,      0],\n",
      "       [  3885,      0,      0,      0,      0,      0,      0,      0,\n",
      "             0,      0],\n",
      "       [  1996,      0,      0,      0,      0,      0,      0,      0,\n",
      "             0,      0],\n",
      "       [  1424,      0,      0,      0,      0,      0,      0,      0,\n",
      "             0,      0],\n",
      "       [   230,      0,      0,      0,      0,      0,      0,      0,\n",
      "             0,      0],\n",
      "       [    12,      0,      0,      0,      0,      0,      0,      0,\n",
      "             0,      0],\n",
      "       [     3,      0,      0,      0,      0,      0,      0,      0,\n",
      "             0,      0]])], 10: [0.133, 49.908, 50.12, array([[500970,    239,      0,      0,      0,      0,      0,      0,\n",
      "             0,      0],\n",
      "       [422267,    231,      0,      0,      0,      0,      0,      0,\n",
      "             0,      0],\n",
      "       [ 47599,     23,      0,      0,      0,      0,      0,      0,\n",
      "             0,      0],\n",
      "       [ 21114,      7,      0,      0,      0,      0,      0,      0,\n",
      "             0,      0],\n",
      "       [  3881,      4,      0,      0,      0,      0,      0,      0,\n",
      "             0,      0],\n",
      "       [  1996,      0,      0,      0,      0,      0,      0,      0,\n",
      "             0,      0],\n",
      "       [  1423,      1,      0,      0,      0,      0,      0,      0,\n",
      "             0,      0],\n",
      "       [   230,      0,      0,      0,      0,      0,      0,      0,\n",
      "             0,      0],\n",
      "       [    12,      0,      0,      0,      0,      0,      0,      0,\n",
      "             0,      0],\n",
      "       [     3,      0,      0,      0,      0,      0,      0,      0,\n",
      "             0,      0]])], 15: [0.113, 49.952, 50.043, array([[494790,   6419,      0,      0,      0,      0,      0,      0,\n",
      "             0,      0],\n",
      "       [416859,   5639,      0,      0,      0,      0,      0,      0,\n",
      "             0,      0],\n",
      "       [ 46960,    662,      0,      0,      0,      0,      0,      0,\n",
      "             0,      0],\n",
      "       [ 20835,    286,      0,      0,      0,      0,      0,      0,\n",
      "             0,      0],\n",
      "       [  3849,     36,      0,      0,      0,      0,      0,      0,\n",
      "             0,      0],\n",
      "       [  1991,      5,      0,      0,      0,      0,      0,      0,\n",
      "             0,      0],\n",
      "       [  1402,     22,      0,      0,      0,      0,      0,      0,\n",
      "             0,      0],\n",
      "       [   222,      8,      0,      0,      0,      0,      0,      0,\n",
      "             0,      0],\n",
      "       [    12,      0,      0,      0,      0,      0,      0,      0,\n",
      "             0,      0],\n",
      "       [     3,      0,      0,      0,      0,      0,      0,      0,\n",
      "             0,      0]])], 20: [0.121, 49.492, 49.704, array([[480196,  21013,      0,      0,      0,      0,      0,      0,\n",
      "             0,      0],\n",
      "       [405653,  16845,      0,      0,      0,      0,      0,      0,\n",
      "             0,      0],\n",
      "       [ 45754,   1868,      0,      0,      0,      0,      0,      0,\n",
      "             0,      0],\n",
      "       [ 20410,    711,      0,      0,      0,      0,      0,      0,\n",
      "             0,      0],\n",
      "       [  3731,    154,      0,      0,      0,      0,      0,      0,\n",
      "             0,      0],\n",
      "       [  1902,     94,      0,      0,      0,      0,      0,      0,\n",
      "             0,      0],\n",
      "       [  1381,     43,      0,      0,      0,      0,      0,      0,\n",
      "             0,      0],\n",
      "       [   224,      6,      0,      0,      0,      0,      0,      0,\n",
      "             0,      0],\n",
      "       [     9,      3,      0,      0,      0,      0,      0,      0,\n",
      "             0,      0],\n",
      "       [     2,      1,      0,      0,      0,      0,      0,      0,\n",
      "             0,      0]])], 25: [0.117, 49.928, 49.981, array([[495097,   6112,      0,      0,      0,      0,      0,      0,\n",
      "             0,      0],\n",
      "       [417786,   4712,      0,      0,      0,      0,      0,      0,\n",
      "             0,      0],\n",
      "       [ 47113,    509,      0,      0,      0,      0,      0,      0,\n",
      "             0,      0],\n",
      "       [ 20928,    193,      0,      0,      0,      0,      0,      0,\n",
      "             0,      0],\n",
      "       [  3831,     54,      0,      0,      0,      0,      0,      0,\n",
      "             0,      0],\n",
      "       [  1981,     15,      0,      0,      0,      0,      0,      0,\n",
      "             0,      0],\n",
      "       [  1408,     16,      0,      0,      0,      0,      0,      0,\n",
      "             0,      0],\n",
      "       [   229,      1,      0,      0,      0,      0,      0,      0,\n",
      "             0,      0],\n",
      "       [    12,      0,      0,      0,      0,      0,      0,      0,\n",
      "             0,      0],\n",
      "       [     3,      0,      0,      0,      0,      0,      0,      0,\n",
      "             0,      0]])]}\n"
     ]
    }
   ],
   "source": [
    "train_acc = []\n",
    "test_acc  = []\n",
    "time_list = []\n",
    "\n",
    "for i in prediction:\n",
    "    time_list.append(prediction[i][0])\n",
    "    train_acc.append((prediction[i][1])/100.0)\n",
    "    test_acc.append((prediction[i][2])/100.0)\n",
    "\n",
    "def graph_plot(y1, y2, filename):\n",
    "    x = [5, 10, 15, 20, 25]\n",
    "    plt.figure(figsize=(10, 6))    \n",
    "    \n",
    "    plt.title(\"Train/Test Accuracies vs Hidden Units (Single Layer)\")\n",
    "    plt.xlabel(\"Units\")\n",
    "    plt.ylabel(\"Accuracies\")\n",
    "    plt.plot(x, y1,label=\"Train\")\n",
    "    plt.plot(x, y2,label=\"Test\")\n",
    "    plt.legend()\n",
    "    plt.savefig(filename)    \n",
    "    plt.show()\n",
    "\n",
    "graph_plot(train_acc, test_acc, \"../output/nn_accuracy_vs_hidden_units.jpg\")\n"
   ]
  },
  {
   "cell_type": "code",
   "execution_count": null,
   "metadata": {},
   "outputs": [],
   "source": [
    "# y_class_train, y_pred_train = model.predict(Xtrain,'sigmoid')\n",
    "# error = model.loss_function(y_class_train, Ytrain)\n",
    "# print(\"Train Accuracy: {}%, Error: {}\".format(round(100*accuracy_score(y_pred_train, np.argmax(Ytrain,axis=1)),3), error))\n",
    "\n",
    "# y_class_test, y_pred_test = model.predict(Xtest,'sigmoid')\n",
    "# error2 = model.loss_function(y_class_test, Ytest)\n",
    "# print(\"Test Accuracy: {}%, Error: {}\".format(round(100*accuracy_score(y_pred_test, np.argmax(Ytest,axis=1)),3), error2))\n",
    "\n",
    "# y_conf = np.argmax(Ytest, axis=1)\n",
    "# confusion_matrix = np.zeros((NUMBER_OF_TARGET_CLASS,NUMBER_OF_TARGET_CLASS))\n",
    "# for i in range(Ytest.shape[0]):\n",
    "#     confusion_matrix[y_conf[i]][y_pred_test[i]] += 1\n",
    "\n",
    "# confusion_matrix = confusion_matrix.astype(int)\n",
    "\n",
    "# print(confusion_matrix)\n",
    "\n",
    "# #  5  10  15  20  25\n",
    "# # 51, 55, 55  55  50"
   ]
  },
  {
   "cell_type": "code",
   "execution_count": 23,
   "metadata": {},
   "outputs": [
    {
     "name": "stdout",
     "output_type": "stream",
     "text": [
      "W1 0.6159433781072531 -0.5049561528689354 (100, 85)\n",
      "b1 0.03445102346635879 -0.026007391987375665 (100, 1)\n",
      "W2 0.6012644202711865 -0.5026017293875579 (100, 100)\n",
      "b2 0.06744211180635681 -0.046595278571981626 (100, 1)\n",
      "W3 0.5863420821983738 -0.27864917905740544 (10, 100)\n",
      "b3 0.22454948086129342 0.16349251670983755 (10, 1)\n",
      "\n",
      "dz3 5.835407169399111e-08 -0.0002621945302480613 (10, 100)\n",
      "dz2 3.528285792021057e-05 -9.947474680130935e-05 (100, 100)\n",
      "dz1 3.4465562330752285e-05 -8.680280428545231e-05 (100, 100)\n",
      "\n",
      "a0 1.0 0.0 (85, 100)\n",
      "a1 0.8642525617767342 0.13003704924674026 (100, 100)\n",
      "a2 0.958915189777472 0.17342259559126652 (100, 100)\n",
      "a3 0.9998281509721083 0.9997376678514929 (10, 100)\n",
      "\n"
     ]
    }
   ],
   "source": [
    "for i in model.params:\n",
    "    print(i,np.max(model.params[i]), np.min(model.params[i]), model.params[i].shape)\n",
    "print()\n",
    "\n",
    "for i in model.backward_prop:\n",
    "    print(i,np.max(model.backward_prop[i]), np.min(model.backward_prop[i]), model.backward_prop[i].shape)\n",
    "print()    \n",
    "\n",
    "for i in model.forward_prop:\n",
    "    print(i,np.max(model.forward_prop[i]), np.min(model.forward_prop[i]), model.forward_prop[i].shape)\n",
    "print()\n"
   ]
  },
  {
   "cell_type": "code",
   "execution_count": 167,
   "metadata": {},
   "outputs": [
    {
     "name": "stdout",
     "output_type": "stream",
     "text": [
      "1 (5, 25010)\n",
      "2 (10, 25010)\n",
      "0.3425029988004798 0.8999999765695527\n",
      "1 (5, 1000000)\n",
      "2 (10, 1000000)\n",
      "0.340879 0.8999999768439552\n"
     ]
    }
   ],
   "source": []
  },
  {
   "cell_type": "code",
   "execution_count": 108,
   "metadata": {},
   "outputs": [
    {
     "name": "stdout",
     "output_type": "stream",
     "text": [
      "[0.09774662 0.05943147 0.13015246 0.06003993 0.06181143 0.06969242\n",
      " 0.14298412 0.12182448 0.13628063 0.12003645] [0. 0. 0. 0. 0. 0. 0. 0. 0. 1.]\n"
     ]
    }
   ],
   "source": [
    "print(y_class_train[1], Ytrain[1])"
   ]
  },
  {
   "cell_type": "code",
   "execution_count": 99,
   "metadata": {},
   "outputs": [
    {
     "name": "stdout",
     "output_type": "stream",
     "text": [
      "Training phase ... \n",
      "Epoch: 10, Error: 1.3209447245451744\n",
      "Epoch: 20, Error: 1.309657894758027\n",
      "Epoch: 30, Error: 1.2698166477909654\n",
      "Epoch: 40, Error: 1.3050447677498611\n",
      "Epoch: 50, Error: 3.726864440979116\n",
      "Epoch: 60, Error: 1.2916355433426845\n",
      "Epoch: 70, Error: 1.333688563643145\n",
      "Epoch: 80, Error: 1.268991924825986\n",
      "Epoch: 90, Error: 1.5195353628179034\n",
      "Epoch: 100, Error: nan\n",
      "Training time: 13.821s\n"
     ]
    }
   ],
   "source": [
    "model2 = NN_architecture(LEARNING_RATE,BATCH_SIZE,NUMBER_OF_INPUTS,[5, 5],NUMBER_OF_OUTPUTS)\n",
    "model2.run(1000, EPSILON, Xtrain, Ytrain,'relu')\n",
    "print(\"Training time: {}s\".format(round(model2.training_time,3)))"
   ]
  },
  {
   "cell_type": "code",
   "execution_count": 100,
   "metadata": {},
   "outputs": [
    {
     "name": "stdout",
     "output_type": "stream",
     "text": [
      "Train Accuracy: 49.952%, Error: nan\n",
      "Test Accuracy: 50.121%, Error: nan\n",
      "[[501209      0      0      0      0      0      0      0      0      0]\n",
      " [422498      0      0      0      0      0      0      0      0      0]\n",
      " [ 47622      0      0      0      0      0      0      0      0      0]\n",
      " [ 21121      0      0      0      0      0      0      0      0      0]\n",
      " [  3885      0      0      0      0      0      0      0      0      0]\n",
      " [  1996      0      0      0      0      0      0      0      0      0]\n",
      " [  1424      0      0      0      0      0      0      0      0      0]\n",
      " [   230      0      0      0      0      0      0      0      0      0]\n",
      " [    12      0      0      0      0      0      0      0      0      0]\n",
      " [     3      0      0      0      0      0      0      0      0      0]]\n"
     ]
    }
   ],
   "source": [
    "y_class_train, y_pred_train = model2.predict(Xtrain,'relu')\n",
    "error = model2.loss_function(y_class_train, Ytrain)\n",
    "print(\"Train Accuracy: {}%, Error: {}\".format(round(100*accuracy_score(y_pred_train, np.argmax(Ytrain,axis=1)),3), error))\n",
    "\n",
    "y_class_test, y_pred_test = model2.predict(Xtest,'relu')\n",
    "error2 = model2.loss_function(y_class_test, Ytest)\n",
    "print(\"Test Accuracy: {}%, Error: {}\".format(round(100*accuracy_score(y_pred_test, np.argmax(Ytest,axis=1)),3), error2))\n",
    "\n",
    "y_conf = np.argmax(Ytest, axis=1)\n",
    "confusion_matrix = np.zeros((10,10))\n",
    "for i in range(Ytest.shape[0]):\n",
    "    confusion_matrix[y_conf[i]][y_pred_test[i]] += 1\n",
    "\n",
    "confusion_matrix = confusion_matrix.astype(int)\n",
    "\n",
    "print(confusion_matrix)\n",
    "\n",
    "#  5  10  15  20  25\n",
    "# 51, 55, 55  55  50"
   ]
  },
  {
   "cell_type": "code",
   "execution_count": 42,
   "metadata": {},
   "outputs": [
    {
     "name": "stdout",
     "output_type": "stream",
     "text": [
      "dz4 1.0 -1.0 (10, 100)\n",
      "dz3 6.435164271970555e+42 -4.404224181042292 (10, 100)\n",
      "dz2 8.815363775156895e+84 -3.502298235246524e+42 (50, 100)\n",
      "dz1 1.8566504146402347e+127 -1.0062145051098991e+85 (70, 100)\n",
      "dz0 2.961153975535918e+169 4.476963190857688e+167 (85, 100)\n",
      "\n",
      "a0 1.0 0.0 (85, 100)\n",
      "z1 1.7200192885385603e+42 -1.4085656221727102e+28 (70, 100)\n",
      "a1 1.7200192885385603e+42 -0.0 (70, 100)\n",
      "z2 5.719136015978563e+84 -3.3449375096514033e+70 (50, 100)\n",
      "a2 5.719136015978563e+84 -0.0 (50, 100)\n",
      "z3 3.0859791960474724e+127 -2.210107472982474e+113 (10, 100)\n",
      "a3 3.0859791960474724e+127 -0.0 (10, 100)\n",
      "z4 2.9184023788594952e+169 -3.2059813725977796e+168 (10, 100)\n",
      "a4 1.0 0.0 (10, 100)\n",
      "\n",
      "W1 5.187071734070013e+125 -2.811141384889173e+83 (70, 85)\n",
      "b1 1.6732545734748368e+126 -9.068228511386736e+83 (70, 1)\n",
      "W2 1.235903635889553e+126 -4.910180944669756e+83 (50, 70)\n",
      "b2 7.944601545511659e+83 -3.1563489247030058e+41 (50, 1)\n",
      "W3 2.9998608977374687e+126 -1.698756360041152e+84 (10, 50)\n",
      "b3 5.799512910039699e+41 -2.2724962138505926 (10, 1)\n",
      "W4 2.5157662206256348e+126 -2.7542444682734613e+125 (10, 10)\n",
      "b4 0.658102131925157 -0.03195479892102392 (10, 1)\n"
     ]
    }
   ],
   "source": [
    "for i in model2.backward_prop:\n",
    "    print(i,np.max(model2.backward_prop[i]), np.min(model2.backward_prop[i]), model2.backward_prop[i].shape)\n",
    "print()\n",
    "\n",
    "for i in model2.forward_prop:\n",
    "    print(i,np.max(model2.forward_prop[i]), np.min(model2.forward_prop[i]), model2.forward_prop[i].shape)\n",
    "print()\n",
    "\n",
    "for i in model2.params:\n",
    "    print(i,np.max(model2.params[i]), np.min(model2.params[i]), model2.params[i].shape)"
   ]
  },
  {
   "cell_type": "code",
   "execution_count": null,
   "metadata": {},
   "outputs": [],
   "source": [
    "print(model.forward_prop[\"a1\"].shape)"
   ]
  },
  {
   "cell_type": "code",
   "execution_count": null,
   "metadata": {},
   "outputs": [],
   "source": [
    "print(model.neuron_count)"
   ]
  },
  {
   "cell_type": "code",
   "execution_count": null,
   "metadata": {},
   "outputs": [],
   "source": [
    "model.params[\"W2\"].shape"
   ]
  },
  {
   "cell_type": "code",
   "execution_count": null,
   "metadata": {},
   "outputs": [],
   "source": [
    "print(model.params[\"b1\"])"
   ]
  },
  {
   "cell_type": "code",
   "execution_count": null,
   "metadata": {},
   "outputs": [],
   "source": [
    "print(model.params[\"b2\"])"
   ]
  },
  {
   "cell_type": "code",
   "execution_count": null,
   "metadata": {},
   "outputs": [],
   "source": [
    "print(model.params[\"W1\"])"
   ]
  },
  {
   "cell_type": "code",
   "execution_count": null,
   "metadata": {},
   "outputs": [],
   "source": [
    "print(model.params[\"W2\"])"
   ]
  },
  {
   "cell_type": "code",
   "execution_count": 60,
   "metadata": {},
   "outputs": [
    {
     "name": "stdout",
     "output_type": "stream",
     "text": [
      "10\n",
      "9\n",
      "8\n",
      "7\n",
      "6\n",
      "5\n",
      "4\n",
      "3\n",
      "2\n",
      "1\n"
     ]
    }
   ],
   "source": [
    "for i in range(10,0,-1):\n",
    "    print(i)"
   ]
  },
  {
   "cell_type": "code",
   "execution_count": null,
   "metadata": {},
   "outputs": [],
   "source": []
  }
 ],
 "metadata": {
  "interpreter": {
   "hash": "916dbcbb3f70747c44a77c7bcd40155683ae19c65e1c03b4aa3499c5328201f1"
  },
  "kernelspec": {
   "display_name": "Python 3.8.10 64-bit",
   "name": "python3"
  },
  "language_info": {
   "codemirror_mode": {
    "name": "ipython",
    "version": 3
   },
   "file_extension": ".py",
   "mimetype": "text/x-python",
   "name": "python",
   "nbconvert_exporter": "python",
   "pygments_lexer": "ipython3",
   "version": "3.8.10"
  },
  "orig_nbformat": 4
 },
 "nbformat": 4,
 "nbformat_minor": 2
}
