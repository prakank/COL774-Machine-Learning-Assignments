{
 "cells": [
  {
   "cell_type": "code",
   "execution_count": 1,
   "metadata": {},
   "outputs": [],
   "source": [
    "import numpy as np\n",
    "import matplotlib.pyplot as plt\n",
    "import pandas as pd\n",
    "import sys\n",
    "import os\n",
    "import math\n",
    "import re\n",
    "from sklearn.metrics import accuracy_score, confusion_matrix\n",
    "from sklearn.ensemble import RandomForestClassifier\n",
    "from sklearn import tree\n",
    "\n",
    "import warnings\n",
    "warnings.filterwarnings('ignore')"
   ]
  },
  {
   "cell_type": "code",
   "execution_count": 67,
   "metadata": {},
   "outputs": [],
   "source": [
    "def load_data(filename, values_dict = {}, train_data = False):\n",
    "    df = np.asarray(pd.read_csv(filename, header=None, dtype=int))\n",
    "    y = df[:,-1]\n",
    "    \n",
    "    df = df[:,0:df.shape[1]-1]\n",
    "    x = np.zeros((df.shape[0],85))\n",
    "            \n",
    "    if values_dict == {}:\n",
    "        for i in range(df.shape[1]):\n",
    "            length = len(list(set(list(df[:,i]))))\n",
    "            values_dict[i] = length\n",
    "    \n",
    "    for j in range(df.shape[0]):\n",
    "        ohe_encoded = []\n",
    "        for i in range(df.shape[1]):\n",
    "            val = df[j][i]\n",
    "            ohe_mat = np.zeros((values_dict[i]))\n",
    "            ohe_mat[val-1] = 1\n",
    "            ohe_encoded.extend(ohe_mat)\n",
    "        ohe_encoded = np.asarray(ohe_encoded)\n",
    "        x[j] = ohe_encoded\n",
    "\n",
    "    if train_data == True:\n",
    "        return x,y,values_dict\n",
    "    else:\n",
    "        return x,y"
   ]
  },
  {
   "cell_type": "code",
   "execution_count": null,
   "metadata": {},
   "outputs": [],
   "source": [
    "PART = 'a'\n",
    "BASE_DIR = '../'\n",
    "\n",
    "train_path = os.path.join(BASE_DIR, 'data', 'Poker_Hand_dataset', 'poker-hand-training-true.data')\n",
    "test_path  = os.path.join(BASE_DIR, 'data', 'Poker_Hand_dataset', 'poker-hand-testing.data')\n",
    "\n",
    "# if PART == 'a':\n",
    "\n",
    "Xtrain, Ytrain, values_dict = load_data(train_path,train_data=True)\n",
    "Xtest, Ytest = load_data(test_path, values_dict)"
   ]
  },
  {
   "cell_type": "code",
   "execution_count": 86,
   "metadata": {},
   "outputs": [],
   "source": [
    "BATCH_SIZE = 1024\n",
    "NUMBER_OF_INPUTS = 85\n",
    "HIDDEN_LAYERS_UNITS = [10]\n",
    "NUMBER_OF_OUTPUTS = 2\n",
    "LEARNING_RATE = 0.1"
   ]
  },
  {
   "cell_type": "code",
   "execution_count": 161,
   "metadata": {},
   "outputs": [],
   "source": [
    "class NN_architecture:\n",
    "    def __init__(self, learning_rate, batch_size, num_of_inputs, hidden_layer_units, num_of_outputs):\n",
    "        self.learning_rate = learning_rate\n",
    "        self.batch_size = batch_size\n",
    "        self.num_of_inputs = num_of_inputs\n",
    "        self.hidden_layer_list = hidden_layer_units\n",
    "        self.num_of_outputs = num_of_outputs\n",
    "    \n",
    "    def sigmoid_activation(self,data):\n",
    "        return (1.0/1.0 + np.exp(-data))\n",
    "    \n",
    "    def relu_activation(self,data):\n",
    "        return np.multiply(data>0,data)\n",
    "    \n",
    "    def sigmoid_der(self,data):\n",
    "        x = self.sigmoid_activation(data)\n",
    "        return np.multiply(x,1.0-x)\n",
    "    \n",
    "    def relu_der(self,data):\n",
    "        temp = np.ones(data.shape,dtype=float)\n",
    "        return np.multiply(temp>0,temp)\n",
    "                    \n",
    "    def initialize(self):\n",
    "        neuron_count = [self.num_of_inputs]\n",
    "        neuron_count.extend(self.hidden_layer_list)\n",
    "        neuron_count.append(self.num_of_outputs)\n",
    "        self.neuron_count = neuron_count\n",
    "        params = {}\n",
    "        np.random.seed(2189)\n",
    "        \n",
    "        # xavier initialization\n",
    "        for i in range(1, len(neuron_count)):\n",
    "            params[\"W\" + str(i)] = np.random.normal(0,1,(neuron_count[i],neuron_count[i-1]))*np.sqrt(2.0/neuron_count[i-1])\n",
    "            params[\"b\" + str(i)] = np.zeros((neuron_count[i],1),dtype=float)\n",
    "        \n",
    "        self.params = params\n",
    "        self.num_of_layers = len(neuron_count)        \n",
    "        return\n",
    "    \n",
    "    def forward_propagation(self, X, activation_function):        \n",
    "        forward_prop = {}\n",
    "        data = (X.T).copy()\n",
    "        forward_prop[\"a0\"] = data # n*m\n",
    "\n",
    "        for i in range(1,self.num_of_layers-1):\n",
    "            data = np.add(np.dot(self.params[\"W\"+str(i)], data),self.params[\"b\"+str(i)])\n",
    "            forward_prop[\"z\"+str(i)] = data\n",
    "\n",
    "            if activation_function == \"relu\":\n",
    "                data = self.relu_activation(data)\n",
    "            elif activation_function == \"sigmoid\":\n",
    "                data = self.sigmoid_activation(data)\n",
    "\n",
    "            forward_prop[\"a\"+str(i)] = data\n",
    "        \n",
    "        data = np.dot(self.params[\"W\"+str(self.num_of_layers-1)], data) + self.params[\"b\"+str(self.num_of_layers-1)]\n",
    "        forward_prop[\"z\"+str(self.num_of_layers-1)] = data\n",
    "        data = self.sigmoid_activation(data)\n",
    "        forward_prop[\"a\"+str(self.num_of_layers-1)] = data\n",
    "        \n",
    "        self.forward_prop = forward_prop\n",
    "        return\n",
    "    \n",
    "    def backward_propagation(self, Y, activation_function):\n",
    "        backward_prop = {}\n",
    "        dataY = (Y).copy()\n",
    "        backward_prop[\"dz\"+str(self.num_of_layers-1)] = self.forward_prop[\"a\" + str(self.num_of_layers-1)] - Y\n",
    "        \n",
    "        i = self.num_of_layers-2\n",
    "        while i>=0:\n",
    "            temp_mat = np.dot(self.params[\"W\"+str(i+1)].T, backward_prop[\"dz\" + str(i+1)])\n",
    "            \n",
    "            if activation_function == \"sigmoid\":\n",
    "                temp_mat = np.multiply(temp_mat, self.sigmoid_der(self.forward_prop[\"a\"+str(i)]))\n",
    "            elif activation_function == \"relu\":\n",
    "                temp_mat = np.multiply(temp_mat, self.relu_der(self.forward_prop[\"a\"+str(i)]))\n",
    "                \n",
    "            backward_prop[\"dz\" + str(i)] = temp_mat            \n",
    "            i-=1\n",
    "        self.backward_prop = backward_prop\n",
    "        return    \n",
    "    \n",
    "    def update_params(self,Y):\n",
    "        for i in range(1,self.num_of_layers):\n",
    "            self.params[\"W\"+str(i)] = self.params[\"W\"+str(i)] - (self.learning_rate/Y.shape[0])*np.dot(self.backward_prop[\"dz\"+str(i)],(self.forward_prop[\"a\"+str(i-1)]).T)\n",
    "            self.params[\"b\"+str(i)] = self.params[\"b\"+str(i)] - \\\n",
    "                                        ( (self.learning_rate/Y.shape[0])*np.sum(self.backward_prop[\"dz\"+str(i)],axis=1) ).reshape((self.params[\"b\"+str(i)].shape[0],1))\n",
    "        return\n",
    "    \n",
    "    def predict(self,X,activation_function):\n",
    "        data_x = (X.T).copy()\n",
    "        for i in range(1,self.num_of_layers-1):\n",
    "            data_x = np.dot(self.params[\"W\"+str(i)],data_x) + self.params[\"b\"+str(i)]\n",
    "            if activation_function == \"sigmoid\":\n",
    "                data_x = self.sigmoid_activation(data_x)\n",
    "            elif activation_function == \"relu\":\n",
    "                data_x = self.relu_activation(data_x)\n",
    "        data_x = data_x.T\n",
    "        data_x = np.exp(data_x)\n",
    "        data_x = data_x/np.sum(data_x)\n",
    "        return np.argmax(data_x,axis=1)\n",
    "            \n",
    "    \n",
    "    def run(self,X,Y):\n",
    "        self.initialize()\n",
    "        for i in range(10):\n",
    "            print(i)\n",
    "            self.forward_propagation(X,'sigmoid')\n",
    "            self.backward_propagation(Y,'sigmoid')\n",
    "            self.update_params(Y)\n",
    "        self.y_pred = self.predict(X,'sigmoid')\n",
    "            "
   ]
  },
  {
   "cell_type": "code",
   "execution_count": 162,
   "metadata": {},
   "outputs": [
    {
     "name": "stdout",
     "output_type": "stream",
     "text": [
      "0\n",
      "1\n",
      "2\n",
      "3\n",
      "4\n",
      "5\n",
      "6\n",
      "7\n",
      "8\n",
      "9\n"
     ]
    }
   ],
   "source": [
    "model = NN_architecture(LEARNING_RATE,BATCH_SIZE,NUMBER_OF_INPUTS,HIDDEN_LAYERS_UNITS,NUMBER_OF_OUTPUTS)\n",
    "model.run(Xtrain,Ytrain)"
   ]
  },
  {
   "cell_type": "code",
   "execution_count": 163,
   "metadata": {},
   "outputs": [
    {
     "name": "stdout",
     "output_type": "stream",
     "text": [
      "[85, 10, 2]\n"
     ]
    }
   ],
   "source": [
    "print(model.neuron_count)"
   ]
  },
  {
   "cell_type": "code",
   "execution_count": 164,
   "metadata": {},
   "outputs": [
    {
     "data": {
      "text/plain": [
       "(2, 10)"
      ]
     },
     "execution_count": 164,
     "metadata": {},
     "output_type": "execute_result"
    }
   ],
   "source": [
    "model.params[\"W2\"].shape"
   ]
  },
  {
   "cell_type": "code",
   "execution_count": 171,
   "metadata": {},
   "outputs": [
    {
     "name": "stdout",
     "output_type": "stream",
     "text": [
      "[[nan]\n",
      " [nan]\n",
      " [nan]\n",
      " [nan]\n",
      " [nan]\n",
      " [nan]\n",
      " [nan]\n",
      " [nan]\n",
      " [nan]\n",
      " [nan]]\n"
     ]
    }
   ],
   "source": [
    "print(model.params[\"b1\"])"
   ]
  },
  {
   "cell_type": "code",
   "execution_count": null,
   "metadata": {},
   "outputs": [],
   "source": []
  }
 ],
 "metadata": {
  "interpreter": {
   "hash": "916dbcbb3f70747c44a77c7bcd40155683ae19c65e1c03b4aa3499c5328201f1"
  },
  "kernelspec": {
   "display_name": "Python 3.8.10 64-bit",
   "name": "python3"
  },
  "language_info": {
   "codemirror_mode": {
    "name": "ipython",
    "version": 3
   },
   "file_extension": ".py",
   "mimetype": "text/x-python",
   "name": "python",
   "nbconvert_exporter": "python",
   "pygments_lexer": "ipython3",
   "version": "3.8.10"
  },
  "orig_nbformat": 4
 },
 "nbformat": 4,
 "nbformat_minor": 2
}
